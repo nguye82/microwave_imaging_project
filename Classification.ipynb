{
 "cells": [
  {
   "cell_type": "markdown",
   "metadata": {},
   "source": [
    "### Classification for Shape Image Data (Square, Triangle Circle) from 2-3 Different Frequencies "
   ]
  },
  {
   "cell_type": "code",
   "execution_count": 1,
   "metadata": {},
   "outputs": [],
   "source": [
    "from ReadData import *\n",
    "import matplotlib.pyplot as plt\n",
    "import numpy as np\n",
    "import pandas as pd\n",
    "from sklearn.model_selection import train_test_split\n",
    "from sklearn.ensemble import RandomForestClassifier\n",
    "from sklearn.metrics import accuracy_score\n",
    "from sklearn import svm\n",
    "from sklearn.model_selection import cross_val_score\n"
   ]
  },
  {
   "cell_type": "markdown",
   "metadata": {},
   "source": [
    "Read in the square and circle images "
   ]
  },
  {
   "cell_type": "code",
   "execution_count": 2,
   "metadata": {},
   "outputs": [],
   "source": [
    "def readData(path, getTargetName = False):\n",
    "    # print(getTargetName)\n",
    "    data = getEMData(path)\n",
    "    target = []\n",
    "    field = []\n",
    "    freq = []\n",
    "    if getTargetName:\n",
    "        targetName = []\n",
    "        upper_case = [char for char in path if char.isupper()]\n",
    "        target_name = path[path.index(upper_case[0]):path.index(upper_case[1])]\n",
    "\n",
    "    for i in range(0, len(data)):\n",
    "        target.append(data[i].target)\n",
    "        field.append(data[i].Esct.real)\n",
    "        freq.append(data[i].freq)\n",
    "        if getTargetName: targetName.append(target_name)\n",
    "\n",
    "    field = np.array(field)\n",
    "    target = np.array(target)\n",
    "    freq = np.array(freq)\n",
    "    if getTargetName: targetName = np.array(targetName)\n",
    "\n",
    "    result = (field, target, freq)\n",
    "    if getTargetName: result = (field, target, freq, targetName)\n",
    "    return result"
   ]
  },
  {
   "cell_type": "code",
   "execution_count": 3,
   "metadata": {},
   "outputs": [
    {
     "name": "stdout",
     "output_type": "stream",
     "text": [
      "Read 310 samples\n"
     ]
    }
   ],
   "source": [
    "fieldCirc, targetCirc, freqCirc, shapeCirc = readData(path = \"./CircDifFreq/\", getTargetName=True)"
   ]
  },
  {
   "cell_type": "code",
   "execution_count": 4,
   "metadata": {},
   "outputs": [
    {
     "name": "stdout",
     "output_type": "stream",
     "text": [
      "Read 350 samples\n"
     ]
    }
   ],
   "source": [
    "fieldTri, targetTri, freqTri, shapeTri = readData(\"./TriangleDifFreq/\", True)"
   ]
  },
  {
   "cell_type": "code",
   "execution_count": 6,
   "metadata": {},
   "outputs": [],
   "source": [
    "fieldCT = np.concatenate((fieldCirc, fieldTri))\n",
    "targetCT = np.concatenate((targetCirc, targetTri))\n",
    "freqCT = np.concatenate((freqCirc, freqTri))\n",
    "shapeCT = np.concatenate((shapeCirc, shapeTri))"
   ]
  },
  {
   "cell_type": "code",
   "execution_count": 7,
   "metadata": {},
   "outputs": [],
   "source": [
    "field_train_CT, field_test_CT, target_train_CT, target_test_CT, freq_train_CT, freq_test_CT, shape_train_CT, shape_test_CT  = train_test_split(\n",
    "    fieldCT, targetCT, freqCT, shapeCT, test_size=0.20, random_state=123)"
   ]
  },
  {
   "cell_type": "code",
   "execution_count": 9,
   "metadata": {},
   "outputs": [
    {
     "data": {
      "text/plain": [
       "[(132, 576), (528, 576)]"
      ]
     },
     "execution_count": 9,
     "metadata": {},
     "output_type": "execute_result"
    }
   ],
   "source": [
    "field_test_CT = field_test_CT.reshape(len(field_test_CT),-1)\n",
    "\n",
    "field_train_CT = field_train_CT.reshape(len(field_train_CT),-1)\n",
    "\n",
    "[field_test_CT.shape, field_train_CT.shape]"
   ]
  },
  {
   "cell_type": "code",
   "execution_count": 10,
   "metadata": {},
   "outputs": [],
   "source": [
    "rdf_clf = RandomForestClassifier(bootstrap = False, \n",
    "                                max_features='sqrt',\n",
    "                                n_jobs=1, \n",
    "                                random_state=123)"
   ]
  },
  {
   "cell_type": "code",
   "execution_count": 11,
   "metadata": {},
   "outputs": [],
   "source": [
    "svm_clf = svm.SVC(kernel=\"rbf\", random_state=123)"
   ]
  },
  {
   "cell_type": "markdown",
   "metadata": {},
   "source": [
    "Binary Classification by Shape"
   ]
  },
  {
   "cell_type": "code",
   "execution_count": 94,
   "metadata": {},
   "outputs": [],
   "source": [
    "rdf_clf1 = rdf_clf.fit(field_train_CT, shape_train_CT)"
   ]
  },
  {
   "cell_type": "code",
   "execution_count": 95,
   "metadata": {},
   "outputs": [
    {
     "name": "stdout",
     "output_type": "stream",
     "text": [
      "Accuracy: 0.9924242424242424\n"
     ]
    }
   ],
   "source": [
    "preds = rdf_clf1.predict(field_test_CT)\n",
    "print(\"Accuracy:\", accuracy_score(shape_test_CT,preds))"
   ]
  },
  {
   "cell_type": "code",
   "execution_count": 96,
   "metadata": {},
   "outputs": [],
   "source": [
    "svm1 = svm_clf.fit(field_train_CT, shape_train_CT)"
   ]
  },
  {
   "cell_type": "code",
   "execution_count": 97,
   "metadata": {},
   "outputs": [
    {
     "name": "stdout",
     "output_type": "stream",
     "text": [
      "Accuracy: 0.9696969696969697\n"
     ]
    }
   ],
   "source": [
    "preds1 = svm1.predict(field_test_CT)\n",
    "print(\"Accuracy:\", accuracy_score(shape_test_CT,preds1))"
   ]
  },
  {
   "cell_type": "code",
   "execution_count": 16,
   "metadata": {},
   "outputs": [
    {
     "data": {
      "text/plain": [
       "array(['Circ', 'Triangle', 'Circ', 'Triangle', 'Circ', 'Circ', 'Triangle',\n",
       "       'Circ', 'Triangle', 'Triangle', 'Triangle', 'Circ', 'Circ', 'Circ',\n",
       "       'Circ', 'Circ', 'Triangle', 'Triangle', 'Circ', 'Triangle', 'Circ',\n",
       "       'Circ', 'Triangle', 'Triangle', 'Triangle', 'Circ', 'Circ', 'Circ',\n",
       "       'Triangle', 'Triangle', 'Triangle', 'Triangle', 'Triangle',\n",
       "       'Triangle', 'Triangle', 'Triangle', 'Triangle', 'Triangle', 'Circ',\n",
       "       'Circ', 'Circ', 'Circ', 'Triangle', 'Circ', 'Triangle', 'Circ',\n",
       "       'Triangle', 'Triangle', 'Circ', 'Triangle', 'Triangle', 'Circ',\n",
       "       'Triangle', 'Triangle', 'Triangle', 'Triangle', 'Triangle', 'Circ',\n",
       "       'Triangle', 'Triangle', 'Circ', 'Circ', 'Circ', 'Triangle',\n",
       "       'Triangle', 'Circ', 'Circ', 'Triangle', 'Triangle', 'Circ',\n",
       "       'Triangle', 'Triangle', 'Triangle', 'Circ', 'Triangle', 'Triangle',\n",
       "       'Triangle', 'Circ', 'Circ', 'Triangle', 'Triangle', 'Circ',\n",
       "       'Triangle', 'Circ', 'Circ', 'Circ', 'Circ', 'Triangle', 'Triangle',\n",
       "       'Circ', 'Triangle', 'Circ', 'Circ', 'Circ', 'Circ', 'Circ',\n",
       "       'Triangle', 'Triangle', 'Circ', 'Circ', 'Triangle', 'Triangle',\n",
       "       'Circ', 'Triangle', 'Triangle', 'Triangle', 'Circ', 'Triangle',\n",
       "       'Circ', 'Triangle', 'Triangle', 'Triangle', 'Circ', 'Triangle',\n",
       "       'Triangle', 'Triangle', 'Circ', 'Triangle', 'Circ', 'Circ', 'Circ',\n",
       "       'Triangle', 'Circ', 'Triangle', 'Triangle', 'Triangle', 'Circ',\n",
       "       'Circ', 'Triangle', 'Triangle', 'Triangle', 'Circ'], dtype='<U8')"
      ]
     },
     "execution_count": 16,
     "metadata": {},
     "output_type": "execute_result"
    }
   ],
   "source": [
    "shape_test_CT"
   ]
  },
  {
   "cell_type": "code",
   "execution_count": 17,
   "metadata": {},
   "outputs": [
    {
     "name": "stdout",
     "output_type": "stream",
     "text": [
      "Read 390 samples\n"
     ]
    }
   ],
   "source": [
    "fieldSqr, targetSqr, freqSqr, shapeSqr = readData(\"./SqrDifFreq/\", True)"
   ]
  },
  {
   "cell_type": "code",
   "execution_count": 18,
   "metadata": {},
   "outputs": [],
   "source": [
    "fieldSqr = fieldSqr.reshape(len(fieldSqr),-1)\n",
    "shapeSqr = shapeSqr.reshape(len(shapeSqr),-1)"
   ]
  },
  {
   "cell_type": "code",
   "execution_count": 101,
   "metadata": {},
   "outputs": [],
   "source": [
    "predSqr = rdf_clf1.predict(fieldSqr)\n",
    "# print(\"Accuracy:\", accuracy_score(shapeSqr,preds))"
   ]
  },
  {
   "cell_type": "code",
   "execution_count": 102,
   "metadata": {},
   "outputs": [
    {
     "data": {
      "text/plain": [
       "array(['Circ', 'Circ', 'Circ', 'Circ', 'Triangle', 'Circ', 'Circ', 'Circ',\n",
       "       'Circ', 'Circ', 'Circ', 'Circ', 'Circ', 'Circ', 'Circ', 'Circ',\n",
       "       'Circ', 'Triangle', 'Circ', 'Circ', 'Circ', 'Circ', 'Circ', 'Circ',\n",
       "       'Circ', 'Circ', 'Circ', 'Circ', 'Circ', 'Circ', 'Circ', 'Circ',\n",
       "       'Circ', 'Circ', 'Circ', 'Circ', 'Circ', 'Circ', 'Circ', 'Circ',\n",
       "       'Circ', 'Circ', 'Circ', 'Circ', 'Circ', 'Circ', 'Triangle', 'Circ',\n",
       "       'Triangle', 'Triangle', 'Circ', 'Circ', 'Circ', 'Circ', 'Circ',\n",
       "       'Circ', 'Circ', 'Circ', 'Circ', 'Circ', 'Triangle', 'Circ', 'Circ',\n",
       "       'Triangle', 'Triangle', 'Circ', 'Circ', 'Circ', 'Circ', 'Circ',\n",
       "       'Circ', 'Circ', 'Circ', 'Circ', 'Circ', 'Circ', 'Circ', 'Triangle',\n",
       "       'Triangle', 'Circ', 'Circ', 'Triangle', 'Circ', 'Circ', 'Circ',\n",
       "       'Triangle', 'Circ', 'Circ', 'Circ', 'Triangle', 'Circ', 'Circ',\n",
       "       'Circ', 'Circ', 'Circ', 'Circ', 'Circ', 'Circ', 'Circ', 'Circ',\n",
       "       'Circ', 'Circ', 'Circ', 'Circ', 'Circ', 'Circ', 'Circ', 'Circ',\n",
       "       'Circ', 'Circ', 'Circ', 'Triangle', 'Triangle', 'Triangle',\n",
       "       'Triangle', 'Triangle', 'Triangle', 'Triangle', 'Triangle',\n",
       "       'Triangle', 'Circ', 'Circ', 'Triangle', 'Circ', 'Circ', 'Circ',\n",
       "       'Triangle', 'Circ', 'Circ', 'Circ', 'Circ', 'Circ', 'Triangle',\n",
       "       'Circ', 'Circ', 'Triangle', 'Circ', 'Circ', 'Triangle', 'Circ',\n",
       "       'Circ', 'Circ', 'Circ', 'Circ', 'Circ', 'Circ', 'Circ', 'Circ',\n",
       "       'Circ', 'Circ', 'Circ', 'Circ', 'Circ', 'Circ', 'Circ', 'Circ',\n",
       "       'Circ', 'Circ', 'Circ', 'Circ', 'Circ', 'Circ', 'Circ', 'Circ',\n",
       "       'Triangle', 'Circ', 'Triangle', 'Circ', 'Circ', 'Circ', 'Circ',\n",
       "       'Circ', 'Circ', 'Circ', 'Circ', 'Circ', 'Triangle', 'Circ', 'Circ',\n",
       "       'Circ', 'Triangle', 'Triangle', 'Triangle', 'Triangle', 'Triangle',\n",
       "       'Triangle', 'Triangle', 'Triangle', 'Triangle', 'Triangle',\n",
       "       'Triangle', 'Triangle', 'Triangle', 'Triangle', 'Triangle',\n",
       "       'Triangle', 'Triangle', 'Triangle', 'Triangle', 'Triangle',\n",
       "       'Triangle', 'Triangle', 'Triangle', 'Triangle', 'Triangle',\n",
       "       'Triangle', 'Triangle', 'Triangle', 'Triangle', 'Triangle', 'Circ',\n",
       "       'Circ', 'Circ', 'Circ', 'Circ', 'Circ', 'Circ', 'Circ', 'Circ',\n",
       "       'Circ', 'Triangle', 'Triangle', 'Triangle', 'Circ', 'Triangle',\n",
       "       'Triangle', 'Triangle', 'Triangle', 'Triangle', 'Triangle', 'Circ',\n",
       "       'Triangle', 'Circ', 'Triangle', 'Triangle', 'Triangle', 'Circ',\n",
       "       'Circ', 'Triangle', 'Circ', 'Triangle', 'Circ', 'Circ', 'Circ',\n",
       "       'Circ', 'Circ', 'Circ', 'Triangle', 'Circ', 'Triangle', 'Circ',\n",
       "       'Circ', 'Circ', 'Circ', 'Circ', 'Circ', 'Circ', 'Circ', 'Circ',\n",
       "       'Triangle', 'Circ', 'Circ', 'Circ', 'Triangle', 'Circ', 'Circ',\n",
       "       'Circ', 'Circ', 'Circ', 'Circ', 'Circ', 'Circ', 'Circ', 'Circ',\n",
       "       'Circ', 'Circ', 'Circ', 'Triangle', 'Triangle', 'Circ', 'Circ',\n",
       "       'Circ', 'Circ', 'Triangle', 'Circ', 'Circ', 'Circ', 'Circ', 'Circ',\n",
       "       'Triangle', 'Triangle', 'Triangle', 'Triangle', 'Circ', 'Triangle',\n",
       "       'Triangle', 'Triangle', 'Triangle', 'Triangle', 'Triangle',\n",
       "       'Triangle', 'Triangle', 'Triangle', 'Triangle', 'Triangle',\n",
       "       'Triangle', 'Triangle', 'Circ', 'Triangle', 'Triangle', 'Triangle',\n",
       "       'Circ', 'Circ', 'Circ', 'Triangle', 'Circ', 'Circ', 'Circ', 'Circ',\n",
       "       'Triangle', 'Circ', 'Circ', 'Circ', 'Circ', 'Circ', 'Circ',\n",
       "       'Triangle', 'Circ', 'Triangle', 'Circ', 'Circ', 'Circ', 'Circ',\n",
       "       'Circ', 'Circ', 'Circ', 'Circ', 'Circ', 'Circ', 'Circ', 'Circ',\n",
       "       'Circ', 'Circ', 'Triangle', 'Circ', 'Circ', 'Circ', 'Circ', 'Circ',\n",
       "       'Circ', 'Triangle', 'Triangle', 'Circ', 'Circ', 'Circ', 'Circ',\n",
       "       'Circ', 'Circ', 'Circ', 'Circ', 'Circ', 'Circ', 'Circ', 'Triangle',\n",
       "       'Circ', 'Circ', 'Circ', 'Circ', 'Circ', 'Circ', 'Triangle',\n",
       "       'Triangle', 'Triangle', 'Triangle', 'Triangle', 'Triangle',\n",
       "       'Triangle', 'Triangle', 'Triangle', 'Triangle', 'Triangle',\n",
       "       'Triangle', 'Triangle', 'Triangle', 'Triangle', 'Triangle',\n",
       "       'Triangle', 'Triangle', 'Triangle', 'Triangle'], dtype='<U8')"
      ]
     },
     "execution_count": 102,
     "metadata": {},
     "output_type": "execute_result"
    }
   ],
   "source": [
    "predSqr"
   ]
  },
  {
   "cell_type": "code",
   "execution_count": 103,
   "metadata": {},
   "outputs": [
    {
     "data": {
      "text/plain": [
       "Counter({'Circ': 260, 'Triangle': 130})"
      ]
     },
     "execution_count": 103,
     "metadata": {},
     "output_type": "execute_result"
    }
   ],
   "source": [
    "import collections\n",
    "collections.Counter(predSqr)"
   ]
  },
  {
   "cell_type": "code",
   "execution_count": 104,
   "metadata": {},
   "outputs": [
    {
     "name": "stdout",
     "output_type": "stream",
     "text": [
      "[1.e+09 2.e+09 3.e+09]\n",
      "[1.e+09 2.e+09 3.e+09]\n"
     ]
    }
   ],
   "source": [
    "circle_indices = [index for index, shape in enumerate(predSqr) if shape == \"Circ\"]\n",
    "triangle_indices = [index for index, shape in enumerate(predSqr) if shape == \"Triangle\"]\n",
    "\n",
    "print(np.unique(freqSqr[circle_indices]))\n",
    "print(np.unique(freqSqr[triangle_indices]))"
   ]
  },
  {
   "cell_type": "code",
   "execution_count": null,
   "metadata": {},
   "outputs": [],
   "source": []
  },
  {
   "cell_type": "code",
   "execution_count": 105,
   "metadata": {},
   "outputs": [],
   "source": [
    "predSqr_svm = svm1.predict(fieldSqr)\n",
    "# print(\"Accuracy:\", accuracy_score(shapeSqr,preds))"
   ]
  },
  {
   "cell_type": "code",
   "execution_count": 106,
   "metadata": {},
   "outputs": [
    {
     "data": {
      "text/plain": [
       "array(['Circ', 'Circ', 'Circ', 'Circ', 'Circ', 'Circ', 'Circ', 'Circ',\n",
       "       'Circ', 'Circ', 'Circ', 'Circ', 'Circ', 'Circ', 'Circ', 'Circ',\n",
       "       'Circ', 'Circ', 'Circ', 'Circ', 'Circ', 'Circ', 'Circ', 'Circ',\n",
       "       'Circ', 'Circ', 'Circ', 'Circ', 'Circ', 'Circ', 'Circ', 'Circ',\n",
       "       'Circ', 'Circ', 'Circ', 'Circ', 'Circ', 'Circ', 'Circ', 'Circ',\n",
       "       'Circ', 'Circ', 'Circ', 'Circ', 'Circ', 'Circ', 'Circ', 'Circ',\n",
       "       'Circ', 'Circ', 'Circ', 'Circ', 'Circ', 'Circ', 'Circ', 'Circ',\n",
       "       'Circ', 'Circ', 'Circ', 'Circ', 'Circ', 'Circ', 'Circ', 'Circ',\n",
       "       'Circ', 'Circ', 'Circ', 'Circ', 'Circ', 'Circ', 'Circ', 'Circ',\n",
       "       'Circ', 'Circ', 'Circ', 'Circ', 'Circ', 'Triangle', 'Circ', 'Circ',\n",
       "       'Circ', 'Circ', 'Circ', 'Circ', 'Circ', 'Circ', 'Circ', 'Circ',\n",
       "       'Circ', 'Circ', 'Circ', 'Circ', 'Circ', 'Circ', 'Circ', 'Circ',\n",
       "       'Circ', 'Circ', 'Circ', 'Circ', 'Circ', 'Circ', 'Circ', 'Circ',\n",
       "       'Circ', 'Circ', 'Circ', 'Circ', 'Circ', 'Circ', 'Triangle',\n",
       "       'Triangle', 'Triangle', 'Triangle', 'Triangle', 'Triangle',\n",
       "       'Triangle', 'Triangle', 'Triangle', 'Triangle', 'Circ', 'Circ',\n",
       "       'Circ', 'Circ', 'Circ', 'Circ', 'Circ', 'Circ', 'Circ', 'Circ',\n",
       "       'Circ', 'Circ', 'Circ', 'Circ', 'Circ', 'Circ', 'Circ', 'Circ',\n",
       "       'Triangle', 'Circ', 'Circ', 'Circ', 'Circ', 'Circ', 'Circ', 'Circ',\n",
       "       'Circ', 'Circ', 'Circ', 'Circ', 'Circ', 'Circ', 'Circ', 'Circ',\n",
       "       'Circ', 'Circ', 'Circ', 'Circ', 'Circ', 'Circ', 'Circ', 'Circ',\n",
       "       'Circ', 'Circ', 'Circ', 'Circ', 'Triangle', 'Circ', 'Circ', 'Circ',\n",
       "       'Circ', 'Circ', 'Circ', 'Circ', 'Circ', 'Circ', 'Circ', 'Circ',\n",
       "       'Circ', 'Circ', 'Triangle', 'Triangle', 'Triangle', 'Triangle',\n",
       "       'Triangle', 'Triangle', 'Triangle', 'Triangle', 'Triangle',\n",
       "       'Triangle', 'Triangle', 'Triangle', 'Triangle', 'Triangle',\n",
       "       'Triangle', 'Triangle', 'Triangle', 'Triangle', 'Triangle',\n",
       "       'Triangle', 'Triangle', 'Triangle', 'Triangle', 'Triangle',\n",
       "       'Triangle', 'Triangle', 'Triangle', 'Triangle', 'Triangle',\n",
       "       'Triangle', 'Circ', 'Circ', 'Circ', 'Circ', 'Circ', 'Circ', 'Circ',\n",
       "       'Circ', 'Circ', 'Circ', 'Triangle', 'Triangle', 'Triangle',\n",
       "       'Triangle', 'Triangle', 'Triangle', 'Triangle', 'Triangle',\n",
       "       'Triangle', 'Triangle', 'Circ', 'Circ', 'Circ', 'Circ', 'Circ',\n",
       "       'Circ', 'Circ', 'Circ', 'Triangle', 'Circ', 'Circ', 'Circ', 'Circ',\n",
       "       'Circ', 'Circ', 'Circ', 'Circ', 'Circ', 'Circ', 'Circ', 'Circ',\n",
       "       'Circ', 'Circ', 'Circ', 'Circ', 'Circ', 'Circ', 'Circ', 'Circ',\n",
       "       'Circ', 'Circ', 'Circ', 'Circ', 'Circ', 'Circ', 'Circ', 'Circ',\n",
       "       'Circ', 'Circ', 'Circ', 'Circ', 'Circ', 'Circ', 'Circ', 'Circ',\n",
       "       'Circ', 'Circ', 'Circ', 'Circ', 'Circ', 'Circ', 'Circ', 'Circ',\n",
       "       'Circ', 'Circ', 'Circ', 'Circ', 'Circ', 'Circ', 'Circ', 'Triangle',\n",
       "       'Triangle', 'Triangle', 'Triangle', 'Triangle', 'Triangle',\n",
       "       'Triangle', 'Triangle', 'Triangle', 'Triangle', 'Triangle',\n",
       "       'Triangle', 'Triangle', 'Triangle', 'Triangle', 'Triangle',\n",
       "       'Triangle', 'Triangle', 'Triangle', 'Triangle', 'Circ', 'Circ',\n",
       "       'Circ', 'Circ', 'Circ', 'Circ', 'Circ', 'Circ', 'Circ', 'Circ',\n",
       "       'Circ', 'Circ', 'Circ', 'Circ', 'Circ', 'Circ', 'Circ', 'Circ',\n",
       "       'Triangle', 'Circ', 'Circ', 'Circ', 'Circ', 'Circ', 'Circ', 'Circ',\n",
       "       'Circ', 'Circ', 'Circ', 'Circ', 'Circ', 'Circ', 'Circ', 'Circ',\n",
       "       'Circ', 'Circ', 'Circ', 'Circ', 'Circ', 'Circ', 'Circ', 'Circ',\n",
       "       'Circ', 'Circ', 'Circ', 'Circ', 'Circ', 'Circ', 'Circ', 'Circ',\n",
       "       'Circ', 'Circ', 'Circ', 'Circ', 'Circ', 'Circ', 'Circ', 'Circ',\n",
       "       'Circ', 'Circ', 'Triangle', 'Triangle', 'Triangle', 'Triangle',\n",
       "       'Triangle', 'Triangle', 'Triangle', 'Triangle', 'Triangle',\n",
       "       'Triangle', 'Triangle', 'Triangle', 'Triangle', 'Triangle',\n",
       "       'Triangle', 'Triangle', 'Triangle', 'Triangle', 'Triangle',\n",
       "       'Triangle'], dtype='<U8')"
      ]
     },
     "execution_count": 106,
     "metadata": {},
     "output_type": "execute_result"
    }
   ],
   "source": [
    "predSqr_svm"
   ]
  },
  {
   "cell_type": "code",
   "execution_count": 107,
   "metadata": {},
   "outputs": [
    {
     "data": {
      "text/plain": [
       "Counter({'Circ': 295, 'Triangle': 95})"
      ]
     },
     "execution_count": 107,
     "metadata": {},
     "output_type": "execute_result"
    }
   ],
   "source": [
    "import collections\n",
    "collections.Counter(predSqr_svm)"
   ]
  },
  {
   "cell_type": "code",
   "execution_count": 108,
   "metadata": {},
   "outputs": [
    {
     "name": "stdout",
     "output_type": "stream",
     "text": [
      "[1.e+09 2.e+09]\n",
      "[1.e+09 3.e+09]\n"
     ]
    }
   ],
   "source": [
    "circle_indices = [index for index, shape in enumerate(predSqr_svm) if shape == \"Circ\"]\n",
    "triangle_indices = [index for index, shape in enumerate(predSqr_svm) if shape == \"Triangle\"]\n",
    "\n",
    "print(np.unique(freqSqr[circle_indices]))\n",
    "print(np.unique(freqSqr[triangle_indices]))"
   ]
  },
  {
   "cell_type": "markdown",
   "metadata": {},
   "source": [
    "It seems that squares are mostly classified as circles and those squares that are classified as triangles have frequencies 1e9 and 3e9"
   ]
  },
  {
   "cell_type": "code",
   "execution_count": 24,
   "metadata": {},
   "outputs": [
    {
     "data": {
      "text/plain": [
       "[(132, 576), (528, 576)]"
      ]
     },
     "execution_count": 24,
     "metadata": {},
     "output_type": "execute_result"
    }
   ],
   "source": [
    "[field_test_CT.shape, field_train_CT.shape]"
   ]
  },
  {
   "cell_type": "markdown",
   "metadata": {},
   "source": [
    "Binary Classification by Frequency"
   ]
  },
  {
   "cell_type": "code",
   "execution_count": 25,
   "metadata": {},
   "outputs": [],
   "source": [
    "freq_indices = [index for index, freq in enumerate(freqCT) if freq in [1e9,2e9]]"
   ]
  },
  {
   "cell_type": "code",
   "execution_count": 24,
   "metadata": {},
   "outputs": [
    {
     "data": {
      "text/plain": [
       "320"
      ]
     },
     "execution_count": 24,
     "metadata": {},
     "output_type": "execute_result"
    }
   ],
   "source": [
    "len(freq_indices)"
   ]
  },
  {
   "cell_type": "code",
   "execution_count": 26,
   "metadata": {},
   "outputs": [],
   "source": [
    "freqCT_12 = freqCT[freq_indices]\n",
    "shape_12 = shapeCT[freq_indices]\n",
    "fieldCT_12 = fieldCT[freq_indices]\n",
    "targetCT_12 = targetCT[freq_indices]"
   ]
  },
  {
   "cell_type": "code",
   "execution_count": 27,
   "metadata": {},
   "outputs": [],
   "source": [
    "field_train_CT12, field_test_CT12, target_train_CT12, target_test_CT12, freq_train_CT12, freq_test_CT12, shape_train_CT12, shape_test_CT12  = train_test_split(\n",
    "    fieldCT_12, targetCT_12 , freqCT_12, shape_12, test_size=0.20, random_state=567)"
   ]
  },
  {
   "cell_type": "code",
   "execution_count": 28,
   "metadata": {},
   "outputs": [],
   "source": [
    "field_train_CT12, field_valid_CT12, target_train_CT12, target_valid_CT12, freq_train_CT12, freq_valid_CT12, shape_train_CT12, shape_valid_CT12  = train_test_split(\n",
    "    field_train_CT12, target_train_CT12 , freq_train_CT12, shape_train_CT12, test_size=0.20, random_state=567)"
   ]
  },
  {
   "cell_type": "code",
   "execution_count": 29,
   "metadata": {},
   "outputs": [
    {
     "data": {
      "text/plain": [
       "[(98, 576), (313, 576), (79, 576)]"
      ]
     },
     "execution_count": 29,
     "metadata": {},
     "output_type": "execute_result"
    }
   ],
   "source": [
    "field_test_CT12 = field_test_CT12.reshape(len(field_test_CT12),-1)\n",
    "\n",
    "field_train_CT12 = field_train_CT12.reshape(len(field_train_CT12),-1)\n",
    "\n",
    "field_valid_CT12 = field_valid_CT12.reshape(len(field_valid_CT12),-1)\n",
    "\n",
    "[field_test_CT12.shape, field_train_CT12.shape, field_valid_CT12.shape]"
   ]
  },
  {
   "cell_type": "code",
   "execution_count": 30,
   "metadata": {},
   "outputs": [
    {
     "data": {
      "text/html": [
       "<style>#sk-container-id-3 {color: black;background-color: white;}#sk-container-id-3 pre{padding: 0;}#sk-container-id-3 div.sk-toggleable {background-color: white;}#sk-container-id-3 label.sk-toggleable__label {cursor: pointer;display: block;width: 100%;margin-bottom: 0;padding: 0.3em;box-sizing: border-box;text-align: center;}#sk-container-id-3 label.sk-toggleable__label-arrow:before {content: \"▸\";float: left;margin-right: 0.25em;color: #696969;}#sk-container-id-3 label.sk-toggleable__label-arrow:hover:before {color: black;}#sk-container-id-3 div.sk-estimator:hover label.sk-toggleable__label-arrow:before {color: black;}#sk-container-id-3 div.sk-toggleable__content {max-height: 0;max-width: 0;overflow: hidden;text-align: left;background-color: #f0f8ff;}#sk-container-id-3 div.sk-toggleable__content pre {margin: 0.2em;color: black;border-radius: 0.25em;background-color: #f0f8ff;}#sk-container-id-3 input.sk-toggleable__control:checked~div.sk-toggleable__content {max-height: 200px;max-width: 100%;overflow: auto;}#sk-container-id-3 input.sk-toggleable__control:checked~label.sk-toggleable__label-arrow:before {content: \"▾\";}#sk-container-id-3 div.sk-estimator input.sk-toggleable__control:checked~label.sk-toggleable__label {background-color: #d4ebff;}#sk-container-id-3 div.sk-label input.sk-toggleable__control:checked~label.sk-toggleable__label {background-color: #d4ebff;}#sk-container-id-3 input.sk-hidden--visually {border: 0;clip: rect(1px 1px 1px 1px);clip: rect(1px, 1px, 1px, 1px);height: 1px;margin: -1px;overflow: hidden;padding: 0;position: absolute;width: 1px;}#sk-container-id-3 div.sk-estimator {font-family: monospace;background-color: #f0f8ff;border: 1px dotted black;border-radius: 0.25em;box-sizing: border-box;margin-bottom: 0.5em;}#sk-container-id-3 div.sk-estimator:hover {background-color: #d4ebff;}#sk-container-id-3 div.sk-parallel-item::after {content: \"\";width: 100%;border-bottom: 1px solid gray;flex-grow: 1;}#sk-container-id-3 div.sk-label:hover label.sk-toggleable__label {background-color: #d4ebff;}#sk-container-id-3 div.sk-serial::before {content: \"\";position: absolute;border-left: 1px solid gray;box-sizing: border-box;top: 0;bottom: 0;left: 50%;z-index: 0;}#sk-container-id-3 div.sk-serial {display: flex;flex-direction: column;align-items: center;background-color: white;padding-right: 0.2em;padding-left: 0.2em;position: relative;}#sk-container-id-3 div.sk-item {position: relative;z-index: 1;}#sk-container-id-3 div.sk-parallel {display: flex;align-items: stretch;justify-content: center;background-color: white;position: relative;}#sk-container-id-3 div.sk-item::before, #sk-container-id-3 div.sk-parallel-item::before {content: \"\";position: absolute;border-left: 1px solid gray;box-sizing: border-box;top: 0;bottom: 0;left: 50%;z-index: -1;}#sk-container-id-3 div.sk-parallel-item {display: flex;flex-direction: column;z-index: 1;position: relative;background-color: white;}#sk-container-id-3 div.sk-parallel-item:first-child::after {align-self: flex-end;width: 50%;}#sk-container-id-3 div.sk-parallel-item:last-child::after {align-self: flex-start;width: 50%;}#sk-container-id-3 div.sk-parallel-item:only-child::after {width: 0;}#sk-container-id-3 div.sk-dashed-wrapped {border: 1px dashed gray;margin: 0 0.4em 0.5em 0.4em;box-sizing: border-box;padding-bottom: 0.4em;background-color: white;}#sk-container-id-3 div.sk-label label {font-family: monospace;font-weight: bold;display: inline-block;line-height: 1.2em;}#sk-container-id-3 div.sk-label-container {text-align: center;}#sk-container-id-3 div.sk-container {/* jupyter's `normalize.less` sets `[hidden] { display: none; }` but bootstrap.min.css set `[hidden] { display: none !important; }` so we also need the `!important` here to be able to override the default hidden behavior on the sphinx rendered scikit-learn.org. See: https://github.com/scikit-learn/scikit-learn/issues/21755 */display: inline-block !important;position: relative;}#sk-container-id-3 div.sk-text-repr-fallback {display: none;}</style><div id=\"sk-container-id-3\" class=\"sk-top-container\"><div class=\"sk-text-repr-fallback\"><pre>RandomForestClassifier(bootstrap=False, n_jobs=1, random_state=123)</pre><b>In a Jupyter environment, please rerun this cell to show the HTML representation or trust the notebook. <br />On GitHub, the HTML representation is unable to render, please try loading this page with nbviewer.org.</b></div><div class=\"sk-container\" hidden><div class=\"sk-item\"><div class=\"sk-estimator sk-toggleable\"><input class=\"sk-toggleable__control sk-hidden--visually\" id=\"sk-estimator-id-3\" type=\"checkbox\" checked><label for=\"sk-estimator-id-3\" class=\"sk-toggleable__label sk-toggleable__label-arrow\">RandomForestClassifier</label><div class=\"sk-toggleable__content\"><pre>RandomForestClassifier(bootstrap=False, n_jobs=1, random_state=123)</pre></div></div></div></div></div>"
      ],
      "text/plain": [
       "RandomForestClassifier(bootstrap=False, n_jobs=1, random_state=123)"
      ]
     },
     "execution_count": 30,
     "metadata": {},
     "output_type": "execute_result"
    }
   ],
   "source": [
    "rdf_clf.fit(field_train_CT12, freq_train_CT12)"
   ]
  },
  {
   "cell_type": "code",
   "execution_count": 31,
   "metadata": {},
   "outputs": [
    {
     "name": "stdout",
     "output_type": "stream",
     "text": [
      "Accuracy: 1.0\n"
     ]
    }
   ],
   "source": [
    "preds2 = rdf_clf.predict(field_valid_CT12)\n",
    "print(\"Accuracy:\", accuracy_score(freq_valid_CT12,preds2))"
   ]
  },
  {
   "cell_type": "code",
   "execution_count": 32,
   "metadata": {},
   "outputs": [
    {
     "data": {
      "text/plain": [
       "array([1., 1., 1., 1., 1.])"
      ]
     },
     "execution_count": 32,
     "metadata": {},
     "output_type": "execute_result"
    }
   ],
   "source": [
    "cross_val_score(rdf_clf, field_train_CT12, freq_train_CT12, cv=5, scoring=\"accuracy\")"
   ]
  },
  {
   "cell_type": "markdown",
   "metadata": {},
   "source": [
    "Might be overfit, try with a larger dataset"
   ]
  },
  {
   "cell_type": "code",
   "execution_count": 33,
   "metadata": {},
   "outputs": [
    {
     "data": {
      "text/html": [
       "<style>#sk-container-id-4 {color: black;background-color: white;}#sk-container-id-4 pre{padding: 0;}#sk-container-id-4 div.sk-toggleable {background-color: white;}#sk-container-id-4 label.sk-toggleable__label {cursor: pointer;display: block;width: 100%;margin-bottom: 0;padding: 0.3em;box-sizing: border-box;text-align: center;}#sk-container-id-4 label.sk-toggleable__label-arrow:before {content: \"▸\";float: left;margin-right: 0.25em;color: #696969;}#sk-container-id-4 label.sk-toggleable__label-arrow:hover:before {color: black;}#sk-container-id-4 div.sk-estimator:hover label.sk-toggleable__label-arrow:before {color: black;}#sk-container-id-4 div.sk-toggleable__content {max-height: 0;max-width: 0;overflow: hidden;text-align: left;background-color: #f0f8ff;}#sk-container-id-4 div.sk-toggleable__content pre {margin: 0.2em;color: black;border-radius: 0.25em;background-color: #f0f8ff;}#sk-container-id-4 input.sk-toggleable__control:checked~div.sk-toggleable__content {max-height: 200px;max-width: 100%;overflow: auto;}#sk-container-id-4 input.sk-toggleable__control:checked~label.sk-toggleable__label-arrow:before {content: \"▾\";}#sk-container-id-4 div.sk-estimator input.sk-toggleable__control:checked~label.sk-toggleable__label {background-color: #d4ebff;}#sk-container-id-4 div.sk-label input.sk-toggleable__control:checked~label.sk-toggleable__label {background-color: #d4ebff;}#sk-container-id-4 input.sk-hidden--visually {border: 0;clip: rect(1px 1px 1px 1px);clip: rect(1px, 1px, 1px, 1px);height: 1px;margin: -1px;overflow: hidden;padding: 0;position: absolute;width: 1px;}#sk-container-id-4 div.sk-estimator {font-family: monospace;background-color: #f0f8ff;border: 1px dotted black;border-radius: 0.25em;box-sizing: border-box;margin-bottom: 0.5em;}#sk-container-id-4 div.sk-estimator:hover {background-color: #d4ebff;}#sk-container-id-4 div.sk-parallel-item::after {content: \"\";width: 100%;border-bottom: 1px solid gray;flex-grow: 1;}#sk-container-id-4 div.sk-label:hover label.sk-toggleable__label {background-color: #d4ebff;}#sk-container-id-4 div.sk-serial::before {content: \"\";position: absolute;border-left: 1px solid gray;box-sizing: border-box;top: 0;bottom: 0;left: 50%;z-index: 0;}#sk-container-id-4 div.sk-serial {display: flex;flex-direction: column;align-items: center;background-color: white;padding-right: 0.2em;padding-left: 0.2em;position: relative;}#sk-container-id-4 div.sk-item {position: relative;z-index: 1;}#sk-container-id-4 div.sk-parallel {display: flex;align-items: stretch;justify-content: center;background-color: white;position: relative;}#sk-container-id-4 div.sk-item::before, #sk-container-id-4 div.sk-parallel-item::before {content: \"\";position: absolute;border-left: 1px solid gray;box-sizing: border-box;top: 0;bottom: 0;left: 50%;z-index: -1;}#sk-container-id-4 div.sk-parallel-item {display: flex;flex-direction: column;z-index: 1;position: relative;background-color: white;}#sk-container-id-4 div.sk-parallel-item:first-child::after {align-self: flex-end;width: 50%;}#sk-container-id-4 div.sk-parallel-item:last-child::after {align-self: flex-start;width: 50%;}#sk-container-id-4 div.sk-parallel-item:only-child::after {width: 0;}#sk-container-id-4 div.sk-dashed-wrapped {border: 1px dashed gray;margin: 0 0.4em 0.5em 0.4em;box-sizing: border-box;padding-bottom: 0.4em;background-color: white;}#sk-container-id-4 div.sk-label label {font-family: monospace;font-weight: bold;display: inline-block;line-height: 1.2em;}#sk-container-id-4 div.sk-label-container {text-align: center;}#sk-container-id-4 div.sk-container {/* jupyter's `normalize.less` sets `[hidden] { display: none; }` but bootstrap.min.css set `[hidden] { display: none !important; }` so we also need the `!important` here to be able to override the default hidden behavior on the sphinx rendered scikit-learn.org. See: https://github.com/scikit-learn/scikit-learn/issues/21755 */display: inline-block !important;position: relative;}#sk-container-id-4 div.sk-text-repr-fallback {display: none;}</style><div id=\"sk-container-id-4\" class=\"sk-top-container\"><div class=\"sk-text-repr-fallback\"><pre>SVC(random_state=123)</pre><b>In a Jupyter environment, please rerun this cell to show the HTML representation or trust the notebook. <br />On GitHub, the HTML representation is unable to render, please try loading this page with nbviewer.org.</b></div><div class=\"sk-container\" hidden><div class=\"sk-item\"><div class=\"sk-estimator sk-toggleable\"><input class=\"sk-toggleable__control sk-hidden--visually\" id=\"sk-estimator-id-4\" type=\"checkbox\" checked><label for=\"sk-estimator-id-4\" class=\"sk-toggleable__label sk-toggleable__label-arrow\">SVC</label><div class=\"sk-toggleable__content\"><pre>SVC(random_state=123)</pre></div></div></div></div></div>"
      ],
      "text/plain": [
       "SVC(random_state=123)"
      ]
     },
     "execution_count": 33,
     "metadata": {},
     "output_type": "execute_result"
    }
   ],
   "source": [
    "svm_clf.fit(field_train_CT12,freq_train_CT12)"
   ]
  },
  {
   "cell_type": "code",
   "execution_count": 34,
   "metadata": {},
   "outputs": [
    {
     "name": "stdout",
     "output_type": "stream",
     "text": [
      "Accuracy: 0.9897959183673469\n"
     ]
    }
   ],
   "source": [
    "preds3 = svm_clf.predict(field_test_CT12)\n",
    "print(\"Accuracy:\", accuracy_score(freq_test_CT12,preds3))"
   ]
  },
  {
   "cell_type": "code",
   "execution_count": null,
   "metadata": {},
   "outputs": [],
   "source": []
  },
  {
   "cell_type": "code",
   "execution_count": null,
   "metadata": {},
   "outputs": [],
   "source": []
  },
  {
   "cell_type": "code",
   "execution_count": 35,
   "metadata": {},
   "outputs": [],
   "source": [
    "freq_indices_13 = [index for index, freq in enumerate(freqCT) if freq in [1e9,3e9]]"
   ]
  },
  {
   "cell_type": "code",
   "execution_count": 36,
   "metadata": {},
   "outputs": [],
   "source": [
    "freqCT_13 = freqCT[freq_indices_13]\n",
    "shape_13 = shapeCT[freq_indices_13]\n",
    "fieldCT_13 = fieldCT[freq_indices_13]\n",
    "targetCT_13 = targetCT[freq_indices_13]"
   ]
  },
  {
   "cell_type": "code",
   "execution_count": 37,
   "metadata": {},
   "outputs": [],
   "source": [
    "field_train_CT13, field_test_CT13, target_train_CT13, target_test_CT13, freq_train_CT13, freq_test_CT13, shape_train_CT13, shape_test_CT13  = train_test_split(\n",
    "    fieldCT_13, targetCT_13 , freqCT_13, shape_13, test_size=0.20, random_state=567)"
   ]
  },
  {
   "cell_type": "code",
   "execution_count": 38,
   "metadata": {},
   "outputs": [],
   "source": [
    "field_train_CT13, field_valid_CT13, target_train_CT13, target_valid_CT13, freq_train_CT13, freq_valid_CT13, shape_train_CT13, shape_valid_CT13  = train_test_split(\n",
    "    field_train_CT13, target_train_CT13 , freq_train_CT13, shape_train_CT13, test_size=0.20, random_state=567)"
   ]
  },
  {
   "cell_type": "code",
   "execution_count": 39,
   "metadata": {},
   "outputs": [
    {
     "data": {
      "text/plain": [
       "[(86, 576), (275, 576)]"
      ]
     },
     "execution_count": 39,
     "metadata": {},
     "output_type": "execute_result"
    }
   ],
   "source": [
    "field_test_CT13 = field_test_CT13.reshape(len(field_test_CT13),-1)\n",
    "\n",
    "field_train_CT13 = field_train_CT13.reshape(len(field_train_CT13),-1)\n",
    "\n",
    "field_valid_CT13 = field_valid_CT13.reshape(len(field_valid_CT13),-1)\n",
    "\n",
    "[field_test_CT13.shape, field_train_CT13.shape]"
   ]
  },
  {
   "cell_type": "code",
   "execution_count": 70,
   "metadata": {},
   "outputs": [
    {
     "name": "stdout",
     "output_type": "stream",
     "text": [
      "binary\n",
      "continuous\n"
     ]
    }
   ],
   "source": [
    "from sklearn import utils\n",
    "print(utils.multiclass.type_of_target(freq_train_CT12))\n",
    "print(utils.multiclass.type_of_target(freq_train_CT13))"
   ]
  },
  {
   "cell_type": "code",
   "execution_count": 40,
   "metadata": {},
   "outputs": [],
   "source": [
    "from sklearn import preprocessing\n",
    "lab_enc = preprocessing.LabelEncoder()\n",
    "encoded_freq_train_CT13 = lab_enc.fit_transform(freq_train_CT13)"
   ]
  },
  {
   "cell_type": "code",
   "execution_count": 41,
   "metadata": {},
   "outputs": [
    {
     "data": {
      "text/html": [
       "<style>#sk-container-id-5 {color: black;background-color: white;}#sk-container-id-5 pre{padding: 0;}#sk-container-id-5 div.sk-toggleable {background-color: white;}#sk-container-id-5 label.sk-toggleable__label {cursor: pointer;display: block;width: 100%;margin-bottom: 0;padding: 0.3em;box-sizing: border-box;text-align: center;}#sk-container-id-5 label.sk-toggleable__label-arrow:before {content: \"▸\";float: left;margin-right: 0.25em;color: #696969;}#sk-container-id-5 label.sk-toggleable__label-arrow:hover:before {color: black;}#sk-container-id-5 div.sk-estimator:hover label.sk-toggleable__label-arrow:before {color: black;}#sk-container-id-5 div.sk-toggleable__content {max-height: 0;max-width: 0;overflow: hidden;text-align: left;background-color: #f0f8ff;}#sk-container-id-5 div.sk-toggleable__content pre {margin: 0.2em;color: black;border-radius: 0.25em;background-color: #f0f8ff;}#sk-container-id-5 input.sk-toggleable__control:checked~div.sk-toggleable__content {max-height: 200px;max-width: 100%;overflow: auto;}#sk-container-id-5 input.sk-toggleable__control:checked~label.sk-toggleable__label-arrow:before {content: \"▾\";}#sk-container-id-5 div.sk-estimator input.sk-toggleable__control:checked~label.sk-toggleable__label {background-color: #d4ebff;}#sk-container-id-5 div.sk-label input.sk-toggleable__control:checked~label.sk-toggleable__label {background-color: #d4ebff;}#sk-container-id-5 input.sk-hidden--visually {border: 0;clip: rect(1px 1px 1px 1px);clip: rect(1px, 1px, 1px, 1px);height: 1px;margin: -1px;overflow: hidden;padding: 0;position: absolute;width: 1px;}#sk-container-id-5 div.sk-estimator {font-family: monospace;background-color: #f0f8ff;border: 1px dotted black;border-radius: 0.25em;box-sizing: border-box;margin-bottom: 0.5em;}#sk-container-id-5 div.sk-estimator:hover {background-color: #d4ebff;}#sk-container-id-5 div.sk-parallel-item::after {content: \"\";width: 100%;border-bottom: 1px solid gray;flex-grow: 1;}#sk-container-id-5 div.sk-label:hover label.sk-toggleable__label {background-color: #d4ebff;}#sk-container-id-5 div.sk-serial::before {content: \"\";position: absolute;border-left: 1px solid gray;box-sizing: border-box;top: 0;bottom: 0;left: 50%;z-index: 0;}#sk-container-id-5 div.sk-serial {display: flex;flex-direction: column;align-items: center;background-color: white;padding-right: 0.2em;padding-left: 0.2em;position: relative;}#sk-container-id-5 div.sk-item {position: relative;z-index: 1;}#sk-container-id-5 div.sk-parallel {display: flex;align-items: stretch;justify-content: center;background-color: white;position: relative;}#sk-container-id-5 div.sk-item::before, #sk-container-id-5 div.sk-parallel-item::before {content: \"\";position: absolute;border-left: 1px solid gray;box-sizing: border-box;top: 0;bottom: 0;left: 50%;z-index: -1;}#sk-container-id-5 div.sk-parallel-item {display: flex;flex-direction: column;z-index: 1;position: relative;background-color: white;}#sk-container-id-5 div.sk-parallel-item:first-child::after {align-self: flex-end;width: 50%;}#sk-container-id-5 div.sk-parallel-item:last-child::after {align-self: flex-start;width: 50%;}#sk-container-id-5 div.sk-parallel-item:only-child::after {width: 0;}#sk-container-id-5 div.sk-dashed-wrapped {border: 1px dashed gray;margin: 0 0.4em 0.5em 0.4em;box-sizing: border-box;padding-bottom: 0.4em;background-color: white;}#sk-container-id-5 div.sk-label label {font-family: monospace;font-weight: bold;display: inline-block;line-height: 1.2em;}#sk-container-id-5 div.sk-label-container {text-align: center;}#sk-container-id-5 div.sk-container {/* jupyter's `normalize.less` sets `[hidden] { display: none; }` but bootstrap.min.css set `[hidden] { display: none !important; }` so we also need the `!important` here to be able to override the default hidden behavior on the sphinx rendered scikit-learn.org. See: https://github.com/scikit-learn/scikit-learn/issues/21755 */display: inline-block !important;position: relative;}#sk-container-id-5 div.sk-text-repr-fallback {display: none;}</style><div id=\"sk-container-id-5\" class=\"sk-top-container\"><div class=\"sk-text-repr-fallback\"><pre>RandomForestClassifier(bootstrap=False, n_jobs=1, random_state=123)</pre><b>In a Jupyter environment, please rerun this cell to show the HTML representation or trust the notebook. <br />On GitHub, the HTML representation is unable to render, please try loading this page with nbviewer.org.</b></div><div class=\"sk-container\" hidden><div class=\"sk-item\"><div class=\"sk-estimator sk-toggleable\"><input class=\"sk-toggleable__control sk-hidden--visually\" id=\"sk-estimator-id-5\" type=\"checkbox\" checked><label for=\"sk-estimator-id-5\" class=\"sk-toggleable__label sk-toggleable__label-arrow\">RandomForestClassifier</label><div class=\"sk-toggleable__content\"><pre>RandomForestClassifier(bootstrap=False, n_jobs=1, random_state=123)</pre></div></div></div></div></div>"
      ],
      "text/plain": [
       "RandomForestClassifier(bootstrap=False, n_jobs=1, random_state=123)"
      ]
     },
     "execution_count": 41,
     "metadata": {},
     "output_type": "execute_result"
    }
   ],
   "source": [
    "rdf_clf.fit(field_train_CT13, encoded_freq_train_CT13)"
   ]
  },
  {
   "cell_type": "code",
   "execution_count": 42,
   "metadata": {},
   "outputs": [
    {
     "name": "stdout",
     "output_type": "stream",
     "text": [
      "Accuracy: 1.0\n"
     ]
    }
   ],
   "source": [
    "preds4 = rdf_clf.predict(field_valid_CT13)\n",
    "print(\"Accuracy:\", accuracy_score(lab_enc.fit_transform(freq_valid_CT13),preds4))"
   ]
  },
  {
   "cell_type": "code",
   "execution_count": 43,
   "metadata": {},
   "outputs": [
    {
     "data": {
      "text/plain": [
       "array([1.        , 1.        , 0.98181818, 1.        , 1.        ])"
      ]
     },
     "execution_count": 43,
     "metadata": {},
     "output_type": "execute_result"
    }
   ],
   "source": [
    "cross_val_score(rdf_clf, field_train_CT13, encoded_freq_train_CT13, cv=5, scoring=\"accuracy\")"
   ]
  },
  {
   "cell_type": "markdown",
   "metadata": {},
   "source": [
    "Might be overfit, try with a larger dataset. or images with different frequencies have significantly different field images so the model can easily classify it??"
   ]
  },
  {
   "cell_type": "code",
   "execution_count": 44,
   "metadata": {},
   "outputs": [
    {
     "data": {
      "text/html": [
       "<style>#sk-container-id-6 {color: black;background-color: white;}#sk-container-id-6 pre{padding: 0;}#sk-container-id-6 div.sk-toggleable {background-color: white;}#sk-container-id-6 label.sk-toggleable__label {cursor: pointer;display: block;width: 100%;margin-bottom: 0;padding: 0.3em;box-sizing: border-box;text-align: center;}#sk-container-id-6 label.sk-toggleable__label-arrow:before {content: \"▸\";float: left;margin-right: 0.25em;color: #696969;}#sk-container-id-6 label.sk-toggleable__label-arrow:hover:before {color: black;}#sk-container-id-6 div.sk-estimator:hover label.sk-toggleable__label-arrow:before {color: black;}#sk-container-id-6 div.sk-toggleable__content {max-height: 0;max-width: 0;overflow: hidden;text-align: left;background-color: #f0f8ff;}#sk-container-id-6 div.sk-toggleable__content pre {margin: 0.2em;color: black;border-radius: 0.25em;background-color: #f0f8ff;}#sk-container-id-6 input.sk-toggleable__control:checked~div.sk-toggleable__content {max-height: 200px;max-width: 100%;overflow: auto;}#sk-container-id-6 input.sk-toggleable__control:checked~label.sk-toggleable__label-arrow:before {content: \"▾\";}#sk-container-id-6 div.sk-estimator input.sk-toggleable__control:checked~label.sk-toggleable__label {background-color: #d4ebff;}#sk-container-id-6 div.sk-label input.sk-toggleable__control:checked~label.sk-toggleable__label {background-color: #d4ebff;}#sk-container-id-6 input.sk-hidden--visually {border: 0;clip: rect(1px 1px 1px 1px);clip: rect(1px, 1px, 1px, 1px);height: 1px;margin: -1px;overflow: hidden;padding: 0;position: absolute;width: 1px;}#sk-container-id-6 div.sk-estimator {font-family: monospace;background-color: #f0f8ff;border: 1px dotted black;border-radius: 0.25em;box-sizing: border-box;margin-bottom: 0.5em;}#sk-container-id-6 div.sk-estimator:hover {background-color: #d4ebff;}#sk-container-id-6 div.sk-parallel-item::after {content: \"\";width: 100%;border-bottom: 1px solid gray;flex-grow: 1;}#sk-container-id-6 div.sk-label:hover label.sk-toggleable__label {background-color: #d4ebff;}#sk-container-id-6 div.sk-serial::before {content: \"\";position: absolute;border-left: 1px solid gray;box-sizing: border-box;top: 0;bottom: 0;left: 50%;z-index: 0;}#sk-container-id-6 div.sk-serial {display: flex;flex-direction: column;align-items: center;background-color: white;padding-right: 0.2em;padding-left: 0.2em;position: relative;}#sk-container-id-6 div.sk-item {position: relative;z-index: 1;}#sk-container-id-6 div.sk-parallel {display: flex;align-items: stretch;justify-content: center;background-color: white;position: relative;}#sk-container-id-6 div.sk-item::before, #sk-container-id-6 div.sk-parallel-item::before {content: \"\";position: absolute;border-left: 1px solid gray;box-sizing: border-box;top: 0;bottom: 0;left: 50%;z-index: -1;}#sk-container-id-6 div.sk-parallel-item {display: flex;flex-direction: column;z-index: 1;position: relative;background-color: white;}#sk-container-id-6 div.sk-parallel-item:first-child::after {align-self: flex-end;width: 50%;}#sk-container-id-6 div.sk-parallel-item:last-child::after {align-self: flex-start;width: 50%;}#sk-container-id-6 div.sk-parallel-item:only-child::after {width: 0;}#sk-container-id-6 div.sk-dashed-wrapped {border: 1px dashed gray;margin: 0 0.4em 0.5em 0.4em;box-sizing: border-box;padding-bottom: 0.4em;background-color: white;}#sk-container-id-6 div.sk-label label {font-family: monospace;font-weight: bold;display: inline-block;line-height: 1.2em;}#sk-container-id-6 div.sk-label-container {text-align: center;}#sk-container-id-6 div.sk-container {/* jupyter's `normalize.less` sets `[hidden] { display: none; }` but bootstrap.min.css set `[hidden] { display: none !important; }` so we also need the `!important` here to be able to override the default hidden behavior on the sphinx rendered scikit-learn.org. See: https://github.com/scikit-learn/scikit-learn/issues/21755 */display: inline-block !important;position: relative;}#sk-container-id-6 div.sk-text-repr-fallback {display: none;}</style><div id=\"sk-container-id-6\" class=\"sk-top-container\"><div class=\"sk-text-repr-fallback\"><pre>SVC(random_state=123)</pre><b>In a Jupyter environment, please rerun this cell to show the HTML representation or trust the notebook. <br />On GitHub, the HTML representation is unable to render, please try loading this page with nbviewer.org.</b></div><div class=\"sk-container\" hidden><div class=\"sk-item\"><div class=\"sk-estimator sk-toggleable\"><input class=\"sk-toggleable__control sk-hidden--visually\" id=\"sk-estimator-id-6\" type=\"checkbox\" checked><label for=\"sk-estimator-id-6\" class=\"sk-toggleable__label sk-toggleable__label-arrow\">SVC</label><div class=\"sk-toggleable__content\"><pre>SVC(random_state=123)</pre></div></div></div></div></div>"
      ],
      "text/plain": [
       "SVC(random_state=123)"
      ]
     },
     "execution_count": 44,
     "metadata": {},
     "output_type": "execute_result"
    }
   ],
   "source": [
    "svm_clf.fit(field_train_CT13,encoded_freq_train_CT13)"
   ]
  },
  {
   "cell_type": "code",
   "execution_count": 45,
   "metadata": {},
   "outputs": [
    {
     "name": "stdout",
     "output_type": "stream",
     "text": [
      "Accuracy: 1.0\n"
     ]
    }
   ],
   "source": [
    "preds5 = svm_clf.predict(field_test_CT13)\n",
    "print(\"Accuracy:\", accuracy_score(lab_enc.fit_transform(freq_test_CT13),preds5))"
   ]
  },
  {
   "cell_type": "code",
   "execution_count": null,
   "metadata": {},
   "outputs": [],
   "source": []
  },
  {
   "cell_type": "code",
   "execution_count": null,
   "metadata": {},
   "outputs": [],
   "source": []
  },
  {
   "cell_type": "markdown",
   "metadata": {},
   "source": [
    "OneHotEncoder for 3 frequencies and include that in Shape classification"
   ]
  },
  {
   "cell_type": "code",
   "execution_count": 47,
   "metadata": {},
   "outputs": [],
   "source": [
    "from sklearn.preprocessing import OneHotEncoder\n",
    "\n",
    "encoder = OneHotEncoder(sparse=False)"
   ]
  },
  {
   "cell_type": "code",
   "execution_count": 48,
   "metadata": {},
   "outputs": [
    {
     "data": {
      "text/plain": [
       "(528, 3)"
      ]
     },
     "execution_count": 48,
     "metadata": {},
     "output_type": "execute_result"
    }
   ],
   "source": [
    "oneHotFreq_train = encoder.fit_transform(freq_train_CT.reshape(-1, 1))\n",
    "oneHotFreq_train.shape"
   ]
  },
  {
   "cell_type": "code",
   "execution_count": 50,
   "metadata": {},
   "outputs": [
    {
     "data": {
      "text/html": [
       "<div>\n",
       "<style scoped>\n",
       "    .dataframe tbody tr th:only-of-type {\n",
       "        vertical-align: middle;\n",
       "    }\n",
       "\n",
       "    .dataframe tbody tr th {\n",
       "        vertical-align: top;\n",
       "    }\n",
       "\n",
       "    .dataframe thead th {\n",
       "        text-align: right;\n",
       "    }\n",
       "</style>\n",
       "<table border=\"1\" class=\"dataframe\">\n",
       "  <thead>\n",
       "    <tr style=\"text-align: right;\">\n",
       "      <th></th>\n",
       "      <th>field_img</th>\n",
       "      <th>freq</th>\n",
       "    </tr>\n",
       "  </thead>\n",
       "  <tbody>\n",
       "    <tr>\n",
       "      <th>0</th>\n",
       "      <td>[-0.019394890183889547, -0.01728100442593361, ...</td>\n",
       "      <td>[0.0, 1.0, 0.0]</td>\n",
       "    </tr>\n",
       "    <tr>\n",
       "      <th>1</th>\n",
       "      <td>[-0.041120911450331386, 0.061638881506470775, ...</td>\n",
       "      <td>[0.0, 0.0, 1.0]</td>\n",
       "    </tr>\n",
       "    <tr>\n",
       "      <th>2</th>\n",
       "      <td>[0.009708487853565383, 0.0246319557683847, 0.0...</td>\n",
       "      <td>[0.0, 1.0, 0.0]</td>\n",
       "    </tr>\n",
       "    <tr>\n",
       "      <th>3</th>\n",
       "      <td>[-0.0320806376303894, -0.028961346801834653, -...</td>\n",
       "      <td>[0.0, 0.0, 1.0]</td>\n",
       "    </tr>\n",
       "    <tr>\n",
       "      <th>4</th>\n",
       "      <td>[0.004362090970524132, 0.008057309218101247, 0...</td>\n",
       "      <td>[1.0, 0.0, 0.0]</td>\n",
       "    </tr>\n",
       "    <tr>\n",
       "      <th>...</th>\n",
       "      <td>...</td>\n",
       "      <td>...</td>\n",
       "    </tr>\n",
       "    <tr>\n",
       "      <th>523</th>\n",
       "      <td>[0.015656443462797705, 0.015146241011859515, 0...</td>\n",
       "      <td>[1.0, 0.0, 0.0]</td>\n",
       "    </tr>\n",
       "    <tr>\n",
       "      <th>524</th>\n",
       "      <td>[0.010672062379937487, 0.01089342987174621, 0....</td>\n",
       "      <td>[0.0, 0.0, 1.0]</td>\n",
       "    </tr>\n",
       "    <tr>\n",
       "      <th>525</th>\n",
       "      <td>[-0.006516826266212227, -0.01149381690694106, ...</td>\n",
       "      <td>[0.0, 0.0, 1.0]</td>\n",
       "    </tr>\n",
       "    <tr>\n",
       "      <th>526</th>\n",
       "      <td>[0.0014787832931566006, 0.0038129766036034338,...</td>\n",
       "      <td>[1.0, 0.0, 0.0]</td>\n",
       "    </tr>\n",
       "    <tr>\n",
       "      <th>527</th>\n",
       "      <td>[-0.03391641957001388, -0.03569470591075134, -...</td>\n",
       "      <td>[1.0, 0.0, 0.0]</td>\n",
       "    </tr>\n",
       "  </tbody>\n",
       "</table>\n",
       "<p>528 rows × 2 columns</p>\n",
       "</div>"
      ],
      "text/plain": [
       "                                             field_img             freq\n",
       "0    [-0.019394890183889547, -0.01728100442593361, ...  [0.0, 1.0, 0.0]\n",
       "1    [-0.041120911450331386, 0.061638881506470775, ...  [0.0, 0.0, 1.0]\n",
       "2    [0.009708487853565383, 0.0246319557683847, 0.0...  [0.0, 1.0, 0.0]\n",
       "3    [-0.0320806376303894, -0.028961346801834653, -...  [0.0, 0.0, 1.0]\n",
       "4    [0.004362090970524132, 0.008057309218101247, 0...  [1.0, 0.0, 0.0]\n",
       "..                                                 ...              ...\n",
       "523  [0.015656443462797705, 0.015146241011859515, 0...  [1.0, 0.0, 0.0]\n",
       "524  [0.010672062379937487, 0.01089342987174621, 0....  [0.0, 0.0, 1.0]\n",
       "525  [-0.006516826266212227, -0.01149381690694106, ...  [0.0, 0.0, 1.0]\n",
       "526  [0.0014787832931566006, 0.0038129766036034338,...  [1.0, 0.0, 0.0]\n",
       "527  [-0.03391641957001388, -0.03569470591075134, -...  [1.0, 0.0, 0.0]\n",
       "\n",
       "[528 rows x 2 columns]"
      ]
     },
     "execution_count": 50,
     "metadata": {},
     "output_type": "execute_result"
    }
   ],
   "source": [
    "df = pd.DataFrame({'field_img': field_train_CT.tolist(), 'freq': oneHotFreq_train.tolist()})\n",
    "df"
   ]
  },
  {
   "cell_type": "code",
   "execution_count": null,
   "metadata": {},
   "outputs": [],
   "source": []
  },
  {
   "cell_type": "code",
   "execution_count": 75,
   "metadata": {},
   "outputs": [
    {
     "data": {
      "text/plain": [
       "array([1, 2, 1, 2, 0, 0, 1, 2, 0, 1, 1, 2, 1, 2, 0, 0, 2, 0, 2, 2, 0, 2,\n",
       "       1, 1, 1, 2, 2, 0, 2, 2, 1, 1, 1, 1, 1, 0, 1, 0, 2, 2, 0, 0, 0, 0,\n",
       "       0, 1, 1, 1, 2, 1, 1, 0, 1, 0, 1, 0, 1, 1, 1, 1, 1, 2, 2, 1, 1, 2,\n",
       "       2, 0, 0, 2, 0, 1, 1, 2, 2, 0, 0, 0, 0, 1, 1, 1, 0, 1, 1, 1, 2, 1,\n",
       "       0, 1, 1, 0, 0, 1, 1, 1, 1, 0, 0, 0, 0, 1, 0, 0, 1, 2, 1, 0, 0, 1,\n",
       "       1, 0, 2, 0, 1, 1, 2, 2, 1, 0, 1, 0, 0, 1, 2, 0, 2, 2, 1, 2, 1, 1,\n",
       "       2, 2, 1, 2, 0, 0, 1, 0, 0, 0, 0, 0, 1, 1, 1, 2, 0, 2, 0, 0, 2, 0,\n",
       "       0, 1, 1, 0, 0, 1, 0, 1, 2, 0, 0, 2, 2, 1, 2, 0, 2, 2, 0, 0, 1, 0,\n",
       "       0, 0, 2, 2, 1, 0, 0, 2, 0, 2, 0, 2, 0, 1, 1, 1, 1, 1, 2, 2, 1, 0,\n",
       "       1, 1, 1, 0, 0, 0, 1, 1, 2, 2, 2, 0, 2, 0, 0, 1, 0, 0, 0, 1, 2, 0,\n",
       "       0, 1, 2, 0, 1, 2, 0, 0, 1, 1, 0, 0, 0, 1, 0, 0, 2, 0, 0, 0, 0, 0,\n",
       "       2, 1, 0, 0, 1, 0, 2, 1, 1, 2, 1, 0, 1, 2, 0, 0, 0, 0, 2, 0, 2, 2,\n",
       "       0, 1, 0, 1, 1, 0, 2, 0, 1, 0, 1, 1, 2, 0, 0, 2, 2, 1, 0, 0, 0, 0,\n",
       "       2, 2, 0, 2, 0, 2, 0, 1, 1, 1, 1, 1, 0, 0, 1, 0, 1, 1, 0, 0, 0, 2,\n",
       "       2, 0, 0, 0, 1, 2, 0, 1, 1, 2, 0, 0, 0, 0, 0, 0, 1, 1, 2, 1, 2, 0,\n",
       "       0, 1, 0, 1, 2, 2, 1, 2, 1, 1, 1, 2, 0, 0, 1, 1, 2, 2, 2, 0, 2, 1,\n",
       "       2, 2, 2, 1, 1, 0, 2, 2, 0, 1, 2, 2, 0, 0, 0, 0, 1, 1, 2, 1, 1, 0,\n",
       "       0, 2, 0, 0, 0, 0, 2, 0, 1, 0, 1, 1, 0, 0, 0, 1, 1, 0, 2, 0, 2, 1,\n",
       "       1, 1, 1, 2, 0, 2, 0, 0, 2, 1, 1, 0, 1, 0, 2, 0, 0, 2, 2, 1, 1, 2,\n",
       "       2, 1, 1, 2, 0, 1, 1, 2, 0, 1, 0, 0, 1, 0, 0, 0, 1, 1, 0, 0, 0, 0,\n",
       "       0, 1, 1, 0, 0, 1, 0, 1, 0, 0, 1, 0, 2, 2, 1, 2, 0, 0, 1, 1, 1, 1,\n",
       "       0, 2, 1, 2, 0, 1, 0, 1, 2, 2, 0, 2, 0, 2, 1, 1, 1, 0, 1, 2, 2, 0,\n",
       "       2, 0, 2, 0, 0, 2, 2, 0, 0, 0, 2, 1, 0, 0, 1, 2, 1, 1, 1, 1, 1, 0,\n",
       "       0, 0, 0, 1, 0, 1, 2, 2, 0, 1, 0, 0, 0, 2, 1, 0, 0, 0, 2, 2, 0, 0],\n",
       "      dtype=int64)"
      ]
     },
     "execution_count": 75,
     "metadata": {},
     "output_type": "execute_result"
    }
   ],
   "source": [
    "encoded_freq_train_CT = lab_enc.fit_transform(freq_train_CT)\n",
    "encoded_freq_train_CT"
   ]
  },
  {
   "cell_type": "code",
   "execution_count": 74,
   "metadata": {},
   "outputs": [
    {
     "data": {
      "text/html": [
       "<style>#sk-container-id-8 {color: black;background-color: white;}#sk-container-id-8 pre{padding: 0;}#sk-container-id-8 div.sk-toggleable {background-color: white;}#sk-container-id-8 label.sk-toggleable__label {cursor: pointer;display: block;width: 100%;margin-bottom: 0;padding: 0.3em;box-sizing: border-box;text-align: center;}#sk-container-id-8 label.sk-toggleable__label-arrow:before {content: \"▸\";float: left;margin-right: 0.25em;color: #696969;}#sk-container-id-8 label.sk-toggleable__label-arrow:hover:before {color: black;}#sk-container-id-8 div.sk-estimator:hover label.sk-toggleable__label-arrow:before {color: black;}#sk-container-id-8 div.sk-toggleable__content {max-height: 0;max-width: 0;overflow: hidden;text-align: left;background-color: #f0f8ff;}#sk-container-id-8 div.sk-toggleable__content pre {margin: 0.2em;color: black;border-radius: 0.25em;background-color: #f0f8ff;}#sk-container-id-8 input.sk-toggleable__control:checked~div.sk-toggleable__content {max-height: 200px;max-width: 100%;overflow: auto;}#sk-container-id-8 input.sk-toggleable__control:checked~label.sk-toggleable__label-arrow:before {content: \"▾\";}#sk-container-id-8 div.sk-estimator input.sk-toggleable__control:checked~label.sk-toggleable__label {background-color: #d4ebff;}#sk-container-id-8 div.sk-label input.sk-toggleable__control:checked~label.sk-toggleable__label {background-color: #d4ebff;}#sk-container-id-8 input.sk-hidden--visually {border: 0;clip: rect(1px 1px 1px 1px);clip: rect(1px, 1px, 1px, 1px);height: 1px;margin: -1px;overflow: hidden;padding: 0;position: absolute;width: 1px;}#sk-container-id-8 div.sk-estimator {font-family: monospace;background-color: #f0f8ff;border: 1px dotted black;border-radius: 0.25em;box-sizing: border-box;margin-bottom: 0.5em;}#sk-container-id-8 div.sk-estimator:hover {background-color: #d4ebff;}#sk-container-id-8 div.sk-parallel-item::after {content: \"\";width: 100%;border-bottom: 1px solid gray;flex-grow: 1;}#sk-container-id-8 div.sk-label:hover label.sk-toggleable__label {background-color: #d4ebff;}#sk-container-id-8 div.sk-serial::before {content: \"\";position: absolute;border-left: 1px solid gray;box-sizing: border-box;top: 0;bottom: 0;left: 50%;z-index: 0;}#sk-container-id-8 div.sk-serial {display: flex;flex-direction: column;align-items: center;background-color: white;padding-right: 0.2em;padding-left: 0.2em;position: relative;}#sk-container-id-8 div.sk-item {position: relative;z-index: 1;}#sk-container-id-8 div.sk-parallel {display: flex;align-items: stretch;justify-content: center;background-color: white;position: relative;}#sk-container-id-8 div.sk-item::before, #sk-container-id-8 div.sk-parallel-item::before {content: \"\";position: absolute;border-left: 1px solid gray;box-sizing: border-box;top: 0;bottom: 0;left: 50%;z-index: -1;}#sk-container-id-8 div.sk-parallel-item {display: flex;flex-direction: column;z-index: 1;position: relative;background-color: white;}#sk-container-id-8 div.sk-parallel-item:first-child::after {align-self: flex-end;width: 50%;}#sk-container-id-8 div.sk-parallel-item:last-child::after {align-self: flex-start;width: 50%;}#sk-container-id-8 div.sk-parallel-item:only-child::after {width: 0;}#sk-container-id-8 div.sk-dashed-wrapped {border: 1px dashed gray;margin: 0 0.4em 0.5em 0.4em;box-sizing: border-box;padding-bottom: 0.4em;background-color: white;}#sk-container-id-8 div.sk-label label {font-family: monospace;font-weight: bold;display: inline-block;line-height: 1.2em;}#sk-container-id-8 div.sk-label-container {text-align: center;}#sk-container-id-8 div.sk-container {/* jupyter's `normalize.less` sets `[hidden] { display: none; }` but bootstrap.min.css set `[hidden] { display: none !important; }` so we also need the `!important` here to be able to override the default hidden behavior on the sphinx rendered scikit-learn.org. See: https://github.com/scikit-learn/scikit-learn/issues/21755 */display: inline-block !important;position: relative;}#sk-container-id-8 div.sk-text-repr-fallback {display: none;}</style><div id=\"sk-container-id-8\" class=\"sk-top-container\"><div class=\"sk-text-repr-fallback\"><pre>SVC(random_state=123)</pre><b>In a Jupyter environment, please rerun this cell to show the HTML representation or trust the notebook. <br />On GitHub, the HTML representation is unable to render, please try loading this page with nbviewer.org.</b></div><div class=\"sk-container\" hidden><div class=\"sk-item\"><div class=\"sk-estimator sk-toggleable\"><input class=\"sk-toggleable__control sk-hidden--visually\" id=\"sk-estimator-id-8\" type=\"checkbox\" checked><label for=\"sk-estimator-id-8\" class=\"sk-toggleable__label sk-toggleable__label-arrow\">SVC</label><div class=\"sk-toggleable__content\"><pre>SVC(random_state=123)</pre></div></div></div></div></div>"
      ],
      "text/plain": [
       "SVC(random_state=123)"
      ]
     },
     "execution_count": 74,
     "metadata": {},
     "output_type": "execute_result"
    }
   ],
   "source": [
    "svm_clf.fit(field_train_CT, encoded_freq_train_CT)"
   ]
  },
  {
   "cell_type": "code",
   "execution_count": 82,
   "metadata": {},
   "outputs": [
    {
     "name": "stdout",
     "output_type": "stream",
     "text": [
      "Accuracy: 0.9924242424242424\n"
     ]
    }
   ],
   "source": [
    "preds6 = svm_clf.predict(field_test_CT)\n",
    "# lab_enc.fit_transform(freq_test_CT)\n",
    "print(\"Accuracy:\", accuracy_score(lab_enc.fit_transform(freq_test_CT),preds6))"
   ]
  },
  {
   "cell_type": "markdown",
   "metadata": {},
   "source": []
  },
  {
   "cell_type": "code",
   "execution_count": 92,
   "metadata": {},
   "outputs": [
    {
     "data": {
      "text/html": [
       "<style>#sk-container-id-9 {color: black;background-color: white;}#sk-container-id-9 pre{padding: 0;}#sk-container-id-9 div.sk-toggleable {background-color: white;}#sk-container-id-9 label.sk-toggleable__label {cursor: pointer;display: block;width: 100%;margin-bottom: 0;padding: 0.3em;box-sizing: border-box;text-align: center;}#sk-container-id-9 label.sk-toggleable__label-arrow:before {content: \"▸\";float: left;margin-right: 0.25em;color: #696969;}#sk-container-id-9 label.sk-toggleable__label-arrow:hover:before {color: black;}#sk-container-id-9 div.sk-estimator:hover label.sk-toggleable__label-arrow:before {color: black;}#sk-container-id-9 div.sk-toggleable__content {max-height: 0;max-width: 0;overflow: hidden;text-align: left;background-color: #f0f8ff;}#sk-container-id-9 div.sk-toggleable__content pre {margin: 0.2em;color: black;border-radius: 0.25em;background-color: #f0f8ff;}#sk-container-id-9 input.sk-toggleable__control:checked~div.sk-toggleable__content {max-height: 200px;max-width: 100%;overflow: auto;}#sk-container-id-9 input.sk-toggleable__control:checked~label.sk-toggleable__label-arrow:before {content: \"▾\";}#sk-container-id-9 div.sk-estimator input.sk-toggleable__control:checked~label.sk-toggleable__label {background-color: #d4ebff;}#sk-container-id-9 div.sk-label input.sk-toggleable__control:checked~label.sk-toggleable__label {background-color: #d4ebff;}#sk-container-id-9 input.sk-hidden--visually {border: 0;clip: rect(1px 1px 1px 1px);clip: rect(1px, 1px, 1px, 1px);height: 1px;margin: -1px;overflow: hidden;padding: 0;position: absolute;width: 1px;}#sk-container-id-9 div.sk-estimator {font-family: monospace;background-color: #f0f8ff;border: 1px dotted black;border-radius: 0.25em;box-sizing: border-box;margin-bottom: 0.5em;}#sk-container-id-9 div.sk-estimator:hover {background-color: #d4ebff;}#sk-container-id-9 div.sk-parallel-item::after {content: \"\";width: 100%;border-bottom: 1px solid gray;flex-grow: 1;}#sk-container-id-9 div.sk-label:hover label.sk-toggleable__label {background-color: #d4ebff;}#sk-container-id-9 div.sk-serial::before {content: \"\";position: absolute;border-left: 1px solid gray;box-sizing: border-box;top: 0;bottom: 0;left: 50%;z-index: 0;}#sk-container-id-9 div.sk-serial {display: flex;flex-direction: column;align-items: center;background-color: white;padding-right: 0.2em;padding-left: 0.2em;position: relative;}#sk-container-id-9 div.sk-item {position: relative;z-index: 1;}#sk-container-id-9 div.sk-parallel {display: flex;align-items: stretch;justify-content: center;background-color: white;position: relative;}#sk-container-id-9 div.sk-item::before, #sk-container-id-9 div.sk-parallel-item::before {content: \"\";position: absolute;border-left: 1px solid gray;box-sizing: border-box;top: 0;bottom: 0;left: 50%;z-index: -1;}#sk-container-id-9 div.sk-parallel-item {display: flex;flex-direction: column;z-index: 1;position: relative;background-color: white;}#sk-container-id-9 div.sk-parallel-item:first-child::after {align-self: flex-end;width: 50%;}#sk-container-id-9 div.sk-parallel-item:last-child::after {align-self: flex-start;width: 50%;}#sk-container-id-9 div.sk-parallel-item:only-child::after {width: 0;}#sk-container-id-9 div.sk-dashed-wrapped {border: 1px dashed gray;margin: 0 0.4em 0.5em 0.4em;box-sizing: border-box;padding-bottom: 0.4em;background-color: white;}#sk-container-id-9 div.sk-label label {font-family: monospace;font-weight: bold;display: inline-block;line-height: 1.2em;}#sk-container-id-9 div.sk-label-container {text-align: center;}#sk-container-id-9 div.sk-container {/* jupyter's `normalize.less` sets `[hidden] { display: none; }` but bootstrap.min.css set `[hidden] { display: none !important; }` so we also need the `!important` here to be able to override the default hidden behavior on the sphinx rendered scikit-learn.org. See: https://github.com/scikit-learn/scikit-learn/issues/21755 */display: inline-block !important;position: relative;}#sk-container-id-9 div.sk-text-repr-fallback {display: none;}</style><div id=\"sk-container-id-9\" class=\"sk-top-container\"><div class=\"sk-text-repr-fallback\"><pre>RandomForestClassifier(bootstrap=False, n_jobs=1, random_state=123)</pre><b>In a Jupyter environment, please rerun this cell to show the HTML representation or trust the notebook. <br />On GitHub, the HTML representation is unable to render, please try loading this page with nbviewer.org.</b></div><div class=\"sk-container\" hidden><div class=\"sk-item\"><div class=\"sk-estimator sk-toggleable\"><input class=\"sk-toggleable__control sk-hidden--visually\" id=\"sk-estimator-id-9\" type=\"checkbox\" checked><label for=\"sk-estimator-id-9\" class=\"sk-toggleable__label sk-toggleable__label-arrow\">RandomForestClassifier</label><div class=\"sk-toggleable__content\"><pre>RandomForestClassifier(bootstrap=False, n_jobs=1, random_state=123)</pre></div></div></div></div></div>"
      ],
      "text/plain": [
       "RandomForestClassifier(bootstrap=False, n_jobs=1, random_state=123)"
      ]
     },
     "execution_count": 92,
     "metadata": {},
     "output_type": "execute_result"
    }
   ],
   "source": [
    "rdf_clf.fit(field_train_CT, encoded_freq_train_CT)"
   ]
  },
  {
   "cell_type": "code",
   "execution_count": 93,
   "metadata": {},
   "outputs": [
    {
     "name": "stdout",
     "output_type": "stream",
     "text": [
      "Accuracy: 1.0\n"
     ]
    }
   ],
   "source": [
    "preds7 = rdf_clf.predict(field_train_CT)\n",
    "\n",
    "print(\"Accuracy:\", accuracy_score(lab_enc.fit_transform(freq_train_CT),preds7))"
   ]
  },
  {
   "cell_type": "code",
   "execution_count": 83,
   "metadata": {},
   "outputs": [
    {
     "data": {
      "text/plain": [
       "array([1, 2, 1, 2, 0, 0, 1, 2, 0, 1, 1, 2, 1, 2, 0, 0, 2, 0, 2, 2, 0, 2,\n",
       "       1, 1, 1, 2, 2, 0, 2, 2, 1, 1, 1, 1, 1, 0, 1, 0, 2, 2, 0, 0, 0, 0,\n",
       "       0, 1, 1, 1, 2, 1, 1, 0, 1, 0, 1, 0, 1, 1, 1, 1, 1, 2, 2, 1, 1, 2,\n",
       "       2, 0, 0, 2, 0, 1, 1, 2, 2, 0, 0, 0, 0, 1, 1, 1, 0, 1, 1, 1, 2, 1,\n",
       "       0, 1, 1, 0, 0, 1, 1, 1, 1, 0, 0, 0, 0, 1, 0, 0, 1, 2, 1, 0, 0, 1,\n",
       "       1, 0, 2, 0, 1, 1, 2, 2, 1, 0, 1, 0, 0, 1, 2, 0, 2, 2, 1, 2, 1, 1,\n",
       "       2, 2, 1, 2, 0, 0, 1, 0, 0, 0, 0, 0, 1, 1, 1, 2, 0, 2, 0, 0, 2, 0,\n",
       "       0, 1, 1, 0, 0, 1, 0, 1, 2, 0, 0, 2, 2, 1, 2, 0, 2, 2, 0, 0, 1, 0,\n",
       "       0, 0, 2, 2, 1, 0, 0, 2, 0, 2, 0, 2, 0, 1, 1, 1, 1, 1, 2, 2, 1, 0,\n",
       "       1, 1, 1, 0, 0, 0, 1, 1, 2, 2, 2, 0, 2, 0, 0, 1, 0, 0, 0, 1, 2, 0,\n",
       "       0, 1, 2, 0, 1, 2, 0, 0, 1, 1, 0, 0, 0, 1, 0, 0, 2, 0, 0, 0, 0, 0,\n",
       "       2, 1, 0, 0, 1, 0, 2, 1, 1, 2, 1, 0, 1, 2, 0, 0, 0, 0, 2, 0, 2, 2,\n",
       "       0, 1, 0, 1, 1, 0, 2, 0, 1, 0, 1, 1, 2, 0, 0, 2, 2, 1, 0, 0, 0, 0,\n",
       "       2, 2, 0, 2, 0, 2, 0, 1, 1, 1, 1, 1, 0, 0, 1, 0, 1, 1, 0, 0, 0, 2,\n",
       "       2, 0, 0, 0, 1, 2, 0, 1, 1, 2, 0, 0, 0, 0, 0, 0, 1, 1, 2, 1, 2, 0,\n",
       "       0, 1, 0, 1, 2, 2, 1, 2, 1, 1, 1, 2, 0, 0, 1, 1, 2, 2, 2, 0, 2, 1,\n",
       "       2, 2, 2, 1, 1, 0, 2, 2, 0, 1, 2, 2, 0, 0, 0, 0, 1, 1, 2, 1, 1, 0,\n",
       "       0, 2, 0, 0, 0, 0, 2, 0, 1, 0, 1, 1, 0, 0, 0, 1, 1, 0, 2, 0, 2, 1,\n",
       "       1, 1, 1, 2, 0, 2, 0, 0, 2, 1, 1, 0, 1, 0, 2, 0, 0, 2, 2, 1, 1, 2,\n",
       "       2, 1, 1, 2, 0, 1, 1, 2, 0, 1, 0, 0, 1, 0, 0, 0, 1, 1, 0, 0, 0, 0,\n",
       "       0, 1, 1, 0, 0, 1, 0, 1, 0, 0, 1, 0, 2, 2, 1, 2, 0, 0, 1, 1, 1, 1,\n",
       "       0, 2, 1, 2, 0, 1, 0, 1, 2, 2, 0, 2, 0, 2, 1, 1, 1, 0, 1, 2, 2, 0,\n",
       "       2, 0, 2, 0, 0, 2, 2, 0, 0, 0, 2, 1, 0, 0, 1, 2, 1, 1, 1, 1, 1, 0,\n",
       "       0, 0, 0, 1, 0, 1, 2, 2, 0, 1, 0, 0, 0, 2, 1, 0, 0, 0, 2, 2, 0, 0],\n",
       "      dtype=int64)"
      ]
     },
     "execution_count": 83,
     "metadata": {},
     "output_type": "execute_result"
    }
   ],
   "source": [
    "lab_enc.fit_transform(freq_train_CT)"
   ]
  },
  {
   "cell_type": "code",
   "execution_count": 88,
   "metadata": {},
   "outputs": [
    {
     "data": {
      "text/plain": [
       "{1000000000.0, 2000000000.0}"
      ]
     },
     "execution_count": 88,
     "metadata": {},
     "output_type": "execute_result"
    }
   ],
   "source": [
    "set(lab_enc.inverse_transform(preds7))"
   ]
  }
 ],
 "metadata": {
  "kernelspec": {
   "display_name": "Python 3",
   "language": "python",
   "name": "python3"
  },
  "language_info": {
   "codemirror_mode": {
    "name": "ipython",
    "version": 3
   },
   "file_extension": ".py",
   "mimetype": "text/x-python",
   "name": "python",
   "nbconvert_exporter": "python",
   "pygments_lexer": "ipython3",
   "version": "3.10.4"
  }
 },
 "nbformat": 4,
 "nbformat_minor": 2
}
