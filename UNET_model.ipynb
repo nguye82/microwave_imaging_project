{
 "cells": [
  {
   "cell_type": "markdown",
   "metadata": {},
   "source": [
    "## UNET CNN"
   ]
  },
  {
   "cell_type": "code",
   "execution_count": 1,
   "metadata": {},
   "outputs": [],
   "source": [
    "from ReadData import *\n",
    "import matplotlib.pyplot as plt\n",
    "import numpy as np\n",
    "# import pandas as pd\n",
    "from sklearn.model_selection import train_test_split\n",
    "import tensorflow as tf\n",
    "import keras\n",
    "from keras.models import Model\n",
    "from keras.layers import Conv2D, MaxPooling2D, Conv2DTranspose, BatchNormalization, Activation, Input, Concatenate, Flatten, Reshape, Dense\n",
    "from keras.callbacks import EarlyStopping"
   ]
  },
  {
   "cell_type": "code",
   "execution_count": 2,
   "metadata": {},
   "outputs": [],
   "source": [
    "def readData(path, getTargetName = False):\n",
    "    # print(getTargetName)\n",
    "    data = getEMData(path)\n",
    "    target = []\n",
    "    field = []\n",
    "    freq = []\n",
    "    if getTargetName:\n",
    "        targetName = []\n",
    "        upper_case = [char for char in path if char.isupper()]\n",
    "        target_name = path[path.index(upper_case[0]):path.index(upper_case[1])]\n",
    "\n",
    "    for i in range(0, len(data)):\n",
    "        target.append(data[i].target)\n",
    "        field.append(data[i].Esct.real)\n",
    "        freq.append(data[i].freq)\n",
    "        if getTargetName: targetName.append(target_name)\n",
    "\n",
    "    field = np.array(field)\n",
    "    target = np.array(target)\n",
    "    freq = np.array(freq)\n",
    "    if getTargetName: targetName = np.array(targetName)\n",
    "\n",
    "    result = (field, target, freq)\n",
    "    if getTargetName: result = (field, target, freq, targetName)\n",
    "    return result"
   ]
  },
  {
   "cell_type": "code",
   "execution_count": 28,
   "metadata": {},
   "outputs": [
    {
     "name": "stdout",
     "output_type": "stream",
     "text": [
      "Read 630 samples\n"
     ]
    }
   ],
   "source": [
    "fieldMNIST, targetMNIST, freqMNIST = readData(path = \"./EMNIST_img/\", getTargetName=False)\n",
    "\n",
    "fieldMNIST_transformed = np.reshape(fieldMNIST, (fieldMNIST.shape[0], fieldMNIST.shape[1], fieldMNIST.shape[2], 1))\n",
    "targetMNIST_transformed = np.reshape(targetMNIST, (targetMNIST.shape[0], targetMNIST.shape[1], targetMNIST.shape[2], 1))\n",
    "\n",
    "fieldMNIST_train, fieldMNIST_test, targetMNIST_train, targetMNIST_test= train_test_split(\n",
    "    fieldMNIST_transformed, targetMNIST_transformed, test_size=0.20, random_state=42)\n",
    "\n",
    "fieldMNIST_train, fieldMNIST_val, targetMNIST_train, targetMNIST_val= train_test_split(\n",
    "    fieldMNIST_train, targetMNIST_train, test_size=0.20, random_state=42)"
   ]
  },
  {
   "cell_type": "code",
   "execution_count": 4,
   "metadata": {},
   "outputs": [
    {
     "data": {
      "text/plain": [
       "[(403, 24, 24, 1), (403, 28, 28, 1), (101, 24, 24, 1), (101, 28, 28, 1)]"
      ]
     },
     "execution_count": 4,
     "metadata": {},
     "output_type": "execute_result"
    }
   ],
   "source": [
    "[fieldMNIST_train.shape,targetMNIST_train.shape, fieldMNIST_val.shape, targetMNIST_val.shape]"
   ]
  },
  {
   "cell_type": "code",
   "execution_count": 4,
   "metadata": {},
   "outputs": [],
   "source": [
    "fieldMNIST_train_padded = np.pad(fieldMNIST_train, ((0, 0), (2, 2), (2, 2), (0, 0)), 'constant')\n",
    "fieldMNIST_val_padded = np.pad(fieldMNIST_val, ((0, 0), (2, 2), (2, 2), (0, 0)), 'constant')\n",
    "fieldMNIST_test_padded = np.pad(fieldMNIST_test, ((0, 0), (2, 2), (2, 2), (0, 0)), 'constant')"
   ]
  },
  {
   "cell_type": "code",
   "execution_count": 6,
   "metadata": {},
   "outputs": [
    {
     "data": {
      "text/plain": [
       "[(403, 28, 28, 1), (403, 28, 28, 1), (101, 28, 28, 1), (101, 28, 28, 1)]"
      ]
     },
     "execution_count": 6,
     "metadata": {},
     "output_type": "execute_result"
    }
   ],
   "source": [
    "[fieldMNIST_train_padded.shape,targetMNIST_train.shape, fieldMNIST_val_padded.shape, targetMNIST_val.shape]"
   ]
  },
  {
   "cell_type": "code",
   "execution_count": 5,
   "metadata": {},
   "outputs": [],
   "source": [
    "def unet_padded(input_shape):\n",
    "    inputs = Input(input_shape)\n",
    "\n",
    "    conv1 = Conv2D(64, 3, padding='same')(inputs)\n",
    "    conv1 = BatchNormalization()(conv1)\n",
    "    conv1 = Activation('relu')(conv1)\n",
    "    conv1 = Conv2D(64, 3, padding='same')(conv1)\n",
    "    conv1 = BatchNormalization()(conv1)\n",
    "    conv1 = Activation('relu')(conv1)\n",
    "    conv1 = Conv2D(64, 3, padding='same')(conv1)\n",
    "    conv1 = BatchNormalization()(conv1)\n",
    "    conv1 = Activation('relu')(conv1)\n",
    "    pool1 = MaxPooling2D(pool_size=(2, 2))(conv1)\n",
    "\n",
    "    conv2 = Conv2D(128, 3, padding='same')(pool1)\n",
    "    conv2 = BatchNormalization()(conv2)\n",
    "    conv2 = Activation('relu')(conv2)\n",
    "    conv2 = Conv2D(128, 3, padding='same')(conv2)\n",
    "    conv2 = BatchNormalization()(conv2)\n",
    "    conv2 = Activation('relu')(conv2)\n",
    "    pool2 = MaxPooling2D(pool_size=(2, 2))(conv2)\n",
    "\n",
    "    # Bottleneck\n",
    "    bottleneck = Conv2D(256, 3, padding='same')(pool2)\n",
    "    bottleneck = BatchNormalization()(bottleneck)\n",
    "    bottleneck = Activation('relu')(bottleneck)\n",
    "    bottleneck = Conv2D(256, 3, padding='same')(bottleneck)\n",
    "    bottleneck = BatchNormalization()(bottleneck)\n",
    "    bottleneck = Activation('relu')(bottleneck)\n",
    "\n",
    "    # Expansive Path\n",
    "    up1 = Conv2DTranspose(128, (3, 3), strides=(2, 2), padding='same')(bottleneck)\n",
    "    skip1 = Concatenate(axis=-1)([conv2, up1])\n",
    "    conv3 = Conv2D(128, 3, padding='same')(skip1)\n",
    "    conv3 = BatchNormalization()(conv3)\n",
    "    conv3 = Activation('relu')(conv3)\n",
    "    conv3 = Conv2D(128, 3, padding='same')(conv3)\n",
    "    conv3 = BatchNormalization()(conv3)\n",
    "    conv3 = Activation('relu')(conv3)\n",
    "\n",
    "    up2 = Conv2DTranspose(64, (3, 3), strides=(2, 2), padding='same')(conv3)\n",
    "    skip2 = Concatenate(axis=-1)([conv1, up2])\n",
    "    conv4 = Conv2D(64, 3, padding='same')(skip2)\n",
    "    conv4 = BatchNormalization()(conv4)\n",
    "    conv4 = Activation('relu')(conv4)\n",
    "    conv4 = Conv2D(64, 3, padding='same')(conv4)\n",
    "    conv4 = BatchNormalization()(conv4)\n",
    "    conv4 = Activation('relu')(conv4)\n",
    "\n",
    "    # up3 = Conv2DTranspose(32, (3, 3), strides=(2, 2), padding='same')(conv4)\n",
    "    # # skip2 = Concatenate(axis=-1)([conv1, up2])\n",
    "    # conv5 = Conv2D(32, 3, padding='same')(up3)\n",
    "    # conv5 = BatchNormalization()(conv5)\n",
    "    # conv5 = Activation('relu')(conv5)\n",
    "    # conv5 = Conv2D(32, 3, padding='same')(conv5)\n",
    "    # conv5 = BatchNormalization()(conv5)\n",
    "    # conv5 = Activation('relu')(conv5)\n",
    "\n",
    "    output = Conv2D(1, 1, activation='sigmoid')(conv4)\n",
    "\n",
    "    # output = Conv2D(n_class, 1, activation='softmax')(conv4)\n",
    "\n",
    "    # Cropping to the desired size (35, 35)\n",
    "    # cropped_output = Cropping2D(((7, 6), (7, 6)))(output)\n",
    "    # skip3 = Concatenate(axis=-1)([input, cropped_output])\n",
    "\n",
    "\n",
    "    model = Model(inputs=inputs, outputs=output)\n",
    "\n",
    "    return model"
   ]
  },
  {
   "cell_type": "code",
   "execution_count": 8,
   "metadata": {},
   "outputs": [
    {
     "name": "stdout",
     "output_type": "stream",
     "text": [
      "Model: \"model_1\"\n",
      "__________________________________________________________________________________________________\n",
      " Layer (type)                   Output Shape         Param #     Connected to                     \n",
      "==================================================================================================\n",
      " input_2 (InputLayer)           [(None, 28, 28, 1)]  0           []                               \n",
      "                                                                                                  \n",
      " conv2d_12 (Conv2D)             (None, 28, 28, 64)   640         ['input_2[0][0]']                \n",
      "                                                                                                  \n",
      " batch_normalization_11 (BatchN  (None, 28, 28, 64)  256         ['conv2d_12[0][0]']              \n",
      " ormalization)                                                                                    \n",
      "                                                                                                  \n",
      " activation_11 (Activation)     (None, 28, 28, 64)   0           ['batch_normalization_11[0][0]'] \n",
      "                                                                                                  \n",
      " conv2d_13 (Conv2D)             (None, 28, 28, 64)   36928       ['activation_11[0][0]']          \n",
      "                                                                                                  \n",
      " batch_normalization_12 (BatchN  (None, 28, 28, 64)  256         ['conv2d_13[0][0]']              \n",
      " ormalization)                                                                                    \n",
      "                                                                                                  \n",
      " activation_12 (Activation)     (None, 28, 28, 64)   0           ['batch_normalization_12[0][0]'] \n",
      "                                                                                                  \n",
      " conv2d_14 (Conv2D)             (None, 28, 28, 64)   36928       ['activation_12[0][0]']          \n",
      "                                                                                                  \n",
      " batch_normalization_13 (BatchN  (None, 28, 28, 64)  256         ['conv2d_14[0][0]']              \n",
      " ormalization)                                                                                    \n",
      "                                                                                                  \n",
      " activation_13 (Activation)     (None, 28, 28, 64)   0           ['batch_normalization_13[0][0]'] \n",
      "                                                                                                  \n",
      " max_pooling2d_2 (MaxPooling2D)  (None, 14, 14, 64)  0           ['activation_13[0][0]']          \n",
      "                                                                                                  \n",
      " conv2d_15 (Conv2D)             (None, 14, 14, 128)  73856       ['max_pooling2d_2[0][0]']        \n",
      "                                                                                                  \n",
      " batch_normalization_14 (BatchN  (None, 14, 14, 128)  512        ['conv2d_15[0][0]']              \n",
      " ormalization)                                                                                    \n",
      "                                                                                                  \n",
      " activation_14 (Activation)     (None, 14, 14, 128)  0           ['batch_normalization_14[0][0]'] \n",
      "                                                                                                  \n",
      " conv2d_16 (Conv2D)             (None, 14, 14, 128)  147584      ['activation_14[0][0]']          \n",
      "                                                                                                  \n",
      " batch_normalization_15 (BatchN  (None, 14, 14, 128)  512        ['conv2d_16[0][0]']              \n",
      " ormalization)                                                                                    \n",
      "                                                                                                  \n",
      " activation_15 (Activation)     (None, 14, 14, 128)  0           ['batch_normalization_15[0][0]'] \n",
      "                                                                                                  \n",
      " max_pooling2d_3 (MaxPooling2D)  (None, 7, 7, 128)   0           ['activation_15[0][0]']          \n",
      "                                                                                                  \n",
      " conv2d_17 (Conv2D)             (None, 7, 7, 256)    295168      ['max_pooling2d_3[0][0]']        \n",
      "                                                                                                  \n",
      " batch_normalization_16 (BatchN  (None, 7, 7, 256)   1024        ['conv2d_17[0][0]']              \n",
      " ormalization)                                                                                    \n",
      "                                                                                                  \n",
      " activation_16 (Activation)     (None, 7, 7, 256)    0           ['batch_normalization_16[0][0]'] \n",
      "                                                                                                  \n",
      " conv2d_18 (Conv2D)             (None, 7, 7, 256)    590080      ['activation_16[0][0]']          \n",
      "                                                                                                  \n",
      " batch_normalization_17 (BatchN  (None, 7, 7, 256)   1024        ['conv2d_18[0][0]']              \n",
      " ormalization)                                                                                    \n",
      "                                                                                                  \n",
      " activation_17 (Activation)     (None, 7, 7, 256)    0           ['batch_normalization_17[0][0]'] \n",
      "                                                                                                  \n",
      " conv2d_transpose_2 (Conv2DTran  (None, 14, 14, 128)  295040     ['activation_17[0][0]']          \n",
      " spose)                                                                                           \n",
      "                                                                                                  \n",
      " concatenate_2 (Concatenate)    (None, 14, 14, 256)  0           ['activation_15[0][0]',          \n",
      "                                                                  'conv2d_transpose_2[0][0]']     \n",
      "                                                                                                  \n",
      " conv2d_19 (Conv2D)             (None, 14, 14, 128)  295040      ['concatenate_2[0][0]']          \n",
      "                                                                                                  \n",
      " batch_normalization_18 (BatchN  (None, 14, 14, 128)  512        ['conv2d_19[0][0]']              \n",
      " ormalization)                                                                                    \n",
      "                                                                                                  \n",
      " activation_18 (Activation)     (None, 14, 14, 128)  0           ['batch_normalization_18[0][0]'] \n",
      "                                                                                                  \n",
      " conv2d_20 (Conv2D)             (None, 14, 14, 128)  147584      ['activation_18[0][0]']          \n",
      "                                                                                                  \n",
      " batch_normalization_19 (BatchN  (None, 14, 14, 128)  512        ['conv2d_20[0][0]']              \n",
      " ormalization)                                                                                    \n",
      "                                                                                                  \n",
      " activation_19 (Activation)     (None, 14, 14, 128)  0           ['batch_normalization_19[0][0]'] \n",
      "                                                                                                  \n",
      " conv2d_transpose_3 (Conv2DTran  (None, 28, 28, 64)  73792       ['activation_19[0][0]']          \n",
      " spose)                                                                                           \n",
      "                                                                                                  \n",
      " concatenate_3 (Concatenate)    (None, 28, 28, 128)  0           ['activation_13[0][0]',          \n",
      "                                                                  'conv2d_transpose_3[0][0]']     \n",
      "                                                                                                  \n",
      " conv2d_21 (Conv2D)             (None, 28, 28, 64)   73792       ['concatenate_3[0][0]']          \n",
      "                                                                                                  \n",
      " batch_normalization_20 (BatchN  (None, 28, 28, 64)  256         ['conv2d_21[0][0]']              \n",
      " ormalization)                                                                                    \n",
      "                                                                                                  \n",
      " activation_20 (Activation)     (None, 28, 28, 64)   0           ['batch_normalization_20[0][0]'] \n",
      "                                                                                                  \n",
      " conv2d_22 (Conv2D)             (None, 28, 28, 64)   36928       ['activation_20[0][0]']          \n",
      "                                                                                                  \n",
      " batch_normalization_21 (BatchN  (None, 28, 28, 64)  256         ['conv2d_22[0][0]']              \n",
      " ormalization)                                                                                    \n",
      "                                                                                                  \n",
      " activation_21 (Activation)     (None, 28, 28, 64)   0           ['batch_normalization_21[0][0]'] \n",
      "                                                                                                  \n",
      " conv2d_23 (Conv2D)             (None, 28, 28, 1)    65          ['activation_21[0][0]']          \n",
      "                                                                                                  \n",
      "==================================================================================================\n",
      "Total params: 2,108,801\n",
      "Trainable params: 2,106,113\n",
      "Non-trainable params: 2,688\n",
      "__________________________________________________________________________________________________\n"
     ]
    }
   ],
   "source": [
    "inputMNIST_shape_padded = fieldMNIST_train_padded.shape[1:]\n",
    "model_mnist_padded = unet_padded(inputMNIST_shape_padded)\n",
    "model_mnist_padded.summary()"
   ]
  },
  {
   "cell_type": "code",
   "execution_count": 9,
   "metadata": {},
   "outputs": [
    {
     "name": "stdout",
     "output_type": "stream",
     "text": [
      "Epoch 1/200\n",
      "21/21 [==============================] - 16s 717ms/step - loss: 0.8081 - accuracy: 0.4628 - val_loss: 0.6911 - val_accuracy: 0.6036\n",
      "Epoch 2/200\n",
      "21/21 [==============================] - 16s 723ms/step - loss: 0.7993 - accuracy: 0.4757 - val_loss: 0.6876 - val_accuracy: 0.6296\n",
      "Epoch 3/200\n",
      "21/21 [==============================] - 14s 647ms/step - loss: 0.7903 - accuracy: 0.4895 - val_loss: 0.6831 - val_accuracy: 0.6456\n",
      "Epoch 4/200\n",
      "21/21 [==============================] - 14s 659ms/step - loss: 0.7827 - accuracy: 0.5025 - val_loss: 0.6780 - val_accuracy: 0.6623\n",
      "Epoch 5/200\n",
      "21/21 [==============================] - 12s 570ms/step - loss: 0.7750 - accuracy: 0.5141 - val_loss: 0.6728 - val_accuracy: 0.6663\n",
      "Epoch 6/200\n",
      "21/21 [==============================] - 11s 539ms/step - loss: 0.7680 - accuracy: 0.5247 - val_loss: 0.6677 - val_accuracy: 0.6652\n",
      "Epoch 7/200\n",
      "21/21 [==============================] - 12s 577ms/step - loss: 0.7610 - accuracy: 0.5351 - val_loss: 0.6629 - val_accuracy: 0.6649\n",
      "Epoch 8/200\n",
      "21/21 [==============================] - 13s 619ms/step - loss: 0.7541 - accuracy: 0.5457 - val_loss: 0.6585 - val_accuracy: 0.6637\n",
      "Epoch 9/200\n",
      "21/21 [==============================] - 11s 509ms/step - loss: 0.7477 - accuracy: 0.5549 - val_loss: 0.6547 - val_accuracy: 0.6655\n",
      "Epoch 10/200\n",
      "21/21 [==============================] - 10s 478ms/step - loss: 0.7429 - accuracy: 0.5635 - val_loss: 0.6515 - val_accuracy: 0.6670\n",
      "Epoch 11/200\n",
      "21/21 [==============================] - 10s 463ms/step - loss: 0.7382 - accuracy: 0.5717 - val_loss: 0.6490 - val_accuracy: 0.6684\n",
      "Epoch 12/200\n",
      "21/21 [==============================] - 10s 455ms/step - loss: 0.7318 - accuracy: 0.5799 - val_loss: 0.6471 - val_accuracy: 0.6684\n",
      "Epoch 13/200\n",
      "21/21 [==============================] - 10s 487ms/step - loss: 0.7264 - accuracy: 0.5866 - val_loss: 0.6457 - val_accuracy: 0.6694\n",
      "Epoch 14/200\n",
      "21/21 [==============================] - 10s 462ms/step - loss: 0.7215 - accuracy: 0.5944 - val_loss: 0.6446 - val_accuracy: 0.6705\n",
      "Epoch 15/200\n",
      "21/21 [==============================] - 11s 543ms/step - loss: 0.7171 - accuracy: 0.6000 - val_loss: 0.6435 - val_accuracy: 0.6714\n",
      "Epoch 16/200\n",
      "21/21 [==============================] - 14s 698ms/step - loss: 0.7119 - accuracy: 0.6069 - val_loss: 0.6424 - val_accuracy: 0.6725\n",
      "Epoch 17/200\n",
      "21/21 [==============================] - 16s 789ms/step - loss: 0.7073 - accuracy: 0.6134 - val_loss: 0.6412 - val_accuracy: 0.6732\n",
      "Epoch 18/200\n",
      "21/21 [==============================] - 13s 609ms/step - loss: 0.7033 - accuracy: 0.6184 - val_loss: 0.6399 - val_accuracy: 0.6747\n",
      "Epoch 19/200\n",
      "21/21 [==============================] - 12s 577ms/step - loss: 0.6995 - accuracy: 0.6237 - val_loss: 0.6385 - val_accuracy: 0.6756\n",
      "Epoch 20/200\n",
      "21/21 [==============================] - 11s 542ms/step - loss: 0.6951 - accuracy: 0.6286 - val_loss: 0.6368 - val_accuracy: 0.6761\n",
      "Epoch 21/200\n",
      "21/21 [==============================] - 10s 490ms/step - loss: 0.6912 - accuracy: 0.6337 - val_loss: 0.6349 - val_accuracy: 0.6773\n",
      "Epoch 22/200\n",
      "21/21 [==============================] - 12s 565ms/step - loss: 0.6871 - accuracy: 0.6380 - val_loss: 0.6329 - val_accuracy: 0.6782\n",
      "Epoch 23/200\n",
      "21/21 [==============================] - 13s 608ms/step - loss: 0.6839 - accuracy: 0.6421 - val_loss: 0.6306 - val_accuracy: 0.6784\n",
      "Epoch 24/200\n",
      "21/21 [==============================] - 10s 482ms/step - loss: 0.6793 - accuracy: 0.6463 - val_loss: 0.6279 - val_accuracy: 0.6791\n",
      "Epoch 25/200\n",
      "21/21 [==============================] - 11s 519ms/step - loss: 0.6763 - accuracy: 0.6502 - val_loss: 0.6242 - val_accuracy: 0.6796\n",
      "Epoch 26/200\n",
      "21/21 [==============================] - 10s 468ms/step - loss: 0.6727 - accuracy: 0.6540 - val_loss: 0.6199 - val_accuracy: 0.6802\n",
      "Epoch 27/200\n",
      "21/21 [==============================] - 12s 557ms/step - loss: 0.6692 - accuracy: 0.6572 - val_loss: 0.6146 - val_accuracy: 0.6819\n",
      "Epoch 28/200\n",
      "21/21 [==============================] - 13s 613ms/step - loss: 0.6661 - accuracy: 0.6613 - val_loss: 0.6089 - val_accuracy: 0.6857\n",
      "Epoch 29/200\n",
      "21/21 [==============================] - 15s 717ms/step - loss: 0.6618 - accuracy: 0.6643 - val_loss: 0.6030 - val_accuracy: 0.6907\n",
      "Epoch 30/200\n",
      "21/21 [==============================] - 13s 638ms/step - loss: 0.6589 - accuracy: 0.6675 - val_loss: 0.5975 - val_accuracy: 0.6955\n",
      "Epoch 31/200\n",
      "21/21 [==============================] - 12s 570ms/step - loss: 0.6566 - accuracy: 0.6697 - val_loss: 0.5927 - val_accuracy: 0.7023\n",
      "Epoch 32/200\n",
      "21/21 [==============================] - 12s 572ms/step - loss: 0.6527 - accuracy: 0.6740 - val_loss: 0.5891 - val_accuracy: 0.7067\n",
      "Epoch 33/200\n",
      "21/21 [==============================] - 12s 554ms/step - loss: 0.6500 - accuracy: 0.6762 - val_loss: 0.5875 - val_accuracy: 0.7094\n",
      "Epoch 34/200\n",
      "21/21 [==============================] - 11s 537ms/step - loss: 0.6464 - accuracy: 0.6784 - val_loss: 0.5872 - val_accuracy: 0.7128\n",
      "Epoch 35/200\n",
      "21/21 [==============================] - 13s 600ms/step - loss: 0.6439 - accuracy: 0.6817 - val_loss: 0.5882 - val_accuracy: 0.7140\n",
      "Epoch 36/200\n",
      "21/21 [==============================] - 11s 541ms/step - loss: 0.6400 - accuracy: 0.6848 - val_loss: 0.5907 - val_accuracy: 0.7127\n",
      "Epoch 37/200\n",
      "21/21 [==============================] - 11s 540ms/step - loss: 0.6373 - accuracy: 0.6871 - val_loss: 0.5940 - val_accuracy: 0.7107\n",
      "Epoch 38/200\n",
      "21/21 [==============================] - 11s 544ms/step - loss: 0.6340 - accuracy: 0.6891 - val_loss: 0.5976 - val_accuracy: 0.7090\n",
      "Epoch 39/200\n",
      "21/21 [==============================] - 10s 485ms/step - loss: 0.6312 - accuracy: 0.6922 - val_loss: 0.6014 - val_accuracy: 0.7076\n",
      "Epoch 40/200\n",
      "21/21 [==============================] - 11s 522ms/step - loss: 0.6284 - accuracy: 0.6946 - val_loss: 0.6050 - val_accuracy: 0.7057\n",
      "Epoch 41/200\n",
      "21/21 [==============================] - 10s 471ms/step - loss: 0.6257 - accuracy: 0.6969 - val_loss: 0.6083 - val_accuracy: 0.7054\n",
      "Epoch 42/200\n",
      "21/21 [==============================] - 9s 448ms/step - loss: 0.6228 - accuracy: 0.6987 - val_loss: 0.6111 - val_accuracy: 0.7043\n",
      "Epoch 43/200\n",
      "21/21 [==============================] - 10s 456ms/step - loss: 0.6202 - accuracy: 0.7013 - val_loss: 0.6129 - val_accuracy: 0.7041\n",
      "Epoch 44/200\n",
      "21/21 [==============================] - 9s 451ms/step - loss: 0.6185 - accuracy: 0.7031 - val_loss: 0.6145 - val_accuracy: 0.7040\n",
      "Epoch 45/200\n",
      "21/21 [==============================] - 13s 614ms/step - loss: 0.6152 - accuracy: 0.7059 - val_loss: 0.6157 - val_accuracy: 0.7041\n",
      "Epoch 46/200\n",
      "21/21 [==============================] - 13s 604ms/step - loss: 0.6115 - accuracy: 0.7082 - val_loss: 0.6156 - val_accuracy: 0.7048\n",
      "Epoch 47/200\n",
      "21/21 [==============================] - 11s 541ms/step - loss: 0.6100 - accuracy: 0.7095 - val_loss: 0.6157 - val_accuracy: 0.7054\n",
      "Epoch 48/200\n",
      "21/21 [==============================] - 12s 570ms/step - loss: 0.6068 - accuracy: 0.7115 - val_loss: 0.6162 - val_accuracy: 0.7061\n",
      "Epoch 49/200\n",
      "21/21 [==============================] - 11s 543ms/step - loss: 0.6048 - accuracy: 0.7133 - val_loss: 0.6145 - val_accuracy: 0.7077\n",
      "Epoch 50/200\n",
      "21/21 [==============================] - 14s 674ms/step - loss: 0.6015 - accuracy: 0.7151 - val_loss: 0.6138 - val_accuracy: 0.7085\n",
      "Epoch 51/200\n",
      "21/21 [==============================] - 12s 558ms/step - loss: 0.5997 - accuracy: 0.7170 - val_loss: 0.6121 - val_accuracy: 0.7101\n",
      "Epoch 52/200\n",
      "21/21 [==============================] - 12s 564ms/step - loss: 0.5965 - accuracy: 0.7188 - val_loss: 0.6103 - val_accuracy: 0.7116\n",
      "Epoch 53/200\n",
      "21/21 [==============================] - 11s 542ms/step - loss: 0.5949 - accuracy: 0.7199 - val_loss: 0.6090 - val_accuracy: 0.7130\n",
      "Epoch 54/200\n",
      "21/21 [==============================] - 11s 546ms/step - loss: 0.5932 - accuracy: 0.7219 - val_loss: 0.6084 - val_accuracy: 0.7141\n",
      "Epoch 55/200\n",
      "21/21 [==============================] - 12s 577ms/step - loss: 0.5895 - accuracy: 0.7240 - val_loss: 0.6060 - val_accuracy: 0.7160\n",
      "Epoch 56/200\n",
      "21/21 [==============================] - 10s 454ms/step - loss: 0.5880 - accuracy: 0.7252 - val_loss: 0.6047 - val_accuracy: 0.7172\n",
      "Epoch 57/200\n",
      "21/21 [==============================] - 10s 470ms/step - loss: 0.5849 - accuracy: 0.7267 - val_loss: 0.6024 - val_accuracy: 0.7188\n",
      "Epoch 58/200\n",
      "21/21 [==============================] - 10s 466ms/step - loss: 0.5843 - accuracy: 0.7278 - val_loss: 0.6011 - val_accuracy: 0.7205\n",
      "Epoch 59/200\n",
      "21/21 [==============================] - 10s 456ms/step - loss: 0.5821 - accuracy: 0.7299 - val_loss: 0.5989 - val_accuracy: 0.7220\n",
      "Epoch 60/200\n",
      "21/21 [==============================] - 11s 500ms/step - loss: 0.5792 - accuracy: 0.7312 - val_loss: 0.5968 - val_accuracy: 0.7236\n",
      "Epoch 61/200\n",
      "21/21 [==============================] - 11s 506ms/step - loss: 0.5773 - accuracy: 0.7320 - val_loss: 0.5964 - val_accuracy: 0.7245\n",
      "Epoch 62/200\n",
      "21/21 [==============================] - 10s 468ms/step - loss: 0.5749 - accuracy: 0.7344 - val_loss: 0.5949 - val_accuracy: 0.7257\n",
      "Epoch 63/200\n",
      "21/21 [==============================] - 10s 482ms/step - loss: 0.5741 - accuracy: 0.7352 - val_loss: 0.5934 - val_accuracy: 0.7271\n",
      "Epoch 64/200\n",
      "21/21 [==============================] - 10s 467ms/step - loss: 0.5720 - accuracy: 0.7363 - val_loss: 0.5913 - val_accuracy: 0.7288\n",
      "Epoch 65/200\n",
      "21/21 [==============================] - 10s 479ms/step - loss: 0.5684 - accuracy: 0.7389 - val_loss: 0.5889 - val_accuracy: 0.7303\n",
      "Epoch 66/200\n",
      "21/21 [==============================] - 10s 468ms/step - loss: 0.5672 - accuracy: 0.7395 - val_loss: 0.5877 - val_accuracy: 0.7315\n",
      "Epoch 67/200\n",
      "21/21 [==============================] - 10s 469ms/step - loss: 0.5655 - accuracy: 0.7410 - val_loss: 0.5861 - val_accuracy: 0.7326\n",
      "Epoch 68/200\n",
      "21/21 [==============================] - 9s 450ms/step - loss: 0.5648 - accuracy: 0.7418 - val_loss: 0.5839 - val_accuracy: 0.7340\n",
      "Epoch 69/200\n",
      "21/21 [==============================] - 11s 517ms/step - loss: 0.5620 - accuracy: 0.7434 - val_loss: 0.5826 - val_accuracy: 0.7350\n",
      "Epoch 70/200\n",
      "21/21 [==============================] - 10s 476ms/step - loss: 0.5604 - accuracy: 0.7446 - val_loss: 0.5801 - val_accuracy: 0.7366\n",
      "Epoch 71/200\n",
      "21/21 [==============================] - 9s 441ms/step - loss: 0.5585 - accuracy: 0.7455 - val_loss: 0.5785 - val_accuracy: 0.7378\n",
      "Epoch 72/200\n",
      "21/21 [==============================] - 10s 464ms/step - loss: 0.5562 - accuracy: 0.7472 - val_loss: 0.5787 - val_accuracy: 0.7384\n",
      "Epoch 73/200\n",
      "21/21 [==============================] - 10s 475ms/step - loss: 0.5550 - accuracy: 0.7478 - val_loss: 0.5757 - val_accuracy: 0.7399\n",
      "Epoch 74/200\n",
      "21/21 [==============================] - 11s 513ms/step - loss: 0.5537 - accuracy: 0.7494 - val_loss: 0.5752 - val_accuracy: 0.7408\n",
      "Epoch 75/200\n",
      "21/21 [==============================] - 10s 486ms/step - loss: 0.5517 - accuracy: 0.7501 - val_loss: 0.5734 - val_accuracy: 0.7418\n",
      "Epoch 76/200\n",
      "21/21 [==============================] - 9s 436ms/step - loss: 0.5505 - accuracy: 0.7515 - val_loss: 0.5711 - val_accuracy: 0.7433\n",
      "Epoch 77/200\n",
      "21/21 [==============================] - 9s 442ms/step - loss: 0.5491 - accuracy: 0.7526 - val_loss: 0.5694 - val_accuracy: 0.7447\n",
      "Epoch 78/200\n",
      "21/21 [==============================] - 9s 450ms/step - loss: 0.5470 - accuracy: 0.7531 - val_loss: 0.5681 - val_accuracy: 0.7456\n",
      "Epoch 79/200\n",
      "21/21 [==============================] - 9s 450ms/step - loss: 0.5454 - accuracy: 0.7546 - val_loss: 0.5665 - val_accuracy: 0.7468\n",
      "Epoch 80/200\n",
      "21/21 [==============================] - 9s 443ms/step - loss: 0.5434 - accuracy: 0.7559 - val_loss: 0.5651 - val_accuracy: 0.7482\n",
      "Epoch 81/200\n",
      "21/21 [==============================] - 10s 477ms/step - loss: 0.5424 - accuracy: 0.7572 - val_loss: 0.5649 - val_accuracy: 0.7490\n",
      "Epoch 82/200\n",
      "21/21 [==============================] - 9s 454ms/step - loss: 0.5395 - accuracy: 0.7589 - val_loss: 0.5633 - val_accuracy: 0.7500\n",
      "Epoch 83/200\n",
      "21/21 [==============================] - 9s 446ms/step - loss: 0.5389 - accuracy: 0.7594 - val_loss: 0.5609 - val_accuracy: 0.7512\n",
      "Epoch 84/200\n",
      "21/21 [==============================] - 9s 454ms/step - loss: 0.5365 - accuracy: 0.7605 - val_loss: 0.5599 - val_accuracy: 0.7519\n",
      "Epoch 85/200\n",
      "21/21 [==============================] - 12s 565ms/step - loss: 0.5355 - accuracy: 0.7615 - val_loss: 0.5586 - val_accuracy: 0.7532\n",
      "Epoch 86/200\n",
      "21/21 [==============================] - 11s 532ms/step - loss: 0.5342 - accuracy: 0.7624 - val_loss: 0.5566 - val_accuracy: 0.7542\n",
      "Epoch 87/200\n",
      "21/21 [==============================] - 10s 497ms/step - loss: 0.5320 - accuracy: 0.7635 - val_loss: 0.5551 - val_accuracy: 0.7551\n",
      "Epoch 88/200\n",
      "21/21 [==============================] - 11s 522ms/step - loss: 0.5307 - accuracy: 0.7643 - val_loss: 0.5521 - val_accuracy: 0.7567\n",
      "Epoch 89/200\n",
      "21/21 [==============================] - 12s 599ms/step - loss: 0.5292 - accuracy: 0.7655 - val_loss: 0.5520 - val_accuracy: 0.7575\n",
      "Epoch 90/200\n",
      "21/21 [==============================] - 11s 506ms/step - loss: 0.5282 - accuracy: 0.7657 - val_loss: 0.5513 - val_accuracy: 0.7580\n",
      "Epoch 91/200\n",
      "21/21 [==============================] - 10s 487ms/step - loss: 0.5277 - accuracy: 0.7671 - val_loss: 0.5488 - val_accuracy: 0.7595\n",
      "Epoch 92/200\n",
      "21/21 [==============================] - 10s 490ms/step - loss: 0.5241 - accuracy: 0.7691 - val_loss: 0.5455 - val_accuracy: 0.7613\n",
      "Epoch 93/200\n",
      "21/21 [==============================] - 10s 478ms/step - loss: 0.5228 - accuracy: 0.7698 - val_loss: 0.5447 - val_accuracy: 0.7619\n",
      "Epoch 94/200\n",
      "21/21 [==============================] - 10s 465ms/step - loss: 0.5203 - accuracy: 0.7720 - val_loss: 0.5416 - val_accuracy: 0.7639\n",
      "Epoch 95/200\n",
      "21/21 [==============================] - 10s 462ms/step - loss: 0.5195 - accuracy: 0.7721 - val_loss: 0.5408 - val_accuracy: 0.7644\n",
      "Epoch 96/200\n",
      "21/21 [==============================] - 11s 519ms/step - loss: 0.5186 - accuracy: 0.7724 - val_loss: 0.5391 - val_accuracy: 0.7654\n",
      "Epoch 97/200\n",
      "21/21 [==============================] - 10s 495ms/step - loss: 0.5166 - accuracy: 0.7742 - val_loss: 0.5363 - val_accuracy: 0.7669\n",
      "Epoch 98/200\n",
      "21/21 [==============================] - 9s 451ms/step - loss: 0.5151 - accuracy: 0.7750 - val_loss: 0.5362 - val_accuracy: 0.7673\n",
      "Epoch 99/200\n",
      "21/21 [==============================] - 10s 464ms/step - loss: 0.5130 - accuracy: 0.7766 - val_loss: 0.5351 - val_accuracy: 0.7681\n",
      "Epoch 100/200\n",
      "21/21 [==============================] - 10s 455ms/step - loss: 0.5121 - accuracy: 0.7760 - val_loss: 0.5354 - val_accuracy: 0.7682\n",
      "Epoch 101/200\n",
      "21/21 [==============================] - 9s 448ms/step - loss: 0.5102 - accuracy: 0.7778 - val_loss: 0.5334 - val_accuracy: 0.7691\n",
      "Epoch 102/200\n",
      "21/21 [==============================] - 10s 459ms/step - loss: 0.5094 - accuracy: 0.7784 - val_loss: 0.5333 - val_accuracy: 0.7696\n",
      "Epoch 103/200\n",
      "21/21 [==============================] - 10s 456ms/step - loss: 0.5059 - accuracy: 0.7807 - val_loss: 0.5316 - val_accuracy: 0.7709\n",
      "Epoch 104/200\n",
      "21/21 [==============================] - 10s 468ms/step - loss: 0.5047 - accuracy: 0.7812 - val_loss: 0.5300 - val_accuracy: 0.7720\n",
      "Epoch 105/200\n",
      "21/21 [==============================] - 10s 459ms/step - loss: 0.5039 - accuracy: 0.7821 - val_loss: 0.5291 - val_accuracy: 0.7728\n",
      "Epoch 106/200\n",
      "21/21 [==============================] - 10s 474ms/step - loss: 0.5015 - accuracy: 0.7839 - val_loss: 0.5263 - val_accuracy: 0.7743\n",
      "Epoch 107/200\n",
      "21/21 [==============================] - 10s 456ms/step - loss: 0.4992 - accuracy: 0.7852 - val_loss: 0.5246 - val_accuracy: 0.7753\n",
      "Epoch 108/200\n",
      "21/21 [==============================] - 9s 440ms/step - loss: 0.4990 - accuracy: 0.7851 - val_loss: 0.5235 - val_accuracy: 0.7757\n",
      "Epoch 109/200\n",
      "21/21 [==============================] - 9s 444ms/step - loss: 0.4968 - accuracy: 0.7867 - val_loss: 0.5223 - val_accuracy: 0.7766\n",
      "Epoch 110/200\n",
      "21/21 [==============================] - 9s 442ms/step - loss: 0.4949 - accuracy: 0.7882 - val_loss: 0.5201 - val_accuracy: 0.7781\n",
      "Epoch 111/200\n",
      "21/21 [==============================] - 9s 450ms/step - loss: 0.4940 - accuracy: 0.7883 - val_loss: 0.5180 - val_accuracy: 0.7792\n",
      "Epoch 112/200\n",
      "21/21 [==============================] - 9s 444ms/step - loss: 0.4920 - accuracy: 0.7895 - val_loss: 0.5188 - val_accuracy: 0.7791\n",
      "Epoch 113/200\n",
      "21/21 [==============================] - 10s 456ms/step - loss: 0.4902 - accuracy: 0.7911 - val_loss: 0.5170 - val_accuracy: 0.7802\n",
      "Epoch 114/200\n",
      "21/21 [==============================] - 9s 451ms/step - loss: 0.4894 - accuracy: 0.7913 - val_loss: 0.5156 - val_accuracy: 0.7808\n",
      "Epoch 115/200\n",
      "21/21 [==============================] - 10s 478ms/step - loss: 0.4875 - accuracy: 0.7925 - val_loss: 0.5116 - val_accuracy: 0.7830\n",
      "Epoch 116/200\n",
      "21/21 [==============================] - 11s 511ms/step - loss: 0.4846 - accuracy: 0.7946 - val_loss: 0.5111 - val_accuracy: 0.7834\n",
      "Epoch 117/200\n",
      "21/21 [==============================] - 11s 544ms/step - loss: 0.4837 - accuracy: 0.7947 - val_loss: 0.5088 - val_accuracy: 0.7845\n",
      "Epoch 118/200\n",
      "21/21 [==============================] - 11s 543ms/step - loss: 0.4822 - accuracy: 0.7957 - val_loss: 0.5092 - val_accuracy: 0.7849\n",
      "Epoch 119/200\n",
      "21/21 [==============================] - 12s 559ms/step - loss: 0.4816 - accuracy: 0.7965 - val_loss: 0.5090 - val_accuracy: 0.7856\n",
      "Epoch 120/200\n",
      "21/21 [==============================] - 10s 477ms/step - loss: 0.4788 - accuracy: 0.7978 - val_loss: 0.5057 - val_accuracy: 0.7873\n",
      "Epoch 121/200\n",
      "21/21 [==============================] - 10s 478ms/step - loss: 0.4771 - accuracy: 0.7986 - val_loss: 0.5040 - val_accuracy: 0.7882\n",
      "Epoch 122/200\n",
      "21/21 [==============================] - 11s 506ms/step - loss: 0.4757 - accuracy: 0.7996 - val_loss: 0.5026 - val_accuracy: 0.7896\n",
      "Epoch 123/200\n",
      "21/21 [==============================] - 10s 455ms/step - loss: 0.4736 - accuracy: 0.8005 - val_loss: 0.5000 - val_accuracy: 0.7907\n",
      "Epoch 124/200\n",
      "21/21 [==============================] - 9s 452ms/step - loss: 0.4721 - accuracy: 0.8022 - val_loss: 0.4998 - val_accuracy: 0.7909\n",
      "Epoch 125/200\n",
      "21/21 [==============================] - 11s 505ms/step - loss: 0.4710 - accuracy: 0.8029 - val_loss: 0.4966 - val_accuracy: 0.7933\n",
      "Epoch 126/200\n",
      "21/21 [==============================] - 12s 573ms/step - loss: 0.4683 - accuracy: 0.8044 - val_loss: 0.4978 - val_accuracy: 0.7929\n",
      "Epoch 127/200\n",
      "21/21 [==============================] - 14s 693ms/step - loss: 0.4664 - accuracy: 0.8053 - val_loss: 0.4980 - val_accuracy: 0.7934\n",
      "Epoch 128/200\n",
      "21/21 [==============================] - 12s 566ms/step - loss: 0.4652 - accuracy: 0.8063 - val_loss: 0.4940 - val_accuracy: 0.7957\n",
      "Epoch 129/200\n",
      "21/21 [==============================] - 12s 578ms/step - loss: 0.4634 - accuracy: 0.8079 - val_loss: 0.4907 - val_accuracy: 0.7969\n",
      "Epoch 130/200\n",
      "21/21 [==============================] - 11s 522ms/step - loss: 0.4607 - accuracy: 0.8090 - val_loss: 0.4904 - val_accuracy: 0.7975\n",
      "Epoch 131/200\n",
      "21/21 [==============================] - 12s 590ms/step - loss: 0.4586 - accuracy: 0.8104 - val_loss: 0.4867 - val_accuracy: 0.7993\n",
      "Epoch 132/200\n",
      "21/21 [==============================] - 10s 466ms/step - loss: 0.4583 - accuracy: 0.8100 - val_loss: 0.4859 - val_accuracy: 0.7996\n",
      "Epoch 133/200\n",
      "21/21 [==============================] - 10s 500ms/step - loss: 0.4564 - accuracy: 0.8114 - val_loss: 0.4865 - val_accuracy: 0.8003\n",
      "Epoch 134/200\n",
      "21/21 [==============================] - 11s 507ms/step - loss: 0.4538 - accuracy: 0.8131 - val_loss: 0.4827 - val_accuracy: 0.8020\n",
      "Epoch 135/200\n",
      "21/21 [==============================] - 10s 479ms/step - loss: 0.4516 - accuracy: 0.8143 - val_loss: 0.4789 - val_accuracy: 0.8036\n",
      "Epoch 136/200\n",
      "21/21 [==============================] - 10s 484ms/step - loss: 0.4500 - accuracy: 0.8154 - val_loss: 0.4763 - val_accuracy: 0.8049\n",
      "Epoch 137/200\n",
      "21/21 [==============================] - 10s 470ms/step - loss: 0.4485 - accuracy: 0.8163 - val_loss: 0.4773 - val_accuracy: 0.8050\n",
      "Epoch 138/200\n",
      "21/21 [==============================] - 10s 478ms/step - loss: 0.4451 - accuracy: 0.8183 - val_loss: 0.4773 - val_accuracy: 0.8055\n",
      "Epoch 139/200\n",
      "21/21 [==============================] - 10s 482ms/step - loss: 0.4440 - accuracy: 0.8190 - val_loss: 0.4765 - val_accuracy: 0.8064\n",
      "Epoch 140/200\n",
      "21/21 [==============================] - 10s 479ms/step - loss: 0.4432 - accuracy: 0.8197 - val_loss: 0.4739 - val_accuracy: 0.8073\n",
      "Epoch 141/200\n",
      "21/21 [==============================] - 10s 467ms/step - loss: 0.4406 - accuracy: 0.8205 - val_loss: 0.4728 - val_accuracy: 0.8082\n",
      "Epoch 142/200\n",
      "21/21 [==============================] - 10s 467ms/step - loss: 0.4390 - accuracy: 0.8223 - val_loss: 0.4727 - val_accuracy: 0.8087\n",
      "Epoch 143/200\n",
      "21/21 [==============================] - 10s 472ms/step - loss: 0.4367 - accuracy: 0.8237 - val_loss: 0.4693 - val_accuracy: 0.8106\n",
      "Epoch 144/200\n",
      "21/21 [==============================] - 10s 476ms/step - loss: 0.4349 - accuracy: 0.8248 - val_loss: 0.4694 - val_accuracy: 0.8109\n",
      "Epoch 145/200\n",
      "21/21 [==============================] - 10s 471ms/step - loss: 0.4317 - accuracy: 0.8265 - val_loss: 0.4687 - val_accuracy: 0.8116\n",
      "Epoch 146/200\n",
      "21/21 [==============================] - 10s 478ms/step - loss: 0.4313 - accuracy: 0.8265 - val_loss: 0.4685 - val_accuracy: 0.8121\n",
      "Epoch 147/200\n",
      "21/21 [==============================] - 10s 483ms/step - loss: 0.4295 - accuracy: 0.8288 - val_loss: 0.4680 - val_accuracy: 0.8126\n",
      "Epoch 148/200\n",
      "21/21 [==============================] - 10s 469ms/step - loss: 0.4267 - accuracy: 0.8297 - val_loss: 0.4638 - val_accuracy: 0.8148\n",
      "Epoch 149/200\n",
      "21/21 [==============================] - 10s 483ms/step - loss: 0.4250 - accuracy: 0.8306 - val_loss: 0.4642 - val_accuracy: 0.8151\n",
      "Epoch 150/200\n",
      "21/21 [==============================] - 10s 472ms/step - loss: 0.4228 - accuracy: 0.8328 - val_loss: 0.4608 - val_accuracy: 0.8167\n",
      "Epoch 151/200\n",
      "21/21 [==============================] - 10s 472ms/step - loss: 0.4213 - accuracy: 0.8330 - val_loss: 0.4579 - val_accuracy: 0.8183\n",
      "Epoch 152/200\n",
      "21/21 [==============================] - 10s 473ms/step - loss: 0.4188 - accuracy: 0.8348 - val_loss: 0.4566 - val_accuracy: 0.8194\n",
      "Epoch 153/200\n",
      "21/21 [==============================] - 10s 492ms/step - loss: 0.4175 - accuracy: 0.8352 - val_loss: 0.4559 - val_accuracy: 0.8199\n",
      "Epoch 154/200\n",
      "21/21 [==============================] - 10s 494ms/step - loss: 0.4148 - accuracy: 0.8366 - val_loss: 0.4557 - val_accuracy: 0.8203\n",
      "Epoch 155/200\n",
      "21/21 [==============================] - 10s 493ms/step - loss: 0.4139 - accuracy: 0.8373 - val_loss: 0.4505 - val_accuracy: 0.8232\n",
      "Epoch 156/200\n",
      "21/21 [==============================] - 10s 477ms/step - loss: 0.4132 - accuracy: 0.8376 - val_loss: 0.4496 - val_accuracy: 0.8234\n",
      "Epoch 157/200\n",
      "21/21 [==============================] - 9s 452ms/step - loss: 0.4105 - accuracy: 0.8393 - val_loss: 0.4490 - val_accuracy: 0.8237\n",
      "Epoch 158/200\n",
      "21/21 [==============================] - 9s 433ms/step - loss: 0.4086 - accuracy: 0.8409 - val_loss: 0.4484 - val_accuracy: 0.8246\n",
      "Epoch 159/200\n",
      "21/21 [==============================] - 9s 438ms/step - loss: 0.4053 - accuracy: 0.8424 - val_loss: 0.4433 - val_accuracy: 0.8272\n",
      "Epoch 160/200\n",
      "21/21 [==============================] - 9s 453ms/step - loss: 0.4039 - accuracy: 0.8430 - val_loss: 0.4423 - val_accuracy: 0.8279\n",
      "Epoch 161/200\n",
      "21/21 [==============================] - 9s 450ms/step - loss: 0.4030 - accuracy: 0.8434 - val_loss: 0.4397 - val_accuracy: 0.8292\n",
      "Epoch 162/200\n",
      "21/21 [==============================] - 10s 456ms/step - loss: 0.4011 - accuracy: 0.8445 - val_loss: 0.4375 - val_accuracy: 0.8301\n",
      "Epoch 163/200\n",
      "21/21 [==============================] - 10s 482ms/step - loss: 0.3989 - accuracy: 0.8457 - val_loss: 0.4384 - val_accuracy: 0.8301\n",
      "Epoch 164/200\n",
      "21/21 [==============================] - 11s 528ms/step - loss: 0.3991 - accuracy: 0.8455 - val_loss: 0.4381 - val_accuracy: 0.8306\n",
      "Epoch 165/200\n",
      "21/21 [==============================] - 10s 477ms/step - loss: 0.3952 - accuracy: 0.8484 - val_loss: 0.4370 - val_accuracy: 0.8310\n",
      "Epoch 166/200\n",
      "21/21 [==============================] - 10s 483ms/step - loss: 0.3941 - accuracy: 0.8489 - val_loss: 0.4313 - val_accuracy: 0.8332\n",
      "Epoch 167/200\n",
      "21/21 [==============================] - 10s 475ms/step - loss: 0.3918 - accuracy: 0.8503 - val_loss: 0.4328 - val_accuracy: 0.8331\n",
      "Epoch 168/200\n",
      "21/21 [==============================] - 10s 456ms/step - loss: 0.3909 - accuracy: 0.8500 - val_loss: 0.4297 - val_accuracy: 0.8342\n",
      "Epoch 169/200\n",
      "21/21 [==============================] - 9s 448ms/step - loss: 0.3892 - accuracy: 0.8510 - val_loss: 0.4308 - val_accuracy: 0.8342\n",
      "Epoch 170/200\n",
      "21/21 [==============================] - 10s 460ms/step - loss: 0.3867 - accuracy: 0.8525 - val_loss: 0.4277 - val_accuracy: 0.8355\n",
      "Epoch 171/200\n",
      "21/21 [==============================] - 9s 453ms/step - loss: 0.3865 - accuracy: 0.8529 - val_loss: 0.4238 - val_accuracy: 0.8370\n",
      "Epoch 172/200\n",
      "21/21 [==============================] - 9s 450ms/step - loss: 0.3830 - accuracy: 0.8546 - val_loss: 0.4220 - val_accuracy: 0.8378\n",
      "Epoch 173/200\n",
      "21/21 [==============================] - 10s 458ms/step - loss: 0.3812 - accuracy: 0.8554 - val_loss: 0.4238 - val_accuracy: 0.8375\n",
      "Epoch 174/200\n",
      "21/21 [==============================] - 10s 457ms/step - loss: 0.3791 - accuracy: 0.8563 - val_loss: 0.4216 - val_accuracy: 0.8388\n",
      "Epoch 175/200\n",
      "21/21 [==============================] - 10s 453ms/step - loss: 0.3790 - accuracy: 0.8563 - val_loss: 0.4219 - val_accuracy: 0.8391\n",
      "Epoch 176/200\n",
      "21/21 [==============================] - 9s 453ms/step - loss: 0.3766 - accuracy: 0.8582 - val_loss: 0.4191 - val_accuracy: 0.8401\n",
      "Epoch 177/200\n",
      "21/21 [==============================] - 9s 453ms/step - loss: 0.3743 - accuracy: 0.8593 - val_loss: 0.4194 - val_accuracy: 0.8403\n",
      "Epoch 178/200\n",
      "21/21 [==============================] - 10s 483ms/step - loss: 0.3721 - accuracy: 0.8602 - val_loss: 0.4170 - val_accuracy: 0.8412\n",
      "Epoch 179/200\n",
      "21/21 [==============================] - 10s 470ms/step - loss: 0.3730 - accuracy: 0.8594 - val_loss: 0.4180 - val_accuracy: 0.8411\n",
      "Epoch 180/200\n",
      "21/21 [==============================] - 9s 447ms/step - loss: 0.3698 - accuracy: 0.8611 - val_loss: 0.4154 - val_accuracy: 0.8422\n",
      "Epoch 181/200\n",
      "21/21 [==============================] - 10s 474ms/step - loss: 0.3670 - accuracy: 0.8627 - val_loss: 0.4136 - val_accuracy: 0.8432\n",
      "Epoch 182/200\n",
      "21/21 [==============================] - 10s 456ms/step - loss: 0.3679 - accuracy: 0.8623 - val_loss: 0.4137 - val_accuracy: 0.8434\n",
      "Epoch 183/200\n",
      "21/21 [==============================] - 10s 453ms/step - loss: 0.3659 - accuracy: 0.8638 - val_loss: 0.4083 - val_accuracy: 0.8450\n",
      "Epoch 184/200\n",
      "21/21 [==============================] - 9s 446ms/step - loss: 0.3635 - accuracy: 0.8645 - val_loss: 0.4118 - val_accuracy: 0.8444\n",
      "Epoch 185/200\n",
      "21/21 [==============================] - 9s 452ms/step - loss: 0.3618 - accuracy: 0.8651 - val_loss: 0.4062 - val_accuracy: 0.8460\n",
      "Epoch 186/200\n",
      "21/21 [==============================] - 10s 472ms/step - loss: 0.3606 - accuracy: 0.8660 - val_loss: 0.4075 - val_accuracy: 0.8459\n",
      "Epoch 187/200\n",
      "21/21 [==============================] - 10s 467ms/step - loss: 0.3599 - accuracy: 0.8665 - val_loss: 0.4067 - val_accuracy: 0.8465\n",
      "Epoch 188/200\n",
      "21/21 [==============================] - 9s 446ms/step - loss: 0.3575 - accuracy: 0.8677 - val_loss: 0.4033 - val_accuracy: 0.8478\n",
      "Epoch 189/200\n",
      "21/21 [==============================] - 10s 476ms/step - loss: 0.3561 - accuracy: 0.8680 - val_loss: 0.4017 - val_accuracy: 0.8486\n",
      "Epoch 190/200\n",
      "21/21 [==============================] - 9s 454ms/step - loss: 0.3536 - accuracy: 0.8693 - val_loss: 0.4003 - val_accuracy: 0.8489\n",
      "Epoch 191/200\n",
      "21/21 [==============================] - 9s 446ms/step - loss: 0.3527 - accuracy: 0.8697 - val_loss: 0.3995 - val_accuracy: 0.8496\n",
      "Epoch 192/200\n",
      "21/21 [==============================] - 10s 461ms/step - loss: 0.3505 - accuracy: 0.8706 - val_loss: 0.3972 - val_accuracy: 0.8505\n",
      "Epoch 193/200\n",
      "21/21 [==============================] - 9s 448ms/step - loss: 0.3515 - accuracy: 0.8710 - val_loss: 0.3982 - val_accuracy: 0.8506\n",
      "Epoch 194/200\n",
      "21/21 [==============================] - 9s 449ms/step - loss: 0.3469 - accuracy: 0.8729 - val_loss: 0.3980 - val_accuracy: 0.8511\n",
      "Epoch 195/200\n",
      "21/21 [==============================] - 15s 741ms/step - loss: 0.3459 - accuracy: 0.8729 - val_loss: 0.3939 - val_accuracy: 0.8522\n",
      "Epoch 196/200\n",
      "21/21 [==============================] - 14s 640ms/step - loss: 0.3448 - accuracy: 0.8738 - val_loss: 0.3936 - val_accuracy: 0.8522\n",
      "Epoch 197/200\n",
      "21/21 [==============================] - 13s 597ms/step - loss: 0.3439 - accuracy: 0.8741 - val_loss: 0.3924 - val_accuracy: 0.8532\n",
      "Epoch 198/200\n",
      "21/21 [==============================] - 13s 617ms/step - loss: 0.3435 - accuracy: 0.8741 - val_loss: 0.3919 - val_accuracy: 0.8532\n",
      "Epoch 199/200\n",
      "21/21 [==============================] - 12s 582ms/step - loss: 0.3413 - accuracy: 0.8748 - val_loss: 0.3912 - val_accuracy: 0.8538\n",
      "Epoch 200/200\n",
      "21/21 [==============================] - 12s 589ms/step - loss: 0.3388 - accuracy: 0.8764 - val_loss: 0.3895 - val_accuracy: 0.8544\n"
     ]
    }
   ],
   "source": [
    "model_mnist_padded.compile(optimizer = tf.keras.optimizers.Adam(learning_rate=1e-6), loss = 'binary_crossentropy', \n",
    "                    metrics = 'accuracy')\n",
    "hist_padded2 = model_mnist_padded.fit(x = fieldMNIST_train_padded, y = targetMNIST_train, \n",
    "                                    validation_data=(fieldMNIST_val_padded, targetMNIST_val), \n",
    "                                    batch_size = 20, epochs = 200, \n",
    "                                    callbacks = [EarlyStopping(monitor='loss',patience=10)])"
   ]
  },
  {
   "cell_type": "code",
   "execution_count": null,
   "metadata": {},
   "outputs": [],
   "source": [
    "model_mnist_padded.save('unet_testing.h5', overwrite=True)\n",
    "\n",
    "trained_model_cross_entropy = load_model('unet_testing.h5')"
   ]
  },
  {
   "cell_type": "code",
   "execution_count": 12,
   "metadata": {},
   "outputs": [
    {
     "name": "stdout",
     "output_type": "stream",
     "text": [
      "4/4 [==============================] - 1s 138ms/step\n"
     ]
    }
   ],
   "source": [
    "pred3 = model_mnist_padded.predict(fieldMNIST_test_padded)"
   ]
  },
  {
   "cell_type": "code",
   "execution_count": 13,
   "metadata": {},
   "outputs": [
    {
     "data": {
      "image/png": "[encoded data removed]",
      "text/plain": [
       "<Figure size 1728x1728 with 3 Axes>"
      ]
     },
     "metadata": {
      "needs_background": "light"
     },
     "output_type": "display_data"
    }
   ],
   "source": [
    "fig, axs = plt.subplots(1, 3, figsize=(24, 24))\n",
    "\n",
    "axs[0].matshow(fieldMNIST_test[50])\n",
    "axs[1].matshow(targetMNIST_test[50])\n",
    "axs[2].matshow(pred3[50])\n",
    "\n",
    "plt.show()"
   ]
  },
  {
   "cell_type": "code",
   "execution_count": 14,
   "metadata": {},
   "outputs": [
    {
     "name": "stdout",
     "output_type": "stream",
     "text": [
      "4/4 [==============================] - 1s 119ms/step - loss: 0.3850 - accuracy: 0.8549\n"
     ]
    },
    {
     "data": {
      "text/plain": [
       "[0.3850353956222534, 0.8548651337623596]"
      ]
     },
     "execution_count": 14,
     "metadata": {},
     "output_type": "execute_result"
    }
   ],
   "source": [
    "model_mnist_padded.evaluate(fieldMNIST_test_padded, targetMNIST_test)"
   ]
  },
  {
   "cell_type": "code",
   "execution_count": 10,
   "metadata": {},
   "outputs": [
    {
     "data": {
      "image/png": "[encoded data removed]",
      "text/plain": [
       "<Figure size 432x288 with 1 Axes>"
      ]
     },
     "metadata": {
      "needs_background": "light"
     },
     "output_type": "display_data"
    }
   ],
   "source": [
    "loss = hist_padded2.history['loss']\n",
    "val_loss = hist_padded2.history['val_loss']\n",
    "epochs = range(1, len(loss) + 1)\n",
    "plt.plot(epochs, loss, 'y', label='Training loss')\n",
    "plt.plot(epochs, val_loss, 'r', label='Validation loss')\n",
    "plt.title('Training and validation loss')\n",
    "plt.xlabel('Epochs')\n",
    "plt.ylabel('Loss')\n",
    "plt.legend()\n",
    "plt.show()"
   ]
  },
  {
   "cell_type": "code",
   "execution_count": 11,
   "metadata": {},
   "outputs": [
    {
     "data": {
      "image/png": "[encoded data removed]",
      "text/plain": [
       "<Figure size 432x288 with 1 Axes>"
      ]
     },
     "metadata": {
      "needs_background": "light"
     },
     "output_type": "display_data"
    }
   ],
   "source": [
    "acc = hist_padded2.history['accuracy']\n",
    "val_acc = hist_padded2.history['val_accuracy']\n",
    "\n",
    "plt.plot(epochs, acc, 'y', label='Training acc')\n",
    "plt.plot(epochs, val_acc, 'r', label='Validation acc')\n",
    "plt.title('Training and validation accuracy')\n",
    "plt.xlabel('Epochs')\n",
    "plt.ylabel('Accuracy')\n",
    "plt.legend()\n",
    "plt.show()"
   ]
  },
  {
   "cell_type": "code",
   "execution_count": null,
   "metadata": {},
   "outputs": [],
   "source": []
  },
  {
   "cell_type": "code",
   "execution_count": 15,
   "metadata": {},
   "outputs": [],
   "source": [
    "def unet_padded2(input_shape):\n",
    "    inputs = Input(input_shape)\n",
    "\n",
    "    conv1 = Conv2D(64, 3, padding='same')(inputs)\n",
    "    conv1 = BatchNormalization()(conv1)\n",
    "    conv1 = Activation('relu')(conv1)\n",
    "    conv1 = Conv2D(64, 3, padding='same')(conv1)\n",
    "    conv1 = BatchNormalization()(conv1)\n",
    "    conv1 = Activation('relu')(conv1)\n",
    "    conv1 = Conv2D(64, 3, padding='same')(conv1)\n",
    "    conv1 = BatchNormalization()(conv1)\n",
    "    conv1 = Activation('relu')(conv1)\n",
    "    pool1 = MaxPooling2D(pool_size=(2, 2))(conv1)\n",
    "\n",
    "    conv2 = Conv2D(128, 3, padding='same')(pool1)\n",
    "    conv2 = BatchNormalization()(conv2)\n",
    "    conv2 = Activation('relu')(conv2)\n",
    "    conv2 = Conv2D(128, 3, padding='same')(conv2)\n",
    "    conv2 = BatchNormalization()(conv2)\n",
    "    conv2 = Activation('relu')(conv2)\n",
    "    pool2 = MaxPooling2D(pool_size=(2, 2))(conv2)\n",
    "\n",
    "    # Bottleneck\n",
    "    bottleneck = Conv2D(256, 3, padding='same')(pool2)\n",
    "    bottleneck = BatchNormalization()(bottleneck)\n",
    "    bottleneck = Activation('relu')(bottleneck)\n",
    "    bottleneck = Conv2D(256, 3, padding='same')(bottleneck)\n",
    "    bottleneck = BatchNormalization()(bottleneck)\n",
    "    bottleneck = Activation('relu')(bottleneck)\n",
    "\n",
    "    # Expansive Path\n",
    "    up1 = Conv2DTranspose(128, (3, 3), strides=(2, 2), padding='same')(bottleneck)\n",
    "    skip1 = Concatenate(axis=-1)([conv2, up1])\n",
    "    conv3 = Conv2D(128, 3, padding='same')(skip1)\n",
    "    conv3 = BatchNormalization()(conv3)\n",
    "    conv3 = Activation('relu')(conv3)\n",
    "    conv3 = Conv2D(128, 3, padding='same')(conv3)\n",
    "    conv3 = BatchNormalization()(conv3)\n",
    "    conv3 = Activation('relu')(conv3)\n",
    "\n",
    "    up2 = Conv2DTranspose(64, (3, 3), strides=(2, 2), padding='same')(conv3)\n",
    "    skip2 = Concatenate(axis=-1)([conv1, up2])\n",
    "    conv4 = Conv2D(64, 3, padding='same')(skip2)\n",
    "    conv4 = BatchNormalization()(conv4)\n",
    "    conv4 = Activation('relu')(conv4)\n",
    "    conv4 = Conv2D(64, 3, padding='same')(conv4)\n",
    "    conv4 = BatchNormalization()(conv4)\n",
    "    conv4 = Activation('relu')(conv4)\n",
    "\n",
    "    # up3 = Conv2DTranspose(32, (3, 3), strides=(2, 2), padding='same')(conv4)\n",
    "    # # skip2 = Concatenate(axis=-1)([conv1, up2])\n",
    "    # conv5 = Conv2D(32, 3, padding='same')(up3)\n",
    "    # conv5 = BatchNormalization()(conv5)\n",
    "    # conv5 = Activation('relu')(conv5)\n",
    "    # conv5 = Conv2D(32, 3, padding='same')(conv5)\n",
    "    # conv5 = BatchNormalization()(conv5)\n",
    "    # conv5 = Activation('relu')(conv5)\n",
    "\n",
    "    output = Conv2D(1, 1, activation='softmax')(conv4)\n",
    "\n",
    "    # output = Conv2D(n_class, 1, activation='softmax')(conv4)\n",
    "\n",
    "    # Cropping to the desired size (35, 35)\n",
    "    # cropped_output = Cropping2D(((7, 6), (7, 6)))(output)\n",
    "    # skip3 = Concatenate(axis=-1)([input, cropped_output])\n",
    "\n",
    "\n",
    "    model = Model(inputs=inputs, outputs=output)\n",
    "\n",
    "    return model"
   ]
  },
  {
   "cell_type": "code",
   "execution_count": 25,
   "metadata": {},
   "outputs": [
    {
     "name": "stdout",
     "output_type": "stream",
     "text": [
      "Model: \"model_7\"\n",
      "__________________________________________________________________________________________________\n",
      " Layer (type)                   Output Shape         Param #     Connected to                     \n",
      "==================================================================================================\n",
      " input_8 (InputLayer)           [(None, 28, 28, 1)]  0           []                               \n",
      "                                                                                                  \n",
      " conv2d_84 (Conv2D)             (None, 28, 28, 64)   640         ['input_8[0][0]']                \n",
      "                                                                                                  \n",
      " batch_normalization_77 (BatchN  (None, 28, 28, 64)  256         ['conv2d_84[0][0]']              \n",
      " ormalization)                                                                                    \n",
      "                                                                                                  \n",
      " activation_77 (Activation)     (None, 28, 28, 64)   0           ['batch_normalization_77[0][0]'] \n",
      "                                                                                                  \n",
      " conv2d_85 (Conv2D)             (None, 28, 28, 64)   36928       ['activation_77[0][0]']          \n",
      "                                                                                                  \n",
      " batch_normalization_78 (BatchN  (None, 28, 28, 64)  256         ['conv2d_85[0][0]']              \n",
      " ormalization)                                                                                    \n",
      "                                                                                                  \n",
      " activation_78 (Activation)     (None, 28, 28, 64)   0           ['batch_normalization_78[0][0]'] \n",
      "                                                                                                  \n",
      " conv2d_86 (Conv2D)             (None, 28, 28, 64)   36928       ['activation_78[0][0]']          \n",
      "                                                                                                  \n",
      " batch_normalization_79 (BatchN  (None, 28, 28, 64)  256         ['conv2d_86[0][0]']              \n",
      " ormalization)                                                                                    \n",
      "                                                                                                  \n",
      " activation_79 (Activation)     (None, 28, 28, 64)   0           ['batch_normalization_79[0][0]'] \n",
      "                                                                                                  \n",
      " max_pooling2d_14 (MaxPooling2D  (None, 14, 14, 64)  0           ['activation_79[0][0]']          \n",
      " )                                                                                                \n",
      "                                                                                                  \n",
      " conv2d_87 (Conv2D)             (None, 14, 14, 128)  73856       ['max_pooling2d_14[0][0]']       \n",
      "                                                                                                  \n",
      " batch_normalization_80 (BatchN  (None, 14, 14, 128)  512        ['conv2d_87[0][0]']              \n",
      " ormalization)                                                                                    \n",
      "                                                                                                  \n",
      " activation_80 (Activation)     (None, 14, 14, 128)  0           ['batch_normalization_80[0][0]'] \n",
      "                                                                                                  \n",
      " conv2d_88 (Conv2D)             (None, 14, 14, 128)  147584      ['activation_80[0][0]']          \n",
      "                                                                                                  \n",
      " batch_normalization_81 (BatchN  (None, 14, 14, 128)  512        ['conv2d_88[0][0]']              \n",
      " ormalization)                                                                                    \n",
      "                                                                                                  \n",
      " activation_81 (Activation)     (None, 14, 14, 128)  0           ['batch_normalization_81[0][0]'] \n",
      "                                                                                                  \n",
      " max_pooling2d_15 (MaxPooling2D  (None, 7, 7, 128)   0           ['activation_81[0][0]']          \n",
      " )                                                                                                \n",
      "                                                                                                  \n",
      " conv2d_89 (Conv2D)             (None, 7, 7, 256)    295168      ['max_pooling2d_15[0][0]']       \n",
      "                                                                                                  \n",
      " batch_normalization_82 (BatchN  (None, 7, 7, 256)   1024        ['conv2d_89[0][0]']              \n",
      " ormalization)                                                                                    \n",
      "                                                                                                  \n",
      " activation_82 (Activation)     (None, 7, 7, 256)    0           ['batch_normalization_82[0][0]'] \n",
      "                                                                                                  \n",
      " conv2d_90 (Conv2D)             (None, 7, 7, 256)    590080      ['activation_82[0][0]']          \n",
      "                                                                                                  \n",
      " batch_normalization_83 (BatchN  (None, 7, 7, 256)   1024        ['conv2d_90[0][0]']              \n",
      " ormalization)                                                                                    \n",
      "                                                                                                  \n",
      " activation_83 (Activation)     (None, 7, 7, 256)    0           ['batch_normalization_83[0][0]'] \n",
      "                                                                                                  \n",
      " conv2d_transpose_14 (Conv2DTra  (None, 14, 14, 128)  295040     ['activation_83[0][0]']          \n",
      " nspose)                                                                                          \n",
      "                                                                                                  \n",
      " concatenate_14 (Concatenate)   (None, 14, 14, 256)  0           ['activation_81[0][0]',          \n",
      "                                                                  'conv2d_transpose_14[0][0]']    \n",
      "                                                                                                  \n",
      " conv2d_91 (Conv2D)             (None, 14, 14, 128)  295040      ['concatenate_14[0][0]']         \n",
      "                                                                                                  \n",
      " batch_normalization_84 (BatchN  (None, 14, 14, 128)  512        ['conv2d_91[0][0]']              \n",
      " ormalization)                                                                                    \n",
      "                                                                                                  \n",
      " activation_84 (Activation)     (None, 14, 14, 128)  0           ['batch_normalization_84[0][0]'] \n",
      "                                                                                                  \n",
      " conv2d_92 (Conv2D)             (None, 14, 14, 128)  147584      ['activation_84[0][0]']          \n",
      "                                                                                                  \n",
      " batch_normalization_85 (BatchN  (None, 14, 14, 128)  512        ['conv2d_92[0][0]']              \n",
      " ormalization)                                                                                    \n",
      "                                                                                                  \n",
      " activation_85 (Activation)     (None, 14, 14, 128)  0           ['batch_normalization_85[0][0]'] \n",
      "                                                                                                  \n",
      " conv2d_transpose_15 (Conv2DTra  (None, 28, 28, 64)  73792       ['activation_85[0][0]']          \n",
      " nspose)                                                                                          \n",
      "                                                                                                  \n",
      " concatenate_15 (Concatenate)   (None, 28, 28, 128)  0           ['activation_79[0][0]',          \n",
      "                                                                  'conv2d_transpose_15[0][0]']    \n",
      "                                                                                                  \n",
      " conv2d_93 (Conv2D)             (None, 28, 28, 64)   73792       ['concatenate_15[0][0]']         \n",
      "                                                                                                  \n",
      " batch_normalization_86 (BatchN  (None, 28, 28, 64)  256         ['conv2d_93[0][0]']              \n",
      " ormalization)                                                                                    \n",
      "                                                                                                  \n",
      " activation_86 (Activation)     (None, 28, 28, 64)   0           ['batch_normalization_86[0][0]'] \n",
      "                                                                                                  \n",
      " conv2d_94 (Conv2D)             (None, 28, 28, 64)   36928       ['activation_86[0][0]']          \n",
      "                                                                                                  \n",
      " batch_normalization_87 (BatchN  (None, 28, 28, 64)  256         ['conv2d_94[0][0]']              \n",
      " ormalization)                                                                                    \n",
      "                                                                                                  \n",
      " activation_87 (Activation)     (None, 28, 28, 64)   0           ['batch_normalization_87[0][0]'] \n",
      "                                                                                                  \n",
      " conv2d_95 (Conv2D)             (None, 28, 28, 1)    65          ['activation_87[0][0]']          \n",
      "                                                                                                  \n",
      "==================================================================================================\n",
      "Total params: 2,108,801\n",
      "Trainable params: 2,106,113\n",
      "Non-trainable params: 2,688\n",
      "__________________________________________________________________________________________________\n"
     ]
    }
   ],
   "source": [
    "inputMNIST_shape_padded = fieldMNIST_train_padded.shape[1:]\n",
    "model_mnist_padded2 = unet_padded2(inputMNIST_shape_padded)\n",
    "model_mnist_padded2.summary()"
   ]
  },
  {
   "cell_type": "code",
   "execution_count": 26,
   "metadata": {},
   "outputs": [
    {
     "name": "stdout",
     "output_type": "stream",
     "text": [
      "Epoch 1/200\n",
      "51/51 [==============================] - 13s 231ms/step - loss: 0.8012 - accuracy: 0.3256 - val_loss: 0.7062 - val_accuracy: 0.3215\n",
      "Epoch 2/200\n",
      "51/51 [==============================] - 12s 233ms/step - loss: 0.7763 - accuracy: 0.3256 - val_loss: 0.7166 - val_accuracy: 0.3215\n",
      "Epoch 3/200\n",
      "51/51 [==============================] - 12s 231ms/step - loss: 0.7555 - accuracy: 0.3256 - val_loss: 0.7187 - val_accuracy: 0.3215\n",
      "Epoch 4/200\n",
      "51/51 [==============================] - 12s 232ms/step - loss: 0.7374 - accuracy: 0.3256 - val_loss: 0.7103 - val_accuracy: 0.3215\n",
      "Epoch 5/200\n",
      "51/51 [==============================] - 12s 243ms/step - loss: 0.7227 - accuracy: 0.3256 - val_loss: 0.6943 - val_accuracy: 0.3215\n",
      "Epoch 6/200\n",
      "51/51 [==============================] - 11s 224ms/step - loss: 0.7087 - accuracy: 0.3256 - val_loss: 0.6766 - val_accuracy: 0.3215\n",
      "Epoch 7/200\n",
      "51/51 [==============================] - 11s 221ms/step - loss: 0.6967 - accuracy: 0.3256 - val_loss: 0.6636 - val_accuracy: 0.3215\n",
      "Epoch 8/200\n",
      "51/51 [==============================] - 11s 219ms/step - loss: 0.6858 - accuracy: 0.3256 - val_loss: 0.6554 - val_accuracy: 0.3215\n",
      "Epoch 9/200\n",
      "51/51 [==============================] - 11s 226ms/step - loss: 0.6751 - accuracy: 0.3256 - val_loss: 0.6485 - val_accuracy: 0.3215\n",
      "Epoch 10/200\n",
      "51/51 [==============================] - 12s 228ms/step - loss: 0.6661 - accuracy: 0.3256 - val_loss: 0.6374 - val_accuracy: 0.3215\n",
      "Epoch 11/200\n",
      "51/51 [==============================] - 12s 233ms/step - loss: 0.6569 - accuracy: 0.3256 - val_loss: 0.6227 - val_accuracy: 0.3215\n",
      "Epoch 12/200\n",
      "51/51 [==============================] - 13s 249ms/step - loss: 0.6483 - accuracy: 0.3256 - val_loss: 0.6079 - val_accuracy: 0.3215\n",
      "Epoch 13/200\n",
      "51/51 [==============================] - 12s 240ms/step - loss: 0.6402 - accuracy: 0.3256 - val_loss: 0.5972 - val_accuracy: 0.3215\n",
      "Epoch 14/200\n",
      "51/51 [==============================] - 15s 297ms/step - loss: 0.6327 - accuracy: 0.3256 - val_loss: 0.5921 - val_accuracy: 0.3215\n",
      "Epoch 15/200\n",
      "51/51 [==============================] - 16s 306ms/step - loss: 0.6241 - accuracy: 0.3256 - val_loss: 0.5925 - val_accuracy: 0.3215\n",
      "Epoch 16/200\n",
      "51/51 [==============================] - 14s 268ms/step - loss: 0.6190 - accuracy: 0.3256 - val_loss: 0.5951 - val_accuracy: 0.3215\n",
      "Epoch 17/200\n",
      "51/51 [==============================] - 14s 265ms/step - loss: 0.6112 - accuracy: 0.3256 - val_loss: 0.5982 - val_accuracy: 0.3215\n",
      "Epoch 18/200\n",
      "51/51 [==============================] - 13s 248ms/step - loss: 0.6049 - accuracy: 0.3256 - val_loss: 0.5990 - val_accuracy: 0.3215\n",
      "Epoch 19/200\n",
      "51/51 [==============================] - 13s 265ms/step - loss: 0.5978 - accuracy: 0.3256 - val_loss: 0.5984 - val_accuracy: 0.3215\n",
      "Epoch 20/200\n",
      "51/51 [==============================] - 12s 241ms/step - loss: 0.5921 - accuracy: 0.3256 - val_loss: 0.5969 - val_accuracy: 0.3215\n",
      "Epoch 21/200\n",
      "51/51 [==============================] - 11s 224ms/step - loss: 0.5880 - accuracy: 0.3256 - val_loss: 0.5931 - val_accuracy: 0.3215\n",
      "Epoch 22/200\n",
      "51/51 [==============================] - 12s 245ms/step - loss: 0.5800 - accuracy: 0.3256 - val_loss: 0.5895 - val_accuracy: 0.3215\n",
      "Epoch 23/200\n",
      "51/51 [==============================] - 12s 240ms/step - loss: 0.5759 - accuracy: 0.3256 - val_loss: 0.5870 - val_accuracy: 0.3215\n",
      "Epoch 24/200\n",
      "51/51 [==============================] - 12s 229ms/step - loss: 0.5716 - accuracy: 0.3256 - val_loss: 0.5822 - val_accuracy: 0.3215\n",
      "Epoch 25/200\n",
      "51/51 [==============================] - 13s 246ms/step - loss: 0.5673 - accuracy: 0.3256 - val_loss: 0.5775 - val_accuracy: 0.3215\n",
      "Epoch 26/200\n",
      "51/51 [==============================] - 11s 224ms/step - loss: 0.5629 - accuracy: 0.3256 - val_loss: 0.5730 - val_accuracy: 0.3215\n",
      "Epoch 27/200\n",
      "51/51 [==============================] - 12s 229ms/step - loss: 0.5587 - accuracy: 0.3256 - val_loss: 0.5704 - val_accuracy: 0.3215\n",
      "Epoch 28/200\n",
      "51/51 [==============================] - 11s 217ms/step - loss: 0.5554 - accuracy: 0.3256 - val_loss: 0.5669 - val_accuracy: 0.3215\n",
      "Epoch 29/200\n",
      "51/51 [==============================] - 11s 216ms/step - loss: 0.5518 - accuracy: 0.3256 - val_loss: 0.5624 - val_accuracy: 0.3215\n",
      "Epoch 30/200\n",
      "51/51 [==============================] - 11s 221ms/step - loss: 0.5479 - accuracy: 0.3256 - val_loss: 0.5594 - val_accuracy: 0.3215\n",
      "Epoch 31/200\n",
      "51/51 [==============================] - 11s 221ms/step - loss: 0.5444 - accuracy: 0.3256 - val_loss: 0.5556 - val_accuracy: 0.3215\n",
      "Epoch 32/200\n",
      "51/51 [==============================] - 12s 230ms/step - loss: 0.5404 - accuracy: 0.3256 - val_loss: 0.5515 - val_accuracy: 0.3215\n",
      "Epoch 33/200\n",
      "51/51 [==============================] - 11s 218ms/step - loss: 0.5371 - accuracy: 0.3256 - val_loss: 0.5475 - val_accuracy: 0.3215\n",
      "Epoch 34/200\n",
      "51/51 [==============================] - 12s 237ms/step - loss: 0.5337 - accuracy: 0.3256 - val_loss: 0.5442 - val_accuracy: 0.3215\n",
      "Epoch 35/200\n",
      "51/51 [==============================] - 11s 219ms/step - loss: 0.5302 - accuracy: 0.3256 - val_loss: 0.5414 - val_accuracy: 0.3215\n",
      "Epoch 36/200\n",
      "51/51 [==============================] - 12s 239ms/step - loss: 0.5287 - accuracy: 0.3256 - val_loss: 0.5394 - val_accuracy: 0.3215\n",
      "Epoch 37/200\n",
      "51/51 [==============================] - 20s 394ms/step - loss: 0.5249 - accuracy: 0.3256 - val_loss: 0.5370 - val_accuracy: 0.3215\n",
      "Epoch 38/200\n",
      "51/51 [==============================] - 16s 312ms/step - loss: 0.5204 - accuracy: 0.3256 - val_loss: 0.5316 - val_accuracy: 0.3215\n",
      "Epoch 39/200\n",
      "51/51 [==============================] - 14s 275ms/step - loss: 0.5177 - accuracy: 0.3256 - val_loss: 0.5289 - val_accuracy: 0.3215\n",
      "Epoch 40/200\n",
      "20/51 [==========>...................] - ETA: 7s - loss: 0.5198 - accuracy: 0.3175"
     ]
    },
    {
     "ename": "KeyboardInterrupt",
     "evalue": "",
     "output_type": "error",
     "traceback": [
      "\u001b[1;31m---------------------------------------------------------------------------\u001b[0m",
      "\u001b[1;31mKeyboardInterrupt\u001b[0m                         Traceback (most recent call last)",
      "Input \u001b[1;32mIn [26]\u001b[0m, in \u001b[0;36m<cell line: 3>\u001b[1;34m()\u001b[0m\n\u001b[0;32m      1\u001b[0m model_mnist_padded2\u001b[38;5;241m.\u001b[39mcompile(optimizer \u001b[38;5;241m=\u001b[39m tf\u001b[38;5;241m.\u001b[39mkeras\u001b[38;5;241m.\u001b[39moptimizers\u001b[38;5;241m.\u001b[39mAdam(learning_rate\u001b[38;5;241m=\u001b[39m\u001b[38;5;241m1e-6\u001b[39m), loss \u001b[38;5;241m=\u001b[39m \u001b[38;5;124m'\u001b[39m\u001b[38;5;124mbinary_crossentropy\u001b[39m\u001b[38;5;124m'\u001b[39m, \n\u001b[0;32m      2\u001b[0m                     metrics \u001b[38;5;241m=\u001b[39m \u001b[38;5;124m'\u001b[39m\u001b[38;5;124maccuracy\u001b[39m\u001b[38;5;124m'\u001b[39m)\n\u001b[1;32m----> 3\u001b[0m hist_padded1 \u001b[38;5;241m=\u001b[39m \u001b[43mmodel_mnist_padded2\u001b[49m\u001b[38;5;241;43m.\u001b[39;49m\u001b[43mfit\u001b[49m\u001b[43m(\u001b[49m\u001b[43mx\u001b[49m\u001b[43m \u001b[49m\u001b[38;5;241;43m=\u001b[39;49m\u001b[43m \u001b[49m\u001b[43mfieldMNIST_train_padded\u001b[49m\u001b[43m,\u001b[49m\u001b[43m \u001b[49m\u001b[43my\u001b[49m\u001b[43m \u001b[49m\u001b[38;5;241;43m=\u001b[39;49m\u001b[43m \u001b[49m\u001b[43mtargetMNIST_train\u001b[49m\u001b[43m,\u001b[49m\u001b[43m \u001b[49m\n\u001b[0;32m      4\u001b[0m \u001b[43m                                    \u001b[49m\u001b[43mvalidation_data\u001b[49m\u001b[38;5;241;43m=\u001b[39;49m\u001b[43m(\u001b[49m\u001b[43mfieldMNIST_val_padded\u001b[49m\u001b[43m,\u001b[49m\u001b[43m \u001b[49m\u001b[43mtargetMNIST_val\u001b[49m\u001b[43m)\u001b[49m\u001b[43m,\u001b[49m\u001b[43m \u001b[49m\n\u001b[0;32m      5\u001b[0m \u001b[43m                                    \u001b[49m\u001b[43mbatch_size\u001b[49m\u001b[43m \u001b[49m\u001b[38;5;241;43m=\u001b[39;49m\u001b[43m \u001b[49m\u001b[38;5;241;43m8\u001b[39;49m\u001b[43m,\u001b[49m\u001b[43m \u001b[49m\u001b[43mepochs\u001b[49m\u001b[43m \u001b[49m\u001b[38;5;241;43m=\u001b[39;49m\u001b[43m \u001b[49m\u001b[38;5;241;43m200\u001b[39;49m\u001b[43m,\u001b[49m\u001b[43m \u001b[49m\n\u001b[0;32m      6\u001b[0m \u001b[43m                                    \u001b[49m\u001b[43mcallbacks\u001b[49m\u001b[43m \u001b[49m\u001b[38;5;241;43m=\u001b[39;49m\u001b[43m \u001b[49m\u001b[43m[\u001b[49m\u001b[43mEarlyStopping\u001b[49m\u001b[43m(\u001b[49m\u001b[43mmonitor\u001b[49m\u001b[38;5;241;43m=\u001b[39;49m\u001b[38;5;124;43m'\u001b[39;49m\u001b[38;5;124;43mloss\u001b[39;49m\u001b[38;5;124;43m'\u001b[39;49m\u001b[43m,\u001b[49m\u001b[43mpatience\u001b[49m\u001b[38;5;241;43m=\u001b[39;49m\u001b[38;5;241;43m10\u001b[39;49m\u001b[43m)\u001b[49m\u001b[43m]\u001b[49m\u001b[43m)\u001b[49m\n",
      "File \u001b[1;32m~\\AppData\\Roaming\\Python\\Python310\\site-packages\\keras\\utils\\traceback_utils.py:64\u001b[0m, in \u001b[0;36mfilter_traceback.<locals>.error_handler\u001b[1;34m(*args, **kwargs)\u001b[0m\n\u001b[0;32m     62\u001b[0m filtered_tb \u001b[38;5;241m=\u001b[39m \u001b[38;5;28;01mNone\u001b[39;00m\n\u001b[0;32m     63\u001b[0m \u001b[38;5;28;01mtry\u001b[39;00m:\n\u001b[1;32m---> 64\u001b[0m   \u001b[38;5;28;01mreturn\u001b[39;00m fn(\u001b[38;5;241m*\u001b[39margs, \u001b[38;5;241m*\u001b[39m\u001b[38;5;241m*\u001b[39mkwargs)\n\u001b[0;32m     65\u001b[0m \u001b[38;5;28;01mexcept\u001b[39;00m \u001b[38;5;167;01mException\u001b[39;00m \u001b[38;5;28;01mas\u001b[39;00m e:  \u001b[38;5;66;03m# pylint: disable=broad-except\u001b[39;00m\n\u001b[0;32m     66\u001b[0m   filtered_tb \u001b[38;5;241m=\u001b[39m _process_traceback_frames(e\u001b[38;5;241m.\u001b[39m__traceback__)\n",
      "File \u001b[1;32m~\\AppData\\Roaming\\Python\\Python310\\site-packages\\keras\\engine\\training.py:1409\u001b[0m, in \u001b[0;36mModel.fit\u001b[1;34m(self, x, y, batch_size, epochs, verbose, callbacks, validation_split, validation_data, shuffle, class_weight, sample_weight, initial_epoch, steps_per_epoch, validation_steps, validation_batch_size, validation_freq, max_queue_size, workers, use_multiprocessing)\u001b[0m\n\u001b[0;32m   1402\u001b[0m \u001b[38;5;28;01mwith\u001b[39;00m tf\u001b[38;5;241m.\u001b[39mprofiler\u001b[38;5;241m.\u001b[39mexperimental\u001b[38;5;241m.\u001b[39mTrace(\n\u001b[0;32m   1403\u001b[0m     \u001b[38;5;124m'\u001b[39m\u001b[38;5;124mtrain\u001b[39m\u001b[38;5;124m'\u001b[39m,\n\u001b[0;32m   1404\u001b[0m     epoch_num\u001b[38;5;241m=\u001b[39mepoch,\n\u001b[0;32m   1405\u001b[0m     step_num\u001b[38;5;241m=\u001b[39mstep,\n\u001b[0;32m   1406\u001b[0m     batch_size\u001b[38;5;241m=\u001b[39mbatch_size,\n\u001b[0;32m   1407\u001b[0m     _r\u001b[38;5;241m=\u001b[39m\u001b[38;5;241m1\u001b[39m):\n\u001b[0;32m   1408\u001b[0m   callbacks\u001b[38;5;241m.\u001b[39mon_train_batch_begin(step)\n\u001b[1;32m-> 1409\u001b[0m   tmp_logs \u001b[38;5;241m=\u001b[39m \u001b[38;5;28;43mself\u001b[39;49m\u001b[38;5;241;43m.\u001b[39;49m\u001b[43mtrain_function\u001b[49m\u001b[43m(\u001b[49m\u001b[43miterator\u001b[49m\u001b[43m)\u001b[49m\n\u001b[0;32m   1410\u001b[0m   \u001b[38;5;28;01mif\u001b[39;00m data_handler\u001b[38;5;241m.\u001b[39mshould_sync:\n\u001b[0;32m   1411\u001b[0m     context\u001b[38;5;241m.\u001b[39masync_wait()\n",
      "File \u001b[1;32m~\\AppData\\Roaming\\Python\\Python310\\site-packages\\tensorflow\\python\\util\\traceback_utils.py:150\u001b[0m, in \u001b[0;36mfilter_traceback.<locals>.error_handler\u001b[1;34m(*args, **kwargs)\u001b[0m\n\u001b[0;32m    148\u001b[0m filtered_tb \u001b[38;5;241m=\u001b[39m \u001b[38;5;28;01mNone\u001b[39;00m\n\u001b[0;32m    149\u001b[0m \u001b[38;5;28;01mtry\u001b[39;00m:\n\u001b[1;32m--> 150\u001b[0m   \u001b[38;5;28;01mreturn\u001b[39;00m fn(\u001b[38;5;241m*\u001b[39margs, \u001b[38;5;241m*\u001b[39m\u001b[38;5;241m*\u001b[39mkwargs)\n\u001b[0;32m    151\u001b[0m \u001b[38;5;28;01mexcept\u001b[39;00m \u001b[38;5;167;01mException\u001b[39;00m \u001b[38;5;28;01mas\u001b[39;00m e:\n\u001b[0;32m    152\u001b[0m   filtered_tb \u001b[38;5;241m=\u001b[39m _process_traceback_frames(e\u001b[38;5;241m.\u001b[39m__traceback__)\n",
      "File \u001b[1;32m~\\AppData\\Roaming\\Python\\Python310\\site-packages\\tensorflow\\python\\eager\\def_function.py:915\u001b[0m, in \u001b[0;36mFunction.__call__\u001b[1;34m(self, *args, **kwds)\u001b[0m\n\u001b[0;32m    912\u001b[0m compiler \u001b[38;5;241m=\u001b[39m \u001b[38;5;124m\"\u001b[39m\u001b[38;5;124mxla\u001b[39m\u001b[38;5;124m\"\u001b[39m \u001b[38;5;28;01mif\u001b[39;00m \u001b[38;5;28mself\u001b[39m\u001b[38;5;241m.\u001b[39m_jit_compile \u001b[38;5;28;01melse\u001b[39;00m \u001b[38;5;124m\"\u001b[39m\u001b[38;5;124mnonXla\u001b[39m\u001b[38;5;124m\"\u001b[39m\n\u001b[0;32m    914\u001b[0m \u001b[38;5;28;01mwith\u001b[39;00m OptionalXlaContext(\u001b[38;5;28mself\u001b[39m\u001b[38;5;241m.\u001b[39m_jit_compile):\n\u001b[1;32m--> 915\u001b[0m   result \u001b[38;5;241m=\u001b[39m \u001b[38;5;28mself\u001b[39m\u001b[38;5;241m.\u001b[39m_call(\u001b[38;5;241m*\u001b[39margs, \u001b[38;5;241m*\u001b[39m\u001b[38;5;241m*\u001b[39mkwds)\n\u001b[0;32m    917\u001b[0m new_tracing_count \u001b[38;5;241m=\u001b[39m \u001b[38;5;28mself\u001b[39m\u001b[38;5;241m.\u001b[39mexperimental_get_tracing_count()\n\u001b[0;32m    918\u001b[0m without_tracing \u001b[38;5;241m=\u001b[39m (tracing_count \u001b[38;5;241m==\u001b[39m new_tracing_count)\n",
      "File \u001b[1;32m~\\AppData\\Roaming\\Python\\Python310\\site-packages\\tensorflow\\python\\eager\\def_function.py:947\u001b[0m, in \u001b[0;36mFunction._call\u001b[1;34m(self, *args, **kwds)\u001b[0m\n\u001b[0;32m    944\u001b[0m   \u001b[38;5;28mself\u001b[39m\u001b[38;5;241m.\u001b[39m_lock\u001b[38;5;241m.\u001b[39mrelease()\n\u001b[0;32m    945\u001b[0m   \u001b[38;5;66;03m# In this case we have created variables on the first call, so we run the\u001b[39;00m\n\u001b[0;32m    946\u001b[0m   \u001b[38;5;66;03m# defunned version which is guaranteed to never create variables.\u001b[39;00m\n\u001b[1;32m--> 947\u001b[0m   \u001b[38;5;28;01mreturn\u001b[39;00m \u001b[38;5;28mself\u001b[39m\u001b[38;5;241m.\u001b[39m_stateless_fn(\u001b[38;5;241m*\u001b[39margs, \u001b[38;5;241m*\u001b[39m\u001b[38;5;241m*\u001b[39mkwds)  \u001b[38;5;66;03m# pylint: disable=not-callable\u001b[39;00m\n\u001b[0;32m    948\u001b[0m \u001b[38;5;28;01melif\u001b[39;00m \u001b[38;5;28mself\u001b[39m\u001b[38;5;241m.\u001b[39m_stateful_fn \u001b[38;5;129;01mis\u001b[39;00m \u001b[38;5;129;01mnot\u001b[39;00m \u001b[38;5;28;01mNone\u001b[39;00m:\n\u001b[0;32m    949\u001b[0m   \u001b[38;5;66;03m# Release the lock early so that multiple threads can perform the call\u001b[39;00m\n\u001b[0;32m    950\u001b[0m   \u001b[38;5;66;03m# in parallel.\u001b[39;00m\n\u001b[0;32m    951\u001b[0m   \u001b[38;5;28mself\u001b[39m\u001b[38;5;241m.\u001b[39m_lock\u001b[38;5;241m.\u001b[39mrelease()\n",
      "File \u001b[1;32m~\\AppData\\Roaming\\Python\\Python310\\site-packages\\tensorflow\\python\\eager\\function.py:2453\u001b[0m, in \u001b[0;36mFunction.__call__\u001b[1;34m(self, *args, **kwargs)\u001b[0m\n\u001b[0;32m   2450\u001b[0m \u001b[38;5;28;01mwith\u001b[39;00m \u001b[38;5;28mself\u001b[39m\u001b[38;5;241m.\u001b[39m_lock:\n\u001b[0;32m   2451\u001b[0m   (graph_function,\n\u001b[0;32m   2452\u001b[0m    filtered_flat_args) \u001b[38;5;241m=\u001b[39m \u001b[38;5;28mself\u001b[39m\u001b[38;5;241m.\u001b[39m_maybe_define_function(args, kwargs)\n\u001b[1;32m-> 2453\u001b[0m \u001b[38;5;28;01mreturn\u001b[39;00m \u001b[43mgraph_function\u001b[49m\u001b[38;5;241;43m.\u001b[39;49m\u001b[43m_call_flat\u001b[49m\u001b[43m(\u001b[49m\n\u001b[0;32m   2454\u001b[0m \u001b[43m    \u001b[49m\u001b[43mfiltered_flat_args\u001b[49m\u001b[43m,\u001b[49m\u001b[43m \u001b[49m\u001b[43mcaptured_inputs\u001b[49m\u001b[38;5;241;43m=\u001b[39;49m\u001b[43mgraph_function\u001b[49m\u001b[38;5;241;43m.\u001b[39;49m\u001b[43mcaptured_inputs\u001b[49m\u001b[43m)\u001b[49m\n",
      "File \u001b[1;32m~\\AppData\\Roaming\\Python\\Python310\\site-packages\\tensorflow\\python\\eager\\function.py:1860\u001b[0m, in \u001b[0;36mConcreteFunction._call_flat\u001b[1;34m(self, args, captured_inputs, cancellation_manager)\u001b[0m\n\u001b[0;32m   1856\u001b[0m possible_gradient_type \u001b[38;5;241m=\u001b[39m gradients_util\u001b[38;5;241m.\u001b[39mPossibleTapeGradientTypes(args)\n\u001b[0;32m   1857\u001b[0m \u001b[38;5;28;01mif\u001b[39;00m (possible_gradient_type \u001b[38;5;241m==\u001b[39m gradients_util\u001b[38;5;241m.\u001b[39mPOSSIBLE_GRADIENT_TYPES_NONE\n\u001b[0;32m   1858\u001b[0m     \u001b[38;5;129;01mand\u001b[39;00m executing_eagerly):\n\u001b[0;32m   1859\u001b[0m   \u001b[38;5;66;03m# No tape is watching; skip to running the function.\u001b[39;00m\n\u001b[1;32m-> 1860\u001b[0m   \u001b[38;5;28;01mreturn\u001b[39;00m \u001b[38;5;28mself\u001b[39m\u001b[38;5;241m.\u001b[39m_build_call_outputs(\u001b[38;5;28;43mself\u001b[39;49m\u001b[38;5;241;43m.\u001b[39;49m\u001b[43m_inference_function\u001b[49m\u001b[38;5;241;43m.\u001b[39;49m\u001b[43mcall\u001b[49m\u001b[43m(\u001b[49m\n\u001b[0;32m   1861\u001b[0m \u001b[43m      \u001b[49m\u001b[43mctx\u001b[49m\u001b[43m,\u001b[49m\u001b[43m \u001b[49m\u001b[43margs\u001b[49m\u001b[43m,\u001b[49m\u001b[43m \u001b[49m\u001b[43mcancellation_manager\u001b[49m\u001b[38;5;241;43m=\u001b[39;49m\u001b[43mcancellation_manager\u001b[49m\u001b[43m)\u001b[49m)\n\u001b[0;32m   1862\u001b[0m forward_backward \u001b[38;5;241m=\u001b[39m \u001b[38;5;28mself\u001b[39m\u001b[38;5;241m.\u001b[39m_select_forward_and_backward_functions(\n\u001b[0;32m   1863\u001b[0m     args,\n\u001b[0;32m   1864\u001b[0m     possible_gradient_type,\n\u001b[0;32m   1865\u001b[0m     executing_eagerly)\n\u001b[0;32m   1866\u001b[0m forward_function, args_with_tangents \u001b[38;5;241m=\u001b[39m forward_backward\u001b[38;5;241m.\u001b[39mforward()\n",
      "File \u001b[1;32m~\\AppData\\Roaming\\Python\\Python310\\site-packages\\tensorflow\\python\\eager\\function.py:497\u001b[0m, in \u001b[0;36m_EagerDefinedFunction.call\u001b[1;34m(self, ctx, args, cancellation_manager)\u001b[0m\n\u001b[0;32m    495\u001b[0m \u001b[38;5;28;01mwith\u001b[39;00m _InterpolateFunctionError(\u001b[38;5;28mself\u001b[39m):\n\u001b[0;32m    496\u001b[0m   \u001b[38;5;28;01mif\u001b[39;00m cancellation_manager \u001b[38;5;129;01mis\u001b[39;00m \u001b[38;5;28;01mNone\u001b[39;00m:\n\u001b[1;32m--> 497\u001b[0m     outputs \u001b[38;5;241m=\u001b[39m \u001b[43mexecute\u001b[49m\u001b[38;5;241;43m.\u001b[39;49m\u001b[43mexecute\u001b[49m\u001b[43m(\u001b[49m\n\u001b[0;32m    498\u001b[0m \u001b[43m        \u001b[49m\u001b[38;5;28;43mstr\u001b[39;49m\u001b[43m(\u001b[49m\u001b[38;5;28;43mself\u001b[39;49m\u001b[38;5;241;43m.\u001b[39;49m\u001b[43msignature\u001b[49m\u001b[38;5;241;43m.\u001b[39;49m\u001b[43mname\u001b[49m\u001b[43m)\u001b[49m\u001b[43m,\u001b[49m\n\u001b[0;32m    499\u001b[0m \u001b[43m        \u001b[49m\u001b[43mnum_outputs\u001b[49m\u001b[38;5;241;43m=\u001b[39;49m\u001b[38;5;28;43mself\u001b[39;49m\u001b[38;5;241;43m.\u001b[39;49m\u001b[43m_num_outputs\u001b[49m\u001b[43m,\u001b[49m\n\u001b[0;32m    500\u001b[0m \u001b[43m        \u001b[49m\u001b[43minputs\u001b[49m\u001b[38;5;241;43m=\u001b[39;49m\u001b[43margs\u001b[49m\u001b[43m,\u001b[49m\n\u001b[0;32m    501\u001b[0m \u001b[43m        \u001b[49m\u001b[43mattrs\u001b[49m\u001b[38;5;241;43m=\u001b[39;49m\u001b[43mattrs\u001b[49m\u001b[43m,\u001b[49m\n\u001b[0;32m    502\u001b[0m \u001b[43m        \u001b[49m\u001b[43mctx\u001b[49m\u001b[38;5;241;43m=\u001b[39;49m\u001b[43mctx\u001b[49m\u001b[43m)\u001b[49m\n\u001b[0;32m    503\u001b[0m   \u001b[38;5;28;01melse\u001b[39;00m:\n\u001b[0;32m    504\u001b[0m     outputs \u001b[38;5;241m=\u001b[39m execute\u001b[38;5;241m.\u001b[39mexecute_with_cancellation(\n\u001b[0;32m    505\u001b[0m         \u001b[38;5;28mstr\u001b[39m(\u001b[38;5;28mself\u001b[39m\u001b[38;5;241m.\u001b[39msignature\u001b[38;5;241m.\u001b[39mname),\n\u001b[0;32m    506\u001b[0m         num_outputs\u001b[38;5;241m=\u001b[39m\u001b[38;5;28mself\u001b[39m\u001b[38;5;241m.\u001b[39m_num_outputs,\n\u001b[1;32m   (...)\u001b[0m\n\u001b[0;32m    509\u001b[0m         ctx\u001b[38;5;241m=\u001b[39mctx,\n\u001b[0;32m    510\u001b[0m         cancellation_manager\u001b[38;5;241m=\u001b[39mcancellation_manager)\n",
      "File \u001b[1;32m~\\AppData\\Roaming\\Python\\Python310\\site-packages\\tensorflow\\python\\eager\\execute.py:54\u001b[0m, in \u001b[0;36mquick_execute\u001b[1;34m(op_name, num_outputs, inputs, attrs, ctx, name)\u001b[0m\n\u001b[0;32m     52\u001b[0m \u001b[38;5;28;01mtry\u001b[39;00m:\n\u001b[0;32m     53\u001b[0m   ctx\u001b[38;5;241m.\u001b[39mensure_initialized()\n\u001b[1;32m---> 54\u001b[0m   tensors \u001b[38;5;241m=\u001b[39m \u001b[43mpywrap_tfe\u001b[49m\u001b[38;5;241;43m.\u001b[39;49m\u001b[43mTFE_Py_Execute\u001b[49m\u001b[43m(\u001b[49m\u001b[43mctx\u001b[49m\u001b[38;5;241;43m.\u001b[39;49m\u001b[43m_handle\u001b[49m\u001b[43m,\u001b[49m\u001b[43m \u001b[49m\u001b[43mdevice_name\u001b[49m\u001b[43m,\u001b[49m\u001b[43m \u001b[49m\u001b[43mop_name\u001b[49m\u001b[43m,\u001b[49m\n\u001b[0;32m     55\u001b[0m \u001b[43m                                      \u001b[49m\u001b[43minputs\u001b[49m\u001b[43m,\u001b[49m\u001b[43m \u001b[49m\u001b[43mattrs\u001b[49m\u001b[43m,\u001b[49m\u001b[43m \u001b[49m\u001b[43mnum_outputs\u001b[49m\u001b[43m)\u001b[49m\n\u001b[0;32m     56\u001b[0m \u001b[38;5;28;01mexcept\u001b[39;00m core\u001b[38;5;241m.\u001b[39m_NotOkStatusException \u001b[38;5;28;01mas\u001b[39;00m e:\n\u001b[0;32m     57\u001b[0m   \u001b[38;5;28;01mif\u001b[39;00m name \u001b[38;5;129;01mis\u001b[39;00m \u001b[38;5;129;01mnot\u001b[39;00m \u001b[38;5;28;01mNone\u001b[39;00m:\n",
      "\u001b[1;31mKeyboardInterrupt\u001b[0m: "
     ]
    }
   ],
   "source": [
    "model_mnist_padded2.compile(optimizer = tf.keras.optimizers.Adam(learning_rate=1e-6), loss = 'binary_crossentropy', \n",
    "                    metrics = 'accuracy')\n",
    "hist_padded1 = model_mnist_padded2.fit(x = fieldMNIST_train_padded, y = targetMNIST_train, \n",
    "                                    validation_data=(fieldMNIST_val_padded, targetMNIST_val), \n",
    "                                    batch_size = 8, epochs = 200, \n",
    "                                    callbacks = [EarlyStopping(monitor='loss',patience=10)])"
   ]
  },
  {
   "cell_type": "markdown",
   "metadata": {},
   "source": [
    "Train on MNIST then test on shape (freq 1e9 and permitivity 2)"
   ]
  },
  {
   "cell_type": "code",
   "execution_count": 9,
   "metadata": {},
   "outputs": [],
   "source": [
    "init_lr = 1e-4\n",
    "# final_lr = 1e-8\n",
    "total_epoch = 200"
   ]
  },
  {
   "cell_type": "code",
   "execution_count": 12,
   "metadata": {},
   "outputs": [
    {
     "name": "stdout",
     "output_type": "stream",
     "text": [
      "Epoch 1/200\n",
      "21/21 [==============================] - ETA: 0s - loss: 0.2094 - accuracy: 0.6867"
     ]
    },
    {
     "name": "stderr",
     "output_type": "stream",
     "text": [
      "WARNING:absl:Found untraced functions such as _jit_compiled_convolution_op, _jit_compiled_convolution_op, _jit_compiled_convolution_op, _jit_compiled_convolution_op, _jit_compiled_convolution_op while saving (showing 5 of 14). These functions will not be directly callable after loading.\n"
     ]
    },
    {
     "name": "stdout",
     "output_type": "stream",
     "text": [
      "INFO:tensorflow:Assets written to: ./model_weights\\assets\n"
     ]
    },
    {
     "name": "stderr",
     "output_type": "stream",
     "text": [
      "INFO:tensorflow:Assets written to: ./model_weights\\assets\n"
     ]
    },
    {
     "name": "stdout",
     "output_type": "stream",
     "text": [
      "21/21 [==============================] - 12s 532ms/step - loss: 0.2094 - accuracy: 0.6867 - val_loss: 0.2360 - val_accuracy: 0.6785\n",
      "Epoch 2/200\n",
      "21/21 [==============================] - ETA: 0s - loss: 0.1532 - accuracy: 0.7968"
     ]
    },
    {
     "name": "stderr",
     "output_type": "stream",
     "text": [
      "WARNING:absl:Found untraced functions such as _jit_compiled_convolution_op, _jit_compiled_convolution_op, _jit_compiled_convolution_op, _jit_compiled_convolution_op, _jit_compiled_convolution_op while saving (showing 5 of 14). These functions will not be directly callable after loading.\n"
     ]
    },
    {
     "name": "stdout",
     "output_type": "stream",
     "text": [
      "INFO:tensorflow:Assets written to: ./model_weights\\assets\n"
     ]
    },
    {
     "name": "stderr",
     "output_type": "stream",
     "text": [
      "INFO:tensorflow:Assets written to: ./model_weights\\assets\n"
     ]
    },
    {
     "name": "stdout",
     "output_type": "stream",
     "text": [
      "21/21 [==============================] - 11s 519ms/step - loss: 0.1532 - accuracy: 0.7968 - val_loss: 0.2222 - val_accuracy: 0.6785\n",
      "Epoch 3/200\n",
      "21/21 [==============================] - ETA: 0s - loss: 0.1300 - accuracy: 0.8289"
     ]
    },
    {
     "name": "stderr",
     "output_type": "stream",
     "text": [
      "WARNING:absl:Found untraced functions such as _jit_compiled_convolution_op, _jit_compiled_convolution_op, _jit_compiled_convolution_op, _jit_compiled_convolution_op, _jit_compiled_convolution_op while saving (showing 5 of 14). These functions will not be directly callable after loading.\n"
     ]
    },
    {
     "name": "stdout",
     "output_type": "stream",
     "text": [
      "INFO:tensorflow:Assets written to: ./model_weights\\assets\n"
     ]
    },
    {
     "name": "stderr",
     "output_type": "stream",
     "text": [
      "INFO:tensorflow:Assets written to: ./model_weights\\assets\n"
     ]
    },
    {
     "name": "stdout",
     "output_type": "stream",
     "text": [
      "21/21 [==============================] - 12s 587ms/step - loss: 0.1300 - accuracy: 0.8289 - val_loss: 0.2182 - val_accuracy: 0.6785\n",
      "Epoch 4/200\n",
      "21/21 [==============================] - 8s 403ms/step - loss: 0.1107 - accuracy: 0.8559 - val_loss: 0.2248 - val_accuracy: 0.6785\n",
      "Epoch 5/200\n",
      "21/21 [==============================] - 9s 410ms/step - loss: 0.0953 - accuracy: 0.8753 - val_loss: 0.2362 - val_accuracy: 0.6785\n",
      "Epoch 6/200\n",
      "21/21 [==============================] - 9s 435ms/step - loss: 0.0811 - accuracy: 0.8957 - val_loss: 0.2487 - val_accuracy: 0.6785\n",
      "Epoch 7/200\n",
      "21/21 [==============================] - 8s 399ms/step - loss: 0.0713 - accuracy: 0.9074 - val_loss: 0.2594 - val_accuracy: 0.6785\n",
      "Epoch 8/200\n",
      "21/21 [==============================] - 9s 412ms/step - loss: 0.0623 - accuracy: 0.9203 - val_loss: 0.2673 - val_accuracy: 0.6785\n",
      "Epoch 9/200\n",
      "21/21 [==============================] - 9s 410ms/step - loss: 0.0546 - accuracy: 0.9306 - val_loss: 0.2740 - val_accuracy: 0.6785\n",
      "Epoch 10/200\n",
      " 5/21 [======>.......................] - ETA: 6s - loss: 0.0523 - accuracy: 0.9335"
     ]
    },
    {
     "ename": "KeyboardInterrupt",
     "evalue": "",
     "output_type": "error",
     "traceback": [
      "\u001b[1;31m---------------------------------------------------------------------------\u001b[0m",
      "\u001b[1;31mKeyboardInterrupt\u001b[0m                         Traceback (most recent call last)",
      "Input \u001b[1;32mIn [12]\u001b[0m, in \u001b[0;36m<cell line: 7>\u001b[1;34m()\u001b[0m\n\u001b[0;32m      3\u001b[0m earlyStop \u001b[38;5;241m=\u001b[39m EarlyStopping(monitor\u001b[38;5;241m=\u001b[39m\u001b[38;5;124m'\u001b[39m\u001b[38;5;124mloss\u001b[39m\u001b[38;5;124m'\u001b[39m,patience\u001b[38;5;241m=\u001b[39m\u001b[38;5;241m3\u001b[39m)\n\u001b[0;32m      5\u001b[0m model_mnist_padded\u001b[38;5;241m.\u001b[39mcompile(optimizer \u001b[38;5;241m=\u001b[39m tf\u001b[38;5;241m.\u001b[39mkeras\u001b[38;5;241m.\u001b[39moptimizers\u001b[38;5;241m.\u001b[39mAdam(learning_rate\u001b[38;5;241m=\u001b[39minit_lr), loss \u001b[38;5;241m=\u001b[39m \u001b[38;5;124m'\u001b[39m\u001b[38;5;124mmean_squared_error\u001b[39m\u001b[38;5;124m'\u001b[39m, \n\u001b[0;32m      6\u001b[0m                     metrics \u001b[38;5;241m=\u001b[39m \u001b[38;5;124m'\u001b[39m\u001b[38;5;124maccuracy\u001b[39m\u001b[38;5;124m'\u001b[39m)\n\u001b[1;32m----> 7\u001b[0m hist_padded \u001b[38;5;241m=\u001b[39m \u001b[43mmodel_mnist_padded\u001b[49m\u001b[38;5;241;43m.\u001b[39;49m\u001b[43mfit\u001b[49m\u001b[43m(\u001b[49m\u001b[43mx\u001b[49m\u001b[43m \u001b[49m\u001b[38;5;241;43m=\u001b[39;49m\u001b[43m \u001b[49m\u001b[43mfieldMNIST_train_padded\u001b[49m\u001b[43m,\u001b[49m\u001b[43m \u001b[49m\u001b[43my\u001b[49m\u001b[43m \u001b[49m\u001b[38;5;241;43m=\u001b[39;49m\u001b[43m \u001b[49m\u001b[43mtargetMNIST_train\u001b[49m\u001b[43m,\u001b[49m\u001b[43m \u001b[49m\n\u001b[0;32m      8\u001b[0m \u001b[43m                                    \u001b[49m\u001b[43mvalidation_data\u001b[49m\u001b[38;5;241;43m=\u001b[39;49m\u001b[43m(\u001b[49m\u001b[43mfieldMNIST_val_padded\u001b[49m\u001b[43m,\u001b[49m\u001b[43m \u001b[49m\u001b[43mtargetMNIST_val\u001b[49m\u001b[43m)\u001b[49m\u001b[43m,\u001b[49m\u001b[43m \u001b[49m\n\u001b[0;32m      9\u001b[0m \u001b[43m                                    \u001b[49m\u001b[43mbatch_size\u001b[49m\u001b[43m \u001b[49m\u001b[38;5;241;43m=\u001b[39;49m\u001b[43m \u001b[49m\u001b[38;5;241;43m20\u001b[39;49m\u001b[43m,\u001b[49m\u001b[43m \u001b[49m\u001b[43mepochs\u001b[49m\u001b[43m \u001b[49m\u001b[38;5;241;43m=\u001b[39;49m\u001b[43m \u001b[49m\u001b[43mtotal_epoch\u001b[49m\u001b[43m,\u001b[49m\u001b[43m \u001b[49m\n\u001b[0;32m     10\u001b[0m \u001b[43m                                    \u001b[49m\u001b[43mcallbacks\u001b[49m\u001b[43m \u001b[49m\u001b[38;5;241;43m=\u001b[39;49m\u001b[43m \u001b[49m\u001b[43m[\u001b[49m\u001b[43mearlyStop\u001b[49m\u001b[43m,\u001b[49m\u001b[43m \u001b[49m\u001b[43mcheckpoint\u001b[49m\u001b[43m]\u001b[49m\u001b[43m)\u001b[49m\n",
      "File \u001b[1;32m~\\AppData\\Roaming\\Python\\Python310\\site-packages\\keras\\utils\\traceback_utils.py:64\u001b[0m, in \u001b[0;36mfilter_traceback.<locals>.error_handler\u001b[1;34m(*args, **kwargs)\u001b[0m\n\u001b[0;32m     62\u001b[0m filtered_tb \u001b[38;5;241m=\u001b[39m \u001b[38;5;28;01mNone\u001b[39;00m\n\u001b[0;32m     63\u001b[0m \u001b[38;5;28;01mtry\u001b[39;00m:\n\u001b[1;32m---> 64\u001b[0m   \u001b[38;5;28;01mreturn\u001b[39;00m fn(\u001b[38;5;241m*\u001b[39margs, \u001b[38;5;241m*\u001b[39m\u001b[38;5;241m*\u001b[39mkwargs)\n\u001b[0;32m     65\u001b[0m \u001b[38;5;28;01mexcept\u001b[39;00m \u001b[38;5;167;01mException\u001b[39;00m \u001b[38;5;28;01mas\u001b[39;00m e:  \u001b[38;5;66;03m# pylint: disable=broad-except\u001b[39;00m\n\u001b[0;32m     66\u001b[0m   filtered_tb \u001b[38;5;241m=\u001b[39m _process_traceback_frames(e\u001b[38;5;241m.\u001b[39m__traceback__)\n",
      "File \u001b[1;32m~\\AppData\\Roaming\\Python\\Python310\\site-packages\\keras\\engine\\training.py:1409\u001b[0m, in \u001b[0;36mModel.fit\u001b[1;34m(self, x, y, batch_size, epochs, verbose, callbacks, validation_split, validation_data, shuffle, class_weight, sample_weight, initial_epoch, steps_per_epoch, validation_steps, validation_batch_size, validation_freq, max_queue_size, workers, use_multiprocessing)\u001b[0m\n\u001b[0;32m   1402\u001b[0m \u001b[38;5;28;01mwith\u001b[39;00m tf\u001b[38;5;241m.\u001b[39mprofiler\u001b[38;5;241m.\u001b[39mexperimental\u001b[38;5;241m.\u001b[39mTrace(\n\u001b[0;32m   1403\u001b[0m     \u001b[38;5;124m'\u001b[39m\u001b[38;5;124mtrain\u001b[39m\u001b[38;5;124m'\u001b[39m,\n\u001b[0;32m   1404\u001b[0m     epoch_num\u001b[38;5;241m=\u001b[39mepoch,\n\u001b[0;32m   1405\u001b[0m     step_num\u001b[38;5;241m=\u001b[39mstep,\n\u001b[0;32m   1406\u001b[0m     batch_size\u001b[38;5;241m=\u001b[39mbatch_size,\n\u001b[0;32m   1407\u001b[0m     _r\u001b[38;5;241m=\u001b[39m\u001b[38;5;241m1\u001b[39m):\n\u001b[0;32m   1408\u001b[0m   callbacks\u001b[38;5;241m.\u001b[39mon_train_batch_begin(step)\n\u001b[1;32m-> 1409\u001b[0m   tmp_logs \u001b[38;5;241m=\u001b[39m \u001b[38;5;28;43mself\u001b[39;49m\u001b[38;5;241;43m.\u001b[39;49m\u001b[43mtrain_function\u001b[49m\u001b[43m(\u001b[49m\u001b[43miterator\u001b[49m\u001b[43m)\u001b[49m\n\u001b[0;32m   1410\u001b[0m   \u001b[38;5;28;01mif\u001b[39;00m data_handler\u001b[38;5;241m.\u001b[39mshould_sync:\n\u001b[0;32m   1411\u001b[0m     context\u001b[38;5;241m.\u001b[39masync_wait()\n",
      "File \u001b[1;32m~\\AppData\\Roaming\\Python\\Python310\\site-packages\\tensorflow\\python\\util\\traceback_utils.py:150\u001b[0m, in \u001b[0;36mfilter_traceback.<locals>.error_handler\u001b[1;34m(*args, **kwargs)\u001b[0m\n\u001b[0;32m    148\u001b[0m filtered_tb \u001b[38;5;241m=\u001b[39m \u001b[38;5;28;01mNone\u001b[39;00m\n\u001b[0;32m    149\u001b[0m \u001b[38;5;28;01mtry\u001b[39;00m:\n\u001b[1;32m--> 150\u001b[0m   \u001b[38;5;28;01mreturn\u001b[39;00m fn(\u001b[38;5;241m*\u001b[39margs, \u001b[38;5;241m*\u001b[39m\u001b[38;5;241m*\u001b[39mkwargs)\n\u001b[0;32m    151\u001b[0m \u001b[38;5;28;01mexcept\u001b[39;00m \u001b[38;5;167;01mException\u001b[39;00m \u001b[38;5;28;01mas\u001b[39;00m e:\n\u001b[0;32m    152\u001b[0m   filtered_tb \u001b[38;5;241m=\u001b[39m _process_traceback_frames(e\u001b[38;5;241m.\u001b[39m__traceback__)\n",
      "File \u001b[1;32m~\\AppData\\Roaming\\Python\\Python310\\site-packages\\tensorflow\\python\\eager\\def_function.py:915\u001b[0m, in \u001b[0;36mFunction.__call__\u001b[1;34m(self, *args, **kwds)\u001b[0m\n\u001b[0;32m    912\u001b[0m compiler \u001b[38;5;241m=\u001b[39m \u001b[38;5;124m\"\u001b[39m\u001b[38;5;124mxla\u001b[39m\u001b[38;5;124m\"\u001b[39m \u001b[38;5;28;01mif\u001b[39;00m \u001b[38;5;28mself\u001b[39m\u001b[38;5;241m.\u001b[39m_jit_compile \u001b[38;5;28;01melse\u001b[39;00m \u001b[38;5;124m\"\u001b[39m\u001b[38;5;124mnonXla\u001b[39m\u001b[38;5;124m\"\u001b[39m\n\u001b[0;32m    914\u001b[0m \u001b[38;5;28;01mwith\u001b[39;00m OptionalXlaContext(\u001b[38;5;28mself\u001b[39m\u001b[38;5;241m.\u001b[39m_jit_compile):\n\u001b[1;32m--> 915\u001b[0m   result \u001b[38;5;241m=\u001b[39m \u001b[38;5;28mself\u001b[39m\u001b[38;5;241m.\u001b[39m_call(\u001b[38;5;241m*\u001b[39margs, \u001b[38;5;241m*\u001b[39m\u001b[38;5;241m*\u001b[39mkwds)\n\u001b[0;32m    917\u001b[0m new_tracing_count \u001b[38;5;241m=\u001b[39m \u001b[38;5;28mself\u001b[39m\u001b[38;5;241m.\u001b[39mexperimental_get_tracing_count()\n\u001b[0;32m    918\u001b[0m without_tracing \u001b[38;5;241m=\u001b[39m (tracing_count \u001b[38;5;241m==\u001b[39m new_tracing_count)\n",
      "File \u001b[1;32m~\\AppData\\Roaming\\Python\\Python310\\site-packages\\tensorflow\\python\\eager\\def_function.py:947\u001b[0m, in \u001b[0;36mFunction._call\u001b[1;34m(self, *args, **kwds)\u001b[0m\n\u001b[0;32m    944\u001b[0m   \u001b[38;5;28mself\u001b[39m\u001b[38;5;241m.\u001b[39m_lock\u001b[38;5;241m.\u001b[39mrelease()\n\u001b[0;32m    945\u001b[0m   \u001b[38;5;66;03m# In this case we have created variables on the first call, so we run the\u001b[39;00m\n\u001b[0;32m    946\u001b[0m   \u001b[38;5;66;03m# defunned version which is guaranteed to never create variables.\u001b[39;00m\n\u001b[1;32m--> 947\u001b[0m   \u001b[38;5;28;01mreturn\u001b[39;00m \u001b[38;5;28mself\u001b[39m\u001b[38;5;241m.\u001b[39m_stateless_fn(\u001b[38;5;241m*\u001b[39margs, \u001b[38;5;241m*\u001b[39m\u001b[38;5;241m*\u001b[39mkwds)  \u001b[38;5;66;03m# pylint: disable=not-callable\u001b[39;00m\n\u001b[0;32m    948\u001b[0m \u001b[38;5;28;01melif\u001b[39;00m \u001b[38;5;28mself\u001b[39m\u001b[38;5;241m.\u001b[39m_stateful_fn \u001b[38;5;129;01mis\u001b[39;00m \u001b[38;5;129;01mnot\u001b[39;00m \u001b[38;5;28;01mNone\u001b[39;00m:\n\u001b[0;32m    949\u001b[0m   \u001b[38;5;66;03m# Release the lock early so that multiple threads can perform the call\u001b[39;00m\n\u001b[0;32m    950\u001b[0m   \u001b[38;5;66;03m# in parallel.\u001b[39;00m\n\u001b[0;32m    951\u001b[0m   \u001b[38;5;28mself\u001b[39m\u001b[38;5;241m.\u001b[39m_lock\u001b[38;5;241m.\u001b[39mrelease()\n",
      "File \u001b[1;32m~\\AppData\\Roaming\\Python\\Python310\\site-packages\\tensorflow\\python\\eager\\function.py:2453\u001b[0m, in \u001b[0;36mFunction.__call__\u001b[1;34m(self, *args, **kwargs)\u001b[0m\n\u001b[0;32m   2450\u001b[0m \u001b[38;5;28;01mwith\u001b[39;00m \u001b[38;5;28mself\u001b[39m\u001b[38;5;241m.\u001b[39m_lock:\n\u001b[0;32m   2451\u001b[0m   (graph_function,\n\u001b[0;32m   2452\u001b[0m    filtered_flat_args) \u001b[38;5;241m=\u001b[39m \u001b[38;5;28mself\u001b[39m\u001b[38;5;241m.\u001b[39m_maybe_define_function(args, kwargs)\n\u001b[1;32m-> 2453\u001b[0m \u001b[38;5;28;01mreturn\u001b[39;00m \u001b[43mgraph_function\u001b[49m\u001b[38;5;241;43m.\u001b[39;49m\u001b[43m_call_flat\u001b[49m\u001b[43m(\u001b[49m\n\u001b[0;32m   2454\u001b[0m \u001b[43m    \u001b[49m\u001b[43mfiltered_flat_args\u001b[49m\u001b[43m,\u001b[49m\u001b[43m \u001b[49m\u001b[43mcaptured_inputs\u001b[49m\u001b[38;5;241;43m=\u001b[39;49m\u001b[43mgraph_function\u001b[49m\u001b[38;5;241;43m.\u001b[39;49m\u001b[43mcaptured_inputs\u001b[49m\u001b[43m)\u001b[49m\n",
      "File \u001b[1;32m~\\AppData\\Roaming\\Python\\Python310\\site-packages\\tensorflow\\python\\eager\\function.py:1860\u001b[0m, in \u001b[0;36mConcreteFunction._call_flat\u001b[1;34m(self, args, captured_inputs, cancellation_manager)\u001b[0m\n\u001b[0;32m   1856\u001b[0m possible_gradient_type \u001b[38;5;241m=\u001b[39m gradients_util\u001b[38;5;241m.\u001b[39mPossibleTapeGradientTypes(args)\n\u001b[0;32m   1857\u001b[0m \u001b[38;5;28;01mif\u001b[39;00m (possible_gradient_type \u001b[38;5;241m==\u001b[39m gradients_util\u001b[38;5;241m.\u001b[39mPOSSIBLE_GRADIENT_TYPES_NONE\n\u001b[0;32m   1858\u001b[0m     \u001b[38;5;129;01mand\u001b[39;00m executing_eagerly):\n\u001b[0;32m   1859\u001b[0m   \u001b[38;5;66;03m# No tape is watching; skip to running the function.\u001b[39;00m\n\u001b[1;32m-> 1860\u001b[0m   \u001b[38;5;28;01mreturn\u001b[39;00m \u001b[38;5;28mself\u001b[39m\u001b[38;5;241m.\u001b[39m_build_call_outputs(\u001b[38;5;28;43mself\u001b[39;49m\u001b[38;5;241;43m.\u001b[39;49m\u001b[43m_inference_function\u001b[49m\u001b[38;5;241;43m.\u001b[39;49m\u001b[43mcall\u001b[49m\u001b[43m(\u001b[49m\n\u001b[0;32m   1861\u001b[0m \u001b[43m      \u001b[49m\u001b[43mctx\u001b[49m\u001b[43m,\u001b[49m\u001b[43m \u001b[49m\u001b[43margs\u001b[49m\u001b[43m,\u001b[49m\u001b[43m \u001b[49m\u001b[43mcancellation_manager\u001b[49m\u001b[38;5;241;43m=\u001b[39;49m\u001b[43mcancellation_manager\u001b[49m\u001b[43m)\u001b[49m)\n\u001b[0;32m   1862\u001b[0m forward_backward \u001b[38;5;241m=\u001b[39m \u001b[38;5;28mself\u001b[39m\u001b[38;5;241m.\u001b[39m_select_forward_and_backward_functions(\n\u001b[0;32m   1863\u001b[0m     args,\n\u001b[0;32m   1864\u001b[0m     possible_gradient_type,\n\u001b[0;32m   1865\u001b[0m     executing_eagerly)\n\u001b[0;32m   1866\u001b[0m forward_function, args_with_tangents \u001b[38;5;241m=\u001b[39m forward_backward\u001b[38;5;241m.\u001b[39mforward()\n",
      "File \u001b[1;32m~\\AppData\\Roaming\\Python\\Python310\\site-packages\\tensorflow\\python\\eager\\function.py:497\u001b[0m, in \u001b[0;36m_EagerDefinedFunction.call\u001b[1;34m(self, ctx, args, cancellation_manager)\u001b[0m\n\u001b[0;32m    495\u001b[0m \u001b[38;5;28;01mwith\u001b[39;00m _InterpolateFunctionError(\u001b[38;5;28mself\u001b[39m):\n\u001b[0;32m    496\u001b[0m   \u001b[38;5;28;01mif\u001b[39;00m cancellation_manager \u001b[38;5;129;01mis\u001b[39;00m \u001b[38;5;28;01mNone\u001b[39;00m:\n\u001b[1;32m--> 497\u001b[0m     outputs \u001b[38;5;241m=\u001b[39m \u001b[43mexecute\u001b[49m\u001b[38;5;241;43m.\u001b[39;49m\u001b[43mexecute\u001b[49m\u001b[43m(\u001b[49m\n\u001b[0;32m    498\u001b[0m \u001b[43m        \u001b[49m\u001b[38;5;28;43mstr\u001b[39;49m\u001b[43m(\u001b[49m\u001b[38;5;28;43mself\u001b[39;49m\u001b[38;5;241;43m.\u001b[39;49m\u001b[43msignature\u001b[49m\u001b[38;5;241;43m.\u001b[39;49m\u001b[43mname\u001b[49m\u001b[43m)\u001b[49m\u001b[43m,\u001b[49m\n\u001b[0;32m    499\u001b[0m \u001b[43m        \u001b[49m\u001b[43mnum_outputs\u001b[49m\u001b[38;5;241;43m=\u001b[39;49m\u001b[38;5;28;43mself\u001b[39;49m\u001b[38;5;241;43m.\u001b[39;49m\u001b[43m_num_outputs\u001b[49m\u001b[43m,\u001b[49m\n\u001b[0;32m    500\u001b[0m \u001b[43m        \u001b[49m\u001b[43minputs\u001b[49m\u001b[38;5;241;43m=\u001b[39;49m\u001b[43margs\u001b[49m\u001b[43m,\u001b[49m\n\u001b[0;32m    501\u001b[0m \u001b[43m        \u001b[49m\u001b[43mattrs\u001b[49m\u001b[38;5;241;43m=\u001b[39;49m\u001b[43mattrs\u001b[49m\u001b[43m,\u001b[49m\n\u001b[0;32m    502\u001b[0m \u001b[43m        \u001b[49m\u001b[43mctx\u001b[49m\u001b[38;5;241;43m=\u001b[39;49m\u001b[43mctx\u001b[49m\u001b[43m)\u001b[49m\n\u001b[0;32m    503\u001b[0m   \u001b[38;5;28;01melse\u001b[39;00m:\n\u001b[0;32m    504\u001b[0m     outputs \u001b[38;5;241m=\u001b[39m execute\u001b[38;5;241m.\u001b[39mexecute_with_cancellation(\n\u001b[0;32m    505\u001b[0m         \u001b[38;5;28mstr\u001b[39m(\u001b[38;5;28mself\u001b[39m\u001b[38;5;241m.\u001b[39msignature\u001b[38;5;241m.\u001b[39mname),\n\u001b[0;32m    506\u001b[0m         num_outputs\u001b[38;5;241m=\u001b[39m\u001b[38;5;28mself\u001b[39m\u001b[38;5;241m.\u001b[39m_num_outputs,\n\u001b[1;32m   (...)\u001b[0m\n\u001b[0;32m    509\u001b[0m         ctx\u001b[38;5;241m=\u001b[39mctx,\n\u001b[0;32m    510\u001b[0m         cancellation_manager\u001b[38;5;241m=\u001b[39mcancellation_manager)\n",
      "File \u001b[1;32m~\\AppData\\Roaming\\Python\\Python310\\site-packages\\tensorflow\\python\\eager\\execute.py:54\u001b[0m, in \u001b[0;36mquick_execute\u001b[1;34m(op_name, num_outputs, inputs, attrs, ctx, name)\u001b[0m\n\u001b[0;32m     52\u001b[0m \u001b[38;5;28;01mtry\u001b[39;00m:\n\u001b[0;32m     53\u001b[0m   ctx\u001b[38;5;241m.\u001b[39mensure_initialized()\n\u001b[1;32m---> 54\u001b[0m   tensors \u001b[38;5;241m=\u001b[39m \u001b[43mpywrap_tfe\u001b[49m\u001b[38;5;241;43m.\u001b[39;49m\u001b[43mTFE_Py_Execute\u001b[49m\u001b[43m(\u001b[49m\u001b[43mctx\u001b[49m\u001b[38;5;241;43m.\u001b[39;49m\u001b[43m_handle\u001b[49m\u001b[43m,\u001b[49m\u001b[43m \u001b[49m\u001b[43mdevice_name\u001b[49m\u001b[43m,\u001b[49m\u001b[43m \u001b[49m\u001b[43mop_name\u001b[49m\u001b[43m,\u001b[49m\n\u001b[0;32m     55\u001b[0m \u001b[43m                                      \u001b[49m\u001b[43minputs\u001b[49m\u001b[43m,\u001b[49m\u001b[43m \u001b[49m\u001b[43mattrs\u001b[49m\u001b[43m,\u001b[49m\u001b[43m \u001b[49m\u001b[43mnum_outputs\u001b[49m\u001b[43m)\u001b[49m\n\u001b[0;32m     56\u001b[0m \u001b[38;5;28;01mexcept\u001b[39;00m core\u001b[38;5;241m.\u001b[39m_NotOkStatusException \u001b[38;5;28;01mas\u001b[39;00m e:\n\u001b[0;32m     57\u001b[0m   \u001b[38;5;28;01mif\u001b[39;00m name \u001b[38;5;129;01mis\u001b[39;00m \u001b[38;5;129;01mnot\u001b[39;00m \u001b[38;5;28;01mNone\u001b[39;00m:\n",
      "\u001b[1;31mKeyboardInterrupt\u001b[0m: "
     ]
    }
   ],
   "source": [
    "checkpoint = tf.keras.callbacks.ModelCheckpoint(\"./model_weights/\", monitor=\"val_loss\", mode=\"min\", save_best_only=True, \n",
    "                                                verbose=0, overwrite=True)\n",
    "earlyStop = EarlyStopping(monitor='loss',patience=3)\n",
    "\n",
    "model_mnist_padded.compile(optimizer = tf.keras.optimizers.Adam(learning_rate=init_lr), loss = 'mean_squared_error', \n",
    "                    metrics = 'accuracy')\n",
    "hist_padded = model_mnist_padded.fit(x = fieldMNIST_train_padded, y = targetMNIST_train, \n",
    "                                    validation_data=(fieldMNIST_val_padded, targetMNIST_val), \n",
    "                                    batch_size = 20, epochs = total_epoch, \n",
    "                                    callbacks = [earlyStop, checkpoint])"
   ]
  },
  {
   "cell_type": "code",
   "execution_count": 11,
   "metadata": {},
   "outputs": [],
   "source": [
    "# from keras.models import save_model\n",
    "model_mnist_padded.save('unet_padded.h5', overwrite=True)\n"
   ]
  },
  {
   "cell_type": "code",
   "execution_count": 12,
   "metadata": {},
   "outputs": [
    {
     "name": "stdout",
     "output_type": "stream",
     "text": [
      "4/4 [==============================] - 1s 208ms/step\n"
     ]
    }
   ],
   "source": [
    "from keras.models import load_model\n",
    "\n",
    "trained_model_padded = load_model('unet_padded.h5')\n",
    "\n",
    "pred1 = trained_model_padded.predict(fieldMNIST_test_padded)"
   ]
  },
  {
   "cell_type": "code",
   "execution_count": 21,
   "metadata": {},
   "outputs": [
    {
     "name": "stdout",
     "output_type": "stream",
     "text": [
      "4/4 [==============================] - 2s 173ms/step\n"
     ]
    }
   ],
   "source": [
    "pred1 = model_mnist_padded.predict(fieldMNIST_test_padded)"
   ]
  },
  {
   "cell_type": "code",
   "execution_count": 24,
   "metadata": {},
   "outputs": [
    {
     "data": {
      "image/png": "[encoded data removed]",
      "text/plain": [
       "<Figure size 1728x1728 with 3 Axes>"
      ]
     },
     "metadata": {
      "needs_background": "light"
     },
     "output_type": "display_data"
    }
   ],
   "source": [
    "fig, axs = plt.subplots(1, 3, figsize=(24, 24))\n",
    "\n",
    "axs[0].matshow(fieldMNIST_test[5])\n",
    "axs[1].matshow(targetMNIST_test[5])\n",
    "axs[2].matshow(pred1[5])\n",
    "\n",
    "plt.show()"
   ]
  },
  {
   "cell_type": "code",
   "execution_count": 23,
   "metadata": {},
   "outputs": [
    {
     "name": "stdout",
     "output_type": "stream",
     "text": [
      "4/4 [==============================] - 1s 135ms/step - loss: 0.1099 - accuracy: 0.8606\n"
     ]
    },
    {
     "data": {
      "text/plain": [
       "[0.10985703021287918, 0.860615074634552]"
      ]
     },
     "execution_count": 23,
     "metadata": {},
     "output_type": "execute_result"
    }
   ],
   "source": [
    "# trained_model_padded.evaluate(fieldMNIST_test_padded, targetMNIST_test)\n",
    "model_mnist_padded.evaluate(fieldMNIST_test_padded, targetMNIST_test)"
   ]
  },
  {
   "cell_type": "code",
   "execution_count": 24,
   "metadata": {},
   "outputs": [
    {
     "data": {
      "image/png": "[encoded data removed]",
      "text/plain": [
       "<Figure size 432x288 with 1 Axes>"
      ]
     },
     "metadata": {
      "needs_background": "light"
     },
     "output_type": "display_data"
    }
   ],
   "source": [
    "loss = hist_padded.history['loss']\n",
    "val_loss = hist_padded.history['val_loss']\n",
    "epochs = range(1, len(loss) + 1)\n",
    "plt.plot(epochs, loss, 'y', label='Training loss')\n",
    "plt.plot(epochs, val_loss, 'r', label='Validation loss')\n",
    "plt.title('Training and validation loss')\n",
    "plt.xlabel('Epochs')\n",
    "plt.ylabel('Loss')\n",
    "plt.legend()\n",
    "plt.show()"
   ]
  },
  {
   "cell_type": "code",
   "execution_count": 25,
   "metadata": {},
   "outputs": [
    {
     "data": {
      "image/png": "[encoded data removed]",
      "text/plain": [
       "<Figure size 432x288 with 1 Axes>"
      ]
     },
     "metadata": {
      "needs_background": "light"
     },
     "output_type": "display_data"
    }
   ],
   "source": [
    "acc = hist_padded.history['accuracy']\n",
    "val_acc = hist_padded.history['val_accuracy']\n",
    "\n",
    "plt.plot(epochs, acc, 'y', label='Training acc')\n",
    "plt.plot(epochs, val_acc, 'r', label='Validation acc')\n",
    "plt.title('Training and validation accuracy')\n",
    "plt.xlabel('Epochs')\n",
    "plt.ylabel('Accuracy')\n",
    "plt.legend()\n",
    "plt.show()"
   ]
  },
  {
   "cell_type": "markdown",
   "metadata": {},
   "source": [
    "UNET with Flatten Layer to output 28x28 image"
   ]
  },
  {
   "cell_type": "code",
   "execution_count": 19,
   "metadata": {},
   "outputs": [],
   "source": [
    "def unet_with_flatten(input_shape):\n",
    "    inputs = Input(input_shape)\n",
    "\n",
    "    conv1 = Conv2D(64, 3, padding='same')(inputs)\n",
    "    conv1 = BatchNormalization()(conv1)\n",
    "    conv1 = Activation('relu')(conv1)\n",
    "    conv1 = Conv2D(64, 3, padding='same')(conv1)\n",
    "    conv1 = BatchNormalization()(conv1)\n",
    "    conv1 = Activation('relu')(conv1)\n",
    "    conv1 = Conv2D(64, 3, padding='same')(conv1)\n",
    "    conv1 = BatchNormalization()(conv1)\n",
    "    conv1 = Activation('relu')(conv1)\n",
    "    pool1 = MaxPooling2D(pool_size=(2, 2))(conv1)\n",
    "\n",
    "    conv2 = Conv2D(128, 3, padding='same')(pool1)\n",
    "    conv2 = BatchNormalization()(conv2)\n",
    "    conv2 = Activation('relu')(conv2)\n",
    "    conv2 = Conv2D(128, 3, padding='same')(conv2)\n",
    "    conv2 = BatchNormalization()(conv2)\n",
    "    conv2 = Activation('relu')(conv2)\n",
    "    pool2 = MaxPooling2D(pool_size=(2, 2))(conv2)\n",
    "\n",
    "    # Bottleneck\n",
    "    bottleneck = Conv2D(256, 3, padding='same')(pool2)\n",
    "    bottleneck = BatchNormalization()(bottleneck)\n",
    "    bottleneck = Activation('relu')(bottleneck)\n",
    "    bottleneck = Conv2D(256, 3, padding='same')(bottleneck)\n",
    "    bottleneck = BatchNormalization()(bottleneck)\n",
    "    bottleneck = Activation('relu')(bottleneck)\n",
    "\n",
    "    # Expansive Path\n",
    "    up1 = Conv2DTranspose(128, (3, 3), strides=(2, 2), padding='same')(bottleneck)\n",
    "    skip1 = Concatenate(axis=-1)([conv2, up1])\n",
    "    conv3 = Conv2D(128, 3, padding='same')(skip1)\n",
    "    conv3 = BatchNormalization()(conv3)\n",
    "    conv3 = Activation('relu')(conv3)\n",
    "    conv3 = Conv2D(128, 3, padding='same')(conv3)\n",
    "    conv3 = BatchNormalization()(conv3)\n",
    "    conv3 = Activation('relu')(conv3)\n",
    "\n",
    "    up2 = Conv2DTranspose(64, (3, 3), strides=(2, 2), padding='same')(conv3)\n",
    "    skip2 = Concatenate(axis=-1)([conv1, up2])\n",
    "    conv4 = Conv2D(64, 3, padding='same')(skip2)\n",
    "    conv4 = BatchNormalization()(conv4)\n",
    "    conv4 = Activation('relu')(conv4)\n",
    "    conv4 = Conv2D(64, 3, padding='same')(conv4)\n",
    "    conv4 = BatchNormalization()(conv4)\n",
    "    conv4 = Activation('relu')(conv4)\n",
    "\n",
    "    flatten = Flatten()(conv4)\n",
    "\n",
    "    dense = Dense(28*28*1, activation='relu')(flatten)\n",
    "\n",
    "    reshape = Reshape((28, 28, 1))(dense)\n",
    "\n",
    "    # up3 = Conv2DTranspose(32, (3, 3), strides=(2, 2), padding='same')(conv4)\n",
    "    # conv5 = Conv2D(32, 3, padding='same')(up3)\n",
    "    # conv5 = BatchNormalization()(conv5)\n",
    "    # conv5 = Activation('relu')(conv5)\n",
    "    # conv5 = Conv2D(32, 3, padding='same')(conv5)\n",
    "    # conv5 = BatchNormalization()(conv5)\n",
    "    # conv5 = Activation('relu')(conv5)\n",
    "\n",
    "    # conv5 = Conv2DTranspose(1, (3, 3), strides=(2, 2), padding='same')(conv4)\n",
    "\n",
    "    output = Conv2D(1, 1, activation='sigmoid')(reshape)\n",
    "\n",
    "    # Cropping to the desired size (35, 35)\n",
    "    # cropped_output = Cropping2D(((7, 6), (7, 6)))(output)\n",
    "\n",
    "    model = Model(inputs=inputs, outputs=output)\n",
    "\n",
    "    return model"
   ]
  },
  {
   "cell_type": "code",
   "execution_count": 17,
   "metadata": {},
   "outputs": [
    {
     "ename": "NameError",
     "evalue": "name 'unet_with_flatten' is not defined",
     "output_type": "error",
     "traceback": [
      "\u001b[1;31m---------------------------------------------------------------------------\u001b[0m",
      "\u001b[1;31mNameError\u001b[0m                                 Traceback (most recent call last)",
      "Input \u001b[1;32mIn [17]\u001b[0m, in \u001b[0;36m<cell line: 2>\u001b[1;34m()\u001b[0m\n\u001b[0;32m      1\u001b[0m inputMNIST_shape \u001b[38;5;241m=\u001b[39m fieldMNIST_train\u001b[38;5;241m.\u001b[39mshape[\u001b[38;5;241m1\u001b[39m:]\n\u001b[1;32m----> 2\u001b[0m model_mnist_flatten \u001b[38;5;241m=\u001b[39m \u001b[43munet_with_flatten\u001b[49m(inputMNIST_shape)\n\u001b[0;32m      3\u001b[0m model_mnist_flatten\u001b[38;5;241m.\u001b[39msummary()\n",
      "\u001b[1;31mNameError\u001b[0m: name 'unet_with_flatten' is not defined"
     ]
    }
   ],
   "source": [
    "inputMNIST_shape = fieldMNIST_train.shape[1:]\n",
    "model_mnist_flatten = unet_with_flatten(inputMNIST_shape)\n",
    "model_mnist_flatten.summary()"
   ]
  },
  {
   "cell_type": "code",
   "execution_count": 21,
   "metadata": {},
   "outputs": [
    {
     "name": "stdout",
     "output_type": "stream",
     "text": [
      "Epoch 1/200\n",
      "21/21 [==============================] - ETA: 0s - loss: 0.6671 - accuracy: 0.7499\n",
      "Epoch 1: val_loss improved from inf to 0.68925, saving model to ./model_weights_flatten\\\n"
     ]
    },
    {
     "name": "stderr",
     "output_type": "stream",
     "text": [
      "WARNING:absl:Found untraced functions such as _jit_compiled_convolution_op, _jit_compiled_convolution_op, _jit_compiled_convolution_op, _jit_compiled_convolution_op, _jit_compiled_convolution_op while saving (showing 5 of 14). These functions will not be directly callable after loading.\n"
     ]
    },
    {
     "name": "stdout",
     "output_type": "stream",
     "text": [
      "INFO:tensorflow:Assets written to: ./model_weights_flatten\\assets\n"
     ]
    },
    {
     "name": "stderr",
     "output_type": "stream",
     "text": [
      "INFO:tensorflow:Assets written to: ./model_weights_flatten\\assets\n"
     ]
    },
    {
     "name": "stdout",
     "output_type": "stream",
     "text": [
      "21/21 [==============================] - 24s 1s/step - loss: 0.6671 - accuracy: 0.7499 - val_loss: 0.6893 - val_accuracy: 0.6872\n",
      "Epoch 2/200\n",
      "21/21 [==============================] - ETA: 0s - loss: 0.6285 - accuracy: 0.7963\n",
      "Epoch 2: val_loss improved from 0.68925 to 0.68434, saving model to ./model_weights_flatten\\\n"
     ]
    },
    {
     "name": "stderr",
     "output_type": "stream",
     "text": [
      "WARNING:absl:Found untraced functions such as _jit_compiled_convolution_op, _jit_compiled_convolution_op, _jit_compiled_convolution_op, _jit_compiled_convolution_op, _jit_compiled_convolution_op while saving (showing 5 of 14). These functions will not be directly callable after loading.\n"
     ]
    },
    {
     "name": "stdout",
     "output_type": "stream",
     "text": [
      "INFO:tensorflow:Assets written to: ./model_weights_flatten\\assets\n"
     ]
    },
    {
     "name": "stderr",
     "output_type": "stream",
     "text": [
      "INFO:tensorflow:Assets written to: ./model_weights_flatten\\assets\n"
     ]
    },
    {
     "name": "stdout",
     "output_type": "stream",
     "text": [
      "21/21 [==============================] - 19s 924ms/step - loss: 0.6285 - accuracy: 0.7963 - val_loss: 0.6843 - val_accuracy: 0.6944\n",
      "Epoch 3/200\n",
      "21/21 [==============================] - ETA: 0s - loss: 0.6085 - accuracy: 0.8110\n",
      "Epoch 3: val_loss improved from 0.68434 to 0.68058, saving model to ./model_weights_flatten\\\n"
     ]
    },
    {
     "name": "stderr",
     "output_type": "stream",
     "text": [
      "WARNING:absl:Found untraced functions such as _jit_compiled_convolution_op, _jit_compiled_convolution_op, _jit_compiled_convolution_op, _jit_compiled_convolution_op, _jit_compiled_convolution_op while saving (showing 5 of 14). These functions will not be directly callable after loading.\n"
     ]
    },
    {
     "name": "stdout",
     "output_type": "stream",
     "text": [
      "INFO:tensorflow:Assets written to: ./model_weights_flatten\\assets\n"
     ]
    },
    {
     "name": "stderr",
     "output_type": "stream",
     "text": [
      "INFO:tensorflow:Assets written to: ./model_weights_flatten\\assets\n"
     ]
    },
    {
     "name": "stdout",
     "output_type": "stream",
     "text": [
      "21/21 [==============================] - 17s 831ms/step - loss: 0.6085 - accuracy: 0.8110 - val_loss: 0.6806 - val_accuracy: 0.6909\n",
      "Epoch 4/200\n",
      "21/21 [==============================] - ETA: 0s - loss: 0.5942 - accuracy: 0.8184\n",
      "Epoch 4: val_loss improved from 0.68058 to 0.67674, saving model to ./model_weights_flatten\\\n"
     ]
    },
    {
     "name": "stderr",
     "output_type": "stream",
     "text": [
      "WARNING:absl:Found untraced functions such as _jit_compiled_convolution_op, _jit_compiled_convolution_op, _jit_compiled_convolution_op, _jit_compiled_convolution_op, _jit_compiled_convolution_op while saving (showing 5 of 14). These functions will not be directly callable after loading.\n"
     ]
    },
    {
     "name": "stdout",
     "output_type": "stream",
     "text": [
      "INFO:tensorflow:Assets written to: ./model_weights_flatten\\assets\n"
     ]
    },
    {
     "name": "stderr",
     "output_type": "stream",
     "text": [
      "INFO:tensorflow:Assets written to: ./model_weights_flatten\\assets\n"
     ]
    },
    {
     "name": "stdout",
     "output_type": "stream",
     "text": [
      "21/21 [==============================] - 16s 795ms/step - loss: 0.5942 - accuracy: 0.8184 - val_loss: 0.6767 - val_accuracy: 0.6938\n",
      "Epoch 5/200\n",
      "21/21 [==============================] - ETA: 0s - loss: 0.5804 - accuracy: 0.8243\n",
      "Epoch 5: val_loss improved from 0.67674 to 0.67514, saving model to ./model_weights_flatten\\\n"
     ]
    },
    {
     "name": "stderr",
     "output_type": "stream",
     "text": [
      "WARNING:absl:Found untraced functions such as _jit_compiled_convolution_op, _jit_compiled_convolution_op, _jit_compiled_convolution_op, _jit_compiled_convolution_op, _jit_compiled_convolution_op while saving (showing 5 of 14). These functions will not be directly callable after loading.\n"
     ]
    },
    {
     "name": "stdout",
     "output_type": "stream",
     "text": [
      "INFO:tensorflow:Assets written to: ./model_weights_flatten\\assets\n"
     ]
    },
    {
     "name": "stderr",
     "output_type": "stream",
     "text": [
      "INFO:tensorflow:Assets written to: ./model_weights_flatten\\assets\n"
     ]
    },
    {
     "name": "stdout",
     "output_type": "stream",
     "text": [
      "21/21 [==============================] - 17s 817ms/step - loss: 0.5804 - accuracy: 0.8243 - val_loss: 0.6751 - val_accuracy: 0.6937\n",
      "Epoch 6/200\n",
      "21/21 [==============================] - ETA: 0s - loss: 0.5698 - accuracy: 0.8284\n",
      "Epoch 6: val_loss improved from 0.67514 to 0.67496, saving model to ./model_weights_flatten\\\n"
     ]
    },
    {
     "name": "stderr",
     "output_type": "stream",
     "text": [
      "WARNING:absl:Found untraced functions such as _jit_compiled_convolution_op, _jit_compiled_convolution_op, _jit_compiled_convolution_op, _jit_compiled_convolution_op, _jit_compiled_convolution_op while saving (showing 5 of 14). These functions will not be directly callable after loading.\n"
     ]
    },
    {
     "name": "stdout",
     "output_type": "stream",
     "text": [
      "INFO:tensorflow:Assets written to: ./model_weights_flatten\\assets\n"
     ]
    },
    {
     "name": "stderr",
     "output_type": "stream",
     "text": [
      "INFO:tensorflow:Assets written to: ./model_weights_flatten\\assets\n"
     ]
    },
    {
     "name": "stdout",
     "output_type": "stream",
     "text": [
      "21/21 [==============================] - 16s 775ms/step - loss: 0.5698 - accuracy: 0.8284 - val_loss: 0.6750 - val_accuracy: 0.6954\n",
      "Epoch 7/200\n",
      "21/21 [==============================] - ETA: 0s - loss: 0.5591 - accuracy: 0.8326\n",
      "Epoch 7: val_loss improved from 0.67496 to 0.67457, saving model to ./model_weights_flatten\\\n"
     ]
    },
    {
     "name": "stderr",
     "output_type": "stream",
     "text": [
      "WARNING:absl:Found untraced functions such as _jit_compiled_convolution_op, _jit_compiled_convolution_op, _jit_compiled_convolution_op, _jit_compiled_convolution_op, _jit_compiled_convolution_op while saving (showing 5 of 14). These functions will not be directly callable after loading.\n"
     ]
    },
    {
     "name": "stdout",
     "output_type": "stream",
     "text": [
      "INFO:tensorflow:Assets written to: ./model_weights_flatten\\assets\n"
     ]
    },
    {
     "name": "stderr",
     "output_type": "stream",
     "text": [
      "INFO:tensorflow:Assets written to: ./model_weights_flatten\\assets\n"
     ]
    },
    {
     "name": "stdout",
     "output_type": "stream",
     "text": [
      "21/21 [==============================] - 17s 835ms/step - loss: 0.5591 - accuracy: 0.8326 - val_loss: 0.6746 - val_accuracy: 0.6956\n",
      "Epoch 8/200\n",
      "21/21 [==============================] - ETA: 0s - loss: 0.5510 - accuracy: 0.8353\n",
      "Epoch 8: val_loss did not improve from 0.67457\n",
      "21/21 [==============================] - 12s 571ms/step - loss: 0.5510 - accuracy: 0.8353 - val_loss: 0.6764 - val_accuracy: 0.6951\n",
      "Epoch 9/200\n",
      "21/21 [==============================] - ETA: 0s - loss: 0.5434 - accuracy: 0.8372\n",
      "Epoch 9: val_loss did not improve from 0.67457\n",
      "21/21 [==============================] - 13s 612ms/step - loss: 0.5434 - accuracy: 0.8372 - val_loss: 0.6859 - val_accuracy: 0.6959\n",
      "Epoch 10/200\n",
      "21/21 [==============================] - ETA: 0s - loss: 0.5364 - accuracy: 0.8398\n",
      "Epoch 10: val_loss did not improve from 0.67457\n",
      "21/21 [==============================] - 12s 561ms/step - loss: 0.5364 - accuracy: 0.8398 - val_loss: 0.6811 - val_accuracy: 0.6958\n",
      "Epoch 11/200\n",
      "21/21 [==============================] - ETA: 0s - loss: 0.5309 - accuracy: 0.8407\n",
      "Epoch 11: val_loss did not improve from 0.67457\n",
      "21/21 [==============================] - 12s 572ms/step - loss: 0.5309 - accuracy: 0.8407 - val_loss: 0.6919 - val_accuracy: 0.6979\n",
      "Epoch 12/200\n",
      "21/21 [==============================] - ETA: 0s - loss: 0.5254 - accuracy: 0.8419\n",
      "Epoch 12: val_loss did not improve from 0.67457\n",
      "21/21 [==============================] - 12s 581ms/step - loss: 0.5254 - accuracy: 0.8419 - val_loss: 0.7005 - val_accuracy: 0.6983\n",
      "Epoch 13/200\n",
      "21/21 [==============================] - ETA: 0s - loss: 0.5191 - accuracy: 0.8433\n",
      "Epoch 13: val_loss did not improve from 0.67457\n",
      "21/21 [==============================] - 12s 557ms/step - loss: 0.5191 - accuracy: 0.8433 - val_loss: 0.6884 - val_accuracy: 0.6986\n",
      "Epoch 14/200\n",
      "21/21 [==============================] - ETA: 0s - loss: 0.5139 - accuracy: 0.8445\n",
      "Epoch 14: val_loss did not improve from 0.67457\n",
      "21/21 [==============================] - 12s 594ms/step - loss: 0.5139 - accuracy: 0.8445 - val_loss: 0.7060 - val_accuracy: 0.6987\n",
      "Epoch 15/200\n",
      "21/21 [==============================] - ETA: 0s - loss: 0.5092 - accuracy: 0.8452\n",
      "Epoch 15: val_loss did not improve from 0.67457\n",
      "21/21 [==============================] - 12s 572ms/step - loss: 0.5092 - accuracy: 0.8452 - val_loss: 0.6921 - val_accuracy: 0.6986\n",
      "Epoch 16/200\n",
      "21/21 [==============================] - ETA: 0s - loss: 0.5054 - accuracy: 0.8455\n",
      "Epoch 16: val_loss did not improve from 0.67457\n",
      "21/21 [==============================] - 13s 606ms/step - loss: 0.5054 - accuracy: 0.8455 - val_loss: 0.6970 - val_accuracy: 0.7015\n",
      "Epoch 17/200\n",
      "21/21 [==============================] - ETA: 0s - loss: 0.5020 - accuracy: 0.8451\n",
      "Epoch 17: val_loss did not improve from 0.67457\n",
      "21/21 [==============================] - 12s 573ms/step - loss: 0.5020 - accuracy: 0.8451 - val_loss: 0.6894 - val_accuracy: 0.7012\n",
      "Epoch 18/200\n",
      "21/21 [==============================] - ETA: 0s - loss: 0.4977 - accuracy: 0.8458\n",
      "Epoch 18: val_loss did not improve from 0.67457\n",
      "21/21 [==============================] - 12s 552ms/step - loss: 0.4977 - accuracy: 0.8458 - val_loss: 0.7040 - val_accuracy: 0.7029\n",
      "Epoch 19/200\n",
      "21/21 [==============================] - ETA: 0s - loss: 0.4940 - accuracy: 0.8460\n",
      "Epoch 19: val_loss did not improve from 0.67457\n",
      "21/21 [==============================] - 11s 548ms/step - loss: 0.4940 - accuracy: 0.8460 - val_loss: 0.6885 - val_accuracy: 0.7078\n",
      "Epoch 20/200\n",
      "21/21 [==============================] - ETA: 0s - loss: 0.4896 - accuracy: 0.8468\n",
      "Epoch 20: val_loss did not improve from 0.67457\n",
      "21/21 [==============================] - 13s 604ms/step - loss: 0.4896 - accuracy: 0.8468 - val_loss: 0.6747 - val_accuracy: 0.7086\n",
      "Epoch 21/200\n",
      "21/21 [==============================] - ETA: 0s - loss: 0.4860 - accuracy: 0.8471\n",
      "Epoch 21: val_loss improved from 0.67457 to 0.66143, saving model to ./model_weights_flatten\\\n"
     ]
    },
    {
     "name": "stderr",
     "output_type": "stream",
     "text": [
      "WARNING:absl:Found untraced functions such as _jit_compiled_convolution_op, _jit_compiled_convolution_op, _jit_compiled_convolution_op, _jit_compiled_convolution_op, _jit_compiled_convolution_op while saving (showing 5 of 14). These functions will not be directly callable after loading.\n"
     ]
    },
    {
     "name": "stdout",
     "output_type": "stream",
     "text": [
      "INFO:tensorflow:Assets written to: ./model_weights_flatten\\assets\n"
     ]
    },
    {
     "name": "stderr",
     "output_type": "stream",
     "text": [
      "INFO:tensorflow:Assets written to: ./model_weights_flatten\\assets\n"
     ]
    },
    {
     "name": "stdout",
     "output_type": "stream",
     "text": [
      "21/21 [==============================] - 17s 827ms/step - loss: 0.4860 - accuracy: 0.8471 - val_loss: 0.6614 - val_accuracy: 0.7132\n",
      "Epoch 22/200\n",
      "21/21 [==============================] - ETA: 0s - loss: 0.4831 - accuracy: 0.8471\n",
      "Epoch 22: val_loss did not improve from 0.66143\n",
      "21/21 [==============================] - 14s 666ms/step - loss: 0.4831 - accuracy: 0.8471 - val_loss: 0.6644 - val_accuracy: 0.7163\n",
      "Epoch 23/200\n",
      "21/21 [==============================] - ETA: 0s - loss: 0.4806 - accuracy: 0.8468\n",
      "Epoch 23: val_loss improved from 0.66143 to 0.65872, saving model to ./model_weights_flatten\\\n"
     ]
    },
    {
     "name": "stderr",
     "output_type": "stream",
     "text": [
      "WARNING:absl:Found untraced functions such as _jit_compiled_convolution_op, _jit_compiled_convolution_op, _jit_compiled_convolution_op, _jit_compiled_convolution_op, _jit_compiled_convolution_op while saving (showing 5 of 14). These functions will not be directly callable after loading.\n"
     ]
    },
    {
     "name": "stdout",
     "output_type": "stream",
     "text": [
      "INFO:tensorflow:Assets written to: ./model_weights_flatten\\assets\n"
     ]
    },
    {
     "name": "stderr",
     "output_type": "stream",
     "text": [
      "INFO:tensorflow:Assets written to: ./model_weights_flatten\\assets\n"
     ]
    },
    {
     "name": "stdout",
     "output_type": "stream",
     "text": [
      "21/21 [==============================] - 22s 1s/step - loss: 0.4806 - accuracy: 0.8468 - val_loss: 0.6587 - val_accuracy: 0.7199\n",
      "Epoch 24/200\n",
      "21/21 [==============================] - ETA: 0s - loss: 0.4785 - accuracy: 0.8462\n",
      "Epoch 24: val_loss improved from 0.65872 to 0.65152, saving model to ./model_weights_flatten\\\n"
     ]
    },
    {
     "name": "stderr",
     "output_type": "stream",
     "text": [
      "WARNING:absl:Found untraced functions such as _jit_compiled_convolution_op, _jit_compiled_convolution_op, _jit_compiled_convolution_op, _jit_compiled_convolution_op, _jit_compiled_convolution_op while saving (showing 5 of 14). These functions will not be directly callable after loading.\n"
     ]
    },
    {
     "name": "stdout",
     "output_type": "stream",
     "text": [
      "INFO:tensorflow:Assets written to: ./model_weights_flatten\\assets\n"
     ]
    },
    {
     "name": "stderr",
     "output_type": "stream",
     "text": [
      "INFO:tensorflow:Assets written to: ./model_weights_flatten\\assets\n"
     ]
    },
    {
     "name": "stdout",
     "output_type": "stream",
     "text": [
      "21/21 [==============================] - 17s 849ms/step - loss: 0.4785 - accuracy: 0.8462 - val_loss: 0.6515 - val_accuracy: 0.7260\n",
      "Epoch 25/200\n",
      "21/21 [==============================] - ETA: 0s - loss: 0.4746 - accuracy: 0.8469\n",
      "Epoch 25: val_loss improved from 0.65152 to 0.63410, saving model to ./model_weights_flatten\\\n"
     ]
    },
    {
     "name": "stderr",
     "output_type": "stream",
     "text": [
      "WARNING:absl:Found untraced functions such as _jit_compiled_convolution_op, _jit_compiled_convolution_op, _jit_compiled_convolution_op, _jit_compiled_convolution_op, _jit_compiled_convolution_op while saving (showing 5 of 14). These functions will not be directly callable after loading.\n"
     ]
    },
    {
     "name": "stdout",
     "output_type": "stream",
     "text": [
      "INFO:tensorflow:Assets written to: ./model_weights_flatten\\assets\n"
     ]
    },
    {
     "name": "stderr",
     "output_type": "stream",
     "text": [
      "INFO:tensorflow:Assets written to: ./model_weights_flatten\\assets\n"
     ]
    },
    {
     "name": "stdout",
     "output_type": "stream",
     "text": [
      "21/21 [==============================] - 18s 895ms/step - loss: 0.4746 - accuracy: 0.8469 - val_loss: 0.6341 - val_accuracy: 0.7302\n",
      "Epoch 26/200\n",
      "21/21 [==============================] - ETA: 0s - loss: 0.4707 - accuracy: 0.8477\n",
      "Epoch 26: val_loss improved from 0.63410 to 0.62820, saving model to ./model_weights_flatten\\\n"
     ]
    },
    {
     "name": "stderr",
     "output_type": "stream",
     "text": [
      "WARNING:absl:Found untraced functions such as _jit_compiled_convolution_op, _jit_compiled_convolution_op, _jit_compiled_convolution_op, _jit_compiled_convolution_op, _jit_compiled_convolution_op while saving (showing 5 of 14). These functions will not be directly callable after loading.\n"
     ]
    },
    {
     "name": "stdout",
     "output_type": "stream",
     "text": [
      "INFO:tensorflow:Assets written to: ./model_weights_flatten\\assets\n"
     ]
    },
    {
     "name": "stderr",
     "output_type": "stream",
     "text": [
      "INFO:tensorflow:Assets written to: ./model_weights_flatten\\assets\n"
     ]
    },
    {
     "name": "stdout",
     "output_type": "stream",
     "text": [
      "21/21 [==============================] - 20s 960ms/step - loss: 0.4707 - accuracy: 0.8477 - val_loss: 0.6282 - val_accuracy: 0.7421\n",
      "Epoch 27/200\n",
      "21/21 [==============================] - ETA: 0s - loss: 0.4671 - accuracy: 0.8482\n",
      "Epoch 27: val_loss improved from 0.62820 to 0.60946, saving model to ./model_weights_flatten\\\n"
     ]
    },
    {
     "name": "stderr",
     "output_type": "stream",
     "text": [
      "WARNING:absl:Found untraced functions such as _jit_compiled_convolution_op, _jit_compiled_convolution_op, _jit_compiled_convolution_op, _jit_compiled_convolution_op, _jit_compiled_convolution_op while saving (showing 5 of 14). These functions will not be directly callable after loading.\n"
     ]
    },
    {
     "name": "stdout",
     "output_type": "stream",
     "text": [
      "INFO:tensorflow:Assets written to: ./model_weights_flatten\\assets\n"
     ]
    },
    {
     "name": "stderr",
     "output_type": "stream",
     "text": [
      "INFO:tensorflow:Assets written to: ./model_weights_flatten\\assets\n"
     ]
    },
    {
     "name": "stdout",
     "output_type": "stream",
     "text": [
      "21/21 [==============================] - 21s 996ms/step - loss: 0.4671 - accuracy: 0.8482 - val_loss: 0.6095 - val_accuracy: 0.7545\n",
      "Epoch 28/200\n",
      "21/21 [==============================] - ETA: 0s - loss: 0.4643 - accuracy: 0.8484\n",
      "Epoch 28: val_loss improved from 0.60946 to 0.60116, saving model to ./model_weights_flatten\\\n"
     ]
    },
    {
     "name": "stderr",
     "output_type": "stream",
     "text": [
      "WARNING:absl:Found untraced functions such as _jit_compiled_convolution_op, _jit_compiled_convolution_op, _jit_compiled_convolution_op, _jit_compiled_convolution_op, _jit_compiled_convolution_op while saving (showing 5 of 14). These functions will not be directly callable after loading.\n"
     ]
    },
    {
     "name": "stdout",
     "output_type": "stream",
     "text": [
      "INFO:tensorflow:Assets written to: ./model_weights_flatten\\assets\n"
     ]
    },
    {
     "name": "stderr",
     "output_type": "stream",
     "text": [
      "INFO:tensorflow:Assets written to: ./model_weights_flatten\\assets\n"
     ]
    },
    {
     "name": "stdout",
     "output_type": "stream",
     "text": [
      "21/21 [==============================] - 23s 1s/step - loss: 0.4643 - accuracy: 0.8484 - val_loss: 0.6012 - val_accuracy: 0.7638\n",
      "Epoch 29/200\n",
      "21/21 [==============================] - ETA: 0s - loss: 0.4628 - accuracy: 0.8477\n",
      "Epoch 29: val_loss did not improve from 0.60116\n",
      "21/21 [==============================] - 13s 621ms/step - loss: 0.4628 - accuracy: 0.8477 - val_loss: 0.6051 - val_accuracy: 0.7679\n",
      "Epoch 30/200\n",
      "21/21 [==============================] - ETA: 0s - loss: 0.4597 - accuracy: 0.8482\n",
      "Epoch 30: val_loss improved from 0.60116 to 0.58413, saving model to ./model_weights_flatten\\\n"
     ]
    },
    {
     "name": "stderr",
     "output_type": "stream",
     "text": [
      "WARNING:absl:Found untraced functions such as _jit_compiled_convolution_op, _jit_compiled_convolution_op, _jit_compiled_convolution_op, _jit_compiled_convolution_op, _jit_compiled_convolution_op while saving (showing 5 of 14). These functions will not be directly callable after loading.\n"
     ]
    },
    {
     "name": "stdout",
     "output_type": "stream",
     "text": [
      "INFO:tensorflow:Assets written to: ./model_weights_flatten\\assets\n"
     ]
    },
    {
     "name": "stderr",
     "output_type": "stream",
     "text": [
      "INFO:tensorflow:Assets written to: ./model_weights_flatten\\assets\n"
     ]
    },
    {
     "name": "stdout",
     "output_type": "stream",
     "text": [
      "21/21 [==============================] - 19s 937ms/step - loss: 0.4597 - accuracy: 0.8482 - val_loss: 0.5841 - val_accuracy: 0.7738\n",
      "Epoch 31/200\n",
      "21/21 [==============================] - ETA: 0s - loss: 0.4569 - accuracy: 0.8484\n",
      "Epoch 31: val_loss improved from 0.58413 to 0.56499, saving model to ./model_weights_flatten\\\n"
     ]
    },
    {
     "name": "stderr",
     "output_type": "stream",
     "text": [
      "WARNING:absl:Found untraced functions such as _jit_compiled_convolution_op, _jit_compiled_convolution_op, _jit_compiled_convolution_op, _jit_compiled_convolution_op, _jit_compiled_convolution_op while saving (showing 5 of 14). These functions will not be directly callable after loading.\n"
     ]
    },
    {
     "name": "stdout",
     "output_type": "stream",
     "text": [
      "INFO:tensorflow:Assets written to: ./model_weights_flatten\\assets\n"
     ]
    },
    {
     "name": "stderr",
     "output_type": "stream",
     "text": [
      "INFO:tensorflow:Assets written to: ./model_weights_flatten\\assets\n"
     ]
    },
    {
     "name": "stdout",
     "output_type": "stream",
     "text": [
      "21/21 [==============================] - 18s 857ms/step - loss: 0.4569 - accuracy: 0.8484 - val_loss: 0.5650 - val_accuracy: 0.7921\n",
      "Epoch 32/200\n",
      "21/21 [==============================] - ETA: 0s - loss: 0.4545 - accuracy: 0.8485\n",
      "Epoch 32: val_loss improved from 0.56499 to 0.56047, saving model to ./model_weights_flatten\\\n"
     ]
    },
    {
     "name": "stderr",
     "output_type": "stream",
     "text": [
      "WARNING:absl:Found untraced functions such as _jit_compiled_convolution_op, _jit_compiled_convolution_op, _jit_compiled_convolution_op, _jit_compiled_convolution_op, _jit_compiled_convolution_op while saving (showing 5 of 14). These functions will not be directly callable after loading.\n"
     ]
    },
    {
     "name": "stdout",
     "output_type": "stream",
     "text": [
      "INFO:tensorflow:Assets written to: ./model_weights_flatten\\assets\n"
     ]
    },
    {
     "name": "stderr",
     "output_type": "stream",
     "text": [
      "INFO:tensorflow:Assets written to: ./model_weights_flatten\\assets\n"
     ]
    },
    {
     "name": "stdout",
     "output_type": "stream",
     "text": [
      "21/21 [==============================] - 19s 930ms/step - loss: 0.4545 - accuracy: 0.8485 - val_loss: 0.5605 - val_accuracy: 0.8020\n",
      "Epoch 33/200\n",
      "21/21 [==============================] - ETA: 0s - loss: 0.4527 - accuracy: 0.8483\n",
      "Epoch 33: val_loss improved from 0.56047 to 0.56043, saving model to ./model_weights_flatten\\\n"
     ]
    },
    {
     "name": "stderr",
     "output_type": "stream",
     "text": [
      "WARNING:absl:Found untraced functions such as _jit_compiled_convolution_op, _jit_compiled_convolution_op, _jit_compiled_convolution_op, _jit_compiled_convolution_op, _jit_compiled_convolution_op while saving (showing 5 of 14). These functions will not be directly callable after loading.\n"
     ]
    },
    {
     "name": "stdout",
     "output_type": "stream",
     "text": [
      "INFO:tensorflow:Assets written to: ./model_weights_flatten\\assets\n"
     ]
    },
    {
     "name": "stderr",
     "output_type": "stream",
     "text": [
      "INFO:tensorflow:Assets written to: ./model_weights_flatten\\assets\n"
     ]
    },
    {
     "name": "stdout",
     "output_type": "stream",
     "text": [
      "21/21 [==============================] - 21s 1s/step - loss: 0.4527 - accuracy: 0.8483 - val_loss: 0.5604 - val_accuracy: 0.8079\n",
      "Epoch 34/200\n",
      "21/21 [==============================] - ETA: 0s - loss: 0.4501 - accuracy: 0.8486\n",
      "Epoch 34: val_loss did not improve from 0.56043\n",
      "21/21 [==============================] - 16s 772ms/step - loss: 0.4501 - accuracy: 0.8486 - val_loss: 0.5613 - val_accuracy: 0.8113\n",
      "Epoch 35/200\n",
      "21/21 [==============================] - ETA: 0s - loss: 0.4478 - accuracy: 0.8487\n",
      "Epoch 35: val_loss improved from 0.56043 to 0.55083, saving model to ./model_weights_flatten\\\n"
     ]
    },
    {
     "name": "stderr",
     "output_type": "stream",
     "text": [
      "WARNING:absl:Found untraced functions such as _jit_compiled_convolution_op, _jit_compiled_convolution_op, _jit_compiled_convolution_op, _jit_compiled_convolution_op, _jit_compiled_convolution_op while saving (showing 5 of 14). These functions will not be directly callable after loading.\n"
     ]
    },
    {
     "name": "stdout",
     "output_type": "stream",
     "text": [
      "INFO:tensorflow:Assets written to: ./model_weights_flatten\\assets\n"
     ]
    },
    {
     "name": "stderr",
     "output_type": "stream",
     "text": [
      "INFO:tensorflow:Assets written to: ./model_weights_flatten\\assets\n"
     ]
    },
    {
     "name": "stdout",
     "output_type": "stream",
     "text": [
      "21/21 [==============================] - 21s 1s/step - loss: 0.4478 - accuracy: 0.8487 - val_loss: 0.5508 - val_accuracy: 0.8116\n",
      "Epoch 36/200\n",
      "21/21 [==============================] - ETA: 0s - loss: 0.4456 - accuracy: 0.8488\n",
      "Epoch 36: val_loss did not improve from 0.55083\n",
      "21/21 [==============================] - 15s 717ms/step - loss: 0.4456 - accuracy: 0.8488 - val_loss: 0.5513 - val_accuracy: 0.8105\n",
      "Epoch 37/200\n",
      "21/21 [==============================] - ETA: 0s - loss: 0.4442 - accuracy: 0.8484\n",
      "Epoch 37: val_loss did not improve from 0.55083\n",
      "21/21 [==============================] - 14s 682ms/step - loss: 0.4442 - accuracy: 0.8484 - val_loss: 0.5697 - val_accuracy: 0.8121\n",
      "Epoch 38/200\n",
      "21/21 [==============================] - ETA: 0s - loss: 0.4418 - accuracy: 0.8488\n",
      "Epoch 38: val_loss did not improve from 0.55083\n",
      "21/21 [==============================] - 13s 641ms/step - loss: 0.4418 - accuracy: 0.8488 - val_loss: 0.5608 - val_accuracy: 0.8127\n",
      "Epoch 39/200\n",
      "21/21 [==============================] - ETA: 0s - loss: 0.4398 - accuracy: 0.8489\n",
      "Epoch 39: val_loss did not improve from 0.55083\n",
      "21/21 [==============================] - 11s 536ms/step - loss: 0.4398 - accuracy: 0.8489 - val_loss: 0.5533 - val_accuracy: 0.8135\n",
      "Epoch 40/200\n",
      "21/21 [==============================] - ETA: 0s - loss: 0.4408 - accuracy: 0.8469\n",
      "Epoch 40: val_loss did not improve from 0.55083\n",
      "21/21 [==============================] - 12s 553ms/step - loss: 0.4408 - accuracy: 0.8469 - val_loss: 0.5681 - val_accuracy: 0.8128\n",
      "Epoch 41/200\n",
      "21/21 [==============================] - ETA: 0s - loss: 0.4376 - accuracy: 0.8481\n",
      "Epoch 41: val_loss did not improve from 0.55083\n",
      "21/21 [==============================] - 11s 512ms/step - loss: 0.4376 - accuracy: 0.8481 - val_loss: 0.5789 - val_accuracy: 0.8137\n",
      "Epoch 42/200\n",
      "21/21 [==============================] - ETA: 0s - loss: 0.4352 - accuracy: 0.8485\n",
      "Epoch 42: val_loss did not improve from 0.55083\n",
      "21/21 [==============================] - 11s 546ms/step - loss: 0.4352 - accuracy: 0.8485 - val_loss: 0.5799 - val_accuracy: 0.8147\n",
      "Epoch 43/200\n",
      "21/21 [==============================] - ETA: 0s - loss: 0.4334 - accuracy: 0.8486\n",
      "Epoch 43: val_loss did not improve from 0.55083\n",
      "21/21 [==============================] - 11s 524ms/step - loss: 0.4334 - accuracy: 0.8486 - val_loss: 0.5652 - val_accuracy: 0.8142\n",
      "Epoch 44/200\n",
      "21/21 [==============================] - ETA: 0s - loss: 0.4315 - accuracy: 0.8489\n",
      "Epoch 44: val_loss did not improve from 0.55083\n",
      "21/21 [==============================] - 11s 516ms/step - loss: 0.4315 - accuracy: 0.8489 - val_loss: 0.6006 - val_accuracy: 0.8110\n",
      "Epoch 45/200\n",
      "21/21 [==============================] - ETA: 0s - loss: 0.4297 - accuracy: 0.8490\n",
      "Epoch 45: val_loss did not improve from 0.55083\n",
      "21/21 [==============================] - 11s 528ms/step - loss: 0.4297 - accuracy: 0.8490 - val_loss: 0.5904 - val_accuracy: 0.8131\n",
      "Epoch 46/200\n",
      "21/21 [==============================] - ETA: 0s - loss: 0.4280 - accuracy: 0.8492\n",
      "Epoch 46: val_loss did not improve from 0.55083\n",
      "21/21 [==============================] - 11s 525ms/step - loss: 0.4280 - accuracy: 0.8492 - val_loss: 0.5731 - val_accuracy: 0.8144\n",
      "Epoch 47/200\n",
      "21/21 [==============================] - ETA: 0s - loss: 0.4265 - accuracy: 0.8493\n",
      "Epoch 47: val_loss did not improve from 0.55083\n",
      "21/21 [==============================] - 12s 579ms/step - loss: 0.4265 - accuracy: 0.8493 - val_loss: 0.5766 - val_accuracy: 0.8150\n",
      "Epoch 48/200\n",
      "21/21 [==============================] - ETA: 0s - loss: 0.4250 - accuracy: 0.8493\n",
      "Epoch 48: val_loss did not improve from 0.55083\n",
      "21/21 [==============================] - 13s 606ms/step - loss: 0.4250 - accuracy: 0.8493 - val_loss: 0.5668 - val_accuracy: 0.8145\n",
      "Epoch 49/200\n",
      "21/21 [==============================] - ETA: 0s - loss: 0.4238 - accuracy: 0.8493\n",
      "Epoch 49: val_loss did not improve from 0.55083\n",
      "21/21 [==============================] - 11s 532ms/step - loss: 0.4238 - accuracy: 0.8493 - val_loss: 0.6033 - val_accuracy: 0.8149\n",
      "Epoch 50/200\n",
      "21/21 [==============================] - ETA: 0s - loss: 0.4224 - accuracy: 0.8493\n",
      "Epoch 50: val_loss did not improve from 0.55083\n",
      "21/21 [==============================] - 11s 520ms/step - loss: 0.4224 - accuracy: 0.8493 - val_loss: 0.5882 - val_accuracy: 0.8146\n",
      "Epoch 51/200\n",
      "21/21 [==============================] - ETA: 0s - loss: 0.4213 - accuracy: 0.8492\n",
      "Epoch 51: val_loss did not improve from 0.55083\n",
      "21/21 [==============================] - 11s 507ms/step - loss: 0.4213 - accuracy: 0.8492 - val_loss: 0.5811 - val_accuracy: 0.8151\n",
      "Epoch 52/200\n",
      "21/21 [==============================] - ETA: 0s - loss: 0.4202 - accuracy: 0.8492\n",
      "Epoch 52: val_loss did not improve from 0.55083\n",
      "21/21 [==============================] - 11s 521ms/step - loss: 0.4202 - accuracy: 0.8492 - val_loss: 0.6106 - val_accuracy: 0.8142\n",
      "Epoch 53/200\n",
      "21/21 [==============================] - ETA: 0s - loss: 0.4190 - accuracy: 0.8492\n",
      "Epoch 53: val_loss did not improve from 0.55083\n",
      "21/21 [==============================] - 11s 524ms/step - loss: 0.4190 - accuracy: 0.8492 - val_loss: 0.5718 - val_accuracy: 0.8127\n",
      "Epoch 54/200\n",
      "21/21 [==============================] - ETA: 0s - loss: 0.4179 - accuracy: 0.8493\n",
      "Epoch 54: val_loss did not improve from 0.55083\n",
      "21/21 [==============================] - 11s 515ms/step - loss: 0.4179 - accuracy: 0.8493 - val_loss: 0.5737 - val_accuracy: 0.8141\n",
      "Epoch 55/200\n",
      "21/21 [==============================] - ETA: 0s - loss: 0.4169 - accuracy: 0.8492\n",
      "Epoch 55: val_loss did not improve from 0.55083\n",
      "21/21 [==============================] - 11s 517ms/step - loss: 0.4169 - accuracy: 0.8492 - val_loss: 0.5962 - val_accuracy: 0.8144\n",
      "Epoch 56/200\n",
      "21/21 [==============================] - ETA: 0s - loss: 0.4158 - accuracy: 0.8493\n",
      "Epoch 56: val_loss did not improve from 0.55083\n",
      "21/21 [==============================] - 11s 529ms/step - loss: 0.4158 - accuracy: 0.8493 - val_loss: 0.5564 - val_accuracy: 0.8137\n",
      "Epoch 57/200\n",
      "21/21 [==============================] - ETA: 0s - loss: 0.4160 - accuracy: 0.8485\n",
      "Epoch 57: val_loss did not improve from 0.55083\n",
      "21/21 [==============================] - 11s 526ms/step - loss: 0.4160 - accuracy: 0.8485 - val_loss: 0.5726 - val_accuracy: 0.8131\n",
      "Epoch 58/200\n",
      "21/21 [==============================] - ETA: 0s - loss: 0.4148 - accuracy: 0.8488\n",
      "Epoch 58: val_loss did not improve from 0.55083\n",
      "21/21 [==============================] - 12s 555ms/step - loss: 0.4148 - accuracy: 0.8488 - val_loss: 0.5684 - val_accuracy: 0.8095\n",
      "Epoch 59/200\n",
      "21/21 [==============================] - ETA: 0s - loss: 0.4146 - accuracy: 0.8483\n",
      "Epoch 59: val_loss did not improve from 0.55083\n",
      "21/21 [==============================] - 12s 585ms/step - loss: 0.4146 - accuracy: 0.8483 - val_loss: 0.5945 - val_accuracy: 0.8137\n",
      "Epoch 60/200\n",
      "21/21 [==============================] - ETA: 0s - loss: 0.4132 - accuracy: 0.8486\n",
      "Epoch 60: val_loss did not improve from 0.55083\n",
      "21/21 [==============================] - 11s 517ms/step - loss: 0.4132 - accuracy: 0.8486 - val_loss: 0.5716 - val_accuracy: 0.8147\n",
      "Epoch 61/200\n",
      "21/21 [==============================] - ETA: 0s - loss: 0.4123 - accuracy: 0.8487\n",
      "Epoch 61: val_loss did not improve from 0.55083\n",
      "21/21 [==============================] - 12s 560ms/step - loss: 0.4123 - accuracy: 0.8487 - val_loss: 0.5669 - val_accuracy: 0.8130\n",
      "Epoch 62/200\n",
      "21/21 [==============================] - ETA: 0s - loss: 0.4133 - accuracy: 0.8476\n",
      "Epoch 62: val_loss did not improve from 0.55083\n",
      "21/21 [==============================] - 12s 556ms/step - loss: 0.4133 - accuracy: 0.8476 - val_loss: 0.5569 - val_accuracy: 0.8067\n",
      "Epoch 63/200\n",
      "21/21 [==============================] - ETA: 0s - loss: 0.4117 - accuracy: 0.8481\n",
      "Epoch 63: val_loss did not improve from 0.55083\n",
      "21/21 [==============================] - 11s 526ms/step - loss: 0.4117 - accuracy: 0.8481 - val_loss: 0.5724 - val_accuracy: 0.8133\n",
      "Epoch 64/200\n",
      "21/21 [==============================] - ETA: 0s - loss: 0.4101 - accuracy: 0.8486\n",
      "Epoch 64: val_loss did not improve from 0.55083\n",
      "21/21 [==============================] - 11s 544ms/step - loss: 0.4101 - accuracy: 0.8486 - val_loss: 0.5509 - val_accuracy: 0.8113\n",
      "Epoch 65/200\n",
      "21/21 [==============================] - ETA: 0s - loss: 0.4097 - accuracy: 0.8485\n",
      "Epoch 65: val_loss did not improve from 0.55083\n",
      "21/21 [==============================] - 12s 592ms/step - loss: 0.4097 - accuracy: 0.8485 - val_loss: 0.5815 - val_accuracy: 0.8137\n",
      "Epoch 66/200\n",
      "21/21 [==============================] - ETA: 0s - loss: 0.4083 - accuracy: 0.8488\n",
      "Epoch 66: val_loss improved from 0.55083 to 0.54897, saving model to ./model_weights_flatten\\\n"
     ]
    },
    {
     "name": "stderr",
     "output_type": "stream",
     "text": [
      "WARNING:absl:Found untraced functions such as _jit_compiled_convolution_op, _jit_compiled_convolution_op, _jit_compiled_convolution_op, _jit_compiled_convolution_op, _jit_compiled_convolution_op while saving (showing 5 of 14). These functions will not be directly callable after loading.\n"
     ]
    },
    {
     "name": "stdout",
     "output_type": "stream",
     "text": [
      "INFO:tensorflow:Assets written to: ./model_weights_flatten\\assets\n"
     ]
    },
    {
     "name": "stderr",
     "output_type": "stream",
     "text": [
      "INFO:tensorflow:Assets written to: ./model_weights_flatten\\assets\n"
     ]
    },
    {
     "name": "stdout",
     "output_type": "stream",
     "text": [
      "21/21 [==============================] - 18s 861ms/step - loss: 0.4083 - accuracy: 0.8488 - val_loss: 0.5490 - val_accuracy: 0.8136\n",
      "Epoch 67/200\n",
      "21/21 [==============================] - ETA: 0s - loss: 0.4072 - accuracy: 0.8491\n",
      "Epoch 67: val_loss did not improve from 0.54897\n",
      "21/21 [==============================] - 13s 612ms/step - loss: 0.4072 - accuracy: 0.8491 - val_loss: 0.5577 - val_accuracy: 0.8126\n",
      "Epoch 68/200\n",
      "21/21 [==============================] - ETA: 0s - loss: 0.4062 - accuracy: 0.8493\n",
      "Epoch 68: val_loss did not improve from 0.54897\n",
      "21/21 [==============================] - 12s 573ms/step - loss: 0.4062 - accuracy: 0.8493 - val_loss: 0.5660 - val_accuracy: 0.8139\n",
      "Epoch 69/200\n",
      "21/21 [==============================] - ETA: 0s - loss: 0.4052 - accuracy: 0.8495\n",
      "Epoch 69: val_loss did not improve from 0.54897\n",
      "21/21 [==============================] - 12s 551ms/step - loss: 0.4052 - accuracy: 0.8495 - val_loss: 0.5818 - val_accuracy: 0.8144\n",
      "Epoch 70/200\n",
      "21/21 [==============================] - ETA: 0s - loss: 0.4045 - accuracy: 0.8496\n",
      "Epoch 70: val_loss did not improve from 0.54897\n",
      "21/21 [==============================] - 12s 555ms/step - loss: 0.4045 - accuracy: 0.8496 - val_loss: 0.5801 - val_accuracy: 0.8143\n",
      "Epoch 71/200\n",
      "21/21 [==============================] - ETA: 0s - loss: 0.4042 - accuracy: 0.8494\n",
      "Epoch 71: val_loss did not improve from 0.54897\n",
      "21/21 [==============================] - 12s 592ms/step - loss: 0.4042 - accuracy: 0.8494 - val_loss: 0.5946 - val_accuracy: 0.8142\n",
      "Epoch 72/200\n",
      "21/21 [==============================] - ETA: 0s - loss: 0.4037 - accuracy: 0.8495\n",
      "Epoch 72: val_loss did not improve from 0.54897\n",
      "21/21 [==============================] - 14s 645ms/step - loss: 0.4037 - accuracy: 0.8495 - val_loss: 0.5816 - val_accuracy: 0.8143\n",
      "Epoch 73/200\n",
      "21/21 [==============================] - ETA: 0s - loss: 0.4029 - accuracy: 0.8496\n",
      "Epoch 73: val_loss did not improve from 0.54897\n",
      "21/21 [==============================] - 12s 576ms/step - loss: 0.4029 - accuracy: 0.8496 - val_loss: 0.5694 - val_accuracy: 0.8138\n",
      "Epoch 74/200\n",
      "21/21 [==============================] - ETA: 0s - loss: 0.4020 - accuracy: 0.8499\n",
      "Epoch 74: val_loss did not improve from 0.54897\n",
      "21/21 [==============================] - 12s 559ms/step - loss: 0.4020 - accuracy: 0.8499 - val_loss: 0.5807 - val_accuracy: 0.8149\n",
      "Epoch 75/200\n",
      "21/21 [==============================] - ETA: 0s - loss: 0.4013 - accuracy: 0.8500\n",
      "Epoch 75: val_loss did not improve from 0.54897\n",
      "21/21 [==============================] - 11s 537ms/step - loss: 0.4013 - accuracy: 0.8500 - val_loss: 0.5933 - val_accuracy: 0.8144\n",
      "Epoch 76/200\n",
      "21/21 [==============================] - ETA: 0s - loss: 0.4006 - accuracy: 0.8501\n",
      "Epoch 76: val_loss did not improve from 0.54897\n",
      "21/21 [==============================] - 11s 544ms/step - loss: 0.4006 - accuracy: 0.8501 - val_loss: 0.5779 - val_accuracy: 0.8152\n",
      "Epoch 77/200\n",
      "21/21 [==============================] - ETA: 0s - loss: 0.4002 - accuracy: 0.8501\n",
      "Epoch 77: val_loss did not improve from 0.54897\n",
      "21/21 [==============================] - 12s 585ms/step - loss: 0.4002 - accuracy: 0.8501 - val_loss: 0.5868 - val_accuracy: 0.8158\n",
      "Epoch 78/200\n",
      "21/21 [==============================] - ETA: 0s - loss: 0.3997 - accuracy: 0.8501\n",
      "Epoch 78: val_loss did not improve from 0.54897\n",
      "21/21 [==============================] - 12s 576ms/step - loss: 0.3997 - accuracy: 0.8501 - val_loss: 0.5945 - val_accuracy: 0.8152\n",
      "Epoch 79/200\n",
      "21/21 [==============================] - ETA: 0s - loss: 0.3992 - accuracy: 0.8501\n",
      "Epoch 79: val_loss did not improve from 0.54897\n",
      "21/21 [==============================] - 11s 523ms/step - loss: 0.3992 - accuracy: 0.8501 - val_loss: 0.5702 - val_accuracy: 0.8152\n",
      "Epoch 80/200\n",
      "21/21 [==============================] - ETA: 0s - loss: 0.4024 - accuracy: 0.8482\n",
      "Epoch 80: val_loss did not improve from 0.54897\n",
      "21/21 [==============================] - 14s 676ms/step - loss: 0.4024 - accuracy: 0.8482 - val_loss: 0.9015 - val_accuracy: 0.8054\n",
      "Epoch 81/200\n",
      "21/21 [==============================] - ETA: 0s - loss: 0.4012 - accuracy: 0.8487\n",
      "Epoch 81: val_loss did not improve from 0.54897\n",
      "21/21 [==============================] - 13s 621ms/step - loss: 0.4012 - accuracy: 0.8487 - val_loss: 0.6583 - val_accuracy: 0.8118\n",
      "Epoch 82/200\n",
      "21/21 [==============================] - ETA: 0s - loss: 0.4000 - accuracy: 0.8492\n",
      "Epoch 82: val_loss did not improve from 0.54897\n",
      "21/21 [==============================] - 13s 643ms/step - loss: 0.4000 - accuracy: 0.8492 - val_loss: 0.6332 - val_accuracy: 0.8127\n",
      "Epoch 83/200\n",
      "21/21 [==============================] - ETA: 0s - loss: 0.3995 - accuracy: 0.8493\n",
      "Epoch 83: val_loss did not improve from 0.54897\n",
      "21/21 [==============================] - 14s 663ms/step - loss: 0.3995 - accuracy: 0.8493 - val_loss: 0.5689 - val_accuracy: 0.8120\n",
      "Epoch 84/200\n",
      "21/21 [==============================] - ETA: 0s - loss: 0.3986 - accuracy: 0.8495\n",
      "Epoch 84: val_loss did not improve from 0.54897\n",
      "21/21 [==============================] - 13s 607ms/step - loss: 0.3986 - accuracy: 0.8495 - val_loss: 0.5845 - val_accuracy: 0.8134\n",
      "Epoch 85/200\n",
      "21/21 [==============================] - ETA: 0s - loss: 0.3978 - accuracy: 0.8498\n",
      "Epoch 85: val_loss did not improve from 0.54897\n",
      "21/21 [==============================] - 12s 578ms/step - loss: 0.3978 - accuracy: 0.8498 - val_loss: 0.5947 - val_accuracy: 0.8150\n",
      "Epoch 86/200\n",
      "21/21 [==============================] - ETA: 0s - loss: 0.3973 - accuracy: 0.8499\n",
      "Epoch 86: val_loss did not improve from 0.54897\n",
      "21/21 [==============================] - 12s 580ms/step - loss: 0.3973 - accuracy: 0.8499 - val_loss: 0.5635 - val_accuracy: 0.8143\n",
      "Epoch 87/200\n",
      "21/21 [==============================] - ETA: 0s - loss: 0.3968 - accuracy: 0.8500\n",
      "Epoch 87: val_loss did not improve from 0.54897\n",
      "21/21 [==============================] - 13s 634ms/step - loss: 0.3968 - accuracy: 0.8500 - val_loss: 0.5533 - val_accuracy: 0.8131\n",
      "Epoch 88/200\n",
      "21/21 [==============================] - ETA: 0s - loss: 0.3968 - accuracy: 0.8500\n",
      "Epoch 88: val_loss did not improve from 0.54897\n",
      "21/21 [==============================] - 13s 611ms/step - loss: 0.3968 - accuracy: 0.8500 - val_loss: 0.5710 - val_accuracy: 0.8148\n",
      "Epoch 89/200\n",
      "21/21 [==============================] - ETA: 0s - loss: 0.3960 - accuracy: 0.8501\n",
      "Epoch 89: val_loss did not improve from 0.54897\n",
      "21/21 [==============================] - 15s 738ms/step - loss: 0.3960 - accuracy: 0.8501 - val_loss: 0.5819 - val_accuracy: 0.8153\n",
      "Epoch 90/200\n",
      "21/21 [==============================] - ETA: 0s - loss: 0.3960 - accuracy: 0.8500\n",
      "Epoch 90: val_loss did not improve from 0.54897\n",
      "21/21 [==============================] - 15s 727ms/step - loss: 0.3960 - accuracy: 0.8500 - val_loss: 0.5901 - val_accuracy: 0.8140\n",
      "Epoch 91/200\n",
      "21/21 [==============================] - ETA: 0s - loss: 0.3965 - accuracy: 0.8497\n",
      "Epoch 91: val_loss did not improve from 0.54897\n",
      "21/21 [==============================] - 13s 607ms/step - loss: 0.3965 - accuracy: 0.8497 - val_loss: 0.5970 - val_accuracy: 0.8120\n",
      "Epoch 92/200\n",
      "21/21 [==============================] - ETA: 0s - loss: 0.4017 - accuracy: 0.8465\n",
      "Epoch 92: val_loss did not improve from 0.54897\n",
      "21/21 [==============================] - 12s 585ms/step - loss: 0.4017 - accuracy: 0.8465 - val_loss: 0.6136 - val_accuracy: 0.8094\n",
      "Epoch 93/200\n",
      "21/21 [==============================] - ETA: 0s - loss: 0.3981 - accuracy: 0.8486\n",
      "Epoch 93: val_loss did not improve from 0.54897\n",
      "21/21 [==============================] - 12s 558ms/step - loss: 0.3981 - accuracy: 0.8486 - val_loss: 0.5957 - val_accuracy: 0.8126\n",
      "Epoch 94/200\n",
      "21/21 [==============================] - ETA: 0s - loss: 0.3966 - accuracy: 0.8492\n",
      "Epoch 94: val_loss did not improve from 0.54897\n",
      "21/21 [==============================] - 13s 621ms/step - loss: 0.3966 - accuracy: 0.8492 - val_loss: 0.5915 - val_accuracy: 0.8132\n"
     ]
    }
   ],
   "source": [
    "checkpoint2 = tf.keras.callbacks.ModelCheckpoint(\"./model_weights_flatten/\", monitor=\"val_loss\", mode=\"min\", save_best_only=True, \n",
    "                                                verbose=1, overwrite=True)\n",
    "earlyStop2 = EarlyStopping(monitor='loss',patience=5)\n",
    "\n",
    "model_mnist_flatten.compile(optimizer = tf.keras.optimizers.Adam(learning_rate=init_lr), loss = 'binary_crossentropy', \n",
    "                    metrics = 'accuracy')\n",
    "hist_flatten = model_mnist_flatten.fit(x = fieldMNIST_train, y = targetMNIST_train, validation_data=(fieldMNIST_val, targetMNIST_val), \n",
    "                       batch_size = 20, epochs = total_epoch, callbacks = [earlyStop2, checkpoint2])"
   ]
  },
  {
   "cell_type": "code",
   "execution_count": 22,
   "metadata": {},
   "outputs": [],
   "source": [
    "model_mnist_flatten.save('unet_flatten.h5', overwrite=True)\n",
    "\n",
    "trained_model_flatten = load_model('unet_flatten.h5')"
   ]
  },
  {
   "cell_type": "code",
   "execution_count": 25,
   "metadata": {},
   "outputs": [
    {
     "name": "stdout",
     "output_type": "stream",
     "text": [
      "4/4 [==============================] - 1s 107ms/step\n"
     ]
    }
   ],
   "source": [
    "pred2 = trained_model_flatten.predict(fieldMNIST_test)"
   ]
  },
  {
   "cell_type": "code",
   "execution_count": 28,
   "metadata": {},
   "outputs": [
    {
     "data": {
      "image/png": "[encoded data removed]",
      "text/plain": [
       "<Figure size 1728x1728 with 3 Axes>"
      ]
     },
     "metadata": {
      "needs_background": "light"
     },
     "output_type": "display_data"
    }
   ],
   "source": [
    "fig, axs = plt.subplots(1, 3, figsize=(24, 24))\n",
    "\n",
    "axs[0].matshow(fieldMNIST_test[0])\n",
    "axs[1].matshow(targetMNIST_test[0])\n",
    "axs[2].matshow(pred2[0])\n",
    "\n",
    "plt.show()"
   ]
  },
  {
   "cell_type": "code",
   "execution_count": 23,
   "metadata": {},
   "outputs": [
    {
     "name": "stdout",
     "output_type": "stream",
     "text": [
      "4/4 [==============================] - 3s 116ms/step - loss: 0.5876 - accuracy: 0.8151\n"
     ]
    },
    {
     "data": {
      "text/plain": [
       "[0.5875673890113831, 0.8150712847709656]"
      ]
     },
     "execution_count": 23,
     "metadata": {},
     "output_type": "execute_result"
    }
   ],
   "source": [
    "trained_model_flatten.evaluate(fieldMNIST_test, targetMNIST_test)"
   ]
  },
  {
   "cell_type": "code",
   "execution_count": 29,
   "metadata": {},
   "outputs": [
    {
     "data": {
      "image/png": "[encoded data removed]",
      "text/plain": [
       "<Figure size 432x288 with 1 Axes>"
      ]
     },
     "metadata": {
      "needs_background": "light"
     },
     "output_type": "display_data"
    }
   ],
   "source": [
    "loss = hist_flatten.history['loss']\n",
    "val_loss = hist_flatten.history['val_loss']\n",
    "epochs = range(1, len(loss) + 1)\n",
    "plt.plot(epochs, loss, 'y', label='Training loss')\n",
    "plt.plot(epochs, val_loss, 'r', label='Validation loss')\n",
    "plt.title('Training and validation loss')\n",
    "plt.xlabel('Epochs')\n",
    "plt.ylabel('Loss')\n",
    "plt.legend()\n",
    "plt.show()"
   ]
  },
  {
   "cell_type": "code",
   "execution_count": 30,
   "metadata": {},
   "outputs": [
    {
     "data": {
      "image/png": "[encoded data removed]",
      "text/plain": [
       "<Figure size 432x288 with 1 Axes>"
      ]
     },
     "metadata": {
      "needs_background": "light"
     },
     "output_type": "display_data"
    }
   ],
   "source": [
    "acc = hist_flatten.history['accuracy']\n",
    "val_acc = hist_flatten.history['val_accuracy']\n",
    "\n",
    "plt.plot(epochs, acc, 'y', label='Training acc')\n",
    "plt.plot(epochs, val_acc, 'r', label='Validation acc')\n",
    "plt.title('Training and validation accuracy')\n",
    "plt.xlabel('Epochs')\n",
    "plt.ylabel('Accuracy')\n",
    "plt.legend()\n",
    "plt.show()"
   ]
  },
  {
   "cell_type": "markdown",
   "metadata": {},
   "source": [
    "Parameter search for both models"
   ]
  },
  {
   "cell_type": "code",
   "execution_count": 31,
   "metadata": {},
   "outputs": [],
   "source": [
    "from sklearn.model_selection import GridSearchCV"
   ]
  },
  {
   "cell_type": "code",
   "execution_count": 66,
   "metadata": {},
   "outputs": [
    {
     "name": "stdout",
     "output_type": "stream",
     "text": [
      "Epoch 1/200\n",
      "21/21 [==============================] - 11s 398ms/step - loss: 0.9656 - accuracy: 0.3493 - val_loss: 0.7161 - val_accuracy: 0.3215\n",
      "Epoch 2/200\n",
      "21/21 [==============================] - 8s 362ms/step - loss: 0.9521 - accuracy: 0.3523 - val_loss: 0.7368 - val_accuracy: 0.3215\n",
      "Epoch 3/200\n",
      "18/21 [========================>.....] - ETA: 1s - loss: 0.9405 - accuracy: 0.3563"
     ]
    },
    {
     "ename": "KeyboardInterrupt",
     "evalue": "",
     "output_type": "error",
     "traceback": [
      "\u001b[1;31m---------------------------------------------------------------------------\u001b[0m",
      "\u001b[1;31mKeyboardInterrupt\u001b[0m                         Traceback (most recent call last)",
      "Input \u001b[1;32mIn [66]\u001b[0m, in \u001b[0;36m<cell line: 3>\u001b[1;34m()\u001b[0m\n\u001b[0;32m      1\u001b[0m model_mnist_padded\u001b[38;5;241m.\u001b[39mcompile(optimizer \u001b[38;5;241m=\u001b[39m tf\u001b[38;5;241m.\u001b[39mkeras\u001b[38;5;241m.\u001b[39moptimizers\u001b[38;5;241m.\u001b[39mAdam(learning_rate\u001b[38;5;241m=\u001b[39m\u001b[38;5;241m1e-6\u001b[39m), loss \u001b[38;5;241m=\u001b[39m \u001b[38;5;124m'\u001b[39m\u001b[38;5;124mbinary_crossentropy\u001b[39m\u001b[38;5;124m'\u001b[39m, \n\u001b[0;32m      2\u001b[0m                     metrics \u001b[38;5;241m=\u001b[39m \u001b[38;5;124m'\u001b[39m\u001b[38;5;124maccuracy\u001b[39m\u001b[38;5;124m'\u001b[39m)\n\u001b[1;32m----> 3\u001b[0m hist_padded2 \u001b[38;5;241m=\u001b[39m \u001b[43mmodel_mnist_padded\u001b[49m\u001b[38;5;241;43m.\u001b[39;49m\u001b[43mfit\u001b[49m\u001b[43m(\u001b[49m\u001b[43mx\u001b[49m\u001b[43m \u001b[49m\u001b[38;5;241;43m=\u001b[39;49m\u001b[43m \u001b[49m\u001b[43mfieldMNIST_train_padded\u001b[49m\u001b[43m,\u001b[49m\u001b[43m \u001b[49m\u001b[43my\u001b[49m\u001b[43m \u001b[49m\u001b[38;5;241;43m=\u001b[39;49m\u001b[43m \u001b[49m\u001b[43mtargetMNIST_train\u001b[49m\u001b[43m,\u001b[49m\u001b[43m \u001b[49m\n\u001b[0;32m      4\u001b[0m \u001b[43m                                    \u001b[49m\u001b[43mvalidation_data\u001b[49m\u001b[38;5;241;43m=\u001b[39;49m\u001b[43m(\u001b[49m\u001b[43mfieldMNIST_val_padded\u001b[49m\u001b[43m,\u001b[49m\u001b[43m \u001b[49m\u001b[43mtargetMNIST_val\u001b[49m\u001b[43m)\u001b[49m\u001b[43m,\u001b[49m\u001b[43m \u001b[49m\n\u001b[0;32m      5\u001b[0m \u001b[43m                                    \u001b[49m\u001b[43mbatch_size\u001b[49m\u001b[43m \u001b[49m\u001b[38;5;241;43m=\u001b[39;49m\u001b[43m \u001b[49m\u001b[38;5;241;43m20\u001b[39;49m\u001b[43m,\u001b[49m\u001b[43m \u001b[49m\u001b[43mepochs\u001b[49m\u001b[43m \u001b[49m\u001b[38;5;241;43m=\u001b[39;49m\u001b[43m \u001b[49m\u001b[43mtotal_epoch\u001b[49m\u001b[43m,\u001b[49m\u001b[43m \u001b[49m\n\u001b[0;32m      6\u001b[0m \u001b[43m                                    \u001b[49m\u001b[43mcallbacks\u001b[49m\u001b[43m \u001b[49m\u001b[38;5;241;43m=\u001b[39;49m\u001b[43m \u001b[49m\u001b[43m[\u001b[49m\u001b[43mEarlyStopping\u001b[49m\u001b[43m(\u001b[49m\u001b[43mmonitor\u001b[49m\u001b[38;5;241;43m=\u001b[39;49m\u001b[38;5;124;43m'\u001b[39;49m\u001b[38;5;124;43mval_loss\u001b[39;49m\u001b[38;5;124;43m'\u001b[39;49m\u001b[43m,\u001b[49m\u001b[43mpatience\u001b[49m\u001b[38;5;241;43m=\u001b[39;49m\u001b[38;5;241;43m10\u001b[39;49m\u001b[43m)\u001b[49m\u001b[43m]\u001b[49m\u001b[43m)\u001b[49m\n",
      "File \u001b[1;32m~\\AppData\\Roaming\\Python\\Python310\\site-packages\\keras\\utils\\traceback_utils.py:64\u001b[0m, in \u001b[0;36mfilter_traceback.<locals>.error_handler\u001b[1;34m(*args, **kwargs)\u001b[0m\n\u001b[0;32m     62\u001b[0m filtered_tb \u001b[38;5;241m=\u001b[39m \u001b[38;5;28;01mNone\u001b[39;00m\n\u001b[0;32m     63\u001b[0m \u001b[38;5;28;01mtry\u001b[39;00m:\n\u001b[1;32m---> 64\u001b[0m   \u001b[38;5;28;01mreturn\u001b[39;00m fn(\u001b[38;5;241m*\u001b[39margs, \u001b[38;5;241m*\u001b[39m\u001b[38;5;241m*\u001b[39mkwargs)\n\u001b[0;32m     65\u001b[0m \u001b[38;5;28;01mexcept\u001b[39;00m \u001b[38;5;167;01mException\u001b[39;00m \u001b[38;5;28;01mas\u001b[39;00m e:  \u001b[38;5;66;03m# pylint: disable=broad-except\u001b[39;00m\n\u001b[0;32m     66\u001b[0m   filtered_tb \u001b[38;5;241m=\u001b[39m _process_traceback_frames(e\u001b[38;5;241m.\u001b[39m__traceback__)\n",
      "File \u001b[1;32m~\\AppData\\Roaming\\Python\\Python310\\site-packages\\keras\\engine\\training.py:1409\u001b[0m, in \u001b[0;36mModel.fit\u001b[1;34m(self, x, y, batch_size, epochs, verbose, callbacks, validation_split, validation_data, shuffle, class_weight, sample_weight, initial_epoch, steps_per_epoch, validation_steps, validation_batch_size, validation_freq, max_queue_size, workers, use_multiprocessing)\u001b[0m\n\u001b[0;32m   1402\u001b[0m \u001b[38;5;28;01mwith\u001b[39;00m tf\u001b[38;5;241m.\u001b[39mprofiler\u001b[38;5;241m.\u001b[39mexperimental\u001b[38;5;241m.\u001b[39mTrace(\n\u001b[0;32m   1403\u001b[0m     \u001b[38;5;124m'\u001b[39m\u001b[38;5;124mtrain\u001b[39m\u001b[38;5;124m'\u001b[39m,\n\u001b[0;32m   1404\u001b[0m     epoch_num\u001b[38;5;241m=\u001b[39mepoch,\n\u001b[0;32m   1405\u001b[0m     step_num\u001b[38;5;241m=\u001b[39mstep,\n\u001b[0;32m   1406\u001b[0m     batch_size\u001b[38;5;241m=\u001b[39mbatch_size,\n\u001b[0;32m   1407\u001b[0m     _r\u001b[38;5;241m=\u001b[39m\u001b[38;5;241m1\u001b[39m):\n\u001b[0;32m   1408\u001b[0m   callbacks\u001b[38;5;241m.\u001b[39mon_train_batch_begin(step)\n\u001b[1;32m-> 1409\u001b[0m   tmp_logs \u001b[38;5;241m=\u001b[39m \u001b[38;5;28;43mself\u001b[39;49m\u001b[38;5;241;43m.\u001b[39;49m\u001b[43mtrain_function\u001b[49m\u001b[43m(\u001b[49m\u001b[43miterator\u001b[49m\u001b[43m)\u001b[49m\n\u001b[0;32m   1410\u001b[0m   \u001b[38;5;28;01mif\u001b[39;00m data_handler\u001b[38;5;241m.\u001b[39mshould_sync:\n\u001b[0;32m   1411\u001b[0m     context\u001b[38;5;241m.\u001b[39masync_wait()\n",
      "File \u001b[1;32m~\\AppData\\Roaming\\Python\\Python310\\site-packages\\tensorflow\\python\\util\\traceback_utils.py:150\u001b[0m, in \u001b[0;36mfilter_traceback.<locals>.error_handler\u001b[1;34m(*args, **kwargs)\u001b[0m\n\u001b[0;32m    148\u001b[0m filtered_tb \u001b[38;5;241m=\u001b[39m \u001b[38;5;28;01mNone\u001b[39;00m\n\u001b[0;32m    149\u001b[0m \u001b[38;5;28;01mtry\u001b[39;00m:\n\u001b[1;32m--> 150\u001b[0m   \u001b[38;5;28;01mreturn\u001b[39;00m fn(\u001b[38;5;241m*\u001b[39margs, \u001b[38;5;241m*\u001b[39m\u001b[38;5;241m*\u001b[39mkwargs)\n\u001b[0;32m    151\u001b[0m \u001b[38;5;28;01mexcept\u001b[39;00m \u001b[38;5;167;01mException\u001b[39;00m \u001b[38;5;28;01mas\u001b[39;00m e:\n\u001b[0;32m    152\u001b[0m   filtered_tb \u001b[38;5;241m=\u001b[39m _process_traceback_frames(e\u001b[38;5;241m.\u001b[39m__traceback__)\n",
      "File \u001b[1;32m~\\AppData\\Roaming\\Python\\Python310\\site-packages\\tensorflow\\python\\eager\\def_function.py:915\u001b[0m, in \u001b[0;36mFunction.__call__\u001b[1;34m(self, *args, **kwds)\u001b[0m\n\u001b[0;32m    912\u001b[0m compiler \u001b[38;5;241m=\u001b[39m \u001b[38;5;124m\"\u001b[39m\u001b[38;5;124mxla\u001b[39m\u001b[38;5;124m\"\u001b[39m \u001b[38;5;28;01mif\u001b[39;00m \u001b[38;5;28mself\u001b[39m\u001b[38;5;241m.\u001b[39m_jit_compile \u001b[38;5;28;01melse\u001b[39;00m \u001b[38;5;124m\"\u001b[39m\u001b[38;5;124mnonXla\u001b[39m\u001b[38;5;124m\"\u001b[39m\n\u001b[0;32m    914\u001b[0m \u001b[38;5;28;01mwith\u001b[39;00m OptionalXlaContext(\u001b[38;5;28mself\u001b[39m\u001b[38;5;241m.\u001b[39m_jit_compile):\n\u001b[1;32m--> 915\u001b[0m   result \u001b[38;5;241m=\u001b[39m \u001b[38;5;28mself\u001b[39m\u001b[38;5;241m.\u001b[39m_call(\u001b[38;5;241m*\u001b[39margs, \u001b[38;5;241m*\u001b[39m\u001b[38;5;241m*\u001b[39mkwds)\n\u001b[0;32m    917\u001b[0m new_tracing_count \u001b[38;5;241m=\u001b[39m \u001b[38;5;28mself\u001b[39m\u001b[38;5;241m.\u001b[39mexperimental_get_tracing_count()\n\u001b[0;32m    918\u001b[0m without_tracing \u001b[38;5;241m=\u001b[39m (tracing_count \u001b[38;5;241m==\u001b[39m new_tracing_count)\n",
      "File \u001b[1;32m~\\AppData\\Roaming\\Python\\Python310\\site-packages\\tensorflow\\python\\eager\\def_function.py:947\u001b[0m, in \u001b[0;36mFunction._call\u001b[1;34m(self, *args, **kwds)\u001b[0m\n\u001b[0;32m    944\u001b[0m   \u001b[38;5;28mself\u001b[39m\u001b[38;5;241m.\u001b[39m_lock\u001b[38;5;241m.\u001b[39mrelease()\n\u001b[0;32m    945\u001b[0m   \u001b[38;5;66;03m# In this case we have created variables on the first call, so we run the\u001b[39;00m\n\u001b[0;32m    946\u001b[0m   \u001b[38;5;66;03m# defunned version which is guaranteed to never create variables.\u001b[39;00m\n\u001b[1;32m--> 947\u001b[0m   \u001b[38;5;28;01mreturn\u001b[39;00m \u001b[38;5;28mself\u001b[39m\u001b[38;5;241m.\u001b[39m_stateless_fn(\u001b[38;5;241m*\u001b[39margs, \u001b[38;5;241m*\u001b[39m\u001b[38;5;241m*\u001b[39mkwds)  \u001b[38;5;66;03m# pylint: disable=not-callable\u001b[39;00m\n\u001b[0;32m    948\u001b[0m \u001b[38;5;28;01melif\u001b[39;00m \u001b[38;5;28mself\u001b[39m\u001b[38;5;241m.\u001b[39m_stateful_fn \u001b[38;5;129;01mis\u001b[39;00m \u001b[38;5;129;01mnot\u001b[39;00m \u001b[38;5;28;01mNone\u001b[39;00m:\n\u001b[0;32m    949\u001b[0m   \u001b[38;5;66;03m# Release the lock early so that multiple threads can perform the call\u001b[39;00m\n\u001b[0;32m    950\u001b[0m   \u001b[38;5;66;03m# in parallel.\u001b[39;00m\n\u001b[0;32m    951\u001b[0m   \u001b[38;5;28mself\u001b[39m\u001b[38;5;241m.\u001b[39m_lock\u001b[38;5;241m.\u001b[39mrelease()\n",
      "File \u001b[1;32m~\\AppData\\Roaming\\Python\\Python310\\site-packages\\tensorflow\\python\\eager\\function.py:2453\u001b[0m, in \u001b[0;36mFunction.__call__\u001b[1;34m(self, *args, **kwargs)\u001b[0m\n\u001b[0;32m   2450\u001b[0m \u001b[38;5;28;01mwith\u001b[39;00m \u001b[38;5;28mself\u001b[39m\u001b[38;5;241m.\u001b[39m_lock:\n\u001b[0;32m   2451\u001b[0m   (graph_function,\n\u001b[0;32m   2452\u001b[0m    filtered_flat_args) \u001b[38;5;241m=\u001b[39m \u001b[38;5;28mself\u001b[39m\u001b[38;5;241m.\u001b[39m_maybe_define_function(args, kwargs)\n\u001b[1;32m-> 2453\u001b[0m \u001b[38;5;28;01mreturn\u001b[39;00m \u001b[43mgraph_function\u001b[49m\u001b[38;5;241;43m.\u001b[39;49m\u001b[43m_call_flat\u001b[49m\u001b[43m(\u001b[49m\n\u001b[0;32m   2454\u001b[0m \u001b[43m    \u001b[49m\u001b[43mfiltered_flat_args\u001b[49m\u001b[43m,\u001b[49m\u001b[43m \u001b[49m\u001b[43mcaptured_inputs\u001b[49m\u001b[38;5;241;43m=\u001b[39;49m\u001b[43mgraph_function\u001b[49m\u001b[38;5;241;43m.\u001b[39;49m\u001b[43mcaptured_inputs\u001b[49m\u001b[43m)\u001b[49m\n",
      "File \u001b[1;32m~\\AppData\\Roaming\\Python\\Python310\\site-packages\\tensorflow\\python\\eager\\function.py:1860\u001b[0m, in \u001b[0;36mConcreteFunction._call_flat\u001b[1;34m(self, args, captured_inputs, cancellation_manager)\u001b[0m\n\u001b[0;32m   1856\u001b[0m possible_gradient_type \u001b[38;5;241m=\u001b[39m gradients_util\u001b[38;5;241m.\u001b[39mPossibleTapeGradientTypes(args)\n\u001b[0;32m   1857\u001b[0m \u001b[38;5;28;01mif\u001b[39;00m (possible_gradient_type \u001b[38;5;241m==\u001b[39m gradients_util\u001b[38;5;241m.\u001b[39mPOSSIBLE_GRADIENT_TYPES_NONE\n\u001b[0;32m   1858\u001b[0m     \u001b[38;5;129;01mand\u001b[39;00m executing_eagerly):\n\u001b[0;32m   1859\u001b[0m   \u001b[38;5;66;03m# No tape is watching; skip to running the function.\u001b[39;00m\n\u001b[1;32m-> 1860\u001b[0m   \u001b[38;5;28;01mreturn\u001b[39;00m \u001b[38;5;28mself\u001b[39m\u001b[38;5;241m.\u001b[39m_build_call_outputs(\u001b[38;5;28;43mself\u001b[39;49m\u001b[38;5;241;43m.\u001b[39;49m\u001b[43m_inference_function\u001b[49m\u001b[38;5;241;43m.\u001b[39;49m\u001b[43mcall\u001b[49m\u001b[43m(\u001b[49m\n\u001b[0;32m   1861\u001b[0m \u001b[43m      \u001b[49m\u001b[43mctx\u001b[49m\u001b[43m,\u001b[49m\u001b[43m \u001b[49m\u001b[43margs\u001b[49m\u001b[43m,\u001b[49m\u001b[43m \u001b[49m\u001b[43mcancellation_manager\u001b[49m\u001b[38;5;241;43m=\u001b[39;49m\u001b[43mcancellation_manager\u001b[49m\u001b[43m)\u001b[49m)\n\u001b[0;32m   1862\u001b[0m forward_backward \u001b[38;5;241m=\u001b[39m \u001b[38;5;28mself\u001b[39m\u001b[38;5;241m.\u001b[39m_select_forward_and_backward_functions(\n\u001b[0;32m   1863\u001b[0m     args,\n\u001b[0;32m   1864\u001b[0m     possible_gradient_type,\n\u001b[0;32m   1865\u001b[0m     executing_eagerly)\n\u001b[0;32m   1866\u001b[0m forward_function, args_with_tangents \u001b[38;5;241m=\u001b[39m forward_backward\u001b[38;5;241m.\u001b[39mforward()\n",
      "File \u001b[1;32m~\\AppData\\Roaming\\Python\\Python310\\site-packages\\tensorflow\\python\\eager\\function.py:497\u001b[0m, in \u001b[0;36m_EagerDefinedFunction.call\u001b[1;34m(self, ctx, args, cancellation_manager)\u001b[0m\n\u001b[0;32m    495\u001b[0m \u001b[38;5;28;01mwith\u001b[39;00m _InterpolateFunctionError(\u001b[38;5;28mself\u001b[39m):\n\u001b[0;32m    496\u001b[0m   \u001b[38;5;28;01mif\u001b[39;00m cancellation_manager \u001b[38;5;129;01mis\u001b[39;00m \u001b[38;5;28;01mNone\u001b[39;00m:\n\u001b[1;32m--> 497\u001b[0m     outputs \u001b[38;5;241m=\u001b[39m \u001b[43mexecute\u001b[49m\u001b[38;5;241;43m.\u001b[39;49m\u001b[43mexecute\u001b[49m\u001b[43m(\u001b[49m\n\u001b[0;32m    498\u001b[0m \u001b[43m        \u001b[49m\u001b[38;5;28;43mstr\u001b[39;49m\u001b[43m(\u001b[49m\u001b[38;5;28;43mself\u001b[39;49m\u001b[38;5;241;43m.\u001b[39;49m\u001b[43msignature\u001b[49m\u001b[38;5;241;43m.\u001b[39;49m\u001b[43mname\u001b[49m\u001b[43m)\u001b[49m\u001b[43m,\u001b[49m\n\u001b[0;32m    499\u001b[0m \u001b[43m        \u001b[49m\u001b[43mnum_outputs\u001b[49m\u001b[38;5;241;43m=\u001b[39;49m\u001b[38;5;28;43mself\u001b[39;49m\u001b[38;5;241;43m.\u001b[39;49m\u001b[43m_num_outputs\u001b[49m\u001b[43m,\u001b[49m\n\u001b[0;32m    500\u001b[0m \u001b[43m        \u001b[49m\u001b[43minputs\u001b[49m\u001b[38;5;241;43m=\u001b[39;49m\u001b[43margs\u001b[49m\u001b[43m,\u001b[49m\n\u001b[0;32m    501\u001b[0m \u001b[43m        \u001b[49m\u001b[43mattrs\u001b[49m\u001b[38;5;241;43m=\u001b[39;49m\u001b[43mattrs\u001b[49m\u001b[43m,\u001b[49m\n\u001b[0;32m    502\u001b[0m \u001b[43m        \u001b[49m\u001b[43mctx\u001b[49m\u001b[38;5;241;43m=\u001b[39;49m\u001b[43mctx\u001b[49m\u001b[43m)\u001b[49m\n\u001b[0;32m    503\u001b[0m   \u001b[38;5;28;01melse\u001b[39;00m:\n\u001b[0;32m    504\u001b[0m     outputs \u001b[38;5;241m=\u001b[39m execute\u001b[38;5;241m.\u001b[39mexecute_with_cancellation(\n\u001b[0;32m    505\u001b[0m         \u001b[38;5;28mstr\u001b[39m(\u001b[38;5;28mself\u001b[39m\u001b[38;5;241m.\u001b[39msignature\u001b[38;5;241m.\u001b[39mname),\n\u001b[0;32m    506\u001b[0m         num_outputs\u001b[38;5;241m=\u001b[39m\u001b[38;5;28mself\u001b[39m\u001b[38;5;241m.\u001b[39m_num_outputs,\n\u001b[1;32m   (...)\u001b[0m\n\u001b[0;32m    509\u001b[0m         ctx\u001b[38;5;241m=\u001b[39mctx,\n\u001b[0;32m    510\u001b[0m         cancellation_manager\u001b[38;5;241m=\u001b[39mcancellation_manager)\n",
      "File \u001b[1;32m~\\AppData\\Roaming\\Python\\Python310\\site-packages\\tensorflow\\python\\eager\\execute.py:54\u001b[0m, in \u001b[0;36mquick_execute\u001b[1;34m(op_name, num_outputs, inputs, attrs, ctx, name)\u001b[0m\n\u001b[0;32m     52\u001b[0m \u001b[38;5;28;01mtry\u001b[39;00m:\n\u001b[0;32m     53\u001b[0m   ctx\u001b[38;5;241m.\u001b[39mensure_initialized()\n\u001b[1;32m---> 54\u001b[0m   tensors \u001b[38;5;241m=\u001b[39m \u001b[43mpywrap_tfe\u001b[49m\u001b[38;5;241;43m.\u001b[39;49m\u001b[43mTFE_Py_Execute\u001b[49m\u001b[43m(\u001b[49m\u001b[43mctx\u001b[49m\u001b[38;5;241;43m.\u001b[39;49m\u001b[43m_handle\u001b[49m\u001b[43m,\u001b[49m\u001b[43m \u001b[49m\u001b[43mdevice_name\u001b[49m\u001b[43m,\u001b[49m\u001b[43m \u001b[49m\u001b[43mop_name\u001b[49m\u001b[43m,\u001b[49m\n\u001b[0;32m     55\u001b[0m \u001b[43m                                      \u001b[49m\u001b[43minputs\u001b[49m\u001b[43m,\u001b[49m\u001b[43m \u001b[49m\u001b[43mattrs\u001b[49m\u001b[43m,\u001b[49m\u001b[43m \u001b[49m\u001b[43mnum_outputs\u001b[49m\u001b[43m)\u001b[49m\n\u001b[0;32m     56\u001b[0m \u001b[38;5;28;01mexcept\u001b[39;00m core\u001b[38;5;241m.\u001b[39m_NotOkStatusException \u001b[38;5;28;01mas\u001b[39;00m e:\n\u001b[0;32m     57\u001b[0m   \u001b[38;5;28;01mif\u001b[39;00m name \u001b[38;5;129;01mis\u001b[39;00m \u001b[38;5;129;01mnot\u001b[39;00m \u001b[38;5;28;01mNone\u001b[39;00m:\n",
      "\u001b[1;31mKeyboardInterrupt\u001b[0m: "
     ]
    }
   ],
   "source": [
    "model_mnist_padded.compile(optimizer = tf.keras.optimizers.Adam(learning_rate=1e-6), loss = 'binary_crossentropy', \n",
    "                    metrics = 'accuracy')\n",
    "hist_padded2 = model_mnist_padded.fit(x = fieldMNIST_train_padded, y = targetMNIST_train, \n",
    "                                    validation_data=(fieldMNIST_val_padded, targetMNIST_val), \n",
    "                                    batch_size = 20, epochs = total_epoch, \n",
    "                                    callbacks = [EarlyStopping(monitor='val_loss',patience=10)])"
   ]
  },
  {
   "cell_type": "code",
   "execution_count": 40,
   "metadata": {},
   "outputs": [],
   "source": [
    "model_mnist_padded.save('unet_testing.h5', overwrite=True)\n",
    "\n",
    "trained_model_cross_entropy = load_model('unet_testing.h5')"
   ]
  },
  {
   "cell_type": "code",
   "execution_count": 48,
   "metadata": {},
   "outputs": [
    {
     "name": "stdout",
     "output_type": "stream",
     "text": [
      "4/4 [==============================] - 1s 124ms/step\n"
     ]
    }
   ],
   "source": [
    "pred3 = model_mnist_padded.predict(fieldMNIST_test_padded)"
   ]
  },
  {
   "cell_type": "code",
   "execution_count": 49,
   "metadata": {},
   "outputs": [
    {
     "data": {
      "image/png": "[encoded data removed]",
      "text/plain": [
       "<Figure size 1728x1728 with 3 Axes>"
      ]
     },
     "metadata": {
      "needs_background": "light"
     },
     "output_type": "display_data"
    }
   ],
   "source": [
    "fig, axs = plt.subplots(1, 3, figsize=(24, 24))\n",
    "\n",
    "axs[0].matshow(fieldMNIST_test[50])\n",
    "axs[1].matshow(targetMNIST_test[50])\n",
    "axs[2].matshow(pred3[50])\n",
    "\n",
    "plt.show()"
   ]
  },
  {
   "cell_type": "code",
   "execution_count": 50,
   "metadata": {},
   "outputs": [
    {
     "ename": "RuntimeError",
     "evalue": "You must compile your model before training/testing. Use `model.compile(optimizer, loss)`.",
     "output_type": "error",
     "traceback": [
      "\u001b[1;31m---------------------------------------------------------------------------\u001b[0m",
      "\u001b[1;31mRuntimeError\u001b[0m                              Traceback (most recent call last)",
      "Input \u001b[1;32mIn [50]\u001b[0m, in \u001b[0;36m<cell line: 1>\u001b[1;34m()\u001b[0m\n\u001b[1;32m----> 1\u001b[0m \u001b[43mmodel_mnist_padded\u001b[49m\u001b[38;5;241;43m.\u001b[39;49m\u001b[43mevaluate\u001b[49m\u001b[43m(\u001b[49m\u001b[43mfieldMNIST_test_padded\u001b[49m\u001b[43m,\u001b[49m\u001b[43m \u001b[49m\u001b[43mtargetMNIST_test\u001b[49m\u001b[43m)\u001b[49m\n",
      "File \u001b[1;32m~\\AppData\\Roaming\\Python\\Python310\\site-packages\\keras\\utils\\traceback_utils.py:67\u001b[0m, in \u001b[0;36mfilter_traceback.<locals>.error_handler\u001b[1;34m(*args, **kwargs)\u001b[0m\n\u001b[0;32m     65\u001b[0m \u001b[38;5;28;01mexcept\u001b[39;00m \u001b[38;5;167;01mException\u001b[39;00m \u001b[38;5;28;01mas\u001b[39;00m e:  \u001b[38;5;66;03m# pylint: disable=broad-except\u001b[39;00m\n\u001b[0;32m     66\u001b[0m   filtered_tb \u001b[38;5;241m=\u001b[39m _process_traceback_frames(e\u001b[38;5;241m.\u001b[39m__traceback__)\n\u001b[1;32m---> 67\u001b[0m   \u001b[38;5;28;01mraise\u001b[39;00m e\u001b[38;5;241m.\u001b[39mwith_traceback(filtered_tb) \u001b[38;5;28;01mfrom\u001b[39;00m \u001b[38;5;28mNone\u001b[39m\n\u001b[0;32m     68\u001b[0m \u001b[38;5;28;01mfinally\u001b[39;00m:\n\u001b[0;32m     69\u001b[0m   \u001b[38;5;28;01mdel\u001b[39;00m filtered_tb\n",
      "File \u001b[1;32m~\\AppData\\Roaming\\Python\\Python310\\site-packages\\keras\\engine\\training.py:3160\u001b[0m, in \u001b[0;36mModel._assert_compile_was_called\u001b[1;34m(self)\u001b[0m\n\u001b[0;32m   3154\u001b[0m \u001b[38;5;28;01mdef\u001b[39;00m \u001b[38;5;21m_assert_compile_was_called\u001b[39m(\u001b[38;5;28mself\u001b[39m):\n\u001b[0;32m   3155\u001b[0m   \u001b[38;5;66;03m# Checks whether `compile` has been called. If it has been called,\u001b[39;00m\n\u001b[0;32m   3156\u001b[0m   \u001b[38;5;66;03m# then the optimizer is set. This is different from whether the\u001b[39;00m\n\u001b[0;32m   3157\u001b[0m   \u001b[38;5;66;03m# model is compiled\u001b[39;00m\n\u001b[0;32m   3158\u001b[0m   \u001b[38;5;66;03m# (i.e. whether the model is built and its inputs/outputs are set).\u001b[39;00m\n\u001b[0;32m   3159\u001b[0m   \u001b[38;5;28;01mif\u001b[39;00m \u001b[38;5;129;01mnot\u001b[39;00m \u001b[38;5;28mself\u001b[39m\u001b[38;5;241m.\u001b[39m_is_compiled:\n\u001b[1;32m-> 3160\u001b[0m     \u001b[38;5;28;01mraise\u001b[39;00m \u001b[38;5;167;01mRuntimeError\u001b[39;00m(\u001b[38;5;124m'\u001b[39m\u001b[38;5;124mYou must compile your model before \u001b[39m\u001b[38;5;124m'\u001b[39m\n\u001b[0;32m   3161\u001b[0m                        \u001b[38;5;124m'\u001b[39m\u001b[38;5;124mtraining/testing. \u001b[39m\u001b[38;5;124m'\u001b[39m\n\u001b[0;32m   3162\u001b[0m                        \u001b[38;5;124m'\u001b[39m\u001b[38;5;124mUse `model.compile(optimizer, loss)`.\u001b[39m\u001b[38;5;124m'\u001b[39m)\n",
      "\u001b[1;31mRuntimeError\u001b[0m: You must compile your model before training/testing. Use `model.compile(optimizer, loss)`."
     ]
    }
   ],
   "source": [
    "model_mnist_padded.evaluate(fieldMNIST_test_padded, targetMNIST_test)"
   ]
  },
  {
   "cell_type": "code",
   "execution_count": 64,
   "metadata": {},
   "outputs": [
    {
     "data": {
      "image/png": "[encoded data removed]",
      "text/plain": [
       "<Figure size 432x288 with 1 Axes>"
      ]
     },
     "metadata": {
      "needs_background": "light"
     },
     "output_type": "display_data"
    }
   ],
   "source": [
    "loss = hist_padded2.history['loss']\n",
    "val_loss = hist_padded2.history['val_loss']\n",
    "epochs = range(1, len(loss) + 1)\n",
    "plt.plot(epochs, loss, 'y', label='Training loss')\n",
    "plt.plot(epochs, val_loss, 'r', label='Validation loss')\n",
    "plt.title('Training and validation loss')\n",
    "plt.xlabel('Epochs')\n",
    "plt.ylabel('Loss')\n",
    "plt.legend()\n",
    "plt.show()"
   ]
  },
  {
   "cell_type": "code",
   "execution_count": 53,
   "metadata": {},
   "outputs": [
    {
     "data": {
      "image/png": "[encoded data removed]",
      "text/plain": [
       "<Figure size 432x288 with 1 Axes>"
      ]
     },
     "metadata": {
      "needs_background": "light"
     },
     "output_type": "display_data"
    }
   ],
   "source": [
    "acc = hist_padded2.history['accuracy']\n",
    "val_acc = hist_padded2.history['val_accuracy']\n",
    "\n",
    "plt.plot(epochs, acc, 'y', label='Training acc')\n",
    "plt.plot(epochs, val_acc, 'r', label='Validation acc')\n",
    "plt.title('Training and validation accuracy')\n",
    "plt.xlabel('Epochs')\n",
    "plt.ylabel('Accuracy')\n",
    "plt.legend()\n",
    "plt.show()"
   ]
  },
  {
   "cell_type": "code",
   "execution_count": null,
   "metadata": {},
   "outputs": [],
   "source": []
  }
 ],
 "metadata": {
  "kernelspec": {
   "display_name": "Python 3",
   "language": "python",
   "name": "python3"
  },
  "language_info": {
   "codemirror_mode": {
    "name": "ipython",
    "version": 3
   },
   "file_extension": ".py",
   "mimetype": "text/x-python",
   "name": "python",
   "nbconvert_exporter": "python",
   "pygments_lexer": "ipython3",
   "version": "3.10.4"
  }
 },
 "nbformat": 4,
 "nbformat_minor": 2
}
