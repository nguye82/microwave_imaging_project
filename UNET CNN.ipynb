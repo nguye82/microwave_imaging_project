{
 "cells": [
  {
   "cell_type": "markdown",
   "metadata": {},
   "source": [
    "## UNET CNN"
   ]
  },
  {
   "cell_type": "code",
   "execution_count": 1,
   "metadata": {},
   "outputs": [],
   "source": [
    "from ReadData import *\n",
    "import matplotlib.pyplot as plt\n",
    "import numpy as np\n",
    "# import pandas as pd\n",
    "from sklearn.model_selection import train_test_split\n",
    "import tensorflow as tf"
   ]
  },
  {
   "cell_type": "code",
   "execution_count": 2,
   "metadata": {},
   "outputs": [],
   "source": [
    "def readData(path, getTargetName = False):\n",
    "    # print(getTargetName)\n",
    "    data = getEMData(path)\n",
    "    target = []\n",
    "    field = []\n",
    "    freq = []\n",
    "    if getTargetName:\n",
    "        targetName = []\n",
    "        upper_case = [char for char in path if char.isupper()]\n",
    "        target_name = path[path.index(upper_case[0]):path.index(upper_case[1])]\n",
    "\n",
    "    for i in range(0, len(data)):\n",
    "        target.append(data[i].target)\n",
    "        field.append(data[i].Esct.real)\n",
    "        freq.append(data[i].freq)\n",
    "        if getTargetName: targetName.append(target_name)\n",
    "\n",
    "    field = np.array(field)\n",
    "    target = np.array(target)\n",
    "    freq = np.array(freq)\n",
    "    if getTargetName: targetName = np.array(targetName)\n",
    "\n",
    "    result = (field, target, freq)\n",
    "    if getTargetName: result = (field, target, freq, targetName)\n",
    "    return result"
   ]
  },
  {
   "cell_type": "code",
   "execution_count": 3,
   "metadata": {},
   "outputs": [
    {
     "name": "stdout",
     "output_type": "stream",
     "text": [
      "Read 300 samples\n"
     ]
    }
   ],
   "source": [
    "fieldCirc, targetCirc, freqCirc, shapeCirc = readData(path = \"./CircleData/\", getTargetName=True)\n",
    "\n",
    "fieldCirc_transformed = np.reshape(fieldCirc, (fieldCirc.shape[0], fieldCirc.shape[1], fieldCirc.shape[2], 1))\n",
    "targetCirc_transformed = np.reshape(targetCirc, (targetCirc.shape[0], targetCirc.shape[1], targetCirc.shape[2], 1))\n",
    "\n",
    "fieldCirc_train, fieldCirc_test, targetCirc_train, targetCirc_test, freqCirc_train, freqCirc_test= train_test_split(\n",
    "    fieldCirc_transformed, targetCirc_transformed, freqCirc, test_size=0.20, random_state=42)\n",
    "\n",
    "\n",
    "fieldCirc_train, fieldCirc_val, targetCirc_train, targetCirc_val= train_test_split(\n",
    "    fieldCirc_train, targetCirc_train, test_size=0.20, random_state=42)"
   ]
  },
  {
   "cell_type": "code",
   "execution_count": 6,
   "metadata": {},
   "outputs": [
    {
     "data": {
      "text/plain": [
       "[(192, 24, 24, 1), (192, 48, 48, 1), (60, 24, 24, 1), (48, 24, 24, 1)]"
      ]
     },
     "execution_count": 6,
     "metadata": {},
     "output_type": "execute_result"
    }
   ],
   "source": [
    "[fieldCirc_train.shape, targetCirc_train.shape, fieldCirc_test.shape, fieldCirc_val.shape]"
   ]
  },
  {
   "cell_type": "code",
   "execution_count": 8,
   "metadata": {},
   "outputs": [
    {
     "name": "stdout",
     "output_type": "stream",
     "text": [
      "Read 520 samples\n"
     ]
    }
   ],
   "source": [
    "fieldMNIST, targetMNIST, freqMNIST = readData(path = \"./MNIST_UNET/\", getTargetName=False)\n",
    "\n",
    "fieldMNIST_transformed = np.reshape(fieldMNIST, (fieldMNIST.shape[0], fieldMNIST.shape[1], fieldMNIST.shape[2], 1))\n",
    "targetMNIST_transformed = np.reshape(targetMNIST, (targetMNIST.shape[0], targetMNIST.shape[1], targetMNIST.shape[2], 1))\n",
    "\n",
    "fieldMNIST_train, fieldMNIST_test, targetMNIST_train, targetMNIST_test= train_test_split(\n",
    "    fieldMNIST_transformed, targetMNIST_transformed, test_size=0.20, random_state=42)\n",
    "\n",
    "fieldMNIST_train, fieldMNIST_val, targetMNIST_train, targetMNIST_val= train_test_split(\n",
    "    fieldMNIST_train, targetMNIST_train, test_size=0.20, random_state=42)"
   ]
  },
  {
   "cell_type": "code",
   "execution_count": 9,
   "metadata": {},
   "outputs": [
    {
     "data": {
      "text/plain": [
       "[(332, 24, 24, 1), (332, 35, 35, 1), (84, 24, 24, 1), (84, 35, 35, 1)]"
      ]
     },
     "execution_count": 9,
     "metadata": {},
     "output_type": "execute_result"
    }
   ],
   "source": [
    "[fieldMNIST_train.shape,targetMNIST_train.shape, fieldMNIST_val.shape, targetMNIST_val.shape]"
   ]
  },
  {
   "cell_type": "code",
   "execution_count": 10,
   "metadata": {},
   "outputs": [],
   "source": [
    "from tensorflow.keras.models import Model\n",
    "from tensorflow.keras.layers import Conv2D, MaxPooling2D, Conv2DTranspose, BatchNormalization, Activation, Input, Concatenate, AveragePooling2D,Add, Cropping2D"
   ]
  },
  {
   "cell_type": "code",
   "execution_count": 30,
   "metadata": {},
   "outputs": [],
   "source": [
    "def unet_for_mnist(input_shape):\n",
    "    inputs = Input(input_shape)\n",
    "\n",
    "    conv1 = Conv2D(64, 3, padding='same')(inputs)\n",
    "    conv1 = BatchNormalization()(conv1)\n",
    "    conv1 = Activation('relu')(conv1)\n",
    "    conv1 = Conv2D(64, 3, padding='same')(conv1)\n",
    "    conv1 = BatchNormalization()(conv1)\n",
    "    conv1 = Activation('relu')(conv1)\n",
    "    conv1 = Conv2D(64, 3, padding='same')(conv1)\n",
    "    conv1 = BatchNormalization()(conv1)\n",
    "    conv1 = Activation('relu')(conv1)\n",
    "    pool1 = MaxPooling2D(pool_size=(2, 2))(conv1)\n",
    "\n",
    "    conv2 = Conv2D(128, 3, padding='same')(pool1)\n",
    "    conv2 = BatchNormalization()(conv2)\n",
    "    conv2 = Activation('relu')(conv2)\n",
    "    conv2 = Conv2D(128, 3, padding='same')(conv2)\n",
    "    conv2 = BatchNormalization()(conv2)\n",
    "    conv2 = Activation('relu')(conv2)\n",
    "    pool2 = MaxPooling2D(pool_size=(2, 2))(conv2)\n",
    "\n",
    "    # Bottleneck\n",
    "    bottleneck = Conv2D(256, 3, padding='same')(pool2)\n",
    "    bottleneck = BatchNormalization()(bottleneck)\n",
    "    bottleneck = Activation('relu')(bottleneck)\n",
    "    bottleneck = Conv2D(256, 3, padding='same')(bottleneck)\n",
    "    bottleneck = BatchNormalization()(bottleneck)\n",
    "    bottleneck = Activation('relu')(bottleneck)\n",
    "\n",
    "    # Expansive Path\n",
    "    up1 = Conv2DTranspose(128, (3, 3), strides=(2, 2), padding='same')(bottleneck)\n",
    "    skip1 = Concatenate(axis=-1)([conv2, up1])\n",
    "    conv3 = Conv2D(128, 3, padding='same')(skip1)\n",
    "    conv3 = BatchNormalization()(conv3)\n",
    "    conv3 = Activation('relu')(conv3)\n",
    "    conv3 = Conv2D(128, 3, padding='same')(conv3)\n",
    "    conv3 = BatchNormalization()(conv3)\n",
    "    conv3 = Activation('relu')(conv3)\n",
    "\n",
    "    up2 = Conv2DTranspose(64, (3, 3), strides=(2, 2), padding='same')(conv3)\n",
    "    skip2 = Concatenate(axis=-1)([conv1, up2])\n",
    "    conv4 = Conv2D(64, 3, padding='same')(skip2)\n",
    "    conv4 = BatchNormalization()(conv4)\n",
    "    conv4 = Activation('relu')(conv4)\n",
    "    conv4 = Conv2D(64, 3, padding='same')(conv4)\n",
    "    conv4 = BatchNormalization()(conv4)\n",
    "    conv4 = Activation('relu')(conv4)\n",
    "\n",
    "    up3 = Conv2DTranspose(32, (3, 3), strides=(2, 2), padding='same')(conv4)\n",
    "    # skip2 = Concatenate(axis=-1)([conv1, up2])\n",
    "    conv5 = Conv2D(32, 3, padding='same')(up3)\n",
    "    conv5 = BatchNormalization()(conv5)\n",
    "    conv5 = Activation('relu')(conv5)\n",
    "    conv5 = Conv2D(32, 3, padding='same')(conv5)\n",
    "    conv5 = BatchNormalization()(conv5)\n",
    "    conv5 = Activation('relu')(conv5)\n",
    "\n",
    "    output = Conv2D(1, 1, activation='sigmoid')(conv5)\n",
    "\n",
    "    # Cropping to the desired size (35, 35)\n",
    "    cropped_output = Cropping2D(((7, 6), (7, 6)))(output)\n",
    "    # skip3 = Concatenate(axis=-1)([input, cropped_output])\n",
    "\n",
    "\n",
    "    model = Model(inputs=inputs, outputs=cropped_output)\n",
    "\n",
    "    return model"
   ]
  },
  {
   "cell_type": "code",
   "execution_count": 31,
   "metadata": {},
   "outputs": [
    {
     "name": "stdout",
     "output_type": "stream",
     "text": [
      "Model: \"model_2\"\n",
      "__________________________________________________________________________________________________\n",
      " Layer (type)                   Output Shape         Param #     Connected to                     \n",
      "==================================================================================================\n",
      " input_3 (InputLayer)           [(None, 24, 24, 1)]  0           []                               \n",
      "                                                                                                  \n",
      " conv2d_28 (Conv2D)             (None, 24, 24, 64)   640         ['input_3[0][0]']                \n",
      "                                                                                                  \n",
      " batch_normalization_26 (BatchN  (None, 24, 24, 64)  256         ['conv2d_28[0][0]']              \n",
      " ormalization)                                                                                    \n",
      "                                                                                                  \n",
      " activation_26 (Activation)     (None, 24, 24, 64)   0           ['batch_normalization_26[0][0]'] \n",
      "                                                                                                  \n",
      " conv2d_29 (Conv2D)             (None, 24, 24, 64)   36928       ['activation_26[0][0]']          \n",
      "                                                                                                  \n",
      " batch_normalization_27 (BatchN  (None, 24, 24, 64)  256         ['conv2d_29[0][0]']              \n",
      " ormalization)                                                                                    \n",
      "                                                                                                  \n",
      " activation_27 (Activation)     (None, 24, 24, 64)   0           ['batch_normalization_27[0][0]'] \n",
      "                                                                                                  \n",
      " conv2d_30 (Conv2D)             (None, 24, 24, 64)   36928       ['activation_27[0][0]']          \n",
      "                                                                                                  \n",
      " batch_normalization_28 (BatchN  (None, 24, 24, 64)  256         ['conv2d_30[0][0]']              \n",
      " ormalization)                                                                                    \n",
      "                                                                                                  \n",
      " activation_28 (Activation)     (None, 24, 24, 64)   0           ['batch_normalization_28[0][0]'] \n",
      "                                                                                                  \n",
      " max_pooling2d_4 (MaxPooling2D)  (None, 12, 12, 64)  0           ['activation_28[0][0]']          \n",
      "                                                                                                  \n",
      " conv2d_31 (Conv2D)             (None, 12, 12, 128)  73856       ['max_pooling2d_4[0][0]']        \n",
      "                                                                                                  \n",
      " batch_normalization_29 (BatchN  (None, 12, 12, 128)  512        ['conv2d_31[0][0]']              \n",
      " ormalization)                                                                                    \n",
      "                                                                                                  \n",
      " activation_29 (Activation)     (None, 12, 12, 128)  0           ['batch_normalization_29[0][0]'] \n",
      "                                                                                                  \n",
      " conv2d_32 (Conv2D)             (None, 12, 12, 128)  147584      ['activation_29[0][0]']          \n",
      "                                                                                                  \n",
      " batch_normalization_30 (BatchN  (None, 12, 12, 128)  512        ['conv2d_32[0][0]']              \n",
      " ormalization)                                                                                    \n",
      "                                                                                                  \n",
      " activation_30 (Activation)     (None, 12, 12, 128)  0           ['batch_normalization_30[0][0]'] \n",
      "                                                                                                  \n",
      " max_pooling2d_5 (MaxPooling2D)  (None, 6, 6, 128)   0           ['activation_30[0][0]']          \n",
      "                                                                                                  \n",
      " conv2d_33 (Conv2D)             (None, 6, 6, 256)    295168      ['max_pooling2d_5[0][0]']        \n",
      "                                                                                                  \n",
      " batch_normalization_31 (BatchN  (None, 6, 6, 256)   1024        ['conv2d_33[0][0]']              \n",
      " ormalization)                                                                                    \n",
      "                                                                                                  \n",
      " activation_31 (Activation)     (None, 6, 6, 256)    0           ['batch_normalization_31[0][0]'] \n",
      "                                                                                                  \n",
      " conv2d_34 (Conv2D)             (None, 6, 6, 256)    590080      ['activation_31[0][0]']          \n",
      "                                                                                                  \n",
      " batch_normalization_32 (BatchN  (None, 6, 6, 256)   1024        ['conv2d_34[0][0]']              \n",
      " ormalization)                                                                                    \n",
      "                                                                                                  \n",
      " activation_32 (Activation)     (None, 6, 6, 256)    0           ['batch_normalization_32[0][0]'] \n",
      "                                                                                                  \n",
      " conv2d_transpose_6 (Conv2DTran  (None, 12, 12, 128)  295040     ['activation_32[0][0]']          \n",
      " spose)                                                                                           \n",
      "                                                                                                  \n",
      " concatenate_4 (Concatenate)    (None, 12, 12, 256)  0           ['activation_30[0][0]',          \n",
      "                                                                  'conv2d_transpose_6[0][0]']     \n",
      "                                                                                                  \n",
      " conv2d_35 (Conv2D)             (None, 12, 12, 128)  295040      ['concatenate_4[0][0]']          \n",
      "                                                                                                  \n",
      " batch_normalization_33 (BatchN  (None, 12, 12, 128)  512        ['conv2d_35[0][0]']              \n",
      " ormalization)                                                                                    \n",
      "                                                                                                  \n",
      " activation_33 (Activation)     (None, 12, 12, 128)  0           ['batch_normalization_33[0][0]'] \n",
      "                                                                                                  \n",
      " conv2d_36 (Conv2D)             (None, 12, 12, 128)  147584      ['activation_33[0][0]']          \n",
      "                                                                                                  \n",
      " batch_normalization_34 (BatchN  (None, 12, 12, 128)  512        ['conv2d_36[0][0]']              \n",
      " ormalization)                                                                                    \n",
      "                                                                                                  \n",
      " activation_34 (Activation)     (None, 12, 12, 128)  0           ['batch_normalization_34[0][0]'] \n",
      "                                                                                                  \n",
      " conv2d_transpose_7 (Conv2DTran  (None, 24, 24, 64)  73792       ['activation_34[0][0]']          \n",
      " spose)                                                                                           \n",
      "                                                                                                  \n",
      " concatenate_5 (Concatenate)    (None, 24, 24, 128)  0           ['activation_28[0][0]',          \n",
      "                                                                  'conv2d_transpose_7[0][0]']     \n",
      "                                                                                                  \n",
      " conv2d_37 (Conv2D)             (None, 24, 24, 64)   73792       ['concatenate_5[0][0]']          \n",
      "                                                                                                  \n",
      " batch_normalization_35 (BatchN  (None, 24, 24, 64)  256         ['conv2d_37[0][0]']              \n",
      " ormalization)                                                                                    \n",
      "                                                                                                  \n",
      " activation_35 (Activation)     (None, 24, 24, 64)   0           ['batch_normalization_35[0][0]'] \n",
      "                                                                                                  \n",
      " conv2d_38 (Conv2D)             (None, 24, 24, 64)   36928       ['activation_35[0][0]']          \n",
      "                                                                                                  \n",
      " batch_normalization_36 (BatchN  (None, 24, 24, 64)  256         ['conv2d_38[0][0]']              \n",
      " ormalization)                                                                                    \n",
      "                                                                                                  \n",
      " activation_36 (Activation)     (None, 24, 24, 64)   0           ['batch_normalization_36[0][0]'] \n",
      "                                                                                                  \n",
      " conv2d_transpose_8 (Conv2DTran  (None, 48, 48, 32)  18464       ['activation_36[0][0]']          \n",
      " spose)                                                                                           \n",
      "                                                                                                  \n",
      " conv2d_39 (Conv2D)             (None, 48, 48, 32)   9248        ['conv2d_transpose_8[0][0]']     \n",
      "                                                                                                  \n",
      " batch_normalization_37 (BatchN  (None, 48, 48, 32)  128         ['conv2d_39[0][0]']              \n",
      " ormalization)                                                                                    \n",
      "                                                                                                  \n",
      " activation_37 (Activation)     (None, 48, 48, 32)   0           ['batch_normalization_37[0][0]'] \n",
      "                                                                                                  \n",
      " conv2d_40 (Conv2D)             (None, 48, 48, 32)   9248        ['activation_37[0][0]']          \n",
      "                                                                                                  \n",
      " batch_normalization_38 (BatchN  (None, 48, 48, 32)  128         ['conv2d_40[0][0]']              \n",
      " ormalization)                                                                                    \n",
      "                                                                                                  \n",
      " activation_38 (Activation)     (None, 48, 48, 32)   0           ['batch_normalization_38[0][0]'] \n",
      "                                                                                                  \n",
      " conv2d_41 (Conv2D)             (None, 48, 48, 1)    33          ['activation_38[0][0]']          \n",
      "                                                                                                  \n",
      " cropping2d_1 (Cropping2D)      (None, 35, 35, 1)    0           ['conv2d_41[0][0]']              \n",
      "                                                                                                  \n",
      "==================================================================================================\n",
      "Total params: 2,145,985\n",
      "Trainable params: 2,143,169\n",
      "Non-trainable params: 2,816\n",
      "__________________________________________________________________________________________________\n"
     ]
    }
   ],
   "source": [
    "inputMNIST_shape = fieldMNIST_train.shape[1:]\n",
    "model_mnist = unet_for_mnist(inputMNIST_shape)\n",
    "model_mnist.summary()"
   ]
  },
  {
   "cell_type": "code",
   "execution_count": 13,
   "metadata": {},
   "outputs": [],
   "source": [
    "from tensorflow.keras.optimizers import SGD\n",
    "# from tensorflow.keras.losses import MeanSquaredError\n",
    "from tensorflow.keras.callbacks import LearningRateScheduler, EarlyStopping"
   ]
  },
  {
   "cell_type": "markdown",
   "metadata": {},
   "source": [
    "Train on MNIST then test on shape (freq 1e9 and permitivity 2)"
   ]
  },
  {
   "cell_type": "code",
   "execution_count": 14,
   "metadata": {},
   "outputs": [],
   "source": [
    "init_lr = 1e-3\n",
    "final_lr = 1e-8\n",
    "total_epoch = 200"
   ]
  },
  {
   "cell_type": "code",
   "execution_count": 51,
   "metadata": {},
   "outputs": [],
   "source": [
    "\n",
    "\n",
    "def log_learning_rate(num_epoch):\n",
    "    return np.logspace(np.log10(init_lr), np.log10(final_lr), num=num_epoch, endpoint=True)\n",
    "\n",
    "def lr_scheduler(epoch, lr):\n",
    "    return log_learning_rate(total_epoch)[epoch]\n",
    "\n",
    "earlyStop = EarlyStopping(monitor='loss',patience=3)\n",
    "\n",
    "# def SGD_opt(model):\n",
    "#     lr_callback = LearningRateScheduler(lr_scheduler)\n",
    "#     optimizer = tf.keras.optimizers.SGD(learning_rate=init_lr, momentum=0.99)\n",
    "#     model.compile(optimizer = optimizer, loss = 'mean_squared_error', metrics = 'accuracy')\n",
    "#     return model.fit(x = fieldMNIST_train, y = targetMNIST_train, batch_size = 1, epochs = total_epoch, \n",
    "#                      callbacks = [lr_callback, EarlyStopping(monitor='loss',patience=3)])#stop when seeing no loss change in 3 consecutive epochs\n"
   ]
  },
  {
   "cell_type": "code",
   "execution_count": 32,
   "metadata": {},
   "outputs": [
    {
     "name": "stdout",
     "output_type": "stream",
     "text": [
      "Epoch 1/200\n",
      "17/17 [==============================] - 8s 385ms/step - loss: 0.1071 - accuracy: 0.8906 - val_loss: 0.2271 - val_accuracy: 0.9575\n",
      "Epoch 2/200\n",
      "17/17 [==============================] - 6s 336ms/step - loss: 0.0458 - accuracy: 0.9357 - val_loss: 0.1464 - val_accuracy: 0.9573\n",
      "Epoch 3/200\n",
      "17/17 [==============================] - 6s 346ms/step - loss: 0.0421 - accuracy: 0.9380 - val_loss: 0.1083 - val_accuracy: 0.9493\n",
      "Epoch 4/200\n",
      "17/17 [==============================] - 6s 367ms/step - loss: 0.0408 - accuracy: 0.9395 - val_loss: 0.0955 - val_accuracy: 0.9503\n",
      "Epoch 5/200\n",
      "17/17 [==============================] - 7s 414ms/step - loss: 0.0385 - accuracy: 0.9405 - val_loss: 0.0916 - val_accuracy: 0.9502\n",
      "Epoch 6/200\n",
      "17/17 [==============================] - 7s 401ms/step - loss: 0.0376 - accuracy: 0.9412 - val_loss: 0.0873 - val_accuracy: 0.9508\n",
      "Epoch 7/200\n",
      "17/17 [==============================] - 7s 410ms/step - loss: 0.0370 - accuracy: 0.9417 - val_loss: 0.0796 - val_accuracy: 0.9503\n",
      "Epoch 8/200\n",
      "17/17 [==============================] - 8s 471ms/step - loss: 0.0363 - accuracy: 0.9421 - val_loss: 0.0824 - val_accuracy: 0.9519\n",
      "Epoch 9/200\n",
      "17/17 [==============================] - 8s 498ms/step - loss: 0.0356 - accuracy: 0.9427 - val_loss: 0.0868 - val_accuracy: 0.9516\n",
      "Epoch 10/200\n",
      "17/17 [==============================] - 7s 419ms/step - loss: 0.0345 - accuracy: 0.9440 - val_loss: 0.0828 - val_accuracy: 0.9522\n",
      "Epoch 11/200\n",
      "17/17 [==============================] - 7s 421ms/step - loss: 0.0349 - accuracy: 0.9434 - val_loss: 0.0871 - val_accuracy: 0.9536\n",
      "Epoch 12/200\n",
      "17/17 [==============================] - 7s 421ms/step - loss: 0.0344 - accuracy: 0.9435 - val_loss: 0.0838 - val_accuracy: 0.9525\n",
      "Epoch 13/200\n",
      "17/17 [==============================] - 7s 414ms/step - loss: 0.0338 - accuracy: 0.9443 - val_loss: 0.0835 - val_accuracy: 0.9529\n",
      "Epoch 14/200\n",
      "17/17 [==============================] - 7s 422ms/step - loss: 0.0330 - accuracy: 0.9446 - val_loss: 0.0853 - val_accuracy: 0.9534\n",
      "Epoch 15/200\n",
      "17/17 [==============================] - 7s 417ms/step - loss: 0.0329 - accuracy: 0.9449 - val_loss: 0.0761 - val_accuracy: 0.9463\n",
      "Epoch 16/200\n",
      "17/17 [==============================] - 7s 406ms/step - loss: 0.0325 - accuracy: 0.9453 - val_loss: 0.0854 - val_accuracy: 0.9535\n",
      "Epoch 17/200\n",
      "17/17 [==============================] - 7s 398ms/step - loss: 0.0312 - accuracy: 0.9463 - val_loss: 0.0757 - val_accuracy: 0.9508\n",
      "Epoch 18/200\n",
      "17/17 [==============================] - 7s 413ms/step - loss: 0.0311 - accuracy: 0.9462 - val_loss: 0.0793 - val_accuracy: 0.9525\n",
      "Epoch 19/200\n",
      "17/17 [==============================] - 7s 428ms/step - loss: 0.0305 - accuracy: 0.9463 - val_loss: 0.0863 - val_accuracy: 0.9540\n",
      "Epoch 20/200\n",
      "17/17 [==============================] - 7s 430ms/step - loss: 0.0298 - accuracy: 0.9471 - val_loss: 0.0832 - val_accuracy: 0.9531\n",
      "Epoch 21/200\n",
      "17/17 [==============================] - 7s 399ms/step - loss: 0.0300 - accuracy: 0.9470 - val_loss: 0.0826 - val_accuracy: 0.9536\n",
      "Epoch 22/200\n",
      "17/17 [==============================] - 7s 396ms/step - loss: 0.0295 - accuracy: 0.9473 - val_loss: 0.0745 - val_accuracy: 0.9513\n",
      "Epoch 23/200\n",
      "17/17 [==============================] - 7s 431ms/step - loss: 0.0290 - accuracy: 0.9476 - val_loss: 0.0735 - val_accuracy: 0.9518\n",
      "Epoch 24/200\n",
      "17/17 [==============================] - 7s 410ms/step - loss: 0.0282 - accuracy: 0.9485 - val_loss: 0.0619 - val_accuracy: 0.9502\n",
      "Epoch 25/200\n",
      "17/17 [==============================] - 7s 404ms/step - loss: 0.0280 - accuracy: 0.9484 - val_loss: 0.0587 - val_accuracy: 0.9493\n",
      "Epoch 26/200\n",
      "17/17 [==============================] - 7s 399ms/step - loss: 0.0281 - accuracy: 0.9485 - val_loss: 0.0549 - val_accuracy: 0.9497\n",
      "Epoch 27/200\n",
      "17/17 [==============================] - 7s 430ms/step - loss: 0.0271 - accuracy: 0.9491 - val_loss: 0.0547 - val_accuracy: 0.9495\n",
      "Epoch 28/200\n",
      "17/17 [==============================] - 7s 427ms/step - loss: 0.0266 - accuracy: 0.9496 - val_loss: 0.0540 - val_accuracy: 0.9498\n",
      "Epoch 29/200\n",
      "17/17 [==============================] - 8s 452ms/step - loss: 0.0263 - accuracy: 0.9499 - val_loss: 0.0469 - val_accuracy: 0.9438\n",
      "Epoch 30/200\n",
      "17/17 [==============================] - 8s 482ms/step - loss: 0.0258 - accuracy: 0.9501 - val_loss: 0.0496 - val_accuracy: 0.9486\n",
      "Epoch 31/200\n",
      "17/17 [==============================] - 7s 415ms/step - loss: 0.0259 - accuracy: 0.9501 - val_loss: 0.0447 - val_accuracy: 0.9477\n",
      "Epoch 32/200\n",
      "17/17 [==============================] - 7s 410ms/step - loss: 0.0257 - accuracy: 0.9502 - val_loss: 0.0403 - val_accuracy: 0.9457\n",
      "Epoch 33/200\n",
      "17/17 [==============================] - 7s 410ms/step - loss: 0.0261 - accuracy: 0.9501 - val_loss: 0.0394 - val_accuracy: 0.9474\n",
      "Epoch 34/200\n",
      "17/17 [==============================] - 7s 412ms/step - loss: 0.0260 - accuracy: 0.9501 - val_loss: 0.0413 - val_accuracy: 0.9481\n",
      "Epoch 35/200\n",
      "17/17 [==============================] - 7s 405ms/step - loss: 0.0254 - accuracy: 0.9502 - val_loss: 0.0379 - val_accuracy: 0.9485\n",
      "Epoch 36/200\n",
      "17/17 [==============================] - 7s 405ms/step - loss: 0.0245 - accuracy: 0.9510 - val_loss: 0.0341 - val_accuracy: 0.9479\n",
      "Epoch 37/200\n",
      "17/17 [==============================] - 7s 406ms/step - loss: 0.0241 - accuracy: 0.9515 - val_loss: 0.0376 - val_accuracy: 0.9464\n",
      "Epoch 38/200\n",
      "17/17 [==============================] - 7s 407ms/step - loss: 0.0239 - accuracy: 0.9517 - val_loss: 0.0360 - val_accuracy: 0.9483\n",
      "Epoch 39/200\n",
      "17/17 [==============================] - 7s 413ms/step - loss: 0.0237 - accuracy: 0.9518 - val_loss: 0.0347 - val_accuracy: 0.9482\n",
      "Epoch 40/200\n",
      "17/17 [==============================] - 7s 419ms/step - loss: 0.0238 - accuracy: 0.9516 - val_loss: 0.0351 - val_accuracy: 0.9476\n",
      "Epoch 41/200\n",
      "17/17 [==============================] - 7s 416ms/step - loss: 0.0236 - accuracy: 0.9519 - val_loss: 0.0343 - val_accuracy: 0.9473\n",
      "Epoch 42/200\n",
      "17/17 [==============================] - 7s 411ms/step - loss: 0.0233 - accuracy: 0.9520 - val_loss: 0.0356 - val_accuracy: 0.9490\n",
      "Epoch 43/200\n",
      "17/17 [==============================] - 7s 412ms/step - loss: 0.0232 - accuracy: 0.9522 - val_loss: 0.0353 - val_accuracy: 0.9491\n",
      "Epoch 44/200\n",
      "17/17 [==============================] - 7s 414ms/step - loss: 0.0230 - accuracy: 0.9524 - val_loss: 0.0349 - val_accuracy: 0.9489\n",
      "Epoch 45/200\n",
      "17/17 [==============================] - 7s 410ms/step - loss: 0.0225 - accuracy: 0.9526 - val_loss: 0.0388 - val_accuracy: 0.9489\n",
      "Epoch 46/200\n",
      "17/17 [==============================] - 7s 412ms/step - loss: 0.0221 - accuracy: 0.9530 - val_loss: 0.0412 - val_accuracy: 0.9480\n",
      "Epoch 47/200\n",
      "17/17 [==============================] - 7s 419ms/step - loss: 0.0222 - accuracy: 0.9528 - val_loss: 0.0411 - val_accuracy: 0.9478\n",
      "Epoch 48/200\n",
      "17/17 [==============================] - 7s 418ms/step - loss: 0.0220 - accuracy: 0.9531 - val_loss: 0.0423 - val_accuracy: 0.9466\n",
      "Epoch 49/200\n",
      "17/17 [==============================] - 7s 416ms/step - loss: 0.0219 - accuracy: 0.9530 - val_loss: 0.0509 - val_accuracy: 0.9474\n",
      "Epoch 50/200\n",
      "17/17 [==============================] - 7s 406ms/step - loss: 0.0218 - accuracy: 0.9532 - val_loss: 0.0508 - val_accuracy: 0.9436\n",
      "Epoch 51/200\n",
      "17/17 [==============================] - 7s 410ms/step - loss: 0.0214 - accuracy: 0.9536 - val_loss: 0.0536 - val_accuracy: 0.9342\n",
      "Epoch 52/200\n",
      "17/17 [==============================] - 7s 411ms/step - loss: 0.0217 - accuracy: 0.9532 - val_loss: 0.0509 - val_accuracy: 0.9391\n",
      "Epoch 53/200\n",
      "17/17 [==============================] - 7s 414ms/step - loss: 0.0215 - accuracy: 0.9532 - val_loss: 0.0441 - val_accuracy: 0.9419\n",
      "Epoch 54/200\n",
      "17/17 [==============================] - 7s 420ms/step - loss: 0.0215 - accuracy: 0.9536 - val_loss: 0.0379 - val_accuracy: 0.9441\n",
      "Epoch 55/200\n",
      "17/17 [==============================] - 8s 462ms/step - loss: 0.0210 - accuracy: 0.9537 - val_loss: 0.0399 - val_accuracy: 0.9426\n",
      "Epoch 56/200\n",
      "17/17 [==============================] - 8s 457ms/step - loss: 0.0207 - accuracy: 0.9540 - val_loss: 0.0382 - val_accuracy: 0.9387\n",
      "Epoch 57/200\n",
      "17/17 [==============================] - 8s 444ms/step - loss: 0.0211 - accuracy: 0.9537 - val_loss: 0.0383 - val_accuracy: 0.9402\n",
      "Epoch 58/200\n",
      "17/17 [==============================] - 7s 435ms/step - loss: 0.0208 - accuracy: 0.9539 - val_loss: 0.0379 - val_accuracy: 0.9426\n",
      "Epoch 59/200\n",
      "17/17 [==============================] - 9s 518ms/step - loss: 0.0208 - accuracy: 0.9540 - val_loss: 0.0374 - val_accuracy: 0.9438\n",
      "Epoch 60/200\n",
      "17/17 [==============================] - 9s 546ms/step - loss: 0.0210 - accuracy: 0.9538 - val_loss: 0.0400 - val_accuracy: 0.9424\n",
      "Epoch 61/200\n",
      "17/17 [==============================] - 8s 453ms/step - loss: 0.0204 - accuracy: 0.9542 - val_loss: 0.0377 - val_accuracy: 0.9446\n",
      "Epoch 62/200\n",
      "17/17 [==============================] - 7s 425ms/step - loss: 0.0204 - accuracy: 0.9544 - val_loss: 0.0361 - val_accuracy: 0.9445\n",
      "Epoch 63/200\n",
      "17/17 [==============================] - 7s 430ms/step - loss: 0.0203 - accuracy: 0.9543 - val_loss: 0.0384 - val_accuracy: 0.9408\n",
      "Epoch 64/200\n",
      "17/17 [==============================] - 8s 453ms/step - loss: 0.0200 - accuracy: 0.9545 - val_loss: 0.0368 - val_accuracy: 0.9449\n",
      "Epoch 65/200\n",
      "17/17 [==============================] - 7s 426ms/step - loss: 0.0197 - accuracy: 0.9548 - val_loss: 0.0353 - val_accuracy: 0.9460\n",
      "Epoch 66/200\n",
      "17/17 [==============================] - 7s 439ms/step - loss: 0.0197 - accuracy: 0.9549 - val_loss: 0.0361 - val_accuracy: 0.9475\n",
      "Epoch 67/200\n",
      "17/17 [==============================] - 7s 410ms/step - loss: 0.0195 - accuracy: 0.9548 - val_loss: 0.0349 - val_accuracy: 0.9470\n",
      "Epoch 68/200\n",
      "17/17 [==============================] - 7s 411ms/step - loss: 0.0189 - accuracy: 0.9553 - val_loss: 0.0350 - val_accuracy: 0.9483\n",
      "Epoch 69/200\n",
      "17/17 [==============================] - 7s 404ms/step - loss: 0.0187 - accuracy: 0.9555 - val_loss: 0.0352 - val_accuracy: 0.9468\n",
      "Epoch 70/200\n",
      "17/17 [==============================] - 7s 410ms/step - loss: 0.0189 - accuracy: 0.9554 - val_loss: 0.0341 - val_accuracy: 0.9481\n",
      "Epoch 71/200\n",
      "17/17 [==============================] - 7s 403ms/step - loss: 0.0188 - accuracy: 0.9554 - val_loss: 0.0346 - val_accuracy: 0.9476\n",
      "Epoch 72/200\n",
      "17/17 [==============================] - 7s 401ms/step - loss: 0.0189 - accuracy: 0.9554 - val_loss: 0.0342 - val_accuracy: 0.9472\n",
      "Epoch 73/200\n",
      "17/17 [==============================] - 7s 405ms/step - loss: 0.0187 - accuracy: 0.9555 - val_loss: 0.0356 - val_accuracy: 0.9453\n",
      "Epoch 74/200\n",
      "17/17 [==============================] - 7s 415ms/step - loss: 0.0182 - accuracy: 0.9559 - val_loss: 0.0355 - val_accuracy: 0.9467\n",
      "Epoch 75/200\n",
      "17/17 [==============================] - 7s 413ms/step - loss: 0.0183 - accuracy: 0.9559 - val_loss: 0.0346 - val_accuracy: 0.9472\n",
      "Epoch 76/200\n",
      "17/17 [==============================] - 7s 410ms/step - loss: 0.0180 - accuracy: 0.9560 - val_loss: 0.0351 - val_accuracy: 0.9473\n",
      "Epoch 77/200\n",
      "17/17 [==============================] - 7s 408ms/step - loss: 0.0180 - accuracy: 0.9560 - val_loss: 0.0355 - val_accuracy: 0.9468\n",
      "Epoch 78/200\n",
      "17/17 [==============================] - 7s 407ms/step - loss: 0.0179 - accuracy: 0.9561 - val_loss: 0.0365 - val_accuracy: 0.9487\n",
      "Epoch 79/200\n",
      "17/17 [==============================] - 7s 412ms/step - loss: 0.0181 - accuracy: 0.9560 - val_loss: 0.0383 - val_accuracy: 0.9485\n",
      "Epoch 80/200\n",
      "17/17 [==============================] - 7s 411ms/step - loss: 0.0179 - accuracy: 0.9561 - val_loss: 0.0374 - val_accuracy: 0.9489\n",
      "Epoch 81/200\n",
      "17/17 [==============================] - 7s 410ms/step - loss: 0.0177 - accuracy: 0.9563 - val_loss: 0.0375 - val_accuracy: 0.9484\n",
      "Epoch 82/200\n",
      "17/17 [==============================] - 7s 411ms/step - loss: 0.0179 - accuracy: 0.9561 - val_loss: 0.0365 - val_accuracy: 0.9487\n",
      "Epoch 83/200\n",
      "17/17 [==============================] - 7s 417ms/step - loss: 0.0185 - accuracy: 0.9556 - val_loss: 0.0385 - val_accuracy: 0.9479\n",
      "Epoch 84/200\n",
      "17/17 [==============================] - 7s 422ms/step - loss: 0.0180 - accuracy: 0.9561 - val_loss: 0.0382 - val_accuracy: 0.9486\n",
      "Epoch 85/200\n",
      "17/17 [==============================] - 7s 421ms/step - loss: 0.0179 - accuracy: 0.9561 - val_loss: 0.0376 - val_accuracy: 0.9487\n",
      "Epoch 86/200\n",
      "17/17 [==============================] - 7s 411ms/step - loss: 0.0179 - accuracy: 0.9562 - val_loss: 0.0377 - val_accuracy: 0.9469\n"
     ]
    },
    {
     "data": {
      "text/plain": [
       "<keras.callbacks.History at 0x2488033b220>"
      ]
     },
     "execution_count": 32,
     "metadata": {},
     "output_type": "execute_result"
    }
   ],
   "source": [
    "optimizer = tf.keras.optimizers.Adam(learning_rate=init_lr)\n",
    "\n",
    "checkpoint = tf.keras.callbacks.ModelCheckpoint(\"./model_weights/\", \n",
    "                    monitor=\"loss\", mode=\"min\", \n",
    "                    save_best_only=True, verbose=1)\n",
    "\n",
    "earlyStop = EarlyStopping(monitor='loss',patience=5)\n",
    "\n",
    "\n",
    "model_mnist.compile(optimizer = optimizer, loss = 'mean_squared_error', metrics = 'accuracy')\n",
    "model_mnist.fit(x = fieldMNIST_train, y = targetMNIST_train, validation_data=(fieldMNIST_val, targetMNIST_val), batch_size = 20, epochs = total_epoch, \n",
    "               callbacks = [earlyStop])"
   ]
  },
  {
   "cell_type": "code",
   "execution_count": 37,
   "metadata": {},
   "outputs": [],
   "source": [
    "from keras.models import save_model\n",
    "save_model(model_mnist, 'model_mnist.h5')\n"
   ]
  },
  {
   "cell_type": "code",
   "execution_count": 38,
   "metadata": {},
   "outputs": [
    {
     "name": "stdout",
     "output_type": "stream",
     "text": [
      "4/4 [==============================] - 1s 92ms/step\n"
     ]
    }
   ],
   "source": [
    "from keras.models import load_model\n",
    "\n",
    "# Load the model\n",
    "loaded_model = load_model('model_mnist.h5')\n",
    "\n",
    "# Now, you can use the loaded model for prediction or further training\n",
    "predictions = loaded_model.predict(fieldMNIST_test)"
   ]
  },
  {
   "cell_type": "code",
   "execution_count": 39,
   "metadata": {},
   "outputs": [
    {
     "data": {
      "image/png": "[encoded data removed]",
      "text/plain": [
       "<Figure size 1728x1728 with 3 Axes>"
      ]
     },
     "metadata": {
      "needs_background": "light"
     },
     "output_type": "display_data"
    }
   ],
   "source": [
    "fig, axs = plt.subplots(1, 3, figsize=(24, 24))\n",
    "\n",
    "axs[0].matshow(fieldMNIST_test[2])\n",
    "axs[1].matshow(targetMNIST_test[2])\n",
    "axs[2].matshow(predictions[2])\n",
    "\n",
    "plt.show()"
   ]
  },
  {
   "cell_type": "code",
   "execution_count": 18,
   "metadata": {},
   "outputs": [
    {
     "data": {
      "image/png": "[encoded data removed]",
      "text/plain": [
       "<Figure size 1728x1728 with 3 Axes>"
      ]
     },
     "metadata": {
      "needs_background": "light"
     },
     "output_type": "display_data"
    }
   ],
   "source": [
    "# fig, axs = plt.subplots(1, 3, figsize=(24, 24))\n",
    "\n",
    "# axs[0].matshow(fieldMNIST_test[1])\n",
    "# axs[1].matshow(targetMNIST_test[1])\n",
    "# axs[2].matshow(pred1[1])\n",
    "\n",
    "# plt.show()"
   ]
  },
  {
   "cell_type": "code",
   "execution_count": 19,
   "metadata": {},
   "outputs": [
    {
     "data": {
      "image/png": "[encoded data removed]",
      "text/plain": [
       "<Figure size 1728x1728 with 3 Axes>"
      ]
     },
     "metadata": {
      "needs_background": "light"
     },
     "output_type": "display_data"
    }
   ],
   "source": [
    "fig, axs = plt.subplots(1, 3, figsize=(24, 24))\n",
    "\n",
    "axs[0].matshow(fieldMNIST_test[2])\n",
    "axs[1].matshow(targetMNIST_test[2])\n",
    "axs[2].matshow(pred1[2])\n",
    "\n",
    "plt.show()"
   ]
  },
  {
   "cell_type": "code",
   "execution_count": 20,
   "metadata": {},
   "outputs": [
    {
     "data": {
      "image/png": "[encoded data removed]",
      "text/plain": [
       "<Figure size 1728x1728 with 3 Axes>"
      ]
     },
     "metadata": {
      "needs_background": "light"
     },
     "output_type": "display_data"
    }
   ],
   "source": [
    "fig, axs = plt.subplots(1, 3, figsize=(24, 24))\n",
    "\n",
    "axs[0].matshow(fieldMNIST_test[3])\n",
    "axs[1].matshow(targetMNIST_test[3])\n",
    "axs[2].matshow(pred1[3])\n",
    "\n",
    "plt.show()"
   ]
  },
  {
   "cell_type": "code",
   "execution_count": 19,
   "metadata": {},
   "outputs": [
    {
     "name": "stdout",
     "output_type": "stream",
     "text": [
      "2/2 [==============================] - 0s 120ms/step\n"
     ]
    }
   ],
   "source": [
    "pred2 = model_mnist.predict(fieldCirc_test)"
   ]
  },
  {
   "cell_type": "code",
   "execution_count": 20,
   "metadata": {},
   "outputs": [
    {
     "data": {
      "image/png": "[encoded data removed]",
      "text/plain": [
       "<Figure size 1728x1728 with 3 Axes>"
      ]
     },
     "metadata": {
      "needs_background": "light"
     },
     "output_type": "display_data"
    }
   ],
   "source": [
    "fig, axs = plt.subplots(1, 3, figsize=(24, 24))\n",
    "\n",
    "axs[0].matshow(fieldCirc_test[1])\n",
    "axs[1].matshow(targetCirc_test[1])\n",
    "axs[2].matshow(pred2[1])\n",
    "\n",
    "plt.show()"
   ]
  },
  {
   "cell_type": "code",
   "execution_count": 24,
   "metadata": {},
   "outputs": [
    {
     "data": {
      "image/png": "[encoded data removed]",
      "text/plain": [
       "<Figure size 1728x1728 with 3 Axes>"
      ]
     },
     "metadata": {
      "needs_background": "light"
     },
     "output_type": "display_data"
    }
   ],
   "source": [
    "# fig, axs = plt.subplots(1, 3, figsize=(24, 24))\n",
    "\n",
    "# axs[0].matshow(fieldCirc_test[1])\n",
    "# axs[1].matshow(targetCirc_test[1])\n",
    "# axs[2].matshow(pred2[1])\n",
    "\n",
    "# plt.show()"
   ]
  },
  {
   "cell_type": "markdown",
   "metadata": {},
   "source": [
    "Train with shape data "
   ]
  },
  {
   "cell_type": "code",
   "execution_count": 21,
   "metadata": {},
   "outputs": [],
   "source": [
    "def unet_for_shape(input_shape):\n",
    "    inputs = Input(input_shape)\n",
    "\n",
    "    conv1 = Conv2D(64, 3, padding='same')(inputs)\n",
    "    conv1 = BatchNormalization()(conv1)\n",
    "    conv1 = Activation('relu')(conv1)\n",
    "    conv1 = Conv2D(64, 3, padding='same')(conv1)\n",
    "    conv1 = BatchNormalization()(conv1)\n",
    "    conv1 = Activation('relu')(conv1)\n",
    "    conv1 = Conv2D(64, 3, padding='same')(conv1)\n",
    "    conv1 = BatchNormalization()(conv1)\n",
    "    conv1 = Activation('relu')(conv1)\n",
    "    pool1 = MaxPooling2D(pool_size=(2, 2))(conv1)\n",
    "\n",
    "    conv2 = Conv2D(128, 3, padding='same')(pool1)\n",
    "    conv2 = BatchNormalization()(conv2)\n",
    "    conv2 = Activation('relu')(conv2)\n",
    "    conv2 = Conv2D(128, 3, padding='same')(conv2)\n",
    "    conv2 = BatchNormalization()(conv2)\n",
    "    conv2 = Activation('relu')(conv2)\n",
    "    pool2 = MaxPooling2D(pool_size=(2, 2))(conv2)\n",
    "\n",
    "    # Bottleneck\n",
    "    bottleneck = Conv2D(256, 3, padding='same')(pool2)\n",
    "    bottleneck = BatchNormalization()(bottleneck)\n",
    "    bottleneck = Activation('relu')(bottleneck)\n",
    "    bottleneck = Conv2D(256, 3, padding='same')(bottleneck)\n",
    "    bottleneck = BatchNormalization()(bottleneck)\n",
    "    bottleneck = Activation('relu')(bottleneck)\n",
    "\n",
    "    # Expansive Path\n",
    "    up1 = Conv2DTranspose(128, (3, 3), strides=(2, 2), padding='same')(bottleneck)\n",
    "    skip1 = Concatenate(axis=-1)([conv2, up1])\n",
    "    conv3 = Conv2D(128, 3, padding='same')(skip1)\n",
    "    conv3 = BatchNormalization()(conv3)\n",
    "    conv3 = Activation('relu')(conv3)\n",
    "    conv3 = Conv2D(128, 3, padding='same')(conv3)\n",
    "    conv3 = BatchNormalization()(conv3)\n",
    "    conv3 = Activation('relu')(conv3)\n",
    "\n",
    "    up2 = Conv2DTranspose(64, (3, 3), strides=(2, 2), padding='same')(conv3)\n",
    "    skip2 = Concatenate(axis=-1)([conv1, up2])\n",
    "    conv4 = Conv2D(64, 3, padding='same')(skip2)\n",
    "    conv4 = BatchNormalization()(conv4)\n",
    "    conv4 = Activation('relu')(conv4)\n",
    "    conv4 = Conv2D(64, 3, padding='same')(conv4)\n",
    "    conv4 = BatchNormalization()(conv4)\n",
    "    conv4 = Activation('relu')(conv4)\n",
    "\n",
    "    up3 = Conv2DTranspose(32, (3, 3), strides=(2, 2), padding='same')(conv4)\n",
    "    # skip2 = Concatenate(axis=-1)([conv1, up2])\n",
    "    conv5 = Conv2D(32, 3, padding='same')(up3)\n",
    "    conv5 = BatchNormalization()(conv5)\n",
    "    conv5 = Activation('relu')(conv5)\n",
    "    conv5 = Conv2D(32, 3, padding='same')(conv5)\n",
    "    conv5 = BatchNormalization()(conv5)\n",
    "    conv5 = Activation('relu')(conv5)\n",
    "\n",
    "    # conv5 = Conv2DTranspose(1, (3, 3), strides=(2, 2), padding='same')(conv4)\n",
    "\n",
    "    output = Conv2D(1, 1, activation='sigmoid')(conv5)\n",
    "\n",
    "    # Cropping to the desired size (35, 35)\n",
    "    # cropped_output = Cropping2D(((7, 6), (7, 6)))(output)\n",
    "\n",
    "    model = Model(inputs=inputs, outputs=output)\n",
    "\n",
    "    return model"
   ]
  },
  {
   "cell_type": "code",
   "execution_count": 22,
   "metadata": {},
   "outputs": [
    {
     "name": "stdout",
     "output_type": "stream",
     "text": [
      "Model: \"model_1\"\n",
      "__________________________________________________________________________________________________\n",
      " Layer (type)                   Output Shape         Param #     Connected to                     \n",
      "==================================================================================================\n",
      " input_2 (InputLayer)           [(None, 24, 24, 1)]  0           []                               \n",
      "                                                                                                  \n",
      " conv2d_14 (Conv2D)             (None, 24, 24, 64)   640         ['input_2[0][0]']                \n",
      "                                                                                                  \n",
      " batch_normalization_13 (BatchN  (None, 24, 24, 64)  256         ['conv2d_14[0][0]']              \n",
      " ormalization)                                                                                    \n",
      "                                                                                                  \n",
      " activation_13 (Activation)     (None, 24, 24, 64)   0           ['batch_normalization_13[0][0]'] \n",
      "                                                                                                  \n",
      " conv2d_15 (Conv2D)             (None, 24, 24, 64)   36928       ['activation_13[0][0]']          \n",
      "                                                                                                  \n",
      " batch_normalization_14 (BatchN  (None, 24, 24, 64)  256         ['conv2d_15[0][0]']              \n",
      " ormalization)                                                                                    \n",
      "                                                                                                  \n",
      " activation_14 (Activation)     (None, 24, 24, 64)   0           ['batch_normalization_14[0][0]'] \n",
      "                                                                                                  \n",
      " conv2d_16 (Conv2D)             (None, 24, 24, 64)   36928       ['activation_14[0][0]']          \n",
      "                                                                                                  \n",
      " batch_normalization_15 (BatchN  (None, 24, 24, 64)  256         ['conv2d_16[0][0]']              \n",
      " ormalization)                                                                                    \n",
      "                                                                                                  \n",
      " activation_15 (Activation)     (None, 24, 24, 64)   0           ['batch_normalization_15[0][0]'] \n",
      "                                                                                                  \n",
      " max_pooling2d_2 (MaxPooling2D)  (None, 12, 12, 64)  0           ['activation_15[0][0]']          \n",
      "                                                                                                  \n",
      " conv2d_17 (Conv2D)             (None, 12, 12, 128)  73856       ['max_pooling2d_2[0][0]']        \n",
      "                                                                                                  \n",
      " batch_normalization_16 (BatchN  (None, 12, 12, 128)  512        ['conv2d_17[0][0]']              \n",
      " ormalization)                                                                                    \n",
      "                                                                                                  \n",
      " activation_16 (Activation)     (None, 12, 12, 128)  0           ['batch_normalization_16[0][0]'] \n",
      "                                                                                                  \n",
      " conv2d_18 (Conv2D)             (None, 12, 12, 128)  147584      ['activation_16[0][0]']          \n",
      "                                                                                                  \n",
      " batch_normalization_17 (BatchN  (None, 12, 12, 128)  512        ['conv2d_18[0][0]']              \n",
      " ormalization)                                                                                    \n",
      "                                                                                                  \n",
      " activation_17 (Activation)     (None, 12, 12, 128)  0           ['batch_normalization_17[0][0]'] \n",
      "                                                                                                  \n",
      " max_pooling2d_3 (MaxPooling2D)  (None, 6, 6, 128)   0           ['activation_17[0][0]']          \n",
      "                                                                                                  \n",
      " conv2d_19 (Conv2D)             (None, 6, 6, 256)    295168      ['max_pooling2d_3[0][0]']        \n",
      "                                                                                                  \n",
      " batch_normalization_18 (BatchN  (None, 6, 6, 256)   1024        ['conv2d_19[0][0]']              \n",
      " ormalization)                                                                                    \n",
      "                                                                                                  \n",
      " activation_18 (Activation)     (None, 6, 6, 256)    0           ['batch_normalization_18[0][0]'] \n",
      "                                                                                                  \n",
      " conv2d_20 (Conv2D)             (None, 6, 6, 256)    590080      ['activation_18[0][0]']          \n",
      "                                                                                                  \n",
      " batch_normalization_19 (BatchN  (None, 6, 6, 256)   1024        ['conv2d_20[0][0]']              \n",
      " ormalization)                                                                                    \n",
      "                                                                                                  \n",
      " activation_19 (Activation)     (None, 6, 6, 256)    0           ['batch_normalization_19[0][0]'] \n",
      "                                                                                                  \n",
      " conv2d_transpose_3 (Conv2DTran  (None, 12, 12, 128)  295040     ['activation_19[0][0]']          \n",
      " spose)                                                                                           \n",
      "                                                                                                  \n",
      " concatenate_2 (Concatenate)    (None, 12, 12, 256)  0           ['activation_17[0][0]',          \n",
      "                                                                  'conv2d_transpose_3[0][0]']     \n",
      "                                                                                                  \n",
      " conv2d_21 (Conv2D)             (None, 12, 12, 128)  295040      ['concatenate_2[0][0]']          \n",
      "                                                                                                  \n",
      " batch_normalization_20 (BatchN  (None, 12, 12, 128)  512        ['conv2d_21[0][0]']              \n",
      " ormalization)                                                                                    \n",
      "                                                                                                  \n",
      " activation_20 (Activation)     (None, 12, 12, 128)  0           ['batch_normalization_20[0][0]'] \n",
      "                                                                                                  \n",
      " conv2d_22 (Conv2D)             (None, 12, 12, 128)  147584      ['activation_20[0][0]']          \n",
      "                                                                                                  \n",
      " batch_normalization_21 (BatchN  (None, 12, 12, 128)  512        ['conv2d_22[0][0]']              \n",
      " ormalization)                                                                                    \n",
      "                                                                                                  \n",
      " activation_21 (Activation)     (None, 12, 12, 128)  0           ['batch_normalization_21[0][0]'] \n",
      "                                                                                                  \n",
      " conv2d_transpose_4 (Conv2DTran  (None, 24, 24, 64)  73792       ['activation_21[0][0]']          \n",
      " spose)                                                                                           \n",
      "                                                                                                  \n",
      " concatenate_3 (Concatenate)    (None, 24, 24, 128)  0           ['activation_15[0][0]',          \n",
      "                                                                  'conv2d_transpose_4[0][0]']     \n",
      "                                                                                                  \n",
      " conv2d_23 (Conv2D)             (None, 24, 24, 64)   73792       ['concatenate_3[0][0]']          \n",
      "                                                                                                  \n",
      " batch_normalization_22 (BatchN  (None, 24, 24, 64)  256         ['conv2d_23[0][0]']              \n",
      " ormalization)                                                                                    \n",
      "                                                                                                  \n",
      " activation_22 (Activation)     (None, 24, 24, 64)   0           ['batch_normalization_22[0][0]'] \n",
      "                                                                                                  \n",
      " conv2d_24 (Conv2D)             (None, 24, 24, 64)   36928       ['activation_22[0][0]']          \n",
      "                                                                                                  \n",
      " batch_normalization_23 (BatchN  (None, 24, 24, 64)  256         ['conv2d_24[0][0]']              \n",
      " ormalization)                                                                                    \n",
      "                                                                                                  \n",
      " activation_23 (Activation)     (None, 24, 24, 64)   0           ['batch_normalization_23[0][0]'] \n",
      "                                                                                                  \n",
      " conv2d_transpose_5 (Conv2DTran  (None, 48, 48, 32)  18464       ['activation_23[0][0]']          \n",
      " spose)                                                                                           \n",
      "                                                                                                  \n",
      " conv2d_25 (Conv2D)             (None, 48, 48, 32)   9248        ['conv2d_transpose_5[0][0]']     \n",
      "                                                                                                  \n",
      " batch_normalization_24 (BatchN  (None, 48, 48, 32)  128         ['conv2d_25[0][0]']              \n",
      " ormalization)                                                                                    \n",
      "                                                                                                  \n",
      " activation_24 (Activation)     (None, 48, 48, 32)   0           ['batch_normalization_24[0][0]'] \n",
      "                                                                                                  \n",
      " conv2d_26 (Conv2D)             (None, 48, 48, 32)   9248        ['activation_24[0][0]']          \n",
      "                                                                                                  \n",
      " batch_normalization_25 (BatchN  (None, 48, 48, 32)  128         ['conv2d_26[0][0]']              \n",
      " ormalization)                                                                                    \n",
      "                                                                                                  \n",
      " activation_25 (Activation)     (None, 48, 48, 32)   0           ['batch_normalization_25[0][0]'] \n",
      "                                                                                                  \n",
      " conv2d_27 (Conv2D)             (None, 48, 48, 1)    33          ['activation_25[0][0]']          \n",
      "                                                                                                  \n",
      "==================================================================================================\n",
      "Total params: 2,145,985\n",
      "Trainable params: 2,143,169\n",
      "Non-trainable params: 2,816\n",
      "__________________________________________________________________________________________________\n"
     ]
    }
   ],
   "source": [
    "inputCirc_shape = fieldCirc_train.shape[1:]\n",
    "model_shape = unet_for_shape(inputCirc_shape)\n",
    "model_shape.summary()"
   ]
  },
  {
   "cell_type": "code",
   "execution_count": 23,
   "metadata": {},
   "outputs": [
    {
     "name": "stdout",
     "output_type": "stream",
     "text": [
      "Epoch 1/200\n",
      "10/10 [==============================] - 7s 458ms/step - loss: 0.1294 - accuracy: 0.8371 - val_loss: 0.8270 - val_accuracy: 0.1607\n",
      "Epoch 2/200\n",
      "10/10 [==============================] - 4s 375ms/step - loss: 0.0705 - accuracy: 0.9040 - val_loss: 0.7962 - val_accuracy: 0.1753\n",
      "Epoch 3/200\n",
      "10/10 [==============================] - 4s 375ms/step - loss: 0.0597 - accuracy: 0.9198 - val_loss: 0.6164 - val_accuracy: 0.3232\n",
      "Epoch 4/200\n",
      "10/10 [==============================] - 4s 374ms/step - loss: 0.0538 - accuracy: 0.9277 - val_loss: 0.7780 - val_accuracy: 0.2107\n",
      "Epoch 5/200\n",
      "10/10 [==============================] - 4s 368ms/step - loss: 0.0429 - accuracy: 0.9426 - val_loss: 0.8360 - val_accuracy: 0.1619\n",
      "Epoch 6/200\n",
      "10/10 [==============================] - 4s 377ms/step - loss: 0.0417 - accuracy: 0.9429 - val_loss: 0.8122 - val_accuracy: 0.1793\n",
      "Epoch 7/200\n",
      "10/10 [==============================] - 4s 368ms/step - loss: 0.0412 - accuracy: 0.9427 - val_loss: 0.7285 - val_accuracy: 0.2475\n",
      "Epoch 8/200\n",
      "10/10 [==============================] - 4s 372ms/step - loss: 0.0340 - accuracy: 0.9544 - val_loss: 0.6030 - val_accuracy: 0.3668\n",
      "Epoch 9/200\n",
      "10/10 [==============================] - 4s 372ms/step - loss: 0.0329 - accuracy: 0.9559 - val_loss: 0.6424 - val_accuracy: 0.3288\n",
      "Epoch 10/200\n",
      "10/10 [==============================] - 4s 374ms/step - loss: 0.0367 - accuracy: 0.9497 - val_loss: 0.5030 - val_accuracy: 0.4631\n",
      "Epoch 11/200\n",
      "10/10 [==============================] - 4s 408ms/step - loss: 0.0351 - accuracy: 0.9518 - val_loss: 0.4260 - val_accuracy: 0.5397\n",
      "Epoch 12/200\n",
      "10/10 [==============================] - 4s 432ms/step - loss: 0.0329 - accuracy: 0.9549 - val_loss: 0.3094 - val_accuracy: 0.6593\n",
      "Epoch 13/200\n",
      "10/10 [==============================] - 5s 460ms/step - loss: 0.0275 - accuracy: 0.9624 - val_loss: 0.2820 - val_accuracy: 0.6891\n",
      "Epoch 14/200\n",
      "10/10 [==============================] - 4s 438ms/step - loss: 0.0240 - accuracy: 0.9679 - val_loss: 0.2347 - val_accuracy: 0.7425\n",
      "Epoch 15/200\n",
      "10/10 [==============================] - 4s 423ms/step - loss: 0.0251 - accuracy: 0.9657 - val_loss: 0.2509 - val_accuracy: 0.7217\n",
      "Epoch 16/200\n",
      "10/10 [==============================] - 4s 417ms/step - loss: 0.0270 - accuracy: 0.9628 - val_loss: 0.2569 - val_accuracy: 0.7114\n",
      "Epoch 17/200\n",
      "10/10 [==============================] - 4s 426ms/step - loss: 0.0269 - accuracy: 0.9631 - val_loss: 0.1935 - val_accuracy: 0.7777\n",
      "Epoch 18/200\n",
      "10/10 [==============================] - 4s 441ms/step - loss: 0.0266 - accuracy: 0.9633 - val_loss: 0.1788 - val_accuracy: 0.7937\n",
      "Epoch 19/200\n",
      "10/10 [==============================] - 6s 581ms/step - loss: 0.0266 - accuracy: 0.9636 - val_loss: 0.1822 - val_accuracy: 0.7921\n"
     ]
    },
    {
     "data": {
      "text/plain": [
       "<keras.callbacks.History at 0x248f2582500>"
      ]
     },
     "execution_count": 23,
     "metadata": {},
     "output_type": "execute_result"
    }
   ],
   "source": [
    "# optimizer = tf.keras.optimizers.Adam(learning_rate=init_lr)\n",
    "model_shape.compile(optimizer = optimizer, loss = 'mean_squared_error', metrics = 'accuracy')\n",
    "model_shape.fit(x = fieldCirc_train, y = targetCirc_train, validation_data=(fieldCirc_val, targetCirc_val), batch_size = 20, epochs = total_epoch, \n",
    "               callbacks = [EarlyStopping(monitor='loss',patience=5)])"
   ]
  },
  {
   "cell_type": "code",
   "execution_count": 24,
   "metadata": {},
   "outputs": [
    {
     "name": "stdout",
     "output_type": "stream",
     "text": [
      "2/2 [==============================] - 1s 122ms/step\n"
     ]
    }
   ],
   "source": [
    "pred3 = model_shape.predict(fieldCirc_test)"
   ]
  },
  {
   "cell_type": "code",
   "execution_count": 27,
   "metadata": {},
   "outputs": [
    {
     "data": {
      "image/png": "[encoded data removed]",
      "text/plain": [
       "<Figure size 1728x1728 with 3 Axes>"
      ]
     },
     "metadata": {
      "needs_background": "light"
     },
     "output_type": "display_data"
    }
   ],
   "source": [
    "fig, axs = plt.subplots(1, 3, figsize=(24, 24))\n",
    "\n",
    "axs[0].matshow(fieldCirc_test[3])\n",
    "axs[1].matshow(targetCirc_test[3])\n",
    "axs[2].matshow(pred3[3])\n",
    "\n",
    "plt.show()"
   ]
  },
  {
   "cell_type": "code",
   "execution_count": 28,
   "metadata": {},
   "outputs": [
    {
     "name": "stdout",
     "output_type": "stream",
     "text": [
      "4/4 [==============================] - 1s 111ms/step\n"
     ]
    }
   ],
   "source": [
    "pred4 = model_shape.predict(fieldMNIST_test)"
   ]
  },
  {
   "cell_type": "code",
   "execution_count": 29,
   "metadata": {},
   "outputs": [
    {
     "data": {
      "image/png": "[encoded data removed]",
      "text/plain": [
       "<Figure size 1728x1728 with 3 Axes>"
      ]
     },
     "metadata": {
      "needs_background": "light"
     },
     "output_type": "display_data"
    }
   ],
   "source": [
    "fig, axs = plt.subplots(1, 3, figsize=(24, 24))\n",
    "\n",
    "axs[0].matshow(fieldMNIST_test[1])\n",
    "axs[1].matshow(targetMNIST_test[1])\n",
    "axs[2].matshow(pred4[1])\n",
    "\n",
    "plt.show()"
   ]
  },
  {
   "cell_type": "code",
   "execution_count": null,
   "metadata": {},
   "outputs": [],
   "source": []
  },
  {
   "cell_type": "code",
   "execution_count": null,
   "metadata": {},
   "outputs": [],
   "source": []
  },
  {
   "cell_type": "code",
   "execution_count": null,
   "metadata": {},
   "outputs": [],
   "source": []
  },
  {
   "cell_type": "code",
   "execution_count": null,
   "metadata": {},
   "outputs": [],
   "source": []
  }
 ],
 "metadata": {
  "kernelspec": {
   "display_name": "Python 3",
   "language": "python",
   "name": "python3"
  },
  "language_info": {
   "codemirror_mode": {
    "name": "ipython",
    "version": 3
   },
   "file_extension": ".py",
   "mimetype": "text/x-python",
   "name": "python",
   "nbconvert_exporter": "python",
   "pygments_lexer": "ipython3",
   "version": "3.10.4"
  }
 },
 "nbformat": 4,
 "nbformat_minor": 2
}
