{
 "cells": [
  {
   "cell_type": "markdown",
   "metadata": {},
   "source": [
    "## UNET CNN"
   ]
  },
  {
   "cell_type": "code",
   "execution_count": 1,
   "metadata": {},
   "outputs": [],
   "source": [
    "from ReadData import *\n",
    "import matplotlib.pyplot as plt\n",
    "import numpy as np\n",
    "# import pandas as pd\n",
    "from sklearn.model_selection import train_test_split\n",
    "import tensorflow as tf\n",
    "\n",
    "from tensorflow.keras.models import Model\n",
    "from tensorflow.keras.layers import Conv2D, MaxPooling2D, Conv2DTranspose, BatchNormalization, Activation, Input, Concatenate, Flatten, Reshape, Dense\n",
    "from tensorflow.keras.callbacks import EarlyStopping"
   ]
  },
  {
   "cell_type": "code",
   "execution_count": 2,
   "metadata": {},
   "outputs": [],
   "source": [
    "def readData(path, getTargetName = False):\n",
    "    # print(getTargetName)\n",
    "    data = getEMData(path)\n",
    "    target = []\n",
    "    field = []\n",
    "    freq = []\n",
    "    if getTargetName:\n",
    "        targetName = []\n",
    "        upper_case = [char for char in path if char.isupper()]\n",
    "        target_name = path[path.index(upper_case[0]):path.index(upper_case[1])]\n",
    "\n",
    "    for i in range(0, len(data)):\n",
    "        target.append(data[i].target)\n",
    "        field.append(data[i].Esct.real)\n",
    "        freq.append(data[i].freq)\n",
    "        if getTargetName: targetName.append(target_name)\n",
    "\n",
    "    field = np.array(field)\n",
    "    target = np.array(target)\n",
    "    freq = np.array(freq)\n",
    "    if getTargetName: targetName = np.array(targetName)\n",
    "\n",
    "    result = (field, target, freq)\n",
    "    if getTargetName: result = (field, target, freq, targetName)\n",
    "    return result"
   ]
  },
  {
   "cell_type": "code",
   "execution_count": 3,
   "metadata": {},
   "outputs": [
    {
     "name": "stdout",
     "output_type": "stream",
     "text": [
      "Read 630 samples\n"
     ]
    }
   ],
   "source": [
    "fieldMNIST, targetMNIST, freqMNIST = readData(path = \"./testing/\", getTargetName=False)\n",
    "\n",
    "fieldMNIST_transformed = np.reshape(fieldMNIST, (fieldMNIST.shape[0], fieldMNIST.shape[1], fieldMNIST.shape[2], 1))\n",
    "targetMNIST_transformed = np.reshape(targetMNIST, (targetMNIST.shape[0], targetMNIST.shape[1], targetMNIST.shape[2], 1))\n",
    "\n",
    "fieldMNIST_train, fieldMNIST_test, targetMNIST_train, targetMNIST_test= train_test_split(\n",
    "    fieldMNIST_transformed, targetMNIST_transformed, test_size=0.20, random_state=42)\n",
    "\n",
    "fieldMNIST_train, fieldMNIST_val, targetMNIST_train, targetMNIST_val= train_test_split(\n",
    "    fieldMNIST_train, targetMNIST_train, test_size=0.20, random_state=42)"
   ]
  },
  {
   "cell_type": "code",
   "execution_count": 4,
   "metadata": {},
   "outputs": [
    {
     "data": {
      "text/plain": [
       "[(403, 24, 24, 1), (403, 28, 28, 1), (101, 24, 24, 1), (101, 28, 28, 1)]"
      ]
     },
     "execution_count": 4,
     "metadata": {},
     "output_type": "execute_result"
    }
   ],
   "source": [
    "[fieldMNIST_train.shape,targetMNIST_train.shape, fieldMNIST_val.shape, targetMNIST_val.shape]"
   ]
  },
  {
   "cell_type": "code",
   "execution_count": 5,
   "metadata": {},
   "outputs": [],
   "source": [
    "fieldMNIST_train_padded = np.pad(fieldMNIST_train, ((0, 0), (2, 2), (2, 2), (0, 0)), 'constant')\n",
    "fieldMNIST_val_padded = np.pad(fieldMNIST_val, ((0, 0), (2, 2), (2, 2), (0, 0)), 'constant')\n",
    "fieldMNIST_test_padded = np.pad(fieldMNIST_test, ((0, 0), (2, 2), (2, 2), (0, 0)), 'constant')"
   ]
  },
  {
   "cell_type": "code",
   "execution_count": 6,
   "metadata": {},
   "outputs": [
    {
     "data": {
      "text/plain": [
       "[(403, 28, 28, 1), (403, 28, 28, 1), (101, 28, 28, 1), (101, 28, 28, 1)]"
      ]
     },
     "execution_count": 6,
     "metadata": {},
     "output_type": "execute_result"
    }
   ],
   "source": [
    "[fieldMNIST_train_padded.shape,targetMNIST_train.shape, fieldMNIST_val_padded.shape, targetMNIST_val.shape]"
   ]
  },
  {
   "cell_type": "code",
   "execution_count": 14,
   "metadata": {},
   "outputs": [],
   "source": [
    "def unet_padded(input_shape):\n",
    "    inputs = Input(input_shape)\n",
    "\n",
    "    conv1 = Conv2D(64, 3, padding='same')(inputs)\n",
    "    conv1 = BatchNormalization()(conv1)\n",
    "    conv1 = Activation('relu')(conv1)\n",
    "    conv1 = Conv2D(64, 3, padding='same')(conv1)\n",
    "    conv1 = BatchNormalization()(conv1)\n",
    "    conv1 = Activation('relu')(conv1)\n",
    "    conv1 = Conv2D(64, 3, padding='same')(conv1)\n",
    "    conv1 = BatchNormalization()(conv1)\n",
    "    conv1 = Activation('relu')(conv1)\n",
    "    pool1 = MaxPooling2D(pool_size=(2, 2))(conv1)\n",
    "\n",
    "    conv2 = Conv2D(128, 3, padding='same')(pool1)\n",
    "    conv2 = BatchNormalization()(conv2)\n",
    "    conv2 = Activation('relu')(conv2)\n",
    "    conv2 = Conv2D(128, 3, padding='same')(conv2)\n",
    "    conv2 = BatchNormalization()(conv2)\n",
    "    conv2 = Activation('relu')(conv2)\n",
    "    pool2 = MaxPooling2D(pool_size=(2, 2))(conv2)\n",
    "\n",
    "    # Bottleneck\n",
    "    bottleneck = Conv2D(256, 3, padding='same')(pool2)\n",
    "    bottleneck = BatchNormalization()(bottleneck)\n",
    "    bottleneck = Activation('relu')(bottleneck)\n",
    "    bottleneck = Conv2D(256, 3, padding='same')(bottleneck)\n",
    "    bottleneck = BatchNormalization()(bottleneck)\n",
    "    bottleneck = Activation('relu')(bottleneck)\n",
    "\n",
    "    # Expansive Path\n",
    "    up1 = Conv2DTranspose(128, (3, 3), strides=(2, 2), padding='same')(bottleneck)\n",
    "    skip1 = Concatenate(axis=-1)([conv2, up1])\n",
    "    conv3 = Conv2D(128, 3, padding='same')(skip1)\n",
    "    conv3 = BatchNormalization()(conv3)\n",
    "    conv3 = Activation('relu')(conv3)\n",
    "    conv3 = Conv2D(128, 3, padding='same')(conv3)\n",
    "    conv3 = BatchNormalization()(conv3)\n",
    "    conv3 = Activation('relu')(conv3)\n",
    "\n",
    "    up2 = Conv2DTranspose(64, (3, 3), strides=(2, 2), padding='same')(conv3)\n",
    "    skip2 = Concatenate(axis=-1)([conv1, up2])\n",
    "    conv4 = Conv2D(64, 3, padding='same')(skip2)\n",
    "    conv4 = BatchNormalization()(conv4)\n",
    "    conv4 = Activation('relu')(conv4)\n",
    "    conv4 = Conv2D(64, 3, padding='same')(conv4)\n",
    "    conv4 = BatchNormalization()(conv4)\n",
    "    conv4 = Activation('relu')(conv4)\n",
    "\n",
    "    # up3 = Conv2DTranspose(32, (3, 3), strides=(2, 2), padding='same')(conv4)\n",
    "    # # skip2 = Concatenate(axis=-1)([conv1, up2])\n",
    "    # conv5 = Conv2D(32, 3, padding='same')(up3)\n",
    "    # conv5 = BatchNormalization()(conv5)\n",
    "    # conv5 = Activation('relu')(conv5)\n",
    "    # conv5 = Conv2D(32, 3, padding='same')(conv5)\n",
    "    # conv5 = BatchNormalization()(conv5)\n",
    "    # conv5 = Activation('relu')(conv5)\n",
    "\n",
    "    output = Conv2D(1, 1, activation='sigmoid')(conv4)\n",
    "\n",
    "    # output = Conv2D(n_class, 1, activation='softmax')(conv4)\n",
    "\n",
    "    # Cropping to the desired size (35, 35)\n",
    "    # cropped_output = Cropping2D(((7, 6), (7, 6)))(output)\n",
    "    # skip3 = Concatenate(axis=-1)([input, cropped_output])\n",
    "\n",
    "\n",
    "    model = Model(inputs=inputs, outputs=output)\n",
    "\n",
    "    return model"
   ]
  },
  {
   "cell_type": "code",
   "execution_count": 15,
   "metadata": {},
   "outputs": [
    {
     "name": "stdout",
     "output_type": "stream",
     "text": [
      "Model: \"model_1\"\n",
      "__________________________________________________________________________________________________\n",
      " Layer (type)                   Output Shape         Param #     Connected to                     \n",
      "==================================================================================================\n",
      " input_2 (InputLayer)           [(None, 28, 28, 1)]  0           []                               \n",
      "                                                                                                  \n",
      " conv2d_12 (Conv2D)             (None, 28, 28, 64)   640         ['input_2[0][0]']                \n",
      "                                                                                                  \n",
      " batch_normalization_11 (BatchN  (None, 28, 28, 64)  256         ['conv2d_12[0][0]']              \n",
      " ormalization)                                                                                    \n",
      "                                                                                                  \n",
      " activation_11 (Activation)     (None, 28, 28, 64)   0           ['batch_normalization_11[0][0]'] \n",
      "                                                                                                  \n",
      " conv2d_13 (Conv2D)             (None, 28, 28, 64)   36928       ['activation_11[0][0]']          \n",
      "                                                                                                  \n",
      " batch_normalization_12 (BatchN  (None, 28, 28, 64)  256         ['conv2d_13[0][0]']              \n",
      " ormalization)                                                                                    \n",
      "                                                                                                  \n",
      " activation_12 (Activation)     (None, 28, 28, 64)   0           ['batch_normalization_12[0][0]'] \n",
      "                                                                                                  \n",
      " conv2d_14 (Conv2D)             (None, 28, 28, 64)   36928       ['activation_12[0][0]']          \n",
      "                                                                                                  \n",
      " batch_normalization_13 (BatchN  (None, 28, 28, 64)  256         ['conv2d_14[0][0]']              \n",
      " ormalization)                                                                                    \n",
      "                                                                                                  \n",
      " activation_13 (Activation)     (None, 28, 28, 64)   0           ['batch_normalization_13[0][0]'] \n",
      "                                                                                                  \n",
      " max_pooling2d_2 (MaxPooling2D)  (None, 14, 14, 64)  0           ['activation_13[0][0]']          \n",
      "                                                                                                  \n",
      " conv2d_15 (Conv2D)             (None, 14, 14, 128)  73856       ['max_pooling2d_2[0][0]']        \n",
      "                                                                                                  \n",
      " batch_normalization_14 (BatchN  (None, 14, 14, 128)  512        ['conv2d_15[0][0]']              \n",
      " ormalization)                                                                                    \n",
      "                                                                                                  \n",
      " activation_14 (Activation)     (None, 14, 14, 128)  0           ['batch_normalization_14[0][0]'] \n",
      "                                                                                                  \n",
      " conv2d_16 (Conv2D)             (None, 14, 14, 128)  147584      ['activation_14[0][0]']          \n",
      "                                                                                                  \n",
      " batch_normalization_15 (BatchN  (None, 14, 14, 128)  512        ['conv2d_16[0][0]']              \n",
      " ormalization)                                                                                    \n",
      "                                                                                                  \n",
      " activation_15 (Activation)     (None, 14, 14, 128)  0           ['batch_normalization_15[0][0]'] \n",
      "                                                                                                  \n",
      " max_pooling2d_3 (MaxPooling2D)  (None, 7, 7, 128)   0           ['activation_15[0][0]']          \n",
      "                                                                                                  \n",
      " conv2d_17 (Conv2D)             (None, 7, 7, 256)    295168      ['max_pooling2d_3[0][0]']        \n",
      "                                                                                                  \n",
      " batch_normalization_16 (BatchN  (None, 7, 7, 256)   1024        ['conv2d_17[0][0]']              \n",
      " ormalization)                                                                                    \n",
      "                                                                                                  \n",
      " activation_16 (Activation)     (None, 7, 7, 256)    0           ['batch_normalization_16[0][0]'] \n",
      "                                                                                                  \n",
      " conv2d_18 (Conv2D)             (None, 7, 7, 256)    590080      ['activation_16[0][0]']          \n",
      "                                                                                                  \n",
      " batch_normalization_17 (BatchN  (None, 7, 7, 256)   1024        ['conv2d_18[0][0]']              \n",
      " ormalization)                                                                                    \n",
      "                                                                                                  \n",
      " activation_17 (Activation)     (None, 7, 7, 256)    0           ['batch_normalization_17[0][0]'] \n",
      "                                                                                                  \n",
      " conv2d_transpose_2 (Conv2DTran  (None, 14, 14, 128)  295040     ['activation_17[0][0]']          \n",
      " spose)                                                                                           \n",
      "                                                                                                  \n",
      " concatenate_2 (Concatenate)    (None, 14, 14, 256)  0           ['activation_15[0][0]',          \n",
      "                                                                  'conv2d_transpose_2[0][0]']     \n",
      "                                                                                                  \n",
      " conv2d_19 (Conv2D)             (None, 14, 14, 128)  295040      ['concatenate_2[0][0]']          \n",
      "                                                                                                  \n",
      " batch_normalization_18 (BatchN  (None, 14, 14, 128)  512        ['conv2d_19[0][0]']              \n",
      " ormalization)                                                                                    \n",
      "                                                                                                  \n",
      " activation_18 (Activation)     (None, 14, 14, 128)  0           ['batch_normalization_18[0][0]'] \n",
      "                                                                                                  \n",
      " conv2d_20 (Conv2D)             (None, 14, 14, 128)  147584      ['activation_18[0][0]']          \n",
      "                                                                                                  \n",
      " batch_normalization_19 (BatchN  (None, 14, 14, 128)  512        ['conv2d_20[0][0]']              \n",
      " ormalization)                                                                                    \n",
      "                                                                                                  \n",
      " activation_19 (Activation)     (None, 14, 14, 128)  0           ['batch_normalization_19[0][0]'] \n",
      "                                                                                                  \n",
      " conv2d_transpose_3 (Conv2DTran  (None, 28, 28, 64)  73792       ['activation_19[0][0]']          \n",
      " spose)                                                                                           \n",
      "                                                                                                  \n",
      " concatenate_3 (Concatenate)    (None, 28, 28, 128)  0           ['activation_13[0][0]',          \n",
      "                                                                  'conv2d_transpose_3[0][0]']     \n",
      "                                                                                                  \n",
      " conv2d_21 (Conv2D)             (None, 28, 28, 64)   73792       ['concatenate_3[0][0]']          \n",
      "                                                                                                  \n",
      " batch_normalization_20 (BatchN  (None, 28, 28, 64)  256         ['conv2d_21[0][0]']              \n",
      " ormalization)                                                                                    \n",
      "                                                                                                  \n",
      " activation_20 (Activation)     (None, 28, 28, 64)   0           ['batch_normalization_20[0][0]'] \n",
      "                                                                                                  \n",
      " conv2d_22 (Conv2D)             (None, 28, 28, 64)   36928       ['activation_20[0][0]']          \n",
      "                                                                                                  \n",
      " batch_normalization_21 (BatchN  (None, 28, 28, 64)  256         ['conv2d_22[0][0]']              \n",
      " ormalization)                                                                                    \n",
      "                                                                                                  \n",
      " activation_21 (Activation)     (None, 28, 28, 64)   0           ['batch_normalization_21[0][0]'] \n",
      "                                                                                                  \n",
      " conv2d_23 (Conv2D)             (None, 28, 28, 1)    65          ['activation_21[0][0]']          \n",
      "                                                                                                  \n",
      "==================================================================================================\n",
      "Total params: 2,108,801\n",
      "Trainable params: 2,106,113\n",
      "Non-trainable params: 2,688\n",
      "__________________________________________________________________________________________________\n"
     ]
    }
   ],
   "source": [
    "inputMNIST_shape_padded = fieldMNIST_train_padded.shape[1:]\n",
    "model_mnist_padded = unet_padded(inputMNIST_shape_padded)\n",
    "model_mnist_padded.summary()"
   ]
  },
  {
   "cell_type": "markdown",
   "metadata": {},
   "source": [
    "Train on MNIST then test on shape (freq 1e9 and permitivity 2)"
   ]
  },
  {
   "cell_type": "code",
   "execution_count": 17,
   "metadata": {},
   "outputs": [],
   "source": [
    "init_lr = 1e-4\n",
    "# final_lr = 1e-8\n",
    "total_epoch = 200"
   ]
  },
  {
   "cell_type": "code",
   "execution_count": 18,
   "metadata": {},
   "outputs": [
    {
     "name": "stdout",
     "output_type": "stream",
     "text": [
      "Epoch 1/200\n",
      "21/21 [==============================] - ETA: 0s - loss: 0.3107 - accuracy: 0.4271"
     ]
    },
    {
     "name": "stderr",
     "output_type": "stream",
     "text": [
      "WARNING:absl:Found untraced functions such as _jit_compiled_convolution_op, _jit_compiled_convolution_op, _jit_compiled_convolution_op, _jit_compiled_convolution_op, _jit_compiled_convolution_op while saving (showing 5 of 14). These functions will not be directly callable after loading.\n"
     ]
    },
    {
     "name": "stdout",
     "output_type": "stream",
     "text": [
      "INFO:tensorflow:Assets written to: ./model_weights\\assets\n"
     ]
    },
    {
     "name": "stderr",
     "output_type": "stream",
     "text": [
      "INFO:tensorflow:Assets written to: ./model_weights\\assets\n"
     ]
    },
    {
     "name": "stdout",
     "output_type": "stream",
     "text": [
      "21/21 [==============================] - 21s 962ms/step - loss: 0.3107 - accuracy: 0.4271 - val_loss: 0.2519 - val_accuracy: 0.3769\n",
      "Epoch 2/200\n",
      "21/21 [==============================] - 11s 550ms/step - loss: 0.3056 - accuracy: 0.4415 - val_loss: 0.2531 - val_accuracy: 0.4180\n",
      "Epoch 3/200\n",
      "21/21 [==============================] - 11s 527ms/step - loss: 0.3006 - accuracy: 0.4561 - val_loss: 0.2534 - val_accuracy: 0.4450\n",
      "Epoch 4/200\n",
      "21/21 [==============================] - 11s 533ms/step - loss: 0.2965 - accuracy: 0.4707 - val_loss: 0.2530 - val_accuracy: 0.4634\n",
      "Epoch 5/200\n",
      "21/21 [==============================] - ETA: 0s - loss: 0.2921 - accuracy: 0.4858"
     ]
    },
    {
     "name": "stderr",
     "output_type": "stream",
     "text": [
      "WARNING:absl:Found untraced functions such as _jit_compiled_convolution_op, _jit_compiled_convolution_op, _jit_compiled_convolution_op, _jit_compiled_convolution_op, _jit_compiled_convolution_op while saving (showing 5 of 14). These functions will not be directly callable after loading.\n"
     ]
    },
    {
     "name": "stdout",
     "output_type": "stream",
     "text": [
      "INFO:tensorflow:Assets written to: ./model_weights\\assets\n"
     ]
    },
    {
     "name": "stderr",
     "output_type": "stream",
     "text": [
      "INFO:tensorflow:Assets written to: ./model_weights\\assets\n"
     ]
    },
    {
     "name": "stdout",
     "output_type": "stream",
     "text": [
      "21/21 [==============================] - 15s 749ms/step - loss: 0.2921 - accuracy: 0.4858 - val_loss: 0.2519 - val_accuracy: 0.4850\n",
      "Epoch 6/200\n",
      "21/21 [==============================] - ETA: 0s - loss: 0.2883 - accuracy: 0.5007"
     ]
    },
    {
     "name": "stderr",
     "output_type": "stream",
     "text": [
      "WARNING:absl:Found untraced functions such as _jit_compiled_convolution_op, _jit_compiled_convolution_op, _jit_compiled_convolution_op, _jit_compiled_convolution_op, _jit_compiled_convolution_op while saving (showing 5 of 14). These functions will not be directly callable after loading.\n"
     ]
    },
    {
     "name": "stdout",
     "output_type": "stream",
     "text": [
      "INFO:tensorflow:Assets written to: ./model_weights\\assets\n"
     ]
    },
    {
     "name": "stderr",
     "output_type": "stream",
     "text": [
      "INFO:tensorflow:Assets written to: ./model_weights\\assets\n"
     ]
    },
    {
     "name": "stdout",
     "output_type": "stream",
     "text": [
      "21/21 [==============================] - 15s 746ms/step - loss: 0.2883 - accuracy: 0.5007 - val_loss: 0.2502 - val_accuracy: 0.5157\n",
      "Epoch 7/200\n",
      "21/21 [==============================] - ETA: 0s - loss: 0.2845 - accuracy: 0.5156"
     ]
    },
    {
     "name": "stderr",
     "output_type": "stream",
     "text": [
      "WARNING:absl:Found untraced functions such as _jit_compiled_convolution_op, _jit_compiled_convolution_op, _jit_compiled_convolution_op, _jit_compiled_convolution_op, _jit_compiled_convolution_op while saving (showing 5 of 14). These functions will not be directly callable after loading.\n"
     ]
    },
    {
     "name": "stdout",
     "output_type": "stream",
     "text": [
      "INFO:tensorflow:Assets written to: ./model_weights\\assets\n"
     ]
    },
    {
     "name": "stderr",
     "output_type": "stream",
     "text": [
      "INFO:tensorflow:Assets written to: ./model_weights\\assets\n"
     ]
    },
    {
     "name": "stdout",
     "output_type": "stream",
     "text": [
      "21/21 [==============================] - 17s 800ms/step - loss: 0.2845 - accuracy: 0.5156 - val_loss: 0.2482 - val_accuracy: 0.5377\n",
      "Epoch 8/200\n",
      "21/21 [==============================] - ETA: 0s - loss: 0.2808 - accuracy: 0.5289"
     ]
    },
    {
     "name": "stderr",
     "output_type": "stream",
     "text": [
      "WARNING:absl:Found untraced functions such as _jit_compiled_convolution_op, _jit_compiled_convolution_op, _jit_compiled_convolution_op, _jit_compiled_convolution_op, _jit_compiled_convolution_op while saving (showing 5 of 14). These functions will not be directly callable after loading.\n"
     ]
    },
    {
     "name": "stdout",
     "output_type": "stream",
     "text": [
      "INFO:tensorflow:Assets written to: ./model_weights\\assets\n"
     ]
    },
    {
     "name": "stderr",
     "output_type": "stream",
     "text": [
      "INFO:tensorflow:Assets written to: ./model_weights\\assets\n"
     ]
    },
    {
     "name": "stdout",
     "output_type": "stream",
     "text": [
      "21/21 [==============================] - 19s 923ms/step - loss: 0.2808 - accuracy: 0.5289 - val_loss: 0.2459 - val_accuracy: 0.5587\n",
      "Epoch 9/200\n",
      "21/21 [==============================] - ETA: 0s - loss: 0.2773 - accuracy: 0.5424"
     ]
    },
    {
     "name": "stderr",
     "output_type": "stream",
     "text": [
      "WARNING:absl:Found untraced functions such as _jit_compiled_convolution_op, _jit_compiled_convolution_op, _jit_compiled_convolution_op, _jit_compiled_convolution_op, _jit_compiled_convolution_op while saving (showing 5 of 14). These functions will not be directly callable after loading.\n"
     ]
    },
    {
     "name": "stdout",
     "output_type": "stream",
     "text": [
      "INFO:tensorflow:Assets written to: ./model_weights\\assets\n"
     ]
    },
    {
     "name": "stderr",
     "output_type": "stream",
     "text": [
      "INFO:tensorflow:Assets written to: ./model_weights\\assets\n"
     ]
    },
    {
     "name": "stdout",
     "output_type": "stream",
     "text": [
      "21/21 [==============================] - 17s 810ms/step - loss: 0.2773 - accuracy: 0.5424 - val_loss: 0.2435 - val_accuracy: 0.5772\n",
      "Epoch 10/200\n",
      "21/21 [==============================] - ETA: 0s - loss: 0.2743 - accuracy: 0.5537"
     ]
    },
    {
     "name": "stderr",
     "output_type": "stream",
     "text": [
      "WARNING:absl:Found untraced functions such as _jit_compiled_convolution_op, _jit_compiled_convolution_op, _jit_compiled_convolution_op, _jit_compiled_convolution_op, _jit_compiled_convolution_op while saving (showing 5 of 14). These functions will not be directly callable after loading.\n"
     ]
    },
    {
     "name": "stdout",
     "output_type": "stream",
     "text": [
      "INFO:tensorflow:Assets written to: ./model_weights\\assets\n"
     ]
    },
    {
     "name": "stderr",
     "output_type": "stream",
     "text": [
      "INFO:tensorflow:Assets written to: ./model_weights\\assets\n"
     ]
    },
    {
     "name": "stdout",
     "output_type": "stream",
     "text": [
      "21/21 [==============================] - 17s 816ms/step - loss: 0.2743 - accuracy: 0.5537 - val_loss: 0.2409 - val_accuracy: 0.5940\n",
      "Epoch 11/200\n",
      "21/21 [==============================] - ETA: 0s - loss: 0.2715 - accuracy: 0.5643"
     ]
    },
    {
     "name": "stderr",
     "output_type": "stream",
     "text": [
      "WARNING:absl:Found untraced functions such as _jit_compiled_convolution_op, _jit_compiled_convolution_op, _jit_compiled_convolution_op, _jit_compiled_convolution_op, _jit_compiled_convolution_op while saving (showing 5 of 14). These functions will not be directly callable after loading.\n"
     ]
    },
    {
     "name": "stdout",
     "output_type": "stream",
     "text": [
      "INFO:tensorflow:Assets written to: ./model_weights\\assets\n"
     ]
    },
    {
     "name": "stderr",
     "output_type": "stream",
     "text": [
      "INFO:tensorflow:Assets written to: ./model_weights\\assets\n"
     ]
    },
    {
     "name": "stdout",
     "output_type": "stream",
     "text": [
      "21/21 [==============================] - 19s 916ms/step - loss: 0.2715 - accuracy: 0.5643 - val_loss: 0.2384 - val_accuracy: 0.6103\n",
      "Epoch 12/200\n",
      "21/21 [==============================] - ETA: 0s - loss: 0.2685 - accuracy: 0.5748"
     ]
    },
    {
     "name": "stderr",
     "output_type": "stream",
     "text": [
      "WARNING:absl:Found untraced functions such as _jit_compiled_convolution_op, _jit_compiled_convolution_op, _jit_compiled_convolution_op, _jit_compiled_convolution_op, _jit_compiled_convolution_op while saving (showing 5 of 14). These functions will not be directly callable after loading.\n"
     ]
    },
    {
     "name": "stdout",
     "output_type": "stream",
     "text": [
      "INFO:tensorflow:Assets written to: ./model_weights\\assets\n"
     ]
    },
    {
     "name": "stderr",
     "output_type": "stream",
     "text": [
      "INFO:tensorflow:Assets written to: ./model_weights\\assets\n"
     ]
    },
    {
     "name": "stdout",
     "output_type": "stream",
     "text": [
      "21/21 [==============================] - 21s 1s/step - loss: 0.2685 - accuracy: 0.5748 - val_loss: 0.2362 - val_accuracy: 0.6311\n",
      "Epoch 13/200\n",
      "21/21 [==============================] - ETA: 0s - loss: 0.2656 - accuracy: 0.5846"
     ]
    },
    {
     "name": "stderr",
     "output_type": "stream",
     "text": [
      "WARNING:absl:Found untraced functions such as _jit_compiled_convolution_op, _jit_compiled_convolution_op, _jit_compiled_convolution_op, _jit_compiled_convolution_op, _jit_compiled_convolution_op while saving (showing 5 of 14). These functions will not be directly callable after loading.\n"
     ]
    },
    {
     "name": "stdout",
     "output_type": "stream",
     "text": [
      "INFO:tensorflow:Assets written to: ./model_weights\\assets\n"
     ]
    },
    {
     "name": "stderr",
     "output_type": "stream",
     "text": [
      "INFO:tensorflow:Assets written to: ./model_weights\\assets\n"
     ]
    },
    {
     "name": "stdout",
     "output_type": "stream",
     "text": [
      "21/21 [==============================] - 16s 778ms/step - loss: 0.2656 - accuracy: 0.5846 - val_loss: 0.2344 - val_accuracy: 0.6402\n",
      "Epoch 14/200\n",
      "21/21 [==============================] - ETA: 0s - loss: 0.2634 - accuracy: 0.5927"
     ]
    },
    {
     "name": "stderr",
     "output_type": "stream",
     "text": [
      "WARNING:absl:Found untraced functions such as _jit_compiled_convolution_op, _jit_compiled_convolution_op, _jit_compiled_convolution_op, _jit_compiled_convolution_op, _jit_compiled_convolution_op while saving (showing 5 of 14). These functions will not be directly callable after loading.\n"
     ]
    },
    {
     "name": "stdout",
     "output_type": "stream",
     "text": [
      "INFO:tensorflow:Assets written to: ./model_weights\\assets\n"
     ]
    },
    {
     "name": "stderr",
     "output_type": "stream",
     "text": [
      "INFO:tensorflow:Assets written to: ./model_weights\\assets\n"
     ]
    },
    {
     "name": "stdout",
     "output_type": "stream",
     "text": [
      "21/21 [==============================] - 18s 870ms/step - loss: 0.2634 - accuracy: 0.5927 - val_loss: 0.2328 - val_accuracy: 0.6454\n",
      "Epoch 15/200\n",
      "21/21 [==============================] - ETA: 0s - loss: 0.2604 - accuracy: 0.6015"
     ]
    },
    {
     "name": "stderr",
     "output_type": "stream",
     "text": [
      "WARNING:absl:Found untraced functions such as _jit_compiled_convolution_op, _jit_compiled_convolution_op, _jit_compiled_convolution_op, _jit_compiled_convolution_op, _jit_compiled_convolution_op while saving (showing 5 of 14). These functions will not be directly callable after loading.\n"
     ]
    },
    {
     "name": "stdout",
     "output_type": "stream",
     "text": [
      "INFO:tensorflow:Assets written to: ./model_weights\\assets\n"
     ]
    },
    {
     "name": "stderr",
     "output_type": "stream",
     "text": [
      "INFO:tensorflow:Assets written to: ./model_weights\\assets\n"
     ]
    },
    {
     "name": "stdout",
     "output_type": "stream",
     "text": [
      "21/21 [==============================] - 18s 850ms/step - loss: 0.2604 - accuracy: 0.6015 - val_loss: 0.2316 - val_accuracy: 0.6497\n",
      "Epoch 16/200\n",
      "21/21 [==============================] - ETA: 0s - loss: 0.2581 - accuracy: 0.6102"
     ]
    },
    {
     "name": "stderr",
     "output_type": "stream",
     "text": [
      "WARNING:absl:Found untraced functions such as _jit_compiled_convolution_op, _jit_compiled_convolution_op, _jit_compiled_convolution_op, _jit_compiled_convolution_op, _jit_compiled_convolution_op while saving (showing 5 of 14). These functions will not be directly callable after loading.\n"
     ]
    },
    {
     "name": "stdout",
     "output_type": "stream",
     "text": [
      "INFO:tensorflow:Assets written to: ./model_weights\\assets\n"
     ]
    },
    {
     "name": "stderr",
     "output_type": "stream",
     "text": [
      "INFO:tensorflow:Assets written to: ./model_weights\\assets\n"
     ]
    },
    {
     "name": "stdout",
     "output_type": "stream",
     "text": [
      "21/21 [==============================] - 17s 815ms/step - loss: 0.2581 - accuracy: 0.6102 - val_loss: 0.2305 - val_accuracy: 0.6530\n",
      "Epoch 17/200\n",
      "21/21 [==============================] - ETA: 0s - loss: 0.2554 - accuracy: 0.6171"
     ]
    },
    {
     "name": "stderr",
     "output_type": "stream",
     "text": [
      "WARNING:absl:Found untraced functions such as _jit_compiled_convolution_op, _jit_compiled_convolution_op, _jit_compiled_convolution_op, _jit_compiled_convolution_op, _jit_compiled_convolution_op while saving (showing 5 of 14). These functions will not be directly callable after loading.\n"
     ]
    },
    {
     "name": "stdout",
     "output_type": "stream",
     "text": [
      "INFO:tensorflow:Assets written to: ./model_weights\\assets\n"
     ]
    },
    {
     "name": "stderr",
     "output_type": "stream",
     "text": [
      "INFO:tensorflow:Assets written to: ./model_weights\\assets\n"
     ]
    },
    {
     "name": "stdout",
     "output_type": "stream",
     "text": [
      "21/21 [==============================] - 16s 803ms/step - loss: 0.2554 - accuracy: 0.6171 - val_loss: 0.2295 - val_accuracy: 0.6558\n",
      "Epoch 18/200\n",
      "21/21 [==============================] - ETA: 0s - loss: 0.2536 - accuracy: 0.6235"
     ]
    },
    {
     "name": "stderr",
     "output_type": "stream",
     "text": [
      "WARNING:absl:Found untraced functions such as _jit_compiled_convolution_op, _jit_compiled_convolution_op, _jit_compiled_convolution_op, _jit_compiled_convolution_op, _jit_compiled_convolution_op while saving (showing 5 of 14). These functions will not be directly callable after loading.\n"
     ]
    },
    {
     "name": "stdout",
     "output_type": "stream",
     "text": [
      "INFO:tensorflow:Assets written to: ./model_weights\\assets\n"
     ]
    },
    {
     "name": "stderr",
     "output_type": "stream",
     "text": [
      "INFO:tensorflow:Assets written to: ./model_weights\\assets\n"
     ]
    },
    {
     "name": "stdout",
     "output_type": "stream",
     "text": [
      "21/21 [==============================] - 16s 788ms/step - loss: 0.2536 - accuracy: 0.6235 - val_loss: 0.2286 - val_accuracy: 0.6583\n",
      "Epoch 19/200\n",
      "21/21 [==============================] - ETA: 0s - loss: 0.2507 - accuracy: 0.6305"
     ]
    },
    {
     "name": "stderr",
     "output_type": "stream",
     "text": [
      "WARNING:absl:Found untraced functions such as _jit_compiled_convolution_op, _jit_compiled_convolution_op, _jit_compiled_convolution_op, _jit_compiled_convolution_op, _jit_compiled_convolution_op while saving (showing 5 of 14). These functions will not be directly callable after loading.\n"
     ]
    },
    {
     "name": "stdout",
     "output_type": "stream",
     "text": [
      "INFO:tensorflow:Assets written to: ./model_weights\\assets\n"
     ]
    },
    {
     "name": "stderr",
     "output_type": "stream",
     "text": [
      "INFO:tensorflow:Assets written to: ./model_weights\\assets\n"
     ]
    },
    {
     "name": "stdout",
     "output_type": "stream",
     "text": [
      "21/21 [==============================] - 17s 840ms/step - loss: 0.2507 - accuracy: 0.6305 - val_loss: 0.2276 - val_accuracy: 0.6614\n",
      "Epoch 20/200\n",
      "21/21 [==============================] - ETA: 0s - loss: 0.2483 - accuracy: 0.6365"
     ]
    },
    {
     "name": "stderr",
     "output_type": "stream",
     "text": [
      "WARNING:absl:Found untraced functions such as _jit_compiled_convolution_op, _jit_compiled_convolution_op, _jit_compiled_convolution_op, _jit_compiled_convolution_op, _jit_compiled_convolution_op while saving (showing 5 of 14). These functions will not be directly callable after loading.\n"
     ]
    },
    {
     "name": "stdout",
     "output_type": "stream",
     "text": [
      "INFO:tensorflow:Assets written to: ./model_weights\\assets\n"
     ]
    },
    {
     "name": "stderr",
     "output_type": "stream",
     "text": [
      "INFO:tensorflow:Assets written to: ./model_weights\\assets\n"
     ]
    },
    {
     "name": "stdout",
     "output_type": "stream",
     "text": [
      "21/21 [==============================] - 16s 779ms/step - loss: 0.2483 - accuracy: 0.6365 - val_loss: 0.2265 - val_accuracy: 0.6645\n",
      "Epoch 21/200\n",
      "21/21 [==============================] - ETA: 0s - loss: 0.2466 - accuracy: 0.6415"
     ]
    },
    {
     "name": "stderr",
     "output_type": "stream",
     "text": [
      "WARNING:absl:Found untraced functions such as _jit_compiled_convolution_op, _jit_compiled_convolution_op, _jit_compiled_convolution_op, _jit_compiled_convolution_op, _jit_compiled_convolution_op while saving (showing 5 of 14). These functions will not be directly callable after loading.\n"
     ]
    },
    {
     "name": "stdout",
     "output_type": "stream",
     "text": [
      "INFO:tensorflow:Assets written to: ./model_weights\\assets\n"
     ]
    },
    {
     "name": "stderr",
     "output_type": "stream",
     "text": [
      "INFO:tensorflow:Assets written to: ./model_weights\\assets\n"
     ]
    },
    {
     "name": "stdout",
     "output_type": "stream",
     "text": [
      "21/21 [==============================] - 15s 750ms/step - loss: 0.2466 - accuracy: 0.6415 - val_loss: 0.2253 - val_accuracy: 0.6681\n",
      "Epoch 22/200\n",
      "21/21 [==============================] - ETA: 0s - loss: 0.2444 - accuracy: 0.6472"
     ]
    },
    {
     "name": "stderr",
     "output_type": "stream",
     "text": [
      "WARNING:absl:Found untraced functions such as _jit_compiled_convolution_op, _jit_compiled_convolution_op, _jit_compiled_convolution_op, _jit_compiled_convolution_op, _jit_compiled_convolution_op while saving (showing 5 of 14). These functions will not be directly callable after loading.\n"
     ]
    },
    {
     "name": "stdout",
     "output_type": "stream",
     "text": [
      "INFO:tensorflow:Assets written to: ./model_weights\\assets\n"
     ]
    },
    {
     "name": "stderr",
     "output_type": "stream",
     "text": [
      "INFO:tensorflow:Assets written to: ./model_weights\\assets\n"
     ]
    },
    {
     "name": "stdout",
     "output_type": "stream",
     "text": [
      "21/21 [==============================] - 15s 745ms/step - loss: 0.2444 - accuracy: 0.6472 - val_loss: 0.2237 - val_accuracy: 0.6710\n",
      "Epoch 23/200\n",
      "21/21 [==============================] - ETA: 0s - loss: 0.2421 - accuracy: 0.6526"
     ]
    },
    {
     "name": "stderr",
     "output_type": "stream",
     "text": [
      "WARNING:absl:Found untraced functions such as _jit_compiled_convolution_op, _jit_compiled_convolution_op, _jit_compiled_convolution_op, _jit_compiled_convolution_op, _jit_compiled_convolution_op while saving (showing 5 of 14). These functions will not be directly callable after loading.\n"
     ]
    },
    {
     "name": "stdout",
     "output_type": "stream",
     "text": [
      "INFO:tensorflow:Assets written to: ./model_weights\\assets\n"
     ]
    },
    {
     "name": "stderr",
     "output_type": "stream",
     "text": [
      "INFO:tensorflow:Assets written to: ./model_weights\\assets\n"
     ]
    },
    {
     "name": "stdout",
     "output_type": "stream",
     "text": [
      "21/21 [==============================] - 16s 757ms/step - loss: 0.2421 - accuracy: 0.6526 - val_loss: 0.2219 - val_accuracy: 0.6740\n",
      "Epoch 24/200\n",
      "21/21 [==============================] - ETA: 0s - loss: 0.2409 - accuracy: 0.6570"
     ]
    },
    {
     "name": "stderr",
     "output_type": "stream",
     "text": [
      "WARNING:absl:Found untraced functions such as _jit_compiled_convolution_op, _jit_compiled_convolution_op, _jit_compiled_convolution_op, _jit_compiled_convolution_op, _jit_compiled_convolution_op while saving (showing 5 of 14). These functions will not be directly callable after loading.\n"
     ]
    },
    {
     "name": "stdout",
     "output_type": "stream",
     "text": [
      "INFO:tensorflow:Assets written to: ./model_weights\\assets\n"
     ]
    },
    {
     "name": "stderr",
     "output_type": "stream",
     "text": [
      "INFO:tensorflow:Assets written to: ./model_weights\\assets\n"
     ]
    },
    {
     "name": "stdout",
     "output_type": "stream",
     "text": [
      "21/21 [==============================] - 18s 877ms/step - loss: 0.2409 - accuracy: 0.6570 - val_loss: 0.2195 - val_accuracy: 0.6764\n",
      "Epoch 25/200\n",
      "21/21 [==============================] - ETA: 0s - loss: 0.2378 - accuracy: 0.6627"
     ]
    },
    {
     "name": "stderr",
     "output_type": "stream",
     "text": [
      "WARNING:absl:Found untraced functions such as _jit_compiled_convolution_op, _jit_compiled_convolution_op, _jit_compiled_convolution_op, _jit_compiled_convolution_op, _jit_compiled_convolution_op while saving (showing 5 of 14). These functions will not be directly callable after loading.\n"
     ]
    },
    {
     "name": "stdout",
     "output_type": "stream",
     "text": [
      "INFO:tensorflow:Assets written to: ./model_weights\\assets\n"
     ]
    },
    {
     "name": "stderr",
     "output_type": "stream",
     "text": [
      "INFO:tensorflow:Assets written to: ./model_weights\\assets\n"
     ]
    },
    {
     "name": "stdout",
     "output_type": "stream",
     "text": [
      "21/21 [==============================] - 20s 967ms/step - loss: 0.2378 - accuracy: 0.6627 - val_loss: 0.2165 - val_accuracy: 0.6790\n",
      "Epoch 26/200\n",
      "21/21 [==============================] - ETA: 0s - loss: 0.2364 - accuracy: 0.6670"
     ]
    },
    {
     "name": "stderr",
     "output_type": "stream",
     "text": [
      "WARNING:absl:Found untraced functions such as _jit_compiled_convolution_op, _jit_compiled_convolution_op, _jit_compiled_convolution_op, _jit_compiled_convolution_op, _jit_compiled_convolution_op while saving (showing 5 of 14). These functions will not be directly callable after loading.\n"
     ]
    },
    {
     "name": "stdout",
     "output_type": "stream",
     "text": [
      "INFO:tensorflow:Assets written to: ./model_weights\\assets\n"
     ]
    },
    {
     "name": "stderr",
     "output_type": "stream",
     "text": [
      "INFO:tensorflow:Assets written to: ./model_weights\\assets\n"
     ]
    },
    {
     "name": "stdout",
     "output_type": "stream",
     "text": [
      "21/21 [==============================] - 18s 872ms/step - loss: 0.2364 - accuracy: 0.6670 - val_loss: 0.2133 - val_accuracy: 0.6824\n",
      "Epoch 27/200\n",
      "21/21 [==============================] - ETA: 0s - loss: 0.2341 - accuracy: 0.6719"
     ]
    },
    {
     "name": "stderr",
     "output_type": "stream",
     "text": [
      "WARNING:absl:Found untraced functions such as _jit_compiled_convolution_op, _jit_compiled_convolution_op, _jit_compiled_convolution_op, _jit_compiled_convolution_op, _jit_compiled_convolution_op while saving (showing 5 of 14). These functions will not be directly callable after loading.\n"
     ]
    },
    {
     "name": "stdout",
     "output_type": "stream",
     "text": [
      "INFO:tensorflow:Assets written to: ./model_weights\\assets\n"
     ]
    },
    {
     "name": "stderr",
     "output_type": "stream",
     "text": [
      "INFO:tensorflow:Assets written to: ./model_weights\\assets\n"
     ]
    },
    {
     "name": "stdout",
     "output_type": "stream",
     "text": [
      "21/21 [==============================] - 17s 823ms/step - loss: 0.2341 - accuracy: 0.6719 - val_loss: 0.2099 - val_accuracy: 0.6858\n",
      "Epoch 28/200\n",
      "21/21 [==============================] - ETA: 0s - loss: 0.2326 - accuracy: 0.6754"
     ]
    },
    {
     "name": "stderr",
     "output_type": "stream",
     "text": [
      "WARNING:absl:Found untraced functions such as _jit_compiled_convolution_op, _jit_compiled_convolution_op, _jit_compiled_convolution_op, _jit_compiled_convolution_op, _jit_compiled_convolution_op while saving (showing 5 of 14). These functions will not be directly callable after loading.\n"
     ]
    },
    {
     "name": "stdout",
     "output_type": "stream",
     "text": [
      "INFO:tensorflow:Assets written to: ./model_weights\\assets\n"
     ]
    },
    {
     "name": "stderr",
     "output_type": "stream",
     "text": [
      "INFO:tensorflow:Assets written to: ./model_weights\\assets\n"
     ]
    },
    {
     "name": "stdout",
     "output_type": "stream",
     "text": [
      "21/21 [==============================] - 15s 727ms/step - loss: 0.2326 - accuracy: 0.6754 - val_loss: 0.2063 - val_accuracy: 0.6898\n",
      "Epoch 29/200\n",
      "21/21 [==============================] - ETA: 0s - loss: 0.2309 - accuracy: 0.6787"
     ]
    },
    {
     "name": "stderr",
     "output_type": "stream",
     "text": [
      "WARNING:absl:Found untraced functions such as _jit_compiled_convolution_op, _jit_compiled_convolution_op, _jit_compiled_convolution_op, _jit_compiled_convolution_op, _jit_compiled_convolution_op while saving (showing 5 of 14). These functions will not be directly callable after loading.\n"
     ]
    },
    {
     "name": "stdout",
     "output_type": "stream",
     "text": [
      "INFO:tensorflow:Assets written to: ./model_weights\\assets\n"
     ]
    },
    {
     "name": "stderr",
     "output_type": "stream",
     "text": [
      "INFO:tensorflow:Assets written to: ./model_weights\\assets\n"
     ]
    },
    {
     "name": "stdout",
     "output_type": "stream",
     "text": [
      "21/21 [==============================] - 17s 832ms/step - loss: 0.2309 - accuracy: 0.6787 - val_loss: 0.2027 - val_accuracy: 0.6955\n",
      "Epoch 30/200\n",
      "21/21 [==============================] - ETA: 0s - loss: 0.2284 - accuracy: 0.6841"
     ]
    },
    {
     "name": "stderr",
     "output_type": "stream",
     "text": [
      "WARNING:absl:Found untraced functions such as _jit_compiled_convolution_op, _jit_compiled_convolution_op, _jit_compiled_convolution_op, _jit_compiled_convolution_op, _jit_compiled_convolution_op while saving (showing 5 of 14). These functions will not be directly callable after loading.\n"
     ]
    },
    {
     "name": "stdout",
     "output_type": "stream",
     "text": [
      "INFO:tensorflow:Assets written to: ./model_weights\\assets\n"
     ]
    },
    {
     "name": "stderr",
     "output_type": "stream",
     "text": [
      "INFO:tensorflow:Assets written to: ./model_weights\\assets\n"
     ]
    },
    {
     "name": "stdout",
     "output_type": "stream",
     "text": [
      "21/21 [==============================] - 16s 758ms/step - loss: 0.2284 - accuracy: 0.6841 - val_loss: 0.1997 - val_accuracy: 0.7012\n",
      "Epoch 31/200\n",
      "21/21 [==============================] - ETA: 0s - loss: 0.2266 - accuracy: 0.6880"
     ]
    },
    {
     "name": "stderr",
     "output_type": "stream",
     "text": [
      "WARNING:absl:Found untraced functions such as _jit_compiled_convolution_op, _jit_compiled_convolution_op, _jit_compiled_convolution_op, _jit_compiled_convolution_op, _jit_compiled_convolution_op while saving (showing 5 of 14). These functions will not be directly callable after loading.\n"
     ]
    },
    {
     "name": "stdout",
     "output_type": "stream",
     "text": [
      "INFO:tensorflow:Assets written to: ./model_weights\\assets\n"
     ]
    },
    {
     "name": "stderr",
     "output_type": "stream",
     "text": [
      "INFO:tensorflow:Assets written to: ./model_weights\\assets\n"
     ]
    },
    {
     "name": "stdout",
     "output_type": "stream",
     "text": [
      "21/21 [==============================] - 16s 756ms/step - loss: 0.2266 - accuracy: 0.6880 - val_loss: 0.1974 - val_accuracy: 0.7075\n",
      "Epoch 32/200\n",
      "21/21 [==============================] - ETA: 0s - loss: 0.2245 - accuracy: 0.6923"
     ]
    },
    {
     "name": "stderr",
     "output_type": "stream",
     "text": [
      "WARNING:absl:Found untraced functions such as _jit_compiled_convolution_op, _jit_compiled_convolution_op, _jit_compiled_convolution_op, _jit_compiled_convolution_op, _jit_compiled_convolution_op while saving (showing 5 of 14). These functions will not be directly callable after loading.\n"
     ]
    },
    {
     "name": "stdout",
     "output_type": "stream",
     "text": [
      "INFO:tensorflow:Assets written to: ./model_weights\\assets\n"
     ]
    },
    {
     "name": "stderr",
     "output_type": "stream",
     "text": [
      "INFO:tensorflow:Assets written to: ./model_weights\\assets\n"
     ]
    },
    {
     "name": "stdout",
     "output_type": "stream",
     "text": [
      "21/21 [==============================] - 15s 739ms/step - loss: 0.2245 - accuracy: 0.6923 - val_loss: 0.1959 - val_accuracy: 0.7129\n",
      "Epoch 33/200\n",
      "21/21 [==============================] - ETA: 0s - loss: 0.2229 - accuracy: 0.6958"
     ]
    },
    {
     "name": "stderr",
     "output_type": "stream",
     "text": [
      "WARNING:absl:Found untraced functions such as _jit_compiled_convolution_op, _jit_compiled_convolution_op, _jit_compiled_convolution_op, _jit_compiled_convolution_op, _jit_compiled_convolution_op while saving (showing 5 of 14). These functions will not be directly callable after loading.\n"
     ]
    },
    {
     "name": "stdout",
     "output_type": "stream",
     "text": [
      "INFO:tensorflow:Assets written to: ./model_weights\\assets\n"
     ]
    },
    {
     "name": "stderr",
     "output_type": "stream",
     "text": [
      "INFO:tensorflow:Assets written to: ./model_weights\\assets\n"
     ]
    },
    {
     "name": "stdout",
     "output_type": "stream",
     "text": [
      "21/21 [==============================] - 15s 724ms/step - loss: 0.2229 - accuracy: 0.6958 - val_loss: 0.1955 - val_accuracy: 0.7182\n",
      "Epoch 34/200\n",
      "21/21 [==============================] - 11s 539ms/step - loss: 0.2209 - accuracy: 0.6998 - val_loss: 0.1958 - val_accuracy: 0.7217\n",
      "Epoch 35/200\n",
      "21/21 [==============================] - 12s 589ms/step - loss: 0.2198 - accuracy: 0.7023 - val_loss: 0.1971 - val_accuracy: 0.7231\n",
      "Epoch 36/200\n",
      "21/21 [==============================] - 12s 560ms/step - loss: 0.2171 - accuracy: 0.7072 - val_loss: 0.1989 - val_accuracy: 0.7225\n",
      "Epoch 37/200\n",
      "21/21 [==============================] - 11s 549ms/step - loss: 0.2159 - accuracy: 0.7099 - val_loss: 0.2008 - val_accuracy: 0.7210\n",
      "Epoch 38/200\n",
      "21/21 [==============================] - 11s 546ms/step - loss: 0.2139 - accuracy: 0.7135 - val_loss: 0.2030 - val_accuracy: 0.7201\n",
      "Epoch 39/200\n",
      "21/21 [==============================] - 11s 538ms/step - loss: 0.2122 - accuracy: 0.7166 - val_loss: 0.2050 - val_accuracy: 0.7197\n",
      "Epoch 40/200\n",
      "21/21 [==============================] - 11s 534ms/step - loss: 0.2113 - accuracy: 0.7188 - val_loss: 0.2070 - val_accuracy: 0.7182\n",
      "Epoch 41/200\n",
      "21/21 [==============================] - 12s 560ms/step - loss: 0.2097 - accuracy: 0.7209 - val_loss: 0.2086 - val_accuracy: 0.7170\n",
      "Epoch 42/200\n",
      "21/21 [==============================] - 12s 580ms/step - loss: 0.2073 - accuracy: 0.7257 - val_loss: 0.2099 - val_accuracy: 0.7165\n",
      "Epoch 43/200\n",
      "21/21 [==============================] - 11s 538ms/step - loss: 0.2061 - accuracy: 0.7275 - val_loss: 0.2104 - val_accuracy: 0.7171\n",
      "Epoch 44/200\n",
      "21/21 [==============================] - 12s 587ms/step - loss: 0.2048 - accuracy: 0.7292 - val_loss: 0.2113 - val_accuracy: 0.7172\n",
      "Epoch 45/200\n",
      "21/21 [==============================] - 11s 544ms/step - loss: 0.2028 - accuracy: 0.7328 - val_loss: 0.2115 - val_accuracy: 0.7186\n",
      "Epoch 46/200\n",
      "21/21 [==============================] - 11s 533ms/step - loss: 0.2009 - accuracy: 0.7361 - val_loss: 0.2111 - val_accuracy: 0.7202\n",
      "Epoch 47/200\n",
      "21/21 [==============================] - 11s 519ms/step - loss: 0.2003 - accuracy: 0.7380 - val_loss: 0.2110 - val_accuracy: 0.7211\n",
      "Epoch 48/200\n",
      "21/21 [==============================] - 12s 574ms/step - loss: 0.1985 - accuracy: 0.7404 - val_loss: 0.2104 - val_accuracy: 0.7228\n",
      "Epoch 49/200\n",
      "21/21 [==============================] - 12s 565ms/step - loss: 0.1974 - accuracy: 0.7426 - val_loss: 0.2093 - val_accuracy: 0.7249\n",
      "Epoch 50/200\n",
      "21/21 [==============================] - 12s 594ms/step - loss: 0.1961 - accuracy: 0.7443 - val_loss: 0.2085 - val_accuracy: 0.7263\n",
      "Epoch 51/200\n",
      "21/21 [==============================] - 11s 544ms/step - loss: 0.1945 - accuracy: 0.7467 - val_loss: 0.2074 - val_accuracy: 0.7284\n",
      "Epoch 52/200\n",
      "21/21 [==============================] - 11s 531ms/step - loss: 0.1938 - accuracy: 0.7479 - val_loss: 0.2061 - val_accuracy: 0.7307\n",
      "Epoch 53/200\n",
      "21/21 [==============================] - 11s 541ms/step - loss: 0.1919 - accuracy: 0.7508 - val_loss: 0.2050 - val_accuracy: 0.7325\n",
      "Epoch 54/200\n",
      "21/21 [==============================] - 11s 545ms/step - loss: 0.1909 - accuracy: 0.7521 - val_loss: 0.2036 - val_accuracy: 0.7347\n",
      "Epoch 55/200\n",
      "21/21 [==============================] - 12s 581ms/step - loss: 0.1906 - accuracy: 0.7537 - val_loss: 0.2030 - val_accuracy: 0.7361\n",
      "Epoch 56/200\n",
      "21/21 [==============================] - 12s 552ms/step - loss: 0.1881 - accuracy: 0.7568 - val_loss: 0.2016 - val_accuracy: 0.7380\n",
      "Epoch 57/200\n",
      "21/21 [==============================] - 11s 521ms/step - loss: 0.1877 - accuracy: 0.7579 - val_loss: 0.2002 - val_accuracy: 0.7401\n",
      "Epoch 58/200\n",
      "21/21 [==============================] - 11s 509ms/step - loss: 0.1866 - accuracy: 0.7599 - val_loss: 0.1985 - val_accuracy: 0.7427\n",
      "Epoch 59/200\n",
      "21/21 [==============================] - 11s 521ms/step - loss: 0.1846 - accuracy: 0.7624 - val_loss: 0.1972 - val_accuracy: 0.7442\n",
      "Epoch 60/200\n",
      "21/21 [==============================] - 11s 529ms/step - loss: 0.1836 - accuracy: 0.7637 - val_loss: 0.1963 - val_accuracy: 0.7457\n",
      "Epoch 61/200\n",
      "21/21 [==============================] - ETA: 0s - loss: 0.1830 - accuracy: 0.7645"
     ]
    },
    {
     "name": "stderr",
     "output_type": "stream",
     "text": [
      "WARNING:absl:Found untraced functions such as _jit_compiled_convolution_op, _jit_compiled_convolution_op, _jit_compiled_convolution_op, _jit_compiled_convolution_op, _jit_compiled_convolution_op while saving (showing 5 of 14). These functions will not be directly callable after loading.\n"
     ]
    },
    {
     "name": "stdout",
     "output_type": "stream",
     "text": [
      "INFO:tensorflow:Assets written to: ./model_weights\\assets\n"
     ]
    },
    {
     "name": "stderr",
     "output_type": "stream",
     "text": [
      "INFO:tensorflow:Assets written to: ./model_weights\\assets\n"
     ]
    },
    {
     "name": "stdout",
     "output_type": "stream",
     "text": [
      "21/21 [==============================] - 16s 789ms/step - loss: 0.1830 - accuracy: 0.7645 - val_loss: 0.1950 - val_accuracy: 0.7479\n",
      "Epoch 62/200\n",
      "21/21 [==============================] - ETA: 0s - loss: 0.1811 - accuracy: 0.7671"
     ]
    },
    {
     "name": "stderr",
     "output_type": "stream",
     "text": [
      "WARNING:absl:Found untraced functions such as _jit_compiled_convolution_op, _jit_compiled_convolution_op, _jit_compiled_convolution_op, _jit_compiled_convolution_op, _jit_compiled_convolution_op while saving (showing 5 of 14). These functions will not be directly callable after loading.\n"
     ]
    },
    {
     "name": "stdout",
     "output_type": "stream",
     "text": [
      "INFO:tensorflow:Assets written to: ./model_weights\\assets\n"
     ]
    },
    {
     "name": "stderr",
     "output_type": "stream",
     "text": [
      "INFO:tensorflow:Assets written to: ./model_weights\\assets\n"
     ]
    },
    {
     "name": "stdout",
     "output_type": "stream",
     "text": [
      "21/21 [==============================] - 17s 810ms/step - loss: 0.1811 - accuracy: 0.7671 - val_loss: 0.1937 - val_accuracy: 0.7494\n",
      "Epoch 63/200\n",
      "21/21 [==============================] - ETA: 0s - loss: 0.1802 - accuracy: 0.7688"
     ]
    },
    {
     "name": "stderr",
     "output_type": "stream",
     "text": [
      "WARNING:absl:Found untraced functions such as _jit_compiled_convolution_op, _jit_compiled_convolution_op, _jit_compiled_convolution_op, _jit_compiled_convolution_op, _jit_compiled_convolution_op while saving (showing 5 of 14). These functions will not be directly callable after loading.\n"
     ]
    },
    {
     "name": "stdout",
     "output_type": "stream",
     "text": [
      "INFO:tensorflow:Assets written to: ./model_weights\\assets\n"
     ]
    },
    {
     "name": "stderr",
     "output_type": "stream",
     "text": [
      "INFO:tensorflow:Assets written to: ./model_weights\\assets\n"
     ]
    },
    {
     "name": "stdout",
     "output_type": "stream",
     "text": [
      "21/21 [==============================] - 16s 784ms/step - loss: 0.1802 - accuracy: 0.7688 - val_loss: 0.1917 - val_accuracy: 0.7517\n",
      "Epoch 64/200\n",
      "21/21 [==============================] - ETA: 0s - loss: 0.1802 - accuracy: 0.7697"
     ]
    },
    {
     "name": "stderr",
     "output_type": "stream",
     "text": [
      "WARNING:absl:Found untraced functions such as _jit_compiled_convolution_op, _jit_compiled_convolution_op, _jit_compiled_convolution_op, _jit_compiled_convolution_op, _jit_compiled_convolution_op while saving (showing 5 of 14). These functions will not be directly callable after loading.\n"
     ]
    },
    {
     "name": "stdout",
     "output_type": "stream",
     "text": [
      "INFO:tensorflow:Assets written to: ./model_weights\\assets\n"
     ]
    },
    {
     "name": "stderr",
     "output_type": "stream",
     "text": [
      "INFO:tensorflow:Assets written to: ./model_weights\\assets\n"
     ]
    },
    {
     "name": "stdout",
     "output_type": "stream",
     "text": [
      "21/21 [==============================] - 16s 765ms/step - loss: 0.1802 - accuracy: 0.7697 - val_loss: 0.1899 - val_accuracy: 0.7539\n",
      "Epoch 65/200\n",
      "21/21 [==============================] - ETA: 0s - loss: 0.1786 - accuracy: 0.7706"
     ]
    },
    {
     "name": "stderr",
     "output_type": "stream",
     "text": [
      "WARNING:absl:Found untraced functions such as _jit_compiled_convolution_op, _jit_compiled_convolution_op, _jit_compiled_convolution_op, _jit_compiled_convolution_op, _jit_compiled_convolution_op while saving (showing 5 of 14). These functions will not be directly callable after loading.\n"
     ]
    },
    {
     "name": "stdout",
     "output_type": "stream",
     "text": [
      "INFO:tensorflow:Assets written to: ./model_weights\\assets\n"
     ]
    },
    {
     "name": "stderr",
     "output_type": "stream",
     "text": [
      "INFO:tensorflow:Assets written to: ./model_weights\\assets\n"
     ]
    },
    {
     "name": "stdout",
     "output_type": "stream",
     "text": [
      "21/21 [==============================] - 17s 825ms/step - loss: 0.1786 - accuracy: 0.7706 - val_loss: 0.1888 - val_accuracy: 0.7556\n",
      "Epoch 66/200\n",
      "21/21 [==============================] - ETA: 0s - loss: 0.1771 - accuracy: 0.7736"
     ]
    },
    {
     "name": "stderr",
     "output_type": "stream",
     "text": [
      "WARNING:absl:Found untraced functions such as _jit_compiled_convolution_op, _jit_compiled_convolution_op, _jit_compiled_convolution_op, _jit_compiled_convolution_op, _jit_compiled_convolution_op while saving (showing 5 of 14). These functions will not be directly callable after loading.\n"
     ]
    },
    {
     "name": "stdout",
     "output_type": "stream",
     "text": [
      "INFO:tensorflow:Assets written to: ./model_weights\\assets\n"
     ]
    },
    {
     "name": "stderr",
     "output_type": "stream",
     "text": [
      "INFO:tensorflow:Assets written to: ./model_weights\\assets\n"
     ]
    },
    {
     "name": "stdout",
     "output_type": "stream",
     "text": [
      "21/21 [==============================] - 16s 747ms/step - loss: 0.1771 - accuracy: 0.7736 - val_loss: 0.1876 - val_accuracy: 0.7569\n",
      "Epoch 67/200\n",
      "21/21 [==============================] - ETA: 0s - loss: 0.1762 - accuracy: 0.7748"
     ]
    },
    {
     "name": "stderr",
     "output_type": "stream",
     "text": [
      "WARNING:absl:Found untraced functions such as _jit_compiled_convolution_op, _jit_compiled_convolution_op, _jit_compiled_convolution_op, _jit_compiled_convolution_op, _jit_compiled_convolution_op while saving (showing 5 of 14). These functions will not be directly callable after loading.\n"
     ]
    },
    {
     "name": "stdout",
     "output_type": "stream",
     "text": [
      "INFO:tensorflow:Assets written to: ./model_weights\\assets\n"
     ]
    },
    {
     "name": "stderr",
     "output_type": "stream",
     "text": [
      "INFO:tensorflow:Assets written to: ./model_weights\\assets\n"
     ]
    },
    {
     "name": "stdout",
     "output_type": "stream",
     "text": [
      "21/21 [==============================] - 14s 683ms/step - loss: 0.1762 - accuracy: 0.7748 - val_loss: 0.1866 - val_accuracy: 0.7581\n",
      "Epoch 68/200\n",
      "21/21 [==============================] - ETA: 0s - loss: 0.1753 - accuracy: 0.7763"
     ]
    },
    {
     "name": "stderr",
     "output_type": "stream",
     "text": [
      "WARNING:absl:Found untraced functions such as _jit_compiled_convolution_op, _jit_compiled_convolution_op, _jit_compiled_convolution_op, _jit_compiled_convolution_op, _jit_compiled_convolution_op while saving (showing 5 of 14). These functions will not be directly callable after loading.\n"
     ]
    },
    {
     "name": "stdout",
     "output_type": "stream",
     "text": [
      "INFO:tensorflow:Assets written to: ./model_weights\\assets\n"
     ]
    },
    {
     "name": "stderr",
     "output_type": "stream",
     "text": [
      "INFO:tensorflow:Assets written to: ./model_weights\\assets\n"
     ]
    },
    {
     "name": "stdout",
     "output_type": "stream",
     "text": [
      "21/21 [==============================] - 14s 695ms/step - loss: 0.1753 - accuracy: 0.7763 - val_loss: 0.1853 - val_accuracy: 0.7599\n",
      "Epoch 69/200\n",
      "21/21 [==============================] - ETA: 0s - loss: 0.1741 - accuracy: 0.7774"
     ]
    },
    {
     "name": "stderr",
     "output_type": "stream",
     "text": [
      "WARNING:absl:Found untraced functions such as _jit_compiled_convolution_op, _jit_compiled_convolution_op, _jit_compiled_convolution_op, _jit_compiled_convolution_op, _jit_compiled_convolution_op while saving (showing 5 of 14). These functions will not be directly callable after loading.\n"
     ]
    },
    {
     "name": "stdout",
     "output_type": "stream",
     "text": [
      "INFO:tensorflow:Assets written to: ./model_weights\\assets\n"
     ]
    },
    {
     "name": "stderr",
     "output_type": "stream",
     "text": [
      "INFO:tensorflow:Assets written to: ./model_weights\\assets\n"
     ]
    },
    {
     "name": "stdout",
     "output_type": "stream",
     "text": [
      "21/21 [==============================] - 14s 696ms/step - loss: 0.1741 - accuracy: 0.7774 - val_loss: 0.1840 - val_accuracy: 0.7615\n",
      "Epoch 70/200\n",
      "21/21 [==============================] - ETA: 0s - loss: 0.1730 - accuracy: 0.7796"
     ]
    },
    {
     "name": "stderr",
     "output_type": "stream",
     "text": [
      "WARNING:absl:Found untraced functions such as _jit_compiled_convolution_op, _jit_compiled_convolution_op, _jit_compiled_convolution_op, _jit_compiled_convolution_op, _jit_compiled_convolution_op while saving (showing 5 of 14). These functions will not be directly callable after loading.\n"
     ]
    },
    {
     "name": "stdout",
     "output_type": "stream",
     "text": [
      "INFO:tensorflow:Assets written to: ./model_weights\\assets\n"
     ]
    },
    {
     "name": "stderr",
     "output_type": "stream",
     "text": [
      "INFO:tensorflow:Assets written to: ./model_weights\\assets\n"
     ]
    },
    {
     "name": "stdout",
     "output_type": "stream",
     "text": [
      "21/21 [==============================] - 17s 831ms/step - loss: 0.1730 - accuracy: 0.7796 - val_loss: 0.1826 - val_accuracy: 0.7634\n",
      "Epoch 71/200\n",
      "21/21 [==============================] - ETA: 0s - loss: 0.1711 - accuracy: 0.7811"
     ]
    },
    {
     "name": "stderr",
     "output_type": "stream",
     "text": [
      "WARNING:absl:Found untraced functions such as _jit_compiled_convolution_op, _jit_compiled_convolution_op, _jit_compiled_convolution_op, _jit_compiled_convolution_op, _jit_compiled_convolution_op while saving (showing 5 of 14). These functions will not be directly callable after loading.\n"
     ]
    },
    {
     "name": "stdout",
     "output_type": "stream",
     "text": [
      "INFO:tensorflow:Assets written to: ./model_weights\\assets\n"
     ]
    },
    {
     "name": "stderr",
     "output_type": "stream",
     "text": [
      "INFO:tensorflow:Assets written to: ./model_weights\\assets\n"
     ]
    },
    {
     "name": "stdout",
     "output_type": "stream",
     "text": [
      "21/21 [==============================] - 15s 726ms/step - loss: 0.1711 - accuracy: 0.7811 - val_loss: 0.1811 - val_accuracy: 0.7654\n",
      "Epoch 72/200\n",
      "21/21 [==============================] - ETA: 0s - loss: 0.1708 - accuracy: 0.7826"
     ]
    },
    {
     "name": "stderr",
     "output_type": "stream",
     "text": [
      "WARNING:absl:Found untraced functions such as _jit_compiled_convolution_op, _jit_compiled_convolution_op, _jit_compiled_convolution_op, _jit_compiled_convolution_op, _jit_compiled_convolution_op while saving (showing 5 of 14). These functions will not be directly callable after loading.\n"
     ]
    },
    {
     "name": "stdout",
     "output_type": "stream",
     "text": [
      "INFO:tensorflow:Assets written to: ./model_weights\\assets\n"
     ]
    },
    {
     "name": "stderr",
     "output_type": "stream",
     "text": [
      "INFO:tensorflow:Assets written to: ./model_weights\\assets\n"
     ]
    },
    {
     "name": "stdout",
     "output_type": "stream",
     "text": [
      "21/21 [==============================] - 14s 673ms/step - loss: 0.1708 - accuracy: 0.7826 - val_loss: 0.1797 - val_accuracy: 0.7667\n",
      "Epoch 73/200\n",
      "21/21 [==============================] - ETA: 0s - loss: 0.1706 - accuracy: 0.7827"
     ]
    },
    {
     "name": "stderr",
     "output_type": "stream",
     "text": [
      "WARNING:absl:Found untraced functions such as _jit_compiled_convolution_op, _jit_compiled_convolution_op, _jit_compiled_convolution_op, _jit_compiled_convolution_op, _jit_compiled_convolution_op while saving (showing 5 of 14). These functions will not be directly callable after loading.\n"
     ]
    },
    {
     "name": "stdout",
     "output_type": "stream",
     "text": [
      "INFO:tensorflow:Assets written to: ./model_weights\\assets\n"
     ]
    },
    {
     "name": "stderr",
     "output_type": "stream",
     "text": [
      "INFO:tensorflow:Assets written to: ./model_weights\\assets\n"
     ]
    },
    {
     "name": "stdout",
     "output_type": "stream",
     "text": [
      "21/21 [==============================] - 14s 672ms/step - loss: 0.1706 - accuracy: 0.7827 - val_loss: 0.1785 - val_accuracy: 0.7686\n",
      "Epoch 74/200\n",
      "21/21 [==============================] - ETA: 0s - loss: 0.1685 - accuracy: 0.7854"
     ]
    },
    {
     "name": "stderr",
     "output_type": "stream",
     "text": [
      "WARNING:absl:Found untraced functions such as _jit_compiled_convolution_op, _jit_compiled_convolution_op, _jit_compiled_convolution_op, _jit_compiled_convolution_op, _jit_compiled_convolution_op while saving (showing 5 of 14). These functions will not be directly callable after loading.\n"
     ]
    },
    {
     "name": "stdout",
     "output_type": "stream",
     "text": [
      "INFO:tensorflow:Assets written to: ./model_weights\\assets\n"
     ]
    },
    {
     "name": "stderr",
     "output_type": "stream",
     "text": [
      "INFO:tensorflow:Assets written to: ./model_weights\\assets\n"
     ]
    },
    {
     "name": "stdout",
     "output_type": "stream",
     "text": [
      "21/21 [==============================] - 15s 729ms/step - loss: 0.1685 - accuracy: 0.7854 - val_loss: 0.1773 - val_accuracy: 0.7702\n",
      "Epoch 75/200\n",
      "21/21 [==============================] - ETA: 0s - loss: 0.1676 - accuracy: 0.7864"
     ]
    },
    {
     "name": "stderr",
     "output_type": "stream",
     "text": [
      "WARNING:absl:Found untraced functions such as _jit_compiled_convolution_op, _jit_compiled_convolution_op, _jit_compiled_convolution_op, _jit_compiled_convolution_op, _jit_compiled_convolution_op while saving (showing 5 of 14). These functions will not be directly callable after loading.\n"
     ]
    },
    {
     "name": "stdout",
     "output_type": "stream",
     "text": [
      "INFO:tensorflow:Assets written to: ./model_weights\\assets\n"
     ]
    },
    {
     "name": "stderr",
     "output_type": "stream",
     "text": [
      "INFO:tensorflow:Assets written to: ./model_weights\\assets\n"
     ]
    },
    {
     "name": "stdout",
     "output_type": "stream",
     "text": [
      "21/21 [==============================] - 20s 961ms/step - loss: 0.1676 - accuracy: 0.7864 - val_loss: 0.1764 - val_accuracy: 0.7713\n",
      "Epoch 76/200\n",
      "21/21 [==============================] - ETA: 0s - loss: 0.1679 - accuracy: 0.7868"
     ]
    },
    {
     "name": "stderr",
     "output_type": "stream",
     "text": [
      "WARNING:absl:Found untraced functions such as _jit_compiled_convolution_op, _jit_compiled_convolution_op, _jit_compiled_convolution_op, _jit_compiled_convolution_op, _jit_compiled_convolution_op while saving (showing 5 of 14). These functions will not be directly callable after loading.\n"
     ]
    },
    {
     "name": "stdout",
     "output_type": "stream",
     "text": [
      "INFO:tensorflow:Assets written to: ./model_weights\\assets\n"
     ]
    },
    {
     "name": "stderr",
     "output_type": "stream",
     "text": [
      "INFO:tensorflow:Assets written to: ./model_weights\\assets\n"
     ]
    },
    {
     "name": "stdout",
     "output_type": "stream",
     "text": [
      "21/21 [==============================] - 18s 881ms/step - loss: 0.1679 - accuracy: 0.7868 - val_loss: 0.1755 - val_accuracy: 0.7723\n",
      "Epoch 77/200\n",
      "21/21 [==============================] - ETA: 0s - loss: 0.1663 - accuracy: 0.7886"
     ]
    },
    {
     "name": "stderr",
     "output_type": "stream",
     "text": [
      "WARNING:absl:Found untraced functions such as _jit_compiled_convolution_op, _jit_compiled_convolution_op, _jit_compiled_convolution_op, _jit_compiled_convolution_op, _jit_compiled_convolution_op while saving (showing 5 of 14). These functions will not be directly callable after loading.\n"
     ]
    },
    {
     "name": "stdout",
     "output_type": "stream",
     "text": [
      "INFO:tensorflow:Assets written to: ./model_weights\\assets\n"
     ]
    },
    {
     "name": "stderr",
     "output_type": "stream",
     "text": [
      "INFO:tensorflow:Assets written to: ./model_weights\\assets\n"
     ]
    },
    {
     "name": "stdout",
     "output_type": "stream",
     "text": [
      "21/21 [==============================] - 21s 1s/step - loss: 0.1663 - accuracy: 0.7886 - val_loss: 0.1746 - val_accuracy: 0.7736\n",
      "Epoch 78/200\n",
      "21/21 [==============================] - ETA: 0s - loss: 0.1644 - accuracy: 0.7918"
     ]
    },
    {
     "name": "stderr",
     "output_type": "stream",
     "text": [
      "WARNING:absl:Found untraced functions such as _jit_compiled_convolution_op, _jit_compiled_convolution_op, _jit_compiled_convolution_op, _jit_compiled_convolution_op, _jit_compiled_convolution_op while saving (showing 5 of 14). These functions will not be directly callable after loading.\n"
     ]
    },
    {
     "name": "stdout",
     "output_type": "stream",
     "text": [
      "INFO:tensorflow:Assets written to: ./model_weights\\assets\n"
     ]
    },
    {
     "name": "stderr",
     "output_type": "stream",
     "text": [
      "INFO:tensorflow:Assets written to: ./model_weights\\assets\n"
     ]
    },
    {
     "name": "stdout",
     "output_type": "stream",
     "text": [
      "21/21 [==============================] - 21s 1s/step - loss: 0.1644 - accuracy: 0.7918 - val_loss: 0.1733 - val_accuracy: 0.7750\n",
      "Epoch 79/200\n",
      "21/21 [==============================] - ETA: 0s - loss: 0.1642 - accuracy: 0.7923"
     ]
    },
    {
     "name": "stderr",
     "output_type": "stream",
     "text": [
      "WARNING:absl:Found untraced functions such as _jit_compiled_convolution_op, _jit_compiled_convolution_op, _jit_compiled_convolution_op, _jit_compiled_convolution_op, _jit_compiled_convolution_op while saving (showing 5 of 14). These functions will not be directly callable after loading.\n"
     ]
    },
    {
     "name": "stdout",
     "output_type": "stream",
     "text": [
      "INFO:tensorflow:Assets written to: ./model_weights\\assets\n"
     ]
    },
    {
     "name": "stderr",
     "output_type": "stream",
     "text": [
      "INFO:tensorflow:Assets written to: ./model_weights\\assets\n"
     ]
    },
    {
     "name": "stdout",
     "output_type": "stream",
     "text": [
      "21/21 [==============================] - 21s 1s/step - loss: 0.1642 - accuracy: 0.7923 - val_loss: 0.1720 - val_accuracy: 0.7765\n",
      "Epoch 80/200\n",
      "21/21 [==============================] - ETA: 0s - loss: 0.1634 - accuracy: 0.7925"
     ]
    },
    {
     "name": "stderr",
     "output_type": "stream",
     "text": [
      "WARNING:absl:Found untraced functions such as _jit_compiled_convolution_op, _jit_compiled_convolution_op, _jit_compiled_convolution_op, _jit_compiled_convolution_op, _jit_compiled_convolution_op while saving (showing 5 of 14). These functions will not be directly callable after loading.\n"
     ]
    },
    {
     "name": "stdout",
     "output_type": "stream",
     "text": [
      "INFO:tensorflow:Assets written to: ./model_weights\\assets\n"
     ]
    },
    {
     "name": "stderr",
     "output_type": "stream",
     "text": [
      "INFO:tensorflow:Assets written to: ./model_weights\\assets\n"
     ]
    },
    {
     "name": "stdout",
     "output_type": "stream",
     "text": [
      "21/21 [==============================] - 21s 1s/step - loss: 0.1634 - accuracy: 0.7925 - val_loss: 0.1708 - val_accuracy: 0.7781\n",
      "Epoch 81/200\n",
      "21/21 [==============================] - ETA: 0s - loss: 0.1625 - accuracy: 0.7938"
     ]
    },
    {
     "name": "stderr",
     "output_type": "stream",
     "text": [
      "WARNING:absl:Found untraced functions such as _jit_compiled_convolution_op, _jit_compiled_convolution_op, _jit_compiled_convolution_op, _jit_compiled_convolution_op, _jit_compiled_convolution_op while saving (showing 5 of 14). These functions will not be directly callable after loading.\n"
     ]
    },
    {
     "name": "stdout",
     "output_type": "stream",
     "text": [
      "INFO:tensorflow:Assets written to: ./model_weights\\assets\n"
     ]
    },
    {
     "name": "stderr",
     "output_type": "stream",
     "text": [
      "INFO:tensorflow:Assets written to: ./model_weights\\assets\n"
     ]
    },
    {
     "name": "stdout",
     "output_type": "stream",
     "text": [
      "21/21 [==============================] - 20s 973ms/step - loss: 0.1625 - accuracy: 0.7938 - val_loss: 0.1695 - val_accuracy: 0.7793\n",
      "Epoch 82/200\n",
      "21/21 [==============================] - ETA: 0s - loss: 0.1626 - accuracy: 0.7937"
     ]
    },
    {
     "name": "stderr",
     "output_type": "stream",
     "text": [
      "WARNING:absl:Found untraced functions such as _jit_compiled_convolution_op, _jit_compiled_convolution_op, _jit_compiled_convolution_op, _jit_compiled_convolution_op, _jit_compiled_convolution_op while saving (showing 5 of 14). These functions will not be directly callable after loading.\n"
     ]
    },
    {
     "name": "stdout",
     "output_type": "stream",
     "text": [
      "INFO:tensorflow:Assets written to: ./model_weights\\assets\n"
     ]
    },
    {
     "name": "stderr",
     "output_type": "stream",
     "text": [
      "INFO:tensorflow:Assets written to: ./model_weights\\assets\n"
     ]
    },
    {
     "name": "stdout",
     "output_type": "stream",
     "text": [
      "21/21 [==============================] - 18s 901ms/step - loss: 0.1626 - accuracy: 0.7937 - val_loss: 0.1688 - val_accuracy: 0.7803\n",
      "Epoch 83/200\n",
      "21/21 [==============================] - ETA: 0s - loss: 0.1612 - accuracy: 0.7956"
     ]
    },
    {
     "name": "stderr",
     "output_type": "stream",
     "text": [
      "WARNING:absl:Found untraced functions such as _jit_compiled_convolution_op, _jit_compiled_convolution_op, _jit_compiled_convolution_op, _jit_compiled_convolution_op, _jit_compiled_convolution_op while saving (showing 5 of 14). These functions will not be directly callable after loading.\n"
     ]
    },
    {
     "name": "stdout",
     "output_type": "stream",
     "text": [
      "INFO:tensorflow:Assets written to: ./model_weights\\assets\n"
     ]
    },
    {
     "name": "stderr",
     "output_type": "stream",
     "text": [
      "INFO:tensorflow:Assets written to: ./model_weights\\assets\n"
     ]
    },
    {
     "name": "stdout",
     "output_type": "stream",
     "text": [
      "21/21 [==============================] - 22s 1s/step - loss: 0.1612 - accuracy: 0.7956 - val_loss: 0.1675 - val_accuracy: 0.7819\n",
      "Epoch 84/200\n",
      "21/21 [==============================] - ETA: 0s - loss: 0.1601 - accuracy: 0.7977"
     ]
    },
    {
     "name": "stderr",
     "output_type": "stream",
     "text": [
      "WARNING:absl:Found untraced functions such as _jit_compiled_convolution_op, _jit_compiled_convolution_op, _jit_compiled_convolution_op, _jit_compiled_convolution_op, _jit_compiled_convolution_op while saving (showing 5 of 14). These functions will not be directly callable after loading.\n"
     ]
    },
    {
     "name": "stdout",
     "output_type": "stream",
     "text": [
      "INFO:tensorflow:Assets written to: ./model_weights\\assets\n"
     ]
    },
    {
     "name": "stderr",
     "output_type": "stream",
     "text": [
      "INFO:tensorflow:Assets written to: ./model_weights\\assets\n"
     ]
    },
    {
     "name": "stdout",
     "output_type": "stream",
     "text": [
      "21/21 [==============================] - 25s 1s/step - loss: 0.1601 - accuracy: 0.7977 - val_loss: 0.1666 - val_accuracy: 0.7835\n",
      "Epoch 85/200\n",
      "21/21 [==============================] - ETA: 0s - loss: 0.1604 - accuracy: 0.7971"
     ]
    },
    {
     "name": "stderr",
     "output_type": "stream",
     "text": [
      "WARNING:absl:Found untraced functions such as _jit_compiled_convolution_op, _jit_compiled_convolution_op, _jit_compiled_convolution_op, _jit_compiled_convolution_op, _jit_compiled_convolution_op while saving (showing 5 of 14). These functions will not be directly callable after loading.\n"
     ]
    },
    {
     "name": "stdout",
     "output_type": "stream",
     "text": [
      "INFO:tensorflow:Assets written to: ./model_weights\\assets\n"
     ]
    },
    {
     "name": "stderr",
     "output_type": "stream",
     "text": [
      "INFO:tensorflow:Assets written to: ./model_weights\\assets\n"
     ]
    },
    {
     "name": "stdout",
     "output_type": "stream",
     "text": [
      "21/21 [==============================] - 24s 1s/step - loss: 0.1604 - accuracy: 0.7971 - val_loss: 0.1653 - val_accuracy: 0.7850\n",
      "Epoch 86/200\n",
      "21/21 [==============================] - ETA: 0s - loss: 0.1592 - accuracy: 0.7984"
     ]
    },
    {
     "name": "stderr",
     "output_type": "stream",
     "text": [
      "WARNING:absl:Found untraced functions such as _jit_compiled_convolution_op, _jit_compiled_convolution_op, _jit_compiled_convolution_op, _jit_compiled_convolution_op, _jit_compiled_convolution_op while saving (showing 5 of 14). These functions will not be directly callable after loading.\n"
     ]
    },
    {
     "name": "stdout",
     "output_type": "stream",
     "text": [
      "INFO:tensorflow:Assets written to: ./model_weights\\assets\n"
     ]
    },
    {
     "name": "stderr",
     "output_type": "stream",
     "text": [
      "INFO:tensorflow:Assets written to: ./model_weights\\assets\n"
     ]
    },
    {
     "name": "stdout",
     "output_type": "stream",
     "text": [
      "21/21 [==============================] - 19s 908ms/step - loss: 0.1592 - accuracy: 0.7984 - val_loss: 0.1646 - val_accuracy: 0.7859\n",
      "Epoch 87/200\n",
      "21/21 [==============================] - ETA: 0s - loss: 0.1583 - accuracy: 0.7993"
     ]
    },
    {
     "name": "stderr",
     "output_type": "stream",
     "text": [
      "WARNING:absl:Found untraced functions such as _jit_compiled_convolution_op, _jit_compiled_convolution_op, _jit_compiled_convolution_op, _jit_compiled_convolution_op, _jit_compiled_convolution_op while saving (showing 5 of 14). These functions will not be directly callable after loading.\n"
     ]
    },
    {
     "name": "stdout",
     "output_type": "stream",
     "text": [
      "INFO:tensorflow:Assets written to: ./model_weights\\assets\n"
     ]
    },
    {
     "name": "stderr",
     "output_type": "stream",
     "text": [
      "INFO:tensorflow:Assets written to: ./model_weights\\assets\n"
     ]
    },
    {
     "name": "stdout",
     "output_type": "stream",
     "text": [
      "21/21 [==============================] - 19s 924ms/step - loss: 0.1583 - accuracy: 0.7993 - val_loss: 0.1638 - val_accuracy: 0.7867\n",
      "Epoch 88/200\n",
      "21/21 [==============================] - ETA: 0s - loss: 0.1574 - accuracy: 0.8013"
     ]
    },
    {
     "name": "stderr",
     "output_type": "stream",
     "text": [
      "WARNING:absl:Found untraced functions such as _jit_compiled_convolution_op, _jit_compiled_convolution_op, _jit_compiled_convolution_op, _jit_compiled_convolution_op, _jit_compiled_convolution_op while saving (showing 5 of 14). These functions will not be directly callable after loading.\n"
     ]
    },
    {
     "name": "stdout",
     "output_type": "stream",
     "text": [
      "INFO:tensorflow:Assets written to: ./model_weights\\assets\n"
     ]
    },
    {
     "name": "stderr",
     "output_type": "stream",
     "text": [
      "INFO:tensorflow:Assets written to: ./model_weights\\assets\n"
     ]
    },
    {
     "name": "stdout",
     "output_type": "stream",
     "text": [
      "21/21 [==============================] - 23s 1s/step - loss: 0.1574 - accuracy: 0.8013 - val_loss: 0.1632 - val_accuracy: 0.7875\n",
      "Epoch 89/200\n",
      "21/21 [==============================] - ETA: 0s - loss: 0.1564 - accuracy: 0.8020"
     ]
    },
    {
     "name": "stderr",
     "output_type": "stream",
     "text": [
      "WARNING:absl:Found untraced functions such as _jit_compiled_convolution_op, _jit_compiled_convolution_op, _jit_compiled_convolution_op, _jit_compiled_convolution_op, _jit_compiled_convolution_op while saving (showing 5 of 14). These functions will not be directly callable after loading.\n"
     ]
    },
    {
     "name": "stdout",
     "output_type": "stream",
     "text": [
      "INFO:tensorflow:Assets written to: ./model_weights\\assets\n"
     ]
    },
    {
     "name": "stderr",
     "output_type": "stream",
     "text": [
      "INFO:tensorflow:Assets written to: ./model_weights\\assets\n"
     ]
    },
    {
     "name": "stdout",
     "output_type": "stream",
     "text": [
      "21/21 [==============================] - 25s 1s/step - loss: 0.1564 - accuracy: 0.8020 - val_loss: 0.1621 - val_accuracy: 0.7888\n",
      "Epoch 90/200\n",
      "21/21 [==============================] - ETA: 0s - loss: 0.1558 - accuracy: 0.8030"
     ]
    },
    {
     "name": "stderr",
     "output_type": "stream",
     "text": [
      "WARNING:absl:Found untraced functions such as _jit_compiled_convolution_op, _jit_compiled_convolution_op, _jit_compiled_convolution_op, _jit_compiled_convolution_op, _jit_compiled_convolution_op while saving (showing 5 of 14). These functions will not be directly callable after loading.\n"
     ]
    },
    {
     "name": "stdout",
     "output_type": "stream",
     "text": [
      "INFO:tensorflow:Assets written to: ./model_weights\\assets\n"
     ]
    },
    {
     "name": "stderr",
     "output_type": "stream",
     "text": [
      "INFO:tensorflow:Assets written to: ./model_weights\\assets\n"
     ]
    },
    {
     "name": "stdout",
     "output_type": "stream",
     "text": [
      "21/21 [==============================] - 21s 1s/step - loss: 0.1558 - accuracy: 0.8030 - val_loss: 0.1612 - val_accuracy: 0.7900\n",
      "Epoch 91/200\n",
      "21/21 [==============================] - ETA: 0s - loss: 0.1548 - accuracy: 0.8038"
     ]
    },
    {
     "name": "stderr",
     "output_type": "stream",
     "text": [
      "WARNING:absl:Found untraced functions such as _jit_compiled_convolution_op, _jit_compiled_convolution_op, _jit_compiled_convolution_op, _jit_compiled_convolution_op, _jit_compiled_convolution_op while saving (showing 5 of 14). These functions will not be directly callable after loading.\n"
     ]
    },
    {
     "name": "stdout",
     "output_type": "stream",
     "text": [
      "INFO:tensorflow:Assets written to: ./model_weights\\assets\n"
     ]
    },
    {
     "name": "stderr",
     "output_type": "stream",
     "text": [
      "INFO:tensorflow:Assets written to: ./model_weights\\assets\n"
     ]
    },
    {
     "name": "stdout",
     "output_type": "stream",
     "text": [
      "21/21 [==============================] - 19s 930ms/step - loss: 0.1548 - accuracy: 0.8038 - val_loss: 0.1606 - val_accuracy: 0.7908\n",
      "Epoch 92/200\n",
      "21/21 [==============================] - ETA: 0s - loss: 0.1546 - accuracy: 0.8041"
     ]
    },
    {
     "name": "stderr",
     "output_type": "stream",
     "text": [
      "WARNING:absl:Found untraced functions such as _jit_compiled_convolution_op, _jit_compiled_convolution_op, _jit_compiled_convolution_op, _jit_compiled_convolution_op, _jit_compiled_convolution_op while saving (showing 5 of 14). These functions will not be directly callable after loading.\n"
     ]
    },
    {
     "name": "stdout",
     "output_type": "stream",
     "text": [
      "INFO:tensorflow:Assets written to: ./model_weights\\assets\n"
     ]
    },
    {
     "name": "stderr",
     "output_type": "stream",
     "text": [
      "INFO:tensorflow:Assets written to: ./model_weights\\assets\n"
     ]
    },
    {
     "name": "stdout",
     "output_type": "stream",
     "text": [
      "21/21 [==============================] - 19s 925ms/step - loss: 0.1546 - accuracy: 0.8041 - val_loss: 0.1595 - val_accuracy: 0.7920\n",
      "Epoch 93/200\n",
      "21/21 [==============================] - ETA: 0s - loss: 0.1539 - accuracy: 0.8050"
     ]
    },
    {
     "name": "stderr",
     "output_type": "stream",
     "text": [
      "WARNING:absl:Found untraced functions such as _jit_compiled_convolution_op, _jit_compiled_convolution_op, _jit_compiled_convolution_op, _jit_compiled_convolution_op, _jit_compiled_convolution_op while saving (showing 5 of 14). These functions will not be directly callable after loading.\n"
     ]
    },
    {
     "name": "stdout",
     "output_type": "stream",
     "text": [
      "INFO:tensorflow:Assets written to: ./model_weights\\assets\n"
     ]
    },
    {
     "name": "stderr",
     "output_type": "stream",
     "text": [
      "INFO:tensorflow:Assets written to: ./model_weights\\assets\n"
     ]
    },
    {
     "name": "stdout",
     "output_type": "stream",
     "text": [
      "21/21 [==============================] - 17s 827ms/step - loss: 0.1539 - accuracy: 0.8050 - val_loss: 0.1585 - val_accuracy: 0.7932\n",
      "Epoch 94/200\n",
      "21/21 [==============================] - ETA: 0s - loss: 0.1526 - accuracy: 0.8070"
     ]
    },
    {
     "name": "stderr",
     "output_type": "stream",
     "text": [
      "WARNING:absl:Found untraced functions such as _jit_compiled_convolution_op, _jit_compiled_convolution_op, _jit_compiled_convolution_op, _jit_compiled_convolution_op, _jit_compiled_convolution_op while saving (showing 5 of 14). These functions will not be directly callable after loading.\n"
     ]
    },
    {
     "name": "stdout",
     "output_type": "stream",
     "text": [
      "INFO:tensorflow:Assets written to: ./model_weights\\assets\n"
     ]
    },
    {
     "name": "stderr",
     "output_type": "stream",
     "text": [
      "INFO:tensorflow:Assets written to: ./model_weights\\assets\n"
     ]
    },
    {
     "name": "stdout",
     "output_type": "stream",
     "text": [
      "21/21 [==============================] - 16s 779ms/step - loss: 0.1526 - accuracy: 0.8070 - val_loss: 0.1579 - val_accuracy: 0.7938\n",
      "Epoch 95/200\n",
      "21/21 [==============================] - ETA: 0s - loss: 0.1533 - accuracy: 0.8062"
     ]
    },
    {
     "name": "stderr",
     "output_type": "stream",
     "text": [
      "WARNING:absl:Found untraced functions such as _jit_compiled_convolution_op, _jit_compiled_convolution_op, _jit_compiled_convolution_op, _jit_compiled_convolution_op, _jit_compiled_convolution_op while saving (showing 5 of 14). These functions will not be directly callable after loading.\n"
     ]
    },
    {
     "name": "stdout",
     "output_type": "stream",
     "text": [
      "INFO:tensorflow:Assets written to: ./model_weights\\assets\n"
     ]
    },
    {
     "name": "stderr",
     "output_type": "stream",
     "text": [
      "INFO:tensorflow:Assets written to: ./model_weights\\assets\n"
     ]
    },
    {
     "name": "stdout",
     "output_type": "stream",
     "text": [
      "21/21 [==============================] - 15s 720ms/step - loss: 0.1533 - accuracy: 0.8062 - val_loss: 0.1579 - val_accuracy: 0.7942\n",
      "Epoch 96/200\n",
      "21/21 [==============================] - ETA: 0s - loss: 0.1528 - accuracy: 0.8065"
     ]
    },
    {
     "name": "stderr",
     "output_type": "stream",
     "text": [
      "WARNING:absl:Found untraced functions such as _jit_compiled_convolution_op, _jit_compiled_convolution_op, _jit_compiled_convolution_op, _jit_compiled_convolution_op, _jit_compiled_convolution_op while saving (showing 5 of 14). These functions will not be directly callable after loading.\n"
     ]
    },
    {
     "name": "stdout",
     "output_type": "stream",
     "text": [
      "INFO:tensorflow:Assets written to: ./model_weights\\assets\n"
     ]
    },
    {
     "name": "stderr",
     "output_type": "stream",
     "text": [
      "INFO:tensorflow:Assets written to: ./model_weights\\assets\n"
     ]
    },
    {
     "name": "stdout",
     "output_type": "stream",
     "text": [
      "21/21 [==============================] - 16s 791ms/step - loss: 0.1528 - accuracy: 0.8065 - val_loss: 0.1571 - val_accuracy: 0.7952\n",
      "Epoch 97/200\n",
      "21/21 [==============================] - ETA: 0s - loss: 0.1515 - accuracy: 0.8085"
     ]
    },
    {
     "name": "stderr",
     "output_type": "stream",
     "text": [
      "WARNING:absl:Found untraced functions such as _jit_compiled_convolution_op, _jit_compiled_convolution_op, _jit_compiled_convolution_op, _jit_compiled_convolution_op, _jit_compiled_convolution_op while saving (showing 5 of 14). These functions will not be directly callable after loading.\n"
     ]
    },
    {
     "name": "stdout",
     "output_type": "stream",
     "text": [
      "INFO:tensorflow:Assets written to: ./model_weights\\assets\n"
     ]
    },
    {
     "name": "stderr",
     "output_type": "stream",
     "text": [
      "INFO:tensorflow:Assets written to: ./model_weights\\assets\n"
     ]
    },
    {
     "name": "stdout",
     "output_type": "stream",
     "text": [
      "21/21 [==============================] - 19s 900ms/step - loss: 0.1515 - accuracy: 0.8085 - val_loss: 0.1556 - val_accuracy: 0.7966\n",
      "Epoch 98/200\n",
      "21/21 [==============================] - ETA: 0s - loss: 0.1507 - accuracy: 0.8095"
     ]
    },
    {
     "name": "stderr",
     "output_type": "stream",
     "text": [
      "WARNING:absl:Found untraced functions such as _jit_compiled_convolution_op, _jit_compiled_convolution_op, _jit_compiled_convolution_op, _jit_compiled_convolution_op, _jit_compiled_convolution_op while saving (showing 5 of 14). These functions will not be directly callable after loading.\n"
     ]
    },
    {
     "name": "stdout",
     "output_type": "stream",
     "text": [
      "INFO:tensorflow:Assets written to: ./model_weights\\assets\n"
     ]
    },
    {
     "name": "stderr",
     "output_type": "stream",
     "text": [
      "INFO:tensorflow:Assets written to: ./model_weights\\assets\n"
     ]
    },
    {
     "name": "stdout",
     "output_type": "stream",
     "text": [
      "21/21 [==============================] - 16s 734ms/step - loss: 0.1507 - accuracy: 0.8095 - val_loss: 0.1548 - val_accuracy: 0.7973\n",
      "Epoch 99/200\n",
      "21/21 [==============================] - ETA: 0s - loss: 0.1502 - accuracy: 0.8098"
     ]
    },
    {
     "name": "stderr",
     "output_type": "stream",
     "text": [
      "WARNING:absl:Found untraced functions such as _jit_compiled_convolution_op, _jit_compiled_convolution_op, _jit_compiled_convolution_op, _jit_compiled_convolution_op, _jit_compiled_convolution_op while saving (showing 5 of 14). These functions will not be directly callable after loading.\n"
     ]
    },
    {
     "name": "stdout",
     "output_type": "stream",
     "text": [
      "INFO:tensorflow:Assets written to: ./model_weights\\assets\n"
     ]
    },
    {
     "name": "stderr",
     "output_type": "stream",
     "text": [
      "INFO:tensorflow:Assets written to: ./model_weights\\assets\n"
     ]
    },
    {
     "name": "stdout",
     "output_type": "stream",
     "text": [
      "21/21 [==============================] - 16s 793ms/step - loss: 0.1502 - accuracy: 0.8098 - val_loss: 0.1545 - val_accuracy: 0.7977\n",
      "Epoch 100/200\n",
      "21/21 [==============================] - ETA: 0s - loss: 0.1490 - accuracy: 0.8119"
     ]
    },
    {
     "name": "stderr",
     "output_type": "stream",
     "text": [
      "WARNING:absl:Found untraced functions such as _jit_compiled_convolution_op, _jit_compiled_convolution_op, _jit_compiled_convolution_op, _jit_compiled_convolution_op, _jit_compiled_convolution_op while saving (showing 5 of 14). These functions will not be directly callable after loading.\n"
     ]
    },
    {
     "name": "stdout",
     "output_type": "stream",
     "text": [
      "INFO:tensorflow:Assets written to: ./model_weights\\assets\n"
     ]
    },
    {
     "name": "stderr",
     "output_type": "stream",
     "text": [
      "INFO:tensorflow:Assets written to: ./model_weights\\assets\n"
     ]
    },
    {
     "name": "stdout",
     "output_type": "stream",
     "text": [
      "21/21 [==============================] - 16s 762ms/step - loss: 0.1490 - accuracy: 0.8119 - val_loss: 0.1536 - val_accuracy: 0.7991\n",
      "Epoch 101/200\n",
      "21/21 [==============================] - ETA: 0s - loss: 0.1488 - accuracy: 0.8116"
     ]
    },
    {
     "name": "stderr",
     "output_type": "stream",
     "text": [
      "WARNING:absl:Found untraced functions such as _jit_compiled_convolution_op, _jit_compiled_convolution_op, _jit_compiled_convolution_op, _jit_compiled_convolution_op, _jit_compiled_convolution_op while saving (showing 5 of 14). These functions will not be directly callable after loading.\n"
     ]
    },
    {
     "name": "stdout",
     "output_type": "stream",
     "text": [
      "INFO:tensorflow:Assets written to: ./model_weights\\assets\n"
     ]
    },
    {
     "name": "stderr",
     "output_type": "stream",
     "text": [
      "INFO:tensorflow:Assets written to: ./model_weights\\assets\n"
     ]
    },
    {
     "name": "stdout",
     "output_type": "stream",
     "text": [
      "21/21 [==============================] - 19s 927ms/step - loss: 0.1488 - accuracy: 0.8116 - val_loss: 0.1531 - val_accuracy: 0.8002\n",
      "Epoch 102/200\n",
      "21/21 [==============================] - ETA: 0s - loss: 0.1483 - accuracy: 0.8125"
     ]
    },
    {
     "name": "stderr",
     "output_type": "stream",
     "text": [
      "WARNING:absl:Found untraced functions such as _jit_compiled_convolution_op, _jit_compiled_convolution_op, _jit_compiled_convolution_op, _jit_compiled_convolution_op, _jit_compiled_convolution_op while saving (showing 5 of 14). These functions will not be directly callable after loading.\n"
     ]
    },
    {
     "name": "stdout",
     "output_type": "stream",
     "text": [
      "INFO:tensorflow:Assets written to: ./model_weights\\assets\n"
     ]
    },
    {
     "name": "stderr",
     "output_type": "stream",
     "text": [
      "INFO:tensorflow:Assets written to: ./model_weights\\assets\n"
     ]
    },
    {
     "name": "stdout",
     "output_type": "stream",
     "text": [
      "21/21 [==============================] - 22s 1s/step - loss: 0.1483 - accuracy: 0.8125 - val_loss: 0.1519 - val_accuracy: 0.8014\n",
      "Epoch 103/200\n",
      "21/21 [==============================] - ETA: 0s - loss: 0.1472 - accuracy: 0.8140"
     ]
    },
    {
     "name": "stderr",
     "output_type": "stream",
     "text": [
      "WARNING:absl:Found untraced functions such as _jit_compiled_convolution_op, _jit_compiled_convolution_op, _jit_compiled_convolution_op, _jit_compiled_convolution_op, _jit_compiled_convolution_op while saving (showing 5 of 14). These functions will not be directly callable after loading.\n"
     ]
    },
    {
     "name": "stdout",
     "output_type": "stream",
     "text": [
      "INFO:tensorflow:Assets written to: ./model_weights\\assets\n"
     ]
    },
    {
     "name": "stderr",
     "output_type": "stream",
     "text": [
      "INFO:tensorflow:Assets written to: ./model_weights\\assets\n"
     ]
    },
    {
     "name": "stdout",
     "output_type": "stream",
     "text": [
      "21/21 [==============================] - 18s 852ms/step - loss: 0.1472 - accuracy: 0.8140 - val_loss: 0.1516 - val_accuracy: 0.8017\n",
      "Epoch 104/200\n",
      "21/21 [==============================] - ETA: 0s - loss: 0.1470 - accuracy: 0.8146"
     ]
    },
    {
     "name": "stderr",
     "output_type": "stream",
     "text": [
      "WARNING:absl:Found untraced functions such as _jit_compiled_convolution_op, _jit_compiled_convolution_op, _jit_compiled_convolution_op, _jit_compiled_convolution_op, _jit_compiled_convolution_op while saving (showing 5 of 14). These functions will not be directly callable after loading.\n"
     ]
    },
    {
     "name": "stdout",
     "output_type": "stream",
     "text": [
      "INFO:tensorflow:Assets written to: ./model_weights\\assets\n"
     ]
    },
    {
     "name": "stderr",
     "output_type": "stream",
     "text": [
      "INFO:tensorflow:Assets written to: ./model_weights\\assets\n"
     ]
    },
    {
     "name": "stdout",
     "output_type": "stream",
     "text": [
      "21/21 [==============================] - 17s 807ms/step - loss: 0.1470 - accuracy: 0.8146 - val_loss: 0.1513 - val_accuracy: 0.8024\n",
      "Epoch 105/200\n",
      "21/21 [==============================] - ETA: 0s - loss: 0.1457 - accuracy: 0.8158"
     ]
    },
    {
     "name": "stderr",
     "output_type": "stream",
     "text": [
      "WARNING:absl:Found untraced functions such as _jit_compiled_convolution_op, _jit_compiled_convolution_op, _jit_compiled_convolution_op, _jit_compiled_convolution_op, _jit_compiled_convolution_op while saving (showing 5 of 14). These functions will not be directly callable after loading.\n"
     ]
    },
    {
     "name": "stdout",
     "output_type": "stream",
     "text": [
      "INFO:tensorflow:Assets written to: ./model_weights\\assets\n"
     ]
    },
    {
     "name": "stderr",
     "output_type": "stream",
     "text": [
      "INFO:tensorflow:Assets written to: ./model_weights\\assets\n"
     ]
    },
    {
     "name": "stdout",
     "output_type": "stream",
     "text": [
      "21/21 [==============================] - 19s 921ms/step - loss: 0.1457 - accuracy: 0.8158 - val_loss: 0.1504 - val_accuracy: 0.8031\n",
      "Epoch 106/200\n",
      "21/21 [==============================] - ETA: 0s - loss: 0.1460 - accuracy: 0.8159"
     ]
    },
    {
     "name": "stderr",
     "output_type": "stream",
     "text": [
      "WARNING:absl:Found untraced functions such as _jit_compiled_convolution_op, _jit_compiled_convolution_op, _jit_compiled_convolution_op, _jit_compiled_convolution_op, _jit_compiled_convolution_op while saving (showing 5 of 14). These functions will not be directly callable after loading.\n"
     ]
    },
    {
     "name": "stdout",
     "output_type": "stream",
     "text": [
      "INFO:tensorflow:Assets written to: ./model_weights\\assets\n"
     ]
    },
    {
     "name": "stderr",
     "output_type": "stream",
     "text": [
      "INFO:tensorflow:Assets written to: ./model_weights\\assets\n"
     ]
    },
    {
     "name": "stdout",
     "output_type": "stream",
     "text": [
      "21/21 [==============================] - 17s 817ms/step - loss: 0.1460 - accuracy: 0.8159 - val_loss: 0.1500 - val_accuracy: 0.8036\n",
      "Epoch 107/200\n",
      "21/21 [==============================] - ETA: 0s - loss: 0.1451 - accuracy: 0.8166"
     ]
    },
    {
     "name": "stderr",
     "output_type": "stream",
     "text": [
      "WARNING:absl:Found untraced functions such as _jit_compiled_convolution_op, _jit_compiled_convolution_op, _jit_compiled_convolution_op, _jit_compiled_convolution_op, _jit_compiled_convolution_op while saving (showing 5 of 14). These functions will not be directly callable after loading.\n"
     ]
    },
    {
     "name": "stdout",
     "output_type": "stream",
     "text": [
      "INFO:tensorflow:Assets written to: ./model_weights\\assets\n"
     ]
    },
    {
     "name": "stderr",
     "output_type": "stream",
     "text": [
      "INFO:tensorflow:Assets written to: ./model_weights\\assets\n"
     ]
    },
    {
     "name": "stdout",
     "output_type": "stream",
     "text": [
      "21/21 [==============================] - 18s 881ms/step - loss: 0.1451 - accuracy: 0.8166 - val_loss: 0.1494 - val_accuracy: 0.8044\n",
      "Epoch 108/200\n",
      "21/21 [==============================] - ETA: 0s - loss: 0.1437 - accuracy: 0.8186"
     ]
    },
    {
     "name": "stderr",
     "output_type": "stream",
     "text": [
      "WARNING:absl:Found untraced functions such as _jit_compiled_convolution_op, _jit_compiled_convolution_op, _jit_compiled_convolution_op, _jit_compiled_convolution_op, _jit_compiled_convolution_op while saving (showing 5 of 14). These functions will not be directly callable after loading.\n"
     ]
    },
    {
     "name": "stdout",
     "output_type": "stream",
     "text": [
      "INFO:tensorflow:Assets written to: ./model_weights\\assets\n"
     ]
    },
    {
     "name": "stderr",
     "output_type": "stream",
     "text": [
      "INFO:tensorflow:Assets written to: ./model_weights\\assets\n"
     ]
    },
    {
     "name": "stdout",
     "output_type": "stream",
     "text": [
      "21/21 [==============================] - 16s 769ms/step - loss: 0.1437 - accuracy: 0.8186 - val_loss: 0.1489 - val_accuracy: 0.8050\n",
      "Epoch 109/200\n",
      "21/21 [==============================] - ETA: 0s - loss: 0.1443 - accuracy: 0.8171"
     ]
    },
    {
     "name": "stderr",
     "output_type": "stream",
     "text": [
      "WARNING:absl:Found untraced functions such as _jit_compiled_convolution_op, _jit_compiled_convolution_op, _jit_compiled_convolution_op, _jit_compiled_convolution_op, _jit_compiled_convolution_op while saving (showing 5 of 14). These functions will not be directly callable after loading.\n"
     ]
    },
    {
     "name": "stdout",
     "output_type": "stream",
     "text": [
      "INFO:tensorflow:Assets written to: ./model_weights\\assets\n"
     ]
    },
    {
     "name": "stderr",
     "output_type": "stream",
     "text": [
      "INFO:tensorflow:Assets written to: ./model_weights\\assets\n"
     ]
    },
    {
     "name": "stdout",
     "output_type": "stream",
     "text": [
      "21/21 [==============================] - 18s 859ms/step - loss: 0.1443 - accuracy: 0.8171 - val_loss: 0.1485 - val_accuracy: 0.8056\n",
      "Epoch 110/200\n",
      "21/21 [==============================] - ETA: 0s - loss: 0.1426 - accuracy: 0.8197"
     ]
    },
    {
     "name": "stderr",
     "output_type": "stream",
     "text": [
      "WARNING:absl:Found untraced functions such as _jit_compiled_convolution_op, _jit_compiled_convolution_op, _jit_compiled_convolution_op, _jit_compiled_convolution_op, _jit_compiled_convolution_op while saving (showing 5 of 14). These functions will not be directly callable after loading.\n"
     ]
    },
    {
     "name": "stdout",
     "output_type": "stream",
     "text": [
      "INFO:tensorflow:Assets written to: ./model_weights\\assets\n"
     ]
    },
    {
     "name": "stderr",
     "output_type": "stream",
     "text": [
      "INFO:tensorflow:Assets written to: ./model_weights\\assets\n"
     ]
    },
    {
     "name": "stdout",
     "output_type": "stream",
     "text": [
      "21/21 [==============================] - 17s 843ms/step - loss: 0.1426 - accuracy: 0.8197 - val_loss: 0.1479 - val_accuracy: 0.8062\n",
      "Epoch 111/200\n",
      "21/21 [==============================] - ETA: 0s - loss: 0.1429 - accuracy: 0.8189"
     ]
    },
    {
     "name": "stderr",
     "output_type": "stream",
     "text": [
      "WARNING:absl:Found untraced functions such as _jit_compiled_convolution_op, _jit_compiled_convolution_op, _jit_compiled_convolution_op, _jit_compiled_convolution_op, _jit_compiled_convolution_op while saving (showing 5 of 14). These functions will not be directly callable after loading.\n"
     ]
    },
    {
     "name": "stdout",
     "output_type": "stream",
     "text": [
      "INFO:tensorflow:Assets written to: ./model_weights\\assets\n"
     ]
    },
    {
     "name": "stderr",
     "output_type": "stream",
     "text": [
      "INFO:tensorflow:Assets written to: ./model_weights\\assets\n"
     ]
    },
    {
     "name": "stdout",
     "output_type": "stream",
     "text": [
      "21/21 [==============================] - 16s 760ms/step - loss: 0.1429 - accuracy: 0.8189 - val_loss: 0.1473 - val_accuracy: 0.8070\n",
      "Epoch 112/200\n",
      "21/21 [==============================] - ETA: 0s - loss: 0.1426 - accuracy: 0.8195"
     ]
    },
    {
     "name": "stderr",
     "output_type": "stream",
     "text": [
      "WARNING:absl:Found untraced functions such as _jit_compiled_convolution_op, _jit_compiled_convolution_op, _jit_compiled_convolution_op, _jit_compiled_convolution_op, _jit_compiled_convolution_op while saving (showing 5 of 14). These functions will not be directly callable after loading.\n"
     ]
    },
    {
     "name": "stdout",
     "output_type": "stream",
     "text": [
      "INFO:tensorflow:Assets written to: ./model_weights\\assets\n"
     ]
    },
    {
     "name": "stderr",
     "output_type": "stream",
     "text": [
      "INFO:tensorflow:Assets written to: ./model_weights\\assets\n"
     ]
    },
    {
     "name": "stdout",
     "output_type": "stream",
     "text": [
      "21/21 [==============================] - 16s 768ms/step - loss: 0.1426 - accuracy: 0.8195 - val_loss: 0.1465 - val_accuracy: 0.8079\n",
      "Epoch 113/200\n",
      "21/21 [==============================] - ETA: 0s - loss: 0.1422 - accuracy: 0.8208"
     ]
    },
    {
     "name": "stderr",
     "output_type": "stream",
     "text": [
      "WARNING:absl:Found untraced functions such as _jit_compiled_convolution_op, _jit_compiled_convolution_op, _jit_compiled_convolution_op, _jit_compiled_convolution_op, _jit_compiled_convolution_op while saving (showing 5 of 14). These functions will not be directly callable after loading.\n"
     ]
    },
    {
     "name": "stdout",
     "output_type": "stream",
     "text": [
      "INFO:tensorflow:Assets written to: ./model_weights\\assets\n"
     ]
    },
    {
     "name": "stderr",
     "output_type": "stream",
     "text": [
      "INFO:tensorflow:Assets written to: ./model_weights\\assets\n"
     ]
    },
    {
     "name": "stdout",
     "output_type": "stream",
     "text": [
      "21/21 [==============================] - 16s 787ms/step - loss: 0.1422 - accuracy: 0.8208 - val_loss: 0.1456 - val_accuracy: 0.8088\n",
      "Epoch 114/200\n",
      "21/21 [==============================] - ETA: 0s - loss: 0.1407 - accuracy: 0.8227"
     ]
    },
    {
     "name": "stderr",
     "output_type": "stream",
     "text": [
      "WARNING:absl:Found untraced functions such as _jit_compiled_convolution_op, _jit_compiled_convolution_op, _jit_compiled_convolution_op, _jit_compiled_convolution_op, _jit_compiled_convolution_op while saving (showing 5 of 14). These functions will not be directly callable after loading.\n"
     ]
    },
    {
     "name": "stdout",
     "output_type": "stream",
     "text": [
      "INFO:tensorflow:Assets written to: ./model_weights\\assets\n"
     ]
    },
    {
     "name": "stderr",
     "output_type": "stream",
     "text": [
      "INFO:tensorflow:Assets written to: ./model_weights\\assets\n"
     ]
    },
    {
     "name": "stdout",
     "output_type": "stream",
     "text": [
      "21/21 [==============================] - 16s 760ms/step - loss: 0.1407 - accuracy: 0.8227 - val_loss: 0.1454 - val_accuracy: 0.8093\n",
      "Epoch 115/200\n",
      "21/21 [==============================] - ETA: 0s - loss: 0.1405 - accuracy: 0.8231"
     ]
    },
    {
     "name": "stderr",
     "output_type": "stream",
     "text": [
      "WARNING:absl:Found untraced functions such as _jit_compiled_convolution_op, _jit_compiled_convolution_op, _jit_compiled_convolution_op, _jit_compiled_convolution_op, _jit_compiled_convolution_op while saving (showing 5 of 14). These functions will not be directly callable after loading.\n"
     ]
    },
    {
     "name": "stdout",
     "output_type": "stream",
     "text": [
      "INFO:tensorflow:Assets written to: ./model_weights\\assets\n"
     ]
    },
    {
     "name": "stderr",
     "output_type": "stream",
     "text": [
      "INFO:tensorflow:Assets written to: ./model_weights\\assets\n"
     ]
    },
    {
     "name": "stdout",
     "output_type": "stream",
     "text": [
      "21/21 [==============================] - 16s 776ms/step - loss: 0.1405 - accuracy: 0.8231 - val_loss: 0.1450 - val_accuracy: 0.8100\n",
      "Epoch 116/200\n",
      "21/21 [==============================] - ETA: 0s - loss: 0.1403 - accuracy: 0.8230"
     ]
    },
    {
     "name": "stderr",
     "output_type": "stream",
     "text": [
      "WARNING:absl:Found untraced functions such as _jit_compiled_convolution_op, _jit_compiled_convolution_op, _jit_compiled_convolution_op, _jit_compiled_convolution_op, _jit_compiled_convolution_op while saving (showing 5 of 14). These functions will not be directly callable after loading.\n"
     ]
    },
    {
     "name": "stdout",
     "output_type": "stream",
     "text": [
      "INFO:tensorflow:Assets written to: ./model_weights\\assets\n"
     ]
    },
    {
     "name": "stderr",
     "output_type": "stream",
     "text": [
      "INFO:tensorflow:Assets written to: ./model_weights\\assets\n"
     ]
    },
    {
     "name": "stdout",
     "output_type": "stream",
     "text": [
      "21/21 [==============================] - 16s 766ms/step - loss: 0.1403 - accuracy: 0.8230 - val_loss: 0.1447 - val_accuracy: 0.8106\n",
      "Epoch 117/200\n",
      "21/21 [==============================] - ETA: 0s - loss: 0.1391 - accuracy: 0.8241"
     ]
    },
    {
     "name": "stderr",
     "output_type": "stream",
     "text": [
      "WARNING:absl:Found untraced functions such as _jit_compiled_convolution_op, _jit_compiled_convolution_op, _jit_compiled_convolution_op, _jit_compiled_convolution_op, _jit_compiled_convolution_op while saving (showing 5 of 14). These functions will not be directly callable after loading.\n"
     ]
    },
    {
     "name": "stdout",
     "output_type": "stream",
     "text": [
      "INFO:tensorflow:Assets written to: ./model_weights\\assets\n"
     ]
    },
    {
     "name": "stderr",
     "output_type": "stream",
     "text": [
      "INFO:tensorflow:Assets written to: ./model_weights\\assets\n"
     ]
    },
    {
     "name": "stdout",
     "output_type": "stream",
     "text": [
      "21/21 [==============================] - 18s 851ms/step - loss: 0.1391 - accuracy: 0.8241 - val_loss: 0.1440 - val_accuracy: 0.8115\n",
      "Epoch 118/200\n",
      "21/21 [==============================] - ETA: 0s - loss: 0.1390 - accuracy: 0.8249"
     ]
    },
    {
     "name": "stderr",
     "output_type": "stream",
     "text": [
      "WARNING:absl:Found untraced functions such as _jit_compiled_convolution_op, _jit_compiled_convolution_op, _jit_compiled_convolution_op, _jit_compiled_convolution_op, _jit_compiled_convolution_op while saving (showing 5 of 14). These functions will not be directly callable after loading.\n"
     ]
    },
    {
     "name": "stdout",
     "output_type": "stream",
     "text": [
      "INFO:tensorflow:Assets written to: ./model_weights\\assets\n"
     ]
    },
    {
     "name": "stderr",
     "output_type": "stream",
     "text": [
      "INFO:tensorflow:Assets written to: ./model_weights\\assets\n"
     ]
    },
    {
     "name": "stdout",
     "output_type": "stream",
     "text": [
      "21/21 [==============================] - 16s 765ms/step - loss: 0.1390 - accuracy: 0.8249 - val_loss: 0.1435 - val_accuracy: 0.8125\n",
      "Epoch 119/200\n",
      "21/21 [==============================] - ETA: 0s - loss: 0.1384 - accuracy: 0.8252"
     ]
    },
    {
     "name": "stderr",
     "output_type": "stream",
     "text": [
      "WARNING:absl:Found untraced functions such as _jit_compiled_convolution_op, _jit_compiled_convolution_op, _jit_compiled_convolution_op, _jit_compiled_convolution_op, _jit_compiled_convolution_op while saving (showing 5 of 14). These functions will not be directly callable after loading.\n"
     ]
    },
    {
     "name": "stdout",
     "output_type": "stream",
     "text": [
      "INFO:tensorflow:Assets written to: ./model_weights\\assets\n"
     ]
    },
    {
     "name": "stderr",
     "output_type": "stream",
     "text": [
      "INFO:tensorflow:Assets written to: ./model_weights\\assets\n"
     ]
    },
    {
     "name": "stdout",
     "output_type": "stream",
     "text": [
      "21/21 [==============================] - 16s 771ms/step - loss: 0.1384 - accuracy: 0.8252 - val_loss: 0.1431 - val_accuracy: 0.8131\n",
      "Epoch 120/200\n",
      "21/21 [==============================] - ETA: 0s - loss: 0.1371 - accuracy: 0.8271"
     ]
    },
    {
     "name": "stderr",
     "output_type": "stream",
     "text": [
      "WARNING:absl:Found untraced functions such as _jit_compiled_convolution_op, _jit_compiled_convolution_op, _jit_compiled_convolution_op, _jit_compiled_convolution_op, _jit_compiled_convolution_op while saving (showing 5 of 14). These functions will not be directly callable after loading.\n"
     ]
    },
    {
     "name": "stdout",
     "output_type": "stream",
     "text": [
      "INFO:tensorflow:Assets written to: ./model_weights\\assets\n"
     ]
    },
    {
     "name": "stderr",
     "output_type": "stream",
     "text": [
      "INFO:tensorflow:Assets written to: ./model_weights\\assets\n"
     ]
    },
    {
     "name": "stdout",
     "output_type": "stream",
     "text": [
      "21/21 [==============================] - 26s 1s/step - loss: 0.1371 - accuracy: 0.8271 - val_loss: 0.1426 - val_accuracy: 0.8141\n",
      "Epoch 121/200\n",
      "21/21 [==============================] - ETA: 0s - loss: 0.1367 - accuracy: 0.8279"
     ]
    },
    {
     "name": "stderr",
     "output_type": "stream",
     "text": [
      "WARNING:absl:Found untraced functions such as _jit_compiled_convolution_op, _jit_compiled_convolution_op, _jit_compiled_convolution_op, _jit_compiled_convolution_op, _jit_compiled_convolution_op while saving (showing 5 of 14). These functions will not be directly callable after loading.\n"
     ]
    },
    {
     "name": "stdout",
     "output_type": "stream",
     "text": [
      "INFO:tensorflow:Assets written to: ./model_weights\\assets\n"
     ]
    },
    {
     "name": "stderr",
     "output_type": "stream",
     "text": [
      "INFO:tensorflow:Assets written to: ./model_weights\\assets\n"
     ]
    },
    {
     "name": "stdout",
     "output_type": "stream",
     "text": [
      "21/21 [==============================] - 20s 963ms/step - loss: 0.1367 - accuracy: 0.8279 - val_loss: 0.1425 - val_accuracy: 0.8145\n",
      "Epoch 122/200\n",
      "21/21 [==============================] - ETA: 0s - loss: 0.1365 - accuracy: 0.8279"
     ]
    },
    {
     "name": "stderr",
     "output_type": "stream",
     "text": [
      "WARNING:absl:Found untraced functions such as _jit_compiled_convolution_op, _jit_compiled_convolution_op, _jit_compiled_convolution_op, _jit_compiled_convolution_op, _jit_compiled_convolution_op while saving (showing 5 of 14). These functions will not be directly callable after loading.\n"
     ]
    },
    {
     "name": "stdout",
     "output_type": "stream",
     "text": [
      "INFO:tensorflow:Assets written to: ./model_weights\\assets\n"
     ]
    },
    {
     "name": "stderr",
     "output_type": "stream",
     "text": [
      "INFO:tensorflow:Assets written to: ./model_weights\\assets\n"
     ]
    },
    {
     "name": "stdout",
     "output_type": "stream",
     "text": [
      "21/21 [==============================] - 17s 808ms/step - loss: 0.1365 - accuracy: 0.8279 - val_loss: 0.1417 - val_accuracy: 0.8153\n",
      "Epoch 123/200\n",
      "21/21 [==============================] - ETA: 0s - loss: 0.1359 - accuracy: 0.8291"
     ]
    },
    {
     "name": "stderr",
     "output_type": "stream",
     "text": [
      "WARNING:absl:Found untraced functions such as _jit_compiled_convolution_op, _jit_compiled_convolution_op, _jit_compiled_convolution_op, _jit_compiled_convolution_op, _jit_compiled_convolution_op while saving (showing 5 of 14). These functions will not be directly callable after loading.\n"
     ]
    },
    {
     "name": "stdout",
     "output_type": "stream",
     "text": [
      "INFO:tensorflow:Assets written to: ./model_weights\\assets\n"
     ]
    },
    {
     "name": "stderr",
     "output_type": "stream",
     "text": [
      "INFO:tensorflow:Assets written to: ./model_weights\\assets\n"
     ]
    },
    {
     "name": "stdout",
     "output_type": "stream",
     "text": [
      "21/21 [==============================] - 15s 741ms/step - loss: 0.1359 - accuracy: 0.8291 - val_loss: 0.1409 - val_accuracy: 0.8165\n",
      "Epoch 124/200\n",
      "21/21 [==============================] - ETA: 0s - loss: 0.1356 - accuracy: 0.8292"
     ]
    },
    {
     "name": "stderr",
     "output_type": "stream",
     "text": [
      "WARNING:absl:Found untraced functions such as _jit_compiled_convolution_op, _jit_compiled_convolution_op, _jit_compiled_convolution_op, _jit_compiled_convolution_op, _jit_compiled_convolution_op while saving (showing 5 of 14). These functions will not be directly callable after loading.\n"
     ]
    },
    {
     "name": "stdout",
     "output_type": "stream",
     "text": [
      "INFO:tensorflow:Assets written to: ./model_weights\\assets\n"
     ]
    },
    {
     "name": "stderr",
     "output_type": "stream",
     "text": [
      "INFO:tensorflow:Assets written to: ./model_weights\\assets\n"
     ]
    },
    {
     "name": "stdout",
     "output_type": "stream",
     "text": [
      "21/21 [==============================] - 19s 942ms/step - loss: 0.1356 - accuracy: 0.8292 - val_loss: 0.1405 - val_accuracy: 0.8170\n",
      "Epoch 125/200\n",
      "21/21 [==============================] - ETA: 0s - loss: 0.1362 - accuracy: 0.8280"
     ]
    },
    {
     "name": "stderr",
     "output_type": "stream",
     "text": [
      "WARNING:absl:Found untraced functions such as _jit_compiled_convolution_op, _jit_compiled_convolution_op, _jit_compiled_convolution_op, _jit_compiled_convolution_op, _jit_compiled_convolution_op while saving (showing 5 of 14). These functions will not be directly callable after loading.\n"
     ]
    },
    {
     "name": "stdout",
     "output_type": "stream",
     "text": [
      "INFO:tensorflow:Assets written to: ./model_weights\\assets\n"
     ]
    },
    {
     "name": "stderr",
     "output_type": "stream",
     "text": [
      "INFO:tensorflow:Assets written to: ./model_weights\\assets\n"
     ]
    },
    {
     "name": "stdout",
     "output_type": "stream",
     "text": [
      "21/21 [==============================] - 19s 909ms/step - loss: 0.1362 - accuracy: 0.8280 - val_loss: 0.1399 - val_accuracy: 0.8179\n",
      "Epoch 126/200\n",
      "21/21 [==============================] - ETA: 0s - loss: 0.1349 - accuracy: 0.8297"
     ]
    },
    {
     "name": "stderr",
     "output_type": "stream",
     "text": [
      "WARNING:absl:Found untraced functions such as _jit_compiled_convolution_op, _jit_compiled_convolution_op, _jit_compiled_convolution_op, _jit_compiled_convolution_op, _jit_compiled_convolution_op while saving (showing 5 of 14). These functions will not be directly callable after loading.\n"
     ]
    },
    {
     "name": "stdout",
     "output_type": "stream",
     "text": [
      "INFO:tensorflow:Assets written to: ./model_weights\\assets\n"
     ]
    },
    {
     "name": "stderr",
     "output_type": "stream",
     "text": [
      "INFO:tensorflow:Assets written to: ./model_weights\\assets\n"
     ]
    },
    {
     "name": "stdout",
     "output_type": "stream",
     "text": [
      "21/21 [==============================] - 16s 800ms/step - loss: 0.1349 - accuracy: 0.8297 - val_loss: 0.1398 - val_accuracy: 0.8182\n",
      "Epoch 127/200\n",
      "21/21 [==============================] - ETA: 0s - loss: 0.1340 - accuracy: 0.8314"
     ]
    },
    {
     "name": "stderr",
     "output_type": "stream",
     "text": [
      "WARNING:absl:Found untraced functions such as _jit_compiled_convolution_op, _jit_compiled_convolution_op, _jit_compiled_convolution_op, _jit_compiled_convolution_op, _jit_compiled_convolution_op while saving (showing 5 of 14). These functions will not be directly callable after loading.\n"
     ]
    },
    {
     "name": "stdout",
     "output_type": "stream",
     "text": [
      "INFO:tensorflow:Assets written to: ./model_weights\\assets\n"
     ]
    },
    {
     "name": "stderr",
     "output_type": "stream",
     "text": [
      "INFO:tensorflow:Assets written to: ./model_weights\\assets\n"
     ]
    },
    {
     "name": "stdout",
     "output_type": "stream",
     "text": [
      "21/21 [==============================] - 17s 836ms/step - loss: 0.1340 - accuracy: 0.8314 - val_loss: 0.1389 - val_accuracy: 0.8188\n",
      "Epoch 128/200\n",
      "21/21 [==============================] - ETA: 0s - loss: 0.1334 - accuracy: 0.8317"
     ]
    },
    {
     "name": "stderr",
     "output_type": "stream",
     "text": [
      "WARNING:absl:Found untraced functions such as _jit_compiled_convolution_op, _jit_compiled_convolution_op, _jit_compiled_convolution_op, _jit_compiled_convolution_op, _jit_compiled_convolution_op while saving (showing 5 of 14). These functions will not be directly callable after loading.\n"
     ]
    },
    {
     "name": "stdout",
     "output_type": "stream",
     "text": [
      "INFO:tensorflow:Assets written to: ./model_weights\\assets\n"
     ]
    },
    {
     "name": "stderr",
     "output_type": "stream",
     "text": [
      "INFO:tensorflow:Assets written to: ./model_weights\\assets\n"
     ]
    },
    {
     "name": "stdout",
     "output_type": "stream",
     "text": [
      "21/21 [==============================] - 15s 738ms/step - loss: 0.1334 - accuracy: 0.8317 - val_loss: 0.1384 - val_accuracy: 0.8196\n",
      "Epoch 129/200\n",
      "21/21 [==============================] - 11s 547ms/step - loss: 0.1334 - accuracy: 0.8319 - val_loss: 0.1384 - val_accuracy: 0.8197\n",
      "Epoch 130/200\n",
      "21/21 [==============================] - ETA: 0s - loss: 0.1328 - accuracy: 0.8329"
     ]
    },
    {
     "name": "stderr",
     "output_type": "stream",
     "text": [
      "WARNING:absl:Found untraced functions such as _jit_compiled_convolution_op, _jit_compiled_convolution_op, _jit_compiled_convolution_op, _jit_compiled_convolution_op, _jit_compiled_convolution_op while saving (showing 5 of 14). These functions will not be directly callable after loading.\n"
     ]
    },
    {
     "name": "stdout",
     "output_type": "stream",
     "text": [
      "INFO:tensorflow:Assets written to: ./model_weights\\assets\n"
     ]
    },
    {
     "name": "stderr",
     "output_type": "stream",
     "text": [
      "INFO:tensorflow:Assets written to: ./model_weights\\assets\n"
     ]
    },
    {
     "name": "stdout",
     "output_type": "stream",
     "text": [
      "21/21 [==============================] - 15s 748ms/step - loss: 0.1328 - accuracy: 0.8329 - val_loss: 0.1376 - val_accuracy: 0.8205\n",
      "Epoch 131/200\n",
      "21/21 [==============================] - ETA: 0s - loss: 0.1320 - accuracy: 0.8338"
     ]
    },
    {
     "name": "stderr",
     "output_type": "stream",
     "text": [
      "WARNING:absl:Found untraced functions such as _jit_compiled_convolution_op, _jit_compiled_convolution_op, _jit_compiled_convolution_op, _jit_compiled_convolution_op, _jit_compiled_convolution_op while saving (showing 5 of 14). These functions will not be directly callable after loading.\n"
     ]
    },
    {
     "name": "stdout",
     "output_type": "stream",
     "text": [
      "INFO:tensorflow:Assets written to: ./model_weights\\assets\n"
     ]
    },
    {
     "name": "stderr",
     "output_type": "stream",
     "text": [
      "INFO:tensorflow:Assets written to: ./model_weights\\assets\n"
     ]
    },
    {
     "name": "stdout",
     "output_type": "stream",
     "text": [
      "21/21 [==============================] - 15s 743ms/step - loss: 0.1320 - accuracy: 0.8338 - val_loss: 0.1372 - val_accuracy: 0.8207\n",
      "Epoch 132/200\n",
      "21/21 [==============================] - ETA: 0s - loss: 0.1315 - accuracy: 0.8342"
     ]
    },
    {
     "name": "stderr",
     "output_type": "stream",
     "text": [
      "WARNING:absl:Found untraced functions such as _jit_compiled_convolution_op, _jit_compiled_convolution_op, _jit_compiled_convolution_op, _jit_compiled_convolution_op, _jit_compiled_convolution_op while saving (showing 5 of 14). These functions will not be directly callable after loading.\n"
     ]
    },
    {
     "name": "stdout",
     "output_type": "stream",
     "text": [
      "INFO:tensorflow:Assets written to: ./model_weights\\assets\n"
     ]
    },
    {
     "name": "stderr",
     "output_type": "stream",
     "text": [
      "INFO:tensorflow:Assets written to: ./model_weights\\assets\n"
     ]
    },
    {
     "name": "stdout",
     "output_type": "stream",
     "text": [
      "21/21 [==============================] - 16s 785ms/step - loss: 0.1315 - accuracy: 0.8342 - val_loss: 0.1371 - val_accuracy: 0.8208\n",
      "Epoch 133/200\n",
      "21/21 [==============================] - ETA: 0s - loss: 0.1305 - accuracy: 0.8360"
     ]
    },
    {
     "name": "stderr",
     "output_type": "stream",
     "text": [
      "WARNING:absl:Found untraced functions such as _jit_compiled_convolution_op, _jit_compiled_convolution_op, _jit_compiled_convolution_op, _jit_compiled_convolution_op, _jit_compiled_convolution_op while saving (showing 5 of 14). These functions will not be directly callable after loading.\n"
     ]
    },
    {
     "name": "stdout",
     "output_type": "stream",
     "text": [
      "INFO:tensorflow:Assets written to: ./model_weights\\assets\n"
     ]
    },
    {
     "name": "stderr",
     "output_type": "stream",
     "text": [
      "INFO:tensorflow:Assets written to: ./model_weights\\assets\n"
     ]
    },
    {
     "name": "stdout",
     "output_type": "stream",
     "text": [
      "21/21 [==============================] - 17s 826ms/step - loss: 0.1305 - accuracy: 0.8360 - val_loss: 0.1367 - val_accuracy: 0.8212\n",
      "Epoch 134/200\n",
      "21/21 [==============================] - ETA: 0s - loss: 0.1308 - accuracy: 0.8352"
     ]
    },
    {
     "name": "stderr",
     "output_type": "stream",
     "text": [
      "WARNING:absl:Found untraced functions such as _jit_compiled_convolution_op, _jit_compiled_convolution_op, _jit_compiled_convolution_op, _jit_compiled_convolution_op, _jit_compiled_convolution_op while saving (showing 5 of 14). These functions will not be directly callable after loading.\n"
     ]
    },
    {
     "name": "stdout",
     "output_type": "stream",
     "text": [
      "INFO:tensorflow:Assets written to: ./model_weights\\assets\n"
     ]
    },
    {
     "name": "stderr",
     "output_type": "stream",
     "text": [
      "INFO:tensorflow:Assets written to: ./model_weights\\assets\n"
     ]
    },
    {
     "name": "stdout",
     "output_type": "stream",
     "text": [
      "21/21 [==============================] - 16s 767ms/step - loss: 0.1308 - accuracy: 0.8352 - val_loss: 0.1360 - val_accuracy: 0.8222\n",
      "Epoch 135/200\n",
      "21/21 [==============================] - ETA: 0s - loss: 0.1301 - accuracy: 0.8360"
     ]
    },
    {
     "name": "stderr",
     "output_type": "stream",
     "text": [
      "WARNING:absl:Found untraced functions such as _jit_compiled_convolution_op, _jit_compiled_convolution_op, _jit_compiled_convolution_op, _jit_compiled_convolution_op, _jit_compiled_convolution_op while saving (showing 5 of 14). These functions will not be directly callable after loading.\n"
     ]
    },
    {
     "name": "stdout",
     "output_type": "stream",
     "text": [
      "INFO:tensorflow:Assets written to: ./model_weights\\assets\n"
     ]
    },
    {
     "name": "stderr",
     "output_type": "stream",
     "text": [
      "INFO:tensorflow:Assets written to: ./model_weights\\assets\n"
     ]
    },
    {
     "name": "stdout",
     "output_type": "stream",
     "text": [
      "21/21 [==============================] - 16s 769ms/step - loss: 0.1301 - accuracy: 0.8360 - val_loss: 0.1355 - val_accuracy: 0.8230\n",
      "Epoch 136/200\n",
      "21/21 [==============================] - ETA: 0s - loss: 0.1297 - accuracy: 0.8372"
     ]
    },
    {
     "name": "stderr",
     "output_type": "stream",
     "text": [
      "WARNING:absl:Found untraced functions such as _jit_compiled_convolution_op, _jit_compiled_convolution_op, _jit_compiled_convolution_op, _jit_compiled_convolution_op, _jit_compiled_convolution_op while saving (showing 5 of 14). These functions will not be directly callable after loading.\n"
     ]
    },
    {
     "name": "stdout",
     "output_type": "stream",
     "text": [
      "INFO:tensorflow:Assets written to: ./model_weights\\assets\n"
     ]
    },
    {
     "name": "stderr",
     "output_type": "stream",
     "text": [
      "INFO:tensorflow:Assets written to: ./model_weights\\assets\n"
     ]
    },
    {
     "name": "stdout",
     "output_type": "stream",
     "text": [
      "21/21 [==============================] - 16s 770ms/step - loss: 0.1297 - accuracy: 0.8372 - val_loss: 0.1349 - val_accuracy: 0.8234\n",
      "Epoch 137/200\n",
      "21/21 [==============================] - 12s 563ms/step - loss: 0.1294 - accuracy: 0.8372 - val_loss: 0.1349 - val_accuracy: 0.8236\n",
      "Epoch 138/200\n",
      "21/21 [==============================] - ETA: 0s - loss: 0.1285 - accuracy: 0.8384"
     ]
    },
    {
     "name": "stderr",
     "output_type": "stream",
     "text": [
      "WARNING:absl:Found untraced functions such as _jit_compiled_convolution_op, _jit_compiled_convolution_op, _jit_compiled_convolution_op, _jit_compiled_convolution_op, _jit_compiled_convolution_op while saving (showing 5 of 14). These functions will not be directly callable after loading.\n"
     ]
    },
    {
     "name": "stdout",
     "output_type": "stream",
     "text": [
      "INFO:tensorflow:Assets written to: ./model_weights\\assets\n"
     ]
    },
    {
     "name": "stderr",
     "output_type": "stream",
     "text": [
      "INFO:tensorflow:Assets written to: ./model_weights\\assets\n"
     ]
    },
    {
     "name": "stdout",
     "output_type": "stream",
     "text": [
      "21/21 [==============================] - 16s 773ms/step - loss: 0.1285 - accuracy: 0.8384 - val_loss: 0.1346 - val_accuracy: 0.8243\n",
      "Epoch 139/200\n",
      "21/21 [==============================] - ETA: 0s - loss: 0.1280 - accuracy: 0.8392"
     ]
    },
    {
     "name": "stderr",
     "output_type": "stream",
     "text": [
      "WARNING:absl:Found untraced functions such as _jit_compiled_convolution_op, _jit_compiled_convolution_op, _jit_compiled_convolution_op, _jit_compiled_convolution_op, _jit_compiled_convolution_op while saving (showing 5 of 14). These functions will not be directly callable after loading.\n"
     ]
    },
    {
     "name": "stdout",
     "output_type": "stream",
     "text": [
      "INFO:tensorflow:Assets written to: ./model_weights\\assets\n"
     ]
    },
    {
     "name": "stderr",
     "output_type": "stream",
     "text": [
      "INFO:tensorflow:Assets written to: ./model_weights\\assets\n"
     ]
    },
    {
     "name": "stdout",
     "output_type": "stream",
     "text": [
      "21/21 [==============================] - 16s 780ms/step - loss: 0.1280 - accuracy: 0.8392 - val_loss: 0.1338 - val_accuracy: 0.8250\n",
      "Epoch 140/200\n",
      "21/21 [==============================] - ETA: 0s - loss: 0.1277 - accuracy: 0.8397"
     ]
    },
    {
     "name": "stderr",
     "output_type": "stream",
     "text": [
      "WARNING:absl:Found untraced functions such as _jit_compiled_convolution_op, _jit_compiled_convolution_op, _jit_compiled_convolution_op, _jit_compiled_convolution_op, _jit_compiled_convolution_op while saving (showing 5 of 14). These functions will not be directly callable after loading.\n"
     ]
    },
    {
     "name": "stdout",
     "output_type": "stream",
     "text": [
      "INFO:tensorflow:Assets written to: ./model_weights\\assets\n"
     ]
    },
    {
     "name": "stderr",
     "output_type": "stream",
     "text": [
      "INFO:tensorflow:Assets written to: ./model_weights\\assets\n"
     ]
    },
    {
     "name": "stdout",
     "output_type": "stream",
     "text": [
      "21/21 [==============================] - 15s 740ms/step - loss: 0.1277 - accuracy: 0.8397 - val_loss: 0.1336 - val_accuracy: 0.8257\n",
      "Epoch 141/200\n",
      "21/21 [==============================] - ETA: 0s - loss: 0.1279 - accuracy: 0.8390"
     ]
    },
    {
     "name": "stderr",
     "output_type": "stream",
     "text": [
      "WARNING:absl:Found untraced functions such as _jit_compiled_convolution_op, _jit_compiled_convolution_op, _jit_compiled_convolution_op, _jit_compiled_convolution_op, _jit_compiled_convolution_op while saving (showing 5 of 14). These functions will not be directly callable after loading.\n"
     ]
    },
    {
     "name": "stdout",
     "output_type": "stream",
     "text": [
      "INFO:tensorflow:Assets written to: ./model_weights\\assets\n"
     ]
    },
    {
     "name": "stderr",
     "output_type": "stream",
     "text": [
      "INFO:tensorflow:Assets written to: ./model_weights\\assets\n"
     ]
    },
    {
     "name": "stdout",
     "output_type": "stream",
     "text": [
      "21/21 [==============================] - 17s 823ms/step - loss: 0.1279 - accuracy: 0.8390 - val_loss: 0.1335 - val_accuracy: 0.8260\n",
      "Epoch 142/200\n",
      "21/21 [==============================] - ETA: 0s - loss: 0.1265 - accuracy: 0.8412"
     ]
    },
    {
     "name": "stderr",
     "output_type": "stream",
     "text": [
      "WARNING:absl:Found untraced functions such as _jit_compiled_convolution_op, _jit_compiled_convolution_op, _jit_compiled_convolution_op, _jit_compiled_convolution_op, _jit_compiled_convolution_op while saving (showing 5 of 14). These functions will not be directly callable after loading.\n"
     ]
    },
    {
     "name": "stdout",
     "output_type": "stream",
     "text": [
      "INFO:tensorflow:Assets written to: ./model_weights\\assets\n"
     ]
    },
    {
     "name": "stderr",
     "output_type": "stream",
     "text": [
      "INFO:tensorflow:Assets written to: ./model_weights\\assets\n"
     ]
    },
    {
     "name": "stdout",
     "output_type": "stream",
     "text": [
      "21/21 [==============================] - 17s 830ms/step - loss: 0.1265 - accuracy: 0.8412 - val_loss: 0.1333 - val_accuracy: 0.8264\n",
      "Epoch 143/200\n",
      "21/21 [==============================] - ETA: 0s - loss: 0.1256 - accuracy: 0.8427"
     ]
    },
    {
     "name": "stderr",
     "output_type": "stream",
     "text": [
      "WARNING:absl:Found untraced functions such as _jit_compiled_convolution_op, _jit_compiled_convolution_op, _jit_compiled_convolution_op, _jit_compiled_convolution_op, _jit_compiled_convolution_op while saving (showing 5 of 14). These functions will not be directly callable after loading.\n"
     ]
    },
    {
     "name": "stdout",
     "output_type": "stream",
     "text": [
      "INFO:tensorflow:Assets written to: ./model_weights\\assets\n"
     ]
    },
    {
     "name": "stderr",
     "output_type": "stream",
     "text": [
      "INFO:tensorflow:Assets written to: ./model_weights\\assets\n"
     ]
    },
    {
     "name": "stdout",
     "output_type": "stream",
     "text": [
      "21/21 [==============================] - 17s 802ms/step - loss: 0.1256 - accuracy: 0.8427 - val_loss: 0.1324 - val_accuracy: 0.8274\n",
      "Epoch 144/200\n",
      "21/21 [==============================] - ETA: 0s - loss: 0.1255 - accuracy: 0.8426"
     ]
    },
    {
     "name": "stderr",
     "output_type": "stream",
     "text": [
      "WARNING:absl:Found untraced functions such as _jit_compiled_convolution_op, _jit_compiled_convolution_op, _jit_compiled_convolution_op, _jit_compiled_convolution_op, _jit_compiled_convolution_op while saving (showing 5 of 14). These functions will not be directly callable after loading.\n"
     ]
    },
    {
     "name": "stdout",
     "output_type": "stream",
     "text": [
      "INFO:tensorflow:Assets written to: ./model_weights\\assets\n"
     ]
    },
    {
     "name": "stderr",
     "output_type": "stream",
     "text": [
      "INFO:tensorflow:Assets written to: ./model_weights\\assets\n"
     ]
    },
    {
     "name": "stdout",
     "output_type": "stream",
     "text": [
      "21/21 [==============================] - 16s 786ms/step - loss: 0.1255 - accuracy: 0.8426 - val_loss: 0.1318 - val_accuracy: 0.8280\n",
      "Epoch 145/200\n",
      "21/21 [==============================] - ETA: 0s - loss: 0.1242 - accuracy: 0.8446"
     ]
    },
    {
     "name": "stderr",
     "output_type": "stream",
     "text": [
      "WARNING:absl:Found untraced functions such as _jit_compiled_convolution_op, _jit_compiled_convolution_op, _jit_compiled_convolution_op, _jit_compiled_convolution_op, _jit_compiled_convolution_op while saving (showing 5 of 14). These functions will not be directly callable after loading.\n"
     ]
    },
    {
     "name": "stdout",
     "output_type": "stream",
     "text": [
      "INFO:tensorflow:Assets written to: ./model_weights\\assets\n"
     ]
    },
    {
     "name": "stderr",
     "output_type": "stream",
     "text": [
      "INFO:tensorflow:Assets written to: ./model_weights\\assets\n"
     ]
    },
    {
     "name": "stdout",
     "output_type": "stream",
     "text": [
      "21/21 [==============================] - 16s 772ms/step - loss: 0.1242 - accuracy: 0.8446 - val_loss: 0.1313 - val_accuracy: 0.8289\n",
      "Epoch 146/200\n",
      "21/21 [==============================] - ETA: 0s - loss: 0.1239 - accuracy: 0.8457"
     ]
    },
    {
     "name": "stderr",
     "output_type": "stream",
     "text": [
      "WARNING:absl:Found untraced functions such as _jit_compiled_convolution_op, _jit_compiled_convolution_op, _jit_compiled_convolution_op, _jit_compiled_convolution_op, _jit_compiled_convolution_op while saving (showing 5 of 14). These functions will not be directly callable after loading.\n"
     ]
    },
    {
     "name": "stdout",
     "output_type": "stream",
     "text": [
      "INFO:tensorflow:Assets written to: ./model_weights\\assets\n"
     ]
    },
    {
     "name": "stderr",
     "output_type": "stream",
     "text": [
      "INFO:tensorflow:Assets written to: ./model_weights\\assets\n"
     ]
    },
    {
     "name": "stdout",
     "output_type": "stream",
     "text": [
      "21/21 [==============================] - 17s 820ms/step - loss: 0.1239 - accuracy: 0.8457 - val_loss: 0.1310 - val_accuracy: 0.8292\n",
      "Epoch 147/200\n",
      "21/21 [==============================] - ETA: 0s - loss: 0.1233 - accuracy: 0.8460"
     ]
    },
    {
     "name": "stderr",
     "output_type": "stream",
     "text": [
      "WARNING:absl:Found untraced functions such as _jit_compiled_convolution_op, _jit_compiled_convolution_op, _jit_compiled_convolution_op, _jit_compiled_convolution_op, _jit_compiled_convolution_op while saving (showing 5 of 14). These functions will not be directly callable after loading.\n"
     ]
    },
    {
     "name": "stdout",
     "output_type": "stream",
     "text": [
      "INFO:tensorflow:Assets written to: ./model_weights\\assets\n"
     ]
    },
    {
     "name": "stderr",
     "output_type": "stream",
     "text": [
      "INFO:tensorflow:Assets written to: ./model_weights\\assets\n"
     ]
    },
    {
     "name": "stdout",
     "output_type": "stream",
     "text": [
      "21/21 [==============================] - 17s 809ms/step - loss: 0.1233 - accuracy: 0.8460 - val_loss: 0.1309 - val_accuracy: 0.8296\n",
      "Epoch 148/200\n",
      "21/21 [==============================] - ETA: 0s - loss: 0.1236 - accuracy: 0.8456"
     ]
    },
    {
     "name": "stderr",
     "output_type": "stream",
     "text": [
      "WARNING:absl:Found untraced functions such as _jit_compiled_convolution_op, _jit_compiled_convolution_op, _jit_compiled_convolution_op, _jit_compiled_convolution_op, _jit_compiled_convolution_op while saving (showing 5 of 14). These functions will not be directly callable after loading.\n"
     ]
    },
    {
     "name": "stdout",
     "output_type": "stream",
     "text": [
      "INFO:tensorflow:Assets written to: ./model_weights\\assets\n"
     ]
    },
    {
     "name": "stderr",
     "output_type": "stream",
     "text": [
      "INFO:tensorflow:Assets written to: ./model_weights\\assets\n"
     ]
    },
    {
     "name": "stdout",
     "output_type": "stream",
     "text": [
      "21/21 [==============================] - 16s 784ms/step - loss: 0.1236 - accuracy: 0.8456 - val_loss: 0.1303 - val_accuracy: 0.8302\n",
      "Epoch 149/200\n",
      "21/21 [==============================] - ETA: 0s - loss: 0.1228 - accuracy: 0.8465"
     ]
    },
    {
     "name": "stderr",
     "output_type": "stream",
     "text": [
      "WARNING:absl:Found untraced functions such as _jit_compiled_convolution_op, _jit_compiled_convolution_op, _jit_compiled_convolution_op, _jit_compiled_convolution_op, _jit_compiled_convolution_op while saving (showing 5 of 14). These functions will not be directly callable after loading.\n"
     ]
    },
    {
     "name": "stdout",
     "output_type": "stream",
     "text": [
      "INFO:tensorflow:Assets written to: ./model_weights\\assets\n"
     ]
    },
    {
     "name": "stderr",
     "output_type": "stream",
     "text": [
      "INFO:tensorflow:Assets written to: ./model_weights\\assets\n"
     ]
    },
    {
     "name": "stdout",
     "output_type": "stream",
     "text": [
      "21/21 [==============================] - 17s 824ms/step - loss: 0.1228 - accuracy: 0.8465 - val_loss: 0.1297 - val_accuracy: 0.8306\n",
      "Epoch 150/200\n",
      "21/21 [==============================] - ETA: 0s - loss: 0.1223 - accuracy: 0.8470"
     ]
    },
    {
     "name": "stderr",
     "output_type": "stream",
     "text": [
      "WARNING:absl:Found untraced functions such as _jit_compiled_convolution_op, _jit_compiled_convolution_op, _jit_compiled_convolution_op, _jit_compiled_convolution_op, _jit_compiled_convolution_op while saving (showing 5 of 14). These functions will not be directly callable after loading.\n"
     ]
    },
    {
     "name": "stdout",
     "output_type": "stream",
     "text": [
      "INFO:tensorflow:Assets written to: ./model_weights\\assets\n"
     ]
    },
    {
     "name": "stderr",
     "output_type": "stream",
     "text": [
      "INFO:tensorflow:Assets written to: ./model_weights\\assets\n"
     ]
    },
    {
     "name": "stdout",
     "output_type": "stream",
     "text": [
      "21/21 [==============================] - 17s 818ms/step - loss: 0.1223 - accuracy: 0.8470 - val_loss: 0.1294 - val_accuracy: 0.8309\n",
      "Epoch 151/200\n",
      "21/21 [==============================] - ETA: 0s - loss: 0.1219 - accuracy: 0.8478"
     ]
    },
    {
     "name": "stderr",
     "output_type": "stream",
     "text": [
      "WARNING:absl:Found untraced functions such as _jit_compiled_convolution_op, _jit_compiled_convolution_op, _jit_compiled_convolution_op, _jit_compiled_convolution_op, _jit_compiled_convolution_op while saving (showing 5 of 14). These functions will not be directly callable after loading.\n"
     ]
    },
    {
     "name": "stdout",
     "output_type": "stream",
     "text": [
      "INFO:tensorflow:Assets written to: ./model_weights\\assets\n"
     ]
    },
    {
     "name": "stderr",
     "output_type": "stream",
     "text": [
      "INFO:tensorflow:Assets written to: ./model_weights\\assets\n"
     ]
    },
    {
     "name": "stdout",
     "output_type": "stream",
     "text": [
      "21/21 [==============================] - 18s 889ms/step - loss: 0.1219 - accuracy: 0.8478 - val_loss: 0.1293 - val_accuracy: 0.8310\n",
      "Epoch 152/200\n",
      "21/21 [==============================] - ETA: 0s - loss: 0.1220 - accuracy: 0.8469"
     ]
    },
    {
     "name": "stderr",
     "output_type": "stream",
     "text": [
      "WARNING:absl:Found untraced functions such as _jit_compiled_convolution_op, _jit_compiled_convolution_op, _jit_compiled_convolution_op, _jit_compiled_convolution_op, _jit_compiled_convolution_op while saving (showing 5 of 14). These functions will not be directly callable after loading.\n"
     ]
    },
    {
     "name": "stdout",
     "output_type": "stream",
     "text": [
      "INFO:tensorflow:Assets written to: ./model_weights\\assets\n"
     ]
    },
    {
     "name": "stderr",
     "output_type": "stream",
     "text": [
      "INFO:tensorflow:Assets written to: ./model_weights\\assets\n"
     ]
    },
    {
     "name": "stdout",
     "output_type": "stream",
     "text": [
      "21/21 [==============================] - 21s 977ms/step - loss: 0.1220 - accuracy: 0.8469 - val_loss: 0.1287 - val_accuracy: 0.8320\n",
      "Epoch 153/200\n",
      "21/21 [==============================] - ETA: 0s - loss: 0.1207 - accuracy: 0.8496"
     ]
    },
    {
     "name": "stderr",
     "output_type": "stream",
     "text": [
      "WARNING:absl:Found untraced functions such as _jit_compiled_convolution_op, _jit_compiled_convolution_op, _jit_compiled_convolution_op, _jit_compiled_convolution_op, _jit_compiled_convolution_op while saving (showing 5 of 14). These functions will not be directly callable after loading.\n"
     ]
    },
    {
     "name": "stdout",
     "output_type": "stream",
     "text": [
      "INFO:tensorflow:Assets written to: ./model_weights\\assets\n"
     ]
    },
    {
     "name": "stderr",
     "output_type": "stream",
     "text": [
      "INFO:tensorflow:Assets written to: ./model_weights\\assets\n"
     ]
    },
    {
     "name": "stdout",
     "output_type": "stream",
     "text": [
      "21/21 [==============================] - 24s 1s/step - loss: 0.1207 - accuracy: 0.8496 - val_loss: 0.1279 - val_accuracy: 0.8329\n",
      "Epoch 154/200\n",
      "21/21 [==============================] - ETA: 0s - loss: 0.1201 - accuracy: 0.8499"
     ]
    },
    {
     "name": "stderr",
     "output_type": "stream",
     "text": [
      "WARNING:absl:Found untraced functions such as _jit_compiled_convolution_op, _jit_compiled_convolution_op, _jit_compiled_convolution_op, _jit_compiled_convolution_op, _jit_compiled_convolution_op while saving (showing 5 of 14). These functions will not be directly callable after loading.\n"
     ]
    },
    {
     "name": "stdout",
     "output_type": "stream",
     "text": [
      "INFO:tensorflow:Assets written to: ./model_weights\\assets\n"
     ]
    },
    {
     "name": "stderr",
     "output_type": "stream",
     "text": [
      "INFO:tensorflow:Assets written to: ./model_weights\\assets\n"
     ]
    },
    {
     "name": "stdout",
     "output_type": "stream",
     "text": [
      "21/21 [==============================] - 20s 951ms/step - loss: 0.1201 - accuracy: 0.8499 - val_loss: 0.1277 - val_accuracy: 0.8333\n",
      "Epoch 155/200\n",
      "21/21 [==============================] - ETA: 0s - loss: 0.1199 - accuracy: 0.8504"
     ]
    },
    {
     "name": "stderr",
     "output_type": "stream",
     "text": [
      "WARNING:absl:Found untraced functions such as _jit_compiled_convolution_op, _jit_compiled_convolution_op, _jit_compiled_convolution_op, _jit_compiled_convolution_op, _jit_compiled_convolution_op while saving (showing 5 of 14). These functions will not be directly callable after loading.\n"
     ]
    },
    {
     "name": "stdout",
     "output_type": "stream",
     "text": [
      "INFO:tensorflow:Assets written to: ./model_weights\\assets\n"
     ]
    },
    {
     "name": "stderr",
     "output_type": "stream",
     "text": [
      "INFO:tensorflow:Assets written to: ./model_weights\\assets\n"
     ]
    },
    {
     "name": "stdout",
     "output_type": "stream",
     "text": [
      "21/21 [==============================] - 17s 819ms/step - loss: 0.1199 - accuracy: 0.8504 - val_loss: 0.1274 - val_accuracy: 0.8338\n",
      "Epoch 156/200\n",
      "21/21 [==============================] - ETA: 0s - loss: 0.1195 - accuracy: 0.8513"
     ]
    },
    {
     "name": "stderr",
     "output_type": "stream",
     "text": [
      "WARNING:absl:Found untraced functions such as _jit_compiled_convolution_op, _jit_compiled_convolution_op, _jit_compiled_convolution_op, _jit_compiled_convolution_op, _jit_compiled_convolution_op while saving (showing 5 of 14). These functions will not be directly callable after loading.\n"
     ]
    },
    {
     "name": "stdout",
     "output_type": "stream",
     "text": [
      "INFO:tensorflow:Assets written to: ./model_weights\\assets\n"
     ]
    },
    {
     "name": "stderr",
     "output_type": "stream",
     "text": [
      "INFO:tensorflow:Assets written to: ./model_weights\\assets\n"
     ]
    },
    {
     "name": "stdout",
     "output_type": "stream",
     "text": [
      "21/21 [==============================] - 17s 830ms/step - loss: 0.1195 - accuracy: 0.8513 - val_loss: 0.1272 - val_accuracy: 0.8342\n",
      "Epoch 157/200\n",
      "21/21 [==============================] - ETA: 0s - loss: 0.1185 - accuracy: 0.8527"
     ]
    },
    {
     "name": "stderr",
     "output_type": "stream",
     "text": [
      "WARNING:absl:Found untraced functions such as _jit_compiled_convolution_op, _jit_compiled_convolution_op, _jit_compiled_convolution_op, _jit_compiled_convolution_op, _jit_compiled_convolution_op while saving (showing 5 of 14). These functions will not be directly callable after loading.\n"
     ]
    },
    {
     "name": "stdout",
     "output_type": "stream",
     "text": [
      "INFO:tensorflow:Assets written to: ./model_weights\\assets\n"
     ]
    },
    {
     "name": "stderr",
     "output_type": "stream",
     "text": [
      "INFO:tensorflow:Assets written to: ./model_weights\\assets\n"
     ]
    },
    {
     "name": "stdout",
     "output_type": "stream",
     "text": [
      "21/21 [==============================] - 16s 753ms/step - loss: 0.1185 - accuracy: 0.8527 - val_loss: 0.1269 - val_accuracy: 0.8350\n",
      "Epoch 158/200\n",
      "21/21 [==============================] - ETA: 0s - loss: 0.1183 - accuracy: 0.8534"
     ]
    },
    {
     "name": "stderr",
     "output_type": "stream",
     "text": [
      "WARNING:absl:Found untraced functions such as _jit_compiled_convolution_op, _jit_compiled_convolution_op, _jit_compiled_convolution_op, _jit_compiled_convolution_op, _jit_compiled_convolution_op while saving (showing 5 of 14). These functions will not be directly callable after loading.\n"
     ]
    },
    {
     "name": "stdout",
     "output_type": "stream",
     "text": [
      "INFO:tensorflow:Assets written to: ./model_weights\\assets\n"
     ]
    },
    {
     "name": "stderr",
     "output_type": "stream",
     "text": [
      "INFO:tensorflow:Assets written to: ./model_weights\\assets\n"
     ]
    },
    {
     "name": "stdout",
     "output_type": "stream",
     "text": [
      "21/21 [==============================] - 16s 759ms/step - loss: 0.1183 - accuracy: 0.8534 - val_loss: 0.1265 - val_accuracy: 0.8356\n",
      "Epoch 159/200\n",
      "21/21 [==============================] - ETA: 0s - loss: 0.1171 - accuracy: 0.8548"
     ]
    },
    {
     "name": "stderr",
     "output_type": "stream",
     "text": [
      "WARNING:absl:Found untraced functions such as _jit_compiled_convolution_op, _jit_compiled_convolution_op, _jit_compiled_convolution_op, _jit_compiled_convolution_op, _jit_compiled_convolution_op while saving (showing 5 of 14). These functions will not be directly callable after loading.\n"
     ]
    },
    {
     "name": "stdout",
     "output_type": "stream",
     "text": [
      "INFO:tensorflow:Assets written to: ./model_weights\\assets\n"
     ]
    },
    {
     "name": "stderr",
     "output_type": "stream",
     "text": [
      "INFO:tensorflow:Assets written to: ./model_weights\\assets\n"
     ]
    },
    {
     "name": "stdout",
     "output_type": "stream",
     "text": [
      "21/21 [==============================] - 16s 784ms/step - loss: 0.1171 - accuracy: 0.8548 - val_loss: 0.1263 - val_accuracy: 0.8363\n",
      "Epoch 160/200\n",
      "21/21 [==============================] - ETA: 0s - loss: 0.1167 - accuracy: 0.8548"
     ]
    },
    {
     "name": "stderr",
     "output_type": "stream",
     "text": [
      "WARNING:absl:Found untraced functions such as _jit_compiled_convolution_op, _jit_compiled_convolution_op, _jit_compiled_convolution_op, _jit_compiled_convolution_op, _jit_compiled_convolution_op while saving (showing 5 of 14). These functions will not be directly callable after loading.\n"
     ]
    },
    {
     "name": "stdout",
     "output_type": "stream",
     "text": [
      "INFO:tensorflow:Assets written to: ./model_weights\\assets\n"
     ]
    },
    {
     "name": "stderr",
     "output_type": "stream",
     "text": [
      "INFO:tensorflow:Assets written to: ./model_weights\\assets\n"
     ]
    },
    {
     "name": "stdout",
     "output_type": "stream",
     "text": [
      "21/21 [==============================] - 15s 710ms/step - loss: 0.1167 - accuracy: 0.8548 - val_loss: 0.1256 - val_accuracy: 0.8369\n",
      "Epoch 161/200\n",
      "21/21 [==============================] - 12s 594ms/step - loss: 0.1167 - accuracy: 0.8554 - val_loss: 0.1259 - val_accuracy: 0.8372\n",
      "Epoch 162/200\n",
      "21/21 [==============================] - ETA: 0s - loss: 0.1160 - accuracy: 0.8558"
     ]
    },
    {
     "name": "stderr",
     "output_type": "stream",
     "text": [
      "WARNING:absl:Found untraced functions such as _jit_compiled_convolution_op, _jit_compiled_convolution_op, _jit_compiled_convolution_op, _jit_compiled_convolution_op, _jit_compiled_convolution_op while saving (showing 5 of 14). These functions will not be directly callable after loading.\n"
     ]
    },
    {
     "name": "stdout",
     "output_type": "stream",
     "text": [
      "INFO:tensorflow:Assets written to: ./model_weights\\assets\n"
     ]
    },
    {
     "name": "stderr",
     "output_type": "stream",
     "text": [
      "INFO:tensorflow:Assets written to: ./model_weights\\assets\n"
     ]
    },
    {
     "name": "stdout",
     "output_type": "stream",
     "text": [
      "21/21 [==============================] - 17s 800ms/step - loss: 0.1160 - accuracy: 0.8558 - val_loss: 0.1251 - val_accuracy: 0.8377\n",
      "Epoch 163/200\n",
      "21/21 [==============================] - ETA: 0s - loss: 0.1157 - accuracy: 0.8562"
     ]
    },
    {
     "name": "stderr",
     "output_type": "stream",
     "text": [
      "WARNING:absl:Found untraced functions such as _jit_compiled_convolution_op, _jit_compiled_convolution_op, _jit_compiled_convolution_op, _jit_compiled_convolution_op, _jit_compiled_convolution_op while saving (showing 5 of 14). These functions will not be directly callable after loading.\n"
     ]
    },
    {
     "name": "stdout",
     "output_type": "stream",
     "text": [
      "INFO:tensorflow:Assets written to: ./model_weights\\assets\n"
     ]
    },
    {
     "name": "stderr",
     "output_type": "stream",
     "text": [
      "INFO:tensorflow:Assets written to: ./model_weights\\assets\n"
     ]
    },
    {
     "name": "stdout",
     "output_type": "stream",
     "text": [
      "21/21 [==============================] - 19s 906ms/step - loss: 0.1157 - accuracy: 0.8562 - val_loss: 0.1246 - val_accuracy: 0.8383\n",
      "Epoch 164/200\n",
      "21/21 [==============================] - ETA: 0s - loss: 0.1145 - accuracy: 0.8585"
     ]
    },
    {
     "name": "stderr",
     "output_type": "stream",
     "text": [
      "WARNING:absl:Found untraced functions such as _jit_compiled_convolution_op, _jit_compiled_convolution_op, _jit_compiled_convolution_op, _jit_compiled_convolution_op, _jit_compiled_convolution_op while saving (showing 5 of 14). These functions will not be directly callable after loading.\n"
     ]
    },
    {
     "name": "stdout",
     "output_type": "stream",
     "text": [
      "INFO:tensorflow:Assets written to: ./model_weights\\assets\n"
     ]
    },
    {
     "name": "stderr",
     "output_type": "stream",
     "text": [
      "INFO:tensorflow:Assets written to: ./model_weights\\assets\n"
     ]
    },
    {
     "name": "stdout",
     "output_type": "stream",
     "text": [
      "21/21 [==============================] - 16s 774ms/step - loss: 0.1145 - accuracy: 0.8585 - val_loss: 0.1242 - val_accuracy: 0.8387\n",
      "Epoch 165/200\n",
      "21/21 [==============================] - 12s 553ms/step - loss: 0.1142 - accuracy: 0.8592 - val_loss: 0.1242 - val_accuracy: 0.8392\n",
      "Epoch 166/200\n",
      "21/21 [==============================] - ETA: 0s - loss: 0.1148 - accuracy: 0.8573"
     ]
    },
    {
     "name": "stderr",
     "output_type": "stream",
     "text": [
      "WARNING:absl:Found untraced functions such as _jit_compiled_convolution_op, _jit_compiled_convolution_op, _jit_compiled_convolution_op, _jit_compiled_convolution_op, _jit_compiled_convolution_op while saving (showing 5 of 14). These functions will not be directly callable after loading.\n"
     ]
    },
    {
     "name": "stdout",
     "output_type": "stream",
     "text": [
      "INFO:tensorflow:Assets written to: ./model_weights\\assets\n"
     ]
    },
    {
     "name": "stderr",
     "output_type": "stream",
     "text": [
      "INFO:tensorflow:Assets written to: ./model_weights\\assets\n"
     ]
    },
    {
     "name": "stdout",
     "output_type": "stream",
     "text": [
      "21/21 [==============================] - 15s 738ms/step - loss: 0.1148 - accuracy: 0.8573 - val_loss: 0.1240 - val_accuracy: 0.8396\n",
      "Epoch 167/200\n",
      "21/21 [==============================] - ETA: 0s - loss: 0.1134 - accuracy: 0.8598"
     ]
    },
    {
     "name": "stderr",
     "output_type": "stream",
     "text": [
      "WARNING:absl:Found untraced functions such as _jit_compiled_convolution_op, _jit_compiled_convolution_op, _jit_compiled_convolution_op, _jit_compiled_convolution_op, _jit_compiled_convolution_op while saving (showing 5 of 14). These functions will not be directly callable after loading.\n"
     ]
    },
    {
     "name": "stdout",
     "output_type": "stream",
     "text": [
      "INFO:tensorflow:Assets written to: ./model_weights\\assets\n"
     ]
    },
    {
     "name": "stderr",
     "output_type": "stream",
     "text": [
      "INFO:tensorflow:Assets written to: ./model_weights\\assets\n"
     ]
    },
    {
     "name": "stdout",
     "output_type": "stream",
     "text": [
      "21/21 [==============================] - 16s 763ms/step - loss: 0.1134 - accuracy: 0.8598 - val_loss: 0.1238 - val_accuracy: 0.8403\n",
      "Epoch 168/200\n",
      "21/21 [==============================] - ETA: 0s - loss: 0.1130 - accuracy: 0.8610"
     ]
    },
    {
     "name": "stderr",
     "output_type": "stream",
     "text": [
      "WARNING:absl:Found untraced functions such as _jit_compiled_convolution_op, _jit_compiled_convolution_op, _jit_compiled_convolution_op, _jit_compiled_convolution_op, _jit_compiled_convolution_op while saving (showing 5 of 14). These functions will not be directly callable after loading.\n"
     ]
    },
    {
     "name": "stdout",
     "output_type": "stream",
     "text": [
      "INFO:tensorflow:Assets written to: ./model_weights\\assets\n"
     ]
    },
    {
     "name": "stderr",
     "output_type": "stream",
     "text": [
      "INFO:tensorflow:Assets written to: ./model_weights\\assets\n"
     ]
    },
    {
     "name": "stdout",
     "output_type": "stream",
     "text": [
      "21/21 [==============================] - 16s 761ms/step - loss: 0.1130 - accuracy: 0.8610 - val_loss: 0.1234 - val_accuracy: 0.8405\n",
      "Epoch 169/200\n",
      "21/21 [==============================] - ETA: 0s - loss: 0.1127 - accuracy: 0.8602"
     ]
    },
    {
     "name": "stderr",
     "output_type": "stream",
     "text": [
      "WARNING:absl:Found untraced functions such as _jit_compiled_convolution_op, _jit_compiled_convolution_op, _jit_compiled_convolution_op, _jit_compiled_convolution_op, _jit_compiled_convolution_op while saving (showing 5 of 14). These functions will not be directly callable after loading.\n"
     ]
    },
    {
     "name": "stdout",
     "output_type": "stream",
     "text": [
      "INFO:tensorflow:Assets written to: ./model_weights\\assets\n"
     ]
    },
    {
     "name": "stderr",
     "output_type": "stream",
     "text": [
      "INFO:tensorflow:Assets written to: ./model_weights\\assets\n"
     ]
    },
    {
     "name": "stdout",
     "output_type": "stream",
     "text": [
      "21/21 [==============================] - 15s 742ms/step - loss: 0.1127 - accuracy: 0.8602 - val_loss: 0.1226 - val_accuracy: 0.8408\n",
      "Epoch 170/200\n",
      "21/21 [==============================] - ETA: 0s - loss: 0.1123 - accuracy: 0.8612"
     ]
    },
    {
     "name": "stderr",
     "output_type": "stream",
     "text": [
      "WARNING:absl:Found untraced functions such as _jit_compiled_convolution_op, _jit_compiled_convolution_op, _jit_compiled_convolution_op, _jit_compiled_convolution_op, _jit_compiled_convolution_op while saving (showing 5 of 14). These functions will not be directly callable after loading.\n"
     ]
    },
    {
     "name": "stdout",
     "output_type": "stream",
     "text": [
      "INFO:tensorflow:Assets written to: ./model_weights\\assets\n"
     ]
    },
    {
     "name": "stderr",
     "output_type": "stream",
     "text": [
      "INFO:tensorflow:Assets written to: ./model_weights\\assets\n"
     ]
    },
    {
     "name": "stdout",
     "output_type": "stream",
     "text": [
      "21/21 [==============================] - 16s 759ms/step - loss: 0.1123 - accuracy: 0.8612 - val_loss: 0.1222 - val_accuracy: 0.8414\n",
      "Epoch 171/200\n",
      "21/21 [==============================] - ETA: 0s - loss: 0.1122 - accuracy: 0.8614"
     ]
    },
    {
     "name": "stderr",
     "output_type": "stream",
     "text": [
      "WARNING:absl:Found untraced functions such as _jit_compiled_convolution_op, _jit_compiled_convolution_op, _jit_compiled_convolution_op, _jit_compiled_convolution_op, _jit_compiled_convolution_op while saving (showing 5 of 14). These functions will not be directly callable after loading.\n"
     ]
    },
    {
     "name": "stdout",
     "output_type": "stream",
     "text": [
      "INFO:tensorflow:Assets written to: ./model_weights\\assets\n"
     ]
    },
    {
     "name": "stderr",
     "output_type": "stream",
     "text": [
      "INFO:tensorflow:Assets written to: ./model_weights\\assets\n"
     ]
    },
    {
     "name": "stdout",
     "output_type": "stream",
     "text": [
      "21/21 [==============================] - 17s 807ms/step - loss: 0.1122 - accuracy: 0.8614 - val_loss: 0.1220 - val_accuracy: 0.8425\n",
      "Epoch 172/200\n",
      "21/21 [==============================] - ETA: 0s - loss: 0.1114 - accuracy: 0.8624"
     ]
    },
    {
     "name": "stderr",
     "output_type": "stream",
     "text": [
      "WARNING:absl:Found untraced functions such as _jit_compiled_convolution_op, _jit_compiled_convolution_op, _jit_compiled_convolution_op, _jit_compiled_convolution_op, _jit_compiled_convolution_op while saving (showing 5 of 14). These functions will not be directly callable after loading.\n"
     ]
    },
    {
     "name": "stdout",
     "output_type": "stream",
     "text": [
      "INFO:tensorflow:Assets written to: ./model_weights\\assets\n"
     ]
    },
    {
     "name": "stderr",
     "output_type": "stream",
     "text": [
      "INFO:tensorflow:Assets written to: ./model_weights\\assets\n"
     ]
    },
    {
     "name": "stdout",
     "output_type": "stream",
     "text": [
      "21/21 [==============================] - 18s 872ms/step - loss: 0.1114 - accuracy: 0.8624 - val_loss: 0.1217 - val_accuracy: 0.8430\n",
      "Epoch 173/200\n",
      "21/21 [==============================] - ETA: 0s - loss: 0.1106 - accuracy: 0.8638"
     ]
    },
    {
     "name": "stderr",
     "output_type": "stream",
     "text": [
      "WARNING:absl:Found untraced functions such as _jit_compiled_convolution_op, _jit_compiled_convolution_op, _jit_compiled_convolution_op, _jit_compiled_convolution_op, _jit_compiled_convolution_op while saving (showing 5 of 14). These functions will not be directly callable after loading.\n"
     ]
    },
    {
     "name": "stdout",
     "output_type": "stream",
     "text": [
      "INFO:tensorflow:Assets written to: ./model_weights\\assets\n"
     ]
    },
    {
     "name": "stderr",
     "output_type": "stream",
     "text": [
      "INFO:tensorflow:Assets written to: ./model_weights\\assets\n"
     ]
    },
    {
     "name": "stdout",
     "output_type": "stream",
     "text": [
      "21/21 [==============================] - 19s 915ms/step - loss: 0.1106 - accuracy: 0.8638 - val_loss: 0.1212 - val_accuracy: 0.8433\n",
      "Epoch 174/200\n",
      "21/21 [==============================] - ETA: 0s - loss: 0.1096 - accuracy: 0.8651"
     ]
    },
    {
     "name": "stderr",
     "output_type": "stream",
     "text": [
      "WARNING:absl:Found untraced functions such as _jit_compiled_convolution_op, _jit_compiled_convolution_op, _jit_compiled_convolution_op, _jit_compiled_convolution_op, _jit_compiled_convolution_op while saving (showing 5 of 14). These functions will not be directly callable after loading.\n"
     ]
    },
    {
     "name": "stdout",
     "output_type": "stream",
     "text": [
      "INFO:tensorflow:Assets written to: ./model_weights\\assets\n"
     ]
    },
    {
     "name": "stderr",
     "output_type": "stream",
     "text": [
      "INFO:tensorflow:Assets written to: ./model_weights\\assets\n"
     ]
    },
    {
     "name": "stdout",
     "output_type": "stream",
     "text": [
      "21/21 [==============================] - 31s 2s/step - loss: 0.1096 - accuracy: 0.8651 - val_loss: 0.1210 - val_accuracy: 0.8439\n",
      "Epoch 175/200\n",
      "21/21 [==============================] - ETA: 0s - loss: 0.1096 - accuracy: 0.8652"
     ]
    },
    {
     "name": "stderr",
     "output_type": "stream",
     "text": [
      "WARNING:absl:Found untraced functions such as _jit_compiled_convolution_op, _jit_compiled_convolution_op, _jit_compiled_convolution_op, _jit_compiled_convolution_op, _jit_compiled_convolution_op while saving (showing 5 of 14). These functions will not be directly callable after loading.\n"
     ]
    },
    {
     "name": "stdout",
     "output_type": "stream",
     "text": [
      "INFO:tensorflow:Assets written to: ./model_weights\\assets\n"
     ]
    },
    {
     "name": "stderr",
     "output_type": "stream",
     "text": [
      "INFO:tensorflow:Assets written to: ./model_weights\\assets\n"
     ]
    },
    {
     "name": "stdout",
     "output_type": "stream",
     "text": [
      "21/21 [==============================] - 19s 902ms/step - loss: 0.1096 - accuracy: 0.8652 - val_loss: 0.1206 - val_accuracy: 0.8444\n",
      "Epoch 176/200\n",
      "21/21 [==============================] - ETA: 0s - loss: 0.1099 - accuracy: 0.8644"
     ]
    },
    {
     "name": "stderr",
     "output_type": "stream",
     "text": [
      "WARNING:absl:Found untraced functions such as _jit_compiled_convolution_op, _jit_compiled_convolution_op, _jit_compiled_convolution_op, _jit_compiled_convolution_op, _jit_compiled_convolution_op while saving (showing 5 of 14). These functions will not be directly callable after loading.\n"
     ]
    },
    {
     "name": "stdout",
     "output_type": "stream",
     "text": [
      "INFO:tensorflow:Assets written to: ./model_weights\\assets\n"
     ]
    },
    {
     "name": "stderr",
     "output_type": "stream",
     "text": [
      "INFO:tensorflow:Assets written to: ./model_weights\\assets\n"
     ]
    },
    {
     "name": "stdout",
     "output_type": "stream",
     "text": [
      "21/21 [==============================] - 19s 919ms/step - loss: 0.1099 - accuracy: 0.8644 - val_loss: 0.1201 - val_accuracy: 0.8449\n",
      "Epoch 177/200\n",
      "21/21 [==============================] - ETA: 0s - loss: 0.1089 - accuracy: 0.8661"
     ]
    },
    {
     "name": "stderr",
     "output_type": "stream",
     "text": [
      "WARNING:absl:Found untraced functions such as _jit_compiled_convolution_op, _jit_compiled_convolution_op, _jit_compiled_convolution_op, _jit_compiled_convolution_op, _jit_compiled_convolution_op while saving (showing 5 of 14). These functions will not be directly callable after loading.\n"
     ]
    },
    {
     "name": "stdout",
     "output_type": "stream",
     "text": [
      "INFO:tensorflow:Assets written to: ./model_weights\\assets\n"
     ]
    },
    {
     "name": "stderr",
     "output_type": "stream",
     "text": [
      "INFO:tensorflow:Assets written to: ./model_weights\\assets\n"
     ]
    },
    {
     "name": "stdout",
     "output_type": "stream",
     "text": [
      "21/21 [==============================] - 15s 739ms/step - loss: 0.1089 - accuracy: 0.8661 - val_loss: 0.1200 - val_accuracy: 0.8455\n",
      "Epoch 178/200\n",
      "21/21 [==============================] - ETA: 0s - loss: 0.1084 - accuracy: 0.8666"
     ]
    },
    {
     "name": "stderr",
     "output_type": "stream",
     "text": [
      "WARNING:absl:Found untraced functions such as _jit_compiled_convolution_op, _jit_compiled_convolution_op, _jit_compiled_convolution_op, _jit_compiled_convolution_op, _jit_compiled_convolution_op while saving (showing 5 of 14). These functions will not be directly callable after loading.\n"
     ]
    },
    {
     "name": "stdout",
     "output_type": "stream",
     "text": [
      "INFO:tensorflow:Assets written to: ./model_weights\\assets\n"
     ]
    },
    {
     "name": "stderr",
     "output_type": "stream",
     "text": [
      "INFO:tensorflow:Assets written to: ./model_weights\\assets\n"
     ]
    },
    {
     "name": "stdout",
     "output_type": "stream",
     "text": [
      "21/21 [==============================] - 15s 751ms/step - loss: 0.1084 - accuracy: 0.8666 - val_loss: 0.1195 - val_accuracy: 0.8461\n",
      "Epoch 179/200\n",
      "21/21 [==============================] - ETA: 0s - loss: 0.1074 - accuracy: 0.8680"
     ]
    },
    {
     "name": "stderr",
     "output_type": "stream",
     "text": [
      "WARNING:absl:Found untraced functions such as _jit_compiled_convolution_op, _jit_compiled_convolution_op, _jit_compiled_convolution_op, _jit_compiled_convolution_op, _jit_compiled_convolution_op while saving (showing 5 of 14). These functions will not be directly callable after loading.\n"
     ]
    },
    {
     "name": "stdout",
     "output_type": "stream",
     "text": [
      "INFO:tensorflow:Assets written to: ./model_weights\\assets\n"
     ]
    },
    {
     "name": "stderr",
     "output_type": "stream",
     "text": [
      "INFO:tensorflow:Assets written to: ./model_weights\\assets\n"
     ]
    },
    {
     "name": "stdout",
     "output_type": "stream",
     "text": [
      "21/21 [==============================] - 16s 756ms/step - loss: 0.1074 - accuracy: 0.8680 - val_loss: 0.1194 - val_accuracy: 0.8467\n",
      "Epoch 180/200\n",
      "21/21 [==============================] - ETA: 0s - loss: 0.1079 - accuracy: 0.8672"
     ]
    },
    {
     "name": "stderr",
     "output_type": "stream",
     "text": [
      "WARNING:absl:Found untraced functions such as _jit_compiled_convolution_op, _jit_compiled_convolution_op, _jit_compiled_convolution_op, _jit_compiled_convolution_op, _jit_compiled_convolution_op while saving (showing 5 of 14). These functions will not be directly callable after loading.\n"
     ]
    },
    {
     "name": "stdout",
     "output_type": "stream",
     "text": [
      "INFO:tensorflow:Assets written to: ./model_weights\\assets\n"
     ]
    },
    {
     "name": "stderr",
     "output_type": "stream",
     "text": [
      "INFO:tensorflow:Assets written to: ./model_weights\\assets\n"
     ]
    },
    {
     "name": "stdout",
     "output_type": "stream",
     "text": [
      "21/21 [==============================] - 15s 726ms/step - loss: 0.1079 - accuracy: 0.8672 - val_loss: 0.1189 - val_accuracy: 0.8473\n",
      "Epoch 181/200\n",
      "21/21 [==============================] - ETA: 0s - loss: 0.1073 - accuracy: 0.8681"
     ]
    },
    {
     "name": "stderr",
     "output_type": "stream",
     "text": [
      "WARNING:absl:Found untraced functions such as _jit_compiled_convolution_op, _jit_compiled_convolution_op, _jit_compiled_convolution_op, _jit_compiled_convolution_op, _jit_compiled_convolution_op while saving (showing 5 of 14). These functions will not be directly callable after loading.\n"
     ]
    },
    {
     "name": "stdout",
     "output_type": "stream",
     "text": [
      "INFO:tensorflow:Assets written to: ./model_weights\\assets\n"
     ]
    },
    {
     "name": "stderr",
     "output_type": "stream",
     "text": [
      "INFO:tensorflow:Assets written to: ./model_weights\\assets\n"
     ]
    },
    {
     "name": "stdout",
     "output_type": "stream",
     "text": [
      "21/21 [==============================] - 15s 724ms/step - loss: 0.1073 - accuracy: 0.8681 - val_loss: 0.1182 - val_accuracy: 0.8476\n",
      "Epoch 182/200\n",
      "21/21 [==============================] - ETA: 0s - loss: 0.1068 - accuracy: 0.8689"
     ]
    },
    {
     "name": "stderr",
     "output_type": "stream",
     "text": [
      "WARNING:absl:Found untraced functions such as _jit_compiled_convolution_op, _jit_compiled_convolution_op, _jit_compiled_convolution_op, _jit_compiled_convolution_op, _jit_compiled_convolution_op while saving (showing 5 of 14). These functions will not be directly callable after loading.\n"
     ]
    },
    {
     "name": "stdout",
     "output_type": "stream",
     "text": [
      "INFO:tensorflow:Assets written to: ./model_weights\\assets\n"
     ]
    },
    {
     "name": "stderr",
     "output_type": "stream",
     "text": [
      "INFO:tensorflow:Assets written to: ./model_weights\\assets\n"
     ]
    },
    {
     "name": "stdout",
     "output_type": "stream",
     "text": [
      "21/21 [==============================] - 16s 767ms/step - loss: 0.1068 - accuracy: 0.8689 - val_loss: 0.1180 - val_accuracy: 0.8485\n",
      "Epoch 183/200\n",
      "21/21 [==============================] - 12s 556ms/step - loss: 0.1063 - accuracy: 0.8693 - val_loss: 0.1180 - val_accuracy: 0.8488\n",
      "Epoch 184/200\n",
      "21/21 [==============================] - ETA: 0s - loss: 0.1056 - accuracy: 0.8703"
     ]
    },
    {
     "name": "stderr",
     "output_type": "stream",
     "text": [
      "WARNING:absl:Found untraced functions such as _jit_compiled_convolution_op, _jit_compiled_convolution_op, _jit_compiled_convolution_op, _jit_compiled_convolution_op, _jit_compiled_convolution_op while saving (showing 5 of 14). These functions will not be directly callable after loading.\n"
     ]
    },
    {
     "name": "stdout",
     "output_type": "stream",
     "text": [
      "INFO:tensorflow:Assets written to: ./model_weights\\assets\n"
     ]
    },
    {
     "name": "stderr",
     "output_type": "stream",
     "text": [
      "INFO:tensorflow:Assets written to: ./model_weights\\assets\n"
     ]
    },
    {
     "name": "stdout",
     "output_type": "stream",
     "text": [
      "21/21 [==============================] - 18s 854ms/step - loss: 0.1056 - accuracy: 0.8703 - val_loss: 0.1174 - val_accuracy: 0.8495\n",
      "Epoch 185/200\n",
      "21/21 [==============================] - ETA: 0s - loss: 0.1053 - accuracy: 0.8710"
     ]
    },
    {
     "name": "stderr",
     "output_type": "stream",
     "text": [
      "WARNING:absl:Found untraced functions such as _jit_compiled_convolution_op, _jit_compiled_convolution_op, _jit_compiled_convolution_op, _jit_compiled_convolution_op, _jit_compiled_convolution_op while saving (showing 5 of 14). These functions will not be directly callable after loading.\n"
     ]
    },
    {
     "name": "stdout",
     "output_type": "stream",
     "text": [
      "INFO:tensorflow:Assets written to: ./model_weights\\assets\n"
     ]
    },
    {
     "name": "stderr",
     "output_type": "stream",
     "text": [
      "INFO:tensorflow:Assets written to: ./model_weights\\assets\n"
     ]
    },
    {
     "name": "stdout",
     "output_type": "stream",
     "text": [
      "21/21 [==============================] - 16s 790ms/step - loss: 0.1053 - accuracy: 0.8710 - val_loss: 0.1173 - val_accuracy: 0.8497\n",
      "Epoch 186/200\n",
      "21/21 [==============================] - ETA: 0s - loss: 0.1046 - accuracy: 0.8716"
     ]
    },
    {
     "name": "stderr",
     "output_type": "stream",
     "text": [
      "WARNING:absl:Found untraced functions such as _jit_compiled_convolution_op, _jit_compiled_convolution_op, _jit_compiled_convolution_op, _jit_compiled_convolution_op, _jit_compiled_convolution_op while saving (showing 5 of 14). These functions will not be directly callable after loading.\n"
     ]
    },
    {
     "name": "stdout",
     "output_type": "stream",
     "text": [
      "INFO:tensorflow:Assets written to: ./model_weights\\assets\n"
     ]
    },
    {
     "name": "stderr",
     "output_type": "stream",
     "text": [
      "INFO:tensorflow:Assets written to: ./model_weights\\assets\n"
     ]
    },
    {
     "name": "stdout",
     "output_type": "stream",
     "text": [
      "21/21 [==============================] - 16s 766ms/step - loss: 0.1046 - accuracy: 0.8716 - val_loss: 0.1168 - val_accuracy: 0.8501\n",
      "Epoch 187/200\n",
      "21/21 [==============================] - ETA: 0s - loss: 0.1049 - accuracy: 0.8710"
     ]
    },
    {
     "name": "stderr",
     "output_type": "stream",
     "text": [
      "WARNING:absl:Found untraced functions such as _jit_compiled_convolution_op, _jit_compiled_convolution_op, _jit_compiled_convolution_op, _jit_compiled_convolution_op, _jit_compiled_convolution_op while saving (showing 5 of 14). These functions will not be directly callable after loading.\n"
     ]
    },
    {
     "name": "stdout",
     "output_type": "stream",
     "text": [
      "INFO:tensorflow:Assets written to: ./model_weights\\assets\n"
     ]
    },
    {
     "name": "stderr",
     "output_type": "stream",
     "text": [
      "INFO:tensorflow:Assets written to: ./model_weights\\assets\n"
     ]
    },
    {
     "name": "stdout",
     "output_type": "stream",
     "text": [
      "21/21 [==============================] - 16s 766ms/step - loss: 0.1049 - accuracy: 0.8710 - val_loss: 0.1166 - val_accuracy: 0.8509\n",
      "Epoch 188/200\n",
      "21/21 [==============================] - 11s 542ms/step - loss: 0.1045 - accuracy: 0.8717 - val_loss: 0.1168 - val_accuracy: 0.8510\n",
      "Epoch 189/200\n",
      "21/21 [==============================] - ETA: 0s - loss: 0.1036 - accuracy: 0.8731"
     ]
    },
    {
     "name": "stderr",
     "output_type": "stream",
     "text": [
      "WARNING:absl:Found untraced functions such as _jit_compiled_convolution_op, _jit_compiled_convolution_op, _jit_compiled_convolution_op, _jit_compiled_convolution_op, _jit_compiled_convolution_op while saving (showing 5 of 14). These functions will not be directly callable after loading.\n"
     ]
    },
    {
     "name": "stdout",
     "output_type": "stream",
     "text": [
      "INFO:tensorflow:Assets written to: ./model_weights\\assets\n"
     ]
    },
    {
     "name": "stderr",
     "output_type": "stream",
     "text": [
      "INFO:tensorflow:Assets written to: ./model_weights\\assets\n"
     ]
    },
    {
     "name": "stdout",
     "output_type": "stream",
     "text": [
      "21/21 [==============================] - 16s 755ms/step - loss: 0.1036 - accuracy: 0.8731 - val_loss: 0.1162 - val_accuracy: 0.8514\n",
      "Epoch 190/200\n",
      "21/21 [==============================] - ETA: 0s - loss: 0.1035 - accuracy: 0.8733"
     ]
    },
    {
     "name": "stderr",
     "output_type": "stream",
     "text": [
      "WARNING:absl:Found untraced functions such as _jit_compiled_convolution_op, _jit_compiled_convolution_op, _jit_compiled_convolution_op, _jit_compiled_convolution_op, _jit_compiled_convolution_op while saving (showing 5 of 14). These functions will not be directly callable after loading.\n"
     ]
    },
    {
     "name": "stdout",
     "output_type": "stream",
     "text": [
      "INFO:tensorflow:Assets written to: ./model_weights\\assets\n"
     ]
    },
    {
     "name": "stderr",
     "output_type": "stream",
     "text": [
      "INFO:tensorflow:Assets written to: ./model_weights\\assets\n"
     ]
    },
    {
     "name": "stdout",
     "output_type": "stream",
     "text": [
      "21/21 [==============================] - 15s 749ms/step - loss: 0.1035 - accuracy: 0.8733 - val_loss: 0.1156 - val_accuracy: 0.8517\n",
      "Epoch 191/200\n",
      "21/21 [==============================] - ETA: 0s - loss: 0.1024 - accuracy: 0.8747"
     ]
    },
    {
     "name": "stderr",
     "output_type": "stream",
     "text": [
      "WARNING:absl:Found untraced functions such as _jit_compiled_convolution_op, _jit_compiled_convolution_op, _jit_compiled_convolution_op, _jit_compiled_convolution_op, _jit_compiled_convolution_op while saving (showing 5 of 14). These functions will not be directly callable after loading.\n"
     ]
    },
    {
     "name": "stdout",
     "output_type": "stream",
     "text": [
      "INFO:tensorflow:Assets written to: ./model_weights\\assets\n"
     ]
    },
    {
     "name": "stderr",
     "output_type": "stream",
     "text": [
      "INFO:tensorflow:Assets written to: ./model_weights\\assets\n"
     ]
    },
    {
     "name": "stdout",
     "output_type": "stream",
     "text": [
      "21/21 [==============================] - 15s 739ms/step - loss: 0.1024 - accuracy: 0.8747 - val_loss: 0.1155 - val_accuracy: 0.8520\n",
      "Epoch 192/200\n",
      "21/21 [==============================] - ETA: 0s - loss: 0.1019 - accuracy: 0.8750"
     ]
    },
    {
     "name": "stderr",
     "output_type": "stream",
     "text": [
      "WARNING:absl:Found untraced functions such as _jit_compiled_convolution_op, _jit_compiled_convolution_op, _jit_compiled_convolution_op, _jit_compiled_convolution_op, _jit_compiled_convolution_op while saving (showing 5 of 14). These functions will not be directly callable after loading.\n"
     ]
    },
    {
     "name": "stdout",
     "output_type": "stream",
     "text": [
      "INFO:tensorflow:Assets written to: ./model_weights\\assets\n"
     ]
    },
    {
     "name": "stderr",
     "output_type": "stream",
     "text": [
      "INFO:tensorflow:Assets written to: ./model_weights\\assets\n"
     ]
    },
    {
     "name": "stdout",
     "output_type": "stream",
     "text": [
      "21/21 [==============================] - 15s 730ms/step - loss: 0.1019 - accuracy: 0.8750 - val_loss: 0.1153 - val_accuracy: 0.8524\n",
      "Epoch 193/200\n",
      "21/21 [==============================] - ETA: 0s - loss: 0.1017 - accuracy: 0.8756"
     ]
    },
    {
     "name": "stderr",
     "output_type": "stream",
     "text": [
      "WARNING:absl:Found untraced functions such as _jit_compiled_convolution_op, _jit_compiled_convolution_op, _jit_compiled_convolution_op, _jit_compiled_convolution_op, _jit_compiled_convolution_op while saving (showing 5 of 14). These functions will not be directly callable after loading.\n"
     ]
    },
    {
     "name": "stdout",
     "output_type": "stream",
     "text": [
      "INFO:tensorflow:Assets written to: ./model_weights\\assets\n"
     ]
    },
    {
     "name": "stderr",
     "output_type": "stream",
     "text": [
      "INFO:tensorflow:Assets written to: ./model_weights\\assets\n"
     ]
    },
    {
     "name": "stdout",
     "output_type": "stream",
     "text": [
      "21/21 [==============================] - 16s 790ms/step - loss: 0.1017 - accuracy: 0.8756 - val_loss: 0.1148 - val_accuracy: 0.8526\n",
      "Epoch 194/200\n",
      "21/21 [==============================] - ETA: 0s - loss: 0.1012 - accuracy: 0.8763"
     ]
    },
    {
     "name": "stderr",
     "output_type": "stream",
     "text": [
      "WARNING:absl:Found untraced functions such as _jit_compiled_convolution_op, _jit_compiled_convolution_op, _jit_compiled_convolution_op, _jit_compiled_convolution_op, _jit_compiled_convolution_op while saving (showing 5 of 14). These functions will not be directly callable after loading.\n"
     ]
    },
    {
     "name": "stdout",
     "output_type": "stream",
     "text": [
      "INFO:tensorflow:Assets written to: ./model_weights\\assets\n"
     ]
    },
    {
     "name": "stderr",
     "output_type": "stream",
     "text": [
      "INFO:tensorflow:Assets written to: ./model_weights\\assets\n"
     ]
    },
    {
     "name": "stdout",
     "output_type": "stream",
     "text": [
      "21/21 [==============================] - 16s 797ms/step - loss: 0.1012 - accuracy: 0.8763 - val_loss: 0.1146 - val_accuracy: 0.8533\n",
      "Epoch 195/200\n",
      "21/21 [==============================] - ETA: 0s - loss: 0.1018 - accuracy: 0.8750"
     ]
    },
    {
     "name": "stderr",
     "output_type": "stream",
     "text": [
      "WARNING:absl:Found untraced functions such as _jit_compiled_convolution_op, _jit_compiled_convolution_op, _jit_compiled_convolution_op, _jit_compiled_convolution_op, _jit_compiled_convolution_op while saving (showing 5 of 14). These functions will not be directly callable after loading.\n"
     ]
    },
    {
     "name": "stdout",
     "output_type": "stream",
     "text": [
      "INFO:tensorflow:Assets written to: ./model_weights\\assets\n"
     ]
    },
    {
     "name": "stderr",
     "output_type": "stream",
     "text": [
      "INFO:tensorflow:Assets written to: ./model_weights\\assets\n"
     ]
    },
    {
     "name": "stdout",
     "output_type": "stream",
     "text": [
      "21/21 [==============================] - 16s 759ms/step - loss: 0.1018 - accuracy: 0.8750 - val_loss: 0.1145 - val_accuracy: 0.8536\n",
      "Epoch 196/200\n",
      "21/21 [==============================] - ETA: 0s - loss: 0.1009 - accuracy: 0.8760"
     ]
    },
    {
     "name": "stderr",
     "output_type": "stream",
     "text": [
      "WARNING:absl:Found untraced functions such as _jit_compiled_convolution_op, _jit_compiled_convolution_op, _jit_compiled_convolution_op, _jit_compiled_convolution_op, _jit_compiled_convolution_op while saving (showing 5 of 14). These functions will not be directly callable after loading.\n"
     ]
    },
    {
     "name": "stdout",
     "output_type": "stream",
     "text": [
      "INFO:tensorflow:Assets written to: ./model_weights\\assets\n"
     ]
    },
    {
     "name": "stderr",
     "output_type": "stream",
     "text": [
      "INFO:tensorflow:Assets written to: ./model_weights\\assets\n"
     ]
    },
    {
     "name": "stdout",
     "output_type": "stream",
     "text": [
      "21/21 [==============================] - 16s 760ms/step - loss: 0.1009 - accuracy: 0.8760 - val_loss: 0.1139 - val_accuracy: 0.8538\n",
      "Epoch 197/200\n",
      "21/21 [==============================] - 12s 595ms/step - loss: 0.1009 - accuracy: 0.8765 - val_loss: 0.1141 - val_accuracy: 0.8542\n",
      "Epoch 198/200\n",
      "21/21 [==============================] - ETA: 0s - loss: 0.0995 - accuracy: 0.8782"
     ]
    },
    {
     "name": "stderr",
     "output_type": "stream",
     "text": [
      "WARNING:absl:Found untraced functions such as _jit_compiled_convolution_op, _jit_compiled_convolution_op, _jit_compiled_convolution_op, _jit_compiled_convolution_op, _jit_compiled_convolution_op while saving (showing 5 of 14). These functions will not be directly callable after loading.\n"
     ]
    },
    {
     "name": "stdout",
     "output_type": "stream",
     "text": [
      "INFO:tensorflow:Assets written to: ./model_weights\\assets\n"
     ]
    },
    {
     "name": "stderr",
     "output_type": "stream",
     "text": [
      "INFO:tensorflow:Assets written to: ./model_weights\\assets\n"
     ]
    },
    {
     "name": "stdout",
     "output_type": "stream",
     "text": [
      "21/21 [==============================] - 17s 809ms/step - loss: 0.0995 - accuracy: 0.8782 - val_loss: 0.1136 - val_accuracy: 0.8547\n",
      "Epoch 199/200\n",
      "21/21 [==============================] - ETA: 0s - loss: 0.0992 - accuracy: 0.8788"
     ]
    },
    {
     "name": "stderr",
     "output_type": "stream",
     "text": [
      "WARNING:absl:Found untraced functions such as _jit_compiled_convolution_op, _jit_compiled_convolution_op, _jit_compiled_convolution_op, _jit_compiled_convolution_op, _jit_compiled_convolution_op while saving (showing 5 of 14). These functions will not be directly callable after loading.\n"
     ]
    },
    {
     "name": "stdout",
     "output_type": "stream",
     "text": [
      "INFO:tensorflow:Assets written to: ./model_weights\\assets\n"
     ]
    },
    {
     "name": "stderr",
     "output_type": "stream",
     "text": [
      "INFO:tensorflow:Assets written to: ./model_weights\\assets\n"
     ]
    },
    {
     "name": "stdout",
     "output_type": "stream",
     "text": [
      "21/21 [==============================] - 17s 816ms/step - loss: 0.0992 - accuracy: 0.8788 - val_loss: 0.1130 - val_accuracy: 0.8549\n",
      "Epoch 200/200\n",
      "21/21 [==============================] - 12s 571ms/step - loss: 0.0990 - accuracy: 0.8787 - val_loss: 0.1133 - val_accuracy: 0.8552\n"
     ]
    }
   ],
   "source": [
    "checkpoint = tf.keras.callbacks.ModelCheckpoint(\"./model_weights/\", monitor=\"val_loss\", mode=\"min\", save_best_only=True, \n",
    "                                                verbose=0, overwrite=True)\n",
    "earlyStop = EarlyStopping(monitor='loss',patience=3)\n",
    "\n",
    "model_mnist_padded.compile(optimizer = tf.keras.optimizers.Adam(learning_rate=init_lr), loss = 'mean_squared_error', \n",
    "                    metrics = 'accuracy')\n",
    "hist_padded = model_mnist_padded.fit(x = fieldMNIST_train_padded, y = targetMNIST_train, \n",
    "                                    validation_data=(fieldMNIST_val_padded, targetMNIST_val), \n",
    "                                    batch_size = 20, epochs = total_epoch, \n",
    "                                    callbacks = [earlyStop, checkpoint])"
   ]
  },
  {
   "cell_type": "code",
   "execution_count": 11,
   "metadata": {},
   "outputs": [],
   "source": [
    "# from keras.models import save_model\n",
    "model_mnist_padded.save('unet_padded.h5', overwrite=True)\n"
   ]
  },
  {
   "cell_type": "code",
   "execution_count": 12,
   "metadata": {},
   "outputs": [
    {
     "name": "stdout",
     "output_type": "stream",
     "text": [
      "4/4 [==============================] - 1s 208ms/step\n"
     ]
    }
   ],
   "source": [
    "from keras.models import load_model\n",
    "\n",
    "trained_model_padded = load_model('unet_padded.h5')\n",
    "\n",
    "pred1 = trained_model_padded.predict(fieldMNIST_test_padded)"
   ]
  },
  {
   "cell_type": "code",
   "execution_count": 21,
   "metadata": {},
   "outputs": [
    {
     "name": "stdout",
     "output_type": "stream",
     "text": [
      "4/4 [==============================] - 2s 173ms/step\n"
     ]
    }
   ],
   "source": [
    "pred1 = model_mnist_padded.predict(fieldMNIST_test_padded)"
   ]
  },
  {
   "cell_type": "code",
   "execution_count": 24,
   "metadata": {},
   "outputs": [
    {
     "data": {
      "image/png": "[encoded data removed]",
      "text/plain": [
       "<Figure size 1728x1728 with 3 Axes>"
      ]
     },
     "metadata": {
      "needs_background": "light"
     },
     "output_type": "display_data"
    }
   ],
   "source": [
    "fig, axs = plt.subplots(1, 3, figsize=(24, 24))\n",
    "\n",
    "axs[0].matshow(fieldMNIST_test[5])\n",
    "axs[1].matshow(targetMNIST_test[5])\n",
    "axs[2].matshow(pred1[5])\n",
    "\n",
    "plt.show()"
   ]
  },
  {
   "cell_type": "code",
   "execution_count": 23,
   "metadata": {},
   "outputs": [
    {
     "name": "stdout",
     "output_type": "stream",
     "text": [
      "4/4 [==============================] - 1s 135ms/step - loss: 0.1099 - accuracy: 0.8606\n"
     ]
    },
    {
     "data": {
      "text/plain": [
       "[0.10985703021287918, 0.860615074634552]"
      ]
     },
     "execution_count": 23,
     "metadata": {},
     "output_type": "execute_result"
    }
   ],
   "source": [
    "# trained_model_padded.evaluate(fieldMNIST_test_padded, targetMNIST_test)\n",
    "model_mnist_padded.evaluate(fieldMNIST_test_padded, targetMNIST_test)"
   ]
  },
  {
   "cell_type": "code",
   "execution_count": 19,
   "metadata": {},
   "outputs": [
    {
     "data": {
      "image/png": "[encoded data removed]",
      "text/plain": [
       "<Figure size 432x288 with 1 Axes>"
      ]
     },
     "metadata": {
      "needs_background": "light"
     },
     "output_type": "display_data"
    }
   ],
   "source": [
    "loss = hist_padded.history['loss']\n",
    "val_loss = hist_padded.history['val_loss']\n",
    "epochs = range(1, len(loss) + 1)\n",
    "plt.plot(epochs, loss, 'y', label='Training loss')\n",
    "plt.plot(epochs, val_loss, 'r', label='Validation loss')\n",
    "plt.title('Training and validation loss')\n",
    "plt.xlabel('Epochs')\n",
    "plt.ylabel('Loss')\n",
    "plt.legend()\n",
    "plt.show()"
   ]
  },
  {
   "cell_type": "code",
   "execution_count": 20,
   "metadata": {},
   "outputs": [
    {
     "data": {
      "image/png": "[encoded data removed]",
      "text/plain": [
       "<Figure size 432x288 with 1 Axes>"
      ]
     },
     "metadata": {
      "needs_background": "light"
     },
     "output_type": "display_data"
    }
   ],
   "source": [
    "acc = hist_padded.history['accuracy']\n",
    "val_acc = hist_padded.history['val_accuracy']\n",
    "\n",
    "plt.plot(epochs, acc, 'y', label='Training acc')\n",
    "plt.plot(epochs, val_acc, 'r', label='Validation acc')\n",
    "plt.title('Training and validation accuracy')\n",
    "plt.xlabel('Epochs')\n",
    "plt.ylabel('Accuracy')\n",
    "plt.legend()\n",
    "plt.show()"
   ]
  },
  {
   "cell_type": "markdown",
   "metadata": {},
   "source": [
    "UNET with Flatten Layer to output 28x28 image"
   ]
  },
  {
   "cell_type": "code",
   "execution_count": 19,
   "metadata": {},
   "outputs": [],
   "source": [
    "def unet_with_flatten(input_shape):\n",
    "    inputs = Input(input_shape)\n",
    "\n",
    "    conv1 = Conv2D(64, 3, padding='same')(inputs)\n",
    "    conv1 = BatchNormalization()(conv1)\n",
    "    conv1 = Activation('relu')(conv1)\n",
    "    conv1 = Conv2D(64, 3, padding='same')(conv1)\n",
    "    conv1 = BatchNormalization()(conv1)\n",
    "    conv1 = Activation('relu')(conv1)\n",
    "    conv1 = Conv2D(64, 3, padding='same')(conv1)\n",
    "    conv1 = BatchNormalization()(conv1)\n",
    "    conv1 = Activation('relu')(conv1)\n",
    "    pool1 = MaxPooling2D(pool_size=(2, 2))(conv1)\n",
    "\n",
    "    conv2 = Conv2D(128, 3, padding='same')(pool1)\n",
    "    conv2 = BatchNormalization()(conv2)\n",
    "    conv2 = Activation('relu')(conv2)\n",
    "    conv2 = Conv2D(128, 3, padding='same')(conv2)\n",
    "    conv2 = BatchNormalization()(conv2)\n",
    "    conv2 = Activation('relu')(conv2)\n",
    "    pool2 = MaxPooling2D(pool_size=(2, 2))(conv2)\n",
    "\n",
    "    # Bottleneck\n",
    "    bottleneck = Conv2D(256, 3, padding='same')(pool2)\n",
    "    bottleneck = BatchNormalization()(bottleneck)\n",
    "    bottleneck = Activation('relu')(bottleneck)\n",
    "    bottleneck = Conv2D(256, 3, padding='same')(bottleneck)\n",
    "    bottleneck = BatchNormalization()(bottleneck)\n",
    "    bottleneck = Activation('relu')(bottleneck)\n",
    "\n",
    "    # Expansive Path\n",
    "    up1 = Conv2DTranspose(128, (3, 3), strides=(2, 2), padding='same')(bottleneck)\n",
    "    skip1 = Concatenate(axis=-1)([conv2, up1])\n",
    "    conv3 = Conv2D(128, 3, padding='same')(skip1)\n",
    "    conv3 = BatchNormalization()(conv3)\n",
    "    conv3 = Activation('relu')(conv3)\n",
    "    conv3 = Conv2D(128, 3, padding='same')(conv3)\n",
    "    conv3 = BatchNormalization()(conv3)\n",
    "    conv3 = Activation('relu')(conv3)\n",
    "\n",
    "    up2 = Conv2DTranspose(64, (3, 3), strides=(2, 2), padding='same')(conv3)\n",
    "    skip2 = Concatenate(axis=-1)([conv1, up2])\n",
    "    conv4 = Conv2D(64, 3, padding='same')(skip2)\n",
    "    conv4 = BatchNormalization()(conv4)\n",
    "    conv4 = Activation('relu')(conv4)\n",
    "    conv4 = Conv2D(64, 3, padding='same')(conv4)\n",
    "    conv4 = BatchNormalization()(conv4)\n",
    "    conv4 = Activation('relu')(conv4)\n",
    "\n",
    "    flatten = Flatten()(conv4)\n",
    "\n",
    "    dense = Dense(28*28*1, activation='relu')(flatten)\n",
    "\n",
    "    reshape = Reshape((28, 28, 1))(dense)\n",
    "\n",
    "    # up3 = Conv2DTranspose(32, (3, 3), strides=(2, 2), padding='same')(conv4)\n",
    "    # conv5 = Conv2D(32, 3, padding='same')(up3)\n",
    "    # conv5 = BatchNormalization()(conv5)\n",
    "    # conv5 = Activation('relu')(conv5)\n",
    "    # conv5 = Conv2D(32, 3, padding='same')(conv5)\n",
    "    # conv5 = BatchNormalization()(conv5)\n",
    "    # conv5 = Activation('relu')(conv5)\n",
    "\n",
    "    # conv5 = Conv2DTranspose(1, (3, 3), strides=(2, 2), padding='same')(conv4)\n",
    "\n",
    "    output = Conv2D(1, 1, activation='sigmoid')(reshape)\n",
    "\n",
    "    # Cropping to the desired size (35, 35)\n",
    "    # cropped_output = Cropping2D(((7, 6), (7, 6)))(output)\n",
    "\n",
    "    model = Model(inputs=inputs, outputs=output)\n",
    "\n",
    "    return model"
   ]
  },
  {
   "cell_type": "code",
   "execution_count": 20,
   "metadata": {},
   "outputs": [
    {
     "name": "stdout",
     "output_type": "stream",
     "text": [
      "Model: \"model_1\"\n",
      "__________________________________________________________________________________________________\n",
      " Layer (type)                   Output Shape         Param #     Connected to                     \n",
      "==================================================================================================\n",
      " input_2 (InputLayer)           [(None, 24, 24, 1)]  0           []                               \n",
      "                                                                                                  \n",
      " conv2d_12 (Conv2D)             (None, 24, 24, 64)   640         ['input_2[0][0]']                \n",
      "                                                                                                  \n",
      " batch_normalization_11 (BatchN  (None, 24, 24, 64)  256         ['conv2d_12[0][0]']              \n",
      " ormalization)                                                                                    \n",
      "                                                                                                  \n",
      " activation_11 (Activation)     (None, 24, 24, 64)   0           ['batch_normalization_11[0][0]'] \n",
      "                                                                                                  \n",
      " conv2d_13 (Conv2D)             (None, 24, 24, 64)   36928       ['activation_11[0][0]']          \n",
      "                                                                                                  \n",
      " batch_normalization_12 (BatchN  (None, 24, 24, 64)  256         ['conv2d_13[0][0]']              \n",
      " ormalization)                                                                                    \n",
      "                                                                                                  \n",
      " activation_12 (Activation)     (None, 24, 24, 64)   0           ['batch_normalization_12[0][0]'] \n",
      "                                                                                                  \n",
      " conv2d_14 (Conv2D)             (None, 24, 24, 64)   36928       ['activation_12[0][0]']          \n",
      "                                                                                                  \n",
      " batch_normalization_13 (BatchN  (None, 24, 24, 64)  256         ['conv2d_14[0][0]']              \n",
      " ormalization)                                                                                    \n",
      "                                                                                                  \n",
      " activation_13 (Activation)     (None, 24, 24, 64)   0           ['batch_normalization_13[0][0]'] \n",
      "                                                                                                  \n",
      " max_pooling2d_2 (MaxPooling2D)  (None, 12, 12, 64)  0           ['activation_13[0][0]']          \n",
      "                                                                                                  \n",
      " conv2d_15 (Conv2D)             (None, 12, 12, 128)  73856       ['max_pooling2d_2[0][0]']        \n",
      "                                                                                                  \n",
      " batch_normalization_14 (BatchN  (None, 12, 12, 128)  512        ['conv2d_15[0][0]']              \n",
      " ormalization)                                                                                    \n",
      "                                                                                                  \n",
      " activation_14 (Activation)     (None, 12, 12, 128)  0           ['batch_normalization_14[0][0]'] \n",
      "                                                                                                  \n",
      " conv2d_16 (Conv2D)             (None, 12, 12, 128)  147584      ['activation_14[0][0]']          \n",
      "                                                                                                  \n",
      " batch_normalization_15 (BatchN  (None, 12, 12, 128)  512        ['conv2d_16[0][0]']              \n",
      " ormalization)                                                                                    \n",
      "                                                                                                  \n",
      " activation_15 (Activation)     (None, 12, 12, 128)  0           ['batch_normalization_15[0][0]'] \n",
      "                                                                                                  \n",
      " max_pooling2d_3 (MaxPooling2D)  (None, 6, 6, 128)   0           ['activation_15[0][0]']          \n",
      "                                                                                                  \n",
      " conv2d_17 (Conv2D)             (None, 6, 6, 256)    295168      ['max_pooling2d_3[0][0]']        \n",
      "                                                                                                  \n",
      " batch_normalization_16 (BatchN  (None, 6, 6, 256)   1024        ['conv2d_17[0][0]']              \n",
      " ormalization)                                                                                    \n",
      "                                                                                                  \n",
      " activation_16 (Activation)     (None, 6, 6, 256)    0           ['batch_normalization_16[0][0]'] \n",
      "                                                                                                  \n",
      " conv2d_18 (Conv2D)             (None, 6, 6, 256)    590080      ['activation_16[0][0]']          \n",
      "                                                                                                  \n",
      " batch_normalization_17 (BatchN  (None, 6, 6, 256)   1024        ['conv2d_18[0][0]']              \n",
      " ormalization)                                                                                    \n",
      "                                                                                                  \n",
      " activation_17 (Activation)     (None, 6, 6, 256)    0           ['batch_normalization_17[0][0]'] \n",
      "                                                                                                  \n",
      " conv2d_transpose_2 (Conv2DTran  (None, 12, 12, 128)  295040     ['activation_17[0][0]']          \n",
      " spose)                                                                                           \n",
      "                                                                                                  \n",
      " concatenate_2 (Concatenate)    (None, 12, 12, 256)  0           ['activation_15[0][0]',          \n",
      "                                                                  'conv2d_transpose_2[0][0]']     \n",
      "                                                                                                  \n",
      " conv2d_19 (Conv2D)             (None, 12, 12, 128)  295040      ['concatenate_2[0][0]']          \n",
      "                                                                                                  \n",
      " batch_normalization_18 (BatchN  (None, 12, 12, 128)  512        ['conv2d_19[0][0]']              \n",
      " ormalization)                                                                                    \n",
      "                                                                                                  \n",
      " activation_18 (Activation)     (None, 12, 12, 128)  0           ['batch_normalization_18[0][0]'] \n",
      "                                                                                                  \n",
      " conv2d_20 (Conv2D)             (None, 12, 12, 128)  147584      ['activation_18[0][0]']          \n",
      "                                                                                                  \n",
      " batch_normalization_19 (BatchN  (None, 12, 12, 128)  512        ['conv2d_20[0][0]']              \n",
      " ormalization)                                                                                    \n",
      "                                                                                                  \n",
      " activation_19 (Activation)     (None, 12, 12, 128)  0           ['batch_normalization_19[0][0]'] \n",
      "                                                                                                  \n",
      " conv2d_transpose_3 (Conv2DTran  (None, 24, 24, 64)  73792       ['activation_19[0][0]']          \n",
      " spose)                                                                                           \n",
      "                                                                                                  \n",
      " concatenate_3 (Concatenate)    (None, 24, 24, 128)  0           ['activation_13[0][0]',          \n",
      "                                                                  'conv2d_transpose_3[0][0]']     \n",
      "                                                                                                  \n",
      " conv2d_21 (Conv2D)             (None, 24, 24, 64)   73792       ['concatenate_3[0][0]']          \n",
      "                                                                                                  \n",
      " batch_normalization_20 (BatchN  (None, 24, 24, 64)  256         ['conv2d_21[0][0]']              \n",
      " ormalization)                                                                                    \n",
      "                                                                                                  \n",
      " activation_20 (Activation)     (None, 24, 24, 64)   0           ['batch_normalization_20[0][0]'] \n",
      "                                                                                                  \n",
      " conv2d_22 (Conv2D)             (None, 24, 24, 64)   36928       ['activation_20[0][0]']          \n",
      "                                                                                                  \n",
      " batch_normalization_21 (BatchN  (None, 24, 24, 64)  256         ['conv2d_22[0][0]']              \n",
      " ormalization)                                                                                    \n",
      "                                                                                                  \n",
      " activation_21 (Activation)     (None, 24, 24, 64)   0           ['batch_normalization_21[0][0]'] \n",
      "                                                                                                  \n",
      " flatten (Flatten)              (None, 36864)        0           ['activation_21[0][0]']          \n",
      "                                                                                                  \n",
      " dense (Dense)                  (None, 784)          28902160    ['flatten[0][0]']                \n",
      "                                                                                                  \n",
      " reshape (Reshape)              (None, 28, 28, 1)    0           ['dense[0][0]']                  \n",
      "                                                                                                  \n",
      " conv2d_23 (Conv2D)             (None, 28, 28, 1)    2           ['reshape[0][0]']                \n",
      "                                                                                                  \n",
      "==================================================================================================\n",
      "Total params: 31,010,898\n",
      "Trainable params: 31,008,210\n",
      "Non-trainable params: 2,688\n",
      "__________________________________________________________________________________________________\n"
     ]
    }
   ],
   "source": [
    "inputMNIST_shape = fieldMNIST_train.shape[1:]\n",
    "model_mnist_flatten = unet_with_flatten(inputMNIST_shape)\n",
    "model_mnist_flatten.summary()"
   ]
  },
  {
   "cell_type": "code",
   "execution_count": 21,
   "metadata": {},
   "outputs": [
    {
     "name": "stdout",
     "output_type": "stream",
     "text": [
      "Epoch 1/200\n",
      "21/21 [==============================] - ETA: 0s - loss: 0.6671 - accuracy: 0.7499\n",
      "Epoch 1: val_loss improved from inf to 0.68925, saving model to ./model_weights_flatten\\\n"
     ]
    },
    {
     "name": "stderr",
     "output_type": "stream",
     "text": [
      "WARNING:absl:Found untraced functions such as _jit_compiled_convolution_op, _jit_compiled_convolution_op, _jit_compiled_convolution_op, _jit_compiled_convolution_op, _jit_compiled_convolution_op while saving (showing 5 of 14). These functions will not be directly callable after loading.\n"
     ]
    },
    {
     "name": "stdout",
     "output_type": "stream",
     "text": [
      "INFO:tensorflow:Assets written to: ./model_weights_flatten\\assets\n"
     ]
    },
    {
     "name": "stderr",
     "output_type": "stream",
     "text": [
      "INFO:tensorflow:Assets written to: ./model_weights_flatten\\assets\n"
     ]
    },
    {
     "name": "stdout",
     "output_type": "stream",
     "text": [
      "21/21 [==============================] - 24s 1s/step - loss: 0.6671 - accuracy: 0.7499 - val_loss: 0.6893 - val_accuracy: 0.6872\n",
      "Epoch 2/200\n",
      "21/21 [==============================] - ETA: 0s - loss: 0.6285 - accuracy: 0.7963\n",
      "Epoch 2: val_loss improved from 0.68925 to 0.68434, saving model to ./model_weights_flatten\\\n"
     ]
    },
    {
     "name": "stderr",
     "output_type": "stream",
     "text": [
      "WARNING:absl:Found untraced functions such as _jit_compiled_convolution_op, _jit_compiled_convolution_op, _jit_compiled_convolution_op, _jit_compiled_convolution_op, _jit_compiled_convolution_op while saving (showing 5 of 14). These functions will not be directly callable after loading.\n"
     ]
    },
    {
     "name": "stdout",
     "output_type": "stream",
     "text": [
      "INFO:tensorflow:Assets written to: ./model_weights_flatten\\assets\n"
     ]
    },
    {
     "name": "stderr",
     "output_type": "stream",
     "text": [
      "INFO:tensorflow:Assets written to: ./model_weights_flatten\\assets\n"
     ]
    },
    {
     "name": "stdout",
     "output_type": "stream",
     "text": [
      "21/21 [==============================] - 19s 924ms/step - loss: 0.6285 - accuracy: 0.7963 - val_loss: 0.6843 - val_accuracy: 0.6944\n",
      "Epoch 3/200\n",
      "21/21 [==============================] - ETA: 0s - loss: 0.6085 - accuracy: 0.8110\n",
      "Epoch 3: val_loss improved from 0.68434 to 0.68058, saving model to ./model_weights_flatten\\\n"
     ]
    },
    {
     "name": "stderr",
     "output_type": "stream",
     "text": [
      "WARNING:absl:Found untraced functions such as _jit_compiled_convolution_op, _jit_compiled_convolution_op, _jit_compiled_convolution_op, _jit_compiled_convolution_op, _jit_compiled_convolution_op while saving (showing 5 of 14). These functions will not be directly callable after loading.\n"
     ]
    },
    {
     "name": "stdout",
     "output_type": "stream",
     "text": [
      "INFO:tensorflow:Assets written to: ./model_weights_flatten\\assets\n"
     ]
    },
    {
     "name": "stderr",
     "output_type": "stream",
     "text": [
      "INFO:tensorflow:Assets written to: ./model_weights_flatten\\assets\n"
     ]
    },
    {
     "name": "stdout",
     "output_type": "stream",
     "text": [
      "21/21 [==============================] - 17s 831ms/step - loss: 0.6085 - accuracy: 0.8110 - val_loss: 0.6806 - val_accuracy: 0.6909\n",
      "Epoch 4/200\n",
      "21/21 [==============================] - ETA: 0s - loss: 0.5942 - accuracy: 0.8184\n",
      "Epoch 4: val_loss improved from 0.68058 to 0.67674, saving model to ./model_weights_flatten\\\n"
     ]
    },
    {
     "name": "stderr",
     "output_type": "stream",
     "text": [
      "WARNING:absl:Found untraced functions such as _jit_compiled_convolution_op, _jit_compiled_convolution_op, _jit_compiled_convolution_op, _jit_compiled_convolution_op, _jit_compiled_convolution_op while saving (showing 5 of 14). These functions will not be directly callable after loading.\n"
     ]
    },
    {
     "name": "stdout",
     "output_type": "stream",
     "text": [
      "INFO:tensorflow:Assets written to: ./model_weights_flatten\\assets\n"
     ]
    },
    {
     "name": "stderr",
     "output_type": "stream",
     "text": [
      "INFO:tensorflow:Assets written to: ./model_weights_flatten\\assets\n"
     ]
    },
    {
     "name": "stdout",
     "output_type": "stream",
     "text": [
      "21/21 [==============================] - 16s 795ms/step - loss: 0.5942 - accuracy: 0.8184 - val_loss: 0.6767 - val_accuracy: 0.6938\n",
      "Epoch 5/200\n",
      "21/21 [==============================] - ETA: 0s - loss: 0.5804 - accuracy: 0.8243\n",
      "Epoch 5: val_loss improved from 0.67674 to 0.67514, saving model to ./model_weights_flatten\\\n"
     ]
    },
    {
     "name": "stderr",
     "output_type": "stream",
     "text": [
      "WARNING:absl:Found untraced functions such as _jit_compiled_convolution_op, _jit_compiled_convolution_op, _jit_compiled_convolution_op, _jit_compiled_convolution_op, _jit_compiled_convolution_op while saving (showing 5 of 14). These functions will not be directly callable after loading.\n"
     ]
    },
    {
     "name": "stdout",
     "output_type": "stream",
     "text": [
      "INFO:tensorflow:Assets written to: ./model_weights_flatten\\assets\n"
     ]
    },
    {
     "name": "stderr",
     "output_type": "stream",
     "text": [
      "INFO:tensorflow:Assets written to: ./model_weights_flatten\\assets\n"
     ]
    },
    {
     "name": "stdout",
     "output_type": "stream",
     "text": [
      "21/21 [==============================] - 17s 817ms/step - loss: 0.5804 - accuracy: 0.8243 - val_loss: 0.6751 - val_accuracy: 0.6937\n",
      "Epoch 6/200\n",
      "21/21 [==============================] - ETA: 0s - loss: 0.5698 - accuracy: 0.8284\n",
      "Epoch 6: val_loss improved from 0.67514 to 0.67496, saving model to ./model_weights_flatten\\\n"
     ]
    },
    {
     "name": "stderr",
     "output_type": "stream",
     "text": [
      "WARNING:absl:Found untraced functions such as _jit_compiled_convolution_op, _jit_compiled_convolution_op, _jit_compiled_convolution_op, _jit_compiled_convolution_op, _jit_compiled_convolution_op while saving (showing 5 of 14). These functions will not be directly callable after loading.\n"
     ]
    },
    {
     "name": "stdout",
     "output_type": "stream",
     "text": [
      "INFO:tensorflow:Assets written to: ./model_weights_flatten\\assets\n"
     ]
    },
    {
     "name": "stderr",
     "output_type": "stream",
     "text": [
      "INFO:tensorflow:Assets written to: ./model_weights_flatten\\assets\n"
     ]
    },
    {
     "name": "stdout",
     "output_type": "stream",
     "text": [
      "21/21 [==============================] - 16s 775ms/step - loss: 0.5698 - accuracy: 0.8284 - val_loss: 0.6750 - val_accuracy: 0.6954\n",
      "Epoch 7/200\n",
      "21/21 [==============================] - ETA: 0s - loss: 0.5591 - accuracy: 0.8326\n",
      "Epoch 7: val_loss improved from 0.67496 to 0.67457, saving model to ./model_weights_flatten\\\n"
     ]
    },
    {
     "name": "stderr",
     "output_type": "stream",
     "text": [
      "WARNING:absl:Found untraced functions such as _jit_compiled_convolution_op, _jit_compiled_convolution_op, _jit_compiled_convolution_op, _jit_compiled_convolution_op, _jit_compiled_convolution_op while saving (showing 5 of 14). These functions will not be directly callable after loading.\n"
     ]
    },
    {
     "name": "stdout",
     "output_type": "stream",
     "text": [
      "INFO:tensorflow:Assets written to: ./model_weights_flatten\\assets\n"
     ]
    },
    {
     "name": "stderr",
     "output_type": "stream",
     "text": [
      "INFO:tensorflow:Assets written to: ./model_weights_flatten\\assets\n"
     ]
    },
    {
     "name": "stdout",
     "output_type": "stream",
     "text": [
      "21/21 [==============================] - 17s 835ms/step - loss: 0.5591 - accuracy: 0.8326 - val_loss: 0.6746 - val_accuracy: 0.6956\n",
      "Epoch 8/200\n",
      "21/21 [==============================] - ETA: 0s - loss: 0.5510 - accuracy: 0.8353\n",
      "Epoch 8: val_loss did not improve from 0.67457\n",
      "21/21 [==============================] - 12s 571ms/step - loss: 0.5510 - accuracy: 0.8353 - val_loss: 0.6764 - val_accuracy: 0.6951\n",
      "Epoch 9/200\n",
      "21/21 [==============================] - ETA: 0s - loss: 0.5434 - accuracy: 0.8372\n",
      "Epoch 9: val_loss did not improve from 0.67457\n",
      "21/21 [==============================] - 13s 612ms/step - loss: 0.5434 - accuracy: 0.8372 - val_loss: 0.6859 - val_accuracy: 0.6959\n",
      "Epoch 10/200\n",
      "21/21 [==============================] - ETA: 0s - loss: 0.5364 - accuracy: 0.8398\n",
      "Epoch 10: val_loss did not improve from 0.67457\n",
      "21/21 [==============================] - 12s 561ms/step - loss: 0.5364 - accuracy: 0.8398 - val_loss: 0.6811 - val_accuracy: 0.6958\n",
      "Epoch 11/200\n",
      "21/21 [==============================] - ETA: 0s - loss: 0.5309 - accuracy: 0.8407\n",
      "Epoch 11: val_loss did not improve from 0.67457\n",
      "21/21 [==============================] - 12s 572ms/step - loss: 0.5309 - accuracy: 0.8407 - val_loss: 0.6919 - val_accuracy: 0.6979\n",
      "Epoch 12/200\n",
      "21/21 [==============================] - ETA: 0s - loss: 0.5254 - accuracy: 0.8419\n",
      "Epoch 12: val_loss did not improve from 0.67457\n",
      "21/21 [==============================] - 12s 581ms/step - loss: 0.5254 - accuracy: 0.8419 - val_loss: 0.7005 - val_accuracy: 0.6983\n",
      "Epoch 13/200\n",
      "21/21 [==============================] - ETA: 0s - loss: 0.5191 - accuracy: 0.8433\n",
      "Epoch 13: val_loss did not improve from 0.67457\n",
      "21/21 [==============================] - 12s 557ms/step - loss: 0.5191 - accuracy: 0.8433 - val_loss: 0.6884 - val_accuracy: 0.6986\n",
      "Epoch 14/200\n",
      "21/21 [==============================] - ETA: 0s - loss: 0.5139 - accuracy: 0.8445\n",
      "Epoch 14: val_loss did not improve from 0.67457\n",
      "21/21 [==============================] - 12s 594ms/step - loss: 0.5139 - accuracy: 0.8445 - val_loss: 0.7060 - val_accuracy: 0.6987\n",
      "Epoch 15/200\n",
      "21/21 [==============================] - ETA: 0s - loss: 0.5092 - accuracy: 0.8452\n",
      "Epoch 15: val_loss did not improve from 0.67457\n",
      "21/21 [==============================] - 12s 572ms/step - loss: 0.5092 - accuracy: 0.8452 - val_loss: 0.6921 - val_accuracy: 0.6986\n",
      "Epoch 16/200\n",
      "21/21 [==============================] - ETA: 0s - loss: 0.5054 - accuracy: 0.8455\n",
      "Epoch 16: val_loss did not improve from 0.67457\n",
      "21/21 [==============================] - 13s 606ms/step - loss: 0.5054 - accuracy: 0.8455 - val_loss: 0.6970 - val_accuracy: 0.7015\n",
      "Epoch 17/200\n",
      "21/21 [==============================] - ETA: 0s - loss: 0.5020 - accuracy: 0.8451\n",
      "Epoch 17: val_loss did not improve from 0.67457\n",
      "21/21 [==============================] - 12s 573ms/step - loss: 0.5020 - accuracy: 0.8451 - val_loss: 0.6894 - val_accuracy: 0.7012\n",
      "Epoch 18/200\n",
      "21/21 [==============================] - ETA: 0s - loss: 0.4977 - accuracy: 0.8458\n",
      "Epoch 18: val_loss did not improve from 0.67457\n",
      "21/21 [==============================] - 12s 552ms/step - loss: 0.4977 - accuracy: 0.8458 - val_loss: 0.7040 - val_accuracy: 0.7029\n",
      "Epoch 19/200\n",
      "21/21 [==============================] - ETA: 0s - loss: 0.4940 - accuracy: 0.8460\n",
      "Epoch 19: val_loss did not improve from 0.67457\n",
      "21/21 [==============================] - 11s 548ms/step - loss: 0.4940 - accuracy: 0.8460 - val_loss: 0.6885 - val_accuracy: 0.7078\n",
      "Epoch 20/200\n",
      "21/21 [==============================] - ETA: 0s - loss: 0.4896 - accuracy: 0.8468\n",
      "Epoch 20: val_loss did not improve from 0.67457\n",
      "21/21 [==============================] - 13s 604ms/step - loss: 0.4896 - accuracy: 0.8468 - val_loss: 0.6747 - val_accuracy: 0.7086\n",
      "Epoch 21/200\n",
      "21/21 [==============================] - ETA: 0s - loss: 0.4860 - accuracy: 0.8471\n",
      "Epoch 21: val_loss improved from 0.67457 to 0.66143, saving model to ./model_weights_flatten\\\n"
     ]
    },
    {
     "name": "stderr",
     "output_type": "stream",
     "text": [
      "WARNING:absl:Found untraced functions such as _jit_compiled_convolution_op, _jit_compiled_convolution_op, _jit_compiled_convolution_op, _jit_compiled_convolution_op, _jit_compiled_convolution_op while saving (showing 5 of 14). These functions will not be directly callable after loading.\n"
     ]
    },
    {
     "name": "stdout",
     "output_type": "stream",
     "text": [
      "INFO:tensorflow:Assets written to: ./model_weights_flatten\\assets\n"
     ]
    },
    {
     "name": "stderr",
     "output_type": "stream",
     "text": [
      "INFO:tensorflow:Assets written to: ./model_weights_flatten\\assets\n"
     ]
    },
    {
     "name": "stdout",
     "output_type": "stream",
     "text": [
      "21/21 [==============================] - 17s 827ms/step - loss: 0.4860 - accuracy: 0.8471 - val_loss: 0.6614 - val_accuracy: 0.7132\n",
      "Epoch 22/200\n",
      "21/21 [==============================] - ETA: 0s - loss: 0.4831 - accuracy: 0.8471\n",
      "Epoch 22: val_loss did not improve from 0.66143\n",
      "21/21 [==============================] - 14s 666ms/step - loss: 0.4831 - accuracy: 0.8471 - val_loss: 0.6644 - val_accuracy: 0.7163\n",
      "Epoch 23/200\n",
      "21/21 [==============================] - ETA: 0s - loss: 0.4806 - accuracy: 0.8468\n",
      "Epoch 23: val_loss improved from 0.66143 to 0.65872, saving model to ./model_weights_flatten\\\n"
     ]
    },
    {
     "name": "stderr",
     "output_type": "stream",
     "text": [
      "WARNING:absl:Found untraced functions such as _jit_compiled_convolution_op, _jit_compiled_convolution_op, _jit_compiled_convolution_op, _jit_compiled_convolution_op, _jit_compiled_convolution_op while saving (showing 5 of 14). These functions will not be directly callable after loading.\n"
     ]
    },
    {
     "name": "stdout",
     "output_type": "stream",
     "text": [
      "INFO:tensorflow:Assets written to: ./model_weights_flatten\\assets\n"
     ]
    },
    {
     "name": "stderr",
     "output_type": "stream",
     "text": [
      "INFO:tensorflow:Assets written to: ./model_weights_flatten\\assets\n"
     ]
    },
    {
     "name": "stdout",
     "output_type": "stream",
     "text": [
      "21/21 [==============================] - 22s 1s/step - loss: 0.4806 - accuracy: 0.8468 - val_loss: 0.6587 - val_accuracy: 0.7199\n",
      "Epoch 24/200\n",
      "21/21 [==============================] - ETA: 0s - loss: 0.4785 - accuracy: 0.8462\n",
      "Epoch 24: val_loss improved from 0.65872 to 0.65152, saving model to ./model_weights_flatten\\\n"
     ]
    },
    {
     "name": "stderr",
     "output_type": "stream",
     "text": [
      "WARNING:absl:Found untraced functions such as _jit_compiled_convolution_op, _jit_compiled_convolution_op, _jit_compiled_convolution_op, _jit_compiled_convolution_op, _jit_compiled_convolution_op while saving (showing 5 of 14). These functions will not be directly callable after loading.\n"
     ]
    },
    {
     "name": "stdout",
     "output_type": "stream",
     "text": [
      "INFO:tensorflow:Assets written to: ./model_weights_flatten\\assets\n"
     ]
    },
    {
     "name": "stderr",
     "output_type": "stream",
     "text": [
      "INFO:tensorflow:Assets written to: ./model_weights_flatten\\assets\n"
     ]
    },
    {
     "name": "stdout",
     "output_type": "stream",
     "text": [
      "21/21 [==============================] - 17s 849ms/step - loss: 0.4785 - accuracy: 0.8462 - val_loss: 0.6515 - val_accuracy: 0.7260\n",
      "Epoch 25/200\n",
      "21/21 [==============================] - ETA: 0s - loss: 0.4746 - accuracy: 0.8469\n",
      "Epoch 25: val_loss improved from 0.65152 to 0.63410, saving model to ./model_weights_flatten\\\n"
     ]
    },
    {
     "name": "stderr",
     "output_type": "stream",
     "text": [
      "WARNING:absl:Found untraced functions such as _jit_compiled_convolution_op, _jit_compiled_convolution_op, _jit_compiled_convolution_op, _jit_compiled_convolution_op, _jit_compiled_convolution_op while saving (showing 5 of 14). These functions will not be directly callable after loading.\n"
     ]
    },
    {
     "name": "stdout",
     "output_type": "stream",
     "text": [
      "INFO:tensorflow:Assets written to: ./model_weights_flatten\\assets\n"
     ]
    },
    {
     "name": "stderr",
     "output_type": "stream",
     "text": [
      "INFO:tensorflow:Assets written to: ./model_weights_flatten\\assets\n"
     ]
    },
    {
     "name": "stdout",
     "output_type": "stream",
     "text": [
      "21/21 [==============================] - 18s 895ms/step - loss: 0.4746 - accuracy: 0.8469 - val_loss: 0.6341 - val_accuracy: 0.7302\n",
      "Epoch 26/200\n",
      "21/21 [==============================] - ETA: 0s - loss: 0.4707 - accuracy: 0.8477\n",
      "Epoch 26: val_loss improved from 0.63410 to 0.62820, saving model to ./model_weights_flatten\\\n"
     ]
    },
    {
     "name": "stderr",
     "output_type": "stream",
     "text": [
      "WARNING:absl:Found untraced functions such as _jit_compiled_convolution_op, _jit_compiled_convolution_op, _jit_compiled_convolution_op, _jit_compiled_convolution_op, _jit_compiled_convolution_op while saving (showing 5 of 14). These functions will not be directly callable after loading.\n"
     ]
    },
    {
     "name": "stdout",
     "output_type": "stream",
     "text": [
      "INFO:tensorflow:Assets written to: ./model_weights_flatten\\assets\n"
     ]
    },
    {
     "name": "stderr",
     "output_type": "stream",
     "text": [
      "INFO:tensorflow:Assets written to: ./model_weights_flatten\\assets\n"
     ]
    },
    {
     "name": "stdout",
     "output_type": "stream",
     "text": [
      "21/21 [==============================] - 20s 960ms/step - loss: 0.4707 - accuracy: 0.8477 - val_loss: 0.6282 - val_accuracy: 0.7421\n",
      "Epoch 27/200\n",
      "21/21 [==============================] - ETA: 0s - loss: 0.4671 - accuracy: 0.8482\n",
      "Epoch 27: val_loss improved from 0.62820 to 0.60946, saving model to ./model_weights_flatten\\\n"
     ]
    },
    {
     "name": "stderr",
     "output_type": "stream",
     "text": [
      "WARNING:absl:Found untraced functions such as _jit_compiled_convolution_op, _jit_compiled_convolution_op, _jit_compiled_convolution_op, _jit_compiled_convolution_op, _jit_compiled_convolution_op while saving (showing 5 of 14). These functions will not be directly callable after loading.\n"
     ]
    },
    {
     "name": "stdout",
     "output_type": "stream",
     "text": [
      "INFO:tensorflow:Assets written to: ./model_weights_flatten\\assets\n"
     ]
    },
    {
     "name": "stderr",
     "output_type": "stream",
     "text": [
      "INFO:tensorflow:Assets written to: ./model_weights_flatten\\assets\n"
     ]
    },
    {
     "name": "stdout",
     "output_type": "stream",
     "text": [
      "21/21 [==============================] - 21s 996ms/step - loss: 0.4671 - accuracy: 0.8482 - val_loss: 0.6095 - val_accuracy: 0.7545\n",
      "Epoch 28/200\n",
      "21/21 [==============================] - ETA: 0s - loss: 0.4643 - accuracy: 0.8484\n",
      "Epoch 28: val_loss improved from 0.60946 to 0.60116, saving model to ./model_weights_flatten\\\n"
     ]
    },
    {
     "name": "stderr",
     "output_type": "stream",
     "text": [
      "WARNING:absl:Found untraced functions such as _jit_compiled_convolution_op, _jit_compiled_convolution_op, _jit_compiled_convolution_op, _jit_compiled_convolution_op, _jit_compiled_convolution_op while saving (showing 5 of 14). These functions will not be directly callable after loading.\n"
     ]
    },
    {
     "name": "stdout",
     "output_type": "stream",
     "text": [
      "INFO:tensorflow:Assets written to: ./model_weights_flatten\\assets\n"
     ]
    },
    {
     "name": "stderr",
     "output_type": "stream",
     "text": [
      "INFO:tensorflow:Assets written to: ./model_weights_flatten\\assets\n"
     ]
    },
    {
     "name": "stdout",
     "output_type": "stream",
     "text": [
      "21/21 [==============================] - 23s 1s/step - loss: 0.4643 - accuracy: 0.8484 - val_loss: 0.6012 - val_accuracy: 0.7638\n",
      "Epoch 29/200\n",
      "21/21 [==============================] - ETA: 0s - loss: 0.4628 - accuracy: 0.8477\n",
      "Epoch 29: val_loss did not improve from 0.60116\n",
      "21/21 [==============================] - 13s 621ms/step - loss: 0.4628 - accuracy: 0.8477 - val_loss: 0.6051 - val_accuracy: 0.7679\n",
      "Epoch 30/200\n",
      "21/21 [==============================] - ETA: 0s - loss: 0.4597 - accuracy: 0.8482\n",
      "Epoch 30: val_loss improved from 0.60116 to 0.58413, saving model to ./model_weights_flatten\\\n"
     ]
    },
    {
     "name": "stderr",
     "output_type": "stream",
     "text": [
      "WARNING:absl:Found untraced functions such as _jit_compiled_convolution_op, _jit_compiled_convolution_op, _jit_compiled_convolution_op, _jit_compiled_convolution_op, _jit_compiled_convolution_op while saving (showing 5 of 14). These functions will not be directly callable after loading.\n"
     ]
    },
    {
     "name": "stdout",
     "output_type": "stream",
     "text": [
      "INFO:tensorflow:Assets written to: ./model_weights_flatten\\assets\n"
     ]
    },
    {
     "name": "stderr",
     "output_type": "stream",
     "text": [
      "INFO:tensorflow:Assets written to: ./model_weights_flatten\\assets\n"
     ]
    },
    {
     "name": "stdout",
     "output_type": "stream",
     "text": [
      "21/21 [==============================] - 19s 937ms/step - loss: 0.4597 - accuracy: 0.8482 - val_loss: 0.5841 - val_accuracy: 0.7738\n",
      "Epoch 31/200\n",
      "21/21 [==============================] - ETA: 0s - loss: 0.4569 - accuracy: 0.8484\n",
      "Epoch 31: val_loss improved from 0.58413 to 0.56499, saving model to ./model_weights_flatten\\\n"
     ]
    },
    {
     "name": "stderr",
     "output_type": "stream",
     "text": [
      "WARNING:absl:Found untraced functions such as _jit_compiled_convolution_op, _jit_compiled_convolution_op, _jit_compiled_convolution_op, _jit_compiled_convolution_op, _jit_compiled_convolution_op while saving (showing 5 of 14). These functions will not be directly callable after loading.\n"
     ]
    },
    {
     "name": "stdout",
     "output_type": "stream",
     "text": [
      "INFO:tensorflow:Assets written to: ./model_weights_flatten\\assets\n"
     ]
    },
    {
     "name": "stderr",
     "output_type": "stream",
     "text": [
      "INFO:tensorflow:Assets written to: ./model_weights_flatten\\assets\n"
     ]
    },
    {
     "name": "stdout",
     "output_type": "stream",
     "text": [
      "21/21 [==============================] - 18s 857ms/step - loss: 0.4569 - accuracy: 0.8484 - val_loss: 0.5650 - val_accuracy: 0.7921\n",
      "Epoch 32/200\n",
      "21/21 [==============================] - ETA: 0s - loss: 0.4545 - accuracy: 0.8485\n",
      "Epoch 32: val_loss improved from 0.56499 to 0.56047, saving model to ./model_weights_flatten\\\n"
     ]
    },
    {
     "name": "stderr",
     "output_type": "stream",
     "text": [
      "WARNING:absl:Found untraced functions such as _jit_compiled_convolution_op, _jit_compiled_convolution_op, _jit_compiled_convolution_op, _jit_compiled_convolution_op, _jit_compiled_convolution_op while saving (showing 5 of 14). These functions will not be directly callable after loading.\n"
     ]
    },
    {
     "name": "stdout",
     "output_type": "stream",
     "text": [
      "INFO:tensorflow:Assets written to: ./model_weights_flatten\\assets\n"
     ]
    },
    {
     "name": "stderr",
     "output_type": "stream",
     "text": [
      "INFO:tensorflow:Assets written to: ./model_weights_flatten\\assets\n"
     ]
    },
    {
     "name": "stdout",
     "output_type": "stream",
     "text": [
      "21/21 [==============================] - 19s 930ms/step - loss: 0.4545 - accuracy: 0.8485 - val_loss: 0.5605 - val_accuracy: 0.8020\n",
      "Epoch 33/200\n",
      "21/21 [==============================] - ETA: 0s - loss: 0.4527 - accuracy: 0.8483\n",
      "Epoch 33: val_loss improved from 0.56047 to 0.56043, saving model to ./model_weights_flatten\\\n"
     ]
    },
    {
     "name": "stderr",
     "output_type": "stream",
     "text": [
      "WARNING:absl:Found untraced functions such as _jit_compiled_convolution_op, _jit_compiled_convolution_op, _jit_compiled_convolution_op, _jit_compiled_convolution_op, _jit_compiled_convolution_op while saving (showing 5 of 14). These functions will not be directly callable after loading.\n"
     ]
    },
    {
     "name": "stdout",
     "output_type": "stream",
     "text": [
      "INFO:tensorflow:Assets written to: ./model_weights_flatten\\assets\n"
     ]
    },
    {
     "name": "stderr",
     "output_type": "stream",
     "text": [
      "INFO:tensorflow:Assets written to: ./model_weights_flatten\\assets\n"
     ]
    },
    {
     "name": "stdout",
     "output_type": "stream",
     "text": [
      "21/21 [==============================] - 21s 1s/step - loss: 0.4527 - accuracy: 0.8483 - val_loss: 0.5604 - val_accuracy: 0.8079\n",
      "Epoch 34/200\n",
      "21/21 [==============================] - ETA: 0s - loss: 0.4501 - accuracy: 0.8486\n",
      "Epoch 34: val_loss did not improve from 0.56043\n",
      "21/21 [==============================] - 16s 772ms/step - loss: 0.4501 - accuracy: 0.8486 - val_loss: 0.5613 - val_accuracy: 0.8113\n",
      "Epoch 35/200\n",
      "21/21 [==============================] - ETA: 0s - loss: 0.4478 - accuracy: 0.8487\n",
      "Epoch 35: val_loss improved from 0.56043 to 0.55083, saving model to ./model_weights_flatten\\\n"
     ]
    },
    {
     "name": "stderr",
     "output_type": "stream",
     "text": [
      "WARNING:absl:Found untraced functions such as _jit_compiled_convolution_op, _jit_compiled_convolution_op, _jit_compiled_convolution_op, _jit_compiled_convolution_op, _jit_compiled_convolution_op while saving (showing 5 of 14). These functions will not be directly callable after loading.\n"
     ]
    },
    {
     "name": "stdout",
     "output_type": "stream",
     "text": [
      "INFO:tensorflow:Assets written to: ./model_weights_flatten\\assets\n"
     ]
    },
    {
     "name": "stderr",
     "output_type": "stream",
     "text": [
      "INFO:tensorflow:Assets written to: ./model_weights_flatten\\assets\n"
     ]
    },
    {
     "name": "stdout",
     "output_type": "stream",
     "text": [
      "21/21 [==============================] - 21s 1s/step - loss: 0.4478 - accuracy: 0.8487 - val_loss: 0.5508 - val_accuracy: 0.8116\n",
      "Epoch 36/200\n",
      "21/21 [==============================] - ETA: 0s - loss: 0.4456 - accuracy: 0.8488\n",
      "Epoch 36: val_loss did not improve from 0.55083\n",
      "21/21 [==============================] - 15s 717ms/step - loss: 0.4456 - accuracy: 0.8488 - val_loss: 0.5513 - val_accuracy: 0.8105\n",
      "Epoch 37/200\n",
      "21/21 [==============================] - ETA: 0s - loss: 0.4442 - accuracy: 0.8484\n",
      "Epoch 37: val_loss did not improve from 0.55083\n",
      "21/21 [==============================] - 14s 682ms/step - loss: 0.4442 - accuracy: 0.8484 - val_loss: 0.5697 - val_accuracy: 0.8121\n",
      "Epoch 38/200\n",
      "21/21 [==============================] - ETA: 0s - loss: 0.4418 - accuracy: 0.8488\n",
      "Epoch 38: val_loss did not improve from 0.55083\n",
      "21/21 [==============================] - 13s 641ms/step - loss: 0.4418 - accuracy: 0.8488 - val_loss: 0.5608 - val_accuracy: 0.8127\n",
      "Epoch 39/200\n",
      "21/21 [==============================] - ETA: 0s - loss: 0.4398 - accuracy: 0.8489\n",
      "Epoch 39: val_loss did not improve from 0.55083\n",
      "21/21 [==============================] - 11s 536ms/step - loss: 0.4398 - accuracy: 0.8489 - val_loss: 0.5533 - val_accuracy: 0.8135\n",
      "Epoch 40/200\n",
      "21/21 [==============================] - ETA: 0s - loss: 0.4408 - accuracy: 0.8469\n",
      "Epoch 40: val_loss did not improve from 0.55083\n",
      "21/21 [==============================] - 12s 553ms/step - loss: 0.4408 - accuracy: 0.8469 - val_loss: 0.5681 - val_accuracy: 0.8128\n",
      "Epoch 41/200\n",
      "21/21 [==============================] - ETA: 0s - loss: 0.4376 - accuracy: 0.8481\n",
      "Epoch 41: val_loss did not improve from 0.55083\n",
      "21/21 [==============================] - 11s 512ms/step - loss: 0.4376 - accuracy: 0.8481 - val_loss: 0.5789 - val_accuracy: 0.8137\n",
      "Epoch 42/200\n",
      "21/21 [==============================] - ETA: 0s - loss: 0.4352 - accuracy: 0.8485\n",
      "Epoch 42: val_loss did not improve from 0.55083\n",
      "21/21 [==============================] - 11s 546ms/step - loss: 0.4352 - accuracy: 0.8485 - val_loss: 0.5799 - val_accuracy: 0.8147\n",
      "Epoch 43/200\n",
      "21/21 [==============================] - ETA: 0s - loss: 0.4334 - accuracy: 0.8486\n",
      "Epoch 43: val_loss did not improve from 0.55083\n",
      "21/21 [==============================] - 11s 524ms/step - loss: 0.4334 - accuracy: 0.8486 - val_loss: 0.5652 - val_accuracy: 0.8142\n",
      "Epoch 44/200\n",
      "21/21 [==============================] - ETA: 0s - loss: 0.4315 - accuracy: 0.8489\n",
      "Epoch 44: val_loss did not improve from 0.55083\n",
      "21/21 [==============================] - 11s 516ms/step - loss: 0.4315 - accuracy: 0.8489 - val_loss: 0.6006 - val_accuracy: 0.8110\n",
      "Epoch 45/200\n",
      "21/21 [==============================] - ETA: 0s - loss: 0.4297 - accuracy: 0.8490\n",
      "Epoch 45: val_loss did not improve from 0.55083\n",
      "21/21 [==============================] - 11s 528ms/step - loss: 0.4297 - accuracy: 0.8490 - val_loss: 0.5904 - val_accuracy: 0.8131\n",
      "Epoch 46/200\n",
      "21/21 [==============================] - ETA: 0s - loss: 0.4280 - accuracy: 0.8492\n",
      "Epoch 46: val_loss did not improve from 0.55083\n",
      "21/21 [==============================] - 11s 525ms/step - loss: 0.4280 - accuracy: 0.8492 - val_loss: 0.5731 - val_accuracy: 0.8144\n",
      "Epoch 47/200\n",
      "21/21 [==============================] - ETA: 0s - loss: 0.4265 - accuracy: 0.8493\n",
      "Epoch 47: val_loss did not improve from 0.55083\n",
      "21/21 [==============================] - 12s 579ms/step - loss: 0.4265 - accuracy: 0.8493 - val_loss: 0.5766 - val_accuracy: 0.8150\n",
      "Epoch 48/200\n",
      "21/21 [==============================] - ETA: 0s - loss: 0.4250 - accuracy: 0.8493\n",
      "Epoch 48: val_loss did not improve from 0.55083\n",
      "21/21 [==============================] - 13s 606ms/step - loss: 0.4250 - accuracy: 0.8493 - val_loss: 0.5668 - val_accuracy: 0.8145\n",
      "Epoch 49/200\n",
      "21/21 [==============================] - ETA: 0s - loss: 0.4238 - accuracy: 0.8493\n",
      "Epoch 49: val_loss did not improve from 0.55083\n",
      "21/21 [==============================] - 11s 532ms/step - loss: 0.4238 - accuracy: 0.8493 - val_loss: 0.6033 - val_accuracy: 0.8149\n",
      "Epoch 50/200\n",
      "21/21 [==============================] - ETA: 0s - loss: 0.4224 - accuracy: 0.8493\n",
      "Epoch 50: val_loss did not improve from 0.55083\n",
      "21/21 [==============================] - 11s 520ms/step - loss: 0.4224 - accuracy: 0.8493 - val_loss: 0.5882 - val_accuracy: 0.8146\n",
      "Epoch 51/200\n",
      "21/21 [==============================] - ETA: 0s - loss: 0.4213 - accuracy: 0.8492\n",
      "Epoch 51: val_loss did not improve from 0.55083\n",
      "21/21 [==============================] - 11s 507ms/step - loss: 0.4213 - accuracy: 0.8492 - val_loss: 0.5811 - val_accuracy: 0.8151\n",
      "Epoch 52/200\n",
      "21/21 [==============================] - ETA: 0s - loss: 0.4202 - accuracy: 0.8492\n",
      "Epoch 52: val_loss did not improve from 0.55083\n",
      "21/21 [==============================] - 11s 521ms/step - loss: 0.4202 - accuracy: 0.8492 - val_loss: 0.6106 - val_accuracy: 0.8142\n",
      "Epoch 53/200\n",
      "21/21 [==============================] - ETA: 0s - loss: 0.4190 - accuracy: 0.8492\n",
      "Epoch 53: val_loss did not improve from 0.55083\n",
      "21/21 [==============================] - 11s 524ms/step - loss: 0.4190 - accuracy: 0.8492 - val_loss: 0.5718 - val_accuracy: 0.8127\n",
      "Epoch 54/200\n",
      "21/21 [==============================] - ETA: 0s - loss: 0.4179 - accuracy: 0.8493\n",
      "Epoch 54: val_loss did not improve from 0.55083\n",
      "21/21 [==============================] - 11s 515ms/step - loss: 0.4179 - accuracy: 0.8493 - val_loss: 0.5737 - val_accuracy: 0.8141\n",
      "Epoch 55/200\n",
      "21/21 [==============================] - ETA: 0s - loss: 0.4169 - accuracy: 0.8492\n",
      "Epoch 55: val_loss did not improve from 0.55083\n",
      "21/21 [==============================] - 11s 517ms/step - loss: 0.4169 - accuracy: 0.8492 - val_loss: 0.5962 - val_accuracy: 0.8144\n",
      "Epoch 56/200\n",
      "21/21 [==============================] - ETA: 0s - loss: 0.4158 - accuracy: 0.8493\n",
      "Epoch 56: val_loss did not improve from 0.55083\n",
      "21/21 [==============================] - 11s 529ms/step - loss: 0.4158 - accuracy: 0.8493 - val_loss: 0.5564 - val_accuracy: 0.8137\n",
      "Epoch 57/200\n",
      "21/21 [==============================] - ETA: 0s - loss: 0.4160 - accuracy: 0.8485\n",
      "Epoch 57: val_loss did not improve from 0.55083\n",
      "21/21 [==============================] - 11s 526ms/step - loss: 0.4160 - accuracy: 0.8485 - val_loss: 0.5726 - val_accuracy: 0.8131\n",
      "Epoch 58/200\n",
      "21/21 [==============================] - ETA: 0s - loss: 0.4148 - accuracy: 0.8488\n",
      "Epoch 58: val_loss did not improve from 0.55083\n",
      "21/21 [==============================] - 12s 555ms/step - loss: 0.4148 - accuracy: 0.8488 - val_loss: 0.5684 - val_accuracy: 0.8095\n",
      "Epoch 59/200\n",
      "21/21 [==============================] - ETA: 0s - loss: 0.4146 - accuracy: 0.8483\n",
      "Epoch 59: val_loss did not improve from 0.55083\n",
      "21/21 [==============================] - 12s 585ms/step - loss: 0.4146 - accuracy: 0.8483 - val_loss: 0.5945 - val_accuracy: 0.8137\n",
      "Epoch 60/200\n",
      "21/21 [==============================] - ETA: 0s - loss: 0.4132 - accuracy: 0.8486\n",
      "Epoch 60: val_loss did not improve from 0.55083\n",
      "21/21 [==============================] - 11s 517ms/step - loss: 0.4132 - accuracy: 0.8486 - val_loss: 0.5716 - val_accuracy: 0.8147\n",
      "Epoch 61/200\n",
      "21/21 [==============================] - ETA: 0s - loss: 0.4123 - accuracy: 0.8487\n",
      "Epoch 61: val_loss did not improve from 0.55083\n",
      "21/21 [==============================] - 12s 560ms/step - loss: 0.4123 - accuracy: 0.8487 - val_loss: 0.5669 - val_accuracy: 0.8130\n",
      "Epoch 62/200\n",
      "21/21 [==============================] - ETA: 0s - loss: 0.4133 - accuracy: 0.8476\n",
      "Epoch 62: val_loss did not improve from 0.55083\n",
      "21/21 [==============================] - 12s 556ms/step - loss: 0.4133 - accuracy: 0.8476 - val_loss: 0.5569 - val_accuracy: 0.8067\n",
      "Epoch 63/200\n",
      "21/21 [==============================] - ETA: 0s - loss: 0.4117 - accuracy: 0.8481\n",
      "Epoch 63: val_loss did not improve from 0.55083\n",
      "21/21 [==============================] - 11s 526ms/step - loss: 0.4117 - accuracy: 0.8481 - val_loss: 0.5724 - val_accuracy: 0.8133\n",
      "Epoch 64/200\n",
      "21/21 [==============================] - ETA: 0s - loss: 0.4101 - accuracy: 0.8486\n",
      "Epoch 64: val_loss did not improve from 0.55083\n",
      "21/21 [==============================] - 11s 544ms/step - loss: 0.4101 - accuracy: 0.8486 - val_loss: 0.5509 - val_accuracy: 0.8113\n",
      "Epoch 65/200\n",
      "21/21 [==============================] - ETA: 0s - loss: 0.4097 - accuracy: 0.8485\n",
      "Epoch 65: val_loss did not improve from 0.55083\n",
      "21/21 [==============================] - 12s 592ms/step - loss: 0.4097 - accuracy: 0.8485 - val_loss: 0.5815 - val_accuracy: 0.8137\n",
      "Epoch 66/200\n",
      "21/21 [==============================] - ETA: 0s - loss: 0.4083 - accuracy: 0.8488\n",
      "Epoch 66: val_loss improved from 0.55083 to 0.54897, saving model to ./model_weights_flatten\\\n"
     ]
    },
    {
     "name": "stderr",
     "output_type": "stream",
     "text": [
      "WARNING:absl:Found untraced functions such as _jit_compiled_convolution_op, _jit_compiled_convolution_op, _jit_compiled_convolution_op, _jit_compiled_convolution_op, _jit_compiled_convolution_op while saving (showing 5 of 14). These functions will not be directly callable after loading.\n"
     ]
    },
    {
     "name": "stdout",
     "output_type": "stream",
     "text": [
      "INFO:tensorflow:Assets written to: ./model_weights_flatten\\assets\n"
     ]
    },
    {
     "name": "stderr",
     "output_type": "stream",
     "text": [
      "INFO:tensorflow:Assets written to: ./model_weights_flatten\\assets\n"
     ]
    },
    {
     "name": "stdout",
     "output_type": "stream",
     "text": [
      "21/21 [==============================] - 18s 861ms/step - loss: 0.4083 - accuracy: 0.8488 - val_loss: 0.5490 - val_accuracy: 0.8136\n",
      "Epoch 67/200\n",
      "21/21 [==============================] - ETA: 0s - loss: 0.4072 - accuracy: 0.8491\n",
      "Epoch 67: val_loss did not improve from 0.54897\n",
      "21/21 [==============================] - 13s 612ms/step - loss: 0.4072 - accuracy: 0.8491 - val_loss: 0.5577 - val_accuracy: 0.8126\n",
      "Epoch 68/200\n",
      "21/21 [==============================] - ETA: 0s - loss: 0.4062 - accuracy: 0.8493\n",
      "Epoch 68: val_loss did not improve from 0.54897\n",
      "21/21 [==============================] - 12s 573ms/step - loss: 0.4062 - accuracy: 0.8493 - val_loss: 0.5660 - val_accuracy: 0.8139\n",
      "Epoch 69/200\n",
      "21/21 [==============================] - ETA: 0s - loss: 0.4052 - accuracy: 0.8495\n",
      "Epoch 69: val_loss did not improve from 0.54897\n",
      "21/21 [==============================] - 12s 551ms/step - loss: 0.4052 - accuracy: 0.8495 - val_loss: 0.5818 - val_accuracy: 0.8144\n",
      "Epoch 70/200\n",
      "21/21 [==============================] - ETA: 0s - loss: 0.4045 - accuracy: 0.8496\n",
      "Epoch 70: val_loss did not improve from 0.54897\n",
      "21/21 [==============================] - 12s 555ms/step - loss: 0.4045 - accuracy: 0.8496 - val_loss: 0.5801 - val_accuracy: 0.8143\n",
      "Epoch 71/200\n",
      "21/21 [==============================] - ETA: 0s - loss: 0.4042 - accuracy: 0.8494\n",
      "Epoch 71: val_loss did not improve from 0.54897\n",
      "21/21 [==============================] - 12s 592ms/step - loss: 0.4042 - accuracy: 0.8494 - val_loss: 0.5946 - val_accuracy: 0.8142\n",
      "Epoch 72/200\n",
      "21/21 [==============================] - ETA: 0s - loss: 0.4037 - accuracy: 0.8495\n",
      "Epoch 72: val_loss did not improve from 0.54897\n",
      "21/21 [==============================] - 14s 645ms/step - loss: 0.4037 - accuracy: 0.8495 - val_loss: 0.5816 - val_accuracy: 0.8143\n",
      "Epoch 73/200\n",
      "21/21 [==============================] - ETA: 0s - loss: 0.4029 - accuracy: 0.8496\n",
      "Epoch 73: val_loss did not improve from 0.54897\n",
      "21/21 [==============================] - 12s 576ms/step - loss: 0.4029 - accuracy: 0.8496 - val_loss: 0.5694 - val_accuracy: 0.8138\n",
      "Epoch 74/200\n",
      "21/21 [==============================] - ETA: 0s - loss: 0.4020 - accuracy: 0.8499\n",
      "Epoch 74: val_loss did not improve from 0.54897\n",
      "21/21 [==============================] - 12s 559ms/step - loss: 0.4020 - accuracy: 0.8499 - val_loss: 0.5807 - val_accuracy: 0.8149\n",
      "Epoch 75/200\n",
      "21/21 [==============================] - ETA: 0s - loss: 0.4013 - accuracy: 0.8500\n",
      "Epoch 75: val_loss did not improve from 0.54897\n",
      "21/21 [==============================] - 11s 537ms/step - loss: 0.4013 - accuracy: 0.8500 - val_loss: 0.5933 - val_accuracy: 0.8144\n",
      "Epoch 76/200\n",
      "21/21 [==============================] - ETA: 0s - loss: 0.4006 - accuracy: 0.8501\n",
      "Epoch 76: val_loss did not improve from 0.54897\n",
      "21/21 [==============================] - 11s 544ms/step - loss: 0.4006 - accuracy: 0.8501 - val_loss: 0.5779 - val_accuracy: 0.8152\n",
      "Epoch 77/200\n",
      "21/21 [==============================] - ETA: 0s - loss: 0.4002 - accuracy: 0.8501\n",
      "Epoch 77: val_loss did not improve from 0.54897\n",
      "21/21 [==============================] - 12s 585ms/step - loss: 0.4002 - accuracy: 0.8501 - val_loss: 0.5868 - val_accuracy: 0.8158\n",
      "Epoch 78/200\n",
      "21/21 [==============================] - ETA: 0s - loss: 0.3997 - accuracy: 0.8501\n",
      "Epoch 78: val_loss did not improve from 0.54897\n",
      "21/21 [==============================] - 12s 576ms/step - loss: 0.3997 - accuracy: 0.8501 - val_loss: 0.5945 - val_accuracy: 0.8152\n",
      "Epoch 79/200\n",
      "21/21 [==============================] - ETA: 0s - loss: 0.3992 - accuracy: 0.8501\n",
      "Epoch 79: val_loss did not improve from 0.54897\n",
      "21/21 [==============================] - 11s 523ms/step - loss: 0.3992 - accuracy: 0.8501 - val_loss: 0.5702 - val_accuracy: 0.8152\n",
      "Epoch 80/200\n",
      "21/21 [==============================] - ETA: 0s - loss: 0.4024 - accuracy: 0.8482\n",
      "Epoch 80: val_loss did not improve from 0.54897\n",
      "21/21 [==============================] - 14s 676ms/step - loss: 0.4024 - accuracy: 0.8482 - val_loss: 0.9015 - val_accuracy: 0.8054\n",
      "Epoch 81/200\n",
      "21/21 [==============================] - ETA: 0s - loss: 0.4012 - accuracy: 0.8487\n",
      "Epoch 81: val_loss did not improve from 0.54897\n",
      "21/21 [==============================] - 13s 621ms/step - loss: 0.4012 - accuracy: 0.8487 - val_loss: 0.6583 - val_accuracy: 0.8118\n",
      "Epoch 82/200\n",
      "21/21 [==============================] - ETA: 0s - loss: 0.4000 - accuracy: 0.8492\n",
      "Epoch 82: val_loss did not improve from 0.54897\n",
      "21/21 [==============================] - 13s 643ms/step - loss: 0.4000 - accuracy: 0.8492 - val_loss: 0.6332 - val_accuracy: 0.8127\n",
      "Epoch 83/200\n",
      "21/21 [==============================] - ETA: 0s - loss: 0.3995 - accuracy: 0.8493\n",
      "Epoch 83: val_loss did not improve from 0.54897\n",
      "21/21 [==============================] - 14s 663ms/step - loss: 0.3995 - accuracy: 0.8493 - val_loss: 0.5689 - val_accuracy: 0.8120\n",
      "Epoch 84/200\n",
      "21/21 [==============================] - ETA: 0s - loss: 0.3986 - accuracy: 0.8495\n",
      "Epoch 84: val_loss did not improve from 0.54897\n",
      "21/21 [==============================] - 13s 607ms/step - loss: 0.3986 - accuracy: 0.8495 - val_loss: 0.5845 - val_accuracy: 0.8134\n",
      "Epoch 85/200\n",
      "21/21 [==============================] - ETA: 0s - loss: 0.3978 - accuracy: 0.8498\n",
      "Epoch 85: val_loss did not improve from 0.54897\n",
      "21/21 [==============================] - 12s 578ms/step - loss: 0.3978 - accuracy: 0.8498 - val_loss: 0.5947 - val_accuracy: 0.8150\n",
      "Epoch 86/200\n",
      "21/21 [==============================] - ETA: 0s - loss: 0.3973 - accuracy: 0.8499\n",
      "Epoch 86: val_loss did not improve from 0.54897\n",
      "21/21 [==============================] - 12s 580ms/step - loss: 0.3973 - accuracy: 0.8499 - val_loss: 0.5635 - val_accuracy: 0.8143\n",
      "Epoch 87/200\n",
      "21/21 [==============================] - ETA: 0s - loss: 0.3968 - accuracy: 0.8500\n",
      "Epoch 87: val_loss did not improve from 0.54897\n",
      "21/21 [==============================] - 13s 634ms/step - loss: 0.3968 - accuracy: 0.8500 - val_loss: 0.5533 - val_accuracy: 0.8131\n",
      "Epoch 88/200\n",
      "21/21 [==============================] - ETA: 0s - loss: 0.3968 - accuracy: 0.8500\n",
      "Epoch 88: val_loss did not improve from 0.54897\n",
      "21/21 [==============================] - 13s 611ms/step - loss: 0.3968 - accuracy: 0.8500 - val_loss: 0.5710 - val_accuracy: 0.8148\n",
      "Epoch 89/200\n",
      "21/21 [==============================] - ETA: 0s - loss: 0.3960 - accuracy: 0.8501\n",
      "Epoch 89: val_loss did not improve from 0.54897\n",
      "21/21 [==============================] - 15s 738ms/step - loss: 0.3960 - accuracy: 0.8501 - val_loss: 0.5819 - val_accuracy: 0.8153\n",
      "Epoch 90/200\n",
      "21/21 [==============================] - ETA: 0s - loss: 0.3960 - accuracy: 0.8500\n",
      "Epoch 90: val_loss did not improve from 0.54897\n",
      "21/21 [==============================] - 15s 727ms/step - loss: 0.3960 - accuracy: 0.8500 - val_loss: 0.5901 - val_accuracy: 0.8140\n",
      "Epoch 91/200\n",
      "21/21 [==============================] - ETA: 0s - loss: 0.3965 - accuracy: 0.8497\n",
      "Epoch 91: val_loss did not improve from 0.54897\n",
      "21/21 [==============================] - 13s 607ms/step - loss: 0.3965 - accuracy: 0.8497 - val_loss: 0.5970 - val_accuracy: 0.8120\n",
      "Epoch 92/200\n",
      "21/21 [==============================] - ETA: 0s - loss: 0.4017 - accuracy: 0.8465\n",
      "Epoch 92: val_loss did not improve from 0.54897\n",
      "21/21 [==============================] - 12s 585ms/step - loss: 0.4017 - accuracy: 0.8465 - val_loss: 0.6136 - val_accuracy: 0.8094\n",
      "Epoch 93/200\n",
      "21/21 [==============================] - ETA: 0s - loss: 0.3981 - accuracy: 0.8486\n",
      "Epoch 93: val_loss did not improve from 0.54897\n",
      "21/21 [==============================] - 12s 558ms/step - loss: 0.3981 - accuracy: 0.8486 - val_loss: 0.5957 - val_accuracy: 0.8126\n",
      "Epoch 94/200\n",
      "21/21 [==============================] - ETA: 0s - loss: 0.3966 - accuracy: 0.8492\n",
      "Epoch 94: val_loss did not improve from 0.54897\n",
      "21/21 [==============================] - 13s 621ms/step - loss: 0.3966 - accuracy: 0.8492 - val_loss: 0.5915 - val_accuracy: 0.8132\n"
     ]
    }
   ],
   "source": [
    "checkpoint2 = tf.keras.callbacks.ModelCheckpoint(\"./model_weights_flatten/\", monitor=\"val_loss\", mode=\"min\", save_best_only=True, \n",
    "                                                verbose=1, overwrite=True)\n",
    "earlyStop2 = EarlyStopping(monitor='loss',patience=5)\n",
    "\n",
    "model_mnist_flatten.compile(optimizer = tf.keras.optimizers.Adam(learning_rate=init_lr), loss = 'binary_crossentropy', \n",
    "                    metrics = 'accuracy')\n",
    "hist_flatten = model_mnist_flatten.fit(x = fieldMNIST_train, y = targetMNIST_train, validation_data=(fieldMNIST_val, targetMNIST_val), \n",
    "                       batch_size = 20, epochs = total_epoch, callbacks = [earlyStop2, checkpoint2])"
   ]
  },
  {
   "cell_type": "code",
   "execution_count": 22,
   "metadata": {},
   "outputs": [],
   "source": [
    "model_mnist_flatten.save('unet_flatten.h5', overwrite=True)\n",
    "\n",
    "trained_model_flatten = load_model('unet_flatten.h5')"
   ]
  },
  {
   "cell_type": "code",
   "execution_count": 25,
   "metadata": {},
   "outputs": [
    {
     "name": "stdout",
     "output_type": "stream",
     "text": [
      "4/4 [==============================] - 1s 107ms/step\n"
     ]
    }
   ],
   "source": [
    "pred2 = trained_model_flatten.predict(fieldMNIST_test)"
   ]
  },
  {
   "cell_type": "code",
   "execution_count": 28,
   "metadata": {},
   "outputs": [
    {
     "data": {
      "image/png": "[encoded data removed]",
      "text/plain": [
       "<Figure size 1728x1728 with 3 Axes>"
      ]
     },
     "metadata": {
      "needs_background": "light"
     },
     "output_type": "display_data"
    }
   ],
   "source": [
    "fig, axs = plt.subplots(1, 3, figsize=(24, 24))\n",
    "\n",
    "axs[0].matshow(fieldMNIST_test[0])\n",
    "axs[1].matshow(targetMNIST_test[0])\n",
    "axs[2].matshow(pred2[0])\n",
    "\n",
    "plt.show()"
   ]
  },
  {
   "cell_type": "code",
   "execution_count": 23,
   "metadata": {},
   "outputs": [
    {
     "name": "stdout",
     "output_type": "stream",
     "text": [
      "4/4 [==============================] - 3s 116ms/step - loss: 0.5876 - accuracy: 0.8151\n"
     ]
    },
    {
     "data": {
      "text/plain": [
       "[0.5875673890113831, 0.8150712847709656]"
      ]
     },
     "execution_count": 23,
     "metadata": {},
     "output_type": "execute_result"
    }
   ],
   "source": [
    "trained_model_flatten.evaluate(fieldMNIST_test, targetMNIST_test)"
   ]
  },
  {
   "cell_type": "code",
   "execution_count": 29,
   "metadata": {},
   "outputs": [
    {
     "data": {
      "image/png": "[encoded data removed]",
      "text/plain": [
       "<Figure size 432x288 with 1 Axes>"
      ]
     },
     "metadata": {
      "needs_background": "light"
     },
     "output_type": "display_data"
    }
   ],
   "source": [
    "loss = hist_flatten.history['loss']\n",
    "val_loss = hist_flatten.history['val_loss']\n",
    "epochs = range(1, len(loss) + 1)\n",
    "plt.plot(epochs, loss, 'y', label='Training loss')\n",
    "plt.plot(epochs, val_loss, 'r', label='Validation loss')\n",
    "plt.title('Training and validation loss')\n",
    "plt.xlabel('Epochs')\n",
    "plt.ylabel('Loss')\n",
    "plt.legend()\n",
    "plt.show()"
   ]
  },
  {
   "cell_type": "code",
   "execution_count": 30,
   "metadata": {},
   "outputs": [
    {
     "data": {
      "image/png": "[encoded data removed]",
      "text/plain": [
       "<Figure size 432x288 with 1 Axes>"
      ]
     },
     "metadata": {
      "needs_background": "light"
     },
     "output_type": "display_data"
    }
   ],
   "source": [
    "acc = hist_flatten.history['accuracy']\n",
    "val_acc = hist_flatten.history['val_accuracy']\n",
    "\n",
    "plt.plot(epochs, acc, 'y', label='Training acc')\n",
    "plt.plot(epochs, val_acc, 'r', label='Validation acc')\n",
    "plt.title('Training and validation accuracy')\n",
    "plt.xlabel('Epochs')\n",
    "plt.ylabel('Accuracy')\n",
    "plt.legend()\n",
    "plt.show()"
   ]
  },
  {
   "cell_type": "markdown",
   "metadata": {},
   "source": [
    "Parameter search for both models"
   ]
  },
  {
   "cell_type": "code",
   "execution_count": 31,
   "metadata": {},
   "outputs": [],
   "source": [
    "from sklearn.model_selection import GridSearchCV"
   ]
  },
  {
   "cell_type": "code",
   "execution_count": 39,
   "metadata": {},
   "outputs": [
    {
     "name": "stdout",
     "output_type": "stream",
     "text": [
      "Epoch 1/200\n",
      "41/41 [==============================] - ETA: 0s - loss: 0.7590 - accuracy: 0.4844\n",
      "Epoch 1: val_loss improved from inf to 0.70357, saving model to ./model_weights2\\\n"
     ]
    },
    {
     "name": "stderr",
     "output_type": "stream",
     "text": [
      "WARNING:absl:Found untraced functions such as _jit_compiled_convolution_op, _jit_compiled_convolution_op, _jit_compiled_convolution_op, _jit_compiled_convolution_op, _jit_compiled_convolution_op while saving (showing 5 of 14). These functions will not be directly callable after loading.\n"
     ]
    },
    {
     "name": "stdout",
     "output_type": "stream",
     "text": [
      "INFO:tensorflow:Assets written to: ./model_weights2\\assets\n"
     ]
    },
    {
     "name": "stderr",
     "output_type": "stream",
     "text": [
      "INFO:tensorflow:Assets written to: ./model_weights2\\assets\n"
     ]
    },
    {
     "name": "stdout",
     "output_type": "stream",
     "text": [
      "41/41 [==============================] - 19s 386ms/step - loss: 0.7590 - accuracy: 0.4844 - val_loss: 0.7036 - val_accuracy: 0.3593\n",
      "Epoch 2/200\n",
      "41/41 [==============================] - ETA: 0s - loss: 0.7400 - accuracy: 0.5088\n",
      "Epoch 2: val_loss improved from 0.70357 to 0.70310, saving model to ./model_weights2\\\n"
     ]
    },
    {
     "name": "stderr",
     "output_type": "stream",
     "text": [
      "WARNING:absl:Found untraced functions such as _jit_compiled_convolution_op, _jit_compiled_convolution_op, _jit_compiled_convolution_op, _jit_compiled_convolution_op, _jit_compiled_convolution_op while saving (showing 5 of 14). These functions will not be directly callable after loading.\n"
     ]
    },
    {
     "name": "stdout",
     "output_type": "stream",
     "text": [
      "INFO:tensorflow:Assets written to: ./model_weights2\\assets\n"
     ]
    },
    {
     "name": "stderr",
     "output_type": "stream",
     "text": [
      "INFO:tensorflow:Assets written to: ./model_weights2\\assets\n"
     ]
    },
    {
     "name": "stdout",
     "output_type": "stream",
     "text": [
      "41/41 [==============================] - 16s 385ms/step - loss: 0.7400 - accuracy: 0.5088 - val_loss: 0.7031 - val_accuracy: 0.4292\n",
      "Epoch 3/200\n",
      "41/41 [==============================] - ETA: 0s - loss: 0.7236 - accuracy: 0.5341\n",
      "Epoch 3: val_loss improved from 0.70310 to 0.69536, saving model to ./model_weights2\\\n"
     ]
    },
    {
     "name": "stderr",
     "output_type": "stream",
     "text": [
      "WARNING:absl:Found untraced functions such as _jit_compiled_convolution_op, _jit_compiled_convolution_op, _jit_compiled_convolution_op, _jit_compiled_convolution_op, _jit_compiled_convolution_op while saving (showing 5 of 14). These functions will not be directly callable after loading.\n"
     ]
    },
    {
     "name": "stdout",
     "output_type": "stream",
     "text": [
      "INFO:tensorflow:Assets written to: ./model_weights2\\assets\n"
     ]
    },
    {
     "name": "stderr",
     "output_type": "stream",
     "text": [
      "INFO:tensorflow:Assets written to: ./model_weights2\\assets\n"
     ]
    },
    {
     "name": "stdout",
     "output_type": "stream",
     "text": [
      "41/41 [==============================] - 18s 436ms/step - loss: 0.7236 - accuracy: 0.5341 - val_loss: 0.6954 - val_accuracy: 0.4824\n",
      "Epoch 4/200\n",
      "41/41 [==============================] - ETA: 0s - loss: 0.7087 - accuracy: 0.5574\n",
      "Epoch 4: val_loss improved from 0.69536 to 0.68422, saving model to ./model_weights2\\\n"
     ]
    },
    {
     "name": "stderr",
     "output_type": "stream",
     "text": [
      "WARNING:absl:Found untraced functions such as _jit_compiled_convolution_op, _jit_compiled_convolution_op, _jit_compiled_convolution_op, _jit_compiled_convolution_op, _jit_compiled_convolution_op while saving (showing 5 of 14). These functions will not be directly callable after loading.\n"
     ]
    },
    {
     "name": "stdout",
     "output_type": "stream",
     "text": [
      "INFO:tensorflow:Assets written to: ./model_weights2\\assets\n"
     ]
    },
    {
     "name": "stderr",
     "output_type": "stream",
     "text": [
      "INFO:tensorflow:Assets written to: ./model_weights2\\assets\n"
     ]
    },
    {
     "name": "stdout",
     "output_type": "stream",
     "text": [
      "41/41 [==============================] - 20s 492ms/step - loss: 0.7087 - accuracy: 0.5574 - val_loss: 0.6842 - val_accuracy: 0.5385\n",
      "Epoch 5/200\n",
      "41/41 [==============================] - ETA: 0s - loss: 0.6952 - accuracy: 0.5795\n",
      "Epoch 5: val_loss improved from 0.68422 to 0.67186, saving model to ./model_weights2\\\n"
     ]
    },
    {
     "name": "stderr",
     "output_type": "stream",
     "text": [
      "WARNING:absl:Found untraced functions such as _jit_compiled_convolution_op, _jit_compiled_convolution_op, _jit_compiled_convolution_op, _jit_compiled_convolution_op, _jit_compiled_convolution_op while saving (showing 5 of 14). These functions will not be directly callable after loading.\n"
     ]
    },
    {
     "name": "stdout",
     "output_type": "stream",
     "text": [
      "INFO:tensorflow:Assets written to: ./model_weights2\\assets\n"
     ]
    },
    {
     "name": "stderr",
     "output_type": "stream",
     "text": [
      "INFO:tensorflow:Assets written to: ./model_weights2\\assets\n"
     ]
    },
    {
     "name": "stdout",
     "output_type": "stream",
     "text": [
      "41/41 [==============================] - 17s 424ms/step - loss: 0.6952 - accuracy: 0.5795 - val_loss: 0.6719 - val_accuracy: 0.6041\n",
      "Epoch 6/200\n",
      "41/41 [==============================] - ETA: 0s - loss: 0.6829 - accuracy: 0.5988\n",
      "Epoch 6: val_loss improved from 0.67186 to 0.66045, saving model to ./model_weights2\\\n"
     ]
    },
    {
     "name": "stderr",
     "output_type": "stream",
     "text": [
      "WARNING:absl:Found untraced functions such as _jit_compiled_convolution_op, _jit_compiled_convolution_op, _jit_compiled_convolution_op, _jit_compiled_convolution_op, _jit_compiled_convolution_op while saving (showing 5 of 14). These functions will not be directly callable after loading.\n"
     ]
    },
    {
     "name": "stdout",
     "output_type": "stream",
     "text": [
      "INFO:tensorflow:Assets written to: ./model_weights2\\assets\n"
     ]
    },
    {
     "name": "stderr",
     "output_type": "stream",
     "text": [
      "INFO:tensorflow:Assets written to: ./model_weights2\\assets\n"
     ]
    },
    {
     "name": "stdout",
     "output_type": "stream",
     "text": [
      "41/41 [==============================] - 19s 475ms/step - loss: 0.6829 - accuracy: 0.5988 - val_loss: 0.6604 - val_accuracy: 0.6406\n",
      "Epoch 7/200\n",
      "41/41 [==============================] - ETA: 0s - loss: 0.6717 - accuracy: 0.6146\n",
      "Epoch 7: val_loss improved from 0.66045 to 0.65139, saving model to ./model_weights2\\\n"
     ]
    },
    {
     "name": "stderr",
     "output_type": "stream",
     "text": [
      "WARNING:absl:Found untraced functions such as _jit_compiled_convolution_op, _jit_compiled_convolution_op, _jit_compiled_convolution_op, _jit_compiled_convolution_op, _jit_compiled_convolution_op while saving (showing 5 of 14). These functions will not be directly callable after loading.\n"
     ]
    },
    {
     "name": "stdout",
     "output_type": "stream",
     "text": [
      "INFO:tensorflow:Assets written to: ./model_weights2\\assets\n"
     ]
    },
    {
     "name": "stderr",
     "output_type": "stream",
     "text": [
      "INFO:tensorflow:Assets written to: ./model_weights2\\assets\n"
     ]
    },
    {
     "name": "stdout",
     "output_type": "stream",
     "text": [
      "41/41 [==============================] - 17s 408ms/step - loss: 0.6717 - accuracy: 0.6146 - val_loss: 0.6514 - val_accuracy: 0.6611\n",
      "Epoch 8/200\n",
      "41/41 [==============================] - ETA: 0s - loss: 0.6615 - accuracy: 0.6290\n",
      "Epoch 8: val_loss improved from 0.65139 to 0.64417, saving model to ./model_weights2\\\n"
     ]
    },
    {
     "name": "stderr",
     "output_type": "stream",
     "text": [
      "WARNING:absl:Found untraced functions such as _jit_compiled_convolution_op, _jit_compiled_convolution_op, _jit_compiled_convolution_op, _jit_compiled_convolution_op, _jit_compiled_convolution_op while saving (showing 5 of 14). These functions will not be directly callable after loading.\n"
     ]
    },
    {
     "name": "stdout",
     "output_type": "stream",
     "text": [
      "INFO:tensorflow:Assets written to: ./model_weights2\\assets\n"
     ]
    },
    {
     "name": "stderr",
     "output_type": "stream",
     "text": [
      "INFO:tensorflow:Assets written to: ./model_weights2\\assets\n"
     ]
    },
    {
     "name": "stdout",
     "output_type": "stream",
     "text": [
      "41/41 [==============================] - 17s 414ms/step - loss: 0.6615 - accuracy: 0.6290 - val_loss: 0.6442 - val_accuracy: 0.6717\n",
      "Epoch 9/200\n",
      "41/41 [==============================] - ETA: 0s - loss: 0.6517 - accuracy: 0.6402\n",
      "Epoch 9: val_loss improved from 0.64417 to 0.63939, saving model to ./model_weights2\\\n"
     ]
    },
    {
     "name": "stderr",
     "output_type": "stream",
     "text": [
      "WARNING:absl:Found untraced functions such as _jit_compiled_convolution_op, _jit_compiled_convolution_op, _jit_compiled_convolution_op, _jit_compiled_convolution_op, _jit_compiled_convolution_op while saving (showing 5 of 14). These functions will not be directly callable after loading.\n"
     ]
    },
    {
     "name": "stdout",
     "output_type": "stream",
     "text": [
      "INFO:tensorflow:Assets written to: ./model_weights2\\assets\n"
     ]
    },
    {
     "name": "stderr",
     "output_type": "stream",
     "text": [
      "INFO:tensorflow:Assets written to: ./model_weights2\\assets\n"
     ]
    },
    {
     "name": "stdout",
     "output_type": "stream",
     "text": [
      "41/41 [==============================] - 21s 504ms/step - loss: 0.6517 - accuracy: 0.6402 - val_loss: 0.6394 - val_accuracy: 0.6748\n",
      "Epoch 10/200\n",
      "41/41 [==============================] - ETA: 0s - loss: 0.6437 - accuracy: 0.6504\n",
      "Epoch 10: val_loss improved from 0.63939 to 0.63686, saving model to ./model_weights2\\\n"
     ]
    },
    {
     "name": "stderr",
     "output_type": "stream",
     "text": [
      "WARNING:absl:Found untraced functions such as _jit_compiled_convolution_op, _jit_compiled_convolution_op, _jit_compiled_convolution_op, _jit_compiled_convolution_op, _jit_compiled_convolution_op while saving (showing 5 of 14). These functions will not be directly callable after loading.\n"
     ]
    },
    {
     "name": "stdout",
     "output_type": "stream",
     "text": [
      "INFO:tensorflow:Assets written to: ./model_weights2\\assets\n"
     ]
    },
    {
     "name": "stderr",
     "output_type": "stream",
     "text": [
      "INFO:tensorflow:Assets written to: ./model_weights2\\assets\n"
     ]
    },
    {
     "name": "stdout",
     "output_type": "stream",
     "text": [
      "41/41 [==============================] - 20s 489ms/step - loss: 0.6437 - accuracy: 0.6504 - val_loss: 0.6369 - val_accuracy: 0.6756\n",
      "Epoch 11/200\n",
      "41/41 [==============================] - ETA: 0s - loss: 0.6363 - accuracy: 0.6602\n",
      "Epoch 11: val_loss improved from 0.63686 to 0.63540, saving model to ./model_weights2\\\n"
     ]
    },
    {
     "name": "stderr",
     "output_type": "stream",
     "text": [
      "WARNING:absl:Found untraced functions such as _jit_compiled_convolution_op, _jit_compiled_convolution_op, _jit_compiled_convolution_op, _jit_compiled_convolution_op, _jit_compiled_convolution_op while saving (showing 5 of 14). These functions will not be directly callable after loading.\n"
     ]
    },
    {
     "name": "stdout",
     "output_type": "stream",
     "text": [
      "INFO:tensorflow:Assets written to: ./model_weights2\\assets\n"
     ]
    },
    {
     "name": "stderr",
     "output_type": "stream",
     "text": [
      "INFO:tensorflow:Assets written to: ./model_weights2\\assets\n"
     ]
    },
    {
     "name": "stdout",
     "output_type": "stream",
     "text": [
      "41/41 [==============================] - 24s 597ms/step - loss: 0.6363 - accuracy: 0.6602 - val_loss: 0.6354 - val_accuracy: 0.6758\n",
      "Epoch 12/200\n",
      "41/41 [==============================] - ETA: 0s - loss: 0.6285 - accuracy: 0.6685\n",
      "Epoch 12: val_loss improved from 0.63540 to 0.63321, saving model to ./model_weights2\\\n"
     ]
    },
    {
     "name": "stderr",
     "output_type": "stream",
     "text": [
      "WARNING:absl:Found untraced functions such as _jit_compiled_convolution_op, _jit_compiled_convolution_op, _jit_compiled_convolution_op, _jit_compiled_convolution_op, _jit_compiled_convolution_op while saving (showing 5 of 14). These functions will not be directly callable after loading.\n"
     ]
    },
    {
     "name": "stdout",
     "output_type": "stream",
     "text": [
      "INFO:tensorflow:Assets written to: ./model_weights2\\assets\n"
     ]
    },
    {
     "name": "stderr",
     "output_type": "stream",
     "text": [
      "INFO:tensorflow:Assets written to: ./model_weights2\\assets\n"
     ]
    },
    {
     "name": "stdout",
     "output_type": "stream",
     "text": [
      "41/41 [==============================] - 23s 554ms/step - loss: 0.6285 - accuracy: 0.6685 - val_loss: 0.6332 - val_accuracy: 0.6758\n",
      "Epoch 13/200\n",
      "41/41 [==============================] - ETA: 0s - loss: 0.6213 - accuracy: 0.6769\n",
      "Epoch 13: val_loss improved from 0.63321 to 0.62790, saving model to ./model_weights2\\\n"
     ]
    },
    {
     "name": "stderr",
     "output_type": "stream",
     "text": [
      "WARNING:absl:Found untraced functions such as _jit_compiled_convolution_op, _jit_compiled_convolution_op, _jit_compiled_convolution_op, _jit_compiled_convolution_op, _jit_compiled_convolution_op while saving (showing 5 of 14). These functions will not be directly callable after loading.\n"
     ]
    },
    {
     "name": "stdout",
     "output_type": "stream",
     "text": [
      "INFO:tensorflow:Assets written to: ./model_weights2\\assets\n"
     ]
    },
    {
     "name": "stderr",
     "output_type": "stream",
     "text": [
      "INFO:tensorflow:Assets written to: ./model_weights2\\assets\n"
     ]
    },
    {
     "name": "stdout",
     "output_type": "stream",
     "text": [
      "41/41 [==============================] - 17s 428ms/step - loss: 0.6213 - accuracy: 0.6769 - val_loss: 0.6279 - val_accuracy: 0.6768\n",
      "Epoch 14/200\n",
      "41/41 [==============================] - ETA: 0s - loss: 0.6147 - accuracy: 0.6829\n",
      "Epoch 14: val_loss improved from 0.62790 to 0.61822, saving model to ./model_weights2\\\n"
     ]
    },
    {
     "name": "stderr",
     "output_type": "stream",
     "text": [
      "WARNING:absl:Found untraced functions such as _jit_compiled_convolution_op, _jit_compiled_convolution_op, _jit_compiled_convolution_op, _jit_compiled_convolution_op, _jit_compiled_convolution_op while saving (showing 5 of 14). These functions will not be directly callable after loading.\n"
     ]
    },
    {
     "name": "stdout",
     "output_type": "stream",
     "text": [
      "INFO:tensorflow:Assets written to: ./model_weights2\\assets\n"
     ]
    },
    {
     "name": "stderr",
     "output_type": "stream",
     "text": [
      "INFO:tensorflow:Assets written to: ./model_weights2\\assets\n"
     ]
    },
    {
     "name": "stdout",
     "output_type": "stream",
     "text": [
      "41/41 [==============================] - 18s 431ms/step - loss: 0.6147 - accuracy: 0.6829 - val_loss: 0.6182 - val_accuracy: 0.6802\n",
      "Epoch 15/200\n",
      "41/41 [==============================] - ETA: 0s - loss: 0.6099 - accuracy: 0.6888\n",
      "Epoch 15: val_loss improved from 0.61822 to 0.60531, saving model to ./model_weights2\\\n"
     ]
    },
    {
     "name": "stderr",
     "output_type": "stream",
     "text": [
      "WARNING:absl:Found untraced functions such as _jit_compiled_convolution_op, _jit_compiled_convolution_op, _jit_compiled_convolution_op, _jit_compiled_convolution_op, _jit_compiled_convolution_op while saving (showing 5 of 14). These functions will not be directly callable after loading.\n"
     ]
    },
    {
     "name": "stdout",
     "output_type": "stream",
     "text": [
      "INFO:tensorflow:Assets written to: ./model_weights2\\assets\n"
     ]
    },
    {
     "name": "stderr",
     "output_type": "stream",
     "text": [
      "INFO:tensorflow:Assets written to: ./model_weights2\\assets\n"
     ]
    },
    {
     "name": "stdout",
     "output_type": "stream",
     "text": [
      "41/41 [==============================] - 19s 463ms/step - loss: 0.6099 - accuracy: 0.6888 - val_loss: 0.6053 - val_accuracy: 0.6856\n",
      "Epoch 16/200\n",
      "41/41 [==============================] - ETA: 0s - loss: 0.6028 - accuracy: 0.6951\n",
      "Epoch 16: val_loss improved from 0.60531 to 0.59301, saving model to ./model_weights2\\\n"
     ]
    },
    {
     "name": "stderr",
     "output_type": "stream",
     "text": [
      "WARNING:absl:Found untraced functions such as _jit_compiled_convolution_op, _jit_compiled_convolution_op, _jit_compiled_convolution_op, _jit_compiled_convolution_op, _jit_compiled_convolution_op while saving (showing 5 of 14). These functions will not be directly callable after loading.\n"
     ]
    },
    {
     "name": "stdout",
     "output_type": "stream",
     "text": [
      "INFO:tensorflow:Assets written to: ./model_weights2\\assets\n"
     ]
    },
    {
     "name": "stderr",
     "output_type": "stream",
     "text": [
      "INFO:tensorflow:Assets written to: ./model_weights2\\assets\n"
     ]
    },
    {
     "name": "stdout",
     "output_type": "stream",
     "text": [
      "41/41 [==============================] - 23s 571ms/step - loss: 0.6028 - accuracy: 0.6951 - val_loss: 0.5930 - val_accuracy: 0.6926\n",
      "Epoch 17/200\n",
      "41/41 [==============================] - ETA: 0s - loss: 0.5958 - accuracy: 0.7017\n",
      "Epoch 17: val_loss improved from 0.59301 to 0.58347, saving model to ./model_weights2\\\n"
     ]
    },
    {
     "name": "stderr",
     "output_type": "stream",
     "text": [
      "WARNING:absl:Found untraced functions such as _jit_compiled_convolution_op, _jit_compiled_convolution_op, _jit_compiled_convolution_op, _jit_compiled_convolution_op, _jit_compiled_convolution_op while saving (showing 5 of 14). These functions will not be directly callable after loading.\n"
     ]
    },
    {
     "name": "stdout",
     "output_type": "stream",
     "text": [
      "INFO:tensorflow:Assets written to: ./model_weights2\\assets\n"
     ]
    },
    {
     "name": "stderr",
     "output_type": "stream",
     "text": [
      "INFO:tensorflow:Assets written to: ./model_weights2\\assets\n"
     ]
    },
    {
     "name": "stdout",
     "output_type": "stream",
     "text": [
      "41/41 [==============================] - 24s 584ms/step - loss: 0.5958 - accuracy: 0.7017 - val_loss: 0.5835 - val_accuracy: 0.7019\n",
      "Epoch 18/200\n",
      "41/41 [==============================] - ETA: 0s - loss: 0.5908 - accuracy: 0.7062\n",
      "Epoch 18: val_loss improved from 0.58347 to 0.57709, saving model to ./model_weights2\\\n"
     ]
    },
    {
     "name": "stderr",
     "output_type": "stream",
     "text": [
      "WARNING:absl:Found untraced functions such as _jit_compiled_convolution_op, _jit_compiled_convolution_op, _jit_compiled_convolution_op, _jit_compiled_convolution_op, _jit_compiled_convolution_op while saving (showing 5 of 14). These functions will not be directly callable after loading.\n"
     ]
    },
    {
     "name": "stdout",
     "output_type": "stream",
     "text": [
      "INFO:tensorflow:Assets written to: ./model_weights2\\assets\n"
     ]
    },
    {
     "name": "stderr",
     "output_type": "stream",
     "text": [
      "INFO:tensorflow:Assets written to: ./model_weights2\\assets\n"
     ]
    },
    {
     "name": "stdout",
     "output_type": "stream",
     "text": [
      "41/41 [==============================] - 22s 533ms/step - loss: 0.5908 - accuracy: 0.7062 - val_loss: 0.5771 - val_accuracy: 0.7075\n",
      "Epoch 19/200\n",
      "41/41 [==============================] - ETA: 0s - loss: 0.5852 - accuracy: 0.7120\n",
      "Epoch 19: val_loss improved from 0.57709 to 0.57330, saving model to ./model_weights2\\\n"
     ]
    },
    {
     "name": "stderr",
     "output_type": "stream",
     "text": [
      "WARNING:absl:Found untraced functions such as _jit_compiled_convolution_op, _jit_compiled_convolution_op, _jit_compiled_convolution_op, _jit_compiled_convolution_op, _jit_compiled_convolution_op while saving (showing 5 of 14). These functions will not be directly callable after loading.\n"
     ]
    },
    {
     "name": "stdout",
     "output_type": "stream",
     "text": [
      "INFO:tensorflow:Assets written to: ./model_weights2\\assets\n"
     ]
    },
    {
     "name": "stderr",
     "output_type": "stream",
     "text": [
      "INFO:tensorflow:Assets written to: ./model_weights2\\assets\n"
     ]
    },
    {
     "name": "stdout",
     "output_type": "stream",
     "text": [
      "41/41 [==============================] - 22s 530ms/step - loss: 0.5852 - accuracy: 0.7120 - val_loss: 0.5733 - val_accuracy: 0.7131\n",
      "Epoch 20/200\n",
      "41/41 [==============================] - ETA: 0s - loss: 0.5804 - accuracy: 0.7150\n",
      "Epoch 20: val_loss improved from 0.57330 to 0.57131, saving model to ./model_weights2\\\n"
     ]
    },
    {
     "name": "stderr",
     "output_type": "stream",
     "text": [
      "WARNING:absl:Found untraced functions such as _jit_compiled_convolution_op, _jit_compiled_convolution_op, _jit_compiled_convolution_op, _jit_compiled_convolution_op, _jit_compiled_convolution_op while saving (showing 5 of 14). These functions will not be directly callable after loading.\n"
     ]
    },
    {
     "name": "stdout",
     "output_type": "stream",
     "text": [
      "INFO:tensorflow:Assets written to: ./model_weights2\\assets\n"
     ]
    },
    {
     "name": "stderr",
     "output_type": "stream",
     "text": [
      "INFO:tensorflow:Assets written to: ./model_weights2\\assets\n"
     ]
    },
    {
     "name": "stdout",
     "output_type": "stream",
     "text": [
      "41/41 [==============================] - 28s 688ms/step - loss: 0.5804 - accuracy: 0.7150 - val_loss: 0.5713 - val_accuracy: 0.7173\n",
      "Epoch 21/200\n",
      "41/41 [==============================] - ETA: 0s - loss: 0.5745 - accuracy: 0.7204\n",
      "Epoch 21: val_loss improved from 0.57131 to 0.56981, saving model to ./model_weights2\\\n"
     ]
    },
    {
     "name": "stderr",
     "output_type": "stream",
     "text": [
      "WARNING:absl:Found untraced functions such as _jit_compiled_convolution_op, _jit_compiled_convolution_op, _jit_compiled_convolution_op, _jit_compiled_convolution_op, _jit_compiled_convolution_op while saving (showing 5 of 14). These functions will not be directly callable after loading.\n"
     ]
    },
    {
     "name": "stdout",
     "output_type": "stream",
     "text": [
      "INFO:tensorflow:Assets written to: ./model_weights2\\assets\n"
     ]
    },
    {
     "name": "stderr",
     "output_type": "stream",
     "text": [
      "INFO:tensorflow:Assets written to: ./model_weights2\\assets\n"
     ]
    },
    {
     "name": "stdout",
     "output_type": "stream",
     "text": [
      "41/41 [==============================] - 36s 885ms/step - loss: 0.5745 - accuracy: 0.7204 - val_loss: 0.5698 - val_accuracy: 0.7200\n",
      "Epoch 22/200\n",
      "41/41 [==============================] - ETA: 0s - loss: 0.5698 - accuracy: 0.7242\n",
      "Epoch 22: val_loss improved from 0.56981 to 0.56848, saving model to ./model_weights2\\\n"
     ]
    },
    {
     "name": "stderr",
     "output_type": "stream",
     "text": [
      "WARNING:absl:Found untraced functions such as _jit_compiled_convolution_op, _jit_compiled_convolution_op, _jit_compiled_convolution_op, _jit_compiled_convolution_op, _jit_compiled_convolution_op while saving (showing 5 of 14). These functions will not be directly callable after loading.\n"
     ]
    },
    {
     "name": "stdout",
     "output_type": "stream",
     "text": [
      "INFO:tensorflow:Assets written to: ./model_weights2\\assets\n"
     ]
    },
    {
     "name": "stderr",
     "output_type": "stream",
     "text": [
      "INFO:tensorflow:Assets written to: ./model_weights2\\assets\n"
     ]
    },
    {
     "name": "stdout",
     "output_type": "stream",
     "text": [
      "41/41 [==============================] - 29s 721ms/step - loss: 0.5698 - accuracy: 0.7242 - val_loss: 0.5685 - val_accuracy: 0.7219\n",
      "Epoch 23/200\n",
      "41/41 [==============================] - ETA: 0s - loss: 0.5653 - accuracy: 0.7276\n",
      "Epoch 23: val_loss improved from 0.56848 to 0.56617, saving model to ./model_weights2\\\n"
     ]
    },
    {
     "name": "stderr",
     "output_type": "stream",
     "text": [
      "WARNING:absl:Found untraced functions such as _jit_compiled_convolution_op, _jit_compiled_convolution_op, _jit_compiled_convolution_op, _jit_compiled_convolution_op, _jit_compiled_convolution_op while saving (showing 5 of 14). These functions will not be directly callable after loading.\n"
     ]
    },
    {
     "name": "stdout",
     "output_type": "stream",
     "text": [
      "INFO:tensorflow:Assets written to: ./model_weights2\\assets\n"
     ]
    },
    {
     "name": "stderr",
     "output_type": "stream",
     "text": [
      "INFO:tensorflow:Assets written to: ./model_weights2\\assets\n"
     ]
    },
    {
     "name": "stdout",
     "output_type": "stream",
     "text": [
      "41/41 [==============================] - 20s 489ms/step - loss: 0.5653 - accuracy: 0.7276 - val_loss: 0.5662 - val_accuracy: 0.7242\n",
      "Epoch 24/200\n",
      "41/41 [==============================] - ETA: 0s - loss: 0.5614 - accuracy: 0.7315\n",
      "Epoch 24: val_loss improved from 0.56617 to 0.56357, saving model to ./model_weights2\\\n"
     ]
    },
    {
     "name": "stderr",
     "output_type": "stream",
     "text": [
      "WARNING:absl:Found untraced functions such as _jit_compiled_convolution_op, _jit_compiled_convolution_op, _jit_compiled_convolution_op, _jit_compiled_convolution_op, _jit_compiled_convolution_op while saving (showing 5 of 14). These functions will not be directly callable after loading.\n"
     ]
    },
    {
     "name": "stdout",
     "output_type": "stream",
     "text": [
      "INFO:tensorflow:Assets written to: ./model_weights2\\assets\n"
     ]
    },
    {
     "name": "stderr",
     "output_type": "stream",
     "text": [
      "INFO:tensorflow:Assets written to: ./model_weights2\\assets\n"
     ]
    },
    {
     "name": "stdout",
     "output_type": "stream",
     "text": [
      "41/41 [==============================] - 22s 537ms/step - loss: 0.5614 - accuracy: 0.7315 - val_loss: 0.5636 - val_accuracy: 0.7270\n",
      "Epoch 25/200\n",
      "41/41 [==============================] - ETA: 0s - loss: 0.5559 - accuracy: 0.7345\n",
      "Epoch 25: val_loss improved from 0.56357 to 0.56092, saving model to ./model_weights2\\\n"
     ]
    },
    {
     "name": "stderr",
     "output_type": "stream",
     "text": [
      "WARNING:absl:Found untraced functions such as _jit_compiled_convolution_op, _jit_compiled_convolution_op, _jit_compiled_convolution_op, _jit_compiled_convolution_op, _jit_compiled_convolution_op while saving (showing 5 of 14). These functions will not be directly callable after loading.\n"
     ]
    },
    {
     "name": "stdout",
     "output_type": "stream",
     "text": [
      "INFO:tensorflow:Assets written to: ./model_weights2\\assets\n"
     ]
    },
    {
     "name": "stderr",
     "output_type": "stream",
     "text": [
      "INFO:tensorflow:Assets written to: ./model_weights2\\assets\n"
     ]
    },
    {
     "name": "stdout",
     "output_type": "stream",
     "text": [
      "41/41 [==============================] - 19s 460ms/step - loss: 0.5559 - accuracy: 0.7345 - val_loss: 0.5609 - val_accuracy: 0.7287\n",
      "Epoch 26/200\n",
      "41/41 [==============================] - ETA: 0s - loss: 0.5519 - accuracy: 0.7375\n",
      "Epoch 26: val_loss improved from 0.56092 to 0.55698, saving model to ./model_weights2\\\n"
     ]
    },
    {
     "name": "stderr",
     "output_type": "stream",
     "text": [
      "WARNING:absl:Found untraced functions such as _jit_compiled_convolution_op, _jit_compiled_convolution_op, _jit_compiled_convolution_op, _jit_compiled_convolution_op, _jit_compiled_convolution_op while saving (showing 5 of 14). These functions will not be directly callable after loading.\n"
     ]
    },
    {
     "name": "stdout",
     "output_type": "stream",
     "text": [
      "INFO:tensorflow:Assets written to: ./model_weights2\\assets\n"
     ]
    },
    {
     "name": "stderr",
     "output_type": "stream",
     "text": [
      "INFO:tensorflow:Assets written to: ./model_weights2\\assets\n"
     ]
    },
    {
     "name": "stdout",
     "output_type": "stream",
     "text": [
      "41/41 [==============================] - 25s 606ms/step - loss: 0.5519 - accuracy: 0.7375 - val_loss: 0.5570 - val_accuracy: 0.7313\n",
      "Epoch 27/200\n",
      "41/41 [==============================] - ETA: 0s - loss: 0.5473 - accuracy: 0.7417\n",
      "Epoch 27: val_loss improved from 0.55698 to 0.55434, saving model to ./model_weights2\\\n"
     ]
    },
    {
     "name": "stderr",
     "output_type": "stream",
     "text": [
      "WARNING:absl:Found untraced functions such as _jit_compiled_convolution_op, _jit_compiled_convolution_op, _jit_compiled_convolution_op, _jit_compiled_convolution_op, _jit_compiled_convolution_op while saving (showing 5 of 14). These functions will not be directly callable after loading.\n"
     ]
    },
    {
     "name": "stdout",
     "output_type": "stream",
     "text": [
      "INFO:tensorflow:Assets written to: ./model_weights2\\assets\n"
     ]
    },
    {
     "name": "stderr",
     "output_type": "stream",
     "text": [
      "INFO:tensorflow:Assets written to: ./model_weights2\\assets\n"
     ]
    },
    {
     "name": "stdout",
     "output_type": "stream",
     "text": [
      "41/41 [==============================] - 19s 459ms/step - loss: 0.5473 - accuracy: 0.7417 - val_loss: 0.5543 - val_accuracy: 0.7333\n",
      "Epoch 28/200\n",
      "41/41 [==============================] - ETA: 0s - loss: 0.5437 - accuracy: 0.7436\n",
      "Epoch 28: val_loss improved from 0.55434 to 0.55082, saving model to ./model_weights2\\\n"
     ]
    },
    {
     "name": "stderr",
     "output_type": "stream",
     "text": [
      "WARNING:absl:Found untraced functions such as _jit_compiled_convolution_op, _jit_compiled_convolution_op, _jit_compiled_convolution_op, _jit_compiled_convolution_op, _jit_compiled_convolution_op while saving (showing 5 of 14). These functions will not be directly callable after loading.\n"
     ]
    },
    {
     "name": "stdout",
     "output_type": "stream",
     "text": [
      "INFO:tensorflow:Assets written to: ./model_weights2\\assets\n"
     ]
    },
    {
     "name": "stderr",
     "output_type": "stream",
     "text": [
      "INFO:tensorflow:Assets written to: ./model_weights2\\assets\n"
     ]
    },
    {
     "name": "stdout",
     "output_type": "stream",
     "text": [
      "41/41 [==============================] - 18s 453ms/step - loss: 0.5437 - accuracy: 0.7436 - val_loss: 0.5508 - val_accuracy: 0.7359\n",
      "Epoch 29/200\n",
      "41/41 [==============================] - ETA: 0s - loss: 0.5408 - accuracy: 0.7458\n",
      "Epoch 29: val_loss improved from 0.55082 to 0.54672, saving model to ./model_weights2\\\n"
     ]
    },
    {
     "name": "stderr",
     "output_type": "stream",
     "text": [
      "WARNING:absl:Found untraced functions such as _jit_compiled_convolution_op, _jit_compiled_convolution_op, _jit_compiled_convolution_op, _jit_compiled_convolution_op, _jit_compiled_convolution_op while saving (showing 5 of 14). These functions will not be directly callable after loading.\n"
     ]
    },
    {
     "name": "stdout",
     "output_type": "stream",
     "text": [
      "INFO:tensorflow:Assets written to: ./model_weights2\\assets\n"
     ]
    },
    {
     "name": "stderr",
     "output_type": "stream",
     "text": [
      "INFO:tensorflow:Assets written to: ./model_weights2\\assets\n"
     ]
    },
    {
     "name": "stdout",
     "output_type": "stream",
     "text": [
      "41/41 [==============================] - 18s 441ms/step - loss: 0.5408 - accuracy: 0.7458 - val_loss: 0.5467 - val_accuracy: 0.7390\n",
      "Epoch 30/200\n",
      "41/41 [==============================] - ETA: 0s - loss: 0.5355 - accuracy: 0.7494\n",
      "Epoch 30: val_loss improved from 0.54672 to 0.54365, saving model to ./model_weights2\\\n"
     ]
    },
    {
     "name": "stderr",
     "output_type": "stream",
     "text": [
      "WARNING:absl:Found untraced functions such as _jit_compiled_convolution_op, _jit_compiled_convolution_op, _jit_compiled_convolution_op, _jit_compiled_convolution_op, _jit_compiled_convolution_op while saving (showing 5 of 14). These functions will not be directly callable after loading.\n"
     ]
    },
    {
     "name": "stdout",
     "output_type": "stream",
     "text": [
      "INFO:tensorflow:Assets written to: ./model_weights2\\assets\n"
     ]
    },
    {
     "name": "stderr",
     "output_type": "stream",
     "text": [
      "INFO:tensorflow:Assets written to: ./model_weights2\\assets\n"
     ]
    },
    {
     "name": "stdout",
     "output_type": "stream",
     "text": [
      "41/41 [==============================] - 20s 493ms/step - loss: 0.5355 - accuracy: 0.7494 - val_loss: 0.5436 - val_accuracy: 0.7410\n",
      "Epoch 31/200\n",
      "41/41 [==============================] - ETA: 0s - loss: 0.5337 - accuracy: 0.7509\n",
      "Epoch 31: val_loss improved from 0.54365 to 0.53922, saving model to ./model_weights2\\\n"
     ]
    },
    {
     "name": "stderr",
     "output_type": "stream",
     "text": [
      "WARNING:absl:Found untraced functions such as _jit_compiled_convolution_op, _jit_compiled_convolution_op, _jit_compiled_convolution_op, _jit_compiled_convolution_op, _jit_compiled_convolution_op while saving (showing 5 of 14). These functions will not be directly callable after loading.\n"
     ]
    },
    {
     "name": "stdout",
     "output_type": "stream",
     "text": [
      "INFO:tensorflow:Assets written to: ./model_weights2\\assets\n"
     ]
    },
    {
     "name": "stderr",
     "output_type": "stream",
     "text": [
      "INFO:tensorflow:Assets written to: ./model_weights2\\assets\n"
     ]
    },
    {
     "name": "stdout",
     "output_type": "stream",
     "text": [
      "41/41 [==============================] - 29s 708ms/step - loss: 0.5337 - accuracy: 0.7509 - val_loss: 0.5392 - val_accuracy: 0.7436\n",
      "Epoch 32/200\n",
      "41/41 [==============================] - ETA: 0s - loss: 0.5283 - accuracy: 0.7547\n",
      "Epoch 32: val_loss improved from 0.53922 to 0.53650, saving model to ./model_weights2\\\n"
     ]
    },
    {
     "name": "stderr",
     "output_type": "stream",
     "text": [
      "WARNING:absl:Found untraced functions such as _jit_compiled_convolution_op, _jit_compiled_convolution_op, _jit_compiled_convolution_op, _jit_compiled_convolution_op, _jit_compiled_convolution_op while saving (showing 5 of 14). These functions will not be directly callable after loading.\n"
     ]
    },
    {
     "name": "stdout",
     "output_type": "stream",
     "text": [
      "INFO:tensorflow:Assets written to: ./model_weights2\\assets\n"
     ]
    },
    {
     "name": "stderr",
     "output_type": "stream",
     "text": [
      "INFO:tensorflow:Assets written to: ./model_weights2\\assets\n"
     ]
    },
    {
     "name": "stdout",
     "output_type": "stream",
     "text": [
      "41/41 [==============================] - 26s 643ms/step - loss: 0.5283 - accuracy: 0.7547 - val_loss: 0.5365 - val_accuracy: 0.7453\n",
      "Epoch 33/200\n",
      "41/41 [==============================] - ETA: 0s - loss: 0.5261 - accuracy: 0.7558\n",
      "Epoch 33: val_loss improved from 0.53650 to 0.53236, saving model to ./model_weights2\\\n"
     ]
    },
    {
     "name": "stderr",
     "output_type": "stream",
     "text": [
      "WARNING:absl:Found untraced functions such as _jit_compiled_convolution_op, _jit_compiled_convolution_op, _jit_compiled_convolution_op, _jit_compiled_convolution_op, _jit_compiled_convolution_op while saving (showing 5 of 14). These functions will not be directly callable after loading.\n"
     ]
    },
    {
     "name": "stdout",
     "output_type": "stream",
     "text": [
      "INFO:tensorflow:Assets written to: ./model_weights2\\assets\n"
     ]
    },
    {
     "name": "stderr",
     "output_type": "stream",
     "text": [
      "INFO:tensorflow:Assets written to: ./model_weights2\\assets\n"
     ]
    },
    {
     "name": "stdout",
     "output_type": "stream",
     "text": [
      "41/41 [==============================] - 24s 596ms/step - loss: 0.5261 - accuracy: 0.7558 - val_loss: 0.5324 - val_accuracy: 0.7482\n",
      "Epoch 34/200\n",
      "41/41 [==============================] - ETA: 0s - loss: 0.5223 - accuracy: 0.7583\n",
      "Epoch 34: val_loss improved from 0.53236 to 0.52958, saving model to ./model_weights2\\\n"
     ]
    },
    {
     "name": "stderr",
     "output_type": "stream",
     "text": [
      "WARNING:absl:Found untraced functions such as _jit_compiled_convolution_op, _jit_compiled_convolution_op, _jit_compiled_convolution_op, _jit_compiled_convolution_op, _jit_compiled_convolution_op while saving (showing 5 of 14). These functions will not be directly callable after loading.\n"
     ]
    },
    {
     "name": "stdout",
     "output_type": "stream",
     "text": [
      "INFO:tensorflow:Assets written to: ./model_weights2\\assets\n"
     ]
    },
    {
     "name": "stderr",
     "output_type": "stream",
     "text": [
      "INFO:tensorflow:Assets written to: ./model_weights2\\assets\n"
     ]
    },
    {
     "name": "stdout",
     "output_type": "stream",
     "text": [
      "41/41 [==============================] - 24s 589ms/step - loss: 0.5223 - accuracy: 0.7583 - val_loss: 0.5296 - val_accuracy: 0.7497\n",
      "Epoch 35/200\n",
      "41/41 [==============================] - ETA: 0s - loss: 0.5188 - accuracy: 0.7597\n",
      "Epoch 35: val_loss improved from 0.52958 to 0.52702, saving model to ./model_weights2\\\n"
     ]
    },
    {
     "name": "stderr",
     "output_type": "stream",
     "text": [
      "WARNING:absl:Found untraced functions such as _jit_compiled_convolution_op, _jit_compiled_convolution_op, _jit_compiled_convolution_op, _jit_compiled_convolution_op, _jit_compiled_convolution_op while saving (showing 5 of 14). These functions will not be directly callable after loading.\n"
     ]
    },
    {
     "name": "stdout",
     "output_type": "stream",
     "text": [
      "INFO:tensorflow:Assets written to: ./model_weights2\\assets\n"
     ]
    },
    {
     "name": "stderr",
     "output_type": "stream",
     "text": [
      "INFO:tensorflow:Assets written to: ./model_weights2\\assets\n"
     ]
    },
    {
     "name": "stdout",
     "output_type": "stream",
     "text": [
      "41/41 [==============================] - 24s 586ms/step - loss: 0.5188 - accuracy: 0.7597 - val_loss: 0.5270 - val_accuracy: 0.7507\n",
      "Epoch 36/200\n",
      "41/41 [==============================] - ETA: 0s - loss: 0.5166 - accuracy: 0.7614\n",
      "Epoch 36: val_loss improved from 0.52702 to 0.52393, saving model to ./model_weights2\\\n"
     ]
    },
    {
     "name": "stderr",
     "output_type": "stream",
     "text": [
      "WARNING:absl:Found untraced functions such as _jit_compiled_convolution_op, _jit_compiled_convolution_op, _jit_compiled_convolution_op, _jit_compiled_convolution_op, _jit_compiled_convolution_op while saving (showing 5 of 14). These functions will not be directly callable after loading.\n"
     ]
    },
    {
     "name": "stdout",
     "output_type": "stream",
     "text": [
      "INFO:tensorflow:Assets written to: ./model_weights2\\assets\n"
     ]
    },
    {
     "name": "stderr",
     "output_type": "stream",
     "text": [
      "INFO:tensorflow:Assets written to: ./model_weights2\\assets\n"
     ]
    },
    {
     "name": "stdout",
     "output_type": "stream",
     "text": [
      "41/41 [==============================] - 26s 625ms/step - loss: 0.5166 - accuracy: 0.7614 - val_loss: 0.5239 - val_accuracy: 0.7529\n",
      "Epoch 37/200\n",
      "41/41 [==============================] - ETA: 0s - loss: 0.5133 - accuracy: 0.7633\n",
      "Epoch 37: val_loss improved from 0.52393 to 0.52088, saving model to ./model_weights2\\\n"
     ]
    },
    {
     "name": "stderr",
     "output_type": "stream",
     "text": [
      "WARNING:absl:Found untraced functions such as _jit_compiled_convolution_op, _jit_compiled_convolution_op, _jit_compiled_convolution_op, _jit_compiled_convolution_op, _jit_compiled_convolution_op while saving (showing 5 of 14). These functions will not be directly callable after loading.\n"
     ]
    },
    {
     "name": "stdout",
     "output_type": "stream",
     "text": [
      "INFO:tensorflow:Assets written to: ./model_weights2\\assets\n"
     ]
    },
    {
     "name": "stderr",
     "output_type": "stream",
     "text": [
      "INFO:tensorflow:Assets written to: ./model_weights2\\assets\n"
     ]
    },
    {
     "name": "stdout",
     "output_type": "stream",
     "text": [
      "41/41 [==============================] - 24s 601ms/step - loss: 0.5133 - accuracy: 0.7633 - val_loss: 0.5209 - val_accuracy: 0.7547\n",
      "Epoch 38/200\n",
      "41/41 [==============================] - ETA: 0s - loss: 0.5106 - accuracy: 0.7642\n",
      "Epoch 38: val_loss improved from 0.52088 to 0.51793, saving model to ./model_weights2\\\n"
     ]
    },
    {
     "name": "stderr",
     "output_type": "stream",
     "text": [
      "WARNING:absl:Found untraced functions such as _jit_compiled_convolution_op, _jit_compiled_convolution_op, _jit_compiled_convolution_op, _jit_compiled_convolution_op, _jit_compiled_convolution_op while saving (showing 5 of 14). These functions will not be directly callable after loading.\n"
     ]
    },
    {
     "name": "stdout",
     "output_type": "stream",
     "text": [
      "INFO:tensorflow:Assets written to: ./model_weights2\\assets\n"
     ]
    },
    {
     "name": "stderr",
     "output_type": "stream",
     "text": [
      "INFO:tensorflow:Assets written to: ./model_weights2\\assets\n"
     ]
    },
    {
     "name": "stdout",
     "output_type": "stream",
     "text": [
      "41/41 [==============================] - 32s 777ms/step - loss: 0.5106 - accuracy: 0.7642 - val_loss: 0.5179 - val_accuracy: 0.7567\n",
      "Epoch 39/200\n",
      "41/41 [==============================] - ETA: 0s - loss: 0.5075 - accuracy: 0.7666\n",
      "Epoch 39: val_loss improved from 0.51793 to 0.51469, saving model to ./model_weights2\\\n"
     ]
    },
    {
     "name": "stderr",
     "output_type": "stream",
     "text": [
      "WARNING:absl:Found untraced functions such as _jit_compiled_convolution_op, _jit_compiled_convolution_op, _jit_compiled_convolution_op, _jit_compiled_convolution_op, _jit_compiled_convolution_op while saving (showing 5 of 14). These functions will not be directly callable after loading.\n"
     ]
    },
    {
     "name": "stdout",
     "output_type": "stream",
     "text": [
      "INFO:tensorflow:Assets written to: ./model_weights2\\assets\n"
     ]
    },
    {
     "name": "stderr",
     "output_type": "stream",
     "text": [
      "INFO:tensorflow:Assets written to: ./model_weights2\\assets\n"
     ]
    },
    {
     "name": "stdout",
     "output_type": "stream",
     "text": [
      "41/41 [==============================] - 32s 776ms/step - loss: 0.5075 - accuracy: 0.7666 - val_loss: 0.5147 - val_accuracy: 0.7586\n",
      "Epoch 40/200\n",
      "41/41 [==============================] - ETA: 0s - loss: 0.5041 - accuracy: 0.7690\n",
      "Epoch 40: val_loss improved from 0.51469 to 0.51282, saving model to ./model_weights2\\\n"
     ]
    },
    {
     "name": "stderr",
     "output_type": "stream",
     "text": [
      "WARNING:absl:Found untraced functions such as _jit_compiled_convolution_op, _jit_compiled_convolution_op, _jit_compiled_convolution_op, _jit_compiled_convolution_op, _jit_compiled_convolution_op while saving (showing 5 of 14). These functions will not be directly callable after loading.\n"
     ]
    },
    {
     "name": "stdout",
     "output_type": "stream",
     "text": [
      "INFO:tensorflow:Assets written to: ./model_weights2\\assets\n"
     ]
    },
    {
     "name": "stderr",
     "output_type": "stream",
     "text": [
      "INFO:tensorflow:Assets written to: ./model_weights2\\assets\n"
     ]
    },
    {
     "name": "stdout",
     "output_type": "stream",
     "text": [
      "41/41 [==============================] - 34s 836ms/step - loss: 0.5041 - accuracy: 0.7690 - val_loss: 0.5128 - val_accuracy: 0.7594\n",
      "Epoch 41/200\n",
      "41/41 [==============================] - ETA: 0s - loss: 0.5010 - accuracy: 0.7700\n",
      "Epoch 41: val_loss improved from 0.51282 to 0.51054, saving model to ./model_weights2\\\n"
     ]
    },
    {
     "name": "stderr",
     "output_type": "stream",
     "text": [
      "WARNING:absl:Found untraced functions such as _jit_compiled_convolution_op, _jit_compiled_convolution_op, _jit_compiled_convolution_op, _jit_compiled_convolution_op, _jit_compiled_convolution_op while saving (showing 5 of 14). These functions will not be directly callable after loading.\n"
     ]
    },
    {
     "name": "stdout",
     "output_type": "stream",
     "text": [
      "INFO:tensorflow:Assets written to: ./model_weights2\\assets\n"
     ]
    },
    {
     "name": "stderr",
     "output_type": "stream",
     "text": [
      "INFO:tensorflow:Assets written to: ./model_weights2\\assets\n"
     ]
    },
    {
     "name": "stdout",
     "output_type": "stream",
     "text": [
      "41/41 [==============================] - 25s 625ms/step - loss: 0.5010 - accuracy: 0.7700 - val_loss: 0.5105 - val_accuracy: 0.7611\n",
      "Epoch 42/200\n",
      "41/41 [==============================] - ETA: 0s - loss: 0.4986 - accuracy: 0.7716\n",
      "Epoch 42: val_loss improved from 0.51054 to 0.50794, saving model to ./model_weights2\\\n"
     ]
    },
    {
     "name": "stderr",
     "output_type": "stream",
     "text": [
      "WARNING:absl:Found untraced functions such as _jit_compiled_convolution_op, _jit_compiled_convolution_op, _jit_compiled_convolution_op, _jit_compiled_convolution_op, _jit_compiled_convolution_op while saving (showing 5 of 14). These functions will not be directly callable after loading.\n"
     ]
    },
    {
     "name": "stdout",
     "output_type": "stream",
     "text": [
      "INFO:tensorflow:Assets written to: ./model_weights2\\assets\n"
     ]
    },
    {
     "name": "stderr",
     "output_type": "stream",
     "text": [
      "INFO:tensorflow:Assets written to: ./model_weights2\\assets\n"
     ]
    },
    {
     "name": "stdout",
     "output_type": "stream",
     "text": [
      "41/41 [==============================] - 26s 629ms/step - loss: 0.4986 - accuracy: 0.7716 - val_loss: 0.5079 - val_accuracy: 0.7630\n",
      "Epoch 43/200\n",
      "41/41 [==============================] - ETA: 0s - loss: 0.4966 - accuracy: 0.7734\n",
      "Epoch 43: val_loss improved from 0.50794 to 0.50511, saving model to ./model_weights2\\\n"
     ]
    },
    {
     "name": "stderr",
     "output_type": "stream",
     "text": [
      "WARNING:absl:Found untraced functions such as _jit_compiled_convolution_op, _jit_compiled_convolution_op, _jit_compiled_convolution_op, _jit_compiled_convolution_op, _jit_compiled_convolution_op while saving (showing 5 of 14). These functions will not be directly callable after loading.\n"
     ]
    },
    {
     "name": "stdout",
     "output_type": "stream",
     "text": [
      "INFO:tensorflow:Assets written to: ./model_weights2\\assets\n"
     ]
    },
    {
     "name": "stderr",
     "output_type": "stream",
     "text": [
      "INFO:tensorflow:Assets written to: ./model_weights2\\assets\n"
     ]
    },
    {
     "name": "stdout",
     "output_type": "stream",
     "text": [
      "41/41 [==============================] - 26s 642ms/step - loss: 0.4966 - accuracy: 0.7734 - val_loss: 0.5051 - val_accuracy: 0.7650\n",
      "Epoch 44/200\n",
      "41/41 [==============================] - ETA: 0s - loss: 0.4941 - accuracy: 0.7737\n",
      "Epoch 44: val_loss improved from 0.50511 to 0.50209, saving model to ./model_weights2\\\n"
     ]
    },
    {
     "name": "stderr",
     "output_type": "stream",
     "text": [
      "WARNING:absl:Found untraced functions such as _jit_compiled_convolution_op, _jit_compiled_convolution_op, _jit_compiled_convolution_op, _jit_compiled_convolution_op, _jit_compiled_convolution_op while saving (showing 5 of 14). These functions will not be directly callable after loading.\n"
     ]
    },
    {
     "name": "stdout",
     "output_type": "stream",
     "text": [
      "INFO:tensorflow:Assets written to: ./model_weights2\\assets\n"
     ]
    },
    {
     "name": "stderr",
     "output_type": "stream",
     "text": [
      "INFO:tensorflow:Assets written to: ./model_weights2\\assets\n"
     ]
    },
    {
     "name": "stdout",
     "output_type": "stream",
     "text": [
      "41/41 [==============================] - 27s 676ms/step - loss: 0.4941 - accuracy: 0.7737 - val_loss: 0.5021 - val_accuracy: 0.7670\n",
      "Epoch 45/200\n",
      "41/41 [==============================] - ETA: 0s - loss: 0.4899 - accuracy: 0.7773\n",
      "Epoch 45: val_loss improved from 0.50209 to 0.50004, saving model to ./model_weights2\\\n"
     ]
    },
    {
     "name": "stderr",
     "output_type": "stream",
     "text": [
      "WARNING:absl:Found untraced functions such as _jit_compiled_convolution_op, _jit_compiled_convolution_op, _jit_compiled_convolution_op, _jit_compiled_convolution_op, _jit_compiled_convolution_op while saving (showing 5 of 14). These functions will not be directly callable after loading.\n"
     ]
    },
    {
     "name": "stdout",
     "output_type": "stream",
     "text": [
      "INFO:tensorflow:Assets written to: ./model_weights2\\assets\n"
     ]
    },
    {
     "name": "stderr",
     "output_type": "stream",
     "text": [
      "INFO:tensorflow:Assets written to: ./model_weights2\\assets\n"
     ]
    },
    {
     "name": "stdout",
     "output_type": "stream",
     "text": [
      "41/41 [==============================] - 35s 862ms/step - loss: 0.4899 - accuracy: 0.7773 - val_loss: 0.5000 - val_accuracy: 0.7681\n",
      "Epoch 46/200\n",
      "41/41 [==============================] - ETA: 0s - loss: 0.4866 - accuracy: 0.7786\n",
      "Epoch 46: val_loss improved from 0.50004 to 0.49796, saving model to ./model_weights2\\\n"
     ]
    },
    {
     "name": "stderr",
     "output_type": "stream",
     "text": [
      "WARNING:absl:Found untraced functions such as _jit_compiled_convolution_op, _jit_compiled_convolution_op, _jit_compiled_convolution_op, _jit_compiled_convolution_op, _jit_compiled_convolution_op while saving (showing 5 of 14). These functions will not be directly callable after loading.\n"
     ]
    },
    {
     "name": "stdout",
     "output_type": "stream",
     "text": [
      "INFO:tensorflow:Assets written to: ./model_weights2\\assets\n"
     ]
    },
    {
     "name": "stderr",
     "output_type": "stream",
     "text": [
      "INFO:tensorflow:Assets written to: ./model_weights2\\assets\n"
     ]
    },
    {
     "name": "stdout",
     "output_type": "stream",
     "text": [
      "41/41 [==============================] - 37s 911ms/step - loss: 0.4866 - accuracy: 0.7786 - val_loss: 0.4980 - val_accuracy: 0.7692\n",
      "Epoch 47/200\n",
      "41/41 [==============================] - ETA: 0s - loss: 0.4845 - accuracy: 0.7807\n",
      "Epoch 47: val_loss improved from 0.49796 to 0.49566, saving model to ./model_weights2\\\n"
     ]
    },
    {
     "name": "stderr",
     "output_type": "stream",
     "text": [
      "WARNING:absl:Found untraced functions such as _jit_compiled_convolution_op, _jit_compiled_convolution_op, _jit_compiled_convolution_op, _jit_compiled_convolution_op, _jit_compiled_convolution_op while saving (showing 5 of 14). These functions will not be directly callable after loading.\n"
     ]
    },
    {
     "name": "stdout",
     "output_type": "stream",
     "text": [
      "INFO:tensorflow:Assets written to: ./model_weights2\\assets\n"
     ]
    },
    {
     "name": "stderr",
     "output_type": "stream",
     "text": [
      "INFO:tensorflow:Assets written to: ./model_weights2\\assets\n"
     ]
    },
    {
     "name": "stdout",
     "output_type": "stream",
     "text": [
      "41/41 [==============================] - 33s 819ms/step - loss: 0.4845 - accuracy: 0.7807 - val_loss: 0.4957 - val_accuracy: 0.7702\n",
      "Epoch 48/200\n",
      "41/41 [==============================] - ETA: 0s - loss: 0.4830 - accuracy: 0.7812\n",
      "Epoch 48: val_loss improved from 0.49566 to 0.49276, saving model to ./model_weights2\\\n"
     ]
    },
    {
     "name": "stderr",
     "output_type": "stream",
     "text": [
      "WARNING:absl:Found untraced functions such as _jit_compiled_convolution_op, _jit_compiled_convolution_op, _jit_compiled_convolution_op, _jit_compiled_convolution_op, _jit_compiled_convolution_op while saving (showing 5 of 14). These functions will not be directly callable after loading.\n"
     ]
    },
    {
     "name": "stdout",
     "output_type": "stream",
     "text": [
      "INFO:tensorflow:Assets written to: ./model_weights2\\assets\n"
     ]
    },
    {
     "name": "stderr",
     "output_type": "stream",
     "text": [
      "INFO:tensorflow:Assets written to: ./model_weights2\\assets\n"
     ]
    },
    {
     "name": "stdout",
     "output_type": "stream",
     "text": [
      "41/41 [==============================] - 26s 649ms/step - loss: 0.4830 - accuracy: 0.7812 - val_loss: 0.4928 - val_accuracy: 0.7718\n",
      "Epoch 49/200\n",
      "41/41 [==============================] - ETA: 0s - loss: 0.4806 - accuracy: 0.7820\n",
      "Epoch 49: val_loss improved from 0.49276 to 0.49046, saving model to ./model_weights2\\\n"
     ]
    },
    {
     "name": "stderr",
     "output_type": "stream",
     "text": [
      "WARNING:absl:Found untraced functions such as _jit_compiled_convolution_op, _jit_compiled_convolution_op, _jit_compiled_convolution_op, _jit_compiled_convolution_op, _jit_compiled_convolution_op while saving (showing 5 of 14). These functions will not be directly callable after loading.\n"
     ]
    },
    {
     "name": "stdout",
     "output_type": "stream",
     "text": [
      "INFO:tensorflow:Assets written to: ./model_weights2\\assets\n"
     ]
    },
    {
     "name": "stderr",
     "output_type": "stream",
     "text": [
      "INFO:tensorflow:Assets written to: ./model_weights2\\assets\n"
     ]
    },
    {
     "name": "stdout",
     "output_type": "stream",
     "text": [
      "41/41 [==============================] - 27s 660ms/step - loss: 0.4806 - accuracy: 0.7820 - val_loss: 0.4905 - val_accuracy: 0.7730\n",
      "Epoch 50/200\n",
      "41/41 [==============================] - ETA: 0s - loss: 0.4771 - accuracy: 0.7842\n",
      "Epoch 50: val_loss improved from 0.49046 to 0.48808, saving model to ./model_weights2\\\n"
     ]
    },
    {
     "name": "stderr",
     "output_type": "stream",
     "text": [
      "WARNING:absl:Found untraced functions such as _jit_compiled_convolution_op, _jit_compiled_convolution_op, _jit_compiled_convolution_op, _jit_compiled_convolution_op, _jit_compiled_convolution_op while saving (showing 5 of 14). These functions will not be directly callable after loading.\n"
     ]
    },
    {
     "name": "stdout",
     "output_type": "stream",
     "text": [
      "INFO:tensorflow:Assets written to: ./model_weights2\\assets\n"
     ]
    },
    {
     "name": "stderr",
     "output_type": "stream",
     "text": [
      "INFO:tensorflow:Assets written to: ./model_weights2\\assets\n"
     ]
    },
    {
     "name": "stdout",
     "output_type": "stream",
     "text": [
      "41/41 [==============================] - 28s 690ms/step - loss: 0.4771 - accuracy: 0.7842 - val_loss: 0.4881 - val_accuracy: 0.7746\n",
      "Epoch 51/200\n",
      "41/41 [==============================] - ETA: 0s - loss: 0.4748 - accuracy: 0.7859\n",
      "Epoch 51: val_loss improved from 0.48808 to 0.48637, saving model to ./model_weights2\\\n"
     ]
    },
    {
     "name": "stderr",
     "output_type": "stream",
     "text": [
      "WARNING:absl:Found untraced functions such as _jit_compiled_convolution_op, _jit_compiled_convolution_op, _jit_compiled_convolution_op, _jit_compiled_convolution_op, _jit_compiled_convolution_op while saving (showing 5 of 14). These functions will not be directly callable after loading.\n"
     ]
    },
    {
     "name": "stdout",
     "output_type": "stream",
     "text": [
      "INFO:tensorflow:Assets written to: ./model_weights2\\assets\n"
     ]
    },
    {
     "name": "stderr",
     "output_type": "stream",
     "text": [
      "INFO:tensorflow:Assets written to: ./model_weights2\\assets\n"
     ]
    },
    {
     "name": "stdout",
     "output_type": "stream",
     "text": [
      "41/41 [==============================] - 25s 618ms/step - loss: 0.4748 - accuracy: 0.7859 - val_loss: 0.4864 - val_accuracy: 0.7758\n",
      "Epoch 52/200\n",
      "41/41 [==============================] - ETA: 0s - loss: 0.4728 - accuracy: 0.7868\n",
      "Epoch 52: val_loss improved from 0.48637 to 0.48382, saving model to ./model_weights2\\\n"
     ]
    },
    {
     "name": "stderr",
     "output_type": "stream",
     "text": [
      "WARNING:absl:Found untraced functions such as _jit_compiled_convolution_op, _jit_compiled_convolution_op, _jit_compiled_convolution_op, _jit_compiled_convolution_op, _jit_compiled_convolution_op while saving (showing 5 of 14). These functions will not be directly callable after loading.\n"
     ]
    },
    {
     "name": "stdout",
     "output_type": "stream",
     "text": [
      "INFO:tensorflow:Assets written to: ./model_weights2\\assets\n"
     ]
    },
    {
     "name": "stderr",
     "output_type": "stream",
     "text": [
      "INFO:tensorflow:Assets written to: ./model_weights2\\assets\n"
     ]
    },
    {
     "name": "stdout",
     "output_type": "stream",
     "text": [
      "41/41 [==============================] - 27s 676ms/step - loss: 0.4728 - accuracy: 0.7868 - val_loss: 0.4838 - val_accuracy: 0.7773\n",
      "Epoch 53/200\n",
      "41/41 [==============================] - ETA: 0s - loss: 0.4700 - accuracy: 0.7886\n",
      "Epoch 53: val_loss improved from 0.48382 to 0.48157, saving model to ./model_weights2\\\n"
     ]
    },
    {
     "name": "stderr",
     "output_type": "stream",
     "text": [
      "WARNING:absl:Found untraced functions such as _jit_compiled_convolution_op, _jit_compiled_convolution_op, _jit_compiled_convolution_op, _jit_compiled_convolution_op, _jit_compiled_convolution_op while saving (showing 5 of 14). These functions will not be directly callable after loading.\n"
     ]
    },
    {
     "name": "stdout",
     "output_type": "stream",
     "text": [
      "INFO:tensorflow:Assets written to: ./model_weights2\\assets\n"
     ]
    },
    {
     "name": "stderr",
     "output_type": "stream",
     "text": [
      "INFO:tensorflow:Assets written to: ./model_weights2\\assets\n"
     ]
    },
    {
     "name": "stdout",
     "output_type": "stream",
     "text": [
      "41/41 [==============================] - 26s 648ms/step - loss: 0.4700 - accuracy: 0.7886 - val_loss: 0.4816 - val_accuracy: 0.7788\n",
      "Epoch 54/200\n",
      "41/41 [==============================] - ETA: 0s - loss: 0.4678 - accuracy: 0.7898\n",
      "Epoch 54: val_loss improved from 0.48157 to 0.48012, saving model to ./model_weights2\\\n"
     ]
    },
    {
     "name": "stderr",
     "output_type": "stream",
     "text": [
      "WARNING:absl:Found untraced functions such as _jit_compiled_convolution_op, _jit_compiled_convolution_op, _jit_compiled_convolution_op, _jit_compiled_convolution_op, _jit_compiled_convolution_op while saving (showing 5 of 14). These functions will not be directly callable after loading.\n"
     ]
    },
    {
     "name": "stdout",
     "output_type": "stream",
     "text": [
      "INFO:tensorflow:Assets written to: ./model_weights2\\assets\n"
     ]
    },
    {
     "name": "stderr",
     "output_type": "stream",
     "text": [
      "INFO:tensorflow:Assets written to: ./model_weights2\\assets\n"
     ]
    },
    {
     "name": "stdout",
     "output_type": "stream",
     "text": [
      "41/41 [==============================] - 33s 810ms/step - loss: 0.4678 - accuracy: 0.7898 - val_loss: 0.4801 - val_accuracy: 0.7795\n",
      "Epoch 55/200\n",
      "41/41 [==============================] - ETA: 0s - loss: 0.4652 - accuracy: 0.7912\n",
      "Epoch 55: val_loss improved from 0.48012 to 0.47744, saving model to ./model_weights2\\\n"
     ]
    },
    {
     "name": "stderr",
     "output_type": "stream",
     "text": [
      "WARNING:absl:Found untraced functions such as _jit_compiled_convolution_op, _jit_compiled_convolution_op, _jit_compiled_convolution_op, _jit_compiled_convolution_op, _jit_compiled_convolution_op while saving (showing 5 of 14). These functions will not be directly callable after loading.\n"
     ]
    },
    {
     "name": "stdout",
     "output_type": "stream",
     "text": [
      "INFO:tensorflow:Assets written to: ./model_weights2\\assets\n"
     ]
    },
    {
     "name": "stderr",
     "output_type": "stream",
     "text": [
      "INFO:tensorflow:Assets written to: ./model_weights2\\assets\n"
     ]
    },
    {
     "name": "stdout",
     "output_type": "stream",
     "text": [
      "41/41 [==============================] - 18s 433ms/step - loss: 0.4652 - accuracy: 0.7912 - val_loss: 0.4774 - val_accuracy: 0.7812\n",
      "Epoch 56/200\n",
      "41/41 [==============================] - ETA: 0s - loss: 0.4625 - accuracy: 0.7929\n",
      "Epoch 56: val_loss improved from 0.47744 to 0.47497, saving model to ./model_weights2\\\n"
     ]
    },
    {
     "name": "stderr",
     "output_type": "stream",
     "text": [
      "WARNING:absl:Found untraced functions such as _jit_compiled_convolution_op, _jit_compiled_convolution_op, _jit_compiled_convolution_op, _jit_compiled_convolution_op, _jit_compiled_convolution_op while saving (showing 5 of 14). These functions will not be directly callable after loading.\n"
     ]
    },
    {
     "name": "stdout",
     "output_type": "stream",
     "text": [
      "INFO:tensorflow:Assets written to: ./model_weights2\\assets\n"
     ]
    },
    {
     "name": "stderr",
     "output_type": "stream",
     "text": [
      "INFO:tensorflow:Assets written to: ./model_weights2\\assets\n"
     ]
    },
    {
     "name": "stdout",
     "output_type": "stream",
     "text": [
      "41/41 [==============================] - 21s 507ms/step - loss: 0.4625 - accuracy: 0.7929 - val_loss: 0.4750 - val_accuracy: 0.7823\n",
      "Epoch 57/200\n",
      "41/41 [==============================] - ETA: 0s - loss: 0.4623 - accuracy: 0.7942\n",
      "Epoch 57: val_loss improved from 0.47497 to 0.47238, saving model to ./model_weights2\\\n"
     ]
    },
    {
     "name": "stderr",
     "output_type": "stream",
     "text": [
      "WARNING:absl:Found untraced functions such as _jit_compiled_convolution_op, _jit_compiled_convolution_op, _jit_compiled_convolution_op, _jit_compiled_convolution_op, _jit_compiled_convolution_op while saving (showing 5 of 14). These functions will not be directly callable after loading.\n"
     ]
    },
    {
     "name": "stdout",
     "output_type": "stream",
     "text": [
      "INFO:tensorflow:Assets written to: ./model_weights2\\assets\n"
     ]
    },
    {
     "name": "stderr",
     "output_type": "stream",
     "text": [
      "INFO:tensorflow:Assets written to: ./model_weights2\\assets\n"
     ]
    },
    {
     "name": "stdout",
     "output_type": "stream",
     "text": [
      "41/41 [==============================] - 32s 783ms/step - loss: 0.4623 - accuracy: 0.7942 - val_loss: 0.4724 - val_accuracy: 0.7836\n",
      "Epoch 58/200\n",
      "41/41 [==============================] - ETA: 0s - loss: 0.4586 - accuracy: 0.7955\n",
      "Epoch 58: val_loss improved from 0.47238 to 0.46932, saving model to ./model_weights2\\\n"
     ]
    },
    {
     "name": "stderr",
     "output_type": "stream",
     "text": [
      "WARNING:absl:Found untraced functions such as _jit_compiled_convolution_op, _jit_compiled_convolution_op, _jit_compiled_convolution_op, _jit_compiled_convolution_op, _jit_compiled_convolution_op while saving (showing 5 of 14). These functions will not be directly callable after loading.\n"
     ]
    },
    {
     "name": "stdout",
     "output_type": "stream",
     "text": [
      "INFO:tensorflow:Assets written to: ./model_weights2\\assets\n"
     ]
    },
    {
     "name": "stderr",
     "output_type": "stream",
     "text": [
      "INFO:tensorflow:Assets written to: ./model_weights2\\assets\n"
     ]
    },
    {
     "name": "stdout",
     "output_type": "stream",
     "text": [
      "41/41 [==============================] - 43s 1s/step - loss: 0.4586 - accuracy: 0.7955 - val_loss: 0.4693 - val_accuracy: 0.7854\n",
      "Epoch 59/200\n",
      "41/41 [==============================] - ETA: 0s - loss: 0.4540 - accuracy: 0.7987\n",
      "Epoch 59: val_loss improved from 0.46932 to 0.46856, saving model to ./model_weights2\\\n"
     ]
    },
    {
     "name": "stderr",
     "output_type": "stream",
     "text": [
      "WARNING:absl:Found untraced functions such as _jit_compiled_convolution_op, _jit_compiled_convolution_op, _jit_compiled_convolution_op, _jit_compiled_convolution_op, _jit_compiled_convolution_op while saving (showing 5 of 14). These functions will not be directly callable after loading.\n"
     ]
    },
    {
     "name": "stdout",
     "output_type": "stream",
     "text": [
      "INFO:tensorflow:Assets written to: ./model_weights2\\assets\n"
     ]
    },
    {
     "name": "stderr",
     "output_type": "stream",
     "text": [
      "INFO:tensorflow:Assets written to: ./model_weights2\\assets\n"
     ]
    },
    {
     "name": "stdout",
     "output_type": "stream",
     "text": [
      "41/41 [==============================] - 42s 1s/step - loss: 0.4540 - accuracy: 0.7987 - val_loss: 0.4686 - val_accuracy: 0.7861\n",
      "Epoch 60/200\n",
      "41/41 [==============================] - ETA: 0s - loss: 0.4535 - accuracy: 0.7986\n",
      "Epoch 60: val_loss improved from 0.46856 to 0.46538, saving model to ./model_weights2\\\n"
     ]
    },
    {
     "name": "stderr",
     "output_type": "stream",
     "text": [
      "WARNING:absl:Found untraced functions such as _jit_compiled_convolution_op, _jit_compiled_convolution_op, _jit_compiled_convolution_op, _jit_compiled_convolution_op, _jit_compiled_convolution_op while saving (showing 5 of 14). These functions will not be directly callable after loading.\n"
     ]
    },
    {
     "name": "stdout",
     "output_type": "stream",
     "text": [
      "INFO:tensorflow:Assets written to: ./model_weights2\\assets\n"
     ]
    },
    {
     "name": "stderr",
     "output_type": "stream",
     "text": [
      "INFO:tensorflow:Assets written to: ./model_weights2\\assets\n"
     ]
    },
    {
     "name": "stdout",
     "output_type": "stream",
     "text": [
      "41/41 [==============================] - 28s 693ms/step - loss: 0.4535 - accuracy: 0.7986 - val_loss: 0.4654 - val_accuracy: 0.7883\n",
      "Epoch 61/200\n",
      "41/41 [==============================] - ETA: 0s - loss: 0.4501 - accuracy: 0.8010\n",
      "Epoch 61: val_loss improved from 0.46538 to 0.46374, saving model to ./model_weights2\\\n"
     ]
    },
    {
     "name": "stderr",
     "output_type": "stream",
     "text": [
      "WARNING:absl:Found untraced functions such as _jit_compiled_convolution_op, _jit_compiled_convolution_op, _jit_compiled_convolution_op, _jit_compiled_convolution_op, _jit_compiled_convolution_op while saving (showing 5 of 14). These functions will not be directly callable after loading.\n"
     ]
    },
    {
     "name": "stdout",
     "output_type": "stream",
     "text": [
      "INFO:tensorflow:Assets written to: ./model_weights2\\assets\n"
     ]
    },
    {
     "name": "stderr",
     "output_type": "stream",
     "text": [
      "INFO:tensorflow:Assets written to: ./model_weights2\\assets\n"
     ]
    },
    {
     "name": "stdout",
     "output_type": "stream",
     "text": [
      "41/41 [==============================] - 27s 661ms/step - loss: 0.4501 - accuracy: 0.8010 - val_loss: 0.4637 - val_accuracy: 0.7897\n",
      "Epoch 62/200\n",
      "41/41 [==============================] - ETA: 0s - loss: 0.4484 - accuracy: 0.8025\n",
      "Epoch 62: val_loss improved from 0.46374 to 0.46169, saving model to ./model_weights2\\\n"
     ]
    },
    {
     "name": "stderr",
     "output_type": "stream",
     "text": [
      "WARNING:absl:Found untraced functions such as _jit_compiled_convolution_op, _jit_compiled_convolution_op, _jit_compiled_convolution_op, _jit_compiled_convolution_op, _jit_compiled_convolution_op while saving (showing 5 of 14). These functions will not be directly callable after loading.\n"
     ]
    },
    {
     "name": "stdout",
     "output_type": "stream",
     "text": [
      "INFO:tensorflow:Assets written to: ./model_weights2\\assets\n"
     ]
    },
    {
     "name": "stderr",
     "output_type": "stream",
     "text": [
      "INFO:tensorflow:Assets written to: ./model_weights2\\assets\n"
     ]
    },
    {
     "name": "stdout",
     "output_type": "stream",
     "text": [
      "41/41 [==============================] - 26s 631ms/step - loss: 0.4484 - accuracy: 0.8025 - val_loss: 0.4617 - val_accuracy: 0.7907\n",
      "Epoch 63/200\n",
      "41/41 [==============================] - ETA: 0s - loss: 0.4453 - accuracy: 0.8043\n",
      "Epoch 63: val_loss improved from 0.46169 to 0.45954, saving model to ./model_weights2\\\n"
     ]
    },
    {
     "name": "stderr",
     "output_type": "stream",
     "text": [
      "WARNING:absl:Found untraced functions such as _jit_compiled_convolution_op, _jit_compiled_convolution_op, _jit_compiled_convolution_op, _jit_compiled_convolution_op, _jit_compiled_convolution_op while saving (showing 5 of 14). These functions will not be directly callable after loading.\n"
     ]
    },
    {
     "name": "stdout",
     "output_type": "stream",
     "text": [
      "INFO:tensorflow:Assets written to: ./model_weights2\\assets\n"
     ]
    },
    {
     "name": "stderr",
     "output_type": "stream",
     "text": [
      "INFO:tensorflow:Assets written to: ./model_weights2\\assets\n"
     ]
    },
    {
     "name": "stdout",
     "output_type": "stream",
     "text": [
      "41/41 [==============================] - 24s 593ms/step - loss: 0.4453 - accuracy: 0.8043 - val_loss: 0.4595 - val_accuracy: 0.7921\n",
      "Epoch 64/200\n",
      "41/41 [==============================] - ETA: 0s - loss: 0.4428 - accuracy: 0.8055\n",
      "Epoch 64: val_loss improved from 0.45954 to 0.45760, saving model to ./model_weights2\\\n"
     ]
    },
    {
     "name": "stderr",
     "output_type": "stream",
     "text": [
      "WARNING:absl:Found untraced functions such as _jit_compiled_convolution_op, _jit_compiled_convolution_op, _jit_compiled_convolution_op, _jit_compiled_convolution_op, _jit_compiled_convolution_op while saving (showing 5 of 14). These functions will not be directly callable after loading.\n"
     ]
    },
    {
     "name": "stdout",
     "output_type": "stream",
     "text": [
      "INFO:tensorflow:Assets written to: ./model_weights2\\assets\n"
     ]
    },
    {
     "name": "stderr",
     "output_type": "stream",
     "text": [
      "INFO:tensorflow:Assets written to: ./model_weights2\\assets\n"
     ]
    },
    {
     "name": "stdout",
     "output_type": "stream",
     "text": [
      "41/41 [==============================] - 25s 602ms/step - loss: 0.4428 - accuracy: 0.8055 - val_loss: 0.4576 - val_accuracy: 0.7932\n",
      "Epoch 65/200\n",
      "41/41 [==============================] - ETA: 0s - loss: 0.4396 - accuracy: 0.8082\n",
      "Epoch 65: val_loss improved from 0.45760 to 0.45582, saving model to ./model_weights2\\\n"
     ]
    },
    {
     "name": "stderr",
     "output_type": "stream",
     "text": [
      "WARNING:absl:Found untraced functions such as _jit_compiled_convolution_op, _jit_compiled_convolution_op, _jit_compiled_convolution_op, _jit_compiled_convolution_op, _jit_compiled_convolution_op while saving (showing 5 of 14). These functions will not be directly callable after loading.\n"
     ]
    },
    {
     "name": "stdout",
     "output_type": "stream",
     "text": [
      "INFO:tensorflow:Assets written to: ./model_weights2\\assets\n"
     ]
    },
    {
     "name": "stderr",
     "output_type": "stream",
     "text": [
      "INFO:tensorflow:Assets written to: ./model_weights2\\assets\n"
     ]
    },
    {
     "name": "stdout",
     "output_type": "stream",
     "text": [
      "41/41 [==============================] - 20s 484ms/step - loss: 0.4396 - accuracy: 0.8082 - val_loss: 0.4558 - val_accuracy: 0.7946\n",
      "Epoch 66/200\n",
      "41/41 [==============================] - ETA: 0s - loss: 0.4375 - accuracy: 0.8093\n",
      "Epoch 66: val_loss improved from 0.45582 to 0.45255, saving model to ./model_weights2\\\n"
     ]
    },
    {
     "name": "stderr",
     "output_type": "stream",
     "text": [
      "WARNING:absl:Found untraced functions such as _jit_compiled_convolution_op, _jit_compiled_convolution_op, _jit_compiled_convolution_op, _jit_compiled_convolution_op, _jit_compiled_convolution_op while saving (showing 5 of 14). These functions will not be directly callable after loading.\n"
     ]
    },
    {
     "name": "stdout",
     "output_type": "stream",
     "text": [
      "INFO:tensorflow:Assets written to: ./model_weights2\\assets\n"
     ]
    },
    {
     "name": "stderr",
     "output_type": "stream",
     "text": [
      "INFO:tensorflow:Assets written to: ./model_weights2\\assets\n"
     ]
    },
    {
     "name": "stdout",
     "output_type": "stream",
     "text": [
      "41/41 [==============================] - 21s 524ms/step - loss: 0.4375 - accuracy: 0.8093 - val_loss: 0.4526 - val_accuracy: 0.7964\n",
      "Epoch 67/200\n",
      "41/41 [==============================] - ETA: 0s - loss: 0.4348 - accuracy: 0.8113\n",
      "Epoch 67: val_loss improved from 0.45255 to 0.45159, saving model to ./model_weights2\\\n"
     ]
    },
    {
     "name": "stderr",
     "output_type": "stream",
     "text": [
      "WARNING:absl:Found untraced functions such as _jit_compiled_convolution_op, _jit_compiled_convolution_op, _jit_compiled_convolution_op, _jit_compiled_convolution_op, _jit_compiled_convolution_op while saving (showing 5 of 14). These functions will not be directly callable after loading.\n"
     ]
    },
    {
     "name": "stdout",
     "output_type": "stream",
     "text": [
      "INFO:tensorflow:Assets written to: ./model_weights2\\assets\n"
     ]
    },
    {
     "name": "stderr",
     "output_type": "stream",
     "text": [
      "INFO:tensorflow:Assets written to: ./model_weights2\\assets\n"
     ]
    },
    {
     "name": "stdout",
     "output_type": "stream",
     "text": [
      "41/41 [==============================] - 22s 529ms/step - loss: 0.4348 - accuracy: 0.8113 - val_loss: 0.4516 - val_accuracy: 0.7973\n",
      "Epoch 68/200\n",
      "41/41 [==============================] - ETA: 0s - loss: 0.4315 - accuracy: 0.8127\n",
      "Epoch 68: val_loss improved from 0.45159 to 0.45032, saving model to ./model_weights2\\\n"
     ]
    },
    {
     "name": "stderr",
     "output_type": "stream",
     "text": [
      "WARNING:absl:Found untraced functions such as _jit_compiled_convolution_op, _jit_compiled_convolution_op, _jit_compiled_convolution_op, _jit_compiled_convolution_op, _jit_compiled_convolution_op while saving (showing 5 of 14). These functions will not be directly callable after loading.\n"
     ]
    },
    {
     "name": "stdout",
     "output_type": "stream",
     "text": [
      "INFO:tensorflow:Assets written to: ./model_weights2\\assets\n"
     ]
    },
    {
     "name": "stderr",
     "output_type": "stream",
     "text": [
      "INFO:tensorflow:Assets written to: ./model_weights2\\assets\n"
     ]
    },
    {
     "name": "stdout",
     "output_type": "stream",
     "text": [
      "41/41 [==============================] - 25s 608ms/step - loss: 0.4315 - accuracy: 0.8127 - val_loss: 0.4503 - val_accuracy: 0.7984\n",
      "Epoch 69/200\n",
      "41/41 [==============================] - ETA: 0s - loss: 0.4295 - accuracy: 0.8147\n",
      "Epoch 69: val_loss improved from 0.45032 to 0.44607, saving model to ./model_weights2\\\n"
     ]
    },
    {
     "name": "stderr",
     "output_type": "stream",
     "text": [
      "WARNING:absl:Found untraced functions such as _jit_compiled_convolution_op, _jit_compiled_convolution_op, _jit_compiled_convolution_op, _jit_compiled_convolution_op, _jit_compiled_convolution_op while saving (showing 5 of 14). These functions will not be directly callable after loading.\n"
     ]
    },
    {
     "name": "stdout",
     "output_type": "stream",
     "text": [
      "INFO:tensorflow:Assets written to: ./model_weights2\\assets\n"
     ]
    },
    {
     "name": "stderr",
     "output_type": "stream",
     "text": [
      "INFO:tensorflow:Assets written to: ./model_weights2\\assets\n"
     ]
    },
    {
     "name": "stdout",
     "output_type": "stream",
     "text": [
      "41/41 [==============================] - 19s 462ms/step - loss: 0.4295 - accuracy: 0.8147 - val_loss: 0.4461 - val_accuracy: 0.8011\n",
      "Epoch 70/200\n",
      "41/41 [==============================] - ETA: 0s - loss: 0.4268 - accuracy: 0.8156\n",
      "Epoch 70: val_loss improved from 0.44607 to 0.44468, saving model to ./model_weights2\\\n"
     ]
    },
    {
     "name": "stderr",
     "output_type": "stream",
     "text": [
      "WARNING:absl:Found untraced functions such as _jit_compiled_convolution_op, _jit_compiled_convolution_op, _jit_compiled_convolution_op, _jit_compiled_convolution_op, _jit_compiled_convolution_op while saving (showing 5 of 14). These functions will not be directly callable after loading.\n"
     ]
    },
    {
     "name": "stdout",
     "output_type": "stream",
     "text": [
      "INFO:tensorflow:Assets written to: ./model_weights2\\assets\n"
     ]
    },
    {
     "name": "stderr",
     "output_type": "stream",
     "text": [
      "INFO:tensorflow:Assets written to: ./model_weights2\\assets\n"
     ]
    },
    {
     "name": "stdout",
     "output_type": "stream",
     "text": [
      "41/41 [==============================] - 18s 448ms/step - loss: 0.4268 - accuracy: 0.8156 - val_loss: 0.4447 - val_accuracy: 0.8022\n",
      "Epoch 71/200\n",
      "41/41 [==============================] - ETA: 0s - loss: 0.4229 - accuracy: 0.8186\n",
      "Epoch 71: val_loss improved from 0.44468 to 0.44203, saving model to ./model_weights2\\\n"
     ]
    },
    {
     "name": "stderr",
     "output_type": "stream",
     "text": [
      "WARNING:absl:Found untraced functions such as _jit_compiled_convolution_op, _jit_compiled_convolution_op, _jit_compiled_convolution_op, _jit_compiled_convolution_op, _jit_compiled_convolution_op while saving (showing 5 of 14). These functions will not be directly callable after loading.\n"
     ]
    },
    {
     "name": "stdout",
     "output_type": "stream",
     "text": [
      "INFO:tensorflow:Assets written to: ./model_weights2\\assets\n"
     ]
    },
    {
     "name": "stderr",
     "output_type": "stream",
     "text": [
      "INFO:tensorflow:Assets written to: ./model_weights2\\assets\n"
     ]
    },
    {
     "name": "stdout",
     "output_type": "stream",
     "text": [
      "41/41 [==============================] - 18s 443ms/step - loss: 0.4229 - accuracy: 0.8186 - val_loss: 0.4420 - val_accuracy: 0.8038\n",
      "Epoch 72/200\n",
      "41/41 [==============================] - ETA: 0s - loss: 0.4213 - accuracy: 0.8199\n",
      "Epoch 72: val_loss improved from 0.44203 to 0.44144, saving model to ./model_weights2\\\n"
     ]
    },
    {
     "name": "stderr",
     "output_type": "stream",
     "text": [
      "WARNING:absl:Found untraced functions such as _jit_compiled_convolution_op, _jit_compiled_convolution_op, _jit_compiled_convolution_op, _jit_compiled_convolution_op, _jit_compiled_convolution_op while saving (showing 5 of 14). These functions will not be directly callable after loading.\n"
     ]
    },
    {
     "name": "stdout",
     "output_type": "stream",
     "text": [
      "INFO:tensorflow:Assets written to: ./model_weights2\\assets\n"
     ]
    },
    {
     "name": "stderr",
     "output_type": "stream",
     "text": [
      "INFO:tensorflow:Assets written to: ./model_weights2\\assets\n"
     ]
    },
    {
     "name": "stdout",
     "output_type": "stream",
     "text": [
      "41/41 [==============================] - 19s 457ms/step - loss: 0.4213 - accuracy: 0.8199 - val_loss: 0.4414 - val_accuracy: 0.8047\n",
      "Epoch 73/200\n",
      "41/41 [==============================] - ETA: 0s - loss: 0.4178 - accuracy: 0.8218\n",
      "Epoch 73: val_loss improved from 0.44144 to 0.43801, saving model to ./model_weights2\\\n"
     ]
    },
    {
     "name": "stderr",
     "output_type": "stream",
     "text": [
      "WARNING:absl:Found untraced functions such as _jit_compiled_convolution_op, _jit_compiled_convolution_op, _jit_compiled_convolution_op, _jit_compiled_convolution_op, _jit_compiled_convolution_op while saving (showing 5 of 14). These functions will not be directly callable after loading.\n"
     ]
    },
    {
     "name": "stdout",
     "output_type": "stream",
     "text": [
      "INFO:tensorflow:Assets written to: ./model_weights2\\assets\n"
     ]
    },
    {
     "name": "stderr",
     "output_type": "stream",
     "text": [
      "INFO:tensorflow:Assets written to: ./model_weights2\\assets\n"
     ]
    },
    {
     "name": "stdout",
     "output_type": "stream",
     "text": [
      "41/41 [==============================] - 31s 762ms/step - loss: 0.4178 - accuracy: 0.8218 - val_loss: 0.4380 - val_accuracy: 0.8067\n",
      "Epoch 74/200\n",
      "41/41 [==============================] - ETA: 0s - loss: 0.4164 - accuracy: 0.8234\n",
      "Epoch 74: val_loss improved from 0.43801 to 0.43424, saving model to ./model_weights2\\\n"
     ]
    },
    {
     "name": "stderr",
     "output_type": "stream",
     "text": [
      "WARNING:absl:Found untraced functions such as _jit_compiled_convolution_op, _jit_compiled_convolution_op, _jit_compiled_convolution_op, _jit_compiled_convolution_op, _jit_compiled_convolution_op while saving (showing 5 of 14). These functions will not be directly callable after loading.\n"
     ]
    },
    {
     "name": "stdout",
     "output_type": "stream",
     "text": [
      "INFO:tensorflow:Assets written to: ./model_weights2\\assets\n"
     ]
    },
    {
     "name": "stderr",
     "output_type": "stream",
     "text": [
      "INFO:tensorflow:Assets written to: ./model_weights2\\assets\n"
     ]
    },
    {
     "name": "stdout",
     "output_type": "stream",
     "text": [
      "41/41 [==============================] - 32s 798ms/step - loss: 0.4164 - accuracy: 0.8234 - val_loss: 0.4342 - val_accuracy: 0.8093\n",
      "Epoch 75/200\n",
      "41/41 [==============================] - ETA: 0s - loss: 0.4143 - accuracy: 0.8244\n",
      "Epoch 75: val_loss improved from 0.43424 to 0.43177, saving model to ./model_weights2\\\n"
     ]
    },
    {
     "name": "stderr",
     "output_type": "stream",
     "text": [
      "WARNING:absl:Found untraced functions such as _jit_compiled_convolution_op, _jit_compiled_convolution_op, _jit_compiled_convolution_op, _jit_compiled_convolution_op, _jit_compiled_convolution_op while saving (showing 5 of 14). These functions will not be directly callable after loading.\n"
     ]
    },
    {
     "name": "stdout",
     "output_type": "stream",
     "text": [
      "INFO:tensorflow:Assets written to: ./model_weights2\\assets\n"
     ]
    },
    {
     "name": "stderr",
     "output_type": "stream",
     "text": [
      "INFO:tensorflow:Assets written to: ./model_weights2\\assets\n"
     ]
    },
    {
     "name": "stdout",
     "output_type": "stream",
     "text": [
      "41/41 [==============================] - 29s 713ms/step - loss: 0.4143 - accuracy: 0.8244 - val_loss: 0.4318 - val_accuracy: 0.8106\n",
      "Epoch 76/200\n",
      "41/41 [==============================] - ETA: 0s - loss: 0.4105 - accuracy: 0.8263\n",
      "Epoch 76: val_loss improved from 0.43177 to 0.43129, saving model to ./model_weights2\\\n"
     ]
    },
    {
     "name": "stderr",
     "output_type": "stream",
     "text": [
      "WARNING:absl:Found untraced functions such as _jit_compiled_convolution_op, _jit_compiled_convolution_op, _jit_compiled_convolution_op, _jit_compiled_convolution_op, _jit_compiled_convolution_op while saving (showing 5 of 14). These functions will not be directly callable after loading.\n"
     ]
    },
    {
     "name": "stdout",
     "output_type": "stream",
     "text": [
      "INFO:tensorflow:Assets written to: ./model_weights2\\assets\n"
     ]
    },
    {
     "name": "stderr",
     "output_type": "stream",
     "text": [
      "INFO:tensorflow:Assets written to: ./model_weights2\\assets\n"
     ]
    },
    {
     "name": "stdout",
     "output_type": "stream",
     "text": [
      "41/41 [==============================] - 32s 798ms/step - loss: 0.4105 - accuracy: 0.8263 - val_loss: 0.4313 - val_accuracy: 0.8113\n",
      "Epoch 77/200\n",
      "41/41 [==============================] - ETA: 0s - loss: 0.4066 - accuracy: 0.8292\n",
      "Epoch 77: val_loss improved from 0.43129 to 0.43118, saving model to ./model_weights2\\\n"
     ]
    },
    {
     "name": "stderr",
     "output_type": "stream",
     "text": [
      "WARNING:absl:Found untraced functions such as _jit_compiled_convolution_op, _jit_compiled_convolution_op, _jit_compiled_convolution_op, _jit_compiled_convolution_op, _jit_compiled_convolution_op while saving (showing 5 of 14). These functions will not be directly callable after loading.\n"
     ]
    },
    {
     "name": "stdout",
     "output_type": "stream",
     "text": [
      "INFO:tensorflow:Assets written to: ./model_weights2\\assets\n"
     ]
    },
    {
     "name": "stderr",
     "output_type": "stream",
     "text": [
      "INFO:tensorflow:Assets written to: ./model_weights2\\assets\n"
     ]
    },
    {
     "name": "stdout",
     "output_type": "stream",
     "text": [
      "41/41 [==============================] - 30s 744ms/step - loss: 0.4066 - accuracy: 0.8292 - val_loss: 0.4312 - val_accuracy: 0.8118\n",
      "Epoch 78/200\n",
      "41/41 [==============================] - ETA: 0s - loss: 0.4038 - accuracy: 0.8309\n",
      "Epoch 78: val_loss improved from 0.43118 to 0.42758, saving model to ./model_weights2\\\n"
     ]
    },
    {
     "name": "stderr",
     "output_type": "stream",
     "text": [
      "WARNING:absl:Found untraced functions such as _jit_compiled_convolution_op, _jit_compiled_convolution_op, _jit_compiled_convolution_op, _jit_compiled_convolution_op, _jit_compiled_convolution_op while saving (showing 5 of 14). These functions will not be directly callable after loading.\n"
     ]
    },
    {
     "name": "stdout",
     "output_type": "stream",
     "text": [
      "INFO:tensorflow:Assets written to: ./model_weights2\\assets\n"
     ]
    },
    {
     "name": "stderr",
     "output_type": "stream",
     "text": [
      "INFO:tensorflow:Assets written to: ./model_weights2\\assets\n"
     ]
    },
    {
     "name": "stdout",
     "output_type": "stream",
     "text": [
      "41/41 [==============================] - 34s 831ms/step - loss: 0.4038 - accuracy: 0.8309 - val_loss: 0.4276 - val_accuracy: 0.8141\n",
      "Epoch 79/200\n",
      "41/41 [==============================] - ETA: 0s - loss: 0.4017 - accuracy: 0.8322\n",
      "Epoch 79: val_loss improved from 0.42758 to 0.42569, saving model to ./model_weights2\\\n"
     ]
    },
    {
     "name": "stderr",
     "output_type": "stream",
     "text": [
      "WARNING:absl:Found untraced functions such as _jit_compiled_convolution_op, _jit_compiled_convolution_op, _jit_compiled_convolution_op, _jit_compiled_convolution_op, _jit_compiled_convolution_op while saving (showing 5 of 14). These functions will not be directly callable after loading.\n"
     ]
    },
    {
     "name": "stdout",
     "output_type": "stream",
     "text": [
      "INFO:tensorflow:Assets written to: ./model_weights2\\assets\n"
     ]
    },
    {
     "name": "stderr",
     "output_type": "stream",
     "text": [
      "INFO:tensorflow:Assets written to: ./model_weights2\\assets\n"
     ]
    },
    {
     "name": "stdout",
     "output_type": "stream",
     "text": [
      "41/41 [==============================] - 28s 692ms/step - loss: 0.4017 - accuracy: 0.8322 - val_loss: 0.4257 - val_accuracy: 0.8154\n",
      "Epoch 80/200\n",
      "41/41 [==============================] - ETA: 0s - loss: 0.3996 - accuracy: 0.8332\n",
      "Epoch 80: val_loss improved from 0.42569 to 0.42398, saving model to ./model_weights2\\\n"
     ]
    },
    {
     "name": "stderr",
     "output_type": "stream",
     "text": [
      "WARNING:absl:Found untraced functions such as _jit_compiled_convolution_op, _jit_compiled_convolution_op, _jit_compiled_convolution_op, _jit_compiled_convolution_op, _jit_compiled_convolution_op while saving (showing 5 of 14). These functions will not be directly callable after loading.\n"
     ]
    },
    {
     "name": "stdout",
     "output_type": "stream",
     "text": [
      "INFO:tensorflow:Assets written to: ./model_weights2\\assets\n"
     ]
    },
    {
     "name": "stderr",
     "output_type": "stream",
     "text": [
      "INFO:tensorflow:Assets written to: ./model_weights2\\assets\n"
     ]
    },
    {
     "name": "stdout",
     "output_type": "stream",
     "text": [
      "41/41 [==============================] - 28s 681ms/step - loss: 0.3996 - accuracy: 0.8332 - val_loss: 0.4240 - val_accuracy: 0.8165\n",
      "Epoch 81/200\n",
      "41/41 [==============================] - ETA: 0s - loss: 0.3968 - accuracy: 0.8352\n",
      "Epoch 81: val_loss improved from 0.42398 to 0.41873, saving model to ./model_weights2\\\n"
     ]
    },
    {
     "name": "stderr",
     "output_type": "stream",
     "text": [
      "WARNING:absl:Found untraced functions such as _jit_compiled_convolution_op, _jit_compiled_convolution_op, _jit_compiled_convolution_op, _jit_compiled_convolution_op, _jit_compiled_convolution_op while saving (showing 5 of 14). These functions will not be directly callable after loading.\n"
     ]
    },
    {
     "name": "stdout",
     "output_type": "stream",
     "text": [
      "INFO:tensorflow:Assets written to: ./model_weights2\\assets\n"
     ]
    },
    {
     "name": "stderr",
     "output_type": "stream",
     "text": [
      "INFO:tensorflow:Assets written to: ./model_weights2\\assets\n"
     ]
    },
    {
     "name": "stdout",
     "output_type": "stream",
     "text": [
      "41/41 [==============================] - 25s 620ms/step - loss: 0.3968 - accuracy: 0.8352 - val_loss: 0.4187 - val_accuracy: 0.8192\n",
      "Epoch 82/200\n",
      "41/41 [==============================] - ETA: 0s - loss: 0.3943 - accuracy: 0.8367\n",
      "Epoch 82: val_loss did not improve from 0.41873\n",
      "41/41 [==============================] - 25s 620ms/step - loss: 0.3943 - accuracy: 0.8367 - val_loss: 0.4189 - val_accuracy: 0.8197\n",
      "Epoch 83/200\n",
      "41/41 [==============================] - ETA: 0s - loss: 0.3899 - accuracy: 0.8391\n",
      "Epoch 83: val_loss improved from 0.41873 to 0.41682, saving model to ./model_weights2\\\n"
     ]
    },
    {
     "name": "stderr",
     "output_type": "stream",
     "text": [
      "WARNING:absl:Found untraced functions such as _jit_compiled_convolution_op, _jit_compiled_convolution_op, _jit_compiled_convolution_op, _jit_compiled_convolution_op, _jit_compiled_convolution_op while saving (showing 5 of 14). These functions will not be directly callable after loading.\n"
     ]
    },
    {
     "name": "stdout",
     "output_type": "stream",
     "text": [
      "INFO:tensorflow:Assets written to: ./model_weights2\\assets\n"
     ]
    },
    {
     "name": "stderr",
     "output_type": "stream",
     "text": [
      "INFO:tensorflow:Assets written to: ./model_weights2\\assets\n"
     ]
    },
    {
     "name": "stdout",
     "output_type": "stream",
     "text": [
      "41/41 [==============================] - 33s 814ms/step - loss: 0.3899 - accuracy: 0.8391 - val_loss: 0.4168 - val_accuracy: 0.8210\n",
      "Epoch 84/200\n",
      "41/41 [==============================] - ETA: 0s - loss: 0.3883 - accuracy: 0.8404\n",
      "Epoch 84: val_loss improved from 0.41682 to 0.41511, saving model to ./model_weights2\\\n"
     ]
    },
    {
     "name": "stderr",
     "output_type": "stream",
     "text": [
      "WARNING:absl:Found untraced functions such as _jit_compiled_convolution_op, _jit_compiled_convolution_op, _jit_compiled_convolution_op, _jit_compiled_convolution_op, _jit_compiled_convolution_op while saving (showing 5 of 14). These functions will not be directly callable after loading.\n"
     ]
    },
    {
     "name": "stdout",
     "output_type": "stream",
     "text": [
      "INFO:tensorflow:Assets written to: ./model_weights2\\assets\n"
     ]
    },
    {
     "name": "stderr",
     "output_type": "stream",
     "text": [
      "INFO:tensorflow:Assets written to: ./model_weights2\\assets\n"
     ]
    },
    {
     "name": "stdout",
     "output_type": "stream",
     "text": [
      "41/41 [==============================] - 18s 435ms/step - loss: 0.3883 - accuracy: 0.8404 - val_loss: 0.4151 - val_accuracy: 0.8223\n",
      "Epoch 85/200\n",
      "41/41 [==============================] - ETA: 0s - loss: 0.3858 - accuracy: 0.8410\n",
      "Epoch 85: val_loss improved from 0.41511 to 0.41109, saving model to ./model_weights2\\\n"
     ]
    },
    {
     "name": "stderr",
     "output_type": "stream",
     "text": [
      "WARNING:absl:Found untraced functions such as _jit_compiled_convolution_op, _jit_compiled_convolution_op, _jit_compiled_convolution_op, _jit_compiled_convolution_op, _jit_compiled_convolution_op while saving (showing 5 of 14). These functions will not be directly callable after loading.\n"
     ]
    },
    {
     "name": "stdout",
     "output_type": "stream",
     "text": [
      "INFO:tensorflow:Assets written to: ./model_weights2\\assets\n"
     ]
    },
    {
     "name": "stderr",
     "output_type": "stream",
     "text": [
      "INFO:tensorflow:Assets written to: ./model_weights2\\assets\n"
     ]
    },
    {
     "name": "stdout",
     "output_type": "stream",
     "text": [
      "41/41 [==============================] - 18s 440ms/step - loss: 0.3858 - accuracy: 0.8410 - val_loss: 0.4111 - val_accuracy: 0.8249\n",
      "Epoch 86/200\n",
      "41/41 [==============================] - ETA: 0s - loss: 0.3835 - accuracy: 0.8433\n",
      "Epoch 86: val_loss improved from 0.41109 to 0.41091, saving model to ./model_weights2\\\n"
     ]
    },
    {
     "name": "stderr",
     "output_type": "stream",
     "text": [
      "WARNING:absl:Found untraced functions such as _jit_compiled_convolution_op, _jit_compiled_convolution_op, _jit_compiled_convolution_op, _jit_compiled_convolution_op, _jit_compiled_convolution_op while saving (showing 5 of 14). These functions will not be directly callable after loading.\n"
     ]
    },
    {
     "name": "stdout",
     "output_type": "stream",
     "text": [
      "INFO:tensorflow:Assets written to: ./model_weights2\\assets\n"
     ]
    },
    {
     "name": "stderr",
     "output_type": "stream",
     "text": [
      "INFO:tensorflow:Assets written to: ./model_weights2\\assets\n"
     ]
    },
    {
     "name": "stdout",
     "output_type": "stream",
     "text": [
      "41/41 [==============================] - 19s 459ms/step - loss: 0.3835 - accuracy: 0.8433 - val_loss: 0.4109 - val_accuracy: 0.8251\n",
      "Epoch 87/200\n",
      "41/41 [==============================] - ETA: 0s - loss: 0.3790 - accuracy: 0.8455\n",
      "Epoch 87: val_loss improved from 0.41091 to 0.41015, saving model to ./model_weights2\\\n"
     ]
    },
    {
     "name": "stderr",
     "output_type": "stream",
     "text": [
      "WARNING:absl:Found untraced functions such as _jit_compiled_convolution_op, _jit_compiled_convolution_op, _jit_compiled_convolution_op, _jit_compiled_convolution_op, _jit_compiled_convolution_op while saving (showing 5 of 14). These functions will not be directly callable after loading.\n"
     ]
    },
    {
     "name": "stdout",
     "output_type": "stream",
     "text": [
      "INFO:tensorflow:Assets written to: ./model_weights2\\assets\n"
     ]
    },
    {
     "name": "stderr",
     "output_type": "stream",
     "text": [
      "INFO:tensorflow:Assets written to: ./model_weights2\\assets\n"
     ]
    },
    {
     "name": "stdout",
     "output_type": "stream",
     "text": [
      "41/41 [==============================] - 19s 461ms/step - loss: 0.3790 - accuracy: 0.8455 - val_loss: 0.4101 - val_accuracy: 0.8259\n",
      "Epoch 88/200\n",
      "41/41 [==============================] - ETA: 0s - loss: 0.3783 - accuracy: 0.8462\n",
      "Epoch 88: val_loss improved from 0.41015 to 0.40565, saving model to ./model_weights2\\\n"
     ]
    },
    {
     "name": "stderr",
     "output_type": "stream",
     "text": [
      "WARNING:absl:Found untraced functions such as _jit_compiled_convolution_op, _jit_compiled_convolution_op, _jit_compiled_convolution_op, _jit_compiled_convolution_op, _jit_compiled_convolution_op while saving (showing 5 of 14). These functions will not be directly callable after loading.\n"
     ]
    },
    {
     "name": "stdout",
     "output_type": "stream",
     "text": [
      "INFO:tensorflow:Assets written to: ./model_weights2\\assets\n"
     ]
    },
    {
     "name": "stderr",
     "output_type": "stream",
     "text": [
      "INFO:tensorflow:Assets written to: ./model_weights2\\assets\n"
     ]
    },
    {
     "name": "stdout",
     "output_type": "stream",
     "text": [
      "41/41 [==============================] - 31s 779ms/step - loss: 0.3783 - accuracy: 0.8462 - val_loss: 0.4057 - val_accuracy: 0.8286\n",
      "Epoch 89/200\n",
      "41/41 [==============================] - ETA: 0s - loss: 0.3760 - accuracy: 0.8474\n",
      "Epoch 89: val_loss improved from 0.40565 to 0.40316, saving model to ./model_weights2\\\n"
     ]
    },
    {
     "name": "stderr",
     "output_type": "stream",
     "text": [
      "WARNING:absl:Found untraced functions such as _jit_compiled_convolution_op, _jit_compiled_convolution_op, _jit_compiled_convolution_op, _jit_compiled_convolution_op, _jit_compiled_convolution_op while saving (showing 5 of 14). These functions will not be directly callable after loading.\n"
     ]
    },
    {
     "name": "stdout",
     "output_type": "stream",
     "text": [
      "INFO:tensorflow:Assets written to: ./model_weights2\\assets\n"
     ]
    },
    {
     "name": "stderr",
     "output_type": "stream",
     "text": [
      "INFO:tensorflow:Assets written to: ./model_weights2\\assets\n"
     ]
    },
    {
     "name": "stdout",
     "output_type": "stream",
     "text": [
      "41/41 [==============================] - 33s 798ms/step - loss: 0.3760 - accuracy: 0.8474 - val_loss: 0.4032 - val_accuracy: 0.8300\n",
      "Epoch 90/200\n",
      "41/41 [==============================] - ETA: 0s - loss: 0.3723 - accuracy: 0.8493\n",
      "Epoch 90: val_loss improved from 0.40316 to 0.40272, saving model to ./model_weights2\\\n"
     ]
    },
    {
     "name": "stderr",
     "output_type": "stream",
     "text": [
      "WARNING:absl:Found untraced functions such as _jit_compiled_convolution_op, _jit_compiled_convolution_op, _jit_compiled_convolution_op, _jit_compiled_convolution_op, _jit_compiled_convolution_op while saving (showing 5 of 14). These functions will not be directly callable after loading.\n"
     ]
    },
    {
     "name": "stdout",
     "output_type": "stream",
     "text": [
      "INFO:tensorflow:Assets written to: ./model_weights2\\assets\n"
     ]
    },
    {
     "name": "stderr",
     "output_type": "stream",
     "text": [
      "INFO:tensorflow:Assets written to: ./model_weights2\\assets\n"
     ]
    },
    {
     "name": "stdout",
     "output_type": "stream",
     "text": [
      "41/41 [==============================] - 27s 662ms/step - loss: 0.3723 - accuracy: 0.8493 - val_loss: 0.4027 - val_accuracy: 0.8303\n",
      "Epoch 91/200\n",
      "41/41 [==============================] - ETA: 0s - loss: 0.3710 - accuracy: 0.8502\n",
      "Epoch 91: val_loss improved from 0.40272 to 0.39963, saving model to ./model_weights2\\\n"
     ]
    },
    {
     "name": "stderr",
     "output_type": "stream",
     "text": [
      "WARNING:absl:Found untraced functions such as _jit_compiled_convolution_op, _jit_compiled_convolution_op, _jit_compiled_convolution_op, _jit_compiled_convolution_op, _jit_compiled_convolution_op while saving (showing 5 of 14). These functions will not be directly callable after loading.\n"
     ]
    },
    {
     "name": "stdout",
     "output_type": "stream",
     "text": [
      "INFO:tensorflow:Assets written to: ./model_weights2\\assets\n"
     ]
    },
    {
     "name": "stderr",
     "output_type": "stream",
     "text": [
      "INFO:tensorflow:Assets written to: ./model_weights2\\assets\n"
     ]
    },
    {
     "name": "stdout",
     "output_type": "stream",
     "text": [
      "41/41 [==============================] - 32s 787ms/step - loss: 0.3710 - accuracy: 0.8502 - val_loss: 0.3996 - val_accuracy: 0.8317\n",
      "Epoch 92/200\n",
      "41/41 [==============================] - ETA: 0s - loss: 0.3675 - accuracy: 0.8525\n",
      "Epoch 92: val_loss improved from 0.39963 to 0.39693, saving model to ./model_weights2\\\n"
     ]
    },
    {
     "name": "stderr",
     "output_type": "stream",
     "text": [
      "WARNING:absl:Found untraced functions such as _jit_compiled_convolution_op, _jit_compiled_convolution_op, _jit_compiled_convolution_op, _jit_compiled_convolution_op, _jit_compiled_convolution_op while saving (showing 5 of 14). These functions will not be directly callable after loading.\n"
     ]
    },
    {
     "name": "stdout",
     "output_type": "stream",
     "text": [
      "INFO:tensorflow:Assets written to: ./model_weights2\\assets\n"
     ]
    },
    {
     "name": "stderr",
     "output_type": "stream",
     "text": [
      "INFO:tensorflow:Assets written to: ./model_weights2\\assets\n"
     ]
    },
    {
     "name": "stdout",
     "output_type": "stream",
     "text": [
      "41/41 [==============================] - 31s 772ms/step - loss: 0.3675 - accuracy: 0.8525 - val_loss: 0.3969 - val_accuracy: 0.8334\n",
      "Epoch 93/200\n",
      "41/41 [==============================] - ETA: 0s - loss: 0.3647 - accuracy: 0.8544\n",
      "Epoch 93: val_loss improved from 0.39693 to 0.39657, saving model to ./model_weights2\\\n"
     ]
    },
    {
     "name": "stderr",
     "output_type": "stream",
     "text": [
      "WARNING:absl:Found untraced functions such as _jit_compiled_convolution_op, _jit_compiled_convolution_op, _jit_compiled_convolution_op, _jit_compiled_convolution_op, _jit_compiled_convolution_op while saving (showing 5 of 14). These functions will not be directly callable after loading.\n"
     ]
    },
    {
     "name": "stdout",
     "output_type": "stream",
     "text": [
      "INFO:tensorflow:Assets written to: ./model_weights2\\assets\n"
     ]
    },
    {
     "name": "stderr",
     "output_type": "stream",
     "text": [
      "INFO:tensorflow:Assets written to: ./model_weights2\\assets\n"
     ]
    },
    {
     "name": "stdout",
     "output_type": "stream",
     "text": [
      "41/41 [==============================] - 35s 865ms/step - loss: 0.3647 - accuracy: 0.8544 - val_loss: 0.3966 - val_accuracy: 0.8338\n",
      "Epoch 94/200\n",
      "41/41 [==============================] - ETA: 0s - loss: 0.3628 - accuracy: 0.8544\n",
      "Epoch 94: val_loss improved from 0.39657 to 0.39205, saving model to ./model_weights2\\\n"
     ]
    },
    {
     "name": "stderr",
     "output_type": "stream",
     "text": [
      "WARNING:absl:Found untraced functions such as _jit_compiled_convolution_op, _jit_compiled_convolution_op, _jit_compiled_convolution_op, _jit_compiled_convolution_op, _jit_compiled_convolution_op while saving (showing 5 of 14). These functions will not be directly callable after loading.\n"
     ]
    },
    {
     "name": "stdout",
     "output_type": "stream",
     "text": [
      "INFO:tensorflow:Assets written to: ./model_weights2\\assets\n"
     ]
    },
    {
     "name": "stderr",
     "output_type": "stream",
     "text": [
      "INFO:tensorflow:Assets written to: ./model_weights2\\assets\n"
     ]
    },
    {
     "name": "stdout",
     "output_type": "stream",
     "text": [
      "41/41 [==============================] - 32s 777ms/step - loss: 0.3628 - accuracy: 0.8544 - val_loss: 0.3920 - val_accuracy: 0.8360\n",
      "Epoch 95/200\n",
      "41/41 [==============================] - ETA: 0s - loss: 0.3606 - accuracy: 0.8554\n",
      "Epoch 95: val_loss did not improve from 0.39205\n",
      "41/41 [==============================] - 24s 576ms/step - loss: 0.3606 - accuracy: 0.8554 - val_loss: 0.3927 - val_accuracy: 0.8361\n",
      "Epoch 96/200\n",
      "41/41 [==============================] - ETA: 0s - loss: 0.3580 - accuracy: 0.8575\n",
      "Epoch 96: val_loss improved from 0.39205 to 0.39054, saving model to ./model_weights2\\\n"
     ]
    },
    {
     "name": "stderr",
     "output_type": "stream",
     "text": [
      "WARNING:absl:Found untraced functions such as _jit_compiled_convolution_op, _jit_compiled_convolution_op, _jit_compiled_convolution_op, _jit_compiled_convolution_op, _jit_compiled_convolution_op while saving (showing 5 of 14). These functions will not be directly callable after loading.\n"
     ]
    },
    {
     "name": "stdout",
     "output_type": "stream",
     "text": [
      "INFO:tensorflow:Assets written to: ./model_weights2\\assets\n"
     ]
    },
    {
     "name": "stderr",
     "output_type": "stream",
     "text": [
      "INFO:tensorflow:Assets written to: ./model_weights2\\assets\n"
     ]
    },
    {
     "name": "stdout",
     "output_type": "stream",
     "text": [
      "41/41 [==============================] - 39s 964ms/step - loss: 0.3580 - accuracy: 0.8575 - val_loss: 0.3905 - val_accuracy: 0.8374\n",
      "Epoch 97/200\n",
      "41/41 [==============================] - ETA: 0s - loss: 0.3545 - accuracy: 0.8593\n",
      "Epoch 97: val_loss improved from 0.39054 to 0.38826, saving model to ./model_weights2\\\n"
     ]
    },
    {
     "name": "stderr",
     "output_type": "stream",
     "text": [
      "WARNING:absl:Found untraced functions such as _jit_compiled_convolution_op, _jit_compiled_convolution_op, _jit_compiled_convolution_op, _jit_compiled_convolution_op, _jit_compiled_convolution_op while saving (showing 5 of 14). These functions will not be directly callable after loading.\n"
     ]
    },
    {
     "name": "stdout",
     "output_type": "stream",
     "text": [
      "INFO:tensorflow:Assets written to: ./model_weights2\\assets\n"
     ]
    },
    {
     "name": "stderr",
     "output_type": "stream",
     "text": [
      "INFO:tensorflow:Assets written to: ./model_weights2\\assets\n"
     ]
    },
    {
     "name": "stdout",
     "output_type": "stream",
     "text": [
      "41/41 [==============================] - 32s 790ms/step - loss: 0.3545 - accuracy: 0.8593 - val_loss: 0.3883 - val_accuracy: 0.8385\n",
      "Epoch 98/200\n",
      "41/41 [==============================] - ETA: 0s - loss: 0.3540 - accuracy: 0.8599\n",
      "Epoch 98: val_loss did not improve from 0.38826\n",
      "41/41 [==============================] - 27s 662ms/step - loss: 0.3540 - accuracy: 0.8599 - val_loss: 0.3895 - val_accuracy: 0.8386\n",
      "Epoch 99/200\n",
      "41/41 [==============================] - ETA: 0s - loss: 0.3506 - accuracy: 0.8622\n",
      "Epoch 99: val_loss improved from 0.38826 to 0.38423, saving model to ./model_weights2\\\n"
     ]
    },
    {
     "name": "stderr",
     "output_type": "stream",
     "text": [
      "WARNING:absl:Found untraced functions such as _jit_compiled_convolution_op, _jit_compiled_convolution_op, _jit_compiled_convolution_op, _jit_compiled_convolution_op, _jit_compiled_convolution_op while saving (showing 5 of 14). These functions will not be directly callable after loading.\n"
     ]
    },
    {
     "name": "stdout",
     "output_type": "stream",
     "text": [
      "INFO:tensorflow:Assets written to: ./model_weights2\\assets\n"
     ]
    },
    {
     "name": "stderr",
     "output_type": "stream",
     "text": [
      "INFO:tensorflow:Assets written to: ./model_weights2\\assets\n"
     ]
    },
    {
     "name": "stdout",
     "output_type": "stream",
     "text": [
      "41/41 [==============================] - 31s 754ms/step - loss: 0.3506 - accuracy: 0.8622 - val_loss: 0.3842 - val_accuracy: 0.8407\n",
      "Epoch 100/200\n",
      "41/41 [==============================] - ETA: 0s - loss: 0.3481 - accuracy: 0.8625\n",
      "Epoch 100: val_loss did not improve from 0.38423\n",
      "41/41 [==============================] - 10s 242ms/step - loss: 0.3481 - accuracy: 0.8625 - val_loss: 0.3843 - val_accuracy: 0.8413\n",
      "Epoch 101/200\n",
      "41/41 [==============================] - ETA: 0s - loss: 0.3465 - accuracy: 0.8640\n",
      "Epoch 101: val_loss improved from 0.38423 to 0.38156, saving model to ./model_weights2\\\n"
     ]
    },
    {
     "name": "stderr",
     "output_type": "stream",
     "text": [
      "WARNING:absl:Found untraced functions such as _jit_compiled_convolution_op, _jit_compiled_convolution_op, _jit_compiled_convolution_op, _jit_compiled_convolution_op, _jit_compiled_convolution_op while saving (showing 5 of 14). These functions will not be directly callable after loading.\n"
     ]
    },
    {
     "name": "stdout",
     "output_type": "stream",
     "text": [
      "INFO:tensorflow:Assets written to: ./model_weights2\\assets\n"
     ]
    },
    {
     "name": "stderr",
     "output_type": "stream",
     "text": [
      "INFO:tensorflow:Assets written to: ./model_weights2\\assets\n"
     ]
    },
    {
     "name": "stdout",
     "output_type": "stream",
     "text": [
      "41/41 [==============================] - 17s 414ms/step - loss: 0.3465 - accuracy: 0.8640 - val_loss: 0.3816 - val_accuracy: 0.8425\n",
      "Epoch 102/200\n",
      "41/41 [==============================] - ETA: 0s - loss: 0.3433 - accuracy: 0.8651\n",
      "Epoch 102: val_loss improved from 0.38156 to 0.38088, saving model to ./model_weights2\\\n"
     ]
    },
    {
     "name": "stderr",
     "output_type": "stream",
     "text": [
      "WARNING:absl:Found untraced functions such as _jit_compiled_convolution_op, _jit_compiled_convolution_op, _jit_compiled_convolution_op, _jit_compiled_convolution_op, _jit_compiled_convolution_op while saving (showing 5 of 14). These functions will not be directly callable after loading.\n"
     ]
    },
    {
     "name": "stdout",
     "output_type": "stream",
     "text": [
      "INFO:tensorflow:Assets written to: ./model_weights2\\assets\n"
     ]
    },
    {
     "name": "stderr",
     "output_type": "stream",
     "text": [
      "INFO:tensorflow:Assets written to: ./model_weights2\\assets\n"
     ]
    },
    {
     "name": "stdout",
     "output_type": "stream",
     "text": [
      "41/41 [==============================] - 18s 436ms/step - loss: 0.3433 - accuracy: 0.8651 - val_loss: 0.3809 - val_accuracy: 0.8431\n",
      "Epoch 103/200\n",
      "41/41 [==============================] - ETA: 0s - loss: 0.3408 - accuracy: 0.8669\n",
      "Epoch 103: val_loss improved from 0.38088 to 0.37766, saving model to ./model_weights2\\\n"
     ]
    },
    {
     "name": "stderr",
     "output_type": "stream",
     "text": [
      "WARNING:absl:Found untraced functions such as _jit_compiled_convolution_op, _jit_compiled_convolution_op, _jit_compiled_convolution_op, _jit_compiled_convolution_op, _jit_compiled_convolution_op while saving (showing 5 of 14). These functions will not be directly callable after loading.\n"
     ]
    },
    {
     "name": "stdout",
     "output_type": "stream",
     "text": [
      "INFO:tensorflow:Assets written to: ./model_weights2\\assets\n"
     ]
    },
    {
     "name": "stderr",
     "output_type": "stream",
     "text": [
      "INFO:tensorflow:Assets written to: ./model_weights2\\assets\n"
     ]
    },
    {
     "name": "stdout",
     "output_type": "stream",
     "text": [
      "41/41 [==============================] - 19s 460ms/step - loss: 0.3408 - accuracy: 0.8669 - val_loss: 0.3777 - val_accuracy: 0.8444\n",
      "Epoch 104/200\n",
      "41/41 [==============================] - ETA: 0s - loss: 0.3385 - accuracy: 0.8673\n",
      "Epoch 104: val_loss improved from 0.37766 to 0.37441, saving model to ./model_weights2\\\n"
     ]
    },
    {
     "name": "stderr",
     "output_type": "stream",
     "text": [
      "WARNING:absl:Found untraced functions such as _jit_compiled_convolution_op, _jit_compiled_convolution_op, _jit_compiled_convolution_op, _jit_compiled_convolution_op, _jit_compiled_convolution_op while saving (showing 5 of 14). These functions will not be directly callable after loading.\n"
     ]
    },
    {
     "name": "stdout",
     "output_type": "stream",
     "text": [
      "INFO:tensorflow:Assets written to: ./model_weights2\\assets\n"
     ]
    },
    {
     "name": "stderr",
     "output_type": "stream",
     "text": [
      "INFO:tensorflow:Assets written to: ./model_weights2\\assets\n"
     ]
    },
    {
     "name": "stdout",
     "output_type": "stream",
     "text": [
      "41/41 [==============================] - 20s 494ms/step - loss: 0.3385 - accuracy: 0.8673 - val_loss: 0.3744 - val_accuracy: 0.8463\n",
      "Epoch 105/200\n",
      "41/41 [==============================] - ETA: 0s - loss: 0.3358 - accuracy: 0.8695\n",
      "Epoch 105: val_loss did not improve from 0.37441\n",
      "41/41 [==============================] - 28s 679ms/step - loss: 0.3358 - accuracy: 0.8695 - val_loss: 0.3751 - val_accuracy: 0.8463\n",
      "Epoch 106/200\n",
      "41/41 [==============================] - ETA: 0s - loss: 0.3347 - accuracy: 0.8695\n",
      "Epoch 106: val_loss improved from 0.37441 to 0.37316, saving model to ./model_weights2\\\n"
     ]
    },
    {
     "name": "stderr",
     "output_type": "stream",
     "text": [
      "WARNING:absl:Found untraced functions such as _jit_compiled_convolution_op, _jit_compiled_convolution_op, _jit_compiled_convolution_op, _jit_compiled_convolution_op, _jit_compiled_convolution_op while saving (showing 5 of 14). These functions will not be directly callable after loading.\n"
     ]
    },
    {
     "name": "stdout",
     "output_type": "stream",
     "text": [
      "INFO:tensorflow:Assets written to: ./model_weights2\\assets\n"
     ]
    },
    {
     "name": "stderr",
     "output_type": "stream",
     "text": [
      "INFO:tensorflow:Assets written to: ./model_weights2\\assets\n"
     ]
    },
    {
     "name": "stdout",
     "output_type": "stream",
     "text": [
      "41/41 [==============================] - 38s 937ms/step - loss: 0.3347 - accuracy: 0.8695 - val_loss: 0.3732 - val_accuracy: 0.8473\n",
      "Epoch 107/200\n",
      "41/41 [==============================] - ETA: 0s - loss: 0.3326 - accuracy: 0.8712\n",
      "Epoch 107: val_loss improved from 0.37316 to 0.37103, saving model to ./model_weights2\\\n"
     ]
    },
    {
     "name": "stderr",
     "output_type": "stream",
     "text": [
      "WARNING:absl:Found untraced functions such as _jit_compiled_convolution_op, _jit_compiled_convolution_op, _jit_compiled_convolution_op, _jit_compiled_convolution_op, _jit_compiled_convolution_op while saving (showing 5 of 14). These functions will not be directly callable after loading.\n"
     ]
    },
    {
     "name": "stdout",
     "output_type": "stream",
     "text": [
      "INFO:tensorflow:Assets written to: ./model_weights2\\assets\n"
     ]
    },
    {
     "name": "stderr",
     "output_type": "stream",
     "text": [
      "INFO:tensorflow:Assets written to: ./model_weights2\\assets\n"
     ]
    },
    {
     "name": "stdout",
     "output_type": "stream",
     "text": [
      "41/41 [==============================] - 31s 776ms/step - loss: 0.3326 - accuracy: 0.8712 - val_loss: 0.3710 - val_accuracy: 0.8481\n",
      "Epoch 108/200\n",
      "41/41 [==============================] - ETA: 0s - loss: 0.3308 - accuracy: 0.8723\n",
      "Epoch 108: val_loss improved from 0.37103 to 0.36919, saving model to ./model_weights2\\\n"
     ]
    },
    {
     "name": "stderr",
     "output_type": "stream",
     "text": [
      "WARNING:absl:Found untraced functions such as _jit_compiled_convolution_op, _jit_compiled_convolution_op, _jit_compiled_convolution_op, _jit_compiled_convolution_op, _jit_compiled_convolution_op while saving (showing 5 of 14). These functions will not be directly callable after loading.\n"
     ]
    },
    {
     "name": "stdout",
     "output_type": "stream",
     "text": [
      "INFO:tensorflow:Assets written to: ./model_weights2\\assets\n"
     ]
    },
    {
     "name": "stderr",
     "output_type": "stream",
     "text": [
      "INFO:tensorflow:Assets written to: ./model_weights2\\assets\n"
     ]
    },
    {
     "name": "stdout",
     "output_type": "stream",
     "text": [
      "41/41 [==============================] - 31s 756ms/step - loss: 0.3308 - accuracy: 0.8723 - val_loss: 0.3692 - val_accuracy: 0.8489\n",
      "Epoch 109/200\n",
      "41/41 [==============================] - ETA: 0s - loss: 0.3280 - accuracy: 0.8735\n",
      "Epoch 109: val_loss improved from 0.36919 to 0.36851, saving model to ./model_weights2\\\n"
     ]
    },
    {
     "name": "stderr",
     "output_type": "stream",
     "text": [
      "WARNING:absl:Found untraced functions such as _jit_compiled_convolution_op, _jit_compiled_convolution_op, _jit_compiled_convolution_op, _jit_compiled_convolution_op, _jit_compiled_convolution_op while saving (showing 5 of 14). These functions will not be directly callable after loading.\n"
     ]
    },
    {
     "name": "stdout",
     "output_type": "stream",
     "text": [
      "INFO:tensorflow:Assets written to: ./model_weights2\\assets\n"
     ]
    },
    {
     "name": "stderr",
     "output_type": "stream",
     "text": [
      "INFO:tensorflow:Assets written to: ./model_weights2\\assets\n"
     ]
    },
    {
     "name": "stdout",
     "output_type": "stream",
     "text": [
      "41/41 [==============================] - 33s 813ms/step - loss: 0.3280 - accuracy: 0.8735 - val_loss: 0.3685 - val_accuracy: 0.8496\n",
      "Epoch 110/200\n",
      "41/41 [==============================] - ETA: 0s - loss: 0.3266 - accuracy: 0.8739\n",
      "Epoch 110: val_loss improved from 0.36851 to 0.36696, saving model to ./model_weights2\\\n"
     ]
    },
    {
     "name": "stderr",
     "output_type": "stream",
     "text": [
      "WARNING:absl:Found untraced functions such as _jit_compiled_convolution_op, _jit_compiled_convolution_op, _jit_compiled_convolution_op, _jit_compiled_convolution_op, _jit_compiled_convolution_op while saving (showing 5 of 14). These functions will not be directly callable after loading.\n"
     ]
    },
    {
     "name": "stdout",
     "output_type": "stream",
     "text": [
      "INFO:tensorflow:Assets written to: ./model_weights2\\assets\n"
     ]
    },
    {
     "name": "stderr",
     "output_type": "stream",
     "text": [
      "INFO:tensorflow:Assets written to: ./model_weights2\\assets\n"
     ]
    },
    {
     "name": "stdout",
     "output_type": "stream",
     "text": [
      "41/41 [==============================] - 34s 830ms/step - loss: 0.3266 - accuracy: 0.8739 - val_loss: 0.3670 - val_accuracy: 0.8503\n",
      "Epoch 111/200\n",
      "41/41 [==============================] - ETA: 0s - loss: 0.3228 - accuracy: 0.8760\n",
      "Epoch 111: val_loss improved from 0.36696 to 0.36492, saving model to ./model_weights2\\\n"
     ]
    },
    {
     "name": "stderr",
     "output_type": "stream",
     "text": [
      "WARNING:absl:Found untraced functions such as _jit_compiled_convolution_op, _jit_compiled_convolution_op, _jit_compiled_convolution_op, _jit_compiled_convolution_op, _jit_compiled_convolution_op while saving (showing 5 of 14). These functions will not be directly callable after loading.\n"
     ]
    },
    {
     "name": "stdout",
     "output_type": "stream",
     "text": [
      "INFO:tensorflow:Assets written to: ./model_weights2\\assets\n"
     ]
    },
    {
     "name": "stderr",
     "output_type": "stream",
     "text": [
      "INFO:tensorflow:Assets written to: ./model_weights2\\assets\n"
     ]
    },
    {
     "name": "stdout",
     "output_type": "stream",
     "text": [
      "41/41 [==============================] - 31s 757ms/step - loss: 0.3228 - accuracy: 0.8760 - val_loss: 0.3649 - val_accuracy: 0.8513\n",
      "Epoch 112/200\n",
      "41/41 [==============================] - ETA: 0s - loss: 0.3216 - accuracy: 0.8765\n",
      "Epoch 112: val_loss improved from 0.36492 to 0.36321, saving model to ./model_weights2\\\n"
     ]
    },
    {
     "name": "stderr",
     "output_type": "stream",
     "text": [
      "WARNING:absl:Found untraced functions such as _jit_compiled_convolution_op, _jit_compiled_convolution_op, _jit_compiled_convolution_op, _jit_compiled_convolution_op, _jit_compiled_convolution_op while saving (showing 5 of 14). These functions will not be directly callable after loading.\n"
     ]
    },
    {
     "name": "stdout",
     "output_type": "stream",
     "text": [
      "INFO:tensorflow:Assets written to: ./model_weights2\\assets\n"
     ]
    },
    {
     "name": "stderr",
     "output_type": "stream",
     "text": [
      "INFO:tensorflow:Assets written to: ./model_weights2\\assets\n"
     ]
    },
    {
     "name": "stdout",
     "output_type": "stream",
     "text": [
      "41/41 [==============================] - 30s 752ms/step - loss: 0.3216 - accuracy: 0.8765 - val_loss: 0.3632 - val_accuracy: 0.8520\n",
      "Epoch 113/200\n",
      "41/41 [==============================] - ETA: 0s - loss: 0.3196 - accuracy: 0.8777\n",
      "Epoch 113: val_loss did not improve from 0.36321\n",
      "41/41 [==============================] - 26s 625ms/step - loss: 0.3196 - accuracy: 0.8777 - val_loss: 0.3643 - val_accuracy: 0.8519\n",
      "Epoch 114/200\n",
      "41/41 [==============================] - ETA: 0s - loss: 0.3180 - accuracy: 0.8785\n",
      "Epoch 114: val_loss improved from 0.36321 to 0.36066, saving model to ./model_weights2\\\n"
     ]
    },
    {
     "name": "stderr",
     "output_type": "stream",
     "text": [
      "WARNING:absl:Found untraced functions such as _jit_compiled_convolution_op, _jit_compiled_convolution_op, _jit_compiled_convolution_op, _jit_compiled_convolution_op, _jit_compiled_convolution_op while saving (showing 5 of 14). These functions will not be directly callable after loading.\n"
     ]
    },
    {
     "name": "stdout",
     "output_type": "stream",
     "text": [
      "INFO:tensorflow:Assets written to: ./model_weights2\\assets\n"
     ]
    },
    {
     "name": "stderr",
     "output_type": "stream",
     "text": [
      "INFO:tensorflow:Assets written to: ./model_weights2\\assets\n"
     ]
    },
    {
     "name": "stdout",
     "output_type": "stream",
     "text": [
      "41/41 [==============================] - 33s 811ms/step - loss: 0.3180 - accuracy: 0.8785 - val_loss: 0.3607 - val_accuracy: 0.8534\n",
      "Epoch 115/200\n",
      "41/41 [==============================] - ETA: 0s - loss: 0.3156 - accuracy: 0.8798\n",
      "Epoch 115: val_loss did not improve from 0.36066\n",
      "41/41 [==============================] - 17s 409ms/step - loss: 0.3156 - accuracy: 0.8798 - val_loss: 0.3613 - val_accuracy: 0.8535\n",
      "Epoch 116/200\n",
      "41/41 [==============================] - ETA: 0s - loss: 0.3140 - accuracy: 0.8805\n",
      "Epoch 116: val_loss improved from 0.36066 to 0.35690, saving model to ./model_weights2\\\n"
     ]
    },
    {
     "name": "stderr",
     "output_type": "stream",
     "text": [
      "WARNING:absl:Found untraced functions such as _jit_compiled_convolution_op, _jit_compiled_convolution_op, _jit_compiled_convolution_op, _jit_compiled_convolution_op, _jit_compiled_convolution_op while saving (showing 5 of 14). These functions will not be directly callable after loading.\n"
     ]
    },
    {
     "name": "stdout",
     "output_type": "stream",
     "text": [
      "INFO:tensorflow:Assets written to: ./model_weights2\\assets\n"
     ]
    },
    {
     "name": "stderr",
     "output_type": "stream",
     "text": [
      "INFO:tensorflow:Assets written to: ./model_weights2\\assets\n"
     ]
    },
    {
     "name": "stdout",
     "output_type": "stream",
     "text": [
      "41/41 [==============================] - 25s 613ms/step - loss: 0.3140 - accuracy: 0.8805 - val_loss: 0.3569 - val_accuracy: 0.8552\n",
      "Epoch 117/200\n",
      "41/41 [==============================] - ETA: 0s - loss: 0.3114 - accuracy: 0.8820\n",
      "Epoch 117: val_loss did not improve from 0.35690\n",
      "41/41 [==============================] - 18s 451ms/step - loss: 0.3114 - accuracy: 0.8820 - val_loss: 0.3583 - val_accuracy: 0.8547\n",
      "Epoch 118/200\n",
      "41/41 [==============================] - ETA: 0s - loss: 0.3116 - accuracy: 0.8817\n",
      "Epoch 118: val_loss improved from 0.35690 to 0.35365, saving model to ./model_weights2\\\n"
     ]
    },
    {
     "name": "stderr",
     "output_type": "stream",
     "text": [
      "WARNING:absl:Found untraced functions such as _jit_compiled_convolution_op, _jit_compiled_convolution_op, _jit_compiled_convolution_op, _jit_compiled_convolution_op, _jit_compiled_convolution_op while saving (showing 5 of 14). These functions will not be directly callable after loading.\n"
     ]
    },
    {
     "name": "stdout",
     "output_type": "stream",
     "text": [
      "INFO:tensorflow:Assets written to: ./model_weights2\\assets\n"
     ]
    },
    {
     "name": "stderr",
     "output_type": "stream",
     "text": [
      "INFO:tensorflow:Assets written to: ./model_weights2\\assets\n"
     ]
    },
    {
     "name": "stdout",
     "output_type": "stream",
     "text": [
      "41/41 [==============================] - 22s 532ms/step - loss: 0.3116 - accuracy: 0.8817 - val_loss: 0.3537 - val_accuracy: 0.8566\n",
      "Epoch 119/200\n",
      "41/41 [==============================] - ETA: 0s - loss: 0.3074 - accuracy: 0.8839  \n",
      "Epoch 119: val_loss did not improve from 0.35365\n",
      "41/41 [==============================] - 2895s 72s/step - loss: 0.3074 - accuracy: 0.8839 - val_loss: 0.3538 - val_accuracy: 0.8566\n",
      "Epoch 120/200\n",
      "41/41 [==============================] - ETA: 0s - loss: 0.3070 - accuracy: 0.8842\n",
      "Epoch 120: val_loss improved from 0.35365 to 0.35099, saving model to ./model_weights2\\\n"
     ]
    },
    {
     "name": "stderr",
     "output_type": "stream",
     "text": [
      "WARNING:absl:Found untraced functions such as _jit_compiled_convolution_op, _jit_compiled_convolution_op, _jit_compiled_convolution_op, _jit_compiled_convolution_op, _jit_compiled_convolution_op while saving (showing 5 of 14). These functions will not be directly callable after loading.\n"
     ]
    },
    {
     "name": "stdout",
     "output_type": "stream",
     "text": [
      "INFO:tensorflow:Assets written to: ./model_weights2\\assets\n"
     ]
    },
    {
     "name": "stderr",
     "output_type": "stream",
     "text": [
      "INFO:tensorflow:Assets written to: ./model_weights2\\assets\n"
     ]
    },
    {
     "name": "stdout",
     "output_type": "stream",
     "text": [
      "41/41 [==============================] - 27s 660ms/step - loss: 0.3070 - accuracy: 0.8842 - val_loss: 0.3510 - val_accuracy: 0.8578\n",
      "Epoch 121/200\n",
      "41/41 [==============================] - ETA: 0s - loss: 0.3032 - accuracy: 0.8857\n",
      "Epoch 121: val_loss did not improve from 0.35099\n",
      "41/41 [==============================] - 16s 383ms/step - loss: 0.3032 - accuracy: 0.8857 - val_loss: 0.3533 - val_accuracy: 0.8575\n",
      "Epoch 122/200\n",
      "41/41 [==============================] - ETA: 0s - loss: 0.3018 - accuracy: 0.8863\n",
      "Epoch 122: val_loss did not improve from 0.35099\n",
      "41/41 [==============================] - 14s 333ms/step - loss: 0.3018 - accuracy: 0.8863 - val_loss: 0.3531 - val_accuracy: 0.8573\n",
      "Epoch 123/200\n",
      "41/41 [==============================] - ETA: 0s - loss: 0.3037 - accuracy: 0.8856\n",
      "Epoch 123: val_loss improved from 0.35099 to 0.34649, saving model to ./model_weights2\\\n"
     ]
    },
    {
     "name": "stderr",
     "output_type": "stream",
     "text": [
      "WARNING:absl:Found untraced functions such as _jit_compiled_convolution_op, _jit_compiled_convolution_op, _jit_compiled_convolution_op, _jit_compiled_convolution_op, _jit_compiled_convolution_op while saving (showing 5 of 14). These functions will not be directly callable after loading.\n"
     ]
    },
    {
     "name": "stdout",
     "output_type": "stream",
     "text": [
      "INFO:tensorflow:Assets written to: ./model_weights2\\assets\n"
     ]
    },
    {
     "name": "stderr",
     "output_type": "stream",
     "text": [
      "INFO:tensorflow:Assets written to: ./model_weights2\\assets\n"
     ]
    },
    {
     "name": "stdout",
     "output_type": "stream",
     "text": [
      "41/41 [==============================] - 14s 355ms/step - loss: 0.3037 - accuracy: 0.8856 - val_loss: 0.3465 - val_accuracy: 0.8600\n",
      "Epoch 124/200\n",
      "41/41 [==============================] - ETA: 0s - loss: 0.2993 - accuracy: 0.8879\n",
      "Epoch 124: val_loss did not improve from 0.34649\n",
      "41/41 [==============================] - 11s 268ms/step - loss: 0.2993 - accuracy: 0.8879 - val_loss: 0.3499 - val_accuracy: 0.8590\n",
      "Epoch 125/200\n",
      "41/41 [==============================] - ETA: 0s - loss: 0.2965 - accuracy: 0.8892\n",
      "Epoch 125: val_loss did not improve from 0.34649\n",
      "41/41 [==============================] - 10s 254ms/step - loss: 0.2965 - accuracy: 0.8892 - val_loss: 0.3486 - val_accuracy: 0.8599\n",
      "Epoch 126/200\n",
      "41/41 [==============================] - ETA: 0s - loss: 0.2943 - accuracy: 0.8900\n",
      "Epoch 126: val_loss did not improve from 0.34649\n",
      "41/41 [==============================] - 11s 263ms/step - loss: 0.2943 - accuracy: 0.8900 - val_loss: 0.3469 - val_accuracy: 0.8606\n",
      "Epoch 127/200\n",
      "41/41 [==============================] - ETA: 0s - loss: 0.2938 - accuracy: 0.8906\n",
      "Epoch 127: val_loss did not improve from 0.34649\n",
      "41/41 [==============================] - 12s 290ms/step - loss: 0.2938 - accuracy: 0.8906 - val_loss: 0.3471 - val_accuracy: 0.8602\n",
      "Epoch 128/200\n",
      "41/41 [==============================] - ETA: 0s - loss: 0.2914 - accuracy: 0.8909\n",
      "Epoch 128: val_loss improved from 0.34649 to 0.34310, saving model to ./model_weights2\\\n"
     ]
    },
    {
     "name": "stderr",
     "output_type": "stream",
     "text": [
      "WARNING:absl:Found untraced functions such as _jit_compiled_convolution_op, _jit_compiled_convolution_op, _jit_compiled_convolution_op, _jit_compiled_convolution_op, _jit_compiled_convolution_op while saving (showing 5 of 14). These functions will not be directly callable after loading.\n"
     ]
    },
    {
     "name": "stdout",
     "output_type": "stream",
     "text": [
      "INFO:tensorflow:Assets written to: ./model_weights2\\assets\n"
     ]
    },
    {
     "name": "stderr",
     "output_type": "stream",
     "text": [
      "INFO:tensorflow:Assets written to: ./model_weights2\\assets\n"
     ]
    },
    {
     "name": "stdout",
     "output_type": "stream",
     "text": [
      "41/41 [==============================] - 18s 450ms/step - loss: 0.2914 - accuracy: 0.8909 - val_loss: 0.3431 - val_accuracy: 0.8621\n",
      "Epoch 129/200\n",
      "41/41 [==============================] - ETA: 0s - loss: 0.2914 - accuracy: 0.8909\n",
      "Epoch 129: val_loss did not improve from 0.34310\n",
      "41/41 [==============================] - 11s 256ms/step - loss: 0.2914 - accuracy: 0.8909 - val_loss: 0.3434 - val_accuracy: 0.8621\n",
      "Epoch 130/200\n",
      "41/41 [==============================] - ETA: 0s - loss: 0.2875 - accuracy: 0.8938\n",
      "Epoch 130: val_loss improved from 0.34310 to 0.34019, saving model to ./model_weights2\\\n"
     ]
    },
    {
     "name": "stderr",
     "output_type": "stream",
     "text": [
      "WARNING:absl:Found untraced functions such as _jit_compiled_convolution_op, _jit_compiled_convolution_op, _jit_compiled_convolution_op, _jit_compiled_convolution_op, _jit_compiled_convolution_op while saving (showing 5 of 14). These functions will not be directly callable after loading.\n"
     ]
    },
    {
     "name": "stdout",
     "output_type": "stream",
     "text": [
      "INFO:tensorflow:Assets written to: ./model_weights2\\assets\n"
     ]
    },
    {
     "name": "stderr",
     "output_type": "stream",
     "text": [
      "INFO:tensorflow:Assets written to: ./model_weights2\\assets\n"
     ]
    },
    {
     "name": "stdout",
     "output_type": "stream",
     "text": [
      "41/41 [==============================] - 18s 446ms/step - loss: 0.2875 - accuracy: 0.8938 - val_loss: 0.3402 - val_accuracy: 0.8633\n",
      "Epoch 131/200\n",
      "41/41 [==============================] - ETA: 0s - loss: 0.2861 - accuracy: 0.8935\n",
      "Epoch 131: val_loss did not improve from 0.34019\n",
      "41/41 [==============================] - 22s 543ms/step - loss: 0.2861 - accuracy: 0.8935 - val_loss: 0.3422 - val_accuracy: 0.8627\n",
      "Epoch 132/200\n",
      "41/41 [==============================] - ETA: 0s - loss: 0.2831 - accuracy: 0.8954\n",
      "Epoch 132: val_loss did not improve from 0.34019\n",
      "41/41 [==============================] - 19s 452ms/step - loss: 0.2831 - accuracy: 0.8954 - val_loss: 0.3421 - val_accuracy: 0.8628\n",
      "Epoch 133/200\n",
      "41/41 [==============================] - ETA: 0s - loss: 0.2825 - accuracy: 0.8957\n",
      "Epoch 133: val_loss improved from 0.34019 to 0.33689, saving model to ./model_weights2\\\n"
     ]
    },
    {
     "name": "stderr",
     "output_type": "stream",
     "text": [
      "WARNING:absl:Found untraced functions such as _jit_compiled_convolution_op, _jit_compiled_convolution_op, _jit_compiled_convolution_op, _jit_compiled_convolution_op, _jit_compiled_convolution_op while saving (showing 5 of 14). These functions will not be directly callable after loading.\n"
     ]
    },
    {
     "name": "stdout",
     "output_type": "stream",
     "text": [
      "INFO:tensorflow:Assets written to: ./model_weights2\\assets\n"
     ]
    },
    {
     "name": "stderr",
     "output_type": "stream",
     "text": [
      "INFO:tensorflow:Assets written to: ./model_weights2\\assets\n"
     ]
    },
    {
     "name": "stdout",
     "output_type": "stream",
     "text": [
      "41/41 [==============================] - 36s 883ms/step - loss: 0.2825 - accuracy: 0.8957 - val_loss: 0.3369 - val_accuracy: 0.8646\n",
      "Epoch 134/200\n",
      "41/41 [==============================] - ETA: 0s - loss: 0.2809 - accuracy: 0.8962\n",
      "Epoch 134: val_loss did not improve from 0.33689\n",
      "41/41 [==============================] - 25s 606ms/step - loss: 0.2809 - accuracy: 0.8962 - val_loss: 0.3387 - val_accuracy: 0.8643\n",
      "Epoch 135/200\n",
      "41/41 [==============================] - ETA: 0s - loss: 0.2786 - accuracy: 0.8973\n",
      "Epoch 135: val_loss improved from 0.33689 to 0.33513, saving model to ./model_weights2\\\n"
     ]
    },
    {
     "name": "stderr",
     "output_type": "stream",
     "text": [
      "WARNING:absl:Found untraced functions such as _jit_compiled_convolution_op, _jit_compiled_convolution_op, _jit_compiled_convolution_op, _jit_compiled_convolution_op, _jit_compiled_convolution_op while saving (showing 5 of 14). These functions will not be directly callable after loading.\n"
     ]
    },
    {
     "name": "stdout",
     "output_type": "stream",
     "text": [
      "INFO:tensorflow:Assets written to: ./model_weights2\\assets\n"
     ]
    },
    {
     "name": "stderr",
     "output_type": "stream",
     "text": [
      "INFO:tensorflow:Assets written to: ./model_weights2\\assets\n"
     ]
    },
    {
     "name": "stdout",
     "output_type": "stream",
     "text": [
      "41/41 [==============================] - 41s 1s/step - loss: 0.2786 - accuracy: 0.8973 - val_loss: 0.3351 - val_accuracy: 0.8658\n",
      "Epoch 136/200\n",
      "41/41 [==============================] - ETA: 0s - loss: 0.2767 - accuracy: 0.8982\n",
      "Epoch 136: val_loss did not improve from 0.33513\n",
      "41/41 [==============================] - 25s 612ms/step - loss: 0.2767 - accuracy: 0.8982 - val_loss: 0.3378 - val_accuracy: 0.8650\n",
      "Epoch 137/200\n",
      "41/41 [==============================] - ETA: 0s - loss: 0.2764 - accuracy: 0.8980\n",
      "Epoch 137: val_loss improved from 0.33513 to 0.33328, saving model to ./model_weights2\\\n"
     ]
    },
    {
     "name": "stderr",
     "output_type": "stream",
     "text": [
      "WARNING:absl:Found untraced functions such as _jit_compiled_convolution_op, _jit_compiled_convolution_op, _jit_compiled_convolution_op, _jit_compiled_convolution_op, _jit_compiled_convolution_op while saving (showing 5 of 14). These functions will not be directly callable after loading.\n"
     ]
    },
    {
     "name": "stdout",
     "output_type": "stream",
     "text": [
      "INFO:tensorflow:Assets written to: ./model_weights2\\assets\n"
     ]
    },
    {
     "name": "stderr",
     "output_type": "stream",
     "text": [
      "INFO:tensorflow:Assets written to: ./model_weights2\\assets\n"
     ]
    },
    {
     "name": "stdout",
     "output_type": "stream",
     "text": [
      "41/41 [==============================] - 35s 850ms/step - loss: 0.2764 - accuracy: 0.8980 - val_loss: 0.3333 - val_accuracy: 0.8662\n",
      "Epoch 138/200\n",
      "41/41 [==============================] - ETA: 0s - loss: 0.2754 - accuracy: 0.8980\n",
      "Epoch 138: val_loss improved from 0.33328 to 0.33309, saving model to ./model_weights2\\\n"
     ]
    },
    {
     "name": "stderr",
     "output_type": "stream",
     "text": [
      "WARNING:absl:Found untraced functions such as _jit_compiled_convolution_op, _jit_compiled_convolution_op, _jit_compiled_convolution_op, _jit_compiled_convolution_op, _jit_compiled_convolution_op while saving (showing 5 of 14). These functions will not be directly callable after loading.\n"
     ]
    },
    {
     "name": "stdout",
     "output_type": "stream",
     "text": [
      "INFO:tensorflow:Assets written to: ./model_weights2\\assets\n"
     ]
    },
    {
     "name": "stderr",
     "output_type": "stream",
     "text": [
      "INFO:tensorflow:Assets written to: ./model_weights2\\assets\n"
     ]
    },
    {
     "name": "stdout",
     "output_type": "stream",
     "text": [
      "41/41 [==============================] - 36s 878ms/step - loss: 0.2754 - accuracy: 0.8980 - val_loss: 0.3331 - val_accuracy: 0.8668\n",
      "Epoch 139/200\n",
      "41/41 [==============================] - ETA: 0s - loss: 0.2740 - accuracy: 0.8993\n",
      "Epoch 139: val_loss did not improve from 0.33309\n",
      "41/41 [==============================] - 24s 567ms/step - loss: 0.2740 - accuracy: 0.8993 - val_loss: 0.3344 - val_accuracy: 0.8665\n",
      "Epoch 140/200\n",
      "41/41 [==============================] - ETA: 0s - loss: 0.2714 - accuracy: 0.9013\n",
      "Epoch 140: val_loss improved from 0.33309 to 0.33158, saving model to ./model_weights2\\\n"
     ]
    },
    {
     "name": "stderr",
     "output_type": "stream",
     "text": [
      "WARNING:absl:Found untraced functions such as _jit_compiled_convolution_op, _jit_compiled_convolution_op, _jit_compiled_convolution_op, _jit_compiled_convolution_op, _jit_compiled_convolution_op while saving (showing 5 of 14). These functions will not be directly callable after loading.\n"
     ]
    },
    {
     "name": "stdout",
     "output_type": "stream",
     "text": [
      "INFO:tensorflow:Assets written to: ./model_weights2\\assets\n"
     ]
    },
    {
     "name": "stderr",
     "output_type": "stream",
     "text": [
      "INFO:tensorflow:Assets written to: ./model_weights2\\assets\n"
     ]
    },
    {
     "name": "stdout",
     "output_type": "stream",
     "text": [
      "41/41 [==============================] - 34s 827ms/step - loss: 0.2714 - accuracy: 0.9013 - val_loss: 0.3316 - val_accuracy: 0.8673\n",
      "Epoch 141/200\n",
      "41/41 [==============================] - ETA: 0s - loss: 0.2693 - accuracy: 0.9014\n",
      "Epoch 141: val_loss did not improve from 0.33158\n",
      "41/41 [==============================] - 19s 469ms/step - loss: 0.2693 - accuracy: 0.9014 - val_loss: 0.3329 - val_accuracy: 0.8671\n",
      "Epoch 142/200\n",
      "41/41 [==============================] - ETA: 0s - loss: 0.2683 - accuracy: 0.9016\n",
      "Epoch 142: val_loss improved from 0.33158 to 0.32631, saving model to ./model_weights2\\\n"
     ]
    },
    {
     "name": "stderr",
     "output_type": "stream",
     "text": [
      "WARNING:absl:Found untraced functions such as _jit_compiled_convolution_op, _jit_compiled_convolution_op, _jit_compiled_convolution_op, _jit_compiled_convolution_op, _jit_compiled_convolution_op while saving (showing 5 of 14). These functions will not be directly callable after loading.\n"
     ]
    },
    {
     "name": "stdout",
     "output_type": "stream",
     "text": [
      "INFO:tensorflow:Assets written to: ./model_weights2\\assets\n"
     ]
    },
    {
     "name": "stderr",
     "output_type": "stream",
     "text": [
      "INFO:tensorflow:Assets written to: ./model_weights2\\assets\n"
     ]
    },
    {
     "name": "stdout",
     "output_type": "stream",
     "text": [
      "41/41 [==============================] - 27s 672ms/step - loss: 0.2683 - accuracy: 0.9016 - val_loss: 0.3263 - val_accuracy: 0.8685\n",
      "Epoch 143/200\n",
      "41/41 [==============================] - ETA: 0s - loss: 0.2648 - accuracy: 0.9034\n",
      "Epoch 143: val_loss did not improve from 0.32631\n",
      "41/41 [==============================] - 15s 372ms/step - loss: 0.2648 - accuracy: 0.9034 - val_loss: 0.3319 - val_accuracy: 0.8678\n",
      "Epoch 144/200\n",
      "41/41 [==============================] - ETA: 0s - loss: 0.2635 - accuracy: 0.9038\n",
      "Epoch 144: val_loss did not improve from 0.32631\n",
      "41/41 [==============================] - 24s 596ms/step - loss: 0.2635 - accuracy: 0.9038 - val_loss: 0.3304 - val_accuracy: 0.8685\n",
      "Epoch 145/200\n",
      "41/41 [==============================] - ETA: 0s - loss: 0.2637 - accuracy: 0.9041\n",
      "Epoch 145: val_loss did not improve from 0.32631\n",
      "41/41 [==============================] - 25s 618ms/step - loss: 0.2637 - accuracy: 0.9041 - val_loss: 0.3281 - val_accuracy: 0.8693\n",
      "Epoch 146/200\n",
      "41/41 [==============================] - ETA: 0s - loss: 0.2641 - accuracy: 0.9035\n",
      "Epoch 146: val_loss did not improve from 0.32631\n",
      "41/41 [==============================] - 26s 626ms/step - loss: 0.2641 - accuracy: 0.9035 - val_loss: 0.3263 - val_accuracy: 0.8700\n",
      "Epoch 147/200\n",
      "41/41 [==============================] - ETA: 0s - loss: 0.2625 - accuracy: 0.9045\n",
      "Epoch 147: val_loss did not improve from 0.32631\n",
      "41/41 [==============================] - 25s 622ms/step - loss: 0.2625 - accuracy: 0.9045 - val_loss: 0.3272 - val_accuracy: 0.8698\n",
      "Epoch 148/200\n",
      "41/41 [==============================] - ETA: 0s - loss: 0.2582 - accuracy: 0.9063\n",
      "Epoch 148: val_loss improved from 0.32631 to 0.32148, saving model to ./model_weights2\\\n"
     ]
    },
    {
     "name": "stderr",
     "output_type": "stream",
     "text": [
      "WARNING:absl:Found untraced functions such as _jit_compiled_convolution_op, _jit_compiled_convolution_op, _jit_compiled_convolution_op, _jit_compiled_convolution_op, _jit_compiled_convolution_op while saving (showing 5 of 14). These functions will not be directly callable after loading.\n"
     ]
    },
    {
     "name": "stdout",
     "output_type": "stream",
     "text": [
      "INFO:tensorflow:Assets written to: ./model_weights2\\assets\n"
     ]
    },
    {
     "name": "stderr",
     "output_type": "stream",
     "text": [
      "INFO:tensorflow:Assets written to: ./model_weights2\\assets\n"
     ]
    },
    {
     "name": "stdout",
     "output_type": "stream",
     "text": [
      "41/41 [==============================] - 28s 678ms/step - loss: 0.2582 - accuracy: 0.9063 - val_loss: 0.3215 - val_accuracy: 0.8707\n",
      "Epoch 149/200\n",
      "41/41 [==============================] - ETA: 0s - loss: 0.2588 - accuracy: 0.9058\n",
      "Epoch 149: val_loss did not improve from 0.32148\n",
      "41/41 [==============================] - 21s 495ms/step - loss: 0.2588 - accuracy: 0.9058 - val_loss: 0.3241 - val_accuracy: 0.8704\n",
      "Epoch 150/200\n",
      "41/41 [==============================] - ETA: 0s - loss: 0.2572 - accuracy: 0.9065\n",
      "Epoch 150: val_loss did not improve from 0.32148\n",
      "41/41 [==============================] - 20s 499ms/step - loss: 0.2572 - accuracy: 0.9065 - val_loss: 0.3256 - val_accuracy: 0.8703\n",
      "Epoch 151/200\n",
      "41/41 [==============================] - ETA: 0s - loss: 0.2541 - accuracy: 0.9079\n",
      "Epoch 151: val_loss did not improve from 0.32148\n",
      "41/41 [==============================] - 24s 578ms/step - loss: 0.2541 - accuracy: 0.9079 - val_loss: 0.3221 - val_accuracy: 0.8710\n",
      "Epoch 152/200\n",
      "41/41 [==============================] - ETA: 0s - loss: 0.2524 - accuracy: 0.9087\n",
      "Epoch 152: val_loss did not improve from 0.32148\n",
      "41/41 [==============================] - 25s 601ms/step - loss: 0.2524 - accuracy: 0.9087 - val_loss: 0.3247 - val_accuracy: 0.8705\n",
      "Epoch 153/200\n",
      "41/41 [==============================] - ETA: 0s - loss: 0.2545 - accuracy: 0.9076\n",
      "Epoch 153: val_loss improved from 0.32148 to 0.31927, saving model to ./model_weights2\\\n"
     ]
    },
    {
     "name": "stderr",
     "output_type": "stream",
     "text": [
      "WARNING:absl:Found untraced functions such as _jit_compiled_convolution_op, _jit_compiled_convolution_op, _jit_compiled_convolution_op, _jit_compiled_convolution_op, _jit_compiled_convolution_op while saving (showing 5 of 14). These functions will not be directly callable after loading.\n"
     ]
    },
    {
     "name": "stdout",
     "output_type": "stream",
     "text": [
      "INFO:tensorflow:Assets written to: ./model_weights2\\assets\n"
     ]
    },
    {
     "name": "stderr",
     "output_type": "stream",
     "text": [
      "INFO:tensorflow:Assets written to: ./model_weights2\\assets\n"
     ]
    },
    {
     "name": "stdout",
     "output_type": "stream",
     "text": [
      "41/41 [==============================] - 36s 886ms/step - loss: 0.2545 - accuracy: 0.9076 - val_loss: 0.3193 - val_accuracy: 0.8720\n",
      "Epoch 154/200\n",
      "41/41 [==============================] - ETA: 0s - loss: 0.2500 - accuracy: 0.9095\n",
      "Epoch 154: val_loss did not improve from 0.31927\n",
      "41/41 [==============================] - 25s 602ms/step - loss: 0.2500 - accuracy: 0.9095 - val_loss: 0.3244 - val_accuracy: 0.8711\n",
      "Epoch 155/200\n",
      "41/41 [==============================] - ETA: 0s - loss: 0.2486 - accuracy: 0.9105\n",
      "Epoch 155: val_loss did not improve from 0.31927\n",
      "41/41 [==============================] - 17s 412ms/step - loss: 0.2486 - accuracy: 0.9105 - val_loss: 0.3217 - val_accuracy: 0.8716\n",
      "Epoch 156/200\n",
      "41/41 [==============================] - ETA: 0s - loss: 0.2490 - accuracy: 0.9097\n",
      "Epoch 156: val_loss did not improve from 0.31927\n",
      "41/41 [==============================] - 15s 359ms/step - loss: 0.2490 - accuracy: 0.9097 - val_loss: 0.3229 - val_accuracy: 0.8719\n",
      "Epoch 157/200\n",
      "41/41 [==============================] - ETA: 0s - loss: 0.2460 - accuracy: 0.9112\n",
      "Epoch 157: val_loss improved from 0.31927 to 0.31778, saving model to ./model_weights2\\\n"
     ]
    },
    {
     "name": "stderr",
     "output_type": "stream",
     "text": [
      "WARNING:absl:Found untraced functions such as _jit_compiled_convolution_op, _jit_compiled_convolution_op, _jit_compiled_convolution_op, _jit_compiled_convolution_op, _jit_compiled_convolution_op while saving (showing 5 of 14). These functions will not be directly callable after loading.\n"
     ]
    },
    {
     "name": "stdout",
     "output_type": "stream",
     "text": [
      "INFO:tensorflow:Assets written to: ./model_weights2\\assets\n"
     ]
    },
    {
     "name": "stderr",
     "output_type": "stream",
     "text": [
      "INFO:tensorflow:Assets written to: ./model_weights2\\assets\n"
     ]
    },
    {
     "name": "stdout",
     "output_type": "stream",
     "text": [
      "41/41 [==============================] - 21s 527ms/step - loss: 0.2460 - accuracy: 0.9112 - val_loss: 0.3178 - val_accuracy: 0.8732\n",
      "Epoch 158/200\n",
      "41/41 [==============================] - ETA: 0s - loss: 0.2476 - accuracy: 0.9103\n",
      "Epoch 158: val_loss did not improve from 0.31778\n",
      "41/41 [==============================] - 22s 544ms/step - loss: 0.2476 - accuracy: 0.9103 - val_loss: 0.3182 - val_accuracy: 0.8728\n",
      "Epoch 159/200\n",
      "41/41 [==============================] - ETA: 0s - loss: 0.2437 - accuracy: 0.9123\n",
      "Epoch 159: val_loss did not improve from 0.31778\n",
      "41/41 [==============================] - 24s 599ms/step - loss: 0.2437 - accuracy: 0.9123 - val_loss: 0.3196 - val_accuracy: 0.8729\n",
      "Epoch 160/200\n",
      "41/41 [==============================] - ETA: 0s - loss: 0.2442 - accuracy: 0.9122\n",
      "Epoch 160: val_loss did not improve from 0.31778\n",
      "41/41 [==============================] - 22s 540ms/step - loss: 0.2442 - accuracy: 0.9122 - val_loss: 0.3195 - val_accuracy: 0.8734\n",
      "Epoch 161/200\n",
      "41/41 [==============================] - ETA: 0s - loss: 0.2431 - accuracy: 0.9125\n",
      "Epoch 161: val_loss did not improve from 0.31778\n",
      "41/41 [==============================] - 17s 421ms/step - loss: 0.2431 - accuracy: 0.9125 - val_loss: 0.3195 - val_accuracy: 0.8732\n",
      "Epoch 162/200\n",
      "41/41 [==============================] - ETA: 0s - loss: 0.2398 - accuracy: 0.9139\n",
      "Epoch 162: val_loss improved from 0.31778 to 0.31650, saving model to ./model_weights2\\\n"
     ]
    },
    {
     "name": "stderr",
     "output_type": "stream",
     "text": [
      "WARNING:absl:Found untraced functions such as _jit_compiled_convolution_op, _jit_compiled_convolution_op, _jit_compiled_convolution_op, _jit_compiled_convolution_op, _jit_compiled_convolution_op while saving (showing 5 of 14). These functions will not be directly callable after loading.\n"
     ]
    },
    {
     "name": "stdout",
     "output_type": "stream",
     "text": [
      "INFO:tensorflow:Assets written to: ./model_weights2\\assets\n"
     ]
    },
    {
     "name": "stderr",
     "output_type": "stream",
     "text": [
      "INFO:tensorflow:Assets written to: ./model_weights2\\assets\n"
     ]
    },
    {
     "name": "stdout",
     "output_type": "stream",
     "text": [
      "41/41 [==============================] - 29s 706ms/step - loss: 0.2398 - accuracy: 0.9139 - val_loss: 0.3165 - val_accuracy: 0.8737\n",
      "Epoch 163/200\n",
      "41/41 [==============================] - ETA: 0s - loss: 0.2391 - accuracy: 0.9141\n",
      "Epoch 163: val_loss did not improve from 0.31650\n",
      "41/41 [==============================] - 18s 427ms/step - loss: 0.2391 - accuracy: 0.9141 - val_loss: 0.3204 - val_accuracy: 0.8737\n",
      "Epoch 164/200\n",
      "41/41 [==============================] - ETA: 0s - loss: 0.2363 - accuracy: 0.9150\n",
      "Epoch 164: val_loss improved from 0.31650 to 0.31603, saving model to ./model_weights2\\\n"
     ]
    },
    {
     "name": "stderr",
     "output_type": "stream",
     "text": [
      "WARNING:absl:Found untraced functions such as _jit_compiled_convolution_op, _jit_compiled_convolution_op, _jit_compiled_convolution_op, _jit_compiled_convolution_op, _jit_compiled_convolution_op while saving (showing 5 of 14). These functions will not be directly callable after loading.\n"
     ]
    },
    {
     "name": "stdout",
     "output_type": "stream",
     "text": [
      "INFO:tensorflow:Assets written to: ./model_weights2\\assets\n"
     ]
    },
    {
     "name": "stderr",
     "output_type": "stream",
     "text": [
      "INFO:tensorflow:Assets written to: ./model_weights2\\assets\n"
     ]
    },
    {
     "name": "stdout",
     "output_type": "stream",
     "text": [
      "41/41 [==============================] - 26s 649ms/step - loss: 0.2363 - accuracy: 0.9150 - val_loss: 0.3160 - val_accuracy: 0.8742\n",
      "Epoch 165/200\n",
      "41/41 [==============================] - ETA: 0s - loss: 0.2359 - accuracy: 0.9155\n",
      "Epoch 165: val_loss improved from 0.31603 to 0.31347, saving model to ./model_weights2\\\n"
     ]
    },
    {
     "name": "stderr",
     "output_type": "stream",
     "text": [
      "WARNING:absl:Found untraced functions such as _jit_compiled_convolution_op, _jit_compiled_convolution_op, _jit_compiled_convolution_op, _jit_compiled_convolution_op, _jit_compiled_convolution_op while saving (showing 5 of 14). These functions will not be directly callable after loading.\n"
     ]
    },
    {
     "name": "stdout",
     "output_type": "stream",
     "text": [
      "INFO:tensorflow:Assets written to: ./model_weights2\\assets\n"
     ]
    },
    {
     "name": "stderr",
     "output_type": "stream",
     "text": [
      "INFO:tensorflow:Assets written to: ./model_weights2\\assets\n"
     ]
    },
    {
     "name": "stdout",
     "output_type": "stream",
     "text": [
      "41/41 [==============================] - 28s 687ms/step - loss: 0.2359 - accuracy: 0.9155 - val_loss: 0.3135 - val_accuracy: 0.8749\n",
      "Epoch 166/200\n",
      "41/41 [==============================] - ETA: 0s - loss: 0.2346 - accuracy: 0.9161\n",
      "Epoch 166: val_loss did not improve from 0.31347\n",
      "41/41 [==============================] - 18s 439ms/step - loss: 0.2346 - accuracy: 0.9161 - val_loss: 0.3189 - val_accuracy: 0.8744\n",
      "Epoch 167/200\n",
      "41/41 [==============================] - ETA: 0s - loss: 0.2341 - accuracy: 0.9160\n",
      "Epoch 167: val_loss improved from 0.31347 to 0.31216, saving model to ./model_weights2\\\n"
     ]
    },
    {
     "name": "stderr",
     "output_type": "stream",
     "text": [
      "WARNING:absl:Found untraced functions such as _jit_compiled_convolution_op, _jit_compiled_convolution_op, _jit_compiled_convolution_op, _jit_compiled_convolution_op, _jit_compiled_convolution_op while saving (showing 5 of 14). These functions will not be directly callable after loading.\n"
     ]
    },
    {
     "name": "stdout",
     "output_type": "stream",
     "text": [
      "INFO:tensorflow:Assets written to: ./model_weights2\\assets\n"
     ]
    },
    {
     "name": "stderr",
     "output_type": "stream",
     "text": [
      "INFO:tensorflow:Assets written to: ./model_weights2\\assets\n"
     ]
    },
    {
     "name": "stdout",
     "output_type": "stream",
     "text": [
      "41/41 [==============================] - 27s 654ms/step - loss: 0.2341 - accuracy: 0.9160 - val_loss: 0.3122 - val_accuracy: 0.8752\n",
      "Epoch 168/200\n",
      "41/41 [==============================] - ETA: 0s - loss: 0.2324 - accuracy: 0.9168\n",
      "Epoch 168: val_loss improved from 0.31216 to 0.31092, saving model to ./model_weights2\\\n"
     ]
    },
    {
     "name": "stderr",
     "output_type": "stream",
     "text": [
      "WARNING:absl:Found untraced functions such as _jit_compiled_convolution_op, _jit_compiled_convolution_op, _jit_compiled_convolution_op, _jit_compiled_convolution_op, _jit_compiled_convolution_op while saving (showing 5 of 14). These functions will not be directly callable after loading.\n"
     ]
    },
    {
     "name": "stdout",
     "output_type": "stream",
     "text": [
      "INFO:tensorflow:Assets written to: ./model_weights2\\assets\n"
     ]
    },
    {
     "name": "stderr",
     "output_type": "stream",
     "text": [
      "INFO:tensorflow:Assets written to: ./model_weights2\\assets\n"
     ]
    },
    {
     "name": "stdout",
     "output_type": "stream",
     "text": [
      "41/41 [==============================] - 20s 491ms/step - loss: 0.2324 - accuracy: 0.9168 - val_loss: 0.3109 - val_accuracy: 0.8759\n",
      "Epoch 169/200\n",
      "41/41 [==============================] - ETA: 0s - loss: 0.2321 - accuracy: 0.9164\n",
      "Epoch 169: val_loss did not improve from 0.31092\n",
      "41/41 [==============================] - 21s 514ms/step - loss: 0.2321 - accuracy: 0.9164 - val_loss: 0.3116 - val_accuracy: 0.8758\n",
      "Epoch 170/200\n",
      "41/41 [==============================] - ETA: 0s - loss: 0.2306 - accuracy: 0.9176\n",
      "Epoch 170: val_loss did not improve from 0.31092\n",
      "41/41 [==============================] - 25s 603ms/step - loss: 0.2306 - accuracy: 0.9176 - val_loss: 0.3110 - val_accuracy: 0.8763\n",
      "Epoch 171/200\n",
      "41/41 [==============================] - ETA: 0s - loss: 0.2285 - accuracy: 0.9187\n",
      "Epoch 171: val_loss did not improve from 0.31092\n",
      "41/41 [==============================] - 25s 615ms/step - loss: 0.2285 - accuracy: 0.9187 - val_loss: 0.3142 - val_accuracy: 0.8757\n",
      "Epoch 172/200\n",
      "41/41 [==============================] - ETA: 0s - loss: 0.2297 - accuracy: 0.9178\n",
      "Epoch 172: val_loss improved from 0.31092 to 0.30983, saving model to ./model_weights2\\\n"
     ]
    },
    {
     "name": "stderr",
     "output_type": "stream",
     "text": [
      "WARNING:absl:Found untraced functions such as _jit_compiled_convolution_op, _jit_compiled_convolution_op, _jit_compiled_convolution_op, _jit_compiled_convolution_op, _jit_compiled_convolution_op while saving (showing 5 of 14). These functions will not be directly callable after loading.\n"
     ]
    },
    {
     "name": "stdout",
     "output_type": "stream",
     "text": [
      "INFO:tensorflow:Assets written to: ./model_weights2\\assets\n"
     ]
    },
    {
     "name": "stderr",
     "output_type": "stream",
     "text": [
      "INFO:tensorflow:Assets written to: ./model_weights2\\assets\n"
     ]
    },
    {
     "name": "stdout",
     "output_type": "stream",
     "text": [
      "41/41 [==============================] - 36s 886ms/step - loss: 0.2297 - accuracy: 0.9178 - val_loss: 0.3098 - val_accuracy: 0.8764\n",
      "Epoch 173/200\n",
      "41/41 [==============================] - ETA: 0s - loss: 0.2267 - accuracy: 0.9193\n",
      "Epoch 173: val_loss did not improve from 0.30983\n",
      "41/41 [==============================] - 27s 662ms/step - loss: 0.2267 - accuracy: 0.9193 - val_loss: 0.3122 - val_accuracy: 0.8762\n",
      "Epoch 174/200\n",
      "41/41 [==============================] - ETA: 0s - loss: 0.2251 - accuracy: 0.9202\n",
      "Epoch 174: val_loss did not improve from 0.30983\n",
      "41/41 [==============================] - 24s 576ms/step - loss: 0.2251 - accuracy: 0.9202 - val_loss: 0.3134 - val_accuracy: 0.8766\n",
      "Epoch 175/200\n",
      "41/41 [==============================] - ETA: 0s - loss: 0.2255 - accuracy: 0.9198\n",
      "Epoch 175: val_loss improved from 0.30983 to 0.30762, saving model to ./model_weights2\\\n"
     ]
    },
    {
     "name": "stderr",
     "output_type": "stream",
     "text": [
      "WARNING:absl:Found untraced functions such as _jit_compiled_convolution_op, _jit_compiled_convolution_op, _jit_compiled_convolution_op, _jit_compiled_convolution_op, _jit_compiled_convolution_op while saving (showing 5 of 14). These functions will not be directly callable after loading.\n"
     ]
    },
    {
     "name": "stdout",
     "output_type": "stream",
     "text": [
      "INFO:tensorflow:Assets written to: ./model_weights2\\assets\n"
     ]
    },
    {
     "name": "stderr",
     "output_type": "stream",
     "text": [
      "INFO:tensorflow:Assets written to: ./model_weights2\\assets\n"
     ]
    },
    {
     "name": "stdout",
     "output_type": "stream",
     "text": [
      "41/41 [==============================] - 39s 959ms/step - loss: 0.2255 - accuracy: 0.9198 - val_loss: 0.3076 - val_accuracy: 0.8774\n",
      "Epoch 176/200\n",
      "41/41 [==============================] - ETA: 0s - loss: 0.2230 - accuracy: 0.9209\n",
      "Epoch 176: val_loss did not improve from 0.30762\n",
      "41/41 [==============================] - 25s 615ms/step - loss: 0.2230 - accuracy: 0.9209 - val_loss: 0.3120 - val_accuracy: 0.8770\n",
      "Epoch 177/200\n",
      "41/41 [==============================] - ETA: 0s - loss: 0.2232 - accuracy: 0.9203\n",
      "Epoch 177: val_loss improved from 0.30762 to 0.30741, saving model to ./model_weights2\\\n"
     ]
    },
    {
     "name": "stderr",
     "output_type": "stream",
     "text": [
      "WARNING:absl:Found untraced functions such as _jit_compiled_convolution_op, _jit_compiled_convolution_op, _jit_compiled_convolution_op, _jit_compiled_convolution_op, _jit_compiled_convolution_op while saving (showing 5 of 14). These functions will not be directly callable after loading.\n"
     ]
    },
    {
     "name": "stdout",
     "output_type": "stream",
     "text": [
      "INFO:tensorflow:Assets written to: ./model_weights2\\assets\n"
     ]
    },
    {
     "name": "stderr",
     "output_type": "stream",
     "text": [
      "INFO:tensorflow:Assets written to: ./model_weights2\\assets\n"
     ]
    },
    {
     "name": "stdout",
     "output_type": "stream",
     "text": [
      "41/41 [==============================] - 37s 903ms/step - loss: 0.2232 - accuracy: 0.9203 - val_loss: 0.3074 - val_accuracy: 0.8779\n",
      "Epoch 178/200\n",
      "41/41 [==============================] - ETA: 0s - loss: 0.2216 - accuracy: 0.9208\n",
      "Epoch 178: val_loss did not improve from 0.30741\n",
      "41/41 [==============================] - 25s 610ms/step - loss: 0.2216 - accuracy: 0.9208 - val_loss: 0.3076 - val_accuracy: 0.8779\n",
      "Epoch 179/200\n",
      "41/41 [==============================] - ETA: 0s - loss: 0.2225 - accuracy: 0.9208\n",
      "Epoch 179: val_loss did not improve from 0.30741\n",
      "41/41 [==============================] - 26s 632ms/step - loss: 0.2225 - accuracy: 0.9208 - val_loss: 0.3079 - val_accuracy: 0.8777\n",
      "Epoch 180/200\n",
      "41/41 [==============================] - ETA: 0s - loss: 0.2184 - accuracy: 0.9226\n",
      "Epoch 180: val_loss did not improve from 0.30741\n",
      "41/41 [==============================] - 25s 616ms/step - loss: 0.2184 - accuracy: 0.9226 - val_loss: 0.3076 - val_accuracy: 0.8782\n",
      "Epoch 181/200\n",
      "41/41 [==============================] - ETA: 0s - loss: 0.2158 - accuracy: 0.9234\n",
      "Epoch 181: val_loss did not improve from 0.30741\n",
      "41/41 [==============================] - 23s 558ms/step - loss: 0.2158 - accuracy: 0.9234 - val_loss: 0.3082 - val_accuracy: 0.8784\n",
      "Epoch 182/200\n",
      "41/41 [==============================] - ETA: 0s - loss: 0.2169 - accuracy: 0.9231\n",
      "Epoch 182: val_loss improved from 0.30741 to 0.30727, saving model to ./model_weights2\\\n"
     ]
    },
    {
     "name": "stderr",
     "output_type": "stream",
     "text": [
      "WARNING:absl:Found untraced functions such as _jit_compiled_convolution_op, _jit_compiled_convolution_op, _jit_compiled_convolution_op, _jit_compiled_convolution_op, _jit_compiled_convolution_op while saving (showing 5 of 14). These functions will not be directly callable after loading.\n"
     ]
    },
    {
     "name": "stdout",
     "output_type": "stream",
     "text": [
      "INFO:tensorflow:Assets written to: ./model_weights2\\assets\n"
     ]
    },
    {
     "name": "stderr",
     "output_type": "stream",
     "text": [
      "INFO:tensorflow:Assets written to: ./model_weights2\\assets\n"
     ]
    },
    {
     "name": "stdout",
     "output_type": "stream",
     "text": [
      "41/41 [==============================] - 35s 872ms/step - loss: 0.2169 - accuracy: 0.9231 - val_loss: 0.3073 - val_accuracy: 0.8782\n",
      "Epoch 183/200\n",
      "41/41 [==============================] - ETA: 0s - loss: 0.2158 - accuracy: 0.9234\n",
      "Epoch 183: val_loss improved from 0.30727 to 0.30554, saving model to ./model_weights2\\\n"
     ]
    },
    {
     "name": "stderr",
     "output_type": "stream",
     "text": [
      "WARNING:absl:Found untraced functions such as _jit_compiled_convolution_op, _jit_compiled_convolution_op, _jit_compiled_convolution_op, _jit_compiled_convolution_op, _jit_compiled_convolution_op while saving (showing 5 of 14). These functions will not be directly callable after loading.\n"
     ]
    },
    {
     "name": "stdout",
     "output_type": "stream",
     "text": [
      "INFO:tensorflow:Assets written to: ./model_weights2\\assets\n"
     ]
    },
    {
     "name": "stderr",
     "output_type": "stream",
     "text": [
      "INFO:tensorflow:Assets written to: ./model_weights2\\assets\n"
     ]
    },
    {
     "name": "stdout",
     "output_type": "stream",
     "text": [
      "41/41 [==============================] - 32s 797ms/step - loss: 0.2158 - accuracy: 0.9234 - val_loss: 0.3055 - val_accuracy: 0.8787\n",
      "Epoch 184/200\n",
      "41/41 [==============================] - ETA: 0s - loss: 0.2143 - accuracy: 0.9241\n",
      "Epoch 184: val_loss did not improve from 0.30554\n",
      "41/41 [==============================] - 21s 513ms/step - loss: 0.2143 - accuracy: 0.9241 - val_loss: 0.3070 - val_accuracy: 0.8788\n",
      "Epoch 185/200\n",
      "41/41 [==============================] - ETA: 0s - loss: 0.2128 - accuracy: 0.9244\n",
      "Epoch 185: val_loss did not improve from 0.30554\n",
      "41/41 [==============================] - 21s 509ms/step - loss: 0.2128 - accuracy: 0.9244 - val_loss: 0.3077 - val_accuracy: 0.8791\n",
      "Epoch 186/200\n",
      "41/41 [==============================] - ETA: 0s - loss: 0.2133 - accuracy: 0.9239\n",
      "Epoch 186: val_loss improved from 0.30554 to 0.30363, saving model to ./model_weights2\\\n"
     ]
    },
    {
     "name": "stderr",
     "output_type": "stream",
     "text": [
      "WARNING:absl:Found untraced functions such as _jit_compiled_convolution_op, _jit_compiled_convolution_op, _jit_compiled_convolution_op, _jit_compiled_convolution_op, _jit_compiled_convolution_op while saving (showing 5 of 14). These functions will not be directly callable after loading.\n"
     ]
    },
    {
     "name": "stdout",
     "output_type": "stream",
     "text": [
      "INFO:tensorflow:Assets written to: ./model_weights2\\assets\n"
     ]
    },
    {
     "name": "stderr",
     "output_type": "stream",
     "text": [
      "INFO:tensorflow:Assets written to: ./model_weights2\\assets\n"
     ]
    },
    {
     "name": "stdout",
     "output_type": "stream",
     "text": [
      "41/41 [==============================] - 27s 658ms/step - loss: 0.2133 - accuracy: 0.9239 - val_loss: 0.3036 - val_accuracy: 0.8792\n",
      "Epoch 187/200\n",
      "41/41 [==============================] - ETA: 0s - loss: 0.2132 - accuracy: 0.9248\n",
      "Epoch 187: val_loss did not improve from 0.30363\n",
      "41/41 [==============================] - 18s 444ms/step - loss: 0.2132 - accuracy: 0.9248 - val_loss: 0.3059 - val_accuracy: 0.8794\n",
      "Epoch 188/200\n",
      "41/41 [==============================] - ETA: 0s - loss: 0.2116 - accuracy: 0.9252\n",
      "Epoch 188: val_loss did not improve from 0.30363\n",
      "41/41 [==============================] - 18s 444ms/step - loss: 0.2116 - accuracy: 0.9252 - val_loss: 0.3061 - val_accuracy: 0.8798\n",
      "Epoch 189/200\n",
      "41/41 [==============================] - ETA: 0s - loss: 0.2102 - accuracy: 0.9258\n",
      "Epoch 189: val_loss did not improve from 0.30363\n",
      "41/41 [==============================] - 18s 437ms/step - loss: 0.2102 - accuracy: 0.9258 - val_loss: 0.3052 - val_accuracy: 0.8800\n",
      "Epoch 190/200\n",
      "41/41 [==============================] - ETA: 0s - loss: 0.2091 - accuracy: 0.9264\n",
      "Epoch 190: val_loss improved from 0.30363 to 0.30213, saving model to ./model_weights2\\\n"
     ]
    },
    {
     "name": "stderr",
     "output_type": "stream",
     "text": [
      "WARNING:absl:Found untraced functions such as _jit_compiled_convolution_op, _jit_compiled_convolution_op, _jit_compiled_convolution_op, _jit_compiled_convolution_op, _jit_compiled_convolution_op while saving (showing 5 of 14). These functions will not be directly callable after loading.\n"
     ]
    },
    {
     "name": "stdout",
     "output_type": "stream",
     "text": [
      "INFO:tensorflow:Assets written to: ./model_weights2\\assets\n"
     ]
    },
    {
     "name": "stderr",
     "output_type": "stream",
     "text": [
      "INFO:tensorflow:Assets written to: ./model_weights2\\assets\n"
     ]
    },
    {
     "name": "stdout",
     "output_type": "stream",
     "text": [
      "41/41 [==============================] - 27s 653ms/step - loss: 0.2091 - accuracy: 0.9264 - val_loss: 0.3021 - val_accuracy: 0.8809\n",
      "Epoch 191/200\n",
      "41/41 [==============================] - ETA: 0s - loss: 0.2077 - accuracy: 0.9267\n",
      "Epoch 191: val_loss did not improve from 0.30213\n",
      "41/41 [==============================] - 19s 468ms/step - loss: 0.2077 - accuracy: 0.9267 - val_loss: 0.3067 - val_accuracy: 0.8801\n",
      "Epoch 192/200\n",
      "41/41 [==============================] - ETA: 0s - loss: 0.2053 - accuracy: 0.9276\n",
      "Epoch 192: val_loss improved from 0.30213 to 0.30181, saving model to ./model_weights2\\\n"
     ]
    },
    {
     "name": "stderr",
     "output_type": "stream",
     "text": [
      "WARNING:absl:Found untraced functions such as _jit_compiled_convolution_op, _jit_compiled_convolution_op, _jit_compiled_convolution_op, _jit_compiled_convolution_op, _jit_compiled_convolution_op while saving (showing 5 of 14). These functions will not be directly callable after loading.\n"
     ]
    },
    {
     "name": "stdout",
     "output_type": "stream",
     "text": [
      "INFO:tensorflow:Assets written to: ./model_weights2\\assets\n"
     ]
    },
    {
     "name": "stderr",
     "output_type": "stream",
     "text": [
      "INFO:tensorflow:Assets written to: ./model_weights2\\assets\n"
     ]
    },
    {
     "name": "stdout",
     "output_type": "stream",
     "text": [
      "41/41 [==============================] - 26s 626ms/step - loss: 0.2053 - accuracy: 0.9276 - val_loss: 0.3018 - val_accuracy: 0.8808\n",
      "Epoch 193/200\n",
      "41/41 [==============================] - ETA: 0s - loss: 0.2063 - accuracy: 0.9273\n",
      "Epoch 193: val_loss improved from 0.30181 to 0.30110, saving model to ./model_weights2\\\n"
     ]
    },
    {
     "name": "stderr",
     "output_type": "stream",
     "text": [
      "WARNING:absl:Found untraced functions such as _jit_compiled_convolution_op, _jit_compiled_convolution_op, _jit_compiled_convolution_op, _jit_compiled_convolution_op, _jit_compiled_convolution_op while saving (showing 5 of 14). These functions will not be directly callable after loading.\n"
     ]
    },
    {
     "name": "stdout",
     "output_type": "stream",
     "text": [
      "INFO:tensorflow:Assets written to: ./model_weights2\\assets\n"
     ]
    },
    {
     "name": "stderr",
     "output_type": "stream",
     "text": [
      "INFO:tensorflow:Assets written to: ./model_weights2\\assets\n"
     ]
    },
    {
     "name": "stdout",
     "output_type": "stream",
     "text": [
      "41/41 [==============================] - 26s 624ms/step - loss: 0.2063 - accuracy: 0.9273 - val_loss: 0.3011 - val_accuracy: 0.8810\n",
      "Epoch 194/200\n",
      "41/41 [==============================] - ETA: 0s - loss: 0.2073 - accuracy: 0.9267\n",
      "Epoch 194: val_loss did not improve from 0.30110\n",
      "41/41 [==============================] - 19s 474ms/step - loss: 0.2073 - accuracy: 0.9267 - val_loss: 0.3029 - val_accuracy: 0.8810\n",
      "Epoch 195/200\n",
      "41/41 [==============================] - ETA: 0s - loss: 0.2055 - accuracy: 0.9276\n",
      "Epoch 195: val_loss improved from 0.30110 to 0.30004, saving model to ./model_weights2\\\n"
     ]
    },
    {
     "name": "stderr",
     "output_type": "stream",
     "text": [
      "WARNING:absl:Found untraced functions such as _jit_compiled_convolution_op, _jit_compiled_convolution_op, _jit_compiled_convolution_op, _jit_compiled_convolution_op, _jit_compiled_convolution_op while saving (showing 5 of 14). These functions will not be directly callable after loading.\n"
     ]
    },
    {
     "name": "stdout",
     "output_type": "stream",
     "text": [
      "INFO:tensorflow:Assets written to: ./model_weights2\\assets\n"
     ]
    },
    {
     "name": "stderr",
     "output_type": "stream",
     "text": [
      "INFO:tensorflow:Assets written to: ./model_weights2\\assets\n"
     ]
    },
    {
     "name": "stdout",
     "output_type": "stream",
     "text": [
      "41/41 [==============================] - 27s 654ms/step - loss: 0.2055 - accuracy: 0.9276 - val_loss: 0.3000 - val_accuracy: 0.8814\n"
     ]
    }
   ],
   "source": [
    "model_mnist_padded.compile(optimizer = tf.keras.optimizers.Adam(learning_rate=1e-6), loss = 'binary_crossentropy', \n",
    "                    metrics = 'accuracy')\n",
    "hist_padded2 = model_mnist_padded.fit(x = fieldMNIST_train_padded, y = targetMNIST_train, \n",
    "                                    validation_data=(fieldMNIST_val_padded, targetMNIST_val), \n",
    "                                    batch_size = 10, epochs = total_epoch, \n",
    "                                    callbacks = [EarlyStopping(monitor='loss',patience=3), \n",
    "                                                tf.keras.callbacks.ModelCheckpoint(\"./model_weights2/\", monitor=\"val_loss\", mode=\"min\", \n",
    "                                                                                   save_best_only=True, verbose=1, overwrite=True)])"
   ]
  },
  {
   "cell_type": "code",
   "execution_count": 40,
   "metadata": {},
   "outputs": [],
   "source": [
    "model_mnist_padded.save('unet_cross_entropy.h5', overwrite=True)\n",
    "\n",
    "trained_model_cross_entropy = load_model('unet_cross_entropy.h5')"
   ]
  },
  {
   "cell_type": "code",
   "execution_count": 41,
   "metadata": {},
   "outputs": [
    {
     "name": "stdout",
     "output_type": "stream",
     "text": [
      "4/4 [==============================] - 1s 161ms/step\n"
     ]
    }
   ],
   "source": [
    "pred3 = trained_model_cross_entropy.predict(fieldMNIST_test_padded)"
   ]
  },
  {
   "cell_type": "code",
   "execution_count": 43,
   "metadata": {},
   "outputs": [
    {
     "data": {
      "image/png": "[encoded data removed]",
      "text/plain": [
       "<Figure size 1728x1728 with 3 Axes>"
      ]
     },
     "metadata": {
      "needs_background": "light"
     },
     "output_type": "display_data"
    }
   ],
   "source": [
    "fig, axs = plt.subplots(1, 3, figsize=(24, 24))\n",
    "\n",
    "axs[0].matshow(fieldMNIST_test[50])\n",
    "axs[1].matshow(targetMNIST_test[50])\n",
    "axs[2].matshow(pred3[50])\n",
    "\n",
    "plt.show()"
   ]
  },
  {
   "cell_type": "code",
   "execution_count": 42,
   "metadata": {},
   "outputs": [
    {
     "name": "stdout",
     "output_type": "stream",
     "text": [
      "4/4 [==============================] - 1s 160ms/step - loss: 0.3059 - accuracy: 0.8796\n"
     ]
    },
    {
     "data": {
      "text/plain": [
       "[0.3059220314025879, 0.8795655369758606]"
      ]
     },
     "execution_count": 42,
     "metadata": {},
     "output_type": "execute_result"
    }
   ],
   "source": [
    "trained_model_cross_entropy.evaluate(fieldMNIST_test_padded, targetMNIST_test)"
   ]
  },
  {
   "cell_type": "code",
   "execution_count": 45,
   "metadata": {},
   "outputs": [
    {
     "data": {
      "image/png": "[encoded data removed]",
      "text/plain": [
       "<Figure size 432x288 with 1 Axes>"
      ]
     },
     "metadata": {
      "needs_background": "light"
     },
     "output_type": "display_data"
    }
   ],
   "source": [
    "loss = hist_padded.history['loss']\n",
    "val_loss = hist_padded.history['val_loss']\n",
    "epochs = range(1, len(loss) + 1)\n",
    "plt.plot(epochs, loss, 'y', label='Training loss')\n",
    "plt.plot(epochs, val_loss, 'r', label='Validation loss')\n",
    "plt.title('Training and validation loss')\n",
    "plt.xlabel('Epochs')\n",
    "plt.ylabel('Loss')\n",
    "plt.legend()\n",
    "plt.show()"
   ]
  },
  {
   "cell_type": "code",
   "execution_count": null,
   "metadata": {},
   "outputs": [
    {
     "data": {
      "image/png": "[encoded data removed]",
      "text/plain": [
       "<Figure size 432x288 with 1 Axes>"
      ]
     },
     "metadata": {},
     "output_type": "display_data"
    }
   ],
   "source": [
    "acc = hist_padded.history['accuracy']\n",
    "val_acc = hist_padded.history['val_accuracy']\n",
    "\n",
    "plt.plot(epochs, acc, 'y', label='Training acc')\n",
    "plt.plot(epochs, val_acc, 'r', label='Validation acc')\n",
    "plt.title('Training and validation accuracy')\n",
    "plt.xlabel('Epochs')\n",
    "plt.ylabel('Accuracy')\n",
    "plt.legend()\n",
    "plt.show()"
   ]
  },
  {
   "cell_type": "code",
   "execution_count": null,
   "metadata": {},
   "outputs": [],
   "source": []
  }
 ],
 "metadata": {
  "kernelspec": {
   "display_name": "Python 3",
   "language": "python",
   "name": "python3"
  },
  "language_info": {
   "codemirror_mode": {
    "name": "ipython",
    "version": 3
   },
   "file_extension": ".py",
   "mimetype": "text/x-python",
   "name": "python",
   "nbconvert_exporter": "python",
   "pygments_lexer": "ipython3",
   "version": "3.10.4"
  }
 },
 "nbformat": 4,
 "nbformat_minor": 2
}
